{
 "cells": [
  {
   "cell_type": "markdown",
   "id": "0a71775f",
   "metadata": {},
   "source": [
    "# Business Problem"
   ]
  },
  {
   "cell_type": "markdown",
   "id": "979e1579",
   "metadata": {},
   "source": [
    "The Tanzania Development Trust is a UK charitable organization operating within the country of Tanzania since 1975.\n",
    "\n",
    "They focus on development in rural Tanzania, aiming to support small projects in the poorest parts of the country where one of their priority areas of funding is clean water. Their stated water project involves boreholing and rope pump installation in areas with limited access to clean water, currently located in the regions of Kagera and Kigoma in the northwest of the country.\n",
    "\n",
    "A new benefactor wants to expand the project not only geographically to more of the country, but in the scope of repairing existing pumps before they fail. I have been tasked with developing a model to predict the operating condition of a current waterpoint: functional, needs repair, or non-functional.\n",
    "\n",
    "The main objective is to identify waterpoints that are in need of repair. [Research shows](https://sswm.info/entrepreneurship-resource/developing-impactful-businesses/maintenance-services-for-rural-water-pumps) that it is much less expensive to repair and rehabilitate a waterpoint, as well as being more protective of the water resources in the country. \n",
    "The secondary objective is to identify concentrations of non-functioning water points that may be an eligible location for a new installation.\n",
    "______________________\n",
    "The data provided for modeling was collected between March 2011 and March 2013, and contains the information for 59,400 water points "
   ]
  },
  {
   "cell_type": "markdown",
   "id": "ff431296",
   "metadata": {},
   "source": [
    "# Imports"
   ]
  },
  {
   "cell_type": "code",
   "execution_count": 1,
   "id": "ac7e0ce4",
   "metadata": {
    "ExecuteTime": {
     "end_time": "2022-01-24T18:34:33.590079Z",
     "start_time": "2022-01-24T18:34:33.047461Z"
    }
   },
   "outputs": [],
   "source": [
    "import pandas as pd\n",
    "import numpy as np"
   ]
  },
  {
   "cell_type": "code",
   "execution_count": 2,
   "id": "56c8e212",
   "metadata": {
    "ExecuteTime": {
     "end_time": "2022-01-24T18:34:34.129661Z",
     "start_time": "2022-01-24T18:34:33.592074Z"
    },
    "scrolled": true
   },
   "outputs": [
    {
     "name": "stdout",
     "output_type": "stream",
     "text": [
      "<class 'pandas.core.frame.DataFrame'>\n",
      "RangeIndex: 59400 entries, 0 to 59399\n",
      "Data columns (total 2 columns):\n",
      " #   Column        Non-Null Count  Dtype \n",
      "---  ------        --------------  ----- \n",
      " 0   id            59400 non-null  int64 \n",
      " 1   status_group  59400 non-null  object\n",
      "dtypes: int64(1), object(1)\n",
      "memory usage: 928.2+ KB\n"
     ]
    },
    {
     "data": {
      "text/plain": [
       "None"
      ]
     },
     "metadata": {},
     "output_type": "display_data"
    },
    {
     "name": "stdout",
     "output_type": "stream",
     "text": [
      "<class 'pandas.core.frame.DataFrame'>\n",
      "RangeIndex: 59400 entries, 0 to 59399\n",
      "Data columns (total 40 columns):\n",
      " #   Column                 Non-Null Count  Dtype  \n",
      "---  ------                 --------------  -----  \n",
      " 0   id                     59400 non-null  int64  \n",
      " 1   amount_tsh             59400 non-null  float64\n",
      " 2   date_recorded          59400 non-null  object \n",
      " 3   funder                 55765 non-null  object \n",
      " 4   gps_height             59400 non-null  int64  \n",
      " 5   installer              55745 non-null  object \n",
      " 6   longitude              59400 non-null  float64\n",
      " 7   latitude               59400 non-null  float64\n",
      " 8   wpt_name               59400 non-null  object \n",
      " 9   num_private            59400 non-null  int64  \n",
      " 10  basin                  59400 non-null  object \n",
      " 11  subvillage             59029 non-null  object \n",
      " 12  region                 59400 non-null  object \n",
      " 13  region_code            59400 non-null  int64  \n",
      " 14  district_code          59400 non-null  int64  \n",
      " 15  lga                    59400 non-null  object \n",
      " 16  ward                   59400 non-null  object \n",
      " 17  population             59400 non-null  int64  \n",
      " 18  public_meeting         56066 non-null  object \n",
      " 19  recorded_by            59400 non-null  object \n",
      " 20  scheme_management      55523 non-null  object \n",
      " 21  scheme_name            31234 non-null  object \n",
      " 22  permit                 56344 non-null  object \n",
      " 23  construction_year      59400 non-null  int64  \n",
      " 24  extraction_type        59400 non-null  object \n",
      " 25  extraction_type_group  59400 non-null  object \n",
      " 26  extraction_type_class  59400 non-null  object \n",
      " 27  management             59400 non-null  object \n",
      " 28  management_group       59400 non-null  object \n",
      " 29  payment                59400 non-null  object \n",
      " 30  payment_type           59400 non-null  object \n",
      " 31  water_quality          59400 non-null  object \n",
      " 32  quality_group          59400 non-null  object \n",
      " 33  quantity               59400 non-null  object \n",
      " 34  quantity_group         59400 non-null  object \n",
      " 35  source                 59400 non-null  object \n",
      " 36  source_type            59400 non-null  object \n",
      " 37  source_class           59400 non-null  object \n",
      " 38  waterpoint_type        59400 non-null  object \n",
      " 39  waterpoint_type_group  59400 non-null  object \n",
      "dtypes: float64(3), int64(7), object(30)\n",
      "memory usage: 18.1+ MB\n",
      "None\n"
     ]
    }
   ],
   "source": [
    "# import training data and target\n",
    "raw_data = pd.read_csv('data/training_data.csv')\n",
    "raw_target = pd.read_csv('data/training_target.csv')\n",
    "\n",
    "display(raw_target.info())\n",
    "print(raw_data.info())"
   ]
  },
  {
   "cell_type": "markdown",
   "id": "346fa101",
   "metadata": {},
   "source": [
    "Create a raw dataframe with merged data and target. We will use this df during initial EDA so we can compare feature relationships with target, and so we can understand and deal with null values"
   ]
  },
  {
   "cell_type": "code",
   "execution_count": 3,
   "id": "d1dfaee1",
   "metadata": {
    "ExecuteTime": {
     "end_time": "2022-01-24T18:34:34.336141Z",
     "start_time": "2022-01-24T18:34:34.132653Z"
    }
   },
   "outputs": [],
   "source": [
    "raw_df = pd.merge(raw_data, raw_target, on='id')"
   ]
  },
  {
   "cell_type": "markdown",
   "id": "9cec82c3",
   "metadata": {},
   "source": [
    "The dataset for training includes 59,400 entries with 39 total features, a unique identifier, and a target label."
   ]
  },
  {
   "cell_type": "code",
   "execution_count": 4,
   "id": "97ada609",
   "metadata": {
    "ExecuteTime": {
     "end_time": "2022-01-24T18:34:34.368057Z",
     "start_time": "2022-01-24T18:34:34.338137Z"
    }
   },
   "outputs": [
    {
     "data": {
      "text/html": [
       "<div>\n",
       "<style scoped>\n",
       "    .dataframe tbody tr th:only-of-type {\n",
       "        vertical-align: middle;\n",
       "    }\n",
       "\n",
       "    .dataframe tbody tr th {\n",
       "        vertical-align: top;\n",
       "    }\n",
       "\n",
       "    .dataframe thead th {\n",
       "        text-align: right;\n",
       "    }\n",
       "</style>\n",
       "<table border=\"1\" class=\"dataframe\">\n",
       "  <thead>\n",
       "    <tr style=\"text-align: right;\">\n",
       "      <th></th>\n",
       "      <th>status_group</th>\n",
       "      <th>percent</th>\n",
       "    </tr>\n",
       "  </thead>\n",
       "  <tbody>\n",
       "    <tr>\n",
       "      <th>functional</th>\n",
       "      <td>32259</td>\n",
       "      <td>54.3</td>\n",
       "    </tr>\n",
       "    <tr>\n",
       "      <th>non functional</th>\n",
       "      <td>22824</td>\n",
       "      <td>38.4</td>\n",
       "    </tr>\n",
       "    <tr>\n",
       "      <th>functional needs repair</th>\n",
       "      <td>4317</td>\n",
       "      <td>7.3</td>\n",
       "    </tr>\n",
       "  </tbody>\n",
       "</table>\n",
       "</div>"
      ],
      "text/plain": [
       "                         status_group  percent\n",
       "functional                      32259     54.3\n",
       "non functional                  22824     38.4\n",
       "functional needs repair          4317      7.3"
      ]
     },
     "execution_count": 4,
     "metadata": {},
     "output_type": "execute_result"
    }
   ],
   "source": [
    "status_values = pd.DataFrame(raw_df.status_group.value_counts())\n",
    "status_values['percent'] = round(raw_df.status_group.value_counts(normalize=True) * 100, 1)\n",
    "status_values"
   ]
  },
  {
   "cell_type": "markdown",
   "id": "9ce9e137",
   "metadata": {},
   "source": [
    "This is a ternary classification problem. The three possible values are:\n",
    "- functional (F)\n",
    "- non functional (NF)\n",
    "- functional needs repair (FR)\n",
    "\n",
    "Value counts show that our dataset is not balanced with respect to the label values. Only 7.3% of pumps are classified as functional needs repair, while 54.3% are functional and 38.4% are non functional. We will need to keep this imbalance in mind when modeling.\n",
    "_________\n",
    "Before any modeling can occur we must check and deal with null values\n"
   ]
  },
  {
   "cell_type": "markdown",
   "id": "7a1b0deb",
   "metadata": {},
   "source": [
    "# Null Checks"
   ]
  },
  {
   "cell_type": "code",
   "execution_count": 5,
   "id": "968a1033",
   "metadata": {
    "ExecuteTime": {
     "end_time": "2022-01-24T18:34:34.461812Z",
     "start_time": "2022-01-24T18:34:34.370052Z"
    }
   },
   "outputs": [
    {
     "data": {
      "text/html": [
       "<div>\n",
       "<style scoped>\n",
       "    .dataframe tbody tr th:only-of-type {\n",
       "        vertical-align: middle;\n",
       "    }\n",
       "\n",
       "    .dataframe tbody tr th {\n",
       "        vertical-align: top;\n",
       "    }\n",
       "\n",
       "    .dataframe thead th {\n",
       "        text-align: right;\n",
       "    }\n",
       "</style>\n",
       "<table border=\"1\" class=\"dataframe\">\n",
       "  <thead>\n",
       "    <tr style=\"text-align: right;\">\n",
       "      <th></th>\n",
       "      <th>null_count</th>\n",
       "      <th>percent_of_data</th>\n",
       "    </tr>\n",
       "  </thead>\n",
       "  <tbody>\n",
       "    <tr>\n",
       "      <th>scheme_name</th>\n",
       "      <td>28166</td>\n",
       "      <td>47.4</td>\n",
       "    </tr>\n",
       "    <tr>\n",
       "      <th>scheme_management</th>\n",
       "      <td>3877</td>\n",
       "      <td>6.5</td>\n",
       "    </tr>\n",
       "    <tr>\n",
       "      <th>installer</th>\n",
       "      <td>3655</td>\n",
       "      <td>6.2</td>\n",
       "    </tr>\n",
       "    <tr>\n",
       "      <th>funder</th>\n",
       "      <td>3635</td>\n",
       "      <td>6.1</td>\n",
       "    </tr>\n",
       "    <tr>\n",
       "      <th>public_meeting</th>\n",
       "      <td>3334</td>\n",
       "      <td>5.6</td>\n",
       "    </tr>\n",
       "    <tr>\n",
       "      <th>permit</th>\n",
       "      <td>3056</td>\n",
       "      <td>5.1</td>\n",
       "    </tr>\n",
       "    <tr>\n",
       "      <th>subvillage</th>\n",
       "      <td>371</td>\n",
       "      <td>0.6</td>\n",
       "    </tr>\n",
       "  </tbody>\n",
       "</table>\n",
       "</div>"
      ],
      "text/plain": [
       "                   null_count  percent_of_data\n",
       "scheme_name             28166             47.4\n",
       "scheme_management        3877              6.5\n",
       "installer                3655              6.2\n",
       "funder                   3635              6.1\n",
       "public_meeting           3334              5.6\n",
       "permit                   3056              5.1\n",
       "subvillage                371              0.6"
      ]
     },
     "execution_count": 5,
     "metadata": {},
     "output_type": "execute_result"
    }
   ],
   "source": [
    "null_checks = pd.DataFrame(data=raw_df.isna().sum(),\n",
    "                          columns=['null_count'])\n",
    "null_checks['percent_of_data'] = round((null_checks.null_count / len(raw_data)) * 100, 1)\n",
    "null_checks = null_checks[null_checks.percent_of_data > 0.1]\n",
    "null_checks.sort_values('percent_of_data', ascending=False, inplace=True)\n",
    "null_checks"
   ]
  },
  {
   "cell_type": "markdown",
   "id": "1fd4b189",
   "metadata": {},
   "source": [
    "There are 7 features with null values in our dataset, and we can what that number of nulls is by percent of total available data. \n",
    "______\n",
    "All of the features that contain null values are object types and will need to be converted. Before conversion we will need to address the null values."
   ]
  },
  {
   "cell_type": "markdown",
   "id": "b25fd29d",
   "metadata": {
    "heading_collapsed": true
   },
   "source": [
    "## subvillage"
   ]
  },
  {
   "cell_type": "code",
   "execution_count": 6,
   "id": "3734075a",
   "metadata": {
    "ExecuteTime": {
     "end_time": "2022-01-24T18:34:34.508688Z",
     "start_time": "2022-01-24T18:34:34.463806Z"
    },
    "hidden": true
   },
   "outputs": [
    {
     "data": {
      "text/plain": [
       "functional                 55.26\n",
       "non functional             44.47\n",
       "functional needs repair     0.27\n",
       "Name: status_group, dtype: float64"
      ]
     },
     "execution_count": 6,
     "metadata": {},
     "output_type": "execute_result"
    }
   ],
   "source": [
    "subvillage_nans = raw_df[raw_df.subvillage.isnull()]\n",
    "round(subvillage_nans.status_group.value_counts(normalize=True) * 100, 2)"
   ]
  },
  {
   "cell_type": "markdown",
   "id": "e4db7a1d",
   "metadata": {
    "hidden": true
   },
   "source": [
    "The null values in subvillage represent 0.6% of our total data. The distribution of the target label is close to the whole dataset"
   ]
  },
  {
   "cell_type": "code",
   "execution_count": 7,
   "id": "cce8781d",
   "metadata": {
    "ExecuteTime": {
     "end_time": "2022-01-24T18:34:34.524646Z",
     "start_time": "2022-01-24T18:34:34.511681Z"
    },
    "hidden": true
   },
   "outputs": [
    {
     "data": {
      "text/plain": [
       "Dodoma    361\n",
       "Mwanza     10\n",
       "Name: region, dtype: int64"
      ]
     },
     "execution_count": 7,
     "metadata": {},
     "output_type": "execute_result"
    }
   ],
   "source": [
    "subvillage_nans.region.value_counts()"
   ]
  },
  {
   "cell_type": "markdown",
   "id": "9ec83bea",
   "metadata": {
    "hidden": true
   },
   "source": [
    "All but 10 of our subvillage nan's come from the region of Dodoma, the rest from Mwanza. Lets look at the subvillage distribution of those regions from the whole dataset"
   ]
  },
  {
   "cell_type": "code",
   "execution_count": 8,
   "id": "e564ac0d",
   "metadata": {
    "ExecuteTime": {
     "end_time": "2022-01-24T18:34:34.562546Z",
     "start_time": "2022-01-24T18:34:34.526640Z"
    },
    "hidden": true,
    "scrolled": true
   },
   "outputs": [
    {
     "data": {
      "text/plain": [
       "Kawawa         54\n",
       "Shuleni        43\n",
       "Nyerere        35\n",
       "Azimio         34\n",
       "Majengo        32\n",
       "               ..\n",
       "Foye            1\n",
       "Mtatangwe       1\n",
       "Makao Mapya     1\n",
       "Soya Mjini      1\n",
       "Mgomwa          1\n",
       "Name: subvillage, Length: 705, dtype: int64"
      ]
     },
     "execution_count": 8,
     "metadata": {},
     "output_type": "execute_result"
    }
   ],
   "source": [
    "raw_df[raw_df['region'] == 'Dodoma'].subvillage.value_counts()"
   ]
  },
  {
   "cell_type": "code",
   "execution_count": 9,
   "id": "24901805",
   "metadata": {
    "ExecuteTime": {
     "end_time": "2022-01-24T18:34:34.587481Z",
     "start_time": "2022-01-24T18:34:34.566536Z"
    },
    "hidden": true,
    "scrolled": true
   },
   "outputs": [
    {
     "data": {
      "text/plain": [
       "1                     132\n",
       "Madukani               52\n",
       "Bujingwa               25\n",
       "Shuleni                19\n",
       "Matale                 18\n",
       "                     ... \n",
       "Bukalo                  1\n",
       "Nyambona                1\n",
       "Kabaganda B             1\n",
       "Bulyahilu Center B      1\n",
       "Mwambogwa               1\n",
       "Name: subvillage, Length: 1507, dtype: int64"
      ]
     },
     "execution_count": 9,
     "metadata": {},
     "output_type": "execute_result"
    }
   ],
   "source": [
    "raw_df[raw_df['region'] == 'Mwanza'].subvillage.value_counts()"
   ]
  },
  {
   "cell_type": "markdown",
   "id": "0fe14edf",
   "metadata": {
    "hidden": true
   },
   "source": [
    "There are no average or overwhelmingly dominant subvillages that we could assign the null values to. It's not clear if we will use subvillage in modeling, so we will change null values to 'Other'"
   ]
  },
  {
   "cell_type": "code",
   "execution_count": 10,
   "id": "4ad9a891",
   "metadata": {
    "ExecuteTime": {
     "end_time": "2022-01-24T18:34:34.619397Z",
     "start_time": "2022-01-24T18:34:34.590472Z"
    },
    "hidden": true
   },
   "outputs": [],
   "source": [
    "raw_df['subvillage'].fillna(value='Other', inplace=True)"
   ]
  },
  {
   "cell_type": "markdown",
   "id": "4601f6e8",
   "metadata": {
    "heading_collapsed": true
   },
   "source": [
    "## permit"
   ]
  },
  {
   "cell_type": "code",
   "execution_count": 11,
   "id": "96a1c9cb",
   "metadata": {
    "ExecuteTime": {
     "end_time": "2022-01-24T18:34:34.650316Z",
     "start_time": "2022-01-24T18:34:34.621392Z"
    },
    "hidden": true
   },
   "outputs": [
    {
     "data": {
      "text/plain": [
       "functional                 54.74\n",
       "non functional             35.44\n",
       "functional needs repair     9.82\n",
       "Name: status_group, dtype: float64"
      ]
     },
     "execution_count": 11,
     "metadata": {},
     "output_type": "execute_result"
    }
   ],
   "source": [
    "permit_nans = raw_df[raw_df.permit.isnull()]\n",
    "permit_nans.reset_index(drop=True, inplace=True)\n",
    "round(permit_nans.status_group.value_counts(normalize=True) * 100, 2)"
   ]
  },
  {
   "cell_type": "markdown",
   "id": "0d66e0f6",
   "metadata": {
    "hidden": true
   },
   "source": [
    "5% of our dataset have no value for permit. Distribution of the target label is approximately the same as the whole dataset."
   ]
  },
  {
   "cell_type": "code",
   "execution_count": 12,
   "id": "8d96be1f",
   "metadata": {
    "ExecuteTime": {
     "end_time": "2022-01-24T18:34:34.681233Z",
     "start_time": "2022-01-24T18:34:34.660289Z"
    },
    "hidden": true
   },
   "outputs": [
    {
     "data": {
      "text/plain": [
       "True     0.68955\n",
       "False    0.31045\n",
       "Name: permit, dtype: float64"
      ]
     },
     "execution_count": 12,
     "metadata": {},
     "output_type": "execute_result"
    }
   ],
   "source": [
    "permit_distribution = raw_df.permit.value_counts(normalize=True)\n",
    "permit_distribution"
   ]
  },
  {
   "cell_type": "markdown",
   "id": "447215f0",
   "metadata": {
    "hidden": true
   },
   "source": [
    "Per the data documentation, the permit feature is if the water point is permitted or not. Data we do have for this feature show it's about 70/30 in favor of permitted.\n",
    "\n",
    "We will randomly fill these 3056 missing datapoints with true/false in the same ratio we found in our entire dataset."
   ]
  },
  {
   "cell_type": "code",
   "execution_count": 13,
   "id": "178ccf26",
   "metadata": {
    "ExecuteTime": {
     "end_time": "2022-01-24T18:34:34.712154Z",
     "start_time": "2022-01-24T18:34:34.683230Z"
    },
    "hidden": true
   },
   "outputs": [],
   "source": [
    "raw_df['permit'] = raw_df['permit'].fillna(pd.Series(np.random.choice([True, False],\n",
    "                                                       p=list(permit_distribution),\n",
    "                                                       size=len(raw_df))))"
   ]
  },
  {
   "cell_type": "markdown",
   "id": "7d40001b",
   "metadata": {
    "heading_collapsed": true
   },
   "source": [
    "## public_meeting"
   ]
  },
  {
   "cell_type": "code",
   "execution_count": 14,
   "id": "decb1706",
   "metadata": {
    "ExecuteTime": {
     "end_time": "2022-01-24T18:34:34.743072Z",
     "start_time": "2022-01-24T18:34:34.713151Z"
    },
    "hidden": true
   },
   "outputs": [
    {
     "data": {
      "text/plain": [
       "functional                 50.33\n",
       "non functional             44.99\n",
       "functional needs repair     4.68\n",
       "Name: status_group, dtype: float64"
      ]
     },
     "execution_count": 14,
     "metadata": {},
     "output_type": "execute_result"
    }
   ],
   "source": [
    "public_meeting_nans = raw_df[raw_df.public_meeting.isnull()]\n",
    "public_meeting_nans.reset_index(drop=True, inplace=True)\n",
    "round(public_meeting_nans.status_group.value_counts(normalize=True) * 100, 2)"
   ]
  },
  {
   "cell_type": "markdown",
   "id": "88b372f3",
   "metadata": {
    "hidden": true
   },
   "source": [
    "5.6% of our dataset has no value for public_meeting. Distribution of the target label is approximately the same as the whole dataset."
   ]
  },
  {
   "cell_type": "code",
   "execution_count": 15,
   "id": "f0c98610",
   "metadata": {
    "ExecuteTime": {
     "end_time": "2022-01-24T18:34:34.759030Z",
     "start_time": "2022-01-24T18:34:34.746065Z"
    },
    "hidden": true
   },
   "outputs": [
    {
     "data": {
      "text/plain": [
       "True     0.909838\n",
       "False    0.090162\n",
       "Name: public_meeting, dtype: float64"
      ]
     },
     "execution_count": 15,
     "metadata": {},
     "output_type": "execute_result"
    }
   ],
   "source": [
    "meeting_distribution = raw_df.public_meeting.value_counts(normalize=True)\n",
    "meeting_distribution"
   ]
  },
  {
   "cell_type": "markdown",
   "id": "2ea3a170",
   "metadata": {
    "hidden": true
   },
   "source": [
    "The public meeting feature is a boolean that is over 90% true for data we do have. We will fill null values in the same percentages."
   ]
  },
  {
   "cell_type": "code",
   "execution_count": 16,
   "id": "132159f9",
   "metadata": {
    "ExecuteTime": {
     "end_time": "2022-01-24T18:34:34.790945Z",
     "start_time": "2022-01-24T18:34:34.761026Z"
    },
    "hidden": true
   },
   "outputs": [],
   "source": [
    "raw_df['public_meeting'] = raw_df['public_meeting'].fillna(\n",
    "    pd.Series(np.random.choice([True, False],\n",
    "                               p=list(meeting_distribution),\n",
    "                               size=len(raw_df))))"
   ]
  },
  {
   "cell_type": "markdown",
   "id": "32c5affc",
   "metadata": {
    "heading_collapsed": true
   },
   "source": [
    "## funder & installer"
   ]
  },
  {
   "cell_type": "markdown",
   "id": "b7c396de",
   "metadata": {
    "hidden": true
   },
   "source": [
    "The features 'funder' and 'installer' have almost the same number of null values; I am curious about the overlap of nulls."
   ]
  },
  {
   "cell_type": "code",
   "execution_count": 17,
   "id": "81cec924",
   "metadata": {
    "ExecuteTime": {
     "end_time": "2022-01-24T18:34:34.822862Z",
     "start_time": "2022-01-24T18:34:34.791943Z"
    },
    "hidden": true
   },
   "outputs": [
    {
     "data": {
      "text/plain": [
       "0.9854195323246218"
      ]
     },
     "execution_count": 17,
     "metadata": {},
     "output_type": "execute_result"
    }
   ],
   "source": [
    "# dividing the number of entries with null for both features by the smaller count\n",
    "len(raw_df[raw_df.funder.isnull() & raw_df.installer.isnull()]) / null_checks.null_count['funder']"
   ]
  },
  {
   "cell_type": "markdown",
   "id": "df890875",
   "metadata": {
    "hidden": true
   },
   "source": [
    "Over 98% of the null values for funder also contain null values for installer.\n",
    "________"
   ]
  },
  {
   "cell_type": "code",
   "execution_count": 18,
   "id": "6e9ec152",
   "metadata": {
    "ExecuteTime": {
     "end_time": "2022-01-24T18:34:34.854777Z",
     "start_time": "2022-01-24T18:34:34.825853Z"
    },
    "hidden": true
   },
   "outputs": [
    {
     "data": {
      "text/html": [
       "<div>\n",
       "<style scoped>\n",
       "    .dataframe tbody tr th:only-of-type {\n",
       "        vertical-align: middle;\n",
       "    }\n",
       "\n",
       "    .dataframe tbody tr th {\n",
       "        vertical-align: top;\n",
       "    }\n",
       "\n",
       "    .dataframe thead th {\n",
       "        text-align: right;\n",
       "    }\n",
       "</style>\n",
       "<table border=\"1\" class=\"dataframe\">\n",
       "  <thead>\n",
       "    <tr style=\"text-align: right;\">\n",
       "      <th></th>\n",
       "      <th>funder</th>\n",
       "    </tr>\n",
       "  </thead>\n",
       "  <tbody>\n",
       "    <tr>\n",
       "      <th>Government Of Tanzania</th>\n",
       "      <td>15.29</td>\n",
       "    </tr>\n",
       "    <tr>\n",
       "      <th>NaN</th>\n",
       "      <td>6.12</td>\n",
       "    </tr>\n",
       "    <tr>\n",
       "      <th>Danida</th>\n",
       "      <td>5.24</td>\n",
       "    </tr>\n",
       "    <tr>\n",
       "      <th>Hesawa</th>\n",
       "      <td>3.71</td>\n",
       "    </tr>\n",
       "    <tr>\n",
       "      <th>Rwssp</th>\n",
       "      <td>2.31</td>\n",
       "    </tr>\n",
       "    <tr>\n",
       "      <th>...</th>\n",
       "      <td>...</td>\n",
       "    </tr>\n",
       "    <tr>\n",
       "      <th>Rarymond Ekura</th>\n",
       "      <td>0.00</td>\n",
       "    </tr>\n",
       "    <tr>\n",
       "      <th>Justine Marwa</th>\n",
       "      <td>0.00</td>\n",
       "    </tr>\n",
       "    <tr>\n",
       "      <th>Municipal Council</th>\n",
       "      <td>0.00</td>\n",
       "    </tr>\n",
       "    <tr>\n",
       "      <th>Afdp</th>\n",
       "      <td>0.00</td>\n",
       "    </tr>\n",
       "    <tr>\n",
       "      <th>Samlo</th>\n",
       "      <td>0.00</td>\n",
       "    </tr>\n",
       "  </tbody>\n",
       "</table>\n",
       "<p>1898 rows × 1 columns</p>\n",
       "</div>"
      ],
      "text/plain": [
       "                        funder\n",
       "Government Of Tanzania   15.29\n",
       "NaN                       6.12\n",
       "Danida                    5.24\n",
       "Hesawa                    3.71\n",
       "Rwssp                     2.31\n",
       "...                        ...\n",
       "Rarymond Ekura            0.00\n",
       "Justine Marwa             0.00\n",
       "Municipal Council         0.00\n",
       "Afdp                      0.00\n",
       "Samlo                     0.00\n",
       "\n",
       "[1898 rows x 1 columns]"
      ]
     },
     "execution_count": 18,
     "metadata": {},
     "output_type": "execute_result"
    }
   ],
   "source": [
    "funder_df = pd.DataFrame(round(raw_df.funder.value_counts(normalize=True, dropna=False) * 100, 2))\n",
    "funder_df"
   ]
  },
  {
   "cell_type": "code",
   "execution_count": 19,
   "id": "9765e632",
   "metadata": {
    "ExecuteTime": {
     "end_time": "2022-01-24T18:34:34.869739Z",
     "start_time": "2022-01-24T18:34:34.855775Z"
    },
    "hidden": true
   },
   "outputs": [
    {
     "data": {
      "text/plain": [
       "funder    52.69\n",
       "dtype: float64"
      ]
     },
     "execution_count": 19,
     "metadata": {},
     "output_type": "execute_result"
    }
   ],
   "source": [
    "funder_df[funder_df.funder > 1.0].sum()\n"
   ]
  },
  {
   "cell_type": "markdown",
   "id": "6d8d0aec",
   "metadata": {
    "hidden": true
   },
   "source": [
    "Including null values, there were 1,898 distinct values for funder. Of that, 18 values (including null) have representative counts more than 1% of total data.\n",
    "\n",
    "Those 18 distinct values represent almost 53% of our total data. We will convert null values to 'Other'. An additional consideration is binning everything less than 1% total share of funder as 'Other' to reduce the unique value count."
   ]
  },
  {
   "cell_type": "code",
   "execution_count": 20,
   "id": "f463a7dc",
   "metadata": {
    "ExecuteTime": {
     "end_time": "2022-01-24T18:34:34.901657Z",
     "start_time": "2022-01-24T18:34:34.870736Z"
    },
    "hidden": true
   },
   "outputs": [
    {
     "data": {
      "text/html": [
       "<div>\n",
       "<style scoped>\n",
       "    .dataframe tbody tr th:only-of-type {\n",
       "        vertical-align: middle;\n",
       "    }\n",
       "\n",
       "    .dataframe tbody tr th {\n",
       "        vertical-align: top;\n",
       "    }\n",
       "\n",
       "    .dataframe thead th {\n",
       "        text-align: right;\n",
       "    }\n",
       "</style>\n",
       "<table border=\"1\" class=\"dataframe\">\n",
       "  <thead>\n",
       "    <tr style=\"text-align: right;\">\n",
       "      <th></th>\n",
       "      <th>installer</th>\n",
       "    </tr>\n",
       "  </thead>\n",
       "  <tbody>\n",
       "    <tr>\n",
       "      <th>DWE</th>\n",
       "      <td>29.30</td>\n",
       "    </tr>\n",
       "    <tr>\n",
       "      <th>NaN</th>\n",
       "      <td>6.15</td>\n",
       "    </tr>\n",
       "    <tr>\n",
       "      <th>Government</th>\n",
       "      <td>3.07</td>\n",
       "    </tr>\n",
       "    <tr>\n",
       "      <th>RWE</th>\n",
       "      <td>2.03</td>\n",
       "    </tr>\n",
       "    <tr>\n",
       "      <th>Commu</th>\n",
       "      <td>1.78</td>\n",
       "    </tr>\n",
       "    <tr>\n",
       "      <th>...</th>\n",
       "      <td>...</td>\n",
       "    </tr>\n",
       "    <tr>\n",
       "      <th>Wizara  ya maji</th>\n",
       "      <td>0.00</td>\n",
       "    </tr>\n",
       "    <tr>\n",
       "      <th>TWESS</th>\n",
       "      <td>0.00</td>\n",
       "    </tr>\n",
       "    <tr>\n",
       "      <th>Nasan workers</th>\n",
       "      <td>0.00</td>\n",
       "    </tr>\n",
       "    <tr>\n",
       "      <th>R</th>\n",
       "      <td>0.00</td>\n",
       "    </tr>\n",
       "    <tr>\n",
       "      <th>SELEPTA</th>\n",
       "      <td>0.00</td>\n",
       "    </tr>\n",
       "  </tbody>\n",
       "</table>\n",
       "<p>2146 rows × 1 columns</p>\n",
       "</div>"
      ],
      "text/plain": [
       "                 installer\n",
       "DWE                  29.30\n",
       "NaN                   6.15\n",
       "Government            3.07\n",
       "RWE                   2.03\n",
       "Commu                 1.78\n",
       "...                    ...\n",
       "Wizara  ya maji       0.00\n",
       "TWESS                 0.00\n",
       "Nasan workers         0.00\n",
       "R                     0.00\n",
       "SELEPTA               0.00\n",
       "\n",
       "[2146 rows x 1 columns]"
      ]
     },
     "execution_count": 20,
     "metadata": {},
     "output_type": "execute_result"
    }
   ],
   "source": [
    "installer_df = pd.DataFrame(round(raw_df.installer.value_counts(normalize=True, dropna=False) * 100, 2))\n",
    "installer_df"
   ]
  },
  {
   "cell_type": "code",
   "execution_count": 21,
   "id": "66211b0c",
   "metadata": {
    "ExecuteTime": {
     "end_time": "2022-01-24T18:34:34.917613Z",
     "start_time": "2022-01-24T18:34:34.902652Z"
    },
    "hidden": true
   },
   "outputs": [
    {
     "data": {
      "text/plain": [
       "installer    51.6\n",
       "dtype: float64"
      ]
     },
     "execution_count": 21,
     "metadata": {},
     "output_type": "execute_result"
    }
   ],
   "source": [
    "installer_df[installer_df.installer > 1.0].sum()"
   ]
  },
  {
   "cell_type": "markdown",
   "id": "ff3fb340",
   "metadata": {
    "hidden": true
   },
   "source": [
    "Similarly to funder, the installer feature is dominated by small share installers. Of the 2,146 distinct values for installer, 12 values (including null) have representative counts more than 1% of total data.\n",
    "\n",
    "Those 12 distinct values represent almost 52% of our total data. This is similar to the funder feature. We will also convert null values to 'Other', and will consider binning all installers with less than 1% total share of installer as 'Other' to reduce the unique value count. "
   ]
  },
  {
   "cell_type": "code",
   "execution_count": 22,
   "id": "8a0ed645",
   "metadata": {
    "ExecuteTime": {
     "end_time": "2022-01-24T18:34:34.933569Z",
     "start_time": "2022-01-24T18:34:34.919607Z"
    },
    "hidden": true
   },
   "outputs": [],
   "source": [
    "raw_df['funder'].fillna(value='Other', inplace=True)\n",
    "raw_df['installer'].fillna(value='Other', inplace=True)"
   ]
  },
  {
   "cell_type": "markdown",
   "id": "524b6190",
   "metadata": {
    "heading_collapsed": true
   },
   "source": [
    "## scheme_management"
   ]
  },
  {
   "cell_type": "code",
   "execution_count": 23,
   "id": "82cd1b09",
   "metadata": {
    "ExecuteTime": {
     "end_time": "2022-01-24T18:34:40.301870Z",
     "start_time": "2022-01-24T18:34:40.285913Z"
    },
    "hidden": true
   },
   "outputs": [
    {
     "data": {
      "text/plain": [
       "functional                 48.31\n",
       "non functional             45.94\n",
       "functional needs repair     5.75\n",
       "Name: status_group, dtype: float64"
      ]
     },
     "execution_count": 23,
     "metadata": {},
     "output_type": "execute_result"
    }
   ],
   "source": [
    "scheme_management_nans = raw_df[raw_df.scheme_management.isnull()]\n",
    "scheme_management_nans.reset_index(drop=True, inplace=True)\n",
    "round(scheme_management_nans.status_group.value_counts(normalize=True) * 100, 2)"
   ]
  },
  {
   "cell_type": "markdown",
   "id": "4e9769e6",
   "metadata": {
    "hidden": true
   },
   "source": [
    "6.5% of our data has no value for scheme_management. Distribution of the target data is approximately the same as the whole dataset."
   ]
  },
  {
   "cell_type": "markdown",
   "id": "e69fae7a",
   "metadata": {
    "hidden": true
   },
   "source": [
    "We will fill null values for scheme_management with other values from the feature in the same percentage. \n",
    "\n",
    "There was only one entry with the value of 'None', we will change that to 'Other'"
   ]
  },
  {
   "cell_type": "code",
   "execution_count": 29,
   "id": "ffc5b98f",
   "metadata": {
    "ExecuteTime": {
     "end_time": "2022-01-24T18:37:11.002714Z",
     "start_time": "2022-01-24T18:37:10.993710Z"
    },
    "hidden": true
   },
   "outputs": [],
   "source": [
    "raw_df.at[23603, 'scheme_management'] = 'Other'"
   ]
  },
  {
   "cell_type": "code",
   "execution_count": 37,
   "id": "e73cc0a7",
   "metadata": {
    "ExecuteTime": {
     "end_time": "2022-01-24T18:39:42.992853Z",
     "start_time": "2022-01-24T18:39:42.977866Z"
    },
    "hidden": true
   },
   "outputs": [
    {
     "data": {
      "text/html": [
       "<div>\n",
       "<style scoped>\n",
       "    .dataframe tbody tr th:only-of-type {\n",
       "        vertical-align: middle;\n",
       "    }\n",
       "\n",
       "    .dataframe tbody tr th {\n",
       "        vertical-align: top;\n",
       "    }\n",
       "\n",
       "    .dataframe thead th {\n",
       "        text-align: right;\n",
       "    }\n",
       "</style>\n",
       "<table border=\"1\" class=\"dataframe\">\n",
       "  <thead>\n",
       "    <tr style=\"text-align: right;\">\n",
       "      <th></th>\n",
       "      <th>scheme_management</th>\n",
       "    </tr>\n",
       "  </thead>\n",
       "  <tbody>\n",
       "    <tr>\n",
       "      <th>VWC</th>\n",
       "      <td>0.662662</td>\n",
       "    </tr>\n",
       "    <tr>\n",
       "      <th>WUG</th>\n",
       "      <td>0.093763</td>\n",
       "    </tr>\n",
       "    <tr>\n",
       "      <th>Water authority</th>\n",
       "      <td>0.056787</td>\n",
       "    </tr>\n",
       "    <tr>\n",
       "      <th>WUA</th>\n",
       "      <td>0.051924</td>\n",
       "    </tr>\n",
       "    <tr>\n",
       "      <th>Water Board</th>\n",
       "      <td>0.049493</td>\n",
       "    </tr>\n",
       "    <tr>\n",
       "      <th>Parastatal</th>\n",
       "      <td>0.030258</td>\n",
       "    </tr>\n",
       "    <tr>\n",
       "      <th>Private operator</th>\n",
       "      <td>0.019145</td>\n",
       "    </tr>\n",
       "    <tr>\n",
       "      <th>Company</th>\n",
       "      <td>0.019109</td>\n",
       "    </tr>\n",
       "    <tr>\n",
       "      <th>Other</th>\n",
       "      <td>0.013814</td>\n",
       "    </tr>\n",
       "    <tr>\n",
       "      <th>SWC</th>\n",
       "      <td>0.001747</td>\n",
       "    </tr>\n",
       "    <tr>\n",
       "      <th>Trust</th>\n",
       "      <td>0.001297</td>\n",
       "    </tr>\n",
       "  </tbody>\n",
       "</table>\n",
       "</div>"
      ],
      "text/plain": [
       "                  scheme_management\n",
       "VWC                        0.662662\n",
       "WUG                        0.093763\n",
       "Water authority            0.056787\n",
       "WUA                        0.051924\n",
       "Water Board                0.049493\n",
       "Parastatal                 0.030258\n",
       "Private operator           0.019145\n",
       "Company                    0.019109\n",
       "Other                      0.013814\n",
       "SWC                        0.001747\n",
       "Trust                      0.001297"
      ]
     },
     "execution_count": 37,
     "metadata": {},
     "output_type": "execute_result"
    }
   ],
   "source": [
    "scheme_management_list = pd.DataFrame(raw_df.scheme_management.value_counts(normalize=True))\n",
    "scheme_management_list\n",
    "# scheme_management_list['probabilities'] = scheme_management_list.scheme_management.astype('float64')"
   ]
  },
  {
   "cell_type": "code",
   "execution_count": 40,
   "id": "ee012747",
   "metadata": {
    "ExecuteTime": {
     "end_time": "2022-01-24T18:40:14.048009Z",
     "start_time": "2022-01-24T18:40:14.026039Z"
    },
    "hidden": true
   },
   "outputs": [],
   "source": [
    "raw_df['scheme_management'] = raw_df['scheme_management'].fillna(\n",
    "    pd.Series(np.random.choice(list(scheme_management_list.index),\n",
    "                               p=list(scheme_management_list.scheme_management),\n",
    "                               size=len(raw_df))))"
   ]
  },
  {
   "cell_type": "code",
   "execution_count": 58,
   "id": "2fd010ff",
   "metadata": {
    "ExecuteTime": {
     "end_time": "2022-01-24T18:57:24.938502Z",
     "start_time": "2022-01-24T18:57:24.923544Z"
    },
    "hidden": true
   },
   "outputs": [
    {
     "data": {
      "text/plain": [
       "VWC                 0.661835\n",
       "WUG                 0.093889\n",
       "Water authority     0.056751\n",
       "WUA                 0.052391\n",
       "Water Board         0.049529\n",
       "Parastatal          0.030202\n",
       "Company             0.019125\n",
       "Private operator    0.019040\n",
       "Other               0.014091\n",
       "SWC                 0.001852\n",
       "Trust               0.001296\n",
       "Name: scheme_management, dtype: float64"
      ]
     },
     "execution_count": 58,
     "metadata": {},
     "output_type": "execute_result"
    }
   ],
   "source": [
    "raw_df.scheme_management.value_counts(normalize=True)"
   ]
  },
  {
   "cell_type": "markdown",
   "id": "4f4a652a",
   "metadata": {},
   "source": [
    "## scheme_name"
   ]
  },
  {
   "cell_type": "code",
   "execution_count": 57,
   "id": "3bd8fdf3",
   "metadata": {
    "ExecuteTime": {
     "end_time": "2022-01-24T18:54:44.184805Z",
     "start_time": "2022-01-24T18:54:44.164859Z"
    }
   },
   "outputs": [
    {
     "data": {
      "text/plain": [
       "NaN                        0.474175\n",
       "K                          0.011481\n",
       "None                       0.010842\n",
       "Borehole                   0.009192\n",
       "Chalinze wate              0.006818\n",
       "                             ...   \n",
       "Visiga water supplly       0.000017\n",
       "Emanyata pipelines         0.000017\n",
       "Magundi water supply       0.000017\n",
       "Imalampaka water supply    0.000017\n",
       "Mtawanya                   0.000017\n",
       "Name: scheme_name, Length: 2697, dtype: float64"
      ]
     },
     "execution_count": 57,
     "metadata": {},
     "output_type": "execute_result"
    }
   ],
   "source": [
    "raw_df.scheme_name.value_counts(normalize=True, dropna=False)"
   ]
  },
  {
   "cell_type": "markdown",
   "id": "c012e91c",
   "metadata": {},
   "source": [
    "Almost half (47%) of the scheme_name feature contains no data, and the remaining data contains 2,697 distinct other features, none of which exceed 1% of the dataset. Lets look a little closer to see what else we can figure out."
   ]
  },
  {
   "cell_type": "code",
   "execution_count": 56,
   "id": "3aece90d",
   "metadata": {
    "ExecuteTime": {
     "end_time": "2022-01-24T18:54:01.119068Z",
     "start_time": "2022-01-24T18:54:01.100119Z"
    },
    "scrolled": true
   },
   "outputs": [
    {
     "data": {
      "text/html": [
       "<div>\n",
       "<style scoped>\n",
       "    .dataframe tbody tr th:only-of-type {\n",
       "        vertical-align: middle;\n",
       "    }\n",
       "\n",
       "    .dataframe tbody tr th {\n",
       "        vertical-align: top;\n",
       "    }\n",
       "\n",
       "    .dataframe thead th {\n",
       "        text-align: right;\n",
       "    }\n",
       "</style>\n",
       "<table border=\"1\" class=\"dataframe\">\n",
       "  <thead>\n",
       "    <tr style=\"text-align: right;\">\n",
       "      <th></th>\n",
       "      <th>scheme_name</th>\n",
       "    </tr>\n",
       "  </thead>\n",
       "  <tbody>\n",
       "    <tr>\n",
       "      <th>NaN</th>\n",
       "      <td>28166</td>\n",
       "    </tr>\n",
       "    <tr>\n",
       "      <th>K</th>\n",
       "      <td>682</td>\n",
       "    </tr>\n",
       "    <tr>\n",
       "      <th>None</th>\n",
       "      <td>644</td>\n",
       "    </tr>\n",
       "    <tr>\n",
       "      <th>Borehole</th>\n",
       "      <td>546</td>\n",
       "    </tr>\n",
       "    <tr>\n",
       "      <th>Chalinze wate</th>\n",
       "      <td>405</td>\n",
       "    </tr>\n",
       "    <tr>\n",
       "      <th>M</th>\n",
       "      <td>400</td>\n",
       "    </tr>\n",
       "    <tr>\n",
       "      <th>DANIDA</th>\n",
       "      <td>379</td>\n",
       "    </tr>\n",
       "    <tr>\n",
       "      <th>Government</th>\n",
       "      <td>320</td>\n",
       "    </tr>\n",
       "    <tr>\n",
       "      <th>Ngana water supplied scheme</th>\n",
       "      <td>270</td>\n",
       "    </tr>\n",
       "    <tr>\n",
       "      <th>wanging'ombe water supply s</th>\n",
       "      <td>261</td>\n",
       "    </tr>\n",
       "    <tr>\n",
       "      <th>wanging'ombe supply scheme</th>\n",
       "      <td>234</td>\n",
       "    </tr>\n",
       "    <tr>\n",
       "      <th>I</th>\n",
       "      <td>229</td>\n",
       "    </tr>\n",
       "    <tr>\n",
       "      <th>Bagamoyo wate</th>\n",
       "      <td>229</td>\n",
       "    </tr>\n",
       "    <tr>\n",
       "      <th>Uroki-Bomang'ombe water sup</th>\n",
       "      <td>209</td>\n",
       "    </tr>\n",
       "    <tr>\n",
       "      <th>N</th>\n",
       "      <td>204</td>\n",
       "    </tr>\n",
       "    <tr>\n",
       "      <th>Kirua kahe gravity water supply trust</th>\n",
       "      <td>193</td>\n",
       "    </tr>\n",
       "    <tr>\n",
       "      <th>Machumba estate pipe line</th>\n",
       "      <td>185</td>\n",
       "    </tr>\n",
       "    <tr>\n",
       "      <th>Makwale water supplied sche</th>\n",
       "      <td>166</td>\n",
       "    </tr>\n",
       "    <tr>\n",
       "      <th>Kijiji</th>\n",
       "      <td>161</td>\n",
       "    </tr>\n",
       "    <tr>\n",
       "      <th>S</th>\n",
       "      <td>154</td>\n",
       "    </tr>\n",
       "    <tr>\n",
       "      <th>Handeni Trunk Main(H</th>\n",
       "      <td>152</td>\n",
       "    </tr>\n",
       "    <tr>\n",
       "      <th>mtwango water supply scheme</th>\n",
       "      <td>152</td>\n",
       "    </tr>\n",
       "    <tr>\n",
       "      <th>Losaa-Kia water supply</th>\n",
       "      <td>152</td>\n",
       "    </tr>\n",
       "    <tr>\n",
       "      <th>Mkongoro Two</th>\n",
       "      <td>147</td>\n",
       "    </tr>\n",
       "    <tr>\n",
       "      <th>Roman</th>\n",
       "      <td>139</td>\n",
       "    </tr>\n",
       "    <tr>\n",
       "      <th>Mkongoro One</th>\n",
       "      <td>128</td>\n",
       "    </tr>\n",
       "    <tr>\n",
       "      <th>Maambreni gravity water supply</th>\n",
       "      <td>125</td>\n",
       "    </tr>\n",
       "    <tr>\n",
       "      <th>Lyamungo umbwe water supply</th>\n",
       "      <td>120</td>\n",
       "    </tr>\n",
       "    <tr>\n",
       "      <th>Kirua kahe pumping water trust</th>\n",
       "      <td>113</td>\n",
       "    </tr>\n",
       "    <tr>\n",
       "      <th>Nabaiye pipe line</th>\n",
       "      <td>107</td>\n",
       "    </tr>\n",
       "    <tr>\n",
       "      <th>Ki</th>\n",
       "      <td>107</td>\n",
       "    </tr>\n",
       "    <tr>\n",
       "      <th>Nasula gravity water supply</th>\n",
       "      <td>102</td>\n",
       "    </tr>\n",
       "    <tr>\n",
       "      <th>Sinyanga water supplied sch</th>\n",
       "      <td>100</td>\n",
       "    </tr>\n",
       "    <tr>\n",
       "      <th>Lyamungo-Umbwe water supply</th>\n",
       "      <td>92</td>\n",
       "    </tr>\n",
       "    <tr>\n",
       "      <th>upper Ruvu</th>\n",
       "      <td>91</td>\n",
       "    </tr>\n",
       "    <tr>\n",
       "      <th>Ikela Wa</th>\n",
       "      <td>90</td>\n",
       "    </tr>\n",
       "    <tr>\n",
       "      <th>Shallow well</th>\n",
       "      <td>89</td>\n",
       "    </tr>\n",
       "    <tr>\n",
       "      <th>Kidia kilemapunda</th>\n",
       "      <td>86</td>\n",
       "    </tr>\n",
       "    <tr>\n",
       "      <th>Mitema</th>\n",
       "      <td>86</td>\n",
       "    </tr>\n",
       "    <tr>\n",
       "      <th>imalinyi supply scheme</th>\n",
       "      <td>85</td>\n",
       "    </tr>\n",
       "    <tr>\n",
       "      <th>Mradi wa maji wa wino</th>\n",
       "      <td>84</td>\n",
       "    </tr>\n",
       "    <tr>\n",
       "      <th>Una mkolowoni</th>\n",
       "      <td>79</td>\n",
       "    </tr>\n",
       "    <tr>\n",
       "      <th>Olkokola pipe line</th>\n",
       "      <td>79</td>\n",
       "    </tr>\n",
       "    <tr>\n",
       "      <th>D</th>\n",
       "      <td>78</td>\n",
       "    </tr>\n",
       "    <tr>\n",
       "      <th>Mradi wa maji wa peramiho</th>\n",
       "      <td>78</td>\n",
       "    </tr>\n",
       "    <tr>\n",
       "      <th>Sinyanga  water supplied sc</th>\n",
       "      <td>77</td>\n",
       "    </tr>\n",
       "  </tbody>\n",
       "</table>\n",
       "</div>"
      ],
      "text/plain": [
       "                                       scheme_name\n",
       "NaN                                          28166\n",
       "K                                              682\n",
       "None                                           644\n",
       "Borehole                                       546\n",
       "Chalinze wate                                  405\n",
       "M                                              400\n",
       "DANIDA                                         379\n",
       "Government                                     320\n",
       "Ngana water supplied scheme                    270\n",
       "wanging'ombe water supply s                    261\n",
       "wanging'ombe supply scheme                     234\n",
       "I                                              229\n",
       "Bagamoyo wate                                  229\n",
       "Uroki-Bomang'ombe water sup                    209\n",
       "N                                              204\n",
       "Kirua kahe gravity water supply trust          193\n",
       "Machumba estate pipe line                      185\n",
       "Makwale water supplied sche                    166\n",
       "Kijiji                                         161\n",
       "S                                              154\n",
       "Handeni Trunk Main(H                           152\n",
       "mtwango water supply scheme                    152\n",
       "Losaa-Kia water supply                         152\n",
       "Mkongoro Two                                   147\n",
       "Roman                                          139\n",
       "Mkongoro One                                   128\n",
       "Maambreni gravity water supply                 125\n",
       "Lyamungo umbwe water supply                    120\n",
       "Kirua kahe pumping water trust                 113\n",
       "Nabaiye pipe line                              107\n",
       "Ki                                             107\n",
       "Nasula gravity water supply                    102\n",
       "Sinyanga water supplied sch                    100\n",
       "Lyamungo-Umbwe water supply                     92\n",
       "upper Ruvu                                      91\n",
       "Ikela Wa                                        90\n",
       "Shallow well                                    89\n",
       "Kidia kilemapunda                               86\n",
       "Mitema                                          86\n",
       "imalinyi supply scheme                          85\n",
       "Mradi wa maji wa wino                           84\n",
       "Una mkolowoni                                   79\n",
       "Olkokola pipe line                              79\n",
       "D                                               78\n",
       "Mradi wa maji wa peramiho                       78\n",
       "Sinyanga  water supplied sc                     77"
      ]
     },
     "execution_count": 56,
     "metadata": {},
     "output_type": "execute_result"
    }
   ],
   "source": [
    "scheme_name = pd.DataFrame(raw_df.scheme_name.value_counts(dropna=False))\n",
    "scheme_name[scheme_name.scheme_name > 75]"
   ]
  },
  {
   "cell_type": "markdown",
   "id": "3d492eaa",
   "metadata": {},
   "source": [
    "The scheme name, per the documentation, is the individual or group that actually operates the waterpoint. This is compared to the scheme management company, which oversees operation. When the data was collected, it looks like there was little organization with respect to this particular datapoint. Considering the there are no other patterns in the available names, and that we have the management data, we will drop this feature from our dataset."
   ]
  },
  {
   "cell_type": "code",
   "execution_count": 59,
   "id": "0b460410",
   "metadata": {
    "ExecuteTime": {
     "end_time": "2022-01-24T19:03:02.207348Z",
     "start_time": "2022-01-24T19:03:02.180391Z"
    }
   },
   "outputs": [],
   "source": [
    "raw_df.drop('scheme_name', axis=1, inplace=True)"
   ]
  },
  {
   "cell_type": "markdown",
   "id": "24a0dd36",
   "metadata": {},
   "source": [
    "# Exploring numerical data"
   ]
  },
  {
   "cell_type": "code",
   "execution_count": null,
   "id": "b198cc1b",
   "metadata": {},
   "outputs": [],
   "source": []
  },
  {
   "cell_type": "code",
   "execution_count": null,
   "id": "9efc5c4d",
   "metadata": {},
   "outputs": [],
   "source": []
  },
  {
   "cell_type": "code",
   "execution_count": null,
   "id": "151183e6",
   "metadata": {},
   "outputs": [],
   "source": []
  },
  {
   "cell_type": "code",
   "execution_count": null,
   "id": "dc7c7948",
   "metadata": {},
   "outputs": [],
   "source": []
  },
  {
   "cell_type": "markdown",
   "id": "5dda5f80",
   "metadata": {},
   "source": [
    "# Exploring extraction types"
   ]
  },
  {
   "cell_type": "code",
   "execution_count": null,
   "id": "1973025e",
   "metadata": {
    "scrolled": false
   },
   "outputs": [],
   "source": [
    "extraction_types = pd.DataFrame(raw_df.extraction_type.value_counts())\n",
    "extraction_types.columns = ['total_count']\n",
    "extraction_types['percent_of_total'] = round((extraction_types.total_count / len(raw_df)) * 100, 2)\n",
    "extraction_types['non-functional'] = raw_df[raw_df.status_group == 'non functional'].extraction_type.value_counts()\n",
    "extraction_types['non-functional_percent'] = round((extraction_types['non-functional'] / extraction_types.total_count) * 100, 2)\n",
    "extraction_types['needs_repair'] = raw_df[raw_df.status_group == 'functional needs repair'].extraction_type.value_counts()\n",
    "extraction_types.fillna(0.0, inplace=True)\n",
    "extraction_types['needs_repair'] = extraction_types['needs_repair'].astype('int')\n",
    "extraction_types['needs_repair_percent'] = round((extraction_types['needs_repair'] / extraction_types.total_count) * 100, 2)\n",
    "extraction_types"
   ]
  },
  {
   "cell_type": "code",
   "execution_count": null,
   "id": "e3542e2e",
   "metadata": {},
   "outputs": [],
   "source": []
  }
 ],
 "metadata": {
  "kernelspec": {
   "display_name": "Python 3 (ipykernel)",
   "language": "python",
   "name": "python3"
  },
  "language_info": {
   "codemirror_mode": {
    "name": "ipython",
    "version": 3
   },
   "file_extension": ".py",
   "mimetype": "text/x-python",
   "name": "python",
   "nbconvert_exporter": "python",
   "pygments_lexer": "ipython3",
   "version": "3.8.5"
  },
  "toc": {
   "base_numbering": 1,
   "nav_menu": {},
   "number_sections": true,
   "sideBar": true,
   "skip_h1_title": false,
   "title_cell": "Table of Contents",
   "title_sidebar": "Contents",
   "toc_cell": false,
   "toc_position": {
    "height": "calc(100% - 180px)",
    "left": "10px",
    "top": "150px",
    "width": "408.466px"
   },
   "toc_section_display": true,
   "toc_window_display": true
  }
 },
 "nbformat": 4,
 "nbformat_minor": 5
}
