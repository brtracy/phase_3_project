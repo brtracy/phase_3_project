{
 "cells": [
  {
   "cell_type": "markdown",
   "id": "0a71775f",
   "metadata": {},
   "source": [
    "# Business Problem"
   ]
  },
  {
   "cell_type": "markdown",
   "id": "979e1579",
   "metadata": {},
   "source": [
    "The Tanzania Development Trust is a UK charitable organization operating within the country of Tanzania since 1975.\n",
    "\n",
    "They focus on development in rural Tanzania, aiming to support small projects in the poorest parts of the country where one of their priority areas of funding is clean water. Their stated water project involves boreholing and rope pump installation in areas with limited access to clean water, currently located in the regions of Kagera and Kigoma in the northwest of the country.\n",
    "\n",
    "A new benefactor wants to expand the project not only geographically to more of the country, but in the scope of repairing existing pumps before they fail. I have been tasked with developing a model to predict the operating condition of a current waterpoint: functional, needs repair, or non-functional.\n",
    "\n",
    "The main objective is to identify waterpoints that are in need of repair. [Research shows](https://sswm.info/entrepreneurship-resource/developing-impactful-businesses/maintenance-services-for-rural-water-pumps) that it is much less expensive to repair and rehabilitate a waterpoint, as well as being more protective of the water resources in the country. \n",
    "The secondary objective is to identify concentrations of non-functioning water points that may be an eligible location for a new installation.\n",
    "______________________\n",
    "The data provided for modeling was collected between March 2011 and March 2013, and contains the information for 59,400 water points "
   ]
  },
  {
   "cell_type": "markdown",
   "id": "ff431296",
   "metadata": {
    "heading_collapsed": true
   },
   "source": [
    "# Imports"
   ]
  },
  {
   "cell_type": "code",
   "execution_count": 1,
   "id": "ac7e0ce4",
   "metadata": {
    "ExecuteTime": {
     "end_time": "2022-01-31T19:27:24.952242Z",
     "start_time": "2022-01-31T19:27:23.540928Z"
    },
    "hidden": true
   },
   "outputs": [],
   "source": [
    "import random\n",
    "\n",
    "import pandas as pd\n",
    "import numpy as np\n",
    "\n",
    "import seaborn as sns\n",
    "import matplotlib.pyplot as plt\n",
    "%matplotlib inline\n",
    "\n",
    "random.seed(42)"
   ]
  },
  {
   "cell_type": "code",
   "execution_count": 2,
   "id": "56c8e212",
   "metadata": {
    "ExecuteTime": {
     "end_time": "2022-01-31T19:27:25.585517Z",
     "start_time": "2022-01-31T19:27:24.953232Z"
    },
    "hidden": true,
    "scrolled": true
   },
   "outputs": [
    {
     "name": "stdout",
     "output_type": "stream",
     "text": [
      "<class 'pandas.core.frame.DataFrame'>\n",
      "RangeIndex: 59400 entries, 0 to 59399\n",
      "Data columns (total 2 columns):\n",
      " #   Column        Non-Null Count  Dtype \n",
      "---  ------        --------------  ----- \n",
      " 0   id            59400 non-null  int64 \n",
      " 1   status_group  59400 non-null  object\n",
      "dtypes: int64(1), object(1)\n",
      "memory usage: 928.2+ KB\n"
     ]
    },
    {
     "data": {
      "text/plain": [
       "None"
      ]
     },
     "metadata": {},
     "output_type": "display_data"
    },
    {
     "name": "stdout",
     "output_type": "stream",
     "text": [
      "<class 'pandas.core.frame.DataFrame'>\n",
      "RangeIndex: 59400 entries, 0 to 59399\n",
      "Data columns (total 40 columns):\n",
      " #   Column                 Non-Null Count  Dtype  \n",
      "---  ------                 --------------  -----  \n",
      " 0   id                     59400 non-null  int64  \n",
      " 1   amount_tsh             59400 non-null  float64\n",
      " 2   date_recorded          59400 non-null  object \n",
      " 3   funder                 55765 non-null  object \n",
      " 4   gps_height             59400 non-null  int64  \n",
      " 5   installer              55745 non-null  object \n",
      " 6   longitude              59400 non-null  float64\n",
      " 7   latitude               59400 non-null  float64\n",
      " 8   wpt_name               59400 non-null  object \n",
      " 9   num_private            59400 non-null  int64  \n",
      " 10  basin                  59400 non-null  object \n",
      " 11  subvillage             59029 non-null  object \n",
      " 12  region                 59400 non-null  object \n",
      " 13  region_code            59400 non-null  int64  \n",
      " 14  district_code          59400 non-null  int64  \n",
      " 15  lga                    59400 non-null  object \n",
      " 16  ward                   59400 non-null  object \n",
      " 17  population             59400 non-null  int64  \n",
      " 18  public_meeting         56066 non-null  object \n",
      " 19  recorded_by            59400 non-null  object \n",
      " 20  scheme_management      55523 non-null  object \n",
      " 21  scheme_name            31234 non-null  object \n",
      " 22  permit                 56344 non-null  object \n",
      " 23  construction_year      59400 non-null  int64  \n",
      " 24  extraction_type        59400 non-null  object \n",
      " 25  extraction_type_group  59400 non-null  object \n",
      " 26  extraction_type_class  59400 non-null  object \n",
      " 27  management             59400 non-null  object \n",
      " 28  management_group       59400 non-null  object \n",
      " 29  payment                59400 non-null  object \n",
      " 30  payment_type           59400 non-null  object \n",
      " 31  water_quality          59400 non-null  object \n",
      " 32  quality_group          59400 non-null  object \n",
      " 33  quantity               59400 non-null  object \n",
      " 34  quantity_group         59400 non-null  object \n",
      " 35  source                 59400 non-null  object \n",
      " 36  source_type            59400 non-null  object \n",
      " 37  source_class           59400 non-null  object \n",
      " 38  waterpoint_type        59400 non-null  object \n",
      " 39  waterpoint_type_group  59400 non-null  object \n",
      "dtypes: float64(3), int64(7), object(30)\n",
      "memory usage: 18.1+ MB\n",
      "None\n"
     ]
    }
   ],
   "source": [
    "# import training data and target\n",
    "raw_data = pd.read_csv('data/training_data.csv')\n",
    "raw_target = pd.read_csv('data/training_target.csv')\n",
    "\n",
    "display(raw_target.info())\n",
    "print(raw_data.info())"
   ]
  },
  {
   "cell_type": "markdown",
   "id": "346fa101",
   "metadata": {
    "hidden": true
   },
   "source": [
    "Create a raw dataframe with merged data and target. We will use this df during initial EDA so we can compare feature relationships with target, and so we can understand and deal with null values"
   ]
  },
  {
   "cell_type": "code",
   "execution_count": 3,
   "id": "d1dfaee1",
   "metadata": {
    "ExecuteTime": {
     "end_time": "2022-01-31T19:27:25.821886Z",
     "start_time": "2022-01-31T19:27:25.588509Z"
    },
    "hidden": true
   },
   "outputs": [],
   "source": [
    "raw_df = pd.merge(raw_data, raw_target, on='id')"
   ]
  },
  {
   "cell_type": "markdown",
   "id": "9cec82c3",
   "metadata": {
    "hidden": true
   },
   "source": [
    "The dataset for training includes 59,400 entries with 39 total features, a unique identifier, and a target label."
   ]
  },
  {
   "cell_type": "code",
   "execution_count": 4,
   "id": "97ada609",
   "metadata": {
    "ExecuteTime": {
     "end_time": "2022-01-31T19:27:25.853802Z",
     "start_time": "2022-01-31T19:27:25.823882Z"
    },
    "hidden": true
   },
   "outputs": [
    {
     "data": {
      "text/html": [
       "<div>\n",
       "<style scoped>\n",
       "    .dataframe tbody tr th:only-of-type {\n",
       "        vertical-align: middle;\n",
       "    }\n",
       "\n",
       "    .dataframe tbody tr th {\n",
       "        vertical-align: top;\n",
       "    }\n",
       "\n",
       "    .dataframe thead th {\n",
       "        text-align: right;\n",
       "    }\n",
       "</style>\n",
       "<table border=\"1\" class=\"dataframe\">\n",
       "  <thead>\n",
       "    <tr style=\"text-align: right;\">\n",
       "      <th></th>\n",
       "      <th>count</th>\n",
       "      <th>percent</th>\n",
       "    </tr>\n",
       "  </thead>\n",
       "  <tbody>\n",
       "    <tr>\n",
       "      <th>functional</th>\n",
       "      <td>32259</td>\n",
       "      <td>54.3</td>\n",
       "    </tr>\n",
       "    <tr>\n",
       "      <th>non functional</th>\n",
       "      <td>22824</td>\n",
       "      <td>38.4</td>\n",
       "    </tr>\n",
       "    <tr>\n",
       "      <th>functional needs repair</th>\n",
       "      <td>4317</td>\n",
       "      <td>7.3</td>\n",
       "    </tr>\n",
       "  </tbody>\n",
       "</table>\n",
       "</div>"
      ],
      "text/plain": [
       "                         count  percent\n",
       "functional               32259     54.3\n",
       "non functional           22824     38.4\n",
       "functional needs repair   4317      7.3"
      ]
     },
     "execution_count": 4,
     "metadata": {},
     "output_type": "execute_result"
    }
   ],
   "source": [
    "status_values = pd.DataFrame(raw_df.status_group.value_counts())\n",
    "status_values.columns = ['count']\n",
    "status_values['percent'] = round(raw_df.status_group.value_counts(normalize=True) * 100, 1)\n",
    "status_values"
   ]
  },
  {
   "cell_type": "markdown",
   "id": "9ce9e137",
   "metadata": {
    "hidden": true
   },
   "source": [
    "This is a ternary classification problem. The three possible values are:\n",
    "- functional (F)\n",
    "- non functional (NF)\n",
    "- functional needs repair (FR)\n",
    "\n",
    "Value counts show that our dataset is not balanced with respect to the label values. Only 7.3% of pumps are classified as functional needs repair, while 54.3% are functional and 38.4% are non functional. We will need to keep this imbalance in mind when modeling.\n",
    "_________\n",
    "We are going to change our target to numerical values, \n",
    "where:\n",
    "- 'non function' will equal: 0\n",
    "- 'functional needs repair' will equal: 1\n",
    "- 'functional' will equal: 2"
   ]
  },
  {
   "cell_type": "code",
   "execution_count": 5,
   "id": "3a753b19",
   "metadata": {
    "ExecuteTime": {
     "end_time": "2022-01-31T19:27:25.948549Z",
     "start_time": "2022-01-31T19:27:25.856794Z"
    },
    "hidden": true
   },
   "outputs": [],
   "source": [
    "status_dict = {'non functional': 0,\n",
    "              'functional needs repair': 1,\n",
    "              'functional': 2}\n",
    "\n",
    "raw_df['target'] = raw_df['status_group'].map(lambda x: status_dict[x])\n",
    "raw_df.drop('status_group', axis=1, inplace=True)"
   ]
  },
  {
   "cell_type": "markdown",
   "id": "7a1b0deb",
   "metadata": {
    "heading_collapsed": true
   },
   "source": [
    "# Null Checks"
   ]
  },
  {
   "cell_type": "code",
   "execution_count": 6,
   "id": "968a1033",
   "metadata": {
    "ExecuteTime": {
     "end_time": "2022-01-31T19:27:26.075211Z",
     "start_time": "2022-01-31T19:27:25.950544Z"
    },
    "hidden": true
   },
   "outputs": [
    {
     "data": {
      "text/html": [
       "<div>\n",
       "<style scoped>\n",
       "    .dataframe tbody tr th:only-of-type {\n",
       "        vertical-align: middle;\n",
       "    }\n",
       "\n",
       "    .dataframe tbody tr th {\n",
       "        vertical-align: top;\n",
       "    }\n",
       "\n",
       "    .dataframe thead th {\n",
       "        text-align: right;\n",
       "    }\n",
       "</style>\n",
       "<table border=\"1\" class=\"dataframe\">\n",
       "  <thead>\n",
       "    <tr style=\"text-align: right;\">\n",
       "      <th></th>\n",
       "      <th>null_count</th>\n",
       "      <th>percent_of_data</th>\n",
       "    </tr>\n",
       "  </thead>\n",
       "  <tbody>\n",
       "    <tr>\n",
       "      <th>scheme_name</th>\n",
       "      <td>28166</td>\n",
       "      <td>47.4</td>\n",
       "    </tr>\n",
       "    <tr>\n",
       "      <th>scheme_management</th>\n",
       "      <td>3877</td>\n",
       "      <td>6.5</td>\n",
       "    </tr>\n",
       "    <tr>\n",
       "      <th>installer</th>\n",
       "      <td>3655</td>\n",
       "      <td>6.2</td>\n",
       "    </tr>\n",
       "    <tr>\n",
       "      <th>funder</th>\n",
       "      <td>3635</td>\n",
       "      <td>6.1</td>\n",
       "    </tr>\n",
       "    <tr>\n",
       "      <th>public_meeting</th>\n",
       "      <td>3334</td>\n",
       "      <td>5.6</td>\n",
       "    </tr>\n",
       "    <tr>\n",
       "      <th>permit</th>\n",
       "      <td>3056</td>\n",
       "      <td>5.1</td>\n",
       "    </tr>\n",
       "    <tr>\n",
       "      <th>subvillage</th>\n",
       "      <td>371</td>\n",
       "      <td>0.6</td>\n",
       "    </tr>\n",
       "  </tbody>\n",
       "</table>\n",
       "</div>"
      ],
      "text/plain": [
       "                   null_count  percent_of_data\n",
       "scheme_name             28166             47.4\n",
       "scheme_management        3877              6.5\n",
       "installer                3655              6.2\n",
       "funder                   3635              6.1\n",
       "public_meeting           3334              5.6\n",
       "permit                   3056              5.1\n",
       "subvillage                371              0.6"
      ]
     },
     "execution_count": 6,
     "metadata": {},
     "output_type": "execute_result"
    }
   ],
   "source": [
    "null_checks = pd.DataFrame(data=raw_df.isna().sum(),\n",
    "                          columns=['null_count'])\n",
    "null_checks['percent_of_data'] = round((null_checks.null_count / len(raw_data)) * 100, 1)\n",
    "null_checks = null_checks[null_checks.percent_of_data > 0.1]\n",
    "null_checks.sort_values('percent_of_data', ascending=False, inplace=True)\n",
    "null_checks"
   ]
  },
  {
   "cell_type": "markdown",
   "id": "1fd4b189",
   "metadata": {
    "hidden": true
   },
   "source": [
    "There are 7 features with null values in our dataset, and we can what that number of nulls is by percent of total available data. \n",
    "______\n",
    "All of the features that contain null values are object types and will need to be converted. Before conversion we will need to address the null values."
   ]
  },
  {
   "cell_type": "markdown",
   "id": "b25fd29d",
   "metadata": {
    "heading_collapsed": true,
    "hidden": true
   },
   "source": [
    "## subvillage"
   ]
  },
  {
   "cell_type": "code",
   "execution_count": 7,
   "id": "3734075a",
   "metadata": {
    "ExecuteTime": {
     "end_time": "2022-01-31T19:27:26.091168Z",
     "start_time": "2022-01-31T19:27:26.076209Z"
    },
    "hidden": true
   },
   "outputs": [
    {
     "data": {
      "text/plain": [
       "2    55.26\n",
       "0    44.47\n",
       "1     0.27\n",
       "Name: target, dtype: float64"
      ]
     },
     "execution_count": 7,
     "metadata": {},
     "output_type": "execute_result"
    }
   ],
   "source": [
    "subvillage_nans = raw_df[raw_df.subvillage.isnull()]\n",
    "round(subvillage_nans.target.value_counts(normalize=True) * 100, 2)"
   ]
  },
  {
   "cell_type": "markdown",
   "id": "e4db7a1d",
   "metadata": {
    "hidden": true
   },
   "source": [
    "The null values in subvillage represent 0.6% of our total data. The distribution of the target label is close to the whole dataset"
   ]
  },
  {
   "cell_type": "code",
   "execution_count": 8,
   "id": "cce8781d",
   "metadata": {
    "ExecuteTime": {
     "end_time": "2022-01-31T19:27:26.107126Z",
     "start_time": "2022-01-31T19:27:26.093164Z"
    },
    "hidden": true
   },
   "outputs": [
    {
     "data": {
      "text/plain": [
       "Dodoma    361\n",
       "Mwanza     10\n",
       "Name: region, dtype: int64"
      ]
     },
     "execution_count": 8,
     "metadata": {},
     "output_type": "execute_result"
    }
   ],
   "source": [
    "subvillage_nans.region.value_counts()"
   ]
  },
  {
   "cell_type": "markdown",
   "id": "9ec83bea",
   "metadata": {
    "hidden": true
   },
   "source": [
    "All but 10 of our subvillage nan's come from the region of Dodoma, the rest from Mwanza. Lets look at the subvillage distribution of those regions from the whole dataset"
   ]
  },
  {
   "cell_type": "code",
   "execution_count": 9,
   "id": "e564ac0d",
   "metadata": {
    "ExecuteTime": {
     "end_time": "2022-01-31T19:27:26.123083Z",
     "start_time": "2022-01-31T19:27:26.108124Z"
    },
    "hidden": true,
    "scrolled": true
   },
   "outputs": [
    {
     "data": {
      "text/plain": [
       "Kawawa         54\n",
       "Shuleni        43\n",
       "Nyerere        35\n",
       "Azimio         34\n",
       "Majengo        32\n",
       "               ..\n",
       "Foye            1\n",
       "Mtatangwe       1\n",
       "Makao Mapya     1\n",
       "Soya Mjini      1\n",
       "Mgomwa          1\n",
       "Name: subvillage, Length: 705, dtype: int64"
      ]
     },
     "execution_count": 9,
     "metadata": {},
     "output_type": "execute_result"
    }
   ],
   "source": [
    "raw_df[raw_df['region'] == 'Dodoma'].subvillage.value_counts()"
   ]
  },
  {
   "cell_type": "code",
   "execution_count": 10,
   "id": "24901805",
   "metadata": {
    "ExecuteTime": {
     "end_time": "2022-01-31T19:27:26.154002Z",
     "start_time": "2022-01-31T19:27:26.126076Z"
    },
    "hidden": true,
    "scrolled": true
   },
   "outputs": [
    {
     "data": {
      "text/plain": [
       "1                     132\n",
       "Madukani               52\n",
       "Bujingwa               25\n",
       "Shuleni                19\n",
       "Matale                 18\n",
       "                     ... \n",
       "Bukalo                  1\n",
       "Nyambona                1\n",
       "Kabaganda B             1\n",
       "Bulyahilu Center B      1\n",
       "Mwambogwa               1\n",
       "Name: subvillage, Length: 1507, dtype: int64"
      ]
     },
     "execution_count": 10,
     "metadata": {},
     "output_type": "execute_result"
    }
   ],
   "source": [
    "raw_df[raw_df['region'] == 'Mwanza'].subvillage.value_counts()"
   ]
  },
  {
   "cell_type": "markdown",
   "id": "0fe14edf",
   "metadata": {
    "hidden": true
   },
   "source": [
    "There are no average or overwhelmingly dominant subvillages that we could assign the null values to. In fact, the total unique value count of subvillages in Dodoma is double the quantity of missing values! It's not clear if we will use subvillage in modeling, so we will change null values to 'Other'"
   ]
  },
  {
   "cell_type": "code",
   "execution_count": 11,
   "id": "4ad9a891",
   "metadata": {
    "ExecuteTime": {
     "end_time": "2022-01-31T19:27:26.185916Z",
     "start_time": "2022-01-31T19:27:26.164971Z"
    },
    "hidden": true
   },
   "outputs": [],
   "source": [
    "raw_df['subvillage'].fillna(value='Other', inplace=True)"
   ]
  },
  {
   "cell_type": "markdown",
   "id": "4601f6e8",
   "metadata": {
    "heading_collapsed": true,
    "hidden": true
   },
   "source": [
    "## permit"
   ]
  },
  {
   "cell_type": "code",
   "execution_count": 12,
   "id": "96a1c9cb",
   "metadata": {
    "ExecuteTime": {
     "end_time": "2022-01-31T19:27:26.201873Z",
     "start_time": "2022-01-31T19:27:26.186913Z"
    },
    "hidden": true
   },
   "outputs": [
    {
     "data": {
      "text/plain": [
       "2    54.74\n",
       "0    35.44\n",
       "1     9.82\n",
       "Name: target, dtype: float64"
      ]
     },
     "execution_count": 12,
     "metadata": {},
     "output_type": "execute_result"
    }
   ],
   "source": [
    "permit_nans = raw_df[raw_df.permit.isnull()]\n",
    "permit_nans.reset_index(drop=True, inplace=True)\n",
    "round(permit_nans.target.value_counts(normalize=True) * 100, 2)"
   ]
  },
  {
   "cell_type": "markdown",
   "id": "0d66e0f6",
   "metadata": {
    "hidden": true
   },
   "source": [
    "5% of our dataset have no value for permit. Distribution of the target label is approximately the same as the whole dataset."
   ]
  },
  {
   "cell_type": "code",
   "execution_count": 13,
   "id": "8d96be1f",
   "metadata": {
    "ExecuteTime": {
     "end_time": "2022-01-31T19:27:26.217830Z",
     "start_time": "2022-01-31T19:27:26.202871Z"
    },
    "hidden": true
   },
   "outputs": [
    {
     "data": {
      "text/plain": [
       "True     0.68955\n",
       "False    0.31045\n",
       "Name: permit, dtype: float64"
      ]
     },
     "execution_count": 13,
     "metadata": {},
     "output_type": "execute_result"
    }
   ],
   "source": [
    "permit_distribution = raw_df.permit.value_counts(normalize=True)\n",
    "permit_distribution"
   ]
  },
  {
   "cell_type": "markdown",
   "id": "447215f0",
   "metadata": {
    "hidden": true
   },
   "source": [
    "Per the data documentation, the permit feature is if the water point is permitted or not. Data we do have for this feature show it's about 70/30 in favor of permitted.\n",
    "\n",
    "We will randomly fill these 3056 missing datapoints with true/false in the same ratio we found in our entire dataset."
   ]
  },
  {
   "cell_type": "code",
   "execution_count": 14,
   "id": "178ccf26",
   "metadata": {
    "ExecuteTime": {
     "end_time": "2022-01-31T19:27:26.249746Z",
     "start_time": "2022-01-31T19:27:26.218829Z"
    },
    "hidden": true
   },
   "outputs": [],
   "source": [
    "raw_df['permit'] = raw_df['permit'].fillna(pd.Series(np.random.choice([True, False],\n",
    "                                                       p=list(permit_distribution),\n",
    "                                                       size=len(raw_df))))"
   ]
  },
  {
   "cell_type": "markdown",
   "id": "7d40001b",
   "metadata": {
    "heading_collapsed": true,
    "hidden": true
   },
   "source": [
    "## public_meeting"
   ]
  },
  {
   "cell_type": "code",
   "execution_count": 15,
   "id": "decb1706",
   "metadata": {
    "ExecuteTime": {
     "end_time": "2022-01-31T19:27:26.280663Z",
     "start_time": "2022-01-31T19:27:26.252738Z"
    },
    "hidden": true
   },
   "outputs": [
    {
     "data": {
      "text/plain": [
       "2    50.33\n",
       "0    44.99\n",
       "1     4.68\n",
       "Name: target, dtype: float64"
      ]
     },
     "execution_count": 15,
     "metadata": {},
     "output_type": "execute_result"
    }
   ],
   "source": [
    "public_meeting_nans = raw_df[raw_df.public_meeting.isnull()]\n",
    "public_meeting_nans.reset_index(drop=True, inplace=True)\n",
    "round(public_meeting_nans.target.value_counts(normalize=True) * 100, 2)"
   ]
  },
  {
   "cell_type": "markdown",
   "id": "88b372f3",
   "metadata": {
    "hidden": true
   },
   "source": [
    "5.6% of our dataset has no value for public_meeting. Distribution of the target label is approximately the same as the whole dataset."
   ]
  },
  {
   "cell_type": "code",
   "execution_count": 16,
   "id": "f0c98610",
   "metadata": {
    "ExecuteTime": {
     "end_time": "2022-01-31T19:27:26.295623Z",
     "start_time": "2022-01-31T19:27:26.281661Z"
    },
    "hidden": true
   },
   "outputs": [
    {
     "data": {
      "text/plain": [
       "True     0.909838\n",
       "False    0.090162\n",
       "Name: public_meeting, dtype: float64"
      ]
     },
     "execution_count": 16,
     "metadata": {},
     "output_type": "execute_result"
    }
   ],
   "source": [
    "meeting_distribution = raw_df.public_meeting.value_counts(normalize=True)\n",
    "meeting_distribution"
   ]
  },
  {
   "cell_type": "markdown",
   "id": "2ea3a170",
   "metadata": {
    "hidden": true
   },
   "source": [
    "The public meeting feature is a boolean that is over 90% true for data we do have. We will fill null values in the same percentages."
   ]
  },
  {
   "cell_type": "code",
   "execution_count": 17,
   "id": "132159f9",
   "metadata": {
    "ExecuteTime": {
     "end_time": "2022-01-31T19:27:26.326540Z",
     "start_time": "2022-01-31T19:27:26.296621Z"
    },
    "hidden": true
   },
   "outputs": [],
   "source": [
    "raw_df['public_meeting'] = raw_df['public_meeting'].fillna(\n",
    "    pd.Series(np.random.choice([True, False],\n",
    "                               p=list(meeting_distribution),\n",
    "                               size=len(raw_df))))"
   ]
  },
  {
   "cell_type": "markdown",
   "id": "32c5affc",
   "metadata": {
    "heading_collapsed": true,
    "hidden": true
   },
   "source": [
    "## funder & installer"
   ]
  },
  {
   "cell_type": "markdown",
   "id": "b7c396de",
   "metadata": {
    "hidden": true
   },
   "source": [
    "The features 'funder' and 'installer' have almost the same number of null values; I am curious about the overlap of nulls."
   ]
  },
  {
   "cell_type": "code",
   "execution_count": 18,
   "id": "81cec924",
   "metadata": {
    "ExecuteTime": {
     "end_time": "2022-01-31T19:27:26.357459Z",
     "start_time": "2022-01-31T19:27:26.328535Z"
    },
    "hidden": true
   },
   "outputs": [
    {
     "data": {
      "text/plain": [
       "0.9854195323246218"
      ]
     },
     "execution_count": 18,
     "metadata": {},
     "output_type": "execute_result"
    }
   ],
   "source": [
    "# dividing the number of entries with null for both features by the smaller count\n",
    "len(raw_df[raw_df.funder.isnull() & raw_df.installer.isnull()]) / null_checks.null_count['funder']"
   ]
  },
  {
   "cell_type": "markdown",
   "id": "df890875",
   "metadata": {
    "hidden": true
   },
   "source": [
    "Over 98% of the null values for funder also contain null values for installer.\n",
    "________"
   ]
  },
  {
   "cell_type": "code",
   "execution_count": 19,
   "id": "6e9ec152",
   "metadata": {
    "ExecuteTime": {
     "end_time": "2022-01-31T19:27:26.388376Z",
     "start_time": "2022-01-31T19:27:26.358456Z"
    },
    "hidden": true
   },
   "outputs": [
    {
     "data": {
      "text/html": [
       "<div>\n",
       "<style scoped>\n",
       "    .dataframe tbody tr th:only-of-type {\n",
       "        vertical-align: middle;\n",
       "    }\n",
       "\n",
       "    .dataframe tbody tr th {\n",
       "        vertical-align: top;\n",
       "    }\n",
       "\n",
       "    .dataframe thead th {\n",
       "        text-align: right;\n",
       "    }\n",
       "</style>\n",
       "<table border=\"1\" class=\"dataframe\">\n",
       "  <thead>\n",
       "    <tr style=\"text-align: right;\">\n",
       "      <th></th>\n",
       "      <th>funder</th>\n",
       "    </tr>\n",
       "  </thead>\n",
       "  <tbody>\n",
       "    <tr>\n",
       "      <th>Government Of Tanzania</th>\n",
       "      <td>15.29</td>\n",
       "    </tr>\n",
       "    <tr>\n",
       "      <th>NaN</th>\n",
       "      <td>6.12</td>\n",
       "    </tr>\n",
       "    <tr>\n",
       "      <th>Danida</th>\n",
       "      <td>5.24</td>\n",
       "    </tr>\n",
       "    <tr>\n",
       "      <th>Hesawa</th>\n",
       "      <td>3.71</td>\n",
       "    </tr>\n",
       "    <tr>\n",
       "      <th>Rwssp</th>\n",
       "      <td>2.31</td>\n",
       "    </tr>\n",
       "    <tr>\n",
       "      <th>...</th>\n",
       "      <td>...</td>\n",
       "    </tr>\n",
       "    <tr>\n",
       "      <th>Rarymond Ekura</th>\n",
       "      <td>0.00</td>\n",
       "    </tr>\n",
       "    <tr>\n",
       "      <th>Justine Marwa</th>\n",
       "      <td>0.00</td>\n",
       "    </tr>\n",
       "    <tr>\n",
       "      <th>Municipal Council</th>\n",
       "      <td>0.00</td>\n",
       "    </tr>\n",
       "    <tr>\n",
       "      <th>Afdp</th>\n",
       "      <td>0.00</td>\n",
       "    </tr>\n",
       "    <tr>\n",
       "      <th>Samlo</th>\n",
       "      <td>0.00</td>\n",
       "    </tr>\n",
       "  </tbody>\n",
       "</table>\n",
       "<p>1898 rows × 1 columns</p>\n",
       "</div>"
      ],
      "text/plain": [
       "                        funder\n",
       "Government Of Tanzania   15.29\n",
       "NaN                       6.12\n",
       "Danida                    5.24\n",
       "Hesawa                    3.71\n",
       "Rwssp                     2.31\n",
       "...                        ...\n",
       "Rarymond Ekura            0.00\n",
       "Justine Marwa             0.00\n",
       "Municipal Council         0.00\n",
       "Afdp                      0.00\n",
       "Samlo                     0.00\n",
       "\n",
       "[1898 rows x 1 columns]"
      ]
     },
     "execution_count": 19,
     "metadata": {},
     "output_type": "execute_result"
    }
   ],
   "source": [
    "funder_df = pd.DataFrame(round(raw_df.funder.value_counts(normalize=True, dropna=False) * 100, 2))\n",
    "funder_df"
   ]
  },
  {
   "cell_type": "code",
   "execution_count": 20,
   "id": "9765e632",
   "metadata": {
    "ExecuteTime": {
     "end_time": "2022-01-31T19:27:26.404333Z",
     "start_time": "2022-01-31T19:27:26.389373Z"
    },
    "hidden": true
   },
   "outputs": [
    {
     "name": "stdout",
     "output_type": "stream",
     "text": [
      "Funders with more than 1% share: 18\n",
      "Percent of total funders represented by above: funder    52.69\n",
      "dtype: float64\n"
     ]
    }
   ],
   "source": [
    "funder_df_top = funder_df[funder_df.funder > 1.0]\n",
    "print(f\"Funders with more than 1% share: {len(funder_df_top)}\")\n",
    "print(f\"Percent of total funders represented by above: {funder_df_top.sum()}\")"
   ]
  },
  {
   "cell_type": "markdown",
   "id": "6d8d0aec",
   "metadata": {
    "hidden": true
   },
   "source": [
    "Including null values, there were 1,898 distinct values for funder. Of that, 18 values (including null) have representative counts more than 1% of total data.\n",
    "\n",
    "Those 18 distinct values represent almost 53% of our total data. We will convert null values to 'Other'. There are still lots of unique values, so something to consider is converting all funders with less than 1% total share as 'Other' to reduce the unique value count."
   ]
  },
  {
   "cell_type": "code",
   "execution_count": 21,
   "id": "f463a7dc",
   "metadata": {
    "ExecuteTime": {
     "end_time": "2022-01-31T19:27:26.435251Z",
     "start_time": "2022-01-31T19:27:26.406328Z"
    },
    "hidden": true
   },
   "outputs": [
    {
     "data": {
      "text/html": [
       "<div>\n",
       "<style scoped>\n",
       "    .dataframe tbody tr th:only-of-type {\n",
       "        vertical-align: middle;\n",
       "    }\n",
       "\n",
       "    .dataframe tbody tr th {\n",
       "        vertical-align: top;\n",
       "    }\n",
       "\n",
       "    .dataframe thead th {\n",
       "        text-align: right;\n",
       "    }\n",
       "</style>\n",
       "<table border=\"1\" class=\"dataframe\">\n",
       "  <thead>\n",
       "    <tr style=\"text-align: right;\">\n",
       "      <th></th>\n",
       "      <th>installer</th>\n",
       "    </tr>\n",
       "  </thead>\n",
       "  <tbody>\n",
       "    <tr>\n",
       "      <th>DWE</th>\n",
       "      <td>29.30</td>\n",
       "    </tr>\n",
       "    <tr>\n",
       "      <th>NaN</th>\n",
       "      <td>6.15</td>\n",
       "    </tr>\n",
       "    <tr>\n",
       "      <th>Government</th>\n",
       "      <td>3.07</td>\n",
       "    </tr>\n",
       "    <tr>\n",
       "      <th>RWE</th>\n",
       "      <td>2.03</td>\n",
       "    </tr>\n",
       "    <tr>\n",
       "      <th>Commu</th>\n",
       "      <td>1.78</td>\n",
       "    </tr>\n",
       "    <tr>\n",
       "      <th>...</th>\n",
       "      <td>...</td>\n",
       "    </tr>\n",
       "    <tr>\n",
       "      <th>Wizara  ya maji</th>\n",
       "      <td>0.00</td>\n",
       "    </tr>\n",
       "    <tr>\n",
       "      <th>TWESS</th>\n",
       "      <td>0.00</td>\n",
       "    </tr>\n",
       "    <tr>\n",
       "      <th>Nasan workers</th>\n",
       "      <td>0.00</td>\n",
       "    </tr>\n",
       "    <tr>\n",
       "      <th>R</th>\n",
       "      <td>0.00</td>\n",
       "    </tr>\n",
       "    <tr>\n",
       "      <th>SELEPTA</th>\n",
       "      <td>0.00</td>\n",
       "    </tr>\n",
       "  </tbody>\n",
       "</table>\n",
       "<p>2146 rows × 1 columns</p>\n",
       "</div>"
      ],
      "text/plain": [
       "                 installer\n",
       "DWE                  29.30\n",
       "NaN                   6.15\n",
       "Government            3.07\n",
       "RWE                   2.03\n",
       "Commu                 1.78\n",
       "...                    ...\n",
       "Wizara  ya maji       0.00\n",
       "TWESS                 0.00\n",
       "Nasan workers         0.00\n",
       "R                     0.00\n",
       "SELEPTA               0.00\n",
       "\n",
       "[2146 rows x 1 columns]"
      ]
     },
     "execution_count": 21,
     "metadata": {},
     "output_type": "execute_result"
    }
   ],
   "source": [
    "installer_df = pd.DataFrame(round(raw_df.installer.value_counts(normalize=True, dropna=False) * 100, 2))\n",
    "installer_df"
   ]
  },
  {
   "cell_type": "code",
   "execution_count": 22,
   "id": "66211b0c",
   "metadata": {
    "ExecuteTime": {
     "end_time": "2022-01-31T19:27:26.451208Z",
     "start_time": "2022-01-31T19:27:26.438244Z"
    },
    "hidden": true
   },
   "outputs": [
    {
     "name": "stdout",
     "output_type": "stream",
     "text": [
      "Installers with more than 1% share: 12\n",
      "Percent of total installers represented by above: installer    51.6\n",
      "dtype: float64\n"
     ]
    }
   ],
   "source": [
    "installer_df_top = installer_df[installer_df.installer > 1.0]\n",
    "print(f\"Installers with more than 1% share: {len(installer_df_top)}\")\n",
    "print(f\"Percent of total installers represented by above: {installer_df_top.sum()}\")"
   ]
  },
  {
   "cell_type": "markdown",
   "id": "ff3fb340",
   "metadata": {
    "hidden": true
   },
   "source": [
    "Similarly to funder, the installer feature is dominated by small share installers. Of the 2,146 distinct values for installer, 12 values (including null) have representative counts more than 1% of total data.\n",
    "\n",
    "Those 12 distinct values represent almost 52% of our total data. This is similar to the funder feature. We will also convert null values to 'Other', and will consider converting all installers with less than 1% total share of installer as 'Other' to reduce the unique value count. "
   ]
  },
  {
   "cell_type": "code",
   "execution_count": 23,
   "id": "8a0ed645",
   "metadata": {
    "ExecuteTime": {
     "end_time": "2022-01-31T19:27:26.466189Z",
     "start_time": "2022-01-31T19:27:26.452206Z"
    },
    "hidden": true
   },
   "outputs": [],
   "source": [
    "raw_df['funder'].fillna(value='Other', inplace=True)\n",
    "raw_df['installer'].fillna(value='Other', inplace=True)"
   ]
  },
  {
   "cell_type": "markdown",
   "id": "524b6190",
   "metadata": {
    "heading_collapsed": true,
    "hidden": true
   },
   "source": [
    "## scheme_management"
   ]
  },
  {
   "cell_type": "code",
   "execution_count": 24,
   "id": "82cd1b09",
   "metadata": {
    "ExecuteTime": {
     "end_time": "2022-01-31T19:27:26.497108Z",
     "start_time": "2022-01-31T19:27:26.467189Z"
    },
    "hidden": true
   },
   "outputs": [
    {
     "data": {
      "text/plain": [
       "2    48.31\n",
       "0    45.94\n",
       "1     5.75\n",
       "Name: target, dtype: float64"
      ]
     },
     "execution_count": 24,
     "metadata": {},
     "output_type": "execute_result"
    }
   ],
   "source": [
    "scheme_management_nans = raw_df[raw_df.scheme_management.isnull()]\n",
    "scheme_management_nans.reset_index(drop=True, inplace=True)\n",
    "round(scheme_management_nans.target.value_counts(normalize=True) * 100, 2)"
   ]
  },
  {
   "cell_type": "code",
   "execution_count": 25,
   "id": "d221c829",
   "metadata": {
    "ExecuteTime": {
     "end_time": "2022-01-31T19:27:26.513044Z",
     "start_time": "2022-01-31T19:27:26.498084Z"
    },
    "hidden": true
   },
   "outputs": [
    {
     "data": {
      "text/plain": [
       "VWC                 0.619411\n",
       "WUG                 0.087643\n",
       "NaN                 0.065269\n",
       "Water authority     0.053081\n",
       "WUA                 0.048535\n",
       "Water Board         0.046263\n",
       "Parastatal          0.028283\n",
       "Private operator    0.017896\n",
       "Company             0.017862\n",
       "Other               0.012896\n",
       "SWC                 0.001633\n",
       "Trust               0.001212\n",
       "None                0.000017\n",
       "Name: scheme_management, dtype: float64"
      ]
     },
     "execution_count": 25,
     "metadata": {},
     "output_type": "execute_result"
    }
   ],
   "source": [
    "raw_df.scheme_management.value_counts(normalize=True, dropna=False)"
   ]
  },
  {
   "cell_type": "markdown",
   "id": "4e9769e6",
   "metadata": {
    "hidden": true
   },
   "source": [
    "6.5% of our data has no value for scheme_management. Distribution of the target data is approximately the same as the whole dataset.\n",
    "_________\n",
    "There was only one entry with the value of 'None', we will change that to 'Other'"
   ]
  },
  {
   "cell_type": "code",
   "execution_count": 26,
   "id": "ffc5b98f",
   "metadata": {
    "ExecuteTime": {
     "end_time": "2022-01-31T19:27:26.529002Z",
     "start_time": "2022-01-31T19:27:26.514041Z"
    },
    "hidden": true
   },
   "outputs": [],
   "source": [
    "raw_df.at[23603, 'scheme_management'] = 'Other'"
   ]
  },
  {
   "cell_type": "markdown",
   "id": "e69fae7a",
   "metadata": {
    "hidden": true
   },
   "source": [
    "We will fill null values for scheme_management randomly with other values from the feature in the same percentage."
   ]
  },
  {
   "cell_type": "code",
   "execution_count": 27,
   "id": "e73cc0a7",
   "metadata": {
    "ExecuteTime": {
     "end_time": "2022-01-31T19:27:26.544959Z",
     "start_time": "2022-01-31T19:27:26.530000Z"
    },
    "hidden": true
   },
   "outputs": [
    {
     "data": {
      "text/html": [
       "<div>\n",
       "<style scoped>\n",
       "    .dataframe tbody tr th:only-of-type {\n",
       "        vertical-align: middle;\n",
       "    }\n",
       "\n",
       "    .dataframe tbody tr th {\n",
       "        vertical-align: top;\n",
       "    }\n",
       "\n",
       "    .dataframe thead th {\n",
       "        text-align: right;\n",
       "    }\n",
       "</style>\n",
       "<table border=\"1\" class=\"dataframe\">\n",
       "  <thead>\n",
       "    <tr style=\"text-align: right;\">\n",
       "      <th></th>\n",
       "      <th>scheme_management</th>\n",
       "    </tr>\n",
       "  </thead>\n",
       "  <tbody>\n",
       "    <tr>\n",
       "      <th>VWC</th>\n",
       "      <td>0.662662</td>\n",
       "    </tr>\n",
       "    <tr>\n",
       "      <th>WUG</th>\n",
       "      <td>0.093763</td>\n",
       "    </tr>\n",
       "    <tr>\n",
       "      <th>Water authority</th>\n",
       "      <td>0.056787</td>\n",
       "    </tr>\n",
       "    <tr>\n",
       "      <th>WUA</th>\n",
       "      <td>0.051924</td>\n",
       "    </tr>\n",
       "    <tr>\n",
       "      <th>Water Board</th>\n",
       "      <td>0.049493</td>\n",
       "    </tr>\n",
       "    <tr>\n",
       "      <th>Parastatal</th>\n",
       "      <td>0.030258</td>\n",
       "    </tr>\n",
       "    <tr>\n",
       "      <th>Private operator</th>\n",
       "      <td>0.019145</td>\n",
       "    </tr>\n",
       "    <tr>\n",
       "      <th>Company</th>\n",
       "      <td>0.019109</td>\n",
       "    </tr>\n",
       "    <tr>\n",
       "      <th>Other</th>\n",
       "      <td>0.013814</td>\n",
       "    </tr>\n",
       "    <tr>\n",
       "      <th>SWC</th>\n",
       "      <td>0.001747</td>\n",
       "    </tr>\n",
       "    <tr>\n",
       "      <th>Trust</th>\n",
       "      <td>0.001297</td>\n",
       "    </tr>\n",
       "  </tbody>\n",
       "</table>\n",
       "</div>"
      ],
      "text/plain": [
       "                  scheme_management\n",
       "VWC                        0.662662\n",
       "WUG                        0.093763\n",
       "Water authority            0.056787\n",
       "WUA                        0.051924\n",
       "Water Board                0.049493\n",
       "Parastatal                 0.030258\n",
       "Private operator           0.019145\n",
       "Company                    0.019109\n",
       "Other                      0.013814\n",
       "SWC                        0.001747\n",
       "Trust                      0.001297"
      ]
     },
     "execution_count": 27,
     "metadata": {},
     "output_type": "execute_result"
    }
   ],
   "source": [
    "scheme_management_list = pd.DataFrame(raw_df.scheme_management.value_counts(normalize=True))\n",
    "scheme_management_list"
   ]
  },
  {
   "cell_type": "code",
   "execution_count": 28,
   "id": "ee012747",
   "metadata": {
    "ExecuteTime": {
     "end_time": "2022-01-31T19:27:26.576872Z",
     "start_time": "2022-01-31T19:27:26.549946Z"
    },
    "hidden": true
   },
   "outputs": [],
   "source": [
    "raw_df['scheme_management'] = raw_df['scheme_management'].fillna(\n",
    "    pd.Series(np.random.choice(list(scheme_management_list.index),\n",
    "                               p=list(scheme_management_list.scheme_management),\n",
    "                               size=len(raw_df))))"
   ]
  },
  {
   "cell_type": "markdown",
   "id": "4f4a652a",
   "metadata": {
    "heading_collapsed": true,
    "hidden": true
   },
   "source": [
    "## scheme_name"
   ]
  },
  {
   "cell_type": "code",
   "execution_count": 29,
   "id": "3bd8fdf3",
   "metadata": {
    "ExecuteTime": {
     "end_time": "2022-01-31T19:27:26.592831Z",
     "start_time": "2022-01-31T19:27:26.577871Z"
    },
    "hidden": true
   },
   "outputs": [
    {
     "data": {
      "text/plain": [
       "NaN                        0.474175\n",
       "K                          0.011481\n",
       "None                       0.010842\n",
       "Borehole                   0.009192\n",
       "Chalinze wate              0.006818\n",
       "                             ...   \n",
       "Visiga water supplly       0.000017\n",
       "Emanyata pipelines         0.000017\n",
       "Magundi water supply       0.000017\n",
       "Imalampaka water supply    0.000017\n",
       "Mtawanya                   0.000017\n",
       "Name: scheme_name, Length: 2697, dtype: float64"
      ]
     },
     "execution_count": 29,
     "metadata": {},
     "output_type": "execute_result"
    }
   ],
   "source": [
    "raw_df.scheme_name.value_counts(normalize=True, dropna=False)"
   ]
  },
  {
   "cell_type": "markdown",
   "id": "c012e91c",
   "metadata": {
    "hidden": true
   },
   "source": [
    "Almost half (47%) of the scheme_name feature contains no data, and the remaining data contains 2,697 distinct other features, none of which exceed 1% of the dataset. Lets look a little closer to see what else we can figure out."
   ]
  },
  {
   "cell_type": "code",
   "execution_count": 30,
   "id": "3aece90d",
   "metadata": {
    "ExecuteTime": {
     "end_time": "2022-01-31T19:27:26.623748Z",
     "start_time": "2022-01-31T19:27:26.593829Z"
    },
    "hidden": true,
    "scrolled": true
   },
   "outputs": [
    {
     "data": {
      "text/html": [
       "<div>\n",
       "<style scoped>\n",
       "    .dataframe tbody tr th:only-of-type {\n",
       "        vertical-align: middle;\n",
       "    }\n",
       "\n",
       "    .dataframe tbody tr th {\n",
       "        vertical-align: top;\n",
       "    }\n",
       "\n",
       "    .dataframe thead th {\n",
       "        text-align: right;\n",
       "    }\n",
       "</style>\n",
       "<table border=\"1\" class=\"dataframe\">\n",
       "  <thead>\n",
       "    <tr style=\"text-align: right;\">\n",
       "      <th></th>\n",
       "      <th>scheme_name</th>\n",
       "    </tr>\n",
       "  </thead>\n",
       "  <tbody>\n",
       "    <tr>\n",
       "      <th>NaN</th>\n",
       "      <td>28166</td>\n",
       "    </tr>\n",
       "    <tr>\n",
       "      <th>K</th>\n",
       "      <td>682</td>\n",
       "    </tr>\n",
       "    <tr>\n",
       "      <th>None</th>\n",
       "      <td>644</td>\n",
       "    </tr>\n",
       "    <tr>\n",
       "      <th>Borehole</th>\n",
       "      <td>546</td>\n",
       "    </tr>\n",
       "    <tr>\n",
       "      <th>Chalinze wate</th>\n",
       "      <td>405</td>\n",
       "    </tr>\n",
       "    <tr>\n",
       "      <th>M</th>\n",
       "      <td>400</td>\n",
       "    </tr>\n",
       "    <tr>\n",
       "      <th>DANIDA</th>\n",
       "      <td>379</td>\n",
       "    </tr>\n",
       "    <tr>\n",
       "      <th>Government</th>\n",
       "      <td>320</td>\n",
       "    </tr>\n",
       "    <tr>\n",
       "      <th>Ngana water supplied scheme</th>\n",
       "      <td>270</td>\n",
       "    </tr>\n",
       "    <tr>\n",
       "      <th>wanging'ombe water supply s</th>\n",
       "      <td>261</td>\n",
       "    </tr>\n",
       "    <tr>\n",
       "      <th>wanging'ombe supply scheme</th>\n",
       "      <td>234</td>\n",
       "    </tr>\n",
       "    <tr>\n",
       "      <th>I</th>\n",
       "      <td>229</td>\n",
       "    </tr>\n",
       "    <tr>\n",
       "      <th>Bagamoyo wate</th>\n",
       "      <td>229</td>\n",
       "    </tr>\n",
       "    <tr>\n",
       "      <th>Uroki-Bomang'ombe water sup</th>\n",
       "      <td>209</td>\n",
       "    </tr>\n",
       "    <tr>\n",
       "      <th>N</th>\n",
       "      <td>204</td>\n",
       "    </tr>\n",
       "    <tr>\n",
       "      <th>Kirua kahe gravity water supply trust</th>\n",
       "      <td>193</td>\n",
       "    </tr>\n",
       "    <tr>\n",
       "      <th>Machumba estate pipe line</th>\n",
       "      <td>185</td>\n",
       "    </tr>\n",
       "    <tr>\n",
       "      <th>Makwale water supplied sche</th>\n",
       "      <td>166</td>\n",
       "    </tr>\n",
       "    <tr>\n",
       "      <th>Kijiji</th>\n",
       "      <td>161</td>\n",
       "    </tr>\n",
       "    <tr>\n",
       "      <th>S</th>\n",
       "      <td>154</td>\n",
       "    </tr>\n",
       "    <tr>\n",
       "      <th>Handeni Trunk Main(H</th>\n",
       "      <td>152</td>\n",
       "    </tr>\n",
       "    <tr>\n",
       "      <th>mtwango water supply scheme</th>\n",
       "      <td>152</td>\n",
       "    </tr>\n",
       "    <tr>\n",
       "      <th>Losaa-Kia water supply</th>\n",
       "      <td>152</td>\n",
       "    </tr>\n",
       "    <tr>\n",
       "      <th>Mkongoro Two</th>\n",
       "      <td>147</td>\n",
       "    </tr>\n",
       "    <tr>\n",
       "      <th>Roman</th>\n",
       "      <td>139</td>\n",
       "    </tr>\n",
       "    <tr>\n",
       "      <th>Mkongoro One</th>\n",
       "      <td>128</td>\n",
       "    </tr>\n",
       "    <tr>\n",
       "      <th>Maambreni gravity water supply</th>\n",
       "      <td>125</td>\n",
       "    </tr>\n",
       "    <tr>\n",
       "      <th>Lyamungo umbwe water supply</th>\n",
       "      <td>120</td>\n",
       "    </tr>\n",
       "    <tr>\n",
       "      <th>Kirua kahe pumping water trust</th>\n",
       "      <td>113</td>\n",
       "    </tr>\n",
       "    <tr>\n",
       "      <th>Nabaiye pipe line</th>\n",
       "      <td>107</td>\n",
       "    </tr>\n",
       "    <tr>\n",
       "      <th>Ki</th>\n",
       "      <td>107</td>\n",
       "    </tr>\n",
       "    <tr>\n",
       "      <th>Nasula gravity water supply</th>\n",
       "      <td>102</td>\n",
       "    </tr>\n",
       "    <tr>\n",
       "      <th>Sinyanga water supplied sch</th>\n",
       "      <td>100</td>\n",
       "    </tr>\n",
       "    <tr>\n",
       "      <th>Lyamungo-Umbwe water supply</th>\n",
       "      <td>92</td>\n",
       "    </tr>\n",
       "    <tr>\n",
       "      <th>upper Ruvu</th>\n",
       "      <td>91</td>\n",
       "    </tr>\n",
       "    <tr>\n",
       "      <th>Ikela Wa</th>\n",
       "      <td>90</td>\n",
       "    </tr>\n",
       "    <tr>\n",
       "      <th>Shallow well</th>\n",
       "      <td>89</td>\n",
       "    </tr>\n",
       "    <tr>\n",
       "      <th>Kidia kilemapunda</th>\n",
       "      <td>86</td>\n",
       "    </tr>\n",
       "    <tr>\n",
       "      <th>Mitema</th>\n",
       "      <td>86</td>\n",
       "    </tr>\n",
       "    <tr>\n",
       "      <th>imalinyi supply scheme</th>\n",
       "      <td>85</td>\n",
       "    </tr>\n",
       "    <tr>\n",
       "      <th>Mradi wa maji wa wino</th>\n",
       "      <td>84</td>\n",
       "    </tr>\n",
       "    <tr>\n",
       "      <th>Una mkolowoni</th>\n",
       "      <td>79</td>\n",
       "    </tr>\n",
       "    <tr>\n",
       "      <th>Olkokola pipe line</th>\n",
       "      <td>79</td>\n",
       "    </tr>\n",
       "    <tr>\n",
       "      <th>D</th>\n",
       "      <td>78</td>\n",
       "    </tr>\n",
       "    <tr>\n",
       "      <th>Mradi wa maji wa peramiho</th>\n",
       "      <td>78</td>\n",
       "    </tr>\n",
       "    <tr>\n",
       "      <th>Sinyanga  water supplied sc</th>\n",
       "      <td>77</td>\n",
       "    </tr>\n",
       "  </tbody>\n",
       "</table>\n",
       "</div>"
      ],
      "text/plain": [
       "                                       scheme_name\n",
       "NaN                                          28166\n",
       "K                                              682\n",
       "None                                           644\n",
       "Borehole                                       546\n",
       "Chalinze wate                                  405\n",
       "M                                              400\n",
       "DANIDA                                         379\n",
       "Government                                     320\n",
       "Ngana water supplied scheme                    270\n",
       "wanging'ombe water supply s                    261\n",
       "wanging'ombe supply scheme                     234\n",
       "I                                              229\n",
       "Bagamoyo wate                                  229\n",
       "Uroki-Bomang'ombe water sup                    209\n",
       "N                                              204\n",
       "Kirua kahe gravity water supply trust          193\n",
       "Machumba estate pipe line                      185\n",
       "Makwale water supplied sche                    166\n",
       "Kijiji                                         161\n",
       "S                                              154\n",
       "Handeni Trunk Main(H                           152\n",
       "mtwango water supply scheme                    152\n",
       "Losaa-Kia water supply                         152\n",
       "Mkongoro Two                                   147\n",
       "Roman                                          139\n",
       "Mkongoro One                                   128\n",
       "Maambreni gravity water supply                 125\n",
       "Lyamungo umbwe water supply                    120\n",
       "Kirua kahe pumping water trust                 113\n",
       "Nabaiye pipe line                              107\n",
       "Ki                                             107\n",
       "Nasula gravity water supply                    102\n",
       "Sinyanga water supplied sch                    100\n",
       "Lyamungo-Umbwe water supply                     92\n",
       "upper Ruvu                                      91\n",
       "Ikela Wa                                        90\n",
       "Shallow well                                    89\n",
       "Kidia kilemapunda                               86\n",
       "Mitema                                          86\n",
       "imalinyi supply scheme                          85\n",
       "Mradi wa maji wa wino                           84\n",
       "Una mkolowoni                                   79\n",
       "Olkokola pipe line                              79\n",
       "D                                               78\n",
       "Mradi wa maji wa peramiho                       78\n",
       "Sinyanga  water supplied sc                     77"
      ]
     },
     "execution_count": 30,
     "metadata": {},
     "output_type": "execute_result"
    }
   ],
   "source": [
    "scheme_name = pd.DataFrame(raw_df.scheme_name.value_counts(dropna=False))\n",
    "scheme_name[scheme_name.scheme_name > 75]"
   ]
  },
  {
   "cell_type": "markdown",
   "id": "3d492eaa",
   "metadata": {
    "hidden": true
   },
   "source": [
    "The scheme name, per the documentation, is the individual or group that actually operates the waterpoint. This is compared to the scheme management company, which oversees operation. When the data was collected, it looks like there was little organization with respect to this particular datapoint. Considering the there are no other patterns in the available names, and that we have the management data, we will likely not use this feature in modeling.\n",
    "_____\n",
    "We will replace null values with 'Other'"
   ]
  },
  {
   "cell_type": "code",
   "execution_count": 31,
   "id": "0b460410",
   "metadata": {
    "ExecuteTime": {
     "end_time": "2022-01-31T19:27:26.639706Z",
     "start_time": "2022-01-31T19:27:26.625743Z"
    },
    "hidden": true
   },
   "outputs": [],
   "source": [
    "raw_df['scheme_name'].fillna(value='Other', inplace=True)"
   ]
  },
  {
   "cell_type": "markdown",
   "id": "24a0dd36",
   "metadata": {
    "heading_collapsed": true
   },
   "source": [
    "# Exploring numerical data"
   ]
  },
  {
   "cell_type": "code",
   "execution_count": 32,
   "id": "c1d4ca1c",
   "metadata": {
    "ExecuteTime": {
     "end_time": "2022-01-31T19:27:26.717498Z",
     "start_time": "2022-01-31T19:27:26.641701Z"
    },
    "hidden": true
   },
   "outputs": [
    {
     "data": {
      "text/html": [
       "<div>\n",
       "<style scoped>\n",
       "    .dataframe tbody tr th:only-of-type {\n",
       "        vertical-align: middle;\n",
       "    }\n",
       "\n",
       "    .dataframe tbody tr th {\n",
       "        vertical-align: top;\n",
       "    }\n",
       "\n",
       "    .dataframe thead th {\n",
       "        text-align: right;\n",
       "    }\n",
       "</style>\n",
       "<table border=\"1\" class=\"dataframe\">\n",
       "  <thead>\n",
       "    <tr style=\"text-align: right;\">\n",
       "      <th></th>\n",
       "      <th>id</th>\n",
       "      <th>amount_tsh</th>\n",
       "      <th>gps_height</th>\n",
       "      <th>longitude</th>\n",
       "      <th>latitude</th>\n",
       "      <th>num_private</th>\n",
       "      <th>region_code</th>\n",
       "      <th>district_code</th>\n",
       "      <th>population</th>\n",
       "      <th>construction_year</th>\n",
       "      <th>target</th>\n",
       "    </tr>\n",
       "  </thead>\n",
       "  <tbody>\n",
       "    <tr>\n",
       "      <th>count</th>\n",
       "      <td>59400.000000</td>\n",
       "      <td>59400.000000</td>\n",
       "      <td>59400.000000</td>\n",
       "      <td>59400.000000</td>\n",
       "      <td>5.940000e+04</td>\n",
       "      <td>59400.000000</td>\n",
       "      <td>59400.000000</td>\n",
       "      <td>59400.000000</td>\n",
       "      <td>59400.000000</td>\n",
       "      <td>59400.000000</td>\n",
       "      <td>59400.000000</td>\n",
       "    </tr>\n",
       "    <tr>\n",
       "      <th>mean</th>\n",
       "      <td>37115.131768</td>\n",
       "      <td>317.650385</td>\n",
       "      <td>668.297239</td>\n",
       "      <td>34.077427</td>\n",
       "      <td>-5.706033e+00</td>\n",
       "      <td>0.474141</td>\n",
       "      <td>15.297003</td>\n",
       "      <td>5.629747</td>\n",
       "      <td>179.909983</td>\n",
       "      <td>1300.652475</td>\n",
       "      <td>1.158838</td>\n",
       "    </tr>\n",
       "    <tr>\n",
       "      <th>std</th>\n",
       "      <td>21453.128371</td>\n",
       "      <td>2997.574558</td>\n",
       "      <td>693.116350</td>\n",
       "      <td>6.567432</td>\n",
       "      <td>2.946019e+00</td>\n",
       "      <td>12.236230</td>\n",
       "      <td>17.587406</td>\n",
       "      <td>9.633649</td>\n",
       "      <td>471.482176</td>\n",
       "      <td>951.620547</td>\n",
       "      <td>0.949794</td>\n",
       "    </tr>\n",
       "    <tr>\n",
       "      <th>min</th>\n",
       "      <td>0.000000</td>\n",
       "      <td>0.000000</td>\n",
       "      <td>-90.000000</td>\n",
       "      <td>0.000000</td>\n",
       "      <td>-1.164944e+01</td>\n",
       "      <td>0.000000</td>\n",
       "      <td>1.000000</td>\n",
       "      <td>0.000000</td>\n",
       "      <td>0.000000</td>\n",
       "      <td>0.000000</td>\n",
       "      <td>0.000000</td>\n",
       "    </tr>\n",
       "    <tr>\n",
       "      <th>25%</th>\n",
       "      <td>18519.750000</td>\n",
       "      <td>0.000000</td>\n",
       "      <td>0.000000</td>\n",
       "      <td>33.090347</td>\n",
       "      <td>-8.540621e+00</td>\n",
       "      <td>0.000000</td>\n",
       "      <td>5.000000</td>\n",
       "      <td>2.000000</td>\n",
       "      <td>0.000000</td>\n",
       "      <td>0.000000</td>\n",
       "      <td>0.000000</td>\n",
       "    </tr>\n",
       "    <tr>\n",
       "      <th>50%</th>\n",
       "      <td>37061.500000</td>\n",
       "      <td>0.000000</td>\n",
       "      <td>369.000000</td>\n",
       "      <td>34.908743</td>\n",
       "      <td>-5.021597e+00</td>\n",
       "      <td>0.000000</td>\n",
       "      <td>12.000000</td>\n",
       "      <td>3.000000</td>\n",
       "      <td>25.000000</td>\n",
       "      <td>1986.000000</td>\n",
       "      <td>2.000000</td>\n",
       "    </tr>\n",
       "    <tr>\n",
       "      <th>75%</th>\n",
       "      <td>55656.500000</td>\n",
       "      <td>20.000000</td>\n",
       "      <td>1319.250000</td>\n",
       "      <td>37.178387</td>\n",
       "      <td>-3.326156e+00</td>\n",
       "      <td>0.000000</td>\n",
       "      <td>17.000000</td>\n",
       "      <td>5.000000</td>\n",
       "      <td>215.000000</td>\n",
       "      <td>2004.000000</td>\n",
       "      <td>2.000000</td>\n",
       "    </tr>\n",
       "    <tr>\n",
       "      <th>max</th>\n",
       "      <td>74247.000000</td>\n",
       "      <td>350000.000000</td>\n",
       "      <td>2770.000000</td>\n",
       "      <td>40.345193</td>\n",
       "      <td>-2.000000e-08</td>\n",
       "      <td>1776.000000</td>\n",
       "      <td>99.000000</td>\n",
       "      <td>80.000000</td>\n",
       "      <td>30500.000000</td>\n",
       "      <td>2013.000000</td>\n",
       "      <td>2.000000</td>\n",
       "    </tr>\n",
       "  </tbody>\n",
       "</table>\n",
       "</div>"
      ],
      "text/plain": [
       "                 id     amount_tsh    gps_height     longitude      latitude  \\\n",
       "count  59400.000000   59400.000000  59400.000000  59400.000000  5.940000e+04   \n",
       "mean   37115.131768     317.650385    668.297239     34.077427 -5.706033e+00   \n",
       "std    21453.128371    2997.574558    693.116350      6.567432  2.946019e+00   \n",
       "min        0.000000       0.000000    -90.000000      0.000000 -1.164944e+01   \n",
       "25%    18519.750000       0.000000      0.000000     33.090347 -8.540621e+00   \n",
       "50%    37061.500000       0.000000    369.000000     34.908743 -5.021597e+00   \n",
       "75%    55656.500000      20.000000   1319.250000     37.178387 -3.326156e+00   \n",
       "max    74247.000000  350000.000000   2770.000000     40.345193 -2.000000e-08   \n",
       "\n",
       "        num_private   region_code  district_code    population  \\\n",
       "count  59400.000000  59400.000000   59400.000000  59400.000000   \n",
       "mean       0.474141     15.297003       5.629747    179.909983   \n",
       "std       12.236230     17.587406       9.633649    471.482176   \n",
       "min        0.000000      1.000000       0.000000      0.000000   \n",
       "25%        0.000000      5.000000       2.000000      0.000000   \n",
       "50%        0.000000     12.000000       3.000000     25.000000   \n",
       "75%        0.000000     17.000000       5.000000    215.000000   \n",
       "max     1776.000000     99.000000      80.000000  30500.000000   \n",
       "\n",
       "       construction_year        target  \n",
       "count       59400.000000  59400.000000  \n",
       "mean         1300.652475      1.158838  \n",
       "std           951.620547      0.949794  \n",
       "min             0.000000      0.000000  \n",
       "25%             0.000000      0.000000  \n",
       "50%          1986.000000      2.000000  \n",
       "75%          2004.000000      2.000000  \n",
       "max          2013.000000      2.000000  "
      ]
     },
     "execution_count": 32,
     "metadata": {},
     "output_type": "execute_result"
    }
   ],
   "source": [
    "num_df = raw_df.select_dtypes(include=np.number).copy()\n",
    "num_df.describe()"
   ]
  },
  {
   "cell_type": "markdown",
   "id": "6c55f4fa",
   "metadata": {
    "hidden": true
   },
   "source": [
    "The 'id' feature is a unique identifier, we will leave it in for merge purposes later but will not use it in modeling so no investigation needed.\n",
    "\n",
    "The 'amount_tsh' feature is the total amount of water available to the waterpoint. It looks like at least 50% of our waterpoints do not have any water available, regardless of pump functionality. If we look back, we also see that over 50% of pumps are classified as functional. This is a bit concerning, it's unclear how you can have a functional pump with no water available to pump.\n",
    "\n",
    "'gps_height' is concerning. [Research shows](https://en.wikipedia.org/wiki/Geography_of_Tanzania) that the lowest point in the country is sea level (0), yet we have a minimum of -90, so we will need to investigate that.\n",
    "\n",
    "[Research shows](https://worldpopulationreview.com/countries/tanzania/location) that Tanzania's most extreme latitudes range from 00&deg;59'S (-0.98333) to 11&deg;45'S (-11.75), while the longitude extremes range from 40&deg;29'E (40.48333) to 29&deg;10'E (29.16667)\n",
    "\n",
    "The 'latitude' values seem to exceed the northen border of the country (max latitude -2e-08), so we will need to investigate that. The 'longitude' values minimum is 0, so we have some data that is outside the range of the country borders. It's likely from mistakes or errors in data entry, but we need to investigate the extent and fix it.\n",
    "\n",
    "There is no description of 'num_private' in the datasource, we'll have to look at that. It may not factor into modeling.\n",
    "\n",
    "'region_code' and 'district_code' will need to be investigated separately as well, the documentation is not clear about what that data represents.\n",
    "\n",
    "'construction_year' and 'population' each have minimums of 0, and that should definitely not be the case in construction year. It's possible a waterpoint exists in a place considered to have no population, but we'll need to investigate these further."
   ]
  },
  {
   "cell_type": "markdown",
   "id": "5a92a24d",
   "metadata": {
    "hidden": true
   },
   "source": [
    "## amount_tsh"
   ]
  },
  {
   "cell_type": "code",
   "execution_count": 33,
   "id": "55a98543",
   "metadata": {
    "ExecuteTime": {
     "end_time": "2022-01-31T19:27:26.733456Z",
     "start_time": "2022-01-31T19:27:26.718495Z"
    },
    "hidden": true
   },
   "outputs": [
    {
     "data": {
      "text/plain": [
       "0.700993265993266"
      ]
     },
     "execution_count": 33,
     "metadata": {},
     "output_type": "execute_result"
    }
   ],
   "source": [
    "len(num_df[num_df.amount_tsh == 0.0]) / len(num_df)"
   ]
  },
  {
   "cell_type": "markdown",
   "id": "41854049",
   "metadata": {
    "hidden": true
   },
   "source": [
    "70% of our datapoints list the amount_tsh as equal to 0.0. This can't mean that the waterpoint has no water available. We need to understand more about what total static head means. [Research shows](https://www.pumpfundamentals.com/tutorial2.htm#:~:text=If%20the%20liquid%20surface%20of,the%20friction%20in%20the%20system.) that a pump system's static head is the difference between the liquid surface of the reservoir and the discharge end of the pump system. The higher the discharge tube is lifted above the liquid surface, the harder is is for the pump to move the water, and the lower the flow rate will be. I would imagine that the requirements of pump location to discharge would impact the type of pump to be used."
   ]
  },
  {
   "cell_type": "code",
   "execution_count": 34,
   "id": "d87aea58",
   "metadata": {
    "ExecuteTime": {
     "end_time": "2022-01-31T19:27:26.764373Z",
     "start_time": "2022-01-31T19:27:26.734454Z"
    },
    "hidden": true,
    "scrolled": false
   },
   "outputs": [
    {
     "data": {
      "text/html": [
       "<div>\n",
       "<style scoped>\n",
       "    .dataframe tbody tr th:only-of-type {\n",
       "        vertical-align: middle;\n",
       "    }\n",
       "\n",
       "    .dataframe tbody tr th {\n",
       "        vertical-align: top;\n",
       "    }\n",
       "\n",
       "    .dataframe thead th {\n",
       "        text-align: right;\n",
       "    }\n",
       "</style>\n",
       "<table border=\"1\" class=\"dataframe\">\n",
       "  <thead>\n",
       "    <tr style=\"text-align: right;\">\n",
       "      <th></th>\n",
       "      <th>amount_tsh</th>\n",
       "    </tr>\n",
       "    <tr>\n",
       "      <th>target</th>\n",
       "      <th></th>\n",
       "    </tr>\n",
       "  </thead>\n",
       "  <tbody>\n",
       "    <tr>\n",
       "      <th>0</th>\n",
       "      <td>123.481230</td>\n",
       "    </tr>\n",
       "    <tr>\n",
       "      <th>1</th>\n",
       "      <td>267.071577</td>\n",
       "    </tr>\n",
       "    <tr>\n",
       "      <th>2</th>\n",
       "      <td>461.798235</td>\n",
       "    </tr>\n",
       "  </tbody>\n",
       "</table>\n",
       "</div>"
      ],
      "text/plain": [
       "        amount_tsh\n",
       "target            \n",
       "0       123.481230\n",
       "1       267.071577\n",
       "2       461.798235"
      ]
     },
     "execution_count": 34,
     "metadata": {},
     "output_type": "execute_result"
    }
   ],
   "source": [
    "num_df.groupby('target').mean()[['amount_tsh']]"
   ]
  },
  {
   "cell_type": "code",
   "execution_count": 35,
   "id": "8378b5af",
   "metadata": {
    "ExecuteTime": {
     "end_time": "2022-01-31T19:27:26.795291Z",
     "start_time": "2022-01-31T19:27:26.765371Z"
    },
    "hidden": true
   },
   "outputs": [
    {
     "data": {
      "text/html": [
       "<div>\n",
       "<style scoped>\n",
       "    .dataframe tbody tr th:only-of-type {\n",
       "        vertical-align: middle;\n",
       "    }\n",
       "\n",
       "    .dataframe tbody tr th {\n",
       "        vertical-align: top;\n",
       "    }\n",
       "\n",
       "    .dataframe thead th {\n",
       "        text-align: right;\n",
       "    }\n",
       "</style>\n",
       "<table border=\"1\" class=\"dataframe\">\n",
       "  <thead>\n",
       "    <tr style=\"text-align: right;\">\n",
       "      <th></th>\n",
       "      <th>id</th>\n",
       "      <th>amount_tsh</th>\n",
       "      <th>gps_height</th>\n",
       "      <th>longitude</th>\n",
       "      <th>latitude</th>\n",
       "      <th>num_private</th>\n",
       "      <th>region_code</th>\n",
       "      <th>district_code</th>\n",
       "      <th>population</th>\n",
       "      <th>construction_year</th>\n",
       "      <th>target</th>\n",
       "    </tr>\n",
       "  </thead>\n",
       "  <tbody>\n",
       "    <tr>\n",
       "      <th>0</th>\n",
       "      <td>69572</td>\n",
       "      <td>6000.0</td>\n",
       "      <td>1390</td>\n",
       "      <td>34.938093</td>\n",
       "      <td>-9.856322</td>\n",
       "      <td>0</td>\n",
       "      <td>11</td>\n",
       "      <td>5</td>\n",
       "      <td>109</td>\n",
       "      <td>1999</td>\n",
       "      <td>2</td>\n",
       "    </tr>\n",
       "    <tr>\n",
       "      <th>2</th>\n",
       "      <td>34310</td>\n",
       "      <td>25.0</td>\n",
       "      <td>686</td>\n",
       "      <td>37.460664</td>\n",
       "      <td>-3.821329</td>\n",
       "      <td>0</td>\n",
       "      <td>21</td>\n",
       "      <td>4</td>\n",
       "      <td>250</td>\n",
       "      <td>2009</td>\n",
       "      <td>2</td>\n",
       "    </tr>\n",
       "    <tr>\n",
       "      <th>5</th>\n",
       "      <td>9944</td>\n",
       "      <td>20.0</td>\n",
       "      <td>0</td>\n",
       "      <td>39.172796</td>\n",
       "      <td>-4.765587</td>\n",
       "      <td>0</td>\n",
       "      <td>4</td>\n",
       "      <td>8</td>\n",
       "      <td>1</td>\n",
       "      <td>2009</td>\n",
       "      <td>2</td>\n",
       "    </tr>\n",
       "    <tr>\n",
       "      <th>11</th>\n",
       "      <td>50409</td>\n",
       "      <td>200.0</td>\n",
       "      <td>1062</td>\n",
       "      <td>35.770258</td>\n",
       "      <td>-10.574175</td>\n",
       "      <td>0</td>\n",
       "      <td>10</td>\n",
       "      <td>5</td>\n",
       "      <td>250</td>\n",
       "      <td>1987</td>\n",
       "      <td>2</td>\n",
       "    </tr>\n",
       "    <tr>\n",
       "      <th>16</th>\n",
       "      <td>48451</td>\n",
       "      <td>500.0</td>\n",
       "      <td>1703</td>\n",
       "      <td>34.642439</td>\n",
       "      <td>-9.106185</td>\n",
       "      <td>0</td>\n",
       "      <td>11</td>\n",
       "      <td>4</td>\n",
       "      <td>35</td>\n",
       "      <td>1978</td>\n",
       "      <td>0</td>\n",
       "    </tr>\n",
       "    <tr>\n",
       "      <th>...</th>\n",
       "      <td>...</td>\n",
       "      <td>...</td>\n",
       "      <td>...</td>\n",
       "      <td>...</td>\n",
       "      <td>...</td>\n",
       "      <td>...</td>\n",
       "      <td>...</td>\n",
       "      <td>...</td>\n",
       "      <td>...</td>\n",
       "      <td>...</td>\n",
       "      <td>...</td>\n",
       "    </tr>\n",
       "    <tr>\n",
       "      <th>59385</th>\n",
       "      <td>34473</td>\n",
       "      <td>500.0</td>\n",
       "      <td>1327</td>\n",
       "      <td>33.951681</td>\n",
       "      <td>-2.021854</td>\n",
       "      <td>0</td>\n",
       "      <td>20</td>\n",
       "      <td>4</td>\n",
       "      <td>200</td>\n",
       "      <td>2011</td>\n",
       "      <td>2</td>\n",
       "    </tr>\n",
       "    <tr>\n",
       "      <th>59387</th>\n",
       "      <td>26640</td>\n",
       "      <td>100.0</td>\n",
       "      <td>25</td>\n",
       "      <td>39.176480</td>\n",
       "      <td>-6.957098</td>\n",
       "      <td>0</td>\n",
       "      <td>7</td>\n",
       "      <td>2</td>\n",
       "      <td>100</td>\n",
       "      <td>2000</td>\n",
       "      <td>2</td>\n",
       "    </tr>\n",
       "    <tr>\n",
       "      <th>59394</th>\n",
       "      <td>11164</td>\n",
       "      <td>500.0</td>\n",
       "      <td>351</td>\n",
       "      <td>37.634053</td>\n",
       "      <td>-6.124830</td>\n",
       "      <td>0</td>\n",
       "      <td>5</td>\n",
       "      <td>6</td>\n",
       "      <td>89</td>\n",
       "      <td>2007</td>\n",
       "      <td>0</td>\n",
       "    </tr>\n",
       "    <tr>\n",
       "      <th>59395</th>\n",
       "      <td>60739</td>\n",
       "      <td>10.0</td>\n",
       "      <td>1210</td>\n",
       "      <td>37.169807</td>\n",
       "      <td>-3.253847</td>\n",
       "      <td>0</td>\n",
       "      <td>3</td>\n",
       "      <td>5</td>\n",
       "      <td>125</td>\n",
       "      <td>1999</td>\n",
       "      <td>2</td>\n",
       "    </tr>\n",
       "    <tr>\n",
       "      <th>59396</th>\n",
       "      <td>27263</td>\n",
       "      <td>4700.0</td>\n",
       "      <td>1212</td>\n",
       "      <td>35.249991</td>\n",
       "      <td>-9.070629</td>\n",
       "      <td>0</td>\n",
       "      <td>11</td>\n",
       "      <td>4</td>\n",
       "      <td>56</td>\n",
       "      <td>1996</td>\n",
       "      <td>2</td>\n",
       "    </tr>\n",
       "  </tbody>\n",
       "</table>\n",
       "<p>17761 rows × 11 columns</p>\n",
       "</div>"
      ],
      "text/plain": [
       "          id  amount_tsh  gps_height  longitude   latitude  num_private  \\\n",
       "0      69572      6000.0        1390  34.938093  -9.856322            0   \n",
       "2      34310        25.0         686  37.460664  -3.821329            0   \n",
       "5       9944        20.0           0  39.172796  -4.765587            0   \n",
       "11     50409       200.0        1062  35.770258 -10.574175            0   \n",
       "16     48451       500.0        1703  34.642439  -9.106185            0   \n",
       "...      ...         ...         ...        ...        ...          ...   \n",
       "59385  34473       500.0        1327  33.951681  -2.021854            0   \n",
       "59387  26640       100.0          25  39.176480  -6.957098            0   \n",
       "59394  11164       500.0         351  37.634053  -6.124830            0   \n",
       "59395  60739        10.0        1210  37.169807  -3.253847            0   \n",
       "59396  27263      4700.0        1212  35.249991  -9.070629            0   \n",
       "\n",
       "       region_code  district_code  population  construction_year  target  \n",
       "0               11              5         109               1999       2  \n",
       "2               21              4         250               2009       2  \n",
       "5                4              8           1               2009       2  \n",
       "11              10              5         250               1987       2  \n",
       "16              11              4          35               1978       0  \n",
       "...            ...            ...         ...                ...     ...  \n",
       "59385           20              4         200               2011       2  \n",
       "59387            7              2         100               2000       2  \n",
       "59394            5              6          89               2007       0  \n",
       "59395            3              5         125               1999       2  \n",
       "59396           11              4          56               1996       2  \n",
       "\n",
       "[17761 rows x 11 columns]"
      ]
     },
     "execution_count": 35,
     "metadata": {},
     "output_type": "execute_result"
    }
   ],
   "source": [
    "num_df[num_df.amount_tsh > 0]"
   ]
  },
  {
   "cell_type": "markdown",
   "id": "84b93c21",
   "metadata": {
    "hidden": true
   },
   "source": [
    "The average total static head increases with each pump status category, from 0 (non function) to 2 (functional). We will have to engineer this feature in some way in order to utilize it. Most of our values are 0, we have none that are below that, and the maximum value is 350,000 feet."
   ]
  },
  {
   "cell_type": "markdown",
   "id": "843e40f5",
   "metadata": {
    "heading_collapsed": true,
    "hidden": true
   },
   "source": [
    "## gps_height"
   ]
  },
  {
   "cell_type": "code",
   "execution_count": 36,
   "id": "a8871337",
   "metadata": {
    "ExecuteTime": {
     "end_time": "2022-01-31T19:27:26.842201Z",
     "start_time": "2022-01-31T19:27:26.796288Z"
    },
    "hidden": true
   },
   "outputs": [
    {
     "name": "stdout",
     "output_type": "stream",
     "text": [
      "Percent of total data: 2.52%\n"
     ]
    },
    {
     "data": {
      "text/html": [
       "<div>\n",
       "<style scoped>\n",
       "    .dataframe tbody tr th:only-of-type {\n",
       "        vertical-align: middle;\n",
       "    }\n",
       "\n",
       "    .dataframe tbody tr th {\n",
       "        vertical-align: top;\n",
       "    }\n",
       "\n",
       "    .dataframe thead th {\n",
       "        text-align: right;\n",
       "    }\n",
       "</style>\n",
       "<table border=\"1\" class=\"dataframe\">\n",
       "  <thead>\n",
       "    <tr style=\"text-align: right;\">\n",
       "      <th></th>\n",
       "      <th>id</th>\n",
       "      <th>amount_tsh</th>\n",
       "      <th>gps_height</th>\n",
       "      <th>longitude</th>\n",
       "      <th>latitude</th>\n",
       "      <th>num_private</th>\n",
       "      <th>region_code</th>\n",
       "      <th>district_code</th>\n",
       "      <th>population</th>\n",
       "      <th>construction_year</th>\n",
       "      <th>target</th>\n",
       "    </tr>\n",
       "  </thead>\n",
       "  <tbody>\n",
       "    <tr>\n",
       "      <th>count</th>\n",
       "      <td>1496.000000</td>\n",
       "      <td>1496.000000</td>\n",
       "      <td>1496.000000</td>\n",
       "      <td>1496.000000</td>\n",
       "      <td>1496.000000</td>\n",
       "      <td>1496.000000</td>\n",
       "      <td>1496.000000</td>\n",
       "      <td>1496.000000</td>\n",
       "      <td>1496.000000</td>\n",
       "      <td>1496.000000</td>\n",
       "      <td>1496.000000</td>\n",
       "    </tr>\n",
       "    <tr>\n",
       "      <th>mean</th>\n",
       "      <td>37297.606952</td>\n",
       "      <td>313.013369</td>\n",
       "      <td>-19.993316</td>\n",
       "      <td>39.352801</td>\n",
       "      <td>-7.727535</td>\n",
       "      <td>0.506684</td>\n",
       "      <td>34.703877</td>\n",
       "      <td>15.531417</td>\n",
       "      <td>258.137032</td>\n",
       "      <td>1686.096257</td>\n",
       "      <td>1.073529</td>\n",
       "    </tr>\n",
       "    <tr>\n",
       "      <th>std</th>\n",
       "      <td>21119.500129</td>\n",
       "      <td>4017.641868</td>\n",
       "      <td>12.154136</td>\n",
       "      <td>0.458811</td>\n",
       "      <td>1.542230</td>\n",
       "      <td>7.155227</td>\n",
       "      <td>35.259116</td>\n",
       "      <td>21.812220</td>\n",
       "      <td>428.417873</td>\n",
       "      <td>726.379806</td>\n",
       "      <td>0.983446</td>\n",
       "    </tr>\n",
       "    <tr>\n",
       "      <th>min</th>\n",
       "      <td>150.000000</td>\n",
       "      <td>0.000000</td>\n",
       "      <td>-90.000000</td>\n",
       "      <td>38.614960</td>\n",
       "      <td>-10.946096</td>\n",
       "      <td>0.000000</td>\n",
       "      <td>4.000000</td>\n",
       "      <td>1.000000</td>\n",
       "      <td>1.000000</td>\n",
       "      <td>0.000000</td>\n",
       "      <td>0.000000</td>\n",
       "    </tr>\n",
       "    <tr>\n",
       "      <th>25%</th>\n",
       "      <td>19232.750000</td>\n",
       "      <td>0.000000</td>\n",
       "      <td>-28.000000</td>\n",
       "      <td>38.972421</td>\n",
       "      <td>-8.584131</td>\n",
       "      <td>0.000000</td>\n",
       "      <td>6.000000</td>\n",
       "      <td>1.000000</td>\n",
       "      <td>40.000000</td>\n",
       "      <td>1976.000000</td>\n",
       "      <td>0.000000</td>\n",
       "    </tr>\n",
       "    <tr>\n",
       "      <th>50%</th>\n",
       "      <td>36699.000000</td>\n",
       "      <td>0.000000</td>\n",
       "      <td>-18.000000</td>\n",
       "      <td>39.281546</td>\n",
       "      <td>-7.415977</td>\n",
       "      <td>0.000000</td>\n",
       "      <td>7.000000</td>\n",
       "      <td>5.000000</td>\n",
       "      <td>102.500000</td>\n",
       "      <td>2000.000000</td>\n",
       "      <td>2.000000</td>\n",
       "    </tr>\n",
       "    <tr>\n",
       "      <th>75%</th>\n",
       "      <td>55492.750000</td>\n",
       "      <td>50.000000</td>\n",
       "      <td>-11.000000</td>\n",
       "      <td>39.662349</td>\n",
       "      <td>-6.524902</td>\n",
       "      <td>0.000000</td>\n",
       "      <td>60.000000</td>\n",
       "      <td>13.000000</td>\n",
       "      <td>320.000000</td>\n",
       "      <td>2008.000000</td>\n",
       "      <td>2.000000</td>\n",
       "    </tr>\n",
       "    <tr>\n",
       "      <th>max</th>\n",
       "      <td>74211.000000</td>\n",
       "      <td>138000.000000</td>\n",
       "      <td>-1.000000</td>\n",
       "      <td>40.345193</td>\n",
       "      <td>-5.278598</td>\n",
       "      <td>150.000000</td>\n",
       "      <td>99.000000</td>\n",
       "      <td>67.000000</td>\n",
       "      <td>4520.000000</td>\n",
       "      <td>2013.000000</td>\n",
       "      <td>2.000000</td>\n",
       "    </tr>\n",
       "  </tbody>\n",
       "</table>\n",
       "</div>"
      ],
      "text/plain": [
       "                 id     amount_tsh   gps_height    longitude     latitude  \\\n",
       "count   1496.000000    1496.000000  1496.000000  1496.000000  1496.000000   \n",
       "mean   37297.606952     313.013369   -19.993316    39.352801    -7.727535   \n",
       "std    21119.500129    4017.641868    12.154136     0.458811     1.542230   \n",
       "min      150.000000       0.000000   -90.000000    38.614960   -10.946096   \n",
       "25%    19232.750000       0.000000   -28.000000    38.972421    -8.584131   \n",
       "50%    36699.000000       0.000000   -18.000000    39.281546    -7.415977   \n",
       "75%    55492.750000      50.000000   -11.000000    39.662349    -6.524902   \n",
       "max    74211.000000  138000.000000    -1.000000    40.345193    -5.278598   \n",
       "\n",
       "       num_private  region_code  district_code   population  \\\n",
       "count  1496.000000  1496.000000    1496.000000  1496.000000   \n",
       "mean      0.506684    34.703877      15.531417   258.137032   \n",
       "std       7.155227    35.259116      21.812220   428.417873   \n",
       "min       0.000000     4.000000       1.000000     1.000000   \n",
       "25%       0.000000     6.000000       1.000000    40.000000   \n",
       "50%       0.000000     7.000000       5.000000   102.500000   \n",
       "75%       0.000000    60.000000      13.000000   320.000000   \n",
       "max     150.000000    99.000000      67.000000  4520.000000   \n",
       "\n",
       "       construction_year       target  \n",
       "count        1496.000000  1496.000000  \n",
       "mean         1686.096257     1.073529  \n",
       "std           726.379806     0.983446  \n",
       "min             0.000000     0.000000  \n",
       "25%          1976.000000     0.000000  \n",
       "50%          2000.000000     2.000000  \n",
       "75%          2008.000000     2.000000  \n",
       "max          2013.000000     2.000000  "
      ]
     },
     "execution_count": 36,
     "metadata": {},
     "output_type": "execute_result"
    }
   ],
   "source": [
    "gps_height_neg = num_df[num_df.gps_height < 0]\n",
    "print(f\"Percent of total data: {round(len(gps_height_neg)/len(num_df)*100,2)}%\")\n",
    "gps_height_neg.describe()"
   ]
  },
  {
   "cell_type": "markdown",
   "id": "7fa450c6",
   "metadata": {
    "hidden": true
   },
   "source": [
    "There are 1,496 datapoints where the gps_height was less than 0, about 2.5% of our data. Earlier we mentioned that this should not be possible as the listed lowest elevation for Tanzania is 0 ft above sea level (at the Indian Ocean). [Research shows](https://eos-gnss.com/knowledge-base/articles/elevation-for-beginners) that most GPS units are designed to measure height based on the representation of the earth's surface as an 'ellipsoid', and it's perfectly possible to be standing at sea level where the reading should be 0 and have it be a negative number. \n",
    "\n",
    "Considering these data are almost all on the eastern edge of the country (lower longitudes) closer to the Indian Ocean, it is likely the sites are at or just above sea level and capable of producing negative height readings. Opportunity for further tuning could be to address this incosistency across all the data, shifting all datapoints to a more accurage representation of height. I do not think it would be as simple as shifting all values up by the largest negative difference. Because it's such a small percentage of our dataset, we will just set them to 0 rather than worry about adjusting all the values."
   ]
  },
  {
   "cell_type": "code",
   "execution_count": 37,
   "id": "5a10ea0f",
   "metadata": {
    "ExecuteTime": {
     "end_time": "2022-01-31T19:27:26.858155Z",
     "start_time": "2022-01-31T19:27:26.844160Z"
    },
    "hidden": true
   },
   "outputs": [],
   "source": [
    "num_df.gps_height.clip(lower=0.0, inplace=True)"
   ]
  },
  {
   "cell_type": "markdown",
   "id": "44db3c9d",
   "metadata": {
    "hidden": true
   },
   "source": [
    "## longitude/latitude"
   ]
  },
  {
   "cell_type": "markdown",
   "id": "6e254691",
   "metadata": {
    "hidden": true
   },
   "source": [
    "The max longitude is within the boundaries, we need to examine all values below the actual minimum which is 29.16667."
   ]
  },
  {
   "cell_type": "code",
   "execution_count": 38,
   "id": "26db66f7",
   "metadata": {
    "ExecuteTime": {
     "end_time": "2022-01-31T19:27:26.906031Z",
     "start_time": "2022-01-31T19:27:26.859142Z"
    },
    "hidden": true
   },
   "outputs": [
    {
     "data": {
      "text/html": [
       "<div>\n",
       "<style scoped>\n",
       "    .dataframe tbody tr th:only-of-type {\n",
       "        vertical-align: middle;\n",
       "    }\n",
       "\n",
       "    .dataframe tbody tr th {\n",
       "        vertical-align: top;\n",
       "    }\n",
       "\n",
       "    .dataframe thead th {\n",
       "        text-align: right;\n",
       "    }\n",
       "</style>\n",
       "<table border=\"1\" class=\"dataframe\">\n",
       "  <thead>\n",
       "    <tr style=\"text-align: right;\">\n",
       "      <th></th>\n",
       "      <th>id</th>\n",
       "      <th>amount_tsh</th>\n",
       "      <th>gps_height</th>\n",
       "      <th>longitude</th>\n",
       "      <th>latitude</th>\n",
       "      <th>num_private</th>\n",
       "      <th>region_code</th>\n",
       "      <th>district_code</th>\n",
       "      <th>population</th>\n",
       "      <th>construction_year</th>\n",
       "      <th>target</th>\n",
       "    </tr>\n",
       "  </thead>\n",
       "  <tbody>\n",
       "    <tr>\n",
       "      <th>count</th>\n",
       "      <td>1812.000000</td>\n",
       "      <td>1812.0</td>\n",
       "      <td>1812.0</td>\n",
       "      <td>1812.0</td>\n",
       "      <td>1.812000e+03</td>\n",
       "      <td>1812.0</td>\n",
       "      <td>1812.000000</td>\n",
       "      <td>1812.000000</td>\n",
       "      <td>1812.0</td>\n",
       "      <td>1812.0</td>\n",
       "      <td>1812.000000</td>\n",
       "    </tr>\n",
       "    <tr>\n",
       "      <th>mean</th>\n",
       "      <td>37389.841060</td>\n",
       "      <td>0.0</td>\n",
       "      <td>0.0</td>\n",
       "      <td>0.0</td>\n",
       "      <td>-2.000000e-08</td>\n",
       "      <td>0.0</td>\n",
       "      <td>17.820088</td>\n",
       "      <td>2.497241</td>\n",
       "      <td>0.0</td>\n",
       "      <td>0.0</td>\n",
       "      <td>1.173289</td>\n",
       "    </tr>\n",
       "    <tr>\n",
       "      <th>std</th>\n",
       "      <td>21413.129962</td>\n",
       "      <td>0.0</td>\n",
       "      <td>0.0</td>\n",
       "      <td>0.0</td>\n",
       "      <td>3.309636e-24</td>\n",
       "      <td>0.0</td>\n",
       "      <td>1.023562</td>\n",
       "      <td>2.157389</td>\n",
       "      <td>0.0</td>\n",
       "      <td>0.0</td>\n",
       "      <td>0.870267</td>\n",
       "    </tr>\n",
       "    <tr>\n",
       "      <th>min</th>\n",
       "      <td>15.000000</td>\n",
       "      <td>0.0</td>\n",
       "      <td>0.0</td>\n",
       "      <td>0.0</td>\n",
       "      <td>-2.000000e-08</td>\n",
       "      <td>0.0</td>\n",
       "      <td>11.000000</td>\n",
       "      <td>1.000000</td>\n",
       "      <td>0.0</td>\n",
       "      <td>0.0</td>\n",
       "      <td>0.000000</td>\n",
       "    </tr>\n",
       "    <tr>\n",
       "      <th>25%</th>\n",
       "      <td>18481.750000</td>\n",
       "      <td>0.0</td>\n",
       "      <td>0.0</td>\n",
       "      <td>0.0</td>\n",
       "      <td>-2.000000e-08</td>\n",
       "      <td>0.0</td>\n",
       "      <td>17.000000</td>\n",
       "      <td>1.000000</td>\n",
       "      <td>0.0</td>\n",
       "      <td>0.0</td>\n",
       "      <td>0.000000</td>\n",
       "    </tr>\n",
       "    <tr>\n",
       "      <th>50%</th>\n",
       "      <td>37326.000000</td>\n",
       "      <td>0.0</td>\n",
       "      <td>0.0</td>\n",
       "      <td>0.0</td>\n",
       "      <td>-2.000000e-08</td>\n",
       "      <td>0.0</td>\n",
       "      <td>17.000000</td>\n",
       "      <td>1.000000</td>\n",
       "      <td>0.0</td>\n",
       "      <td>0.0</td>\n",
       "      <td>1.000000</td>\n",
       "    </tr>\n",
       "    <tr>\n",
       "      <th>75%</th>\n",
       "      <td>55509.750000</td>\n",
       "      <td>0.0</td>\n",
       "      <td>0.0</td>\n",
       "      <td>0.0</td>\n",
       "      <td>-2.000000e-08</td>\n",
       "      <td>0.0</td>\n",
       "      <td>19.000000</td>\n",
       "      <td>6.000000</td>\n",
       "      <td>0.0</td>\n",
       "      <td>0.0</td>\n",
       "      <td>2.000000</td>\n",
       "    </tr>\n",
       "    <tr>\n",
       "      <th>max</th>\n",
       "      <td>74193.000000</td>\n",
       "      <td>0.0</td>\n",
       "      <td>0.0</td>\n",
       "      <td>0.0</td>\n",
       "      <td>-2.000000e-08</td>\n",
       "      <td>0.0</td>\n",
       "      <td>19.000000</td>\n",
       "      <td>6.000000</td>\n",
       "      <td>0.0</td>\n",
       "      <td>0.0</td>\n",
       "      <td>2.000000</td>\n",
       "    </tr>\n",
       "  </tbody>\n",
       "</table>\n",
       "</div>"
      ],
      "text/plain": [
       "                 id  amount_tsh  gps_height  longitude      latitude  \\\n",
       "count   1812.000000      1812.0      1812.0     1812.0  1.812000e+03   \n",
       "mean   37389.841060         0.0         0.0        0.0 -2.000000e-08   \n",
       "std    21413.129962         0.0         0.0        0.0  3.309636e-24   \n",
       "min       15.000000         0.0         0.0        0.0 -2.000000e-08   \n",
       "25%    18481.750000         0.0         0.0        0.0 -2.000000e-08   \n",
       "50%    37326.000000         0.0         0.0        0.0 -2.000000e-08   \n",
       "75%    55509.750000         0.0         0.0        0.0 -2.000000e-08   \n",
       "max    74193.000000         0.0         0.0        0.0 -2.000000e-08   \n",
       "\n",
       "       num_private  region_code  district_code  population  construction_year  \\\n",
       "count       1812.0  1812.000000    1812.000000      1812.0             1812.0   \n",
       "mean           0.0    17.820088       2.497241         0.0                0.0   \n",
       "std            0.0     1.023562       2.157389         0.0                0.0   \n",
       "min            0.0    11.000000       1.000000         0.0                0.0   \n",
       "25%            0.0    17.000000       1.000000         0.0                0.0   \n",
       "50%            0.0    17.000000       1.000000         0.0                0.0   \n",
       "75%            0.0    19.000000       6.000000         0.0                0.0   \n",
       "max            0.0    19.000000       6.000000         0.0                0.0   \n",
       "\n",
       "            target  \n",
       "count  1812.000000  \n",
       "mean      1.173289  \n",
       "std       0.870267  \n",
       "min       0.000000  \n",
       "25%       0.000000  \n",
       "50%       1.000000  \n",
       "75%       2.000000  \n",
       "max       2.000000  "
      ]
     },
     "execution_count": 38,
     "metadata": {},
     "output_type": "execute_result"
    }
   ],
   "source": [
    "longitude_errors = num_df[num_df.longitude < 29.16667]\n",
    "longitude_errors.describe()"
   ]
  },
  {
   "cell_type": "markdown",
   "id": "7016694c",
   "metadata": {
    "hidden": true
   },
   "source": [
    "It looks like we have found that our data includes errors in GPS readings. These errors show up as longitude 0 and latitude -2e-0.8. These entries with GPS errors, however, do not account for all the population point values of 0, or the construction year values of 0, so we will still need to address them."
   ]
  },
  {
   "cell_type": "code",
   "execution_count": 39,
   "id": "77ce6b86",
   "metadata": {
    "ExecuteTime": {
     "end_time": "2022-01-31T19:27:26.921953Z",
     "start_time": "2022-01-31T19:27:26.907015Z"
    },
    "hidden": true
   },
   "outputs": [
    {
     "name": "stdout",
     "output_type": "stream",
     "text": [
      "Percent of data with missing lat/long: 3.05%\n",
      "Total data with population of 0: 21381\n",
      "Total data with construction year of 0: 20709\n"
     ]
    }
   ],
   "source": [
    "print(f\"Percent of data with missing lat/long: {round((len(longitude_errors)/len(num_df))*100, 2)}%\")\n",
    "\n",
    "print(f\"Total data with population of 0: {len(num_df[num_df.population == 0])}\")\n",
    "print(f\"Total data with construction year of 0: {len(num_df[num_df.construction_year == 0])}\")"
   ]
  },
  {
   "cell_type": "code",
   "execution_count": 40,
   "id": "7f3a4782",
   "metadata": {
    "ExecuteTime": {
     "end_time": "2022-01-31T19:27:26.937910Z",
     "start_time": "2022-01-31T19:27:26.922950Z"
    },
    "hidden": true
   },
   "outputs": [
    {
     "data": {
      "text/plain": [
       "2    0.480132\n",
       "0    0.306843\n",
       "1    0.213024\n",
       "Name: target, dtype: float64"
      ]
     },
     "execution_count": 40,
     "metadata": {},
     "output_type": "execute_result"
    }
   ],
   "source": [
    "gps_errors = raw_df[raw_df.longitude == 0.0]\n",
    "gps_errors.target.value_counts(normalize=True)"
   ]
  },
  {
   "cell_type": "code",
   "execution_count": 41,
   "id": "1ac32c3d",
   "metadata": {
    "ExecuteTime": {
     "end_time": "2022-01-31T19:27:26.953869Z",
     "start_time": "2022-01-31T19:27:26.939905Z"
    },
    "hidden": true
   },
   "outputs": [
    {
     "data": {
      "text/plain": [
       "17    1057\n",
       "19     752\n",
       "11       3\n",
       "Name: region_code, dtype: int64"
      ]
     },
     "execution_count": 41,
     "metadata": {},
     "output_type": "execute_result"
    }
   ],
   "source": [
    "gps_errors.region_code.value_counts()"
   ]
  },
  {
   "cell_type": "markdown",
   "id": "0d01664d",
   "metadata": {
    "hidden": true
   },
   "source": [
    "The missing GPS data comprises about 3% of our dataset, but contains a disproportionate number of the 'functional needs repair' value from the target, which we already have very little data for. Also, all of the missing GPS data comes from three regions: 11, 17, and 19. \n",
    "\n",
    "What we can do is take the average lat/long from the points we do have for those region_codes and fill our nulls with the average for that region_code with a little randomness added in."
   ]
  },
  {
   "cell_type": "code",
   "execution_count": 42,
   "id": "05c41dba",
   "metadata": {
    "ExecuteTime": {
     "end_time": "2022-01-31T19:27:27.063574Z",
     "start_time": "2022-01-31T19:27:26.955863Z"
    },
    "hidden": true
   },
   "outputs": [],
   "source": [
    "# get the list of the region codes with errors\n",
    "error_regions = list(gps_errors.region_code.value_counts().index)\n",
    "\n",
    "for region in error_regions:\n",
    "    # split the data based on longitude not being 0.0\n",
    "    region_no_gps = num_df[(num_df.region_code == region) & (num_df.longitude == 0.0)]\n",
    "    region_gps_data = num_df[(num_df.region_code == region) & (num_df.longitude != 0.0)]\n",
    "    # get mean and std for the long/lat of gps data we have\n",
    "    avg_long = region_gps_data[['longitude', 'latitude']].mean()[0]\n",
    "    avg_lat = region_gps_data[['longitude', 'latitude']].mean()[1]\n",
    "    long_std = region_gps_data[['longitude', 'latitude']].std()[0]\n",
    "    lat_std = region_gps_data[['longitude', 'latitude']].std()[1]\n",
    "    # initialize empty lists for random data to fill\n",
    "    fill_long = []\n",
    "    fill_lat = []\n",
    "    # append to each list a random value within the standard deviation of the mean\n",
    "    for x in range(len(region_no_gps)):\n",
    "        fill_long.append(random.triangular(avg_long+long_std, avg_long-long_std))\n",
    "        fill_lat.append(random.triangular(avg_lat+lat_std, avg_lat-lat_std))\n",
    "        x += 1\n",
    "    # convert the two lists into a dataframe\n",
    "    fill_df = pd.DataFrame([fill_long, fill_lat]).transpose()\n",
    "    fill_df.columns = ['longitude', 'latitude']\n",
    "    # replace the missing GPS data with these randomized values\n",
    "    num_df.loc[region_no_gps.index, ['longitude', 'latitude']] = fill_df"
   ]
  },
  {
   "cell_type": "markdown",
   "id": "0d50cc50",
   "metadata": {
    "hidden": true
   },
   "source": [
    "## num_private"
   ]
  },
  {
   "cell_type": "code",
   "execution_count": 43,
   "id": "fac67d44",
   "metadata": {
    "ExecuteTime": {
     "end_time": "2022-01-31T19:27:27.078536Z",
     "start_time": "2022-01-31T19:27:27.064572Z"
    },
    "hidden": true
   },
   "outputs": [
    {
     "data": {
      "text/plain": [
       "0       0.987256\n",
       "6       0.001364\n",
       "1       0.001229\n",
       "5       0.000774\n",
       "8       0.000774\n",
       "          ...   \n",
       "42      0.000017\n",
       "23      0.000017\n",
       "136     0.000017\n",
       "698     0.000017\n",
       "1402    0.000017\n",
       "Name: num_private, Length: 65, dtype: float64"
      ]
     },
     "execution_count": 43,
     "metadata": {},
     "output_type": "execute_result"
    }
   ],
   "source": [
    "num_df.num_private.value_counts(normalize=True)"
   ]
  },
  {
   "cell_type": "code",
   "execution_count": 44,
   "id": "7aefeebd",
   "metadata": {
    "ExecuteTime": {
     "end_time": "2022-01-31T19:27:27.364772Z",
     "start_time": "2022-01-31T19:27:27.080530Z"
    },
    "hidden": true
   },
   "outputs": [
    {
     "data": {
      "image/png": "[encoded data removed]",
      "text/plain": [
       "<Figure size 432x288 with 1 Axes>"
      ]
     },
     "metadata": {
      "needs_background": "light"
     },
     "output_type": "display_data"
    }
   ],
   "source": [
    "sns.scatterplot(data=num_df, x='target', y='num_private');"
   ]
  },
  {
   "cell_type": "markdown",
   "id": "f4443407",
   "metadata": {
    "hidden": true
   },
   "source": [
    "The vast majority of the num_private data has the value 0. There was no descriptor of the feature along with the others for the dataset, so we have no way to reference the value. 98% of the values in this feature are '0'. After looking at a quick scatterplot, we conclude it's very unlikely that there would be any statistically significant relationship between this feature and the target. We are going to drop it from num_df"
   ]
  },
  {
   "cell_type": "code",
   "execution_count": 45,
   "id": "942dbea5",
   "metadata": {
    "ExecuteTime": {
     "end_time": "2022-01-31T19:27:27.380730Z",
     "start_time": "2022-01-31T19:27:27.365770Z"
    },
    "hidden": true
   },
   "outputs": [],
   "source": [
    "num_df.drop('num_private', axis=1, inplace=True)"
   ]
  },
  {
   "cell_type": "markdown",
   "id": "bc3a0e6b",
   "metadata": {
    "hidden": true
   },
   "source": [
    "## region_code"
   ]
  },
  {
   "cell_type": "markdown",
   "id": "c5c87eab",
   "metadata": {
    "hidden": true
   },
   "source": [
    "What we suspect is that the regions are the parent in the relationship with district, and that each region has multiple districts in them. Since we have codes for region and strings for regions, lets compare them and see what we can discover."
   ]
  },
  {
   "cell_type": "code",
   "execution_count": 46,
   "id": "05ce7c08",
   "metadata": {
    "ExecuteTime": {
     "end_time": "2022-01-31T19:27:27.412644Z",
     "start_time": "2022-01-31T19:27:27.381727Z"
    },
    "hidden": true
   },
   "outputs": [
    {
     "name": "stdout",
     "output_type": "stream",
     "text": [
      "Region numeric unique value count: 27\n",
      "Region string unique value count: 21\n",
      "------------------------------------\n",
      "Region_code values:\n",
      "1, 2, 3, 4, 5, 6, 7, 8, 9, 10, 11, 12, 13, 14, 15, 16, 17, 18, 19, 20, 21, 24, 40, 60, 80, 90, 99\n",
      "------------------------------------\n",
      "Entries with region code > 21: 3930\n",
      "Percent of total data: 6.62%\n",
      "------------------------------------\n"
     ]
    }
   ],
   "source": [
    "print(f\"Region numeric unique value count: {len(num_df.region_code.value_counts())}\")\n",
    "print(f\"Region string unique value count: {len(raw_df.region.value_counts())}\")\n",
    "print(\"------------------------------------\")\n",
    "region_code_vals = list(map(str, list(num_df.region_code.value_counts().sort_index().index)))\n",
    "print(\"Region_code values:\")\n",
    "print(\", \".join(region_code_vals))\n",
    "print(\"------------------------------------\")\n",
    "high_region_codes = raw_df[(num_df.region_code > 21)].copy()\n",
    "print(f\"Entries with region code > 21: {len(high_region_codes)}\")\n",
    "print(f\"Percent of total data: {round(len(high_region_codes)/len(raw_df)*100, 2)}%\")\n",
    "print(\"------------------------------------\")"
   ]
  },
  {
   "cell_type": "code",
   "execution_count": 47,
   "id": "8c0304e0",
   "metadata": {
    "ExecuteTime": {
     "end_time": "2022-01-31T19:27:27.428603Z",
     "start_time": "2022-01-31T19:27:27.414640Z"
    },
    "hidden": true
   },
   "outputs": [
    {
     "data": {
      "text/plain": [
       "True"
      ]
     },
     "execution_count": 47,
     "metadata": {},
     "output_type": "execute_result"
    }
   ],
   "source": [
    "len(raw_df[(raw_df.region_code > 21)]) == len(raw_df[(raw_df.region_code > 21) & (raw_df.longitude != 0.0)])"
   ]
  },
  {
   "cell_type": "markdown",
   "id": "4cfe1552",
   "metadata": {
    "hidden": true
   },
   "source": [
    "We can see that the values of region_code go from 1 to 21, and then we have values 24, 40, 60, 80, 90, 99. It's likely that the values 1-21 match up to the 21 string value regions in the feature 'region'.\n",
    "\n",
    "Entries with region_code values above 21 constitute 6.6% of our dataset, and all of the data categorized in these other region_codes contain correct lat/long data. (note: checked this using the raw_df, not the num_df we modified the missing lat/longs for)\n",
    "\n",
    "As for the others, they serve some kind of purpose inputting data. We will need to figure out:\n",
    "- What region_code matches to what region?\n",
    "- What do the >21 region_code values mean?\n",
    "_________\n",
    "We are going to create a dataframe that goes through the region_codes 1-21 and adds the top reporting region/count from the value_count for that particular region_code. Then we look at any differences between those counts and the raw counts of entries with each region code."
   ]
  },
  {
   "cell_type": "code",
   "execution_count": 48,
   "id": "c57f2cbf",
   "metadata": {
    "ExecuteTime": {
     "end_time": "2022-01-31T19:27:27.603157Z",
     "start_time": "2022-01-31T19:27:27.430597Z"
    },
    "hidden": true
   },
   "outputs": [
    {
     "data": {
      "text/html": [
       "<div>\n",
       "<style scoped>\n",
       "    .dataframe tbody tr th:only-of-type {\n",
       "        vertical-align: middle;\n",
       "    }\n",
       "\n",
       "    .dataframe tbody tr th {\n",
       "        vertical-align: top;\n",
       "    }\n",
       "\n",
       "    .dataframe thead th {\n",
       "        text-align: right;\n",
       "    }\n",
       "</style>\n",
       "<table border=\"1\" class=\"dataframe\">\n",
       "  <thead>\n",
       "    <tr style=\"text-align: right;\">\n",
       "      <th></th>\n",
       "      <th>region_code</th>\n",
       "      <th>region</th>\n",
       "      <th>region_count</th>\n",
       "      <th>region_code_count</th>\n",
       "      <th>surplus_code_count</th>\n",
       "    </tr>\n",
       "  </thead>\n",
       "  <tbody>\n",
       "    <tr>\n",
       "      <th>4</th>\n",
       "      <td>5</td>\n",
       "      <td>Morogoro</td>\n",
       "      <td>4006</td>\n",
       "      <td>4040</td>\n",
       "      <td>34</td>\n",
       "    </tr>\n",
       "    <tr>\n",
       "      <th>10</th>\n",
       "      <td>11</td>\n",
       "      <td>Iringa</td>\n",
       "      <td>5294</td>\n",
       "      <td>5300</td>\n",
       "      <td>6</td>\n",
       "    </tr>\n",
       "    <tr>\n",
       "      <th>13</th>\n",
       "      <td>14</td>\n",
       "      <td>Tabora</td>\n",
       "      <td>1959</td>\n",
       "      <td>1979</td>\n",
       "      <td>20</td>\n",
       "    </tr>\n",
       "    <tr>\n",
       "      <th>16</th>\n",
       "      <td>17</td>\n",
       "      <td>Shinyanga</td>\n",
       "      <td>4956</td>\n",
       "      <td>5011</td>\n",
       "      <td>55</td>\n",
       "    </tr>\n",
       "    <tr>\n",
       "      <th>17</th>\n",
       "      <td>18</td>\n",
       "      <td>Kagera</td>\n",
       "      <td>3316</td>\n",
       "      <td>3324</td>\n",
       "      <td>8</td>\n",
       "    </tr>\n",
       "  </tbody>\n",
       "</table>\n",
       "</div>"
      ],
      "text/plain": [
       "    region_code     region  region_count  region_code_count  \\\n",
       "4             5   Morogoro          4006               4040   \n",
       "10           11     Iringa          5294               5300   \n",
       "13           14     Tabora          1959               1979   \n",
       "16           17  Shinyanga          4956               5011   \n",
       "17           18     Kagera          3316               3324   \n",
       "\n",
       "    surplus_code_count  \n",
       "4                   34  \n",
       "10                   6  \n",
       "13                  20  \n",
       "16                  55  \n",
       "17                   8  "
      ]
     },
     "execution_count": 48,
     "metadata": {},
     "output_type": "execute_result"
    }
   ],
   "source": [
    "region_code_list = []\n",
    "\n",
    "for x in range(1, 22):\n",
    "    region = raw_df[raw_df.region_code == x]['region'].value_counts().index[0]\n",
    "    count = raw_df[raw_df.region_code == x]['region'].value_counts().values[0]\n",
    "    region_code_list.append((x, region, count))\n",
    "    \n",
    "region_df = pd.DataFrame(region_code_list, columns=['region_code', 'region', 'region_count'])\n",
    "region_df['region_code_count'] = raw_df.region_code.value_counts().sort_index().values[:21]\n",
    "\n",
    "region_df['surplus_code_count'] = region_df['region_code_count'] - region_df['region_count']\n",
    "region_df[region_df.surplus_code_count > 0]"
   ]
  },
  {
   "cell_type": "markdown",
   "id": "01e40100",
   "metadata": {
    "hidden": true
   },
   "source": [
    "Of the 21 regions, 16 of them match up the region with a region_code and both features have the same count of values. There are 5 regions where the region_code value count has a surplus of values compared to the region value count.\n",
    "\n",
    "For these few number of values, one thought is to update records for these region_codes so that all region_code values match to one region, i.e. we will update all rows where region_code is 5 so that the region 'Morogoro' is reflected. Just to be sure, lets look closer at this example.\n"
   ]
  },
  {
   "cell_type": "code",
   "execution_count": 49,
   "id": "5d4a4c7a",
   "metadata": {
    "ExecuteTime": {
     "end_time": "2022-01-31T19:27:27.619094Z",
     "start_time": "2022-01-31T19:27:27.605131Z"
    },
    "hidden": true
   },
   "outputs": [
    {
     "data": {
      "text/plain": [
       "Morogoro    4006\n",
       "Tanga         34\n",
       "Name: region, dtype: int64"
      ]
     },
     "execution_count": 49,
     "metadata": {},
     "output_type": "execute_result"
    }
   ],
   "source": [
    "raw_df[raw_df.region_code == 5].region.value_counts()"
   ]
  },
  {
   "cell_type": "code",
   "execution_count": 50,
   "id": "23e1b3e5",
   "metadata": {
    "ExecuteTime": {
     "end_time": "2022-01-31T19:27:27.651009Z",
     "start_time": "2022-01-31T19:27:27.620092Z"
    },
    "hidden": true
   },
   "outputs": [
    {
     "data": {
      "text/html": [
       "<div>\n",
       "<style scoped>\n",
       "    .dataframe tbody tr th:only-of-type {\n",
       "        vertical-align: middle;\n",
       "    }\n",
       "\n",
       "    .dataframe tbody tr th {\n",
       "        vertical-align: top;\n",
       "    }\n",
       "\n",
       "    .dataframe thead th {\n",
       "        text-align: right;\n",
       "    }\n",
       "</style>\n",
       "<table border=\"1\" class=\"dataframe\">\n",
       "  <thead>\n",
       "    <tr style=\"text-align: right;\">\n",
       "      <th></th>\n",
       "      <th>longitude</th>\n",
       "      <th>latitude</th>\n",
       "    </tr>\n",
       "  </thead>\n",
       "  <tbody>\n",
       "    <tr>\n",
       "      <th>count</th>\n",
       "      <td>34.000000</td>\n",
       "      <td>34.000000</td>\n",
       "    </tr>\n",
       "    <tr>\n",
       "      <th>mean</th>\n",
       "      <td>37.180390</td>\n",
       "      <td>-6.039227</td>\n",
       "    </tr>\n",
       "    <tr>\n",
       "      <th>std</th>\n",
       "      <td>0.029752</td>\n",
       "      <td>0.025528</td>\n",
       "    </tr>\n",
       "    <tr>\n",
       "      <th>min</th>\n",
       "      <td>37.108257</td>\n",
       "      <td>-6.093574</td>\n",
       "    </tr>\n",
       "    <tr>\n",
       "      <th>25%</th>\n",
       "      <td>37.163602</td>\n",
       "      <td>-6.054215</td>\n",
       "    </tr>\n",
       "    <tr>\n",
       "      <th>50%</th>\n",
       "      <td>37.186427</td>\n",
       "      <td>-6.044506</td>\n",
       "    </tr>\n",
       "    <tr>\n",
       "      <th>75%</th>\n",
       "      <td>37.200669</td>\n",
       "      <td>-6.019999</td>\n",
       "    </tr>\n",
       "    <tr>\n",
       "      <th>max</th>\n",
       "      <td>37.231274</td>\n",
       "      <td>-5.992508</td>\n",
       "    </tr>\n",
       "  </tbody>\n",
       "</table>\n",
       "</div>"
      ],
      "text/plain": [
       "       longitude   latitude\n",
       "count  34.000000  34.000000\n",
       "mean   37.180390  -6.039227\n",
       "std     0.029752   0.025528\n",
       "min    37.108257  -6.093574\n",
       "25%    37.163602  -6.054215\n",
       "50%    37.186427  -6.044506\n",
       "75%    37.200669  -6.019999\n",
       "max    37.231274  -5.992508"
      ]
     },
     "execution_count": 50,
     "metadata": {},
     "output_type": "execute_result"
    }
   ],
   "source": [
    "raw_df[(raw_df.region_code == 5) & (raw_df.region == 'Tanga')][['longitude', 'latitude']].describe()"
   ]
  },
  {
   "cell_type": "markdown",
   "id": "b2d79c78",
   "metadata": {
    "hidden": true
   },
   "source": [
    "When we looked at the lat/long for the region_code 5 rows that have the region label 'Tanga', the most northern/eastern (min) value was within the boundary of the region 'Morogoro', but very close to the border. Tanga is the northern neighbor to region. We are going to make an assumption that these values of region_code reference the same region string, and assume that is also the case for the remaining surpluses. We will update those region values accordingly so that each region_code corresponds to one and only one region string. **Note: we are modifying the original raw_df here. We will then split off all categorical features in section 5 to encode. The 'region' feature is not a part of num_df**"
   ]
  },
  {
   "cell_type": "code",
   "execution_count": 51,
   "id": "4bd6f2ec",
   "metadata": {
    "ExecuteTime": {
     "end_time": "2022-01-31T19:27:27.697905Z",
     "start_time": "2022-01-31T19:27:27.653003Z"
    },
    "hidden": true
   },
   "outputs": [],
   "source": [
    "fixes = list(zip(list(region_df[region_df.surplus_code_count > 0].region_code.values),\n",
    "    list(region_df[region_df.surplus_code_count > 0].region.values)))\n",
    "\n",
    "for fix in fixes:\n",
    "    code = fix[0]\n",
    "    region = fix[1]\n",
    "    \n",
    "    raw_df.loc[raw_df[(raw_df.region_code == code) & (raw_df.region != region)].index, 'region'] = region"
   ]
  },
  {
   "cell_type": "markdown",
   "id": "ce84a0fd",
   "metadata": {
    "hidden": true
   },
   "source": [
    "________________\n",
    "\n",
    "Now we need to examine the region_codes whose value is over 21 and figure out what they mean."
   ]
  },
  {
   "cell_type": "code",
   "execution_count": 52,
   "id": "7db6cec9",
   "metadata": {
    "ExecuteTime": {
     "end_time": "2022-01-31T19:27:27.713863Z",
     "start_time": "2022-01-31T19:27:27.698881Z"
    },
    "hidden": true
   },
   "outputs": [
    {
     "data": {
      "text/plain": [
       "80    1238\n",
       "60    1025\n",
       "90     917\n",
       "99     423\n",
       "24     326\n",
       "40       1\n",
       "Name: region_code, dtype: int64"
      ]
     },
     "execution_count": 52,
     "metadata": {},
     "output_type": "execute_result"
    }
   ],
   "source": [
    "num_df[num_df.region_code > 21].region_code.value_counts()"
   ]
  },
  {
   "cell_type": "markdown",
   "id": "71c8928b",
   "metadata": {
    "hidden": true
   },
   "source": [
    "We have about 6.6% of our data in these incorrectly labeled region_codes. We have just modified our raw_df dataframe and assigned all region values based on the (top) region_code value count. Lets look at our data grouped by region value and see the average for the region_code. If the average is an integer, we know that all entries for that region is the same number as the entries for the region_code (that value being the mean of the region_code feature). If it's not an integer, then it means that the region is represented by different region_codes and we can figure out which codes and reassign them correctly."
   ]
  },
  {
   "cell_type": "code",
   "execution_count": 53,
   "id": "35e0ebe1",
   "metadata": {
    "ExecuteTime": {
     "end_time": "2022-01-31T19:27:27.745777Z",
     "start_time": "2022-01-31T19:27:27.714839Z"
    },
    "hidden": true
   },
   "outputs": [
    {
     "data": {
      "text/html": [
       "<div>\n",
       "<style scoped>\n",
       "    .dataframe tbody tr th:only-of-type {\n",
       "        vertical-align: middle;\n",
       "    }\n",
       "\n",
       "    .dataframe tbody tr th {\n",
       "        vertical-align: top;\n",
       "    }\n",
       "\n",
       "    .dataframe thead th {\n",
       "        text-align: right;\n",
       "    }\n",
       "</style>\n",
       "<table border=\"1\" class=\"dataframe\">\n",
       "  <thead>\n",
       "    <tr style=\"text-align: right;\">\n",
       "      <th></th>\n",
       "      <th>region_code</th>\n",
       "      <th>is_int</th>\n",
       "    </tr>\n",
       "    <tr>\n",
       "      <th>region</th>\n",
       "      <th></th>\n",
       "      <th></th>\n",
       "    </tr>\n",
       "  </thead>\n",
       "  <tbody>\n",
       "    <tr>\n",
       "      <th>Arusha</th>\n",
       "      <td>4.140896</td>\n",
       "      <td>False</td>\n",
       "    </tr>\n",
       "    <tr>\n",
       "      <th>Pwani</th>\n",
       "      <td>27.018596</td>\n",
       "      <td>False</td>\n",
       "    </tr>\n",
       "    <tr>\n",
       "      <th>Lindi</th>\n",
       "      <td>65.955787</td>\n",
       "      <td>False</td>\n",
       "    </tr>\n",
       "    <tr>\n",
       "      <th>Mtwara</th>\n",
       "      <td>73.940462</td>\n",
       "      <td>False</td>\n",
       "    </tr>\n",
       "  </tbody>\n",
       "</table>\n",
       "</div>"
      ],
      "text/plain": [
       "        region_code  is_int\n",
       "region                     \n",
       "Arusha     4.140896   False\n",
       "Pwani     27.018596   False\n",
       "Lindi     65.955787   False\n",
       "Mtwara    73.940462   False"
      ]
     },
     "execution_count": 53,
     "metadata": {},
     "output_type": "execute_result"
    }
   ],
   "source": [
    "region_codes = raw_df.groupby('region')[['region_code']].mean().sort_values(by='region_code')\n",
    "region_codes['is_int'] = region_codes.region_code.apply(lambda x: x.is_integer())\n",
    "region_codes = region_codes[region_codes.is_int == False]\n",
    "region_codes"
   ]
  },
  {
   "cell_type": "markdown",
   "id": "a2b89a13",
   "metadata": {
    "hidden": true
   },
   "source": [
    "We can see that these four regions are the ones without integer value region_code averages. We can deduce that all of the region_code values over 21 are attributed to these 4 regions. Now we will go through each region_code attributed to these regions and look at the lat/long averages. If they are in the same region, the averages should be fairly close in value."
   ]
  },
  {
   "cell_type": "code",
   "execution_count": 54,
   "id": "c8993487",
   "metadata": {
    "ExecuteTime": {
     "end_time": "2022-01-31T19:27:27.921322Z",
     "start_time": "2022-01-31T19:27:27.746755Z"
    },
    "hidden": true,
    "scrolled": false
   },
   "outputs": [
    {
     "data": {
      "text/html": [
       "<div>\n",
       "<style scoped>\n",
       "    .dataframe tbody tr th:only-of-type {\n",
       "        vertical-align: middle;\n",
       "    }\n",
       "\n",
       "    .dataframe tbody tr th {\n",
       "        vertical-align: top;\n",
       "    }\n",
       "\n",
       "    .dataframe thead th {\n",
       "        text-align: right;\n",
       "    }\n",
       "</style>\n",
       "<table border=\"1\" class=\"dataframe\">\n",
       "  <thead>\n",
       "    <tr style=\"text-align: right;\">\n",
       "      <th></th>\n",
       "      <th>region</th>\n",
       "      <th>code</th>\n",
       "      <th>long_avg</th>\n",
       "      <th>lat_avg</th>\n",
       "    </tr>\n",
       "  </thead>\n",
       "  <tbody>\n",
       "    <tr>\n",
       "      <th>0</th>\n",
       "      <td>Arusha</td>\n",
       "      <td>2</td>\n",
       "      <td>36.648738</td>\n",
       "      <td>-3.231963</td>\n",
       "    </tr>\n",
       "    <tr>\n",
       "      <th>1</th>\n",
       "      <td>Arusha</td>\n",
       "      <td>24</td>\n",
       "      <td>35.661985</td>\n",
       "      <td>-3.380886</td>\n",
       "    </tr>\n",
       "    <tr>\n",
       "      <th>2</th>\n",
       "      <td>Pwani</td>\n",
       "      <td>6</td>\n",
       "      <td>38.754707</td>\n",
       "      <td>-6.678934</td>\n",
       "    </tr>\n",
       "    <tr>\n",
       "      <th>3</th>\n",
       "      <td>Pwani</td>\n",
       "      <td>60</td>\n",
       "      <td>39.073593</td>\n",
       "      <td>-7.529581</td>\n",
       "    </tr>\n",
       "    <tr>\n",
       "      <th>4</th>\n",
       "      <td>Pwani</td>\n",
       "      <td>40</td>\n",
       "      <td>39.217993</td>\n",
       "      <td>-7.001266</td>\n",
       "    </tr>\n",
       "    <tr>\n",
       "      <th>5</th>\n",
       "      <td>Lindi</td>\n",
       "      <td>80</td>\n",
       "      <td>39.094711</td>\n",
       "      <td>-9.645071</td>\n",
       "    </tr>\n",
       "    <tr>\n",
       "      <th>6</th>\n",
       "      <td>Lindi</td>\n",
       "      <td>8</td>\n",
       "      <td>38.572954</td>\n",
       "      <td>-10.310537</td>\n",
       "    </tr>\n",
       "    <tr>\n",
       "      <th>7</th>\n",
       "      <td>Mtwara</td>\n",
       "      <td>90</td>\n",
       "      <td>38.958680</td>\n",
       "      <td>-10.805449</td>\n",
       "    </tr>\n",
       "    <tr>\n",
       "      <th>8</th>\n",
       "      <td>Mtwara</td>\n",
       "      <td>99</td>\n",
       "      <td>40.004465</td>\n",
       "      <td>-10.457718</td>\n",
       "    </tr>\n",
       "    <tr>\n",
       "      <th>9</th>\n",
       "      <td>Mtwara</td>\n",
       "      <td>9</td>\n",
       "      <td>39.771740</td>\n",
       "      <td>-10.628146</td>\n",
       "    </tr>\n",
       "  </tbody>\n",
       "</table>\n",
       "</div>"
      ],
      "text/plain": [
       "   region  code   long_avg    lat_avg\n",
       "0  Arusha     2  36.648738  -3.231963\n",
       "1  Arusha    24  35.661985  -3.380886\n",
       "2   Pwani     6  38.754707  -6.678934\n",
       "3   Pwani    60  39.073593  -7.529581\n",
       "4   Pwani    40  39.217993  -7.001266\n",
       "5   Lindi    80  39.094711  -9.645071\n",
       "6   Lindi     8  38.572954 -10.310537\n",
       "7  Mtwara    90  38.958680 -10.805449\n",
       "8  Mtwara    99  40.004465 -10.457718\n",
       "9  Mtwara     9  39.771740 -10.628146"
      ]
     },
     "execution_count": 54,
     "metadata": {},
     "output_type": "execute_result"
    }
   ],
   "source": [
    "# get the list of regions from above\n",
    "regions = list(region_codes.index)\n",
    "\n",
    "region_checks = []\n",
    "\n",
    "# for each region, generate a row of data containing the region\n",
    "for region in regions:\n",
    "    codes = list(raw_df[raw_df.region == region].region_code.value_counts().index)\n",
    "    for code in codes:\n",
    "        long_avg = raw_df[raw_df.region_code == code][['longitude']].describe().loc[['mean']].longitude.values[0]\n",
    "        lat_avg = raw_df[raw_df.region_code == code][['latitude']].describe().loc[['mean']].latitude.values[0]\n",
    "        row = [region, code, long_avg, lat_avg]\n",
    "        region_checks.append(row)\n",
    "\n",
    "region_check_df = pd.DataFrame(region_checks,\n",
    "                              columns = ['region','code','long_avg','lat_avg'])\n",
    "region_check_df"
   ]
  },
  {
   "cell_type": "markdown",
   "id": "08eafc83",
   "metadata": {
    "hidden": true
   },
   "source": [
    "We cross-referenced the lat/long averages and can say that all the high-valued region_codes actually belong to an appropriate code for a region. Here we will reassign them correctly (in both the num_df dataframe and the raw_df dataframe so we have access to the region strings)."
   ]
  },
  {
   "cell_type": "code",
   "execution_count": 55,
   "id": "c8cde4c9",
   "metadata": {
    "ExecuteTime": {
     "end_time": "2022-01-31T19:27:27.969193Z",
     "start_time": "2022-01-31T19:27:27.922285Z"
    },
    "hidden": true
   },
   "outputs": [],
   "source": [
    "# all Arusha region codes should be 2\n",
    "num_df.loc[raw_df[raw_df.region_code == 24].index, 'region_code'] = 2\n",
    "raw_df.loc[raw_df[raw_df.region_code == 24].index, 'region_code'] = 2\n",
    "\n",
    "# all Pwani region codes should be 6\n",
    "num_df.loc[raw_df[raw_df.region_code.isin([40, 60])].index, 'region_code'] = 6\n",
    "raw_df.loc[raw_df[raw_df.region_code.isin([40, 60])].index, 'region_code'] = 6\n",
    "\n",
    "# all Lindi region codes should be 8\n",
    "num_df.loc[raw_df[raw_df.region_code == 80].index, 'region_code'] = 8\n",
    "raw_df.loc[raw_df[raw_df.region_code == 80].index, 'region_code'] = 8\n",
    "\n",
    "# all Mtwara regions should be code 9\n",
    "num_df.loc[raw_df[raw_df.region_code.isin([90, 99])].index, 'region_code'] = 9\n",
    "raw_df.loc[raw_df[raw_df.region_code.isin([90, 99])].index, 'region_code'] = 9"
   ]
  },
  {
   "cell_type": "markdown",
   "id": "02f9f6ec",
   "metadata": {
    "hidden": true
   },
   "source": [
    "We've got our 'region_code' feature all sorted out now and the values will match up uniquely with those in the 'region' feature."
   ]
  },
  {
   "cell_type": "markdown",
   "id": "01fb959b",
   "metadata": {
    "hidden": true
   },
   "source": [
    "## district_code"
   ]
  },
  {
   "cell_type": "code",
   "execution_count": 56,
   "id": "dc6caa1d",
   "metadata": {
    "ExecuteTime": {
     "end_time": "2022-01-31T19:27:28.017053Z",
     "start_time": "2022-01-31T19:27:27.971156Z"
    },
    "hidden": true
   },
   "outputs": [
    {
     "data": {
      "text/html": [
       "<div>\n",
       "<style scoped>\n",
       "    .dataframe tbody tr th:only-of-type {\n",
       "        vertical-align: middle;\n",
       "    }\n",
       "\n",
       "    .dataframe tbody tr th {\n",
       "        vertical-align: top;\n",
       "    }\n",
       "\n",
       "    .dataframe thead th {\n",
       "        text-align: right;\n",
       "    }\n",
       "</style>\n",
       "<table border=\"1\" class=\"dataframe\">\n",
       "  <thead>\n",
       "    <tr style=\"text-align: right;\">\n",
       "      <th></th>\n",
       "      <th>region</th>\n",
       "    </tr>\n",
       "    <tr>\n",
       "      <th>region_code</th>\n",
       "      <th></th>\n",
       "    </tr>\n",
       "  </thead>\n",
       "  <tbody>\n",
       "    <tr>\n",
       "      <th>1</th>\n",
       "      <td>Dodoma</td>\n",
       "    </tr>\n",
       "    <tr>\n",
       "      <th>2</th>\n",
       "      <td>Arusha</td>\n",
       "    </tr>\n",
       "    <tr>\n",
       "      <th>3</th>\n",
       "      <td>Kilimanjaro</td>\n",
       "    </tr>\n",
       "    <tr>\n",
       "      <th>4</th>\n",
       "      <td>Tanga</td>\n",
       "    </tr>\n",
       "    <tr>\n",
       "      <th>5</th>\n",
       "      <td>Morogoro</td>\n",
       "    </tr>\n",
       "    <tr>\n",
       "      <th>6</th>\n",
       "      <td>Pwani</td>\n",
       "    </tr>\n",
       "    <tr>\n",
       "      <th>7</th>\n",
       "      <td>Dar es Salaam</td>\n",
       "    </tr>\n",
       "    <tr>\n",
       "      <th>8</th>\n",
       "      <td>Lindi</td>\n",
       "    </tr>\n",
       "    <tr>\n",
       "      <th>9</th>\n",
       "      <td>Mtwara</td>\n",
       "    </tr>\n",
       "    <tr>\n",
       "      <th>10</th>\n",
       "      <td>Ruvuma</td>\n",
       "    </tr>\n",
       "    <tr>\n",
       "      <th>11</th>\n",
       "      <td>Iringa</td>\n",
       "    </tr>\n",
       "    <tr>\n",
       "      <th>12</th>\n",
       "      <td>Mbeya</td>\n",
       "    </tr>\n",
       "    <tr>\n",
       "      <th>13</th>\n",
       "      <td>Singida</td>\n",
       "    </tr>\n",
       "    <tr>\n",
       "      <th>14</th>\n",
       "      <td>Tabora</td>\n",
       "    </tr>\n",
       "    <tr>\n",
       "      <th>15</th>\n",
       "      <td>Rukwa</td>\n",
       "    </tr>\n",
       "    <tr>\n",
       "      <th>16</th>\n",
       "      <td>Kigoma</td>\n",
       "    </tr>\n",
       "    <tr>\n",
       "      <th>17</th>\n",
       "      <td>Shinyanga</td>\n",
       "    </tr>\n",
       "    <tr>\n",
       "      <th>18</th>\n",
       "      <td>Kagera</td>\n",
       "    </tr>\n",
       "    <tr>\n",
       "      <th>19</th>\n",
       "      <td>Mwanza</td>\n",
       "    </tr>\n",
       "    <tr>\n",
       "      <th>20</th>\n",
       "      <td>Mara</td>\n",
       "    </tr>\n",
       "    <tr>\n",
       "      <th>21</th>\n",
       "      <td>Manyara</td>\n",
       "    </tr>\n",
       "  </tbody>\n",
       "</table>\n",
       "</div>"
      ],
      "text/plain": [
       "                    region\n",
       "region_code               \n",
       "1                   Dodoma\n",
       "2                   Arusha\n",
       "3              Kilimanjaro\n",
       "4                    Tanga\n",
       "5                 Morogoro\n",
       "6                    Pwani\n",
       "7            Dar es Salaam\n",
       "8                    Lindi\n",
       "9                   Mtwara\n",
       "10                  Ruvuma\n",
       "11                  Iringa\n",
       "12                   Mbeya\n",
       "13                 Singida\n",
       "14                  Tabora\n",
       "15                   Rukwa\n",
       "16                  Kigoma\n",
       "17               Shinyanga\n",
       "18                  Kagera\n",
       "19                  Mwanza\n",
       "20                    Mara\n",
       "21                 Manyara"
      ]
     },
     "execution_count": 56,
     "metadata": {},
     "output_type": "execute_result"
    }
   ],
   "source": [
    "regions_with_codes = pd.DataFrame(raw_df.groupby('region').mean()['region_code'])\n",
    "regions_with_codes.reset_index(inplace=True)\n",
    "regions_with_codes['region_code'] = regions_with_codes.region_code.astype('int')\n",
    "regions_with_codes.set_index('region_code', inplace=True)\n",
    "regions_with_codes.sort_index(inplace=True)\n",
    "regions_with_codes"
   ]
  },
  {
   "cell_type": "markdown",
   "id": "ccd23bbd",
   "metadata": {
    "hidden": true
   },
   "source": [
    "We have established that the regions in our dataset match up with the region_code; there is no 'district' dataset to match with 'district_code'. When researching Tanzanian regions we discovered information on quantity of districts  in each region, so we believe that is how our data relates: each region would have multiple districts in it. Lets look at value counts for district_code."
   ]
  },
  {
   "cell_type": "code",
   "execution_count": 57,
   "id": "840c2f47",
   "metadata": {
    "ExecuteTime": {
     "end_time": "2022-01-31T19:27:28.033022Z",
     "start_time": "2022-01-31T19:27:28.019028Z"
    },
    "hidden": true
   },
   "outputs": [
    {
     "data": {
      "text/plain": [
       "0        23\n",
       "1     12203\n",
       "2     11173\n",
       "3      9998\n",
       "4      8999\n",
       "5      4356\n",
       "6      4074\n",
       "7      3343\n",
       "8      1043\n",
       "13      391\n",
       "23      293\n",
       "30      995\n",
       "33      874\n",
       "43      505\n",
       "53      745\n",
       "60       63\n",
       "62      109\n",
       "63      195\n",
       "67        6\n",
       "80       12\n",
       "Name: district_code, dtype: int64"
      ]
     },
     "execution_count": 57,
     "metadata": {},
     "output_type": "execute_result"
    }
   ],
   "source": [
    "num_df.district_code.value_counts().sort_index()"
   ]
  },
  {
   "cell_type": "markdown",
   "id": "93ba6bc2",
   "metadata": {
    "hidden": true
   },
   "source": [
    "Some initial observations:\n",
    "- It seems odd to have districts with a value of 0.\n",
    "- [Research shows](https://en.wikipedia.org/wiki/Regions_of_Tanzania) that there is one region with 10 districts (Tanga), but we don't have that value. \n",
    "- 10 is is also the largest value we should have for the feature, as that is the maximum number of districts for regions.\n",
    "\n",
    "_____\n",
    "If it is the case that district_code is representative of the actual district within the region, then each region should have at minimum a district_code of 1. The link above will also show that regions at a minimum have 2 districts (the average is about 5.5). Lets go through and see if each region even has the correct number of districts per our research."
   ]
  },
  {
   "cell_type": "code",
   "execution_count": 58,
   "id": "e9055b6f",
   "metadata": {
    "ExecuteTime": {
     "end_time": "2022-01-31T19:27:28.048982Z",
     "start_time": "2022-01-31T19:27:28.034009Z"
    },
    "hidden": true
   },
   "outputs": [
    {
     "data": {
      "text/plain": [
       "'Arusha'"
      ]
     },
     "execution_count": 58,
     "metadata": {},
     "output_type": "execute_result"
    }
   ],
   "source": [
    "region = regions_with_codes[regions_with_codes.index == 2].region.values[0]\n",
    "region"
   ]
  },
  {
   "cell_type": "code",
   "execution_count": 59,
   "id": "a1bdf49b",
   "metadata": {
    "ExecuteTime": {
     "end_time": "2022-01-31T19:27:28.162645Z",
     "start_time": "2022-01-31T19:27:28.051940Z"
    },
    "hidden": true
   },
   "outputs": [
    {
     "data": {
      "text/html": [
       "<div>\n",
       "<style scoped>\n",
       "    .dataframe tbody tr th:only-of-type {\n",
       "        vertical-align: middle;\n",
       "    }\n",
       "\n",
       "    .dataframe tbody tr th {\n",
       "        vertical-align: top;\n",
       "    }\n",
       "\n",
       "    .dataframe thead th {\n",
       "        text-align: right;\n",
       "    }\n",
       "</style>\n",
       "<table border=\"1\" class=\"dataframe\">\n",
       "  <thead>\n",
       "    <tr style=\"text-align: right;\">\n",
       "      <th></th>\n",
       "      <th>region</th>\n",
       "      <th>district_count</th>\n",
       "      <th>district_values</th>\n",
       "      <th>expected_district_count</th>\n",
       "      <th>district_count_discrepancy</th>\n",
       "    </tr>\n",
       "  </thead>\n",
       "  <tbody>\n",
       "    <tr>\n",
       "      <th>1</th>\n",
       "      <td>Arusha</td>\n",
       "      <td>7</td>\n",
       "      <td>[1, 2, 3, 5, 6, 7, 30]</td>\n",
       "      <td>7</td>\n",
       "      <td>0</td>\n",
       "    </tr>\n",
       "    <tr>\n",
       "      <th>6</th>\n",
       "      <td>Dar es Salaam</td>\n",
       "      <td>3</td>\n",
       "      <td>[1, 2, 3]</td>\n",
       "      <td>5</td>\n",
       "      <td>-2</td>\n",
       "    </tr>\n",
       "    <tr>\n",
       "      <th>0</th>\n",
       "      <td>Dodoma</td>\n",
       "      <td>6</td>\n",
       "      <td>[0, 1, 3, 4, 5, 6]</td>\n",
       "      <td>7</td>\n",
       "      <td>-1</td>\n",
       "    </tr>\n",
       "    <tr>\n",
       "      <th>10</th>\n",
       "      <td>Iringa</td>\n",
       "      <td>6</td>\n",
       "      <td>[1, 2, 3, 4, 5, 7]</td>\n",
       "      <td>5</td>\n",
       "      <td>1</td>\n",
       "    </tr>\n",
       "    <tr>\n",
       "      <th>17</th>\n",
       "      <td>Kagera</td>\n",
       "      <td>8</td>\n",
       "      <td>[1, 2, 3, 4, 6, 7, 8, 30]</td>\n",
       "      <td>8</td>\n",
       "      <td>0</td>\n",
       "    </tr>\n",
       "    <tr>\n",
       "      <th>15</th>\n",
       "      <td>Kigoma</td>\n",
       "      <td>4</td>\n",
       "      <td>[1, 2, 3, 4]</td>\n",
       "      <td>8</td>\n",
       "      <td>-4</td>\n",
       "    </tr>\n",
       "    <tr>\n",
       "      <th>2</th>\n",
       "      <td>Kilimanjaro</td>\n",
       "      <td>7</td>\n",
       "      <td>[1, 2, 3, 4, 5, 6, 7]</td>\n",
       "      <td>6</td>\n",
       "      <td>1</td>\n",
       "    </tr>\n",
       "    <tr>\n",
       "      <th>7</th>\n",
       "      <td>Lindi</td>\n",
       "      <td>6</td>\n",
       "      <td>[3, 13, 23, 43, 53, 62]</td>\n",
       "      <td>6</td>\n",
       "      <td>0</td>\n",
       "    </tr>\n",
       "    <tr>\n",
       "      <th>20</th>\n",
       "      <td>Manyara</td>\n",
       "      <td>5</td>\n",
       "      <td>[1, 2, 3, 4, 5]</td>\n",
       "      <td>6</td>\n",
       "      <td>-1</td>\n",
       "    </tr>\n",
       "    <tr>\n",
       "      <th>19</th>\n",
       "      <td>Mara</td>\n",
       "      <td>5</td>\n",
       "      <td>[1, 2, 3, 4, 6]</td>\n",
       "      <td>7</td>\n",
       "      <td>-2</td>\n",
       "    </tr>\n",
       "    <tr>\n",
       "      <th>11</th>\n",
       "      <td>Mbeya</td>\n",
       "      <td>7</td>\n",
       "      <td>[1, 2, 3, 4, 5, 6, 7]</td>\n",
       "      <td>7</td>\n",
       "      <td>0</td>\n",
       "    </tr>\n",
       "    <tr>\n",
       "      <th>4</th>\n",
       "      <td>Morogoro</td>\n",
       "      <td>6</td>\n",
       "      <td>[1, 2, 3, 4, 5, 6]</td>\n",
       "      <td>7</td>\n",
       "      <td>-1</td>\n",
       "    </tr>\n",
       "    <tr>\n",
       "      <th>8</th>\n",
       "      <td>Mtwara</td>\n",
       "      <td>5</td>\n",
       "      <td>[1, 4, 5, 33, 63]</td>\n",
       "      <td>7</td>\n",
       "      <td>-2</td>\n",
       "    </tr>\n",
       "    <tr>\n",
       "      <th>18</th>\n",
       "      <td>Mwanza</td>\n",
       "      <td>8</td>\n",
       "      <td>[1, 2, 3, 4, 5, 6, 7, 8]</td>\n",
       "      <td>7</td>\n",
       "      <td>1</td>\n",
       "    </tr>\n",
       "    <tr>\n",
       "      <th>5</th>\n",
       "      <td>Pwani</td>\n",
       "      <td>11</td>\n",
       "      <td>[1, 2, 3, 4, 6, 33, 43, 53, 60, 63, 67]</td>\n",
       "      <td>7</td>\n",
       "      <td>4</td>\n",
       "    </tr>\n",
       "    <tr>\n",
       "      <th>14</th>\n",
       "      <td>Rukwa</td>\n",
       "      <td>4</td>\n",
       "      <td>[1, 2, 3, 4]</td>\n",
       "      <td>4</td>\n",
       "      <td>0</td>\n",
       "    </tr>\n",
       "    <tr>\n",
       "      <th>9</th>\n",
       "      <td>Ruvuma</td>\n",
       "      <td>5</td>\n",
       "      <td>[1, 2, 3, 4, 5]</td>\n",
       "      <td>6</td>\n",
       "      <td>-1</td>\n",
       "    </tr>\n",
       "    <tr>\n",
       "      <th>16</th>\n",
       "      <td>Shinyanga</td>\n",
       "      <td>8</td>\n",
       "      <td>[1, 2, 3, 5, 6, 7, 8, 80]</td>\n",
       "      <td>5</td>\n",
       "      <td>3</td>\n",
       "    </tr>\n",
       "    <tr>\n",
       "      <th>12</th>\n",
       "      <td>Singida</td>\n",
       "      <td>4</td>\n",
       "      <td>[1, 2, 3, 4]</td>\n",
       "      <td>6</td>\n",
       "      <td>-2</td>\n",
       "    </tr>\n",
       "    <tr>\n",
       "      <th>13</th>\n",
       "      <td>Tabora</td>\n",
       "      <td>6</td>\n",
       "      <td>[1, 2, 3, 4, 5, 6]</td>\n",
       "      <td>7</td>\n",
       "      <td>-1</td>\n",
       "    </tr>\n",
       "    <tr>\n",
       "      <th>3</th>\n",
       "      <td>Tanga</td>\n",
       "      <td>8</td>\n",
       "      <td>[1, 2, 3, 4, 5, 6, 7, 8]</td>\n",
       "      <td>10</td>\n",
       "      <td>-2</td>\n",
       "    </tr>\n",
       "  </tbody>\n",
       "</table>\n",
       "</div>"
      ],
      "text/plain": [
       "           region  district_count                          district_values  \\\n",
       "1          Arusha               7                   [1, 2, 3, 5, 6, 7, 30]   \n",
       "6   Dar es Salaam               3                                [1, 2, 3]   \n",
       "0          Dodoma               6                       [0, 1, 3, 4, 5, 6]   \n",
       "10         Iringa               6                       [1, 2, 3, 4, 5, 7]   \n",
       "17         Kagera               8                [1, 2, 3, 4, 6, 7, 8, 30]   \n",
       "15         Kigoma               4                             [1, 2, 3, 4]   \n",
       "2     Kilimanjaro               7                    [1, 2, 3, 4, 5, 6, 7]   \n",
       "7           Lindi               6                  [3, 13, 23, 43, 53, 62]   \n",
       "20        Manyara               5                          [1, 2, 3, 4, 5]   \n",
       "19           Mara               5                          [1, 2, 3, 4, 6]   \n",
       "11          Mbeya               7                    [1, 2, 3, 4, 5, 6, 7]   \n",
       "4        Morogoro               6                       [1, 2, 3, 4, 5, 6]   \n",
       "8          Mtwara               5                        [1, 4, 5, 33, 63]   \n",
       "18         Mwanza               8                 [1, 2, 3, 4, 5, 6, 7, 8]   \n",
       "5           Pwani              11  [1, 2, 3, 4, 6, 33, 43, 53, 60, 63, 67]   \n",
       "14          Rukwa               4                             [1, 2, 3, 4]   \n",
       "9          Ruvuma               5                          [1, 2, 3, 4, 5]   \n",
       "16      Shinyanga               8                [1, 2, 3, 5, 6, 7, 8, 80]   \n",
       "12        Singida               4                             [1, 2, 3, 4]   \n",
       "13         Tabora               6                       [1, 2, 3, 4, 5, 6]   \n",
       "3           Tanga               8                 [1, 2, 3, 4, 5, 6, 7, 8]   \n",
       "\n",
       "    expected_district_count  district_count_discrepancy  \n",
       "1                         7                           0  \n",
       "6                         5                          -2  \n",
       "0                         7                          -1  \n",
       "10                        5                           1  \n",
       "17                        8                           0  \n",
       "15                        8                          -4  \n",
       "2                         6                           1  \n",
       "7                         6                           0  \n",
       "20                        6                          -1  \n",
       "19                        7                          -2  \n",
       "11                        7                           0  \n",
       "4                         7                          -1  \n",
       "8                         7                          -2  \n",
       "18                        7                           1  \n",
       "5                         7                           4  \n",
       "14                        4                           0  \n",
       "9                         6                          -1  \n",
       "16                        5                           3  \n",
       "12                        6                          -2  \n",
       "13                        7                          -1  \n",
       "3                        10                          -2  "
      ]
     },
     "execution_count": 59,
     "metadata": {},
     "output_type": "execute_result"
    }
   ],
   "source": [
    "district_info = []\n",
    "\n",
    "for x in range(1, 22):\n",
    "    # get our region name\n",
    "    region = regions_with_codes[regions_with_codes.index == x].region.values[0]\n",
    "    # use the num_df to list all the district codes with that region_code\n",
    "    districts = sorted(list(num_df[num_df.region_code == x].district_code.value_counts().index))\n",
    "    # create the row of data\n",
    "    row = [region, len(districts), districts]\n",
    "    # append to list\n",
    "    district_info.append(row)\n",
    "\n",
    "district_info_df = pd.DataFrame(district_info,\n",
    "                               columns=['region','district_count', 'district_values'])\n",
    "district_info_df.sort_values(by='region', inplace=True)\n",
    "# input expected district count from research (based on alphabetical order of region in our data)\n",
    "district_info_df['expected_district_count'] = [7, 5, 7, 5, 8, 8, 6, 6, 6, 7, 7, 7, 7, 7, 7, 4, 6, 5, 6, 7, 10]\n",
    "district_info_df['district_count_discrepancy'] = district_info_df.district_count - district_info_df.expected_district_count\n",
    "district_info_df"
   ]
  },
  {
   "cell_type": "code",
   "execution_count": 60,
   "id": "b0c24a54",
   "metadata": {
    "ExecuteTime": {
     "end_time": "2022-01-31T19:27:28.173636Z",
     "start_time": "2022-01-31T19:27:28.164639Z"
    },
    "hidden": true
   },
   "outputs": [
    {
     "data": {
      "text/plain": [
       "-9"
      ]
     },
     "execution_count": 60,
     "metadata": {},
     "output_type": "execute_result"
    }
   ],
   "source": [
    "district_info_df.district_count_discrepancy.sum()"
   ]
  },
  {
   "cell_type": "markdown",
   "id": "7ec89f22",
   "metadata": {
    "hidden": true
   },
   "source": [
    "Observations:\n",
    "- Even the largest count value, district_code of 1, is not represented in all of our regions, which should be the case if each region had a separate count of districts.\n",
    "- Even if we had the correct number of districts, they were not necessarily numbered in the correct way. Arusha should have 7 districts, and we would expect 1-7 but we have no district_code 4 (instead, we have a 30)\n",
    "- Some regions have more than the expected number of districts, some have less. If we simply had mislabeled districts, then our sum of discrepancies should be equal, but it is not, we are 9 total districts heavy of what we should have.\n",
    "\n",
    "It's suspected that there will not be an easy way to reconcile this feature. If we were able to organize this, we would also then need to have unique values for each district among all regions to give it any meaningful impact. It's likely the case that we will not be using district_code in modeling."
   ]
  },
  {
   "cell_type": "code",
   "execution_count": 61,
   "id": "51def7a5",
   "metadata": {
    "ExecuteTime": {
     "end_time": "2022-01-31T19:27:28.188575Z",
     "start_time": "2022-01-31T19:27:28.175610Z"
    },
    "hidden": true
   },
   "outputs": [],
   "source": [
    "num_df.drop('district_code', axis=1, inplace=True)"
   ]
  },
  {
   "cell_type": "markdown",
   "id": "cc53b27e",
   "metadata": {
    "hidden": true
   },
   "source": [
    "## population (still deciding)"
   ]
  },
  {
   "cell_type": "code",
   "execution_count": 62,
   "id": "b5db1a9d",
   "metadata": {
    "ExecuteTime": {
     "end_time": "2022-01-31T19:27:28.204555Z",
     "start_time": "2022-01-31T19:27:28.189572Z"
    },
    "hidden": true
   },
   "outputs": [
    {
     "data": {
      "text/plain": [
       "count    59400.000000\n",
       "mean       179.909983\n",
       "std        471.482176\n",
       "min          0.000000\n",
       "25%          0.000000\n",
       "50%         25.000000\n",
       "75%        215.000000\n",
       "max      30500.000000\n",
       "Name: population, dtype: float64"
      ]
     },
     "execution_count": 62,
     "metadata": {},
     "output_type": "execute_result"
    }
   ],
   "source": [
    "num_df['population'].describe()"
   ]
  },
  {
   "cell_type": "code",
   "execution_count": 63,
   "id": "b0fca49a",
   "metadata": {
    "ExecuteTime": {
     "end_time": "2022-01-31T19:27:28.220490Z",
     "start_time": "2022-01-31T19:27:28.205551Z"
    },
    "hidden": true
   },
   "outputs": [
    {
     "data": {
      "text/plain": [
       "(-30.501, 2033.333]       58922\n",
       "(2033.333, 4066.667]        325\n",
       "(4066.667, 6100.0]           85\n",
       "(6100.0, 8133.333]           53\n",
       "(8133.333, 10166.667]        12\n",
       "(10166.667, 12200.0]          1\n",
       "(12200.0, 14233.333]          0\n",
       "(14233.333, 16266.667]        1\n",
       "(16266.667, 18300.0]          0\n",
       "(18300.0, 20333.333]          0\n",
       "(20333.333, 22366.667]        0\n",
       "(22366.667, 24400.0]          0\n",
       "(24400.0, 26433.333]          0\n",
       "(26433.333, 28466.667]        0\n",
       "(28466.667, 30500.0]          1\n",
       "Name: population, dtype: int64"
      ]
     },
     "execution_count": 63,
     "metadata": {},
     "output_type": "execute_result"
    }
   ],
   "source": [
    "num_df.population.value_counts(sort=False, bins=15)"
   ]
  },
  {
   "cell_type": "markdown",
   "id": "81e85199",
   "metadata": {
    "hidden": true
   },
   "source": [
    "Just about 36% of our population data is 0, 50% is 25 or under, and 75% is 215 or under.\n",
    "\n",
    "When we look at the population auto-binned into 15 bins, you can see that once we are over about 10,000 people, there are only 3 datapoints, with large gaps in between. Furthermore, most of the data in the smallest bin (as expected). Lets look at binning everything less than 215, our 75% quartile, but more than 0"
   ]
  },
  {
   "cell_type": "code",
   "execution_count": 64,
   "id": "8e084933",
   "metadata": {
    "ExecuteTime": {
     "end_time": "2022-01-31T19:27:28.251408Z",
     "start_time": "2022-01-31T19:27:28.221487Z"
    },
    "hidden": true
   },
   "outputs": [
    {
     "data": {
      "text/plain": [
       "(0.786, 43.6]     9993\n",
       "(43.6, 86.2]      4160\n",
       "(86.2, 128.8]     3168\n",
       "(128.8, 171.4]    3040\n",
       "(171.4, 214.0]    2807\n",
       "Name: population, dtype: int64"
      ]
     },
     "execution_count": 64,
     "metadata": {},
     "output_type": "execute_result"
    }
   ],
   "source": [
    "num_df[(num_df.population < 215) & (num_df.population > 0)].population.value_counts(sort=False, bins=5)"
   ]
  },
  {
   "cell_type": "code",
   "execution_count": 65,
   "id": "a51c5a37",
   "metadata": {
    "ExecuteTime": {
     "end_time": "2022-01-31T19:27:28.267364Z",
     "start_time": "2022-01-31T19:27:28.252405Z"
    },
    "hidden": true
   },
   "outputs": [
    {
     "data": {
      "text/plain": [
       "14803"
      ]
     },
     "execution_count": 65,
     "metadata": {},
     "output_type": "execute_result"
    }
   ],
   "source": [
    "len(num_df[num_df.population > 215])"
   ]
  },
  {
   "cell_type": "code",
   "execution_count": 66,
   "id": "375ada16",
   "metadata": {
    "ExecuteTime": {
     "end_time": "2022-01-31T19:27:28.283323Z",
     "start_time": "2022-01-31T19:27:28.269360Z"
    },
    "hidden": true
   },
   "outputs": [
    {
     "data": {
      "text/plain": [
       "17    0.226697\n",
       "12    0.216968\n",
       "18    0.155091\n",
       "19    0.125345\n",
       "1     0.102942\n",
       "14    0.092559\n",
       "11    0.054721\n",
       "10    0.021842\n",
       "15    0.002198\n",
       "16    0.001450\n",
       "13    0.000094\n",
       "2     0.000047\n",
       "6     0.000047\n",
       "Name: region_code, dtype: float64"
      ]
     },
     "execution_count": 66,
     "metadata": {},
     "output_type": "execute_result"
    }
   ],
   "source": [
    "num_df[num_df.population == 0.0].region_code.value_counts(normalize=True)"
   ]
  },
  {
   "cell_type": "markdown",
   "id": "8afd755a",
   "metadata": {
    "hidden": true
   },
   "source": [
    "I suspect the best way to include population is not to have it remain numerical, but to convert to a categorical by binning.\n",
    "**discuss with Abhineet**"
   ]
  },
  {
   "cell_type": "markdown",
   "id": "42e1f418",
   "metadata": {
    "hidden": true
   },
   "source": [
    "## construction_year (still deciding)"
   ]
  },
  {
   "cell_type": "code",
   "execution_count": 67,
   "id": "ebe21978",
   "metadata": {
    "ExecuteTime": {
     "end_time": "2022-01-31T19:27:28.299280Z",
     "start_time": "2022-01-31T19:27:28.285318Z"
    },
    "hidden": true
   },
   "outputs": [
    {
     "data": {
      "text/plain": [
       "count    59400.000000\n",
       "mean      1300.652475\n",
       "std        951.620547\n",
       "min          0.000000\n",
       "25%          0.000000\n",
       "50%       1986.000000\n",
       "75%       2004.000000\n",
       "max       2013.000000\n",
       "Name: construction_year, dtype: float64"
      ]
     },
     "execution_count": 67,
     "metadata": {},
     "output_type": "execute_result"
    }
   ],
   "source": [
    "num_df['construction_year'].describe()"
   ]
  },
  {
   "cell_type": "code",
   "execution_count": 68,
   "id": "c93a705b",
   "metadata": {
    "ExecuteTime": {
     "end_time": "2022-01-31T19:27:28.347153Z",
     "start_time": "2022-01-31T19:27:28.301275Z"
    },
    "hidden": true
   },
   "outputs": [
    {
     "data": {
      "text/html": [
       "<div>\n",
       "<style scoped>\n",
       "    .dataframe tbody tr th:only-of-type {\n",
       "        vertical-align: middle;\n",
       "    }\n",
       "\n",
       "    .dataframe tbody tr th {\n",
       "        vertical-align: top;\n",
       "    }\n",
       "\n",
       "    .dataframe thead th {\n",
       "        text-align: right;\n",
       "    }\n",
       "</style>\n",
       "<table border=\"1\" class=\"dataframe\">\n",
       "  <thead>\n",
       "    <tr style=\"text-align: right;\">\n",
       "      <th></th>\n",
       "      <th>id</th>\n",
       "      <th>amount_tsh</th>\n",
       "      <th>gps_height</th>\n",
       "      <th>longitude</th>\n",
       "      <th>latitude</th>\n",
       "      <th>region_code</th>\n",
       "      <th>population</th>\n",
       "      <th>construction_year</th>\n",
       "      <th>target</th>\n",
       "    </tr>\n",
       "  </thead>\n",
       "  <tbody>\n",
       "    <tr>\n",
       "      <th>count</th>\n",
       "      <td>20709.00000</td>\n",
       "      <td>20709.000000</td>\n",
       "      <td>20709.000000</td>\n",
       "      <td>18926.000000</td>\n",
       "      <td>18926.000000</td>\n",
       "      <td>20709.000000</td>\n",
       "      <td>20709.000000</td>\n",
       "      <td>20709.0</td>\n",
       "      <td>20709.000000</td>\n",
       "    </tr>\n",
       "    <tr>\n",
       "      <th>mean</th>\n",
       "      <td>37175.14781</td>\n",
       "      <td>39.631291</td>\n",
       "      <td>44.412574</td>\n",
       "      <td>33.442529</td>\n",
       "      <td>-5.166442</td>\n",
       "      <td>13.886233</td>\n",
       "      <td>11.967550</td>\n",
       "      <td>0.0</td>\n",
       "      <td>1.105751</td>\n",
       "    </tr>\n",
       "    <tr>\n",
       "      <th>std</th>\n",
       "      <td>21513.56027</td>\n",
       "      <td>1492.658704</td>\n",
       "      <td>257.150216</td>\n",
       "      <td>1.724544</td>\n",
       "      <td>2.771336</td>\n",
       "      <td>5.382644</td>\n",
       "      <td>155.964828</td>\n",
       "      <td>0.0</td>\n",
       "      <td>0.949986</td>\n",
       "    </tr>\n",
       "    <tr>\n",
       "      <th>min</th>\n",
       "      <td>0.00000</td>\n",
       "      <td>0.000000</td>\n",
       "      <td>0.000000</td>\n",
       "      <td>29.765058</td>\n",
       "      <td>-11.476121</td>\n",
       "      <td>1.000000</td>\n",
       "      <td>0.000000</td>\n",
       "      <td>0.0</td>\n",
       "      <td>0.000000</td>\n",
       "    </tr>\n",
       "    <tr>\n",
       "      <th>25%</th>\n",
       "      <td>18573.00000</td>\n",
       "      <td>0.000000</td>\n",
       "      <td>0.000000</td>\n",
       "      <td>32.444514</td>\n",
       "      <td>-8.568612</td>\n",
       "      <td>12.000000</td>\n",
       "      <td>0.000000</td>\n",
       "      <td>0.0</td>\n",
       "      <td>0.000000</td>\n",
       "    </tr>\n",
       "    <tr>\n",
       "      <th>50%</th>\n",
       "      <td>37031.00000</td>\n",
       "      <td>0.000000</td>\n",
       "      <td>0.000000</td>\n",
       "      <td>33.288013</td>\n",
       "      <td>-4.177418</td>\n",
       "      <td>17.000000</td>\n",
       "      <td>0.000000</td>\n",
       "      <td>0.0</td>\n",
       "      <td>2.000000</td>\n",
       "    </tr>\n",
       "    <tr>\n",
       "      <th>75%</th>\n",
       "      <td>55936.00000</td>\n",
       "      <td>0.000000</td>\n",
       "      <td>0.000000</td>\n",
       "      <td>33.922165</td>\n",
       "      <td>-2.931222</td>\n",
       "      <td>18.000000</td>\n",
       "      <td>0.000000</td>\n",
       "      <td>0.0</td>\n",
       "      <td>2.000000</td>\n",
       "    </tr>\n",
       "    <tr>\n",
       "      <th>max</th>\n",
       "      <td>74242.00000</td>\n",
       "      <td>200000.000000</td>\n",
       "      <td>2215.000000</td>\n",
       "      <td>40.197541</td>\n",
       "      <td>-0.998464</td>\n",
       "      <td>21.000000</td>\n",
       "      <td>6922.000000</td>\n",
       "      <td>0.0</td>\n",
       "      <td>2.000000</td>\n",
       "    </tr>\n",
       "  </tbody>\n",
       "</table>\n",
       "</div>"
      ],
      "text/plain": [
       "                id     amount_tsh    gps_height     longitude      latitude  \\\n",
       "count  20709.00000   20709.000000  20709.000000  18926.000000  18926.000000   \n",
       "mean   37175.14781      39.631291     44.412574     33.442529     -5.166442   \n",
       "std    21513.56027    1492.658704    257.150216      1.724544      2.771336   \n",
       "min        0.00000       0.000000      0.000000     29.765058    -11.476121   \n",
       "25%    18573.00000       0.000000      0.000000     32.444514     -8.568612   \n",
       "50%    37031.00000       0.000000      0.000000     33.288013     -4.177418   \n",
       "75%    55936.00000       0.000000      0.000000     33.922165     -2.931222   \n",
       "max    74242.00000  200000.000000   2215.000000     40.197541     -0.998464   \n",
       "\n",
       "        region_code    population  construction_year        target  \n",
       "count  20709.000000  20709.000000            20709.0  20709.000000  \n",
       "mean      13.886233     11.967550                0.0      1.105751  \n",
       "std        5.382644    155.964828                0.0      0.949986  \n",
       "min        1.000000      0.000000                0.0      0.000000  \n",
       "25%       12.000000      0.000000                0.0      0.000000  \n",
       "50%       17.000000      0.000000                0.0      2.000000  \n",
       "75%       18.000000      0.000000                0.0      2.000000  \n",
       "max       21.000000   6922.000000                0.0      2.000000  "
      ]
     },
     "execution_count": 68,
     "metadata": {},
     "output_type": "execute_result"
    }
   ],
   "source": [
    "num_df[num_df.construction_year == 0.0].describe()"
   ]
  },
  {
   "cell_type": "code",
   "execution_count": 69,
   "id": "ea9ddb59",
   "metadata": {
    "ExecuteTime": {
     "end_time": "2022-01-31T19:27:28.408987Z",
     "start_time": "2022-01-31T19:27:28.349148Z"
    },
    "hidden": true
   },
   "outputs": [
    {
     "data": {
      "text/html": [
       "<div>\n",
       "<style scoped>\n",
       "    .dataframe tbody tr th:only-of-type {\n",
       "        vertical-align: middle;\n",
       "    }\n",
       "\n",
       "    .dataframe tbody tr th {\n",
       "        vertical-align: top;\n",
       "    }\n",
       "\n",
       "    .dataframe thead th {\n",
       "        text-align: right;\n",
       "    }\n",
       "</style>\n",
       "<table border=\"1\" class=\"dataframe\">\n",
       "  <thead>\n",
       "    <tr style=\"text-align: right;\">\n",
       "      <th></th>\n",
       "      <th>id</th>\n",
       "      <th>amount_tsh</th>\n",
       "      <th>gps_height</th>\n",
       "      <th>longitude</th>\n",
       "      <th>latitude</th>\n",
       "      <th>region_code</th>\n",
       "      <th>population</th>\n",
       "      <th>construction_year</th>\n",
       "      <th>target</th>\n",
       "    </tr>\n",
       "  </thead>\n",
       "  <tbody>\n",
       "    <tr>\n",
       "      <th>count</th>\n",
       "      <td>38691.000000</td>\n",
       "      <td>38691.000000</td>\n",
       "      <td>38691.000000</td>\n",
       "      <td>38691.000000</td>\n",
       "      <td>38691.000000</td>\n",
       "      <td>38691.000000</td>\n",
       "      <td>38691.000000</td>\n",
       "      <td>38691.000000</td>\n",
       "      <td>38691.000000</td>\n",
       "    </tr>\n",
       "    <tr>\n",
       "      <th>mean</th>\n",
       "      <td>37083.008736</td>\n",
       "      <td>466.457534</td>\n",
       "      <td>1002.998785</td>\n",
       "      <td>35.983262</td>\n",
       "      <td>-6.235372</td>\n",
       "      <td>9.227805</td>\n",
       "      <td>269.799617</td>\n",
       "      <td>1996.814686</td>\n",
       "      <td>1.187253</td>\n",
       "    </tr>\n",
       "    <tr>\n",
       "      <th>std</th>\n",
       "      <td>21420.922010</td>\n",
       "      <td>3541.036030</td>\n",
       "      <td>617.040275</td>\n",
       "      <td>2.558709</td>\n",
       "      <td>2.761317</td>\n",
       "      <td>5.649036</td>\n",
       "      <td>552.343746</td>\n",
       "      <td>12.472045</td>\n",
       "      <td>0.948484</td>\n",
       "    </tr>\n",
       "    <tr>\n",
       "      <th>min</th>\n",
       "      <td>1.000000</td>\n",
       "      <td>0.000000</td>\n",
       "      <td>0.000000</td>\n",
       "      <td>29.607122</td>\n",
       "      <td>-11.649440</td>\n",
       "      <td>2.000000</td>\n",
       "      <td>0.000000</td>\n",
       "      <td>1960.000000</td>\n",
       "      <td>0.000000</td>\n",
       "    </tr>\n",
       "    <tr>\n",
       "      <th>25%</th>\n",
       "      <td>18489.500000</td>\n",
       "      <td>0.000000</td>\n",
       "      <td>372.000000</td>\n",
       "      <td>34.676719</td>\n",
       "      <td>-8.755274</td>\n",
       "      <td>4.000000</td>\n",
       "      <td>30.000000</td>\n",
       "      <td>1987.000000</td>\n",
       "      <td>0.000000</td>\n",
       "    </tr>\n",
       "    <tr>\n",
       "      <th>50%</th>\n",
       "      <td>37078.000000</td>\n",
       "      <td>0.000000</td>\n",
       "      <td>1154.000000</td>\n",
       "      <td>36.648187</td>\n",
       "      <td>-6.064216</td>\n",
       "      <td>9.000000</td>\n",
       "      <td>150.000000</td>\n",
       "      <td>2000.000000</td>\n",
       "      <td>2.000000</td>\n",
       "    </tr>\n",
       "    <tr>\n",
       "      <th>75%</th>\n",
       "      <td>55514.500000</td>\n",
       "      <td>200.000000</td>\n",
       "      <td>1488.000000</td>\n",
       "      <td>37.803940</td>\n",
       "      <td>-3.650661</td>\n",
       "      <td>13.000000</td>\n",
       "      <td>305.000000</td>\n",
       "      <td>2008.000000</td>\n",
       "      <td>2.000000</td>\n",
       "    </tr>\n",
       "    <tr>\n",
       "      <th>max</th>\n",
       "      <td>74247.000000</td>\n",
       "      <td>350000.000000</td>\n",
       "      <td>2770.000000</td>\n",
       "      <td>40.345193</td>\n",
       "      <td>-1.042375</td>\n",
       "      <td>21.000000</td>\n",
       "      <td>30500.000000</td>\n",
       "      <td>2013.000000</td>\n",
       "      <td>2.000000</td>\n",
       "    </tr>\n",
       "  </tbody>\n",
       "</table>\n",
       "</div>"
      ],
      "text/plain": [
       "                 id     amount_tsh    gps_height     longitude      latitude  \\\n",
       "count  38691.000000   38691.000000  38691.000000  38691.000000  38691.000000   \n",
       "mean   37083.008736     466.457534   1002.998785     35.983262     -6.235372   \n",
       "std    21420.922010    3541.036030    617.040275      2.558709      2.761317   \n",
       "min        1.000000       0.000000      0.000000     29.607122    -11.649440   \n",
       "25%    18489.500000       0.000000    372.000000     34.676719     -8.755274   \n",
       "50%    37078.000000       0.000000   1154.000000     36.648187     -6.064216   \n",
       "75%    55514.500000     200.000000   1488.000000     37.803940     -3.650661   \n",
       "max    74247.000000  350000.000000   2770.000000     40.345193     -1.042375   \n",
       "\n",
       "        region_code    population  construction_year        target  \n",
       "count  38691.000000  38691.000000       38691.000000  38691.000000  \n",
       "mean       9.227805    269.799617        1996.814686      1.187253  \n",
       "std        5.649036    552.343746          12.472045      0.948484  \n",
       "min        2.000000      0.000000        1960.000000      0.000000  \n",
       "25%        4.000000     30.000000        1987.000000      0.000000  \n",
       "50%        9.000000    150.000000        2000.000000      2.000000  \n",
       "75%       13.000000    305.000000        2008.000000      2.000000  \n",
       "max       21.000000  30500.000000        2013.000000      2.000000  "
      ]
     },
     "execution_count": 69,
     "metadata": {},
     "output_type": "execute_result"
    }
   ],
   "source": [
    "num_df[num_df.construction_year != 0.0].describe()"
   ]
  },
  {
   "cell_type": "code",
   "execution_count": 70,
   "id": "b697094f",
   "metadata": {
    "ExecuteTime": {
     "end_time": "2022-01-31T19:27:28.424944Z",
     "start_time": "2022-01-31T19:27:28.409985Z"
    },
    "hidden": true
   },
   "outputs": [
    {
     "data": {
      "text/plain": [
       "2010"
      ]
     },
     "execution_count": 70,
     "metadata": {},
     "output_type": "execute_result"
    }
   ],
   "source": [
    "num_df[num_df.construction_year != 0.0].construction_year.value_counts().index[0]"
   ]
  },
  {
   "cell_type": "code",
   "execution_count": 71,
   "id": "c995a26e",
   "metadata": {
    "ExecuteTime": {
     "end_time": "2022-01-31T19:27:28.439908Z",
     "start_time": "2022-01-31T19:27:28.425943Z"
    },
    "hidden": true
   },
   "outputs": [
    {
     "data": {
      "text/plain": [
       "0.34863636363636363"
      ]
     },
     "execution_count": 71,
     "metadata": {},
     "output_type": "execute_result"
    }
   ],
   "source": [
    "20709 / 59400"
   ]
  },
  {
   "cell_type": "markdown",
   "id": "b3ba6f75",
   "metadata": {
    "hidden": true
   },
   "source": [
    "A little more than a third (34.9%) of our data contains no construction year. Of the data we do have for construction year, it ranges from 1960 to 2013, with an average year of 1996 and a mode of 2010."
   ]
  },
  {
   "cell_type": "markdown",
   "id": "9a7774d3",
   "metadata": {
    "hidden": true
   },
   "source": [
    "This is also a place where we suspect that we convert from a numerical to categorical by binning**Discuss with Abhineet**\n",
    "\n",
    "What other strategies of handing missing data would be appropriate here?"
   ]
  },
  {
   "cell_type": "markdown",
   "id": "40774aa2",
   "metadata": {},
   "source": [
    "# Exploring categorical data"
   ]
  },
  {
   "cell_type": "markdown",
   "id": "186439a6",
   "metadata": {},
   "source": [
    "Because we still need the ID column, we can't just wholesale drop numerical columns from our raw_data. So we make a list of features to drop to make a dataframe of all our categorical data with 2 numerical features: the id, and the target."
   ]
  },
  {
   "cell_type": "code",
   "execution_count": 72,
   "id": "d1c11429",
   "metadata": {
    "ExecuteTime": {
     "end_time": "2022-01-31T19:27:28.486780Z",
     "start_time": "2022-01-31T19:27:28.441921Z"
    }
   },
   "outputs": [
    {
     "data": {
      "text/plain": [
       "['id',\n",
       " 'date_recorded',\n",
       " 'funder',\n",
       " 'installer',\n",
       " 'wpt_name',\n",
       " 'basin',\n",
       " 'subvillage',\n",
       " 'region',\n",
       " 'lga',\n",
       " 'ward',\n",
       " 'public_meeting',\n",
       " 'recorded_by',\n",
       " 'scheme_management',\n",
       " 'scheme_name',\n",
       " 'permit',\n",
       " 'extraction_type',\n",
       " 'extraction_type_group',\n",
       " 'extraction_type_class',\n",
       " 'management',\n",
       " 'management_group',\n",
       " 'payment',\n",
       " 'payment_type',\n",
       " 'water_quality',\n",
       " 'quality_group',\n",
       " 'quantity',\n",
       " 'quantity_group',\n",
       " 'source',\n",
       " 'source_type',\n",
       " 'source_class',\n",
       " 'waterpoint_type',\n",
       " 'waterpoint_type_group',\n",
       " 'target']"
      ]
     },
     "execution_count": 72,
     "metadata": {},
     "output_type": "execute_result"
    }
   ],
   "source": [
    "num_features = ['amount_tsh', 'gps_height', 'longitude', 'latitude',\n",
    "               'num_private', 'region_code', 'district_code', 'population',\n",
    "               'construction_year']\n",
    "\n",
    "cat_df = raw_df.drop(num_features, axis=1).copy()\n",
    "list(cat_df.columns)"
   ]
  },
  {
   "cell_type": "markdown",
   "id": "bc7b311f",
   "metadata": {},
   "source": [
    "We already know that 'id' is the unique identifier. We aren't dropping it so we can merge our categorical and numerical data back together after exploration.\n",
    "\n",
    "The 'date_recorded' feature is likely not going to mean anything for analysis. If we intend to deploy the model for use, new datapoints will not have dates in the range of our training data. We will drop that. We also said earlier we would drop subvillage based on the sheer amount of unique values we have for that feature; onehotencoding would create 19,287 additional features."
   ]
  },
  {
   "cell_type": "code",
   "execution_count": 73,
   "id": "b29f01a6",
   "metadata": {
    "ExecuteTime": {
     "end_time": "2022-01-31T19:27:28.517697Z",
     "start_time": "2022-01-31T19:27:28.488775Z"
    }
   },
   "outputs": [],
   "source": [
    "cat_df.drop(['date_recorded', 'subvillage'], axis=1, inplace=True)"
   ]
  },
  {
   "cell_type": "markdown",
   "id": "ab063c20",
   "metadata": {
    "heading_collapsed": true
   },
   "source": [
    "## funder"
   ]
  },
  {
   "cell_type": "code",
   "execution_count": 79,
   "id": "3c8b7b3a",
   "metadata": {
    "ExecuteTime": {
     "end_time": "2022-01-31T19:30:47.235308Z",
     "start_time": "2022-01-31T19:30:47.211345Z"
    },
    "hidden": true
   },
   "outputs": [
    {
     "data": {
      "text/plain": [
       "Government Of Tanzania    9084\n",
       "Other                     3635\n",
       "Danida                    3114\n",
       "Hesawa                    2202\n",
       "Rwssp                     1374\n",
       "                          ... \n",
       "Rarymond Ekura               1\n",
       "Justine Marwa                1\n",
       "Municipal Council            1\n",
       "Afdp                         1\n",
       "Samlo                        1\n",
       "Name: funder, Length: 1898, dtype: int64"
      ]
     },
     "execution_count": 79,
     "metadata": {},
     "output_type": "execute_result"
    }
   ],
   "source": [
    "cat_df.funder.value_counts()"
   ]
  },
  {
   "cell_type": "markdown",
   "id": "c50e3ef5",
   "metadata": {
    "hidden": true
   },
   "source": [
    "We have almost 1900 unique funders. Lets look at the top 100 funders in groups of 10"
   ]
  },
  {
   "cell_type": "code",
   "execution_count": 85,
   "id": "105e0b55",
   "metadata": {
    "ExecuteTime": {
     "end_time": "2022-01-31T19:37:03.311632Z",
     "start_time": "2022-01-31T19:37:03.244782Z"
    },
    "hidden": true
   },
   "outputs": [
    {
     "name": "stdout",
     "output_type": "stream",
     "text": [
      "Top 10 funders represent 25225 waterpoints, or 42.47%\n",
      "Top 20 funders represent 32461 waterpoints, or 54.65%\n",
      "Top 30 funders represent 36586 waterpoints, or 61.59%\n",
      "Top 40 funders represent 39417 waterpoints, or 66.36%\n",
      "Top 50 funders represent 41503 waterpoints, or 69.87%\n",
      "Top 60 funders represent 43173 waterpoints, or 72.68%\n",
      "Top 70 funders represent 44522 waterpoints, or 74.95%\n",
      "Top 80 funders represent 45739 waterpoints, or 77.0%\n",
      "Top 90 funders represent 46819 waterpoints, or 78.82%\n",
      "Top 100 funders represent 47728 waterpoints, or 80.35%\n"
     ]
    }
   ],
   "source": [
    "for x in range(10, 110, 10):\n",
    "    funder_total = cat_df.funder.value_counts()[:x].sum()\n",
    "    percent = round((funder_total / 59400) * 100, 2)\n",
    "    print(f\"Top {x} funders represent {funder_total} waterpoints, or {percent}%\")"
   ]
  },
  {
   "cell_type": "markdown",
   "id": "9289d840",
   "metadata": {
    "hidden": true
   },
   "source": [
    "It's not looking like funder will be a good predictor. Maybe if we could separate out government, private, or other and make it 3 possible values. And really, if we think about it, the funder for the waterpump should not have too much impact on its status. As we understand it, this feature is just the organization that provided the money for the pump to be installed.\n",
    "\n",
    "We will drop this feature from consideration.**open to input here**"
   ]
  },
  {
   "cell_type": "code",
   "execution_count": 88,
   "id": "33872f73",
   "metadata": {
    "ExecuteTime": {
     "end_time": "2022-01-31T19:43:38.059603Z",
     "start_time": "2022-01-31T19:43:38.034698Z"
    },
    "hidden": true
   },
   "outputs": [],
   "source": [
    "cat_df.drop('funder', axis=1, inplace=True)"
   ]
  },
  {
   "cell_type": "markdown",
   "id": "db50cd1a",
   "metadata": {
    "heading_collapsed": true
   },
   "source": [
    "## installer"
   ]
  },
  {
   "cell_type": "code",
   "execution_count": 89,
   "id": "72376157",
   "metadata": {
    "ExecuteTime": {
     "end_time": "2022-01-31T19:43:41.429254Z",
     "start_time": "2022-01-31T19:43:41.404342Z"
    },
    "hidden": true
   },
   "outputs": [
    {
     "data": {
      "text/plain": [
       "DWE                17402\n",
       "Other               3655\n",
       "Government          1825\n",
       "RWE                 1206\n",
       "Commu               1060\n",
       "                   ...  \n",
       "Wizara  ya maji        1\n",
       "TWESS                  1\n",
       "Nasan workers          1\n",
       "R                      1\n",
       "SELEPTA                1\n",
       "Name: installer, Length: 2146, dtype: int64"
      ]
     },
     "execution_count": 89,
     "metadata": {},
     "output_type": "execute_result"
    }
   ],
   "source": [
    "cat_df.installer.value_counts()"
   ]
  },
  {
   "cell_type": "markdown",
   "id": "915fa3a1",
   "metadata": {
    "hidden": true
   },
   "source": [
    "Similar situation here as with funder, but with even more unique values. Lets look at the top 100 installers in groups of 10."
   ]
  },
  {
   "cell_type": "code",
   "execution_count": 91,
   "id": "31c2117c",
   "metadata": {
    "ExecuteTime": {
     "end_time": "2022-01-31T19:44:40.393762Z",
     "start_time": "2022-01-31T19:44:40.325972Z"
    },
    "hidden": true
   },
   "outputs": [
    {
     "name": "stdout",
     "output_type": "stream",
     "text": [
      "Top 10 installers represent 29420 waterpoints, or 49.53%\n",
      "Top 20 installers represent 34456 waterpoints, or 58.01%\n",
      "Top 30 installers represent 37507 waterpoints, or 63.14%\n",
      "Top 40 installers represent 39673 waterpoints, or 66.79%\n",
      "Top 50 installers represent 41433 waterpoints, or 69.75%\n",
      "Top 60 installers represent 42923 waterpoints, or 72.26%\n",
      "Top 70 installers represent 44212 waterpoints, or 74.43%\n",
      "Top 80 installers represent 45347 waterpoints, or 76.34%\n",
      "Top 90 installers represent 46341 waterpoints, or 78.02%\n",
      "Top 100 installers represent 47234 waterpoints, or 79.52%\n"
     ]
    }
   ],
   "source": [
    "for x in range(10, 110, 10):\n",
    "    installer_total = cat_df.installer.value_counts()[:x].sum()\n",
    "    percent = round((installer_total / 59400) * 100, 2)\n",
    "    print(f\"Top {x} installers represent {installer_total} waterpoints, or {percent}%\")"
   ]
  },
  {
   "cell_type": "markdown",
   "id": "a785cca7",
   "metadata": {
    "hidden": true
   },
   "source": [
    "The installer feature is in even worse position, made so because it stands to reason that the installation of a waterpoint would contribute to it's status later in operation. I don't see a way to make it meaningful though, considering that when we get new data we will have to find a way to categorize the installer if it doesn't fit into our schema."
   ]
  },
  {
   "cell_type": "code",
   "execution_count": 92,
   "id": "e69c7976",
   "metadata": {
    "ExecuteTime": {
     "end_time": "2022-01-31T19:46:58.924306Z",
     "start_time": "2022-01-31T19:46:58.894383Z"
    },
    "hidden": true
   },
   "outputs": [],
   "source": [
    "cat_df.drop('installer', axis=1, inplace=True)"
   ]
  },
  {
   "cell_type": "markdown",
   "id": "2a3a7ae8",
   "metadata": {},
   "source": [
    "## wpt_name"
   ]
  },
  {
   "cell_type": "code",
   "execution_count": 93,
   "id": "2f0b74ba",
   "metadata": {
    "ExecuteTime": {
     "end_time": "2022-01-31T19:47:49.346612Z",
     "start_time": "2022-01-31T19:47:49.310709Z"
    }
   },
   "outputs": [
    {
     "data": {
      "text/plain": [
       "none                       3563\n",
       "Shuleni                    1748\n",
       "Zahanati                    830\n",
       "Msikitini                   535\n",
       "Kanisani                    323\n",
       "                           ... \n",
       "Kwa Medadi                    1\n",
       "Kwa Kubembeni                 1\n",
       "Shule Ya Msingi Milanzi       1\n",
       "Funua                         1\n",
       "Kwa Mzee Lugawa               1\n",
       "Name: wpt_name, Length: 37400, dtype: int64"
      ]
     },
     "execution_count": 93,
     "metadata": {},
     "output_type": "execute_result"
    }
   ],
   "source": [
    "cat_df.wpt_name.value_counts()"
   ]
  },
  {
   "cell_type": "code",
   "execution_count": 100,
   "id": "194bf6ee",
   "metadata": {
    "ExecuteTime": {
     "end_time": "2022-01-31T19:51:35.943618Z",
     "start_time": "2022-01-31T19:51:35.910705Z"
    }
   },
   "outputs": [
    {
     "data": {
      "text/html": [
       "<div>\n",
       "<style scoped>\n",
       "    .dataframe tbody tr th:only-of-type {\n",
       "        vertical-align: middle;\n",
       "    }\n",
       "\n",
       "    .dataframe tbody tr th {\n",
       "        vertical-align: top;\n",
       "    }\n",
       "\n",
       "    .dataframe thead th {\n",
       "        text-align: right;\n",
       "    }\n",
       "</style>\n",
       "<table border=\"1\" class=\"dataframe\">\n",
       "  <thead>\n",
       "    <tr style=\"text-align: right;\">\n",
       "      <th></th>\n",
       "      <th>wpt_name</th>\n",
       "      <th>count</th>\n",
       "    </tr>\n",
       "  </thead>\n",
       "  <tbody>\n",
       "    <tr>\n",
       "      <th>0</th>\n",
       "      <td>none</td>\n",
       "      <td>3563</td>\n",
       "    </tr>\n",
       "    <tr>\n",
       "      <th>1</th>\n",
       "      <td>Shuleni</td>\n",
       "      <td>1748</td>\n",
       "    </tr>\n",
       "    <tr>\n",
       "      <th>2</th>\n",
       "      <td>Zahanati</td>\n",
       "      <td>830</td>\n",
       "    </tr>\n",
       "    <tr>\n",
       "      <th>3</th>\n",
       "      <td>Msikitini</td>\n",
       "      <td>535</td>\n",
       "    </tr>\n",
       "    <tr>\n",
       "      <th>4</th>\n",
       "      <td>Kanisani</td>\n",
       "      <td>323</td>\n",
       "    </tr>\n",
       "    <tr>\n",
       "      <th>5</th>\n",
       "      <td>Bombani</td>\n",
       "      <td>271</td>\n",
       "    </tr>\n",
       "    <tr>\n",
       "      <th>6</th>\n",
       "      <td>Sokoni</td>\n",
       "      <td>260</td>\n",
       "    </tr>\n",
       "    <tr>\n",
       "      <th>7</th>\n",
       "      <td>Ofisini</td>\n",
       "      <td>254</td>\n",
       "    </tr>\n",
       "    <tr>\n",
       "      <th>8</th>\n",
       "      <td>School</td>\n",
       "      <td>208</td>\n",
       "    </tr>\n",
       "    <tr>\n",
       "      <th>9</th>\n",
       "      <td>Shule Ya Msingi</td>\n",
       "      <td>199</td>\n",
       "    </tr>\n",
       "  </tbody>\n",
       "</table>\n",
       "</div>"
      ],
      "text/plain": [
       "          wpt_name  count\n",
       "0             none   3563\n",
       "1          Shuleni   1748\n",
       "2         Zahanati    830\n",
       "3        Msikitini    535\n",
       "4         Kanisani    323\n",
       "5          Bombani    271\n",
       "6           Sokoni    260\n",
       "7          Ofisini    254\n",
       "8           School    208\n",
       "9  Shule Ya Msingi    199"
      ]
     },
     "execution_count": 100,
     "metadata": {},
     "output_type": "execute_result"
    }
   ],
   "source": [
    "wpt_name_top10 = pd.DataFrame(cat_df.wpt_name.value_counts()[:10])\n",
    "wpt_name_top10.reset_index(inplace=True)\n",
    "wpt_name_top10.columns = ['wpt_name', 'count']\n",
    "wpt_name_top10"
   ]
  },
  {
   "cell_type": "markdown",
   "id": "ebba2e4a",
   "metadata": {},
   "source": [
    "Swahili is the national language of Tanzania. We are going to translate some of these names to see what they mean."
   ]
  },
  {
   "cell_type": "code",
   "execution_count": 102,
   "id": "49b98011",
   "metadata": {
    "ExecuteTime": {
     "end_time": "2022-01-31T19:56:22.901948Z",
     "start_time": "2022-01-31T19:56:22.882972Z"
    }
   },
   "outputs": [],
   "source": [
    "wpt_name_top10['translated'] = ['none', 'at school', 'clinics', 'in the mosque', 'church', 'none', 'none',\n",
    "'office', 'school', 'primary school']"
   ]
  },
  {
   "cell_type": "code",
   "execution_count": 103,
   "id": "e0175a0c",
   "metadata": {
    "ExecuteTime": {
     "end_time": "2022-01-31T19:56:26.542299Z",
     "start_time": "2022-01-31T19:56:26.523325Z"
    }
   },
   "outputs": [
    {
     "data": {
      "text/html": [
       "<div>\n",
       "<style scoped>\n",
       "    .dataframe tbody tr th:only-of-type {\n",
       "        vertical-align: middle;\n",
       "    }\n",
       "\n",
       "    .dataframe tbody tr th {\n",
       "        vertical-align: top;\n",
       "    }\n",
       "\n",
       "    .dataframe thead th {\n",
       "        text-align: right;\n",
       "    }\n",
       "</style>\n",
       "<table border=\"1\" class=\"dataframe\">\n",
       "  <thead>\n",
       "    <tr style=\"text-align: right;\">\n",
       "      <th></th>\n",
       "      <th>wpt_name</th>\n",
       "      <th>count</th>\n",
       "      <th>translated</th>\n",
       "    </tr>\n",
       "  </thead>\n",
       "  <tbody>\n",
       "    <tr>\n",
       "      <th>0</th>\n",
       "      <td>none</td>\n",
       "      <td>3563</td>\n",
       "      <td>none</td>\n",
       "    </tr>\n",
       "    <tr>\n",
       "      <th>1</th>\n",
       "      <td>Shuleni</td>\n",
       "      <td>1748</td>\n",
       "      <td>at school</td>\n",
       "    </tr>\n",
       "    <tr>\n",
       "      <th>2</th>\n",
       "      <td>Zahanati</td>\n",
       "      <td>830</td>\n",
       "      <td>clinics</td>\n",
       "    </tr>\n",
       "    <tr>\n",
       "      <th>3</th>\n",
       "      <td>Msikitini</td>\n",
       "      <td>535</td>\n",
       "      <td>in the mosque</td>\n",
       "    </tr>\n",
       "    <tr>\n",
       "      <th>4</th>\n",
       "      <td>Kanisani</td>\n",
       "      <td>323</td>\n",
       "      <td>church</td>\n",
       "    </tr>\n",
       "    <tr>\n",
       "      <th>5</th>\n",
       "      <td>Bombani</td>\n",
       "      <td>271</td>\n",
       "      <td>none</td>\n",
       "    </tr>\n",
       "    <tr>\n",
       "      <th>6</th>\n",
       "      <td>Sokoni</td>\n",
       "      <td>260</td>\n",
       "      <td>none</td>\n",
       "    </tr>\n",
       "    <tr>\n",
       "      <th>7</th>\n",
       "      <td>Ofisini</td>\n",
       "      <td>254</td>\n",
       "      <td>office</td>\n",
       "    </tr>\n",
       "    <tr>\n",
       "      <th>8</th>\n",
       "      <td>School</td>\n",
       "      <td>208</td>\n",
       "      <td>school</td>\n",
       "    </tr>\n",
       "    <tr>\n",
       "      <th>9</th>\n",
       "      <td>Shule Ya Msingi</td>\n",
       "      <td>199</td>\n",
       "      <td>primary school</td>\n",
       "    </tr>\n",
       "  </tbody>\n",
       "</table>\n",
       "</div>"
      ],
      "text/plain": [
       "          wpt_name  count      translated\n",
       "0             none   3563            none\n",
       "1          Shuleni   1748       at school\n",
       "2         Zahanati    830         clinics\n",
       "3        Msikitini    535   in the mosque\n",
       "4         Kanisani    323          church\n",
       "5          Bombani    271            none\n",
       "6           Sokoni    260            none\n",
       "7          Ofisini    254          office\n",
       "8           School    208          school\n",
       "9  Shule Ya Msingi    199  primary school"
      ]
     },
     "execution_count": 103,
     "metadata": {},
     "output_type": "execute_result"
    }
   ],
   "source": [
    "wpt_name_top10"
   ]
  },
  {
   "cell_type": "code",
   "execution_count": null,
   "id": "411593d4",
   "metadata": {},
   "outputs": [],
   "source": []
  },
  {
   "cell_type": "code",
   "execution_count": null,
   "id": "0235d9fd",
   "metadata": {},
   "outputs": [],
   "source": []
  },
  {
   "cell_type": "code",
   "execution_count": null,
   "id": "d29a1f3a",
   "metadata": {},
   "outputs": [],
   "source": []
  },
  {
   "cell_type": "markdown",
   "id": "5dda5f80",
   "metadata": {},
   "source": [
    "# Exploring extraction types"
   ]
  },
  {
   "cell_type": "code",
   "execution_count": 74,
   "id": "1973025e",
   "metadata": {
    "ExecuteTime": {
     "end_time": "2022-01-31T19:27:29.026390Z",
     "start_time": "2022-01-31T19:27:28.518695Z"
    },
    "scrolled": false
   },
   "outputs": [
    {
     "ename": "AttributeError",
     "evalue": "'DataFrame' object has no attribute 'status_group'",
     "output_type": "error",
     "traceback": [
      "\u001b[1;31m---------------------------------------------------------------------------\u001b[0m",
      "\u001b[1;31mAttributeError\u001b[0m                            Traceback (most recent call last)",
      "\u001b[1;32m~\\AppData\\Local\\Temp/ipykernel_13848/1385484252.py\u001b[0m in \u001b[0;36m<module>\u001b[1;34m\u001b[0m\n\u001b[0;32m      2\u001b[0m \u001b[0mextraction_types\u001b[0m\u001b[1;33m.\u001b[0m\u001b[0mcolumns\u001b[0m \u001b[1;33m=\u001b[0m \u001b[1;33m[\u001b[0m\u001b[1;34m'total_count'\u001b[0m\u001b[1;33m]\u001b[0m\u001b[1;33m\u001b[0m\u001b[1;33m\u001b[0m\u001b[0m\n\u001b[0;32m      3\u001b[0m \u001b[0mextraction_types\u001b[0m\u001b[1;33m[\u001b[0m\u001b[1;34m'percent_of_total'\u001b[0m\u001b[1;33m]\u001b[0m \u001b[1;33m=\u001b[0m \u001b[0mround\u001b[0m\u001b[1;33m(\u001b[0m\u001b[1;33m(\u001b[0m\u001b[0mextraction_types\u001b[0m\u001b[1;33m.\u001b[0m\u001b[0mtotal_count\u001b[0m \u001b[1;33m/\u001b[0m \u001b[0mlen\u001b[0m\u001b[1;33m(\u001b[0m\u001b[0mraw_df\u001b[0m\u001b[1;33m)\u001b[0m\u001b[1;33m)\u001b[0m \u001b[1;33m*\u001b[0m \u001b[1;36m100\u001b[0m\u001b[1;33m,\u001b[0m \u001b[1;36m2\u001b[0m\u001b[1;33m)\u001b[0m\u001b[1;33m\u001b[0m\u001b[1;33m\u001b[0m\u001b[0m\n\u001b[1;32m----> 4\u001b[1;33m \u001b[0mextraction_types\u001b[0m\u001b[1;33m[\u001b[0m\u001b[1;34m'non-functional'\u001b[0m\u001b[1;33m]\u001b[0m \u001b[1;33m=\u001b[0m \u001b[0mraw_df\u001b[0m\u001b[1;33m[\u001b[0m\u001b[0mraw_df\u001b[0m\u001b[1;33m.\u001b[0m\u001b[0mstatus_group\u001b[0m \u001b[1;33m==\u001b[0m \u001b[1;34m'non functional'\u001b[0m\u001b[1;33m]\u001b[0m\u001b[1;33m.\u001b[0m\u001b[0mextraction_type\u001b[0m\u001b[1;33m.\u001b[0m\u001b[0mvalue_counts\u001b[0m\u001b[1;33m(\u001b[0m\u001b[1;33m)\u001b[0m\u001b[1;33m\u001b[0m\u001b[1;33m\u001b[0m\u001b[0m\n\u001b[0m\u001b[0;32m      5\u001b[0m \u001b[0mextraction_types\u001b[0m\u001b[1;33m[\u001b[0m\u001b[1;34m'non-functional_percent'\u001b[0m\u001b[1;33m]\u001b[0m \u001b[1;33m=\u001b[0m \u001b[0mround\u001b[0m\u001b[1;33m(\u001b[0m\u001b[1;33m(\u001b[0m\u001b[0mextraction_types\u001b[0m\u001b[1;33m[\u001b[0m\u001b[1;34m'non-functional'\u001b[0m\u001b[1;33m]\u001b[0m \u001b[1;33m/\u001b[0m \u001b[0mextraction_types\u001b[0m\u001b[1;33m.\u001b[0m\u001b[0mtotal_count\u001b[0m\u001b[1;33m)\u001b[0m \u001b[1;33m*\u001b[0m \u001b[1;36m100\u001b[0m\u001b[1;33m,\u001b[0m \u001b[1;36m2\u001b[0m\u001b[1;33m)\u001b[0m\u001b[1;33m\u001b[0m\u001b[1;33m\u001b[0m\u001b[0m\n\u001b[0;32m      6\u001b[0m \u001b[0mextraction_types\u001b[0m\u001b[1;33m[\u001b[0m\u001b[1;34m'needs_repair'\u001b[0m\u001b[1;33m]\u001b[0m \u001b[1;33m=\u001b[0m \u001b[0mraw_df\u001b[0m\u001b[1;33m[\u001b[0m\u001b[0mraw_df\u001b[0m\u001b[1;33m.\u001b[0m\u001b[0mstatus_group\u001b[0m \u001b[1;33m==\u001b[0m \u001b[1;34m'functional needs repair'\u001b[0m\u001b[1;33m]\u001b[0m\u001b[1;33m.\u001b[0m\u001b[0mextraction_type\u001b[0m\u001b[1;33m.\u001b[0m\u001b[0mvalue_counts\u001b[0m\u001b[1;33m(\u001b[0m\u001b[1;33m)\u001b[0m\u001b[1;33m\u001b[0m\u001b[1;33m\u001b[0m\u001b[0m\n",
      "\u001b[1;32mc:\\users\\brian\\anaconda3\\envs\\learn-env\\lib\\site-packages\\pandas\\core\\generic.py\u001b[0m in \u001b[0;36m__getattr__\u001b[1;34m(self, name)\u001b[0m\n\u001b[0;32m   5485\u001b[0m         ):\n\u001b[0;32m   5486\u001b[0m             \u001b[1;32mreturn\u001b[0m \u001b[0mself\u001b[0m\u001b[1;33m[\u001b[0m\u001b[0mname\u001b[0m\u001b[1;33m]\u001b[0m\u001b[1;33m\u001b[0m\u001b[1;33m\u001b[0m\u001b[0m\n\u001b[1;32m-> 5487\u001b[1;33m         \u001b[1;32mreturn\u001b[0m \u001b[0mobject\u001b[0m\u001b[1;33m.\u001b[0m\u001b[0m__getattribute__\u001b[0m\u001b[1;33m(\u001b[0m\u001b[0mself\u001b[0m\u001b[1;33m,\u001b[0m \u001b[0mname\u001b[0m\u001b[1;33m)\u001b[0m\u001b[1;33m\u001b[0m\u001b[1;33m\u001b[0m\u001b[0m\n\u001b[0m\u001b[0;32m   5488\u001b[0m \u001b[1;33m\u001b[0m\u001b[0m\n\u001b[0;32m   5489\u001b[0m     \u001b[1;32mdef\u001b[0m \u001b[0m__setattr__\u001b[0m\u001b[1;33m(\u001b[0m\u001b[0mself\u001b[0m\u001b[1;33m,\u001b[0m \u001b[0mname\u001b[0m\u001b[1;33m:\u001b[0m \u001b[0mstr\u001b[0m\u001b[1;33m,\u001b[0m \u001b[0mvalue\u001b[0m\u001b[1;33m)\u001b[0m \u001b[1;33m->\u001b[0m \u001b[1;32mNone\u001b[0m\u001b[1;33m:\u001b[0m\u001b[1;33m\u001b[0m\u001b[1;33m\u001b[0m\u001b[0m\n",
      "\u001b[1;31mAttributeError\u001b[0m: 'DataFrame' object has no attribute 'status_group'"
     ]
    }
   ],
   "source": [
    "extraction_types = pd.DataFrame(raw_df.extraction_type.value_counts())\n",
    "extraction_types.columns = ['total_count']\n",
    "extraction_types['percent_of_total'] = round((extraction_types.total_count / len(raw_df)) * 100, 2)\n",
    "extraction_types['non-functional'] = raw_df[raw_df.status_group == 'non functional'].extraction_type.value_counts()\n",
    "extraction_types['non-functional_percent'] = round((extraction_types['non-functional'] / extraction_types.total_count) * 100, 2)\n",
    "extraction_types['needs_repair'] = raw_df[raw_df.status_group == 'functional needs repair'].extraction_type.value_counts()\n",
    "extraction_types.fillna(0.0, inplace=True)\n",
    "extraction_types['needs_repair'] = extraction_types['needs_repair'].astype('int')\n",
    "extraction_types['needs_repair_percent'] = round((extraction_types['needs_repair'] / extraction_types.total_count) * 100, 2)\n",
    "extraction_types"
   ]
  }
 ],
 "metadata": {
  "kernelspec": {
   "display_name": "Python 3 (ipykernel)",
   "language": "python",
   "name": "python3"
  },
  "language_info": {
   "codemirror_mode": {
    "name": "ipython",
    "version": 3
   },
   "file_extension": ".py",
   "mimetype": "text/x-python",
   "name": "python",
   "nbconvert_exporter": "python",
   "pygments_lexer": "ipython3",
   "version": "3.8.5"
  },
  "toc": {
   "base_numbering": 1,
   "nav_menu": {},
   "number_sections": true,
   "sideBar": true,
   "skip_h1_title": false,
   "title_cell": "Table of Contents",
   "title_sidebar": "Contents",
   "toc_cell": false,
   "toc_position": {
    "height": "calc(100% - 180px)",
    "left": "10px",
    "top": "150px",
    "width": "408.466px"
   },
   "toc_section_display": true,
   "toc_window_display": true
  }
 },
 "nbformat": 4,
 "nbformat_minor": 5
}
