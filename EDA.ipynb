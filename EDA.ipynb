{
 "cells": [
  {
   "cell_type": "markdown",
   "id": "0a71775f",
   "metadata": {},
   "source": [
    "# Business Problem"
   ]
  },
  {
   "cell_type": "markdown",
   "id": "979e1579",
   "metadata": {},
   "source": [
    "The Tanzania Development Trust is a UK charitable organization operating within the country of Tanzania since 1975.\n",
    "\n",
    "They focus on development in rural Tanzania, aiming to support small projects in the poorest parts of the country where one of their priority areas of funding is clean water. Their stated water project involves boreholing and rope pump installation in areas with limited access to clean water, currently located in the regions of Kagera and Kigoma in the northwest of the country.\n",
    "\n",
    "A new benefactor wants to expand the project not only geographically to more of the country, but in the scope of repairing existing pumps before they fail. I have been tasked with developing a model to predict the operating condition of a current waterpoint: functional, needs repair, or non-functional.\n",
    "\n",
    "The main objective is to identify waterpoints that are in need of repair. [Research shows](https://sswm.info/entrepreneurship-resource/developing-impactful-businesses/maintenance-services-for-rural-water-pumps) that it is much less expensive to repair and rehabilitate a waterpoint, as well as being more protective of the water resources in the country. \n",
    "The secondary objective is to identify concentrations of non-functioning water points that may be an eligible location for a new installation.\n",
    "______________________\n",
    "The data provided for modeling was collected between March 2011 and March 2013, and contains the information for 59,400 water points "
   ]
  },
  {
   "cell_type": "markdown",
   "id": "ff431296",
   "metadata": {
    "heading_collapsed": true
   },
   "source": [
    "# Imports"
   ]
  },
  {
   "cell_type": "code",
   "execution_count": 1,
   "id": "ac7e0ce4",
   "metadata": {
    "ExecuteTime": {
     "end_time": "2022-01-29T16:47:04.069592Z",
     "start_time": "2022-01-29T16:47:02.701330Z"
    },
    "hidden": true
   },
   "outputs": [],
   "source": [
    "import random\n",
    "\n",
    "import pandas as pd\n",
    "import numpy as np\n",
    "\n",
    "import seaborn as sns\n",
    "import matplotlib.pyplot as plt\n",
    "%matplotlib inline\n",
    "\n",
    "random.seed(42)"
   ]
  },
  {
   "cell_type": "code",
   "execution_count": 2,
   "id": "56c8e212",
   "metadata": {
    "ExecuteTime": {
     "end_time": "2022-01-29T16:47:04.561344Z",
     "start_time": "2022-01-29T16:47:04.071539Z"
    },
    "hidden": true,
    "scrolled": true
   },
   "outputs": [
    {
     "name": "stdout",
     "output_type": "stream",
     "text": [
      "<class 'pandas.core.frame.DataFrame'>\n",
      "RangeIndex: 59400 entries, 0 to 59399\n",
      "Data columns (total 2 columns):\n",
      " #   Column        Non-Null Count  Dtype \n",
      "---  ------        --------------  ----- \n",
      " 0   id            59400 non-null  int64 \n",
      " 1   status_group  59400 non-null  object\n",
      "dtypes: int64(1), object(1)\n",
      "memory usage: 928.2+ KB\n"
     ]
    },
    {
     "data": {
      "text/plain": [
       "None"
      ]
     },
     "metadata": {},
     "output_type": "display_data"
    },
    {
     "name": "stdout",
     "output_type": "stream",
     "text": [
      "<class 'pandas.core.frame.DataFrame'>\n",
      "RangeIndex: 59400 entries, 0 to 59399\n",
      "Data columns (total 40 columns):\n",
      " #   Column                 Non-Null Count  Dtype  \n",
      "---  ------                 --------------  -----  \n",
      " 0   id                     59400 non-null  int64  \n",
      " 1   amount_tsh             59400 non-null  float64\n",
      " 2   date_recorded          59400 non-null  object \n",
      " 3   funder                 55765 non-null  object \n",
      " 4   gps_height             59400 non-null  int64  \n",
      " 5   installer              55745 non-null  object \n",
      " 6   longitude              59400 non-null  float64\n",
      " 7   latitude               59400 non-null  float64\n",
      " 8   wpt_name               59400 non-null  object \n",
      " 9   num_private            59400 non-null  int64  \n",
      " 10  basin                  59400 non-null  object \n",
      " 11  subvillage             59029 non-null  object \n",
      " 12  region                 59400 non-null  object \n",
      " 13  region_code            59400 non-null  int64  \n",
      " 14  district_code          59400 non-null  int64  \n",
      " 15  lga                    59400 non-null  object \n",
      " 16  ward                   59400 non-null  object \n",
      " 17  population             59400 non-null  int64  \n",
      " 18  public_meeting         56066 non-null  object \n",
      " 19  recorded_by            59400 non-null  object \n",
      " 20  scheme_management      55523 non-null  object \n",
      " 21  scheme_name            31234 non-null  object \n",
      " 22  permit                 56344 non-null  object \n",
      " 23  construction_year      59400 non-null  int64  \n",
      " 24  extraction_type        59400 non-null  object \n",
      " 25  extraction_type_group  59400 non-null  object \n",
      " 26  extraction_type_class  59400 non-null  object \n",
      " 27  management             59400 non-null  object \n",
      " 28  management_group       59400 non-null  object \n",
      " 29  payment                59400 non-null  object \n",
      " 30  payment_type           59400 non-null  object \n",
      " 31  water_quality          59400 non-null  object \n",
      " 32  quality_group          59400 non-null  object \n",
      " 33  quantity               59400 non-null  object \n",
      " 34  quantity_group         59400 non-null  object \n",
      " 35  source                 59400 non-null  object \n",
      " 36  source_type            59400 non-null  object \n",
      " 37  source_class           59400 non-null  object \n",
      " 38  waterpoint_type        59400 non-null  object \n",
      " 39  waterpoint_type_group  59400 non-null  object \n",
      "dtypes: float64(3), int64(7), object(30)\n",
      "memory usage: 18.1+ MB\n",
      "None\n"
     ]
    }
   ],
   "source": [
    "# import training data and target\n",
    "raw_data = pd.read_csv('data/training_data.csv')\n",
    "raw_target = pd.read_csv('data/training_target.csv')\n",
    "\n",
    "display(raw_target.info())\n",
    "print(raw_data.info())"
   ]
  },
  {
   "cell_type": "markdown",
   "id": "346fa101",
   "metadata": {
    "hidden": true
   },
   "source": [
    "Create a raw dataframe with merged data and target. We will use this df during initial EDA so we can compare feature relationships with target, and so we can understand and deal with null values"
   ]
  },
  {
   "cell_type": "code",
   "execution_count": 3,
   "id": "d1dfaee1",
   "metadata": {
    "ExecuteTime": {
     "end_time": "2022-01-29T16:47:04.750859Z",
     "start_time": "2022-01-29T16:47:04.563244Z"
    },
    "hidden": true
   },
   "outputs": [],
   "source": [
    "raw_df = pd.merge(raw_data, raw_target, on='id')"
   ]
  },
  {
   "cell_type": "markdown",
   "id": "9cec82c3",
   "metadata": {
    "hidden": true
   },
   "source": [
    "The dataset for training includes 59,400 entries with 39 total features, a unique identifier, and a target label."
   ]
  },
  {
   "cell_type": "code",
   "execution_count": 4,
   "id": "97ada609",
   "metadata": {
    "ExecuteTime": {
     "end_time": "2022-01-29T16:47:04.783665Z",
     "start_time": "2022-01-29T16:47:04.753743Z"
    },
    "hidden": true
   },
   "outputs": [
    {
     "data": {
      "text/html": [
       "<div>\n",
       "<style scoped>\n",
       "    .dataframe tbody tr th:only-of-type {\n",
       "        vertical-align: middle;\n",
       "    }\n",
       "\n",
       "    .dataframe tbody tr th {\n",
       "        vertical-align: top;\n",
       "    }\n",
       "\n",
       "    .dataframe thead th {\n",
       "        text-align: right;\n",
       "    }\n",
       "</style>\n",
       "<table border=\"1\" class=\"dataframe\">\n",
       "  <thead>\n",
       "    <tr style=\"text-align: right;\">\n",
       "      <th></th>\n",
       "      <th>status_group</th>\n",
       "      <th>percent</th>\n",
       "    </tr>\n",
       "  </thead>\n",
       "  <tbody>\n",
       "    <tr>\n",
       "      <th>functional</th>\n",
       "      <td>32259</td>\n",
       "      <td>54.3</td>\n",
       "    </tr>\n",
       "    <tr>\n",
       "      <th>non functional</th>\n",
       "      <td>22824</td>\n",
       "      <td>38.4</td>\n",
       "    </tr>\n",
       "    <tr>\n",
       "      <th>functional needs repair</th>\n",
       "      <td>4317</td>\n",
       "      <td>7.3</td>\n",
       "    </tr>\n",
       "  </tbody>\n",
       "</table>\n",
       "</div>"
      ],
      "text/plain": [
       "                         status_group  percent\n",
       "functional                      32259     54.3\n",
       "non functional                  22824     38.4\n",
       "functional needs repair          4317      7.3"
      ]
     },
     "execution_count": 4,
     "metadata": {},
     "output_type": "execute_result"
    }
   ],
   "source": [
    "status_values = pd.DataFrame(raw_df.status_group.value_counts())\n",
    "status_values['percent'] = round(raw_df.status_group.value_counts(normalize=True) * 100, 1)\n",
    "status_values"
   ]
  },
  {
   "cell_type": "markdown",
   "id": "9ce9e137",
   "metadata": {
    "hidden": true
   },
   "source": [
    "This is a ternary classification problem. The three possible values are:\n",
    "- functional (F)\n",
    "- non functional (NF)\n",
    "- functional needs repair (FR)\n",
    "\n",
    "Value counts show that our dataset is not balanced with respect to the label values. Only 7.3% of pumps are classified as functional needs repair, while 54.3% are functional and 38.4% are non functional. We will need to keep this imbalance in mind when modeling.\n",
    "_________\n",
    "Before any modeling can occur we must check and deal with null values\n"
   ]
  },
  {
   "cell_type": "markdown",
   "id": "7a1b0deb",
   "metadata": {
    "heading_collapsed": true
   },
   "source": [
    "# Null Checks"
   ]
  },
  {
   "cell_type": "code",
   "execution_count": 5,
   "id": "968a1033",
   "metadata": {
    "ExecuteTime": {
     "end_time": "2022-01-29T16:47:04.877445Z",
     "start_time": "2022-01-29T16:47:04.785660Z"
    },
    "hidden": true
   },
   "outputs": [
    {
     "data": {
      "text/html": [
       "<div>\n",
       "<style scoped>\n",
       "    .dataframe tbody tr th:only-of-type {\n",
       "        vertical-align: middle;\n",
       "    }\n",
       "\n",
       "    .dataframe tbody tr th {\n",
       "        vertical-align: top;\n",
       "    }\n",
       "\n",
       "    .dataframe thead th {\n",
       "        text-align: right;\n",
       "    }\n",
       "</style>\n",
       "<table border=\"1\" class=\"dataframe\">\n",
       "  <thead>\n",
       "    <tr style=\"text-align: right;\">\n",
       "      <th></th>\n",
       "      <th>null_count</th>\n",
       "      <th>percent_of_data</th>\n",
       "    </tr>\n",
       "  </thead>\n",
       "  <tbody>\n",
       "    <tr>\n",
       "      <th>scheme_name</th>\n",
       "      <td>28166</td>\n",
       "      <td>47.4</td>\n",
       "    </tr>\n",
       "    <tr>\n",
       "      <th>scheme_management</th>\n",
       "      <td>3877</td>\n",
       "      <td>6.5</td>\n",
       "    </tr>\n",
       "    <tr>\n",
       "      <th>installer</th>\n",
       "      <td>3655</td>\n",
       "      <td>6.2</td>\n",
       "    </tr>\n",
       "    <tr>\n",
       "      <th>funder</th>\n",
       "      <td>3635</td>\n",
       "      <td>6.1</td>\n",
       "    </tr>\n",
       "    <tr>\n",
       "      <th>public_meeting</th>\n",
       "      <td>3334</td>\n",
       "      <td>5.6</td>\n",
       "    </tr>\n",
       "    <tr>\n",
       "      <th>permit</th>\n",
       "      <td>3056</td>\n",
       "      <td>5.1</td>\n",
       "    </tr>\n",
       "    <tr>\n",
       "      <th>subvillage</th>\n",
       "      <td>371</td>\n",
       "      <td>0.6</td>\n",
       "    </tr>\n",
       "  </tbody>\n",
       "</table>\n",
       "</div>"
      ],
      "text/plain": [
       "                   null_count  percent_of_data\n",
       "scheme_name             28166             47.4\n",
       "scheme_management        3877              6.5\n",
       "installer                3655              6.2\n",
       "funder                   3635              6.1\n",
       "public_meeting           3334              5.6\n",
       "permit                   3056              5.1\n",
       "subvillage                371              0.6"
      ]
     },
     "execution_count": 5,
     "metadata": {},
     "output_type": "execute_result"
    }
   ],
   "source": [
    "null_checks = pd.DataFrame(data=raw_df.isna().sum(),\n",
    "                          columns=['null_count'])\n",
    "null_checks['percent_of_data'] = round((null_checks.null_count / len(raw_data)) * 100, 1)\n",
    "null_checks = null_checks[null_checks.percent_of_data > 0.1]\n",
    "null_checks.sort_values('percent_of_data', ascending=False, inplace=True)\n",
    "null_checks"
   ]
  },
  {
   "cell_type": "markdown",
   "id": "1fd4b189",
   "metadata": {
    "hidden": true
   },
   "source": [
    "There are 7 features with null values in our dataset, and we can what that number of nulls is by percent of total available data. \n",
    "______\n",
    "All of the features that contain null values are object types and will need to be converted. Before conversion we will need to address the null values."
   ]
  },
  {
   "cell_type": "markdown",
   "id": "b25fd29d",
   "metadata": {
    "heading_collapsed": true,
    "hidden": true
   },
   "source": [
    "## subvillage"
   ]
  },
  {
   "cell_type": "code",
   "execution_count": 6,
   "id": "3734075a",
   "metadata": {
    "ExecuteTime": {
     "end_time": "2022-01-29T16:47:04.925292Z",
     "start_time": "2022-01-29T16:47:04.880410Z"
    },
    "hidden": true
   },
   "outputs": [
    {
     "data": {
      "text/plain": [
       "functional                 55.26\n",
       "non functional             44.47\n",
       "functional needs repair     0.27\n",
       "Name: status_group, dtype: float64"
      ]
     },
     "execution_count": 6,
     "metadata": {},
     "output_type": "execute_result"
    }
   ],
   "source": [
    "subvillage_nans = raw_df[raw_df.subvillage.isnull()]\n",
    "round(subvillage_nans.status_group.value_counts(normalize=True) * 100, 2)"
   ]
  },
  {
   "cell_type": "markdown",
   "id": "e4db7a1d",
   "metadata": {
    "hidden": true
   },
   "source": [
    "The null values in subvillage represent 0.6% of our total data. The distribution of the target label is close to the whole dataset"
   ]
  },
  {
   "cell_type": "code",
   "execution_count": 7,
   "id": "cce8781d",
   "metadata": {
    "ExecuteTime": {
     "end_time": "2022-01-29T16:47:04.940253Z",
     "start_time": "2022-01-29T16:47:04.927286Z"
    },
    "hidden": true
   },
   "outputs": [
    {
     "data": {
      "text/plain": [
       "Dodoma    361\n",
       "Mwanza     10\n",
       "Name: region, dtype: int64"
      ]
     },
     "execution_count": 7,
     "metadata": {},
     "output_type": "execute_result"
    }
   ],
   "source": [
    "subvillage_nans.region.value_counts()"
   ]
  },
  {
   "cell_type": "markdown",
   "id": "9ec83bea",
   "metadata": {
    "hidden": true
   },
   "source": [
    "All but 10 of our subvillage nan's come from the region of Dodoma, the rest from Mwanza. Lets look at the subvillage distribution of those regions from the whole dataset"
   ]
  },
  {
   "cell_type": "code",
   "execution_count": 8,
   "id": "e564ac0d",
   "metadata": {
    "ExecuteTime": {
     "end_time": "2022-01-29T16:47:04.972229Z",
     "start_time": "2022-01-29T16:47:04.942248Z"
    },
    "hidden": true,
    "scrolled": true
   },
   "outputs": [
    {
     "data": {
      "text/plain": [
       "Kawawa         54\n",
       "Shuleni        43\n",
       "Nyerere        35\n",
       "Azimio         34\n",
       "Majengo        32\n",
       "               ..\n",
       "Foye            1\n",
       "Mtatangwe       1\n",
       "Makao Mapya     1\n",
       "Soya Mjini      1\n",
       "Mgomwa          1\n",
       "Name: subvillage, Length: 705, dtype: int64"
      ]
     },
     "execution_count": 8,
     "metadata": {},
     "output_type": "execute_result"
    }
   ],
   "source": [
    "raw_df[raw_df['region'] == 'Dodoma'].subvillage.value_counts()"
   ]
  },
  {
   "cell_type": "code",
   "execution_count": 9,
   "id": "24901805",
   "metadata": {
    "ExecuteTime": {
     "end_time": "2022-01-29T16:47:05.003118Z",
     "start_time": "2022-01-29T16:47:04.973166Z"
    },
    "hidden": true,
    "scrolled": true
   },
   "outputs": [
    {
     "data": {
      "text/plain": [
       "1                     132\n",
       "Madukani               52\n",
       "Bujingwa               25\n",
       "Shuleni                19\n",
       "Matale                 18\n",
       "                     ... \n",
       "Bukalo                  1\n",
       "Nyambona                1\n",
       "Kabaganda B             1\n",
       "Bulyahilu Center B      1\n",
       "Mwambogwa               1\n",
       "Name: subvillage, Length: 1507, dtype: int64"
      ]
     },
     "execution_count": 9,
     "metadata": {},
     "output_type": "execute_result"
    }
   ],
   "source": [
    "raw_df[raw_df['region'] == 'Mwanza'].subvillage.value_counts()"
   ]
  },
  {
   "cell_type": "markdown",
   "id": "0fe14edf",
   "metadata": {
    "hidden": true
   },
   "source": [
    "There are no average or overwhelmingly dominant subvillages that we could assign the null values to. It's not clear if we will use subvillage in modeling, so we will change null values to 'Other'"
   ]
  },
  {
   "cell_type": "code",
   "execution_count": 10,
   "id": "4ad9a891",
   "metadata": {
    "ExecuteTime": {
     "end_time": "2022-01-29T16:47:05.019045Z",
     "start_time": "2022-01-29T16:47:05.006080Z"
    },
    "hidden": true
   },
   "outputs": [],
   "source": [
    "raw_df['subvillage'].fillna(value='Other', inplace=True)"
   ]
  },
  {
   "cell_type": "markdown",
   "id": "4601f6e8",
   "metadata": {
    "heading_collapsed": true,
    "hidden": true
   },
   "source": [
    "## permit"
   ]
  },
  {
   "cell_type": "code",
   "execution_count": 11,
   "id": "96a1c9cb",
   "metadata": {
    "ExecuteTime": {
     "end_time": "2022-01-29T16:47:05.049985Z",
     "start_time": "2022-01-29T16:47:05.021040Z"
    },
    "hidden": true
   },
   "outputs": [
    {
     "data": {
      "text/plain": [
       "functional                 54.74\n",
       "non functional             35.44\n",
       "functional needs repair     9.82\n",
       "Name: status_group, dtype: float64"
      ]
     },
     "execution_count": 11,
     "metadata": {},
     "output_type": "execute_result"
    }
   ],
   "source": [
    "permit_nans = raw_df[raw_df.permit.isnull()]\n",
    "permit_nans.reset_index(drop=True, inplace=True)\n",
    "round(permit_nans.status_group.value_counts(normalize=True) * 100, 2)"
   ]
  },
  {
   "cell_type": "markdown",
   "id": "0d66e0f6",
   "metadata": {
    "hidden": true
   },
   "source": [
    "5% of our dataset have no value for permit. Distribution of the target label is approximately the same as the whole dataset."
   ]
  },
  {
   "cell_type": "code",
   "execution_count": 12,
   "id": "8d96be1f",
   "metadata": {
    "ExecuteTime": {
     "end_time": "2022-01-29T16:47:05.065922Z",
     "start_time": "2022-01-29T16:47:05.051959Z"
    },
    "hidden": true
   },
   "outputs": [
    {
     "data": {
      "text/plain": [
       "True     0.68955\n",
       "False    0.31045\n",
       "Name: permit, dtype: float64"
      ]
     },
     "execution_count": 12,
     "metadata": {},
     "output_type": "execute_result"
    }
   ],
   "source": [
    "permit_distribution = raw_df.permit.value_counts(normalize=True)\n",
    "permit_distribution"
   ]
  },
  {
   "cell_type": "markdown",
   "id": "447215f0",
   "metadata": {
    "hidden": true
   },
   "source": [
    "Per the data documentation, the permit feature is if the water point is permitted or not. Data we do have for this feature show it's about 70/30 in favor of permitted.\n",
    "\n",
    "We will randomly fill these 3056 missing datapoints with true/false in the same ratio we found in our entire dataset."
   ]
  },
  {
   "cell_type": "code",
   "execution_count": 13,
   "id": "178ccf26",
   "metadata": {
    "ExecuteTime": {
     "end_time": "2022-01-29T16:47:05.096872Z",
     "start_time": "2022-01-29T16:47:05.066920Z"
    },
    "hidden": true
   },
   "outputs": [],
   "source": [
    "raw_df['permit'] = raw_df['permit'].fillna(pd.Series(np.random.choice([True, False],\n",
    "                                                       p=list(permit_distribution),\n",
    "                                                       size=len(raw_df))))"
   ]
  },
  {
   "cell_type": "markdown",
   "id": "7d40001b",
   "metadata": {
    "heading_collapsed": true,
    "hidden": true
   },
   "source": [
    "## public_meeting"
   ]
  },
  {
   "cell_type": "code",
   "execution_count": 14,
   "id": "decb1706",
   "metadata": {
    "ExecuteTime": {
     "end_time": "2022-01-29T16:47:05.112798Z",
     "start_time": "2022-01-29T16:47:05.097838Z"
    },
    "hidden": true
   },
   "outputs": [
    {
     "data": {
      "text/plain": [
       "functional                 50.33\n",
       "non functional             44.99\n",
       "functional needs repair     4.68\n",
       "Name: status_group, dtype: float64"
      ]
     },
     "execution_count": 14,
     "metadata": {},
     "output_type": "execute_result"
    }
   ],
   "source": [
    "public_meeting_nans = raw_df[raw_df.public_meeting.isnull()]\n",
    "public_meeting_nans.reset_index(drop=True, inplace=True)\n",
    "round(public_meeting_nans.status_group.value_counts(normalize=True) * 100, 2)"
   ]
  },
  {
   "cell_type": "markdown",
   "id": "88b372f3",
   "metadata": {
    "hidden": true
   },
   "source": [
    "5.6% of our dataset has no value for public_meeting. Distribution of the target label is approximately the same as the whole dataset."
   ]
  },
  {
   "cell_type": "code",
   "execution_count": 15,
   "id": "f0c98610",
   "metadata": {
    "ExecuteTime": {
     "end_time": "2022-01-29T16:47:05.128757Z",
     "start_time": "2022-01-29T16:47:05.114793Z"
    },
    "hidden": true
   },
   "outputs": [
    {
     "data": {
      "text/plain": [
       "True     0.909838\n",
       "False    0.090162\n",
       "Name: public_meeting, dtype: float64"
      ]
     },
     "execution_count": 15,
     "metadata": {},
     "output_type": "execute_result"
    }
   ],
   "source": [
    "meeting_distribution = raw_df.public_meeting.value_counts(normalize=True)\n",
    "meeting_distribution"
   ]
  },
  {
   "cell_type": "markdown",
   "id": "2ea3a170",
   "metadata": {
    "hidden": true
   },
   "source": [
    "The public meeting feature is a boolean that is over 90% true for data we do have. We will fill null values in the same percentages."
   ]
  },
  {
   "cell_type": "code",
   "execution_count": 16,
   "id": "132159f9",
   "metadata": {
    "ExecuteTime": {
     "end_time": "2022-01-29T16:47:05.159675Z",
     "start_time": "2022-01-29T16:47:05.130752Z"
    },
    "hidden": true
   },
   "outputs": [],
   "source": [
    "raw_df['public_meeting'] = raw_df['public_meeting'].fillna(\n",
    "    pd.Series(np.random.choice([True, False],\n",
    "                               p=list(meeting_distribution),\n",
    "                               size=len(raw_df))))"
   ]
  },
  {
   "cell_type": "markdown",
   "id": "32c5affc",
   "metadata": {
    "hidden": true
   },
   "source": [
    "## funder & installer"
   ]
  },
  {
   "cell_type": "markdown",
   "id": "b7c396de",
   "metadata": {
    "hidden": true
   },
   "source": [
    "The features 'funder' and 'installer' have almost the same number of null values; I am curious about the overlap of nulls."
   ]
  },
  {
   "cell_type": "code",
   "execution_count": 17,
   "id": "81cec924",
   "metadata": {
    "ExecuteTime": {
     "end_time": "2022-01-29T16:47:05.191591Z",
     "start_time": "2022-01-29T16:47:05.161670Z"
    },
    "hidden": true
   },
   "outputs": [
    {
     "data": {
      "text/plain": [
       "0.9854195323246218"
      ]
     },
     "execution_count": 17,
     "metadata": {},
     "output_type": "execute_result"
    }
   ],
   "source": [
    "# dividing the number of entries with null for both features by the smaller count\n",
    "len(raw_df[raw_df.funder.isnull() & raw_df.installer.isnull()]) / null_checks.null_count['funder']"
   ]
  },
  {
   "cell_type": "markdown",
   "id": "df890875",
   "metadata": {
    "hidden": true
   },
   "source": [
    "Over 98% of the null values for funder also contain null values for installer.\n",
    "________"
   ]
  },
  {
   "cell_type": "code",
   "execution_count": 18,
   "id": "6e9ec152",
   "metadata": {
    "ExecuteTime": {
     "end_time": "2022-01-29T16:47:05.222510Z",
     "start_time": "2022-01-29T16:47:05.192588Z"
    },
    "hidden": true
   },
   "outputs": [
    {
     "data": {
      "text/html": [
       "<div>\n",
       "<style scoped>\n",
       "    .dataframe tbody tr th:only-of-type {\n",
       "        vertical-align: middle;\n",
       "    }\n",
       "\n",
       "    .dataframe tbody tr th {\n",
       "        vertical-align: top;\n",
       "    }\n",
       "\n",
       "    .dataframe thead th {\n",
       "        text-align: right;\n",
       "    }\n",
       "</style>\n",
       "<table border=\"1\" class=\"dataframe\">\n",
       "  <thead>\n",
       "    <tr style=\"text-align: right;\">\n",
       "      <th></th>\n",
       "      <th>funder</th>\n",
       "    </tr>\n",
       "  </thead>\n",
       "  <tbody>\n",
       "    <tr>\n",
       "      <th>Government Of Tanzania</th>\n",
       "      <td>15.29</td>\n",
       "    </tr>\n",
       "    <tr>\n",
       "      <th>NaN</th>\n",
       "      <td>6.12</td>\n",
       "    </tr>\n",
       "    <tr>\n",
       "      <th>Danida</th>\n",
       "      <td>5.24</td>\n",
       "    </tr>\n",
       "    <tr>\n",
       "      <th>Hesawa</th>\n",
       "      <td>3.71</td>\n",
       "    </tr>\n",
       "    <tr>\n",
       "      <th>Rwssp</th>\n",
       "      <td>2.31</td>\n",
       "    </tr>\n",
       "    <tr>\n",
       "      <th>...</th>\n",
       "      <td>...</td>\n",
       "    </tr>\n",
       "    <tr>\n",
       "      <th>Rarymond Ekura</th>\n",
       "      <td>0.00</td>\n",
       "    </tr>\n",
       "    <tr>\n",
       "      <th>Justine Marwa</th>\n",
       "      <td>0.00</td>\n",
       "    </tr>\n",
       "    <tr>\n",
       "      <th>Municipal Council</th>\n",
       "      <td>0.00</td>\n",
       "    </tr>\n",
       "    <tr>\n",
       "      <th>Afdp</th>\n",
       "      <td>0.00</td>\n",
       "    </tr>\n",
       "    <tr>\n",
       "      <th>Samlo</th>\n",
       "      <td>0.00</td>\n",
       "    </tr>\n",
       "  </tbody>\n",
       "</table>\n",
       "<p>1898 rows × 1 columns</p>\n",
       "</div>"
      ],
      "text/plain": [
       "                        funder\n",
       "Government Of Tanzania   15.29\n",
       "NaN                       6.12\n",
       "Danida                    5.24\n",
       "Hesawa                    3.71\n",
       "Rwssp                     2.31\n",
       "...                        ...\n",
       "Rarymond Ekura            0.00\n",
       "Justine Marwa             0.00\n",
       "Municipal Council         0.00\n",
       "Afdp                      0.00\n",
       "Samlo                     0.00\n",
       "\n",
       "[1898 rows x 1 columns]"
      ]
     },
     "execution_count": 18,
     "metadata": {},
     "output_type": "execute_result"
    }
   ],
   "source": [
    "funder_df = pd.DataFrame(round(raw_df.funder.value_counts(normalize=True, dropna=False) * 100, 2))\n",
    "funder_df"
   ]
  },
  {
   "cell_type": "code",
   "execution_count": 19,
   "id": "9765e632",
   "metadata": {
    "ExecuteTime": {
     "end_time": "2022-01-29T16:47:05.238468Z",
     "start_time": "2022-01-29T16:47:05.224505Z"
    },
    "hidden": true
   },
   "outputs": [
    {
     "name": "stdout",
     "output_type": "stream",
     "text": [
      "Funders with more than 1% share: 18\n",
      "Percent of total funders represented by above: funder    52.69\n",
      "dtype: float64\n"
     ]
    }
   ],
   "source": [
    "funder_df_top = funder_df[funder_df.funder > 1.0]\n",
    "print(f\"Funders with more than 1% share: {len(funder_df_top)}\")\n",
    "print(f\"Percent of total funders represented by above: {funder_df_top.sum()}\")"
   ]
  },
  {
   "cell_type": "markdown",
   "id": "6d8d0aec",
   "metadata": {
    "hidden": true
   },
   "source": [
    "Including null values, there were 1,898 distinct values for funder. Of that, 18 values (including null) have representative counts more than 1% of total data.\n",
    "\n",
    "Those 18 distinct values represent almost 53% of our total data. We will convert null values to 'Other'. There are still lots of unique values, so something to consider is converting all funders with less than 1% total share as 'Other' to reduce the unique value count."
   ]
  },
  {
   "cell_type": "code",
   "execution_count": 20,
   "id": "f463a7dc",
   "metadata": {
    "ExecuteTime": {
     "end_time": "2022-01-29T16:47:05.269387Z",
     "start_time": "2022-01-29T16:47:05.239466Z"
    },
    "hidden": true
   },
   "outputs": [
    {
     "data": {
      "text/html": [
       "<div>\n",
       "<style scoped>\n",
       "    .dataframe tbody tr th:only-of-type {\n",
       "        vertical-align: middle;\n",
       "    }\n",
       "\n",
       "    .dataframe tbody tr th {\n",
       "        vertical-align: top;\n",
       "    }\n",
       "\n",
       "    .dataframe thead th {\n",
       "        text-align: right;\n",
       "    }\n",
       "</style>\n",
       "<table border=\"1\" class=\"dataframe\">\n",
       "  <thead>\n",
       "    <tr style=\"text-align: right;\">\n",
       "      <th></th>\n",
       "      <th>installer</th>\n",
       "    </tr>\n",
       "  </thead>\n",
       "  <tbody>\n",
       "    <tr>\n",
       "      <th>DWE</th>\n",
       "      <td>29.30</td>\n",
       "    </tr>\n",
       "    <tr>\n",
       "      <th>NaN</th>\n",
       "      <td>6.15</td>\n",
       "    </tr>\n",
       "    <tr>\n",
       "      <th>Government</th>\n",
       "      <td>3.07</td>\n",
       "    </tr>\n",
       "    <tr>\n",
       "      <th>RWE</th>\n",
       "      <td>2.03</td>\n",
       "    </tr>\n",
       "    <tr>\n",
       "      <th>Commu</th>\n",
       "      <td>1.78</td>\n",
       "    </tr>\n",
       "    <tr>\n",
       "      <th>...</th>\n",
       "      <td>...</td>\n",
       "    </tr>\n",
       "    <tr>\n",
       "      <th>Wizara  ya maji</th>\n",
       "      <td>0.00</td>\n",
       "    </tr>\n",
       "    <tr>\n",
       "      <th>TWESS</th>\n",
       "      <td>0.00</td>\n",
       "    </tr>\n",
       "    <tr>\n",
       "      <th>Nasan workers</th>\n",
       "      <td>0.00</td>\n",
       "    </tr>\n",
       "    <tr>\n",
       "      <th>R</th>\n",
       "      <td>0.00</td>\n",
       "    </tr>\n",
       "    <tr>\n",
       "      <th>SELEPTA</th>\n",
       "      <td>0.00</td>\n",
       "    </tr>\n",
       "  </tbody>\n",
       "</table>\n",
       "<p>2146 rows × 1 columns</p>\n",
       "</div>"
      ],
      "text/plain": [
       "                 installer\n",
       "DWE                  29.30\n",
       "NaN                   6.15\n",
       "Government            3.07\n",
       "RWE                   2.03\n",
       "Commu                 1.78\n",
       "...                    ...\n",
       "Wizara  ya maji       0.00\n",
       "TWESS                 0.00\n",
       "Nasan workers         0.00\n",
       "R                     0.00\n",
       "SELEPTA               0.00\n",
       "\n",
       "[2146 rows x 1 columns]"
      ]
     },
     "execution_count": 20,
     "metadata": {},
     "output_type": "execute_result"
    }
   ],
   "source": [
    "installer_df = pd.DataFrame(round(raw_df.installer.value_counts(normalize=True, dropna=False) * 100, 2))\n",
    "installer_df"
   ]
  },
  {
   "cell_type": "code",
   "execution_count": 21,
   "id": "66211b0c",
   "metadata": {
    "ExecuteTime": {
     "end_time": "2022-01-29T16:47:05.285344Z",
     "start_time": "2022-01-29T16:47:05.271381Z"
    },
    "hidden": true
   },
   "outputs": [
    {
     "name": "stdout",
     "output_type": "stream",
     "text": [
      "Installers with more than 1% share: 12\n",
      "Percent of total installers represented by above: installer    51.6\n",
      "dtype: float64\n"
     ]
    }
   ],
   "source": [
    "installer_df_top = installer_df[installer_df.installer > 1.0]\n",
    "print(f\"Installers with more than 1% share: {len(installer_df_top)}\")\n",
    "print(f\"Percent of total installers represented by above: {installer_df_top.sum()}\")"
   ]
  },
  {
   "cell_type": "markdown",
   "id": "ff3fb340",
   "metadata": {
    "hidden": true
   },
   "source": [
    "Similarly to funder, the installer feature is dominated by small share installers. Of the 2,146 distinct values for installer, 12 values (including null) have representative counts more than 1% of total data.\n",
    "\n",
    "Those 12 distinct values represent almost 52% of our total data. This is similar to the funder feature. We will also convert null values to 'Other', and will consider converting all installers with less than 1% total share of installer as 'Other' to reduce the unique value count. "
   ]
  },
  {
   "cell_type": "code",
   "execution_count": 22,
   "id": "8a0ed645",
   "metadata": {
    "ExecuteTime": {
     "end_time": "2022-01-29T16:47:05.300305Z",
     "start_time": "2022-01-29T16:47:05.286341Z"
    },
    "hidden": true
   },
   "outputs": [],
   "source": [
    "raw_df['funder'].fillna(value='Other', inplace=True)\n",
    "raw_df['installer'].fillna(value='Other', inplace=True)"
   ]
  },
  {
   "cell_type": "markdown",
   "id": "524b6190",
   "metadata": {
    "heading_collapsed": true,
    "hidden": true
   },
   "source": [
    "## scheme_management"
   ]
  },
  {
   "cell_type": "code",
   "execution_count": 23,
   "id": "82cd1b09",
   "metadata": {
    "ExecuteTime": {
     "end_time": "2022-01-29T16:47:05.316263Z",
     "start_time": "2022-01-29T16:47:05.301302Z"
    },
    "hidden": true
   },
   "outputs": [
    {
     "data": {
      "text/plain": [
       "functional                 48.31\n",
       "non functional             45.94\n",
       "functional needs repair     5.75\n",
       "Name: status_group, dtype: float64"
      ]
     },
     "execution_count": 23,
     "metadata": {},
     "output_type": "execute_result"
    }
   ],
   "source": [
    "scheme_management_nans = raw_df[raw_df.scheme_management.isnull()]\n",
    "scheme_management_nans.reset_index(drop=True, inplace=True)\n",
    "round(scheme_management_nans.status_group.value_counts(normalize=True) * 100, 2)"
   ]
  },
  {
   "cell_type": "code",
   "execution_count": 24,
   "id": "d221c829",
   "metadata": {
    "ExecuteTime": {
     "end_time": "2022-01-29T16:47:05.332221Z",
     "start_time": "2022-01-29T16:47:05.318258Z"
    },
    "hidden": true
   },
   "outputs": [
    {
     "data": {
      "text/plain": [
       "VWC                 0.619411\n",
       "WUG                 0.087643\n",
       "NaN                 0.065269\n",
       "Water authority     0.053081\n",
       "WUA                 0.048535\n",
       "Water Board         0.046263\n",
       "Parastatal          0.028283\n",
       "Private operator    0.017896\n",
       "Company             0.017862\n",
       "Other               0.012896\n",
       "SWC                 0.001633\n",
       "Trust               0.001212\n",
       "None                0.000017\n",
       "Name: scheme_management, dtype: float64"
      ]
     },
     "execution_count": 24,
     "metadata": {},
     "output_type": "execute_result"
    }
   ],
   "source": [
    "raw_df.scheme_management.value_counts(normalize=True, dropna=False)"
   ]
  },
  {
   "cell_type": "markdown",
   "id": "4e9769e6",
   "metadata": {
    "hidden": true
   },
   "source": [
    "6.5% of our data has no value for scheme_management. Distribution of the target data is approximately the same as the whole dataset.\n",
    "_________\n",
    "There was only one entry with the value of 'None', we will change that to 'Other'"
   ]
  },
  {
   "cell_type": "code",
   "execution_count": 25,
   "id": "ffc5b98f",
   "metadata": {
    "ExecuteTime": {
     "end_time": "2022-01-29T16:47:05.348179Z",
     "start_time": "2022-01-29T16:47:05.334216Z"
    },
    "hidden": true
   },
   "outputs": [],
   "source": [
    "raw_df.at[23603, 'scheme_management'] = 'Other'"
   ]
  },
  {
   "cell_type": "markdown",
   "id": "e69fae7a",
   "metadata": {
    "hidden": true
   },
   "source": [
    "We will fill null values for scheme_management randomly with other values from the feature in the same percentage."
   ]
  },
  {
   "cell_type": "code",
   "execution_count": 26,
   "id": "e73cc0a7",
   "metadata": {
    "ExecuteTime": {
     "end_time": "2022-01-29T16:47:05.364137Z",
     "start_time": "2022-01-29T16:47:05.350175Z"
    },
    "hidden": true
   },
   "outputs": [
    {
     "data": {
      "text/html": [
       "<div>\n",
       "<style scoped>\n",
       "    .dataframe tbody tr th:only-of-type {\n",
       "        vertical-align: middle;\n",
       "    }\n",
       "\n",
       "    .dataframe tbody tr th {\n",
       "        vertical-align: top;\n",
       "    }\n",
       "\n",
       "    .dataframe thead th {\n",
       "        text-align: right;\n",
       "    }\n",
       "</style>\n",
       "<table border=\"1\" class=\"dataframe\">\n",
       "  <thead>\n",
       "    <tr style=\"text-align: right;\">\n",
       "      <th></th>\n",
       "      <th>scheme_management</th>\n",
       "    </tr>\n",
       "  </thead>\n",
       "  <tbody>\n",
       "    <tr>\n",
       "      <th>VWC</th>\n",
       "      <td>0.662662</td>\n",
       "    </tr>\n",
       "    <tr>\n",
       "      <th>WUG</th>\n",
       "      <td>0.093763</td>\n",
       "    </tr>\n",
       "    <tr>\n",
       "      <th>Water authority</th>\n",
       "      <td>0.056787</td>\n",
       "    </tr>\n",
       "    <tr>\n",
       "      <th>WUA</th>\n",
       "      <td>0.051924</td>\n",
       "    </tr>\n",
       "    <tr>\n",
       "      <th>Water Board</th>\n",
       "      <td>0.049493</td>\n",
       "    </tr>\n",
       "    <tr>\n",
       "      <th>Parastatal</th>\n",
       "      <td>0.030258</td>\n",
       "    </tr>\n",
       "    <tr>\n",
       "      <th>Private operator</th>\n",
       "      <td>0.019145</td>\n",
       "    </tr>\n",
       "    <tr>\n",
       "      <th>Company</th>\n",
       "      <td>0.019109</td>\n",
       "    </tr>\n",
       "    <tr>\n",
       "      <th>Other</th>\n",
       "      <td>0.013814</td>\n",
       "    </tr>\n",
       "    <tr>\n",
       "      <th>SWC</th>\n",
       "      <td>0.001747</td>\n",
       "    </tr>\n",
       "    <tr>\n",
       "      <th>Trust</th>\n",
       "      <td>0.001297</td>\n",
       "    </tr>\n",
       "  </tbody>\n",
       "</table>\n",
       "</div>"
      ],
      "text/plain": [
       "                  scheme_management\n",
       "VWC                        0.662662\n",
       "WUG                        0.093763\n",
       "Water authority            0.056787\n",
       "WUA                        0.051924\n",
       "Water Board                0.049493\n",
       "Parastatal                 0.030258\n",
       "Private operator           0.019145\n",
       "Company                    0.019109\n",
       "Other                      0.013814\n",
       "SWC                        0.001747\n",
       "Trust                      0.001297"
      ]
     },
     "execution_count": 26,
     "metadata": {},
     "output_type": "execute_result"
    }
   ],
   "source": [
    "scheme_management_list = pd.DataFrame(raw_df.scheme_management.value_counts(normalize=True))\n",
    "scheme_management_list"
   ]
  },
  {
   "cell_type": "code",
   "execution_count": 27,
   "id": "ee012747",
   "metadata": {
    "ExecuteTime": {
     "end_time": "2022-01-29T16:47:05.396052Z",
     "start_time": "2022-01-29T16:47:05.366132Z"
    },
    "hidden": true
   },
   "outputs": [],
   "source": [
    "raw_df['scheme_management'] = raw_df['scheme_management'].fillna(\n",
    "    pd.Series(np.random.choice(list(scheme_management_list.index),\n",
    "                               p=list(scheme_management_list.scheme_management),\n",
    "                               size=len(raw_df))))"
   ]
  },
  {
   "cell_type": "markdown",
   "id": "4f4a652a",
   "metadata": {
    "hidden": true
   },
   "source": [
    "## scheme_name"
   ]
  },
  {
   "cell_type": "code",
   "execution_count": 28,
   "id": "3bd8fdf3",
   "metadata": {
    "ExecuteTime": {
     "end_time": "2022-01-29T16:47:05.427968Z",
     "start_time": "2022-01-29T16:47:05.401040Z"
    },
    "hidden": true
   },
   "outputs": [
    {
     "data": {
      "text/plain": [
       "NaN                        0.474175\n",
       "K                          0.011481\n",
       "None                       0.010842\n",
       "Borehole                   0.009192\n",
       "Chalinze wate              0.006818\n",
       "                             ...   \n",
       "Visiga water supplly       0.000017\n",
       "Emanyata pipelines         0.000017\n",
       "Magundi water supply       0.000017\n",
       "Imalampaka water supply    0.000017\n",
       "Mtawanya                   0.000017\n",
       "Name: scheme_name, Length: 2697, dtype: float64"
      ]
     },
     "execution_count": 28,
     "metadata": {},
     "output_type": "execute_result"
    }
   ],
   "source": [
    "raw_df.scheme_name.value_counts(normalize=True, dropna=False)"
   ]
  },
  {
   "cell_type": "markdown",
   "id": "c012e91c",
   "metadata": {
    "hidden": true
   },
   "source": [
    "Almost half (47%) of the scheme_name feature contains no data, and the remaining data contains 2,697 distinct other features, none of which exceed 1% of the dataset. Lets look a little closer to see what else we can figure out."
   ]
  },
  {
   "cell_type": "code",
   "execution_count": 29,
   "id": "3aece90d",
   "metadata": {
    "ExecuteTime": {
     "end_time": "2022-01-29T16:47:05.443927Z",
     "start_time": "2022-01-29T16:47:05.428966Z"
    },
    "hidden": true,
    "scrolled": true
   },
   "outputs": [
    {
     "data": {
      "text/html": [
       "<div>\n",
       "<style scoped>\n",
       "    .dataframe tbody tr th:only-of-type {\n",
       "        vertical-align: middle;\n",
       "    }\n",
       "\n",
       "    .dataframe tbody tr th {\n",
       "        vertical-align: top;\n",
       "    }\n",
       "\n",
       "    .dataframe thead th {\n",
       "        text-align: right;\n",
       "    }\n",
       "</style>\n",
       "<table border=\"1\" class=\"dataframe\">\n",
       "  <thead>\n",
       "    <tr style=\"text-align: right;\">\n",
       "      <th></th>\n",
       "      <th>scheme_name</th>\n",
       "    </tr>\n",
       "  </thead>\n",
       "  <tbody>\n",
       "    <tr>\n",
       "      <th>NaN</th>\n",
       "      <td>28166</td>\n",
       "    </tr>\n",
       "    <tr>\n",
       "      <th>K</th>\n",
       "      <td>682</td>\n",
       "    </tr>\n",
       "    <tr>\n",
       "      <th>None</th>\n",
       "      <td>644</td>\n",
       "    </tr>\n",
       "    <tr>\n",
       "      <th>Borehole</th>\n",
       "      <td>546</td>\n",
       "    </tr>\n",
       "    <tr>\n",
       "      <th>Chalinze wate</th>\n",
       "      <td>405</td>\n",
       "    </tr>\n",
       "    <tr>\n",
       "      <th>M</th>\n",
       "      <td>400</td>\n",
       "    </tr>\n",
       "    <tr>\n",
       "      <th>DANIDA</th>\n",
       "      <td>379</td>\n",
       "    </tr>\n",
       "    <tr>\n",
       "      <th>Government</th>\n",
       "      <td>320</td>\n",
       "    </tr>\n",
       "    <tr>\n",
       "      <th>Ngana water supplied scheme</th>\n",
       "      <td>270</td>\n",
       "    </tr>\n",
       "    <tr>\n",
       "      <th>wanging'ombe water supply s</th>\n",
       "      <td>261</td>\n",
       "    </tr>\n",
       "    <tr>\n",
       "      <th>wanging'ombe supply scheme</th>\n",
       "      <td>234</td>\n",
       "    </tr>\n",
       "    <tr>\n",
       "      <th>I</th>\n",
       "      <td>229</td>\n",
       "    </tr>\n",
       "    <tr>\n",
       "      <th>Bagamoyo wate</th>\n",
       "      <td>229</td>\n",
       "    </tr>\n",
       "    <tr>\n",
       "      <th>Uroki-Bomang'ombe water sup</th>\n",
       "      <td>209</td>\n",
       "    </tr>\n",
       "    <tr>\n",
       "      <th>N</th>\n",
       "      <td>204</td>\n",
       "    </tr>\n",
       "    <tr>\n",
       "      <th>Kirua kahe gravity water supply trust</th>\n",
       "      <td>193</td>\n",
       "    </tr>\n",
       "    <tr>\n",
       "      <th>Machumba estate pipe line</th>\n",
       "      <td>185</td>\n",
       "    </tr>\n",
       "    <tr>\n",
       "      <th>Makwale water supplied sche</th>\n",
       "      <td>166</td>\n",
       "    </tr>\n",
       "    <tr>\n",
       "      <th>Kijiji</th>\n",
       "      <td>161</td>\n",
       "    </tr>\n",
       "    <tr>\n",
       "      <th>S</th>\n",
       "      <td>154</td>\n",
       "    </tr>\n",
       "    <tr>\n",
       "      <th>Handeni Trunk Main(H</th>\n",
       "      <td>152</td>\n",
       "    </tr>\n",
       "    <tr>\n",
       "      <th>mtwango water supply scheme</th>\n",
       "      <td>152</td>\n",
       "    </tr>\n",
       "    <tr>\n",
       "      <th>Losaa-Kia water supply</th>\n",
       "      <td>152</td>\n",
       "    </tr>\n",
       "    <tr>\n",
       "      <th>Mkongoro Two</th>\n",
       "      <td>147</td>\n",
       "    </tr>\n",
       "    <tr>\n",
       "      <th>Roman</th>\n",
       "      <td>139</td>\n",
       "    </tr>\n",
       "    <tr>\n",
       "      <th>Mkongoro One</th>\n",
       "      <td>128</td>\n",
       "    </tr>\n",
       "    <tr>\n",
       "      <th>Maambreni gravity water supply</th>\n",
       "      <td>125</td>\n",
       "    </tr>\n",
       "    <tr>\n",
       "      <th>Lyamungo umbwe water supply</th>\n",
       "      <td>120</td>\n",
       "    </tr>\n",
       "    <tr>\n",
       "      <th>Kirua kahe pumping water trust</th>\n",
       "      <td>113</td>\n",
       "    </tr>\n",
       "    <tr>\n",
       "      <th>Nabaiye pipe line</th>\n",
       "      <td>107</td>\n",
       "    </tr>\n",
       "    <tr>\n",
       "      <th>Ki</th>\n",
       "      <td>107</td>\n",
       "    </tr>\n",
       "    <tr>\n",
       "      <th>Nasula gravity water supply</th>\n",
       "      <td>102</td>\n",
       "    </tr>\n",
       "    <tr>\n",
       "      <th>Sinyanga water supplied sch</th>\n",
       "      <td>100</td>\n",
       "    </tr>\n",
       "    <tr>\n",
       "      <th>Lyamungo-Umbwe water supply</th>\n",
       "      <td>92</td>\n",
       "    </tr>\n",
       "    <tr>\n",
       "      <th>upper Ruvu</th>\n",
       "      <td>91</td>\n",
       "    </tr>\n",
       "    <tr>\n",
       "      <th>Ikela Wa</th>\n",
       "      <td>90</td>\n",
       "    </tr>\n",
       "    <tr>\n",
       "      <th>Shallow well</th>\n",
       "      <td>89</td>\n",
       "    </tr>\n",
       "    <tr>\n",
       "      <th>Kidia kilemapunda</th>\n",
       "      <td>86</td>\n",
       "    </tr>\n",
       "    <tr>\n",
       "      <th>Mitema</th>\n",
       "      <td>86</td>\n",
       "    </tr>\n",
       "    <tr>\n",
       "      <th>imalinyi supply scheme</th>\n",
       "      <td>85</td>\n",
       "    </tr>\n",
       "    <tr>\n",
       "      <th>Mradi wa maji wa wino</th>\n",
       "      <td>84</td>\n",
       "    </tr>\n",
       "    <tr>\n",
       "      <th>Una mkolowoni</th>\n",
       "      <td>79</td>\n",
       "    </tr>\n",
       "    <tr>\n",
       "      <th>Olkokola pipe line</th>\n",
       "      <td>79</td>\n",
       "    </tr>\n",
       "    <tr>\n",
       "      <th>D</th>\n",
       "      <td>78</td>\n",
       "    </tr>\n",
       "    <tr>\n",
       "      <th>Mradi wa maji wa peramiho</th>\n",
       "      <td>78</td>\n",
       "    </tr>\n",
       "    <tr>\n",
       "      <th>Sinyanga  water supplied sc</th>\n",
       "      <td>77</td>\n",
       "    </tr>\n",
       "  </tbody>\n",
       "</table>\n",
       "</div>"
      ],
      "text/plain": [
       "                                       scheme_name\n",
       "NaN                                          28166\n",
       "K                                              682\n",
       "None                                           644\n",
       "Borehole                                       546\n",
       "Chalinze wate                                  405\n",
       "M                                              400\n",
       "DANIDA                                         379\n",
       "Government                                     320\n",
       "Ngana water supplied scheme                    270\n",
       "wanging'ombe water supply s                    261\n",
       "wanging'ombe supply scheme                     234\n",
       "I                                              229\n",
       "Bagamoyo wate                                  229\n",
       "Uroki-Bomang'ombe water sup                    209\n",
       "N                                              204\n",
       "Kirua kahe gravity water supply trust          193\n",
       "Machumba estate pipe line                      185\n",
       "Makwale water supplied sche                    166\n",
       "Kijiji                                         161\n",
       "S                                              154\n",
       "Handeni Trunk Main(H                           152\n",
       "mtwango water supply scheme                    152\n",
       "Losaa-Kia water supply                         152\n",
       "Mkongoro Two                                   147\n",
       "Roman                                          139\n",
       "Mkongoro One                                   128\n",
       "Maambreni gravity water supply                 125\n",
       "Lyamungo umbwe water supply                    120\n",
       "Kirua kahe pumping water trust                 113\n",
       "Nabaiye pipe line                              107\n",
       "Ki                                             107\n",
       "Nasula gravity water supply                    102\n",
       "Sinyanga water supplied sch                    100\n",
       "Lyamungo-Umbwe water supply                     92\n",
       "upper Ruvu                                      91\n",
       "Ikela Wa                                        90\n",
       "Shallow well                                    89\n",
       "Kidia kilemapunda                               86\n",
       "Mitema                                          86\n",
       "imalinyi supply scheme                          85\n",
       "Mradi wa maji wa wino                           84\n",
       "Una mkolowoni                                   79\n",
       "Olkokola pipe line                              79\n",
       "D                                               78\n",
       "Mradi wa maji wa peramiho                       78\n",
       "Sinyanga  water supplied sc                     77"
      ]
     },
     "execution_count": 29,
     "metadata": {},
     "output_type": "execute_result"
    }
   ],
   "source": [
    "scheme_name = pd.DataFrame(raw_df.scheme_name.value_counts(dropna=False))\n",
    "scheme_name[scheme_name.scheme_name > 75]"
   ]
  },
  {
   "cell_type": "markdown",
   "id": "3d492eaa",
   "metadata": {
    "hidden": true
   },
   "source": [
    "The scheme name, per the documentation, is the individual or group that actually operates the waterpoint. This is compared to the scheme management company, which oversees operation. When the data was collected, it looks like there was little organization with respect to this particular datapoint. Considering the there are no other patterns in the available names, and that we have the management data, we will likely not use this feature in modeling.\n",
    "_____\n",
    "We will replace null values with 'None'"
   ]
  },
  {
   "cell_type": "code",
   "execution_count": 30,
   "id": "0b460410",
   "metadata": {
    "ExecuteTime": {
     "end_time": "2022-01-29T16:47:05.459886Z",
     "start_time": "2022-01-29T16:47:05.444924Z"
    },
    "hidden": true
   },
   "outputs": [],
   "source": [
    "raw_df['scheme_name'].fillna(value='None', inplace=True)"
   ]
  },
  {
   "cell_type": "markdown",
   "id": "24a0dd36",
   "metadata": {},
   "source": [
    "# Exploring numerical data"
   ]
  },
  {
   "cell_type": "markdown",
   "id": "d5f095c1",
   "metadata": {},
   "source": [
    "Creating a dataframe of just the current numerical features as well as the target. Mapping numerical values to the target: 'non functional' = 0, 'functional needs repair' = 1, and 'functional' = 2."
   ]
  },
  {
   "cell_type": "code",
   "execution_count": 31,
   "id": "151183e6",
   "metadata": {
    "ExecuteTime": {
     "end_time": "2022-01-29T16:47:05.618469Z",
     "start_time": "2022-01-29T16:47:05.460882Z"
    }
   },
   "outputs": [
    {
     "data": {
      "text/html": [
       "<div>\n",
       "<style scoped>\n",
       "    .dataframe tbody tr th:only-of-type {\n",
       "        vertical-align: middle;\n",
       "    }\n",
       "\n",
       "    .dataframe tbody tr th {\n",
       "        vertical-align: top;\n",
       "    }\n",
       "\n",
       "    .dataframe thead th {\n",
       "        text-align: right;\n",
       "    }\n",
       "</style>\n",
       "<table border=\"1\" class=\"dataframe\">\n",
       "  <thead>\n",
       "    <tr style=\"text-align: right;\">\n",
       "      <th></th>\n",
       "      <th>id</th>\n",
       "      <th>amount_tsh</th>\n",
       "      <th>gps_height</th>\n",
       "      <th>longitude</th>\n",
       "      <th>latitude</th>\n",
       "      <th>num_private</th>\n",
       "      <th>region_code</th>\n",
       "      <th>district_code</th>\n",
       "      <th>population</th>\n",
       "      <th>construction_year</th>\n",
       "      <th>target</th>\n",
       "    </tr>\n",
       "  </thead>\n",
       "  <tbody>\n",
       "    <tr>\n",
       "      <th>count</th>\n",
       "      <td>59400.000000</td>\n",
       "      <td>59400.000000</td>\n",
       "      <td>59400.000000</td>\n",
       "      <td>59400.000000</td>\n",
       "      <td>5.940000e+04</td>\n",
       "      <td>59400.000000</td>\n",
       "      <td>59400.000000</td>\n",
       "      <td>59400.000000</td>\n",
       "      <td>59400.000000</td>\n",
       "      <td>59400.000000</td>\n",
       "      <td>59400.000000</td>\n",
       "    </tr>\n",
       "    <tr>\n",
       "      <th>mean</th>\n",
       "      <td>37115.131768</td>\n",
       "      <td>317.650385</td>\n",
       "      <td>668.297239</td>\n",
       "      <td>34.077427</td>\n",
       "      <td>-5.706033e+00</td>\n",
       "      <td>0.474141</td>\n",
       "      <td>15.297003</td>\n",
       "      <td>5.629747</td>\n",
       "      <td>179.909983</td>\n",
       "      <td>1300.652475</td>\n",
       "      <td>1.158838</td>\n",
       "    </tr>\n",
       "    <tr>\n",
       "      <th>std</th>\n",
       "      <td>21453.128371</td>\n",
       "      <td>2997.574558</td>\n",
       "      <td>693.116350</td>\n",
       "      <td>6.567432</td>\n",
       "      <td>2.946019e+00</td>\n",
       "      <td>12.236230</td>\n",
       "      <td>17.587406</td>\n",
       "      <td>9.633649</td>\n",
       "      <td>471.482176</td>\n",
       "      <td>951.620547</td>\n",
       "      <td>0.949794</td>\n",
       "    </tr>\n",
       "    <tr>\n",
       "      <th>min</th>\n",
       "      <td>0.000000</td>\n",
       "      <td>0.000000</td>\n",
       "      <td>-90.000000</td>\n",
       "      <td>0.000000</td>\n",
       "      <td>-1.164944e+01</td>\n",
       "      <td>0.000000</td>\n",
       "      <td>1.000000</td>\n",
       "      <td>0.000000</td>\n",
       "      <td>0.000000</td>\n",
       "      <td>0.000000</td>\n",
       "      <td>0.000000</td>\n",
       "    </tr>\n",
       "    <tr>\n",
       "      <th>25%</th>\n",
       "      <td>18519.750000</td>\n",
       "      <td>0.000000</td>\n",
       "      <td>0.000000</td>\n",
       "      <td>33.090347</td>\n",
       "      <td>-8.540621e+00</td>\n",
       "      <td>0.000000</td>\n",
       "      <td>5.000000</td>\n",
       "      <td>2.000000</td>\n",
       "      <td>0.000000</td>\n",
       "      <td>0.000000</td>\n",
       "      <td>0.000000</td>\n",
       "    </tr>\n",
       "    <tr>\n",
       "      <th>50%</th>\n",
       "      <td>37061.500000</td>\n",
       "      <td>0.000000</td>\n",
       "      <td>369.000000</td>\n",
       "      <td>34.908743</td>\n",
       "      <td>-5.021597e+00</td>\n",
       "      <td>0.000000</td>\n",
       "      <td>12.000000</td>\n",
       "      <td>3.000000</td>\n",
       "      <td>25.000000</td>\n",
       "      <td>1986.000000</td>\n",
       "      <td>2.000000</td>\n",
       "    </tr>\n",
       "    <tr>\n",
       "      <th>75%</th>\n",
       "      <td>55656.500000</td>\n",
       "      <td>20.000000</td>\n",
       "      <td>1319.250000</td>\n",
       "      <td>37.178387</td>\n",
       "      <td>-3.326156e+00</td>\n",
       "      <td>0.000000</td>\n",
       "      <td>17.000000</td>\n",
       "      <td>5.000000</td>\n",
       "      <td>215.000000</td>\n",
       "      <td>2004.000000</td>\n",
       "      <td>2.000000</td>\n",
       "    </tr>\n",
       "    <tr>\n",
       "      <th>max</th>\n",
       "      <td>74247.000000</td>\n",
       "      <td>350000.000000</td>\n",
       "      <td>2770.000000</td>\n",
       "      <td>40.345193</td>\n",
       "      <td>-2.000000e-08</td>\n",
       "      <td>1776.000000</td>\n",
       "      <td>99.000000</td>\n",
       "      <td>80.000000</td>\n",
       "      <td>30500.000000</td>\n",
       "      <td>2013.000000</td>\n",
       "      <td>2.000000</td>\n",
       "    </tr>\n",
       "  </tbody>\n",
       "</table>\n",
       "</div>"
      ],
      "text/plain": [
       "                 id     amount_tsh    gps_height     longitude      latitude  \\\n",
       "count  59400.000000   59400.000000  59400.000000  59400.000000  5.940000e+04   \n",
       "mean   37115.131768     317.650385    668.297239     34.077427 -5.706033e+00   \n",
       "std    21453.128371    2997.574558    693.116350      6.567432  2.946019e+00   \n",
       "min        0.000000       0.000000    -90.000000      0.000000 -1.164944e+01   \n",
       "25%    18519.750000       0.000000      0.000000     33.090347 -8.540621e+00   \n",
       "50%    37061.500000       0.000000    369.000000     34.908743 -5.021597e+00   \n",
       "75%    55656.500000      20.000000   1319.250000     37.178387 -3.326156e+00   \n",
       "max    74247.000000  350000.000000   2770.000000     40.345193 -2.000000e-08   \n",
       "\n",
       "        num_private   region_code  district_code    population  \\\n",
       "count  59400.000000  59400.000000   59400.000000  59400.000000   \n",
       "mean       0.474141     15.297003       5.629747    179.909983   \n",
       "std       12.236230     17.587406       9.633649    471.482176   \n",
       "min        0.000000      1.000000       0.000000      0.000000   \n",
       "25%        0.000000      5.000000       2.000000      0.000000   \n",
       "50%        0.000000     12.000000       3.000000     25.000000   \n",
       "75%        0.000000     17.000000       5.000000    215.000000   \n",
       "max     1776.000000     99.000000      80.000000  30500.000000   \n",
       "\n",
       "       construction_year        target  \n",
       "count       59400.000000  59400.000000  \n",
       "mean         1300.652475      1.158838  \n",
       "std           951.620547      0.949794  \n",
       "min             0.000000      0.000000  \n",
       "25%             0.000000      0.000000  \n",
       "50%          1986.000000      2.000000  \n",
       "75%          2004.000000      2.000000  \n",
       "max          2013.000000      2.000000  "
      ]
     },
     "execution_count": 31,
     "metadata": {},
     "output_type": "execute_result"
    }
   ],
   "source": [
    "num_df = pd.merge(raw_data.select_dtypes(include=np.number), raw_target, on='id')\n",
    "\n",
    "status_dict = {'non functional': 0,\n",
    "              'functional needs repair': 1,\n",
    "              'functional': 2}\n",
    "\n",
    "num_df['target'] = num_df['status_group'].map(lambda x: status_dict[x])\n",
    "num_df.drop('status_group', axis=1, inplace=True)\n",
    "num_df.describe()"
   ]
  },
  {
   "cell_type": "markdown",
   "id": "6c55f4fa",
   "metadata": {},
   "source": [
    "The 'id' feature is a unique identifier, we will leave it in for merge purposes later but will not use it in modeling so no investigation needed.\n",
    "\n",
    "The 'amount_tsh' feature is the total amount of water available to the waterpoint. It looks like at least 50% of our waterpoints do not have any water available, regardless of pump functionality. If we look back, we also see that over 50% of pumps are classified as functional. This is a bit concerning, it's unclear how you can have a functional pump with no water available to pump.\n",
    "\n",
    "'gps_height' is concerning. [Research shows](https://en.wikipedia.org/wiki/Geography_of_Tanzania) that the lowest point in the country is sea level (0), yet we have a minimum of -90, so we will need to investigate that.\n",
    "\n",
    "[Research shows](https://worldpopulationreview.com/countries/tanzania/location) that Tanzania's most extreme latitudes range from 00&deg;59'S (-0.98333) to 11&deg;45'S (-11.75), while the longitude extremes range from 40&deg;29'E (40.48333) to 29&deg;10'E (29.16667)\n",
    "\n",
    "The 'latitude' values seem to exceed the northen border of the country (max latitude -2e-08), so we will need to investigate that. The 'longitude' values minimum is 0, so we have some data that is outside the range of the country borders. It's likely from mistakes or errors in data entry, but we need to investigate the extent and fix it.\n",
    "\n",
    "There is no description of 'num_private' in the datasource, we'll have to look at that. It may not factor into modeling.\n",
    "\n",
    "'region_code' and 'district_code' will need to be investigated separately as well, the documentation is not clear about what that data represents.\n",
    "\n",
    "'construction_year' and 'population' each have minimums of 0, and that should definitely not be the case in construction year. It's possible a waterpoint exists in a place considered to have no population, but we'll need to investigate these further."
   ]
  },
  {
   "cell_type": "markdown",
   "id": "5a92a24d",
   "metadata": {
    "heading_collapsed": true
   },
   "source": [
    "## amount_tsh"
   ]
  },
  {
   "cell_type": "code",
   "execution_count": 32,
   "id": "55a98543",
   "metadata": {
    "ExecuteTime": {
     "end_time": "2022-01-29T16:47:05.634426Z",
     "start_time": "2022-01-29T16:47:05.619465Z"
    },
    "hidden": true
   },
   "outputs": [
    {
     "data": {
      "text/plain": [
       "0.700993265993266"
      ]
     },
     "execution_count": 32,
     "metadata": {},
     "output_type": "execute_result"
    }
   ],
   "source": [
    "len(num_df[num_df.amount_tsh == 0.0]) / len(num_df)"
   ]
  },
  {
   "cell_type": "markdown",
   "id": "41854049",
   "metadata": {
    "hidden": true
   },
   "source": [
    "70% of our datapoints list the amount_tsh as equal to 0.0. This can't mean that the waterpoint has no water available. We need to understand more about what total static head means. [Research shows](https://www.pumpfundamentals.com/tutorial2.htm#:~:text=If%20the%20liquid%20surface%20of,the%20friction%20in%20the%20system.) that a pump system's static head is the difference between the liquid surface of the reservoir and the discharge end of the pump system. The higher the discharge tube is lifted above the liquid surface, the harder is is for the pump to move the water, and the lower the flow rate will be. I would imagine that the requirements of pump location to discharge would impact the type of pump to be used."
   ]
  },
  {
   "cell_type": "code",
   "execution_count": 33,
   "id": "d87aea58",
   "metadata": {
    "ExecuteTime": {
     "end_time": "2022-01-29T16:47:05.666342Z",
     "start_time": "2022-01-29T16:47:05.636421Z"
    },
    "hidden": true,
    "scrolled": false
   },
   "outputs": [
    {
     "data": {
      "text/html": [
       "<div>\n",
       "<style scoped>\n",
       "    .dataframe tbody tr th:only-of-type {\n",
       "        vertical-align: middle;\n",
       "    }\n",
       "\n",
       "    .dataframe tbody tr th {\n",
       "        vertical-align: top;\n",
       "    }\n",
       "\n",
       "    .dataframe thead th {\n",
       "        text-align: right;\n",
       "    }\n",
       "</style>\n",
       "<table border=\"1\" class=\"dataframe\">\n",
       "  <thead>\n",
       "    <tr style=\"text-align: right;\">\n",
       "      <th></th>\n",
       "      <th>amount_tsh</th>\n",
       "    </tr>\n",
       "    <tr>\n",
       "      <th>target</th>\n",
       "      <th></th>\n",
       "    </tr>\n",
       "  </thead>\n",
       "  <tbody>\n",
       "    <tr>\n",
       "      <th>0</th>\n",
       "      <td>123.481230</td>\n",
       "    </tr>\n",
       "    <tr>\n",
       "      <th>1</th>\n",
       "      <td>267.071577</td>\n",
       "    </tr>\n",
       "    <tr>\n",
       "      <th>2</th>\n",
       "      <td>461.798235</td>\n",
       "    </tr>\n",
       "  </tbody>\n",
       "</table>\n",
       "</div>"
      ],
      "text/plain": [
       "        amount_tsh\n",
       "target            \n",
       "0       123.481230\n",
       "1       267.071577\n",
       "2       461.798235"
      ]
     },
     "execution_count": 33,
     "metadata": {},
     "output_type": "execute_result"
    }
   ],
   "source": [
    "num_df.groupby('target').mean()[['amount_tsh']]"
   ]
  },
  {
   "cell_type": "code",
   "execution_count": 34,
   "id": "8378b5af",
   "metadata": {
    "ExecuteTime": {
     "end_time": "2022-01-29T16:47:05.697260Z",
     "start_time": "2022-01-29T16:47:05.669334Z"
    },
    "hidden": true
   },
   "outputs": [
    {
     "data": {
      "text/html": [
       "<div>\n",
       "<style scoped>\n",
       "    .dataframe tbody tr th:only-of-type {\n",
       "        vertical-align: middle;\n",
       "    }\n",
       "\n",
       "    .dataframe tbody tr th {\n",
       "        vertical-align: top;\n",
       "    }\n",
       "\n",
       "    .dataframe thead th {\n",
       "        text-align: right;\n",
       "    }\n",
       "</style>\n",
       "<table border=\"1\" class=\"dataframe\">\n",
       "  <thead>\n",
       "    <tr style=\"text-align: right;\">\n",
       "      <th></th>\n",
       "      <th>id</th>\n",
       "      <th>amount_tsh</th>\n",
       "      <th>gps_height</th>\n",
       "      <th>longitude</th>\n",
       "      <th>latitude</th>\n",
       "      <th>num_private</th>\n",
       "      <th>region_code</th>\n",
       "      <th>district_code</th>\n",
       "      <th>population</th>\n",
       "      <th>construction_year</th>\n",
       "      <th>target</th>\n",
       "    </tr>\n",
       "  </thead>\n",
       "  <tbody>\n",
       "    <tr>\n",
       "      <th>0</th>\n",
       "      <td>69572</td>\n",
       "      <td>6000.0</td>\n",
       "      <td>1390</td>\n",
       "      <td>34.938093</td>\n",
       "      <td>-9.856322</td>\n",
       "      <td>0</td>\n",
       "      <td>11</td>\n",
       "      <td>5</td>\n",
       "      <td>109</td>\n",
       "      <td>1999</td>\n",
       "      <td>2</td>\n",
       "    </tr>\n",
       "    <tr>\n",
       "      <th>2</th>\n",
       "      <td>34310</td>\n",
       "      <td>25.0</td>\n",
       "      <td>686</td>\n",
       "      <td>37.460664</td>\n",
       "      <td>-3.821329</td>\n",
       "      <td>0</td>\n",
       "      <td>21</td>\n",
       "      <td>4</td>\n",
       "      <td>250</td>\n",
       "      <td>2009</td>\n",
       "      <td>2</td>\n",
       "    </tr>\n",
       "    <tr>\n",
       "      <th>5</th>\n",
       "      <td>9944</td>\n",
       "      <td>20.0</td>\n",
       "      <td>0</td>\n",
       "      <td>39.172796</td>\n",
       "      <td>-4.765587</td>\n",
       "      <td>0</td>\n",
       "      <td>4</td>\n",
       "      <td>8</td>\n",
       "      <td>1</td>\n",
       "      <td>2009</td>\n",
       "      <td>2</td>\n",
       "    </tr>\n",
       "    <tr>\n",
       "      <th>11</th>\n",
       "      <td>50409</td>\n",
       "      <td>200.0</td>\n",
       "      <td>1062</td>\n",
       "      <td>35.770258</td>\n",
       "      <td>-10.574175</td>\n",
       "      <td>0</td>\n",
       "      <td>10</td>\n",
       "      <td>5</td>\n",
       "      <td>250</td>\n",
       "      <td>1987</td>\n",
       "      <td>2</td>\n",
       "    </tr>\n",
       "    <tr>\n",
       "      <th>16</th>\n",
       "      <td>48451</td>\n",
       "      <td>500.0</td>\n",
       "      <td>1703</td>\n",
       "      <td>34.642439</td>\n",
       "      <td>-9.106185</td>\n",
       "      <td>0</td>\n",
       "      <td>11</td>\n",
       "      <td>4</td>\n",
       "      <td>35</td>\n",
       "      <td>1978</td>\n",
       "      <td>0</td>\n",
       "    </tr>\n",
       "    <tr>\n",
       "      <th>...</th>\n",
       "      <td>...</td>\n",
       "      <td>...</td>\n",
       "      <td>...</td>\n",
       "      <td>...</td>\n",
       "      <td>...</td>\n",
       "      <td>...</td>\n",
       "      <td>...</td>\n",
       "      <td>...</td>\n",
       "      <td>...</td>\n",
       "      <td>...</td>\n",
       "      <td>...</td>\n",
       "    </tr>\n",
       "    <tr>\n",
       "      <th>59385</th>\n",
       "      <td>34473</td>\n",
       "      <td>500.0</td>\n",
       "      <td>1327</td>\n",
       "      <td>33.951681</td>\n",
       "      <td>-2.021854</td>\n",
       "      <td>0</td>\n",
       "      <td>20</td>\n",
       "      <td>4</td>\n",
       "      <td>200</td>\n",
       "      <td>2011</td>\n",
       "      <td>2</td>\n",
       "    </tr>\n",
       "    <tr>\n",
       "      <th>59387</th>\n",
       "      <td>26640</td>\n",
       "      <td>100.0</td>\n",
       "      <td>25</td>\n",
       "      <td>39.176480</td>\n",
       "      <td>-6.957098</td>\n",
       "      <td>0</td>\n",
       "      <td>7</td>\n",
       "      <td>2</td>\n",
       "      <td>100</td>\n",
       "      <td>2000</td>\n",
       "      <td>2</td>\n",
       "    </tr>\n",
       "    <tr>\n",
       "      <th>59394</th>\n",
       "      <td>11164</td>\n",
       "      <td>500.0</td>\n",
       "      <td>351</td>\n",
       "      <td>37.634053</td>\n",
       "      <td>-6.124830</td>\n",
       "      <td>0</td>\n",
       "      <td>5</td>\n",
       "      <td>6</td>\n",
       "      <td>89</td>\n",
       "      <td>2007</td>\n",
       "      <td>0</td>\n",
       "    </tr>\n",
       "    <tr>\n",
       "      <th>59395</th>\n",
       "      <td>60739</td>\n",
       "      <td>10.0</td>\n",
       "      <td>1210</td>\n",
       "      <td>37.169807</td>\n",
       "      <td>-3.253847</td>\n",
       "      <td>0</td>\n",
       "      <td>3</td>\n",
       "      <td>5</td>\n",
       "      <td>125</td>\n",
       "      <td>1999</td>\n",
       "      <td>2</td>\n",
       "    </tr>\n",
       "    <tr>\n",
       "      <th>59396</th>\n",
       "      <td>27263</td>\n",
       "      <td>4700.0</td>\n",
       "      <td>1212</td>\n",
       "      <td>35.249991</td>\n",
       "      <td>-9.070629</td>\n",
       "      <td>0</td>\n",
       "      <td>11</td>\n",
       "      <td>4</td>\n",
       "      <td>56</td>\n",
       "      <td>1996</td>\n",
       "      <td>2</td>\n",
       "    </tr>\n",
       "  </tbody>\n",
       "</table>\n",
       "<p>17761 rows × 11 columns</p>\n",
       "</div>"
      ],
      "text/plain": [
       "          id  amount_tsh  gps_height  longitude   latitude  num_private  \\\n",
       "0      69572      6000.0        1390  34.938093  -9.856322            0   \n",
       "2      34310        25.0         686  37.460664  -3.821329            0   \n",
       "5       9944        20.0           0  39.172796  -4.765587            0   \n",
       "11     50409       200.0        1062  35.770258 -10.574175            0   \n",
       "16     48451       500.0        1703  34.642439  -9.106185            0   \n",
       "...      ...         ...         ...        ...        ...          ...   \n",
       "59385  34473       500.0        1327  33.951681  -2.021854            0   \n",
       "59387  26640       100.0          25  39.176480  -6.957098            0   \n",
       "59394  11164       500.0         351  37.634053  -6.124830            0   \n",
       "59395  60739        10.0        1210  37.169807  -3.253847            0   \n",
       "59396  27263      4700.0        1212  35.249991  -9.070629            0   \n",
       "\n",
       "       region_code  district_code  population  construction_year  target  \n",
       "0               11              5         109               1999       2  \n",
       "2               21              4         250               2009       2  \n",
       "5                4              8           1               2009       2  \n",
       "11              10              5         250               1987       2  \n",
       "16              11              4          35               1978       0  \n",
       "...            ...            ...         ...                ...     ...  \n",
       "59385           20              4         200               2011       2  \n",
       "59387            7              2         100               2000       2  \n",
       "59394            5              6          89               2007       0  \n",
       "59395            3              5         125               1999       2  \n",
       "59396           11              4          56               1996       2  \n",
       "\n",
       "[17761 rows x 11 columns]"
      ]
     },
     "execution_count": 34,
     "metadata": {},
     "output_type": "execute_result"
    }
   ],
   "source": [
    "num_df[num_df.amount_tsh > 0]"
   ]
  },
  {
   "cell_type": "markdown",
   "id": "84b93c21",
   "metadata": {
    "hidden": true
   },
   "source": [
    "The average total static head increases with each pump status category, from 0 (non function) to 2 (functional). We will have to engineer this feature in some way in order to utilize it. Most of our values are 0, we have none that are below that, and the maximum value is 350,000 feet."
   ]
  },
  {
   "cell_type": "markdown",
   "id": "843e40f5",
   "metadata": {
    "heading_collapsed": true
   },
   "source": [
    "## gps_height"
   ]
  },
  {
   "cell_type": "code",
   "execution_count": 35,
   "id": "a8871337",
   "metadata": {
    "ExecuteTime": {
     "end_time": "2022-01-29T16:47:05.743139Z",
     "start_time": "2022-01-29T16:47:05.698258Z"
    },
    "hidden": true
   },
   "outputs": [
    {
     "name": "stdout",
     "output_type": "stream",
     "text": [
      "Percent of total data: 2.52%\n"
     ]
    },
    {
     "data": {
      "text/html": [
       "<div>\n",
       "<style scoped>\n",
       "    .dataframe tbody tr th:only-of-type {\n",
       "        vertical-align: middle;\n",
       "    }\n",
       "\n",
       "    .dataframe tbody tr th {\n",
       "        vertical-align: top;\n",
       "    }\n",
       "\n",
       "    .dataframe thead th {\n",
       "        text-align: right;\n",
       "    }\n",
       "</style>\n",
       "<table border=\"1\" class=\"dataframe\">\n",
       "  <thead>\n",
       "    <tr style=\"text-align: right;\">\n",
       "      <th></th>\n",
       "      <th>id</th>\n",
       "      <th>amount_tsh</th>\n",
       "      <th>gps_height</th>\n",
       "      <th>longitude</th>\n",
       "      <th>latitude</th>\n",
       "      <th>num_private</th>\n",
       "      <th>region_code</th>\n",
       "      <th>district_code</th>\n",
       "      <th>population</th>\n",
       "      <th>construction_year</th>\n",
       "      <th>target</th>\n",
       "    </tr>\n",
       "  </thead>\n",
       "  <tbody>\n",
       "    <tr>\n",
       "      <th>count</th>\n",
       "      <td>1496.000000</td>\n",
       "      <td>1496.000000</td>\n",
       "      <td>1496.000000</td>\n",
       "      <td>1496.000000</td>\n",
       "      <td>1496.000000</td>\n",
       "      <td>1496.000000</td>\n",
       "      <td>1496.000000</td>\n",
       "      <td>1496.000000</td>\n",
       "      <td>1496.000000</td>\n",
       "      <td>1496.000000</td>\n",
       "      <td>1496.000000</td>\n",
       "    </tr>\n",
       "    <tr>\n",
       "      <th>mean</th>\n",
       "      <td>37297.606952</td>\n",
       "      <td>313.013369</td>\n",
       "      <td>-19.993316</td>\n",
       "      <td>39.352801</td>\n",
       "      <td>-7.727535</td>\n",
       "      <td>0.506684</td>\n",
       "      <td>34.703877</td>\n",
       "      <td>15.531417</td>\n",
       "      <td>258.137032</td>\n",
       "      <td>1686.096257</td>\n",
       "      <td>1.073529</td>\n",
       "    </tr>\n",
       "    <tr>\n",
       "      <th>std</th>\n",
       "      <td>21119.500129</td>\n",
       "      <td>4017.641868</td>\n",
       "      <td>12.154136</td>\n",
       "      <td>0.458811</td>\n",
       "      <td>1.542230</td>\n",
       "      <td>7.155227</td>\n",
       "      <td>35.259116</td>\n",
       "      <td>21.812220</td>\n",
       "      <td>428.417873</td>\n",
       "      <td>726.379806</td>\n",
       "      <td>0.983446</td>\n",
       "    </tr>\n",
       "    <tr>\n",
       "      <th>min</th>\n",
       "      <td>150.000000</td>\n",
       "      <td>0.000000</td>\n",
       "      <td>-90.000000</td>\n",
       "      <td>38.614960</td>\n",
       "      <td>-10.946096</td>\n",
       "      <td>0.000000</td>\n",
       "      <td>4.000000</td>\n",
       "      <td>1.000000</td>\n",
       "      <td>1.000000</td>\n",
       "      <td>0.000000</td>\n",
       "      <td>0.000000</td>\n",
       "    </tr>\n",
       "    <tr>\n",
       "      <th>25%</th>\n",
       "      <td>19232.750000</td>\n",
       "      <td>0.000000</td>\n",
       "      <td>-28.000000</td>\n",
       "      <td>38.972421</td>\n",
       "      <td>-8.584131</td>\n",
       "      <td>0.000000</td>\n",
       "      <td>6.000000</td>\n",
       "      <td>1.000000</td>\n",
       "      <td>40.000000</td>\n",
       "      <td>1976.000000</td>\n",
       "      <td>0.000000</td>\n",
       "    </tr>\n",
       "    <tr>\n",
       "      <th>50%</th>\n",
       "      <td>36699.000000</td>\n",
       "      <td>0.000000</td>\n",
       "      <td>-18.000000</td>\n",
       "      <td>39.281546</td>\n",
       "      <td>-7.415977</td>\n",
       "      <td>0.000000</td>\n",
       "      <td>7.000000</td>\n",
       "      <td>5.000000</td>\n",
       "      <td>102.500000</td>\n",
       "      <td>2000.000000</td>\n",
       "      <td>2.000000</td>\n",
       "    </tr>\n",
       "    <tr>\n",
       "      <th>75%</th>\n",
       "      <td>55492.750000</td>\n",
       "      <td>50.000000</td>\n",
       "      <td>-11.000000</td>\n",
       "      <td>39.662349</td>\n",
       "      <td>-6.524902</td>\n",
       "      <td>0.000000</td>\n",
       "      <td>60.000000</td>\n",
       "      <td>13.000000</td>\n",
       "      <td>320.000000</td>\n",
       "      <td>2008.000000</td>\n",
       "      <td>2.000000</td>\n",
       "    </tr>\n",
       "    <tr>\n",
       "      <th>max</th>\n",
       "      <td>74211.000000</td>\n",
       "      <td>138000.000000</td>\n",
       "      <td>-1.000000</td>\n",
       "      <td>40.345193</td>\n",
       "      <td>-5.278598</td>\n",
       "      <td>150.000000</td>\n",
       "      <td>99.000000</td>\n",
       "      <td>67.000000</td>\n",
       "      <td>4520.000000</td>\n",
       "      <td>2013.000000</td>\n",
       "      <td>2.000000</td>\n",
       "    </tr>\n",
       "  </tbody>\n",
       "</table>\n",
       "</div>"
      ],
      "text/plain": [
       "                 id     amount_tsh   gps_height    longitude     latitude  \\\n",
       "count   1496.000000    1496.000000  1496.000000  1496.000000  1496.000000   \n",
       "mean   37297.606952     313.013369   -19.993316    39.352801    -7.727535   \n",
       "std    21119.500129    4017.641868    12.154136     0.458811     1.542230   \n",
       "min      150.000000       0.000000   -90.000000    38.614960   -10.946096   \n",
       "25%    19232.750000       0.000000   -28.000000    38.972421    -8.584131   \n",
       "50%    36699.000000       0.000000   -18.000000    39.281546    -7.415977   \n",
       "75%    55492.750000      50.000000   -11.000000    39.662349    -6.524902   \n",
       "max    74211.000000  138000.000000    -1.000000    40.345193    -5.278598   \n",
       "\n",
       "       num_private  region_code  district_code   population  \\\n",
       "count  1496.000000  1496.000000    1496.000000  1496.000000   \n",
       "mean      0.506684    34.703877      15.531417   258.137032   \n",
       "std       7.155227    35.259116      21.812220   428.417873   \n",
       "min       0.000000     4.000000       1.000000     1.000000   \n",
       "25%       0.000000     6.000000       1.000000    40.000000   \n",
       "50%       0.000000     7.000000       5.000000   102.500000   \n",
       "75%       0.000000    60.000000      13.000000   320.000000   \n",
       "max     150.000000    99.000000      67.000000  4520.000000   \n",
       "\n",
       "       construction_year       target  \n",
       "count        1496.000000  1496.000000  \n",
       "mean         1686.096257     1.073529  \n",
       "std           726.379806     0.983446  \n",
       "min             0.000000     0.000000  \n",
       "25%          1976.000000     0.000000  \n",
       "50%          2000.000000     2.000000  \n",
       "75%          2008.000000     2.000000  \n",
       "max          2013.000000     2.000000  "
      ]
     },
     "execution_count": 35,
     "metadata": {},
     "output_type": "execute_result"
    }
   ],
   "source": [
    "gps_height_neg = num_df[num_df.gps_height < 0]\n",
    "print(f\"Percent of total data: {round(len(gps_height_neg)/len(num_df)*100,2)}%\")\n",
    "gps_height_neg.describe()"
   ]
  },
  {
   "cell_type": "markdown",
   "id": "7fa450c6",
   "metadata": {
    "hidden": true
   },
   "source": [
    "There are 1,496 datapoints where the gps_height was less than 0, about 2.5% of our data. Earlier we mentioned that this should not be possible as the listed lowest elevation for Tanzania is 0 ft above sea level (at the Indian Ocean). [Research shows](https://eos-gnss.com/knowledge-base/articles/elevation-for-beginners) that most GPS units are designed to measure height based on the representation of the earth's surface as an 'ellipsoid', and it's perfectly possible to be standing at sea level where the reading should be 0 and have it be a negative number. \n",
    "\n",
    "Considering these data are almost all on the eastern edge of the country (lower longitudes) closer to the Indian Ocean, it is likely the sites are at or just above sea level and capable of producing negative height readings. Opportunity for further tuning could be to address this incosistency across all the data, shifting all datapoints to a more accurage representation of height. I do not think it would be as simple as shifting all values up by the largest negative difference. Because it's such a small percentage of our dataset, we will just set them to 0 rather than worry about adjusting all the values."
   ]
  },
  {
   "cell_type": "code",
   "execution_count": 36,
   "id": "5a10ea0f",
   "metadata": {
    "ExecuteTime": {
     "end_time": "2022-01-29T16:47:05.759097Z",
     "start_time": "2022-01-29T16:47:05.744137Z"
    },
    "hidden": true
   },
   "outputs": [],
   "source": [
    "num_df.gps_height.clip(lower=0.0, inplace=True)"
   ]
  },
  {
   "cell_type": "markdown",
   "id": "44db3c9d",
   "metadata": {
    "heading_collapsed": true
   },
   "source": [
    "## longitude/latitude"
   ]
  },
  {
   "cell_type": "markdown",
   "id": "6e254691",
   "metadata": {
    "hidden": true
   },
   "source": [
    "The max longitude is within the boundaries, we need to examine all values below the actual minimum which is 29.16667."
   ]
  },
  {
   "cell_type": "code",
   "execution_count": 37,
   "id": "26db66f7",
   "metadata": {
    "ExecuteTime": {
     "end_time": "2022-01-29T16:47:05.822930Z",
     "start_time": "2022-01-29T16:47:05.760095Z"
    },
    "hidden": true
   },
   "outputs": [
    {
     "data": {
      "text/html": [
       "<div>\n",
       "<style scoped>\n",
       "    .dataframe tbody tr th:only-of-type {\n",
       "        vertical-align: middle;\n",
       "    }\n",
       "\n",
       "    .dataframe tbody tr th {\n",
       "        vertical-align: top;\n",
       "    }\n",
       "\n",
       "    .dataframe thead th {\n",
       "        text-align: right;\n",
       "    }\n",
       "</style>\n",
       "<table border=\"1\" class=\"dataframe\">\n",
       "  <thead>\n",
       "    <tr style=\"text-align: right;\">\n",
       "      <th></th>\n",
       "      <th>id</th>\n",
       "      <th>amount_tsh</th>\n",
       "      <th>gps_height</th>\n",
       "      <th>longitude</th>\n",
       "      <th>latitude</th>\n",
       "      <th>num_private</th>\n",
       "      <th>region_code</th>\n",
       "      <th>district_code</th>\n",
       "      <th>population</th>\n",
       "      <th>construction_year</th>\n",
       "      <th>target</th>\n",
       "    </tr>\n",
       "  </thead>\n",
       "  <tbody>\n",
       "    <tr>\n",
       "      <th>count</th>\n",
       "      <td>1812.000000</td>\n",
       "      <td>1812.0</td>\n",
       "      <td>1812.0</td>\n",
       "      <td>1812.0</td>\n",
       "      <td>1.812000e+03</td>\n",
       "      <td>1812.0</td>\n",
       "      <td>1812.000000</td>\n",
       "      <td>1812.000000</td>\n",
       "      <td>1812.0</td>\n",
       "      <td>1812.0</td>\n",
       "      <td>1812.000000</td>\n",
       "    </tr>\n",
       "    <tr>\n",
       "      <th>mean</th>\n",
       "      <td>37389.841060</td>\n",
       "      <td>0.0</td>\n",
       "      <td>0.0</td>\n",
       "      <td>0.0</td>\n",
       "      <td>-2.000000e-08</td>\n",
       "      <td>0.0</td>\n",
       "      <td>17.820088</td>\n",
       "      <td>2.497241</td>\n",
       "      <td>0.0</td>\n",
       "      <td>0.0</td>\n",
       "      <td>1.173289</td>\n",
       "    </tr>\n",
       "    <tr>\n",
       "      <th>std</th>\n",
       "      <td>21413.129962</td>\n",
       "      <td>0.0</td>\n",
       "      <td>0.0</td>\n",
       "      <td>0.0</td>\n",
       "      <td>3.309636e-24</td>\n",
       "      <td>0.0</td>\n",
       "      <td>1.023562</td>\n",
       "      <td>2.157389</td>\n",
       "      <td>0.0</td>\n",
       "      <td>0.0</td>\n",
       "      <td>0.870267</td>\n",
       "    </tr>\n",
       "    <tr>\n",
       "      <th>min</th>\n",
       "      <td>15.000000</td>\n",
       "      <td>0.0</td>\n",
       "      <td>0.0</td>\n",
       "      <td>0.0</td>\n",
       "      <td>-2.000000e-08</td>\n",
       "      <td>0.0</td>\n",
       "      <td>11.000000</td>\n",
       "      <td>1.000000</td>\n",
       "      <td>0.0</td>\n",
       "      <td>0.0</td>\n",
       "      <td>0.000000</td>\n",
       "    </tr>\n",
       "    <tr>\n",
       "      <th>25%</th>\n",
       "      <td>18481.750000</td>\n",
       "      <td>0.0</td>\n",
       "      <td>0.0</td>\n",
       "      <td>0.0</td>\n",
       "      <td>-2.000000e-08</td>\n",
       "      <td>0.0</td>\n",
       "      <td>17.000000</td>\n",
       "      <td>1.000000</td>\n",
       "      <td>0.0</td>\n",
       "      <td>0.0</td>\n",
       "      <td>0.000000</td>\n",
       "    </tr>\n",
       "    <tr>\n",
       "      <th>50%</th>\n",
       "      <td>37326.000000</td>\n",
       "      <td>0.0</td>\n",
       "      <td>0.0</td>\n",
       "      <td>0.0</td>\n",
       "      <td>-2.000000e-08</td>\n",
       "      <td>0.0</td>\n",
       "      <td>17.000000</td>\n",
       "      <td>1.000000</td>\n",
       "      <td>0.0</td>\n",
       "      <td>0.0</td>\n",
       "      <td>1.000000</td>\n",
       "    </tr>\n",
       "    <tr>\n",
       "      <th>75%</th>\n",
       "      <td>55509.750000</td>\n",
       "      <td>0.0</td>\n",
       "      <td>0.0</td>\n",
       "      <td>0.0</td>\n",
       "      <td>-2.000000e-08</td>\n",
       "      <td>0.0</td>\n",
       "      <td>19.000000</td>\n",
       "      <td>6.000000</td>\n",
       "      <td>0.0</td>\n",
       "      <td>0.0</td>\n",
       "      <td>2.000000</td>\n",
       "    </tr>\n",
       "    <tr>\n",
       "      <th>max</th>\n",
       "      <td>74193.000000</td>\n",
       "      <td>0.0</td>\n",
       "      <td>0.0</td>\n",
       "      <td>0.0</td>\n",
       "      <td>-2.000000e-08</td>\n",
       "      <td>0.0</td>\n",
       "      <td>19.000000</td>\n",
       "      <td>6.000000</td>\n",
       "      <td>0.0</td>\n",
       "      <td>0.0</td>\n",
       "      <td>2.000000</td>\n",
       "    </tr>\n",
       "  </tbody>\n",
       "</table>\n",
       "</div>"
      ],
      "text/plain": [
       "                 id  amount_tsh  gps_height  longitude      latitude  \\\n",
       "count   1812.000000      1812.0      1812.0     1812.0  1.812000e+03   \n",
       "mean   37389.841060         0.0         0.0        0.0 -2.000000e-08   \n",
       "std    21413.129962         0.0         0.0        0.0  3.309636e-24   \n",
       "min       15.000000         0.0         0.0        0.0 -2.000000e-08   \n",
       "25%    18481.750000         0.0         0.0        0.0 -2.000000e-08   \n",
       "50%    37326.000000         0.0         0.0        0.0 -2.000000e-08   \n",
       "75%    55509.750000         0.0         0.0        0.0 -2.000000e-08   \n",
       "max    74193.000000         0.0         0.0        0.0 -2.000000e-08   \n",
       "\n",
       "       num_private  region_code  district_code  population  construction_year  \\\n",
       "count       1812.0  1812.000000    1812.000000      1812.0             1812.0   \n",
       "mean           0.0    17.820088       2.497241         0.0                0.0   \n",
       "std            0.0     1.023562       2.157389         0.0                0.0   \n",
       "min            0.0    11.000000       1.000000         0.0                0.0   \n",
       "25%            0.0    17.000000       1.000000         0.0                0.0   \n",
       "50%            0.0    17.000000       1.000000         0.0                0.0   \n",
       "75%            0.0    19.000000       6.000000         0.0                0.0   \n",
       "max            0.0    19.000000       6.000000         0.0                0.0   \n",
       "\n",
       "            target  \n",
       "count  1812.000000  \n",
       "mean      1.173289  \n",
       "std       0.870267  \n",
       "min       0.000000  \n",
       "25%       0.000000  \n",
       "50%       1.000000  \n",
       "75%       2.000000  \n",
       "max       2.000000  "
      ]
     },
     "execution_count": 37,
     "metadata": {},
     "output_type": "execute_result"
    }
   ],
   "source": [
    "longitude_errors = num_df[num_df.longitude < 29.16667]\n",
    "longitude_errors.describe()"
   ]
  },
  {
   "cell_type": "markdown",
   "id": "7016694c",
   "metadata": {
    "hidden": true
   },
   "source": [
    "It looks like we have found that our data includes errors in GPS readings. These errors show up as longitude 0 and latitude -2e-0.8. These entries with GPS errors, however, do not account for all the population point values of 0, or the construction year values of 0, so we will still need to address them."
   ]
  },
  {
   "cell_type": "code",
   "execution_count": 38,
   "id": "77ce6b86",
   "metadata": {
    "ExecuteTime": {
     "end_time": "2022-01-29T16:47:05.838887Z",
     "start_time": "2022-01-29T16:47:05.823927Z"
    },
    "hidden": true
   },
   "outputs": [
    {
     "name": "stdout",
     "output_type": "stream",
     "text": [
      "Percent of data with missing lat/long: 3.05%\n",
      "Total data with population of 0: 21381\n",
      "Total data with construction year of 0: 20709\n"
     ]
    }
   ],
   "source": [
    "print(f\"Percent of data with missing lat/long: {round((len(longitude_errors)/len(num_df))*100, 2)}%\")\n",
    "\n",
    "print(f\"Total data with population of 0: {len(num_df[num_df.population == 0])}\")\n",
    "print(f\"Total data with construction year of 0: {len(num_df[num_df.construction_year == 0])}\")"
   ]
  },
  {
   "cell_type": "code",
   "execution_count": 39,
   "id": "7f3a4782",
   "metadata": {
    "ExecuteTime": {
     "end_time": "2022-01-29T16:47:05.854846Z",
     "start_time": "2022-01-29T16:47:05.840883Z"
    },
    "hidden": true
   },
   "outputs": [
    {
     "data": {
      "text/plain": [
       "functional                 0.480132\n",
       "non functional             0.306843\n",
       "functional needs repair    0.213024\n",
       "Name: status_group, dtype: float64"
      ]
     },
     "execution_count": 39,
     "metadata": {},
     "output_type": "execute_result"
    }
   ],
   "source": [
    "gps_errors = raw_df[raw_df.longitude == 0.0]\n",
    "gps_errors.status_group.value_counts(normalize=True)"
   ]
  },
  {
   "cell_type": "code",
   "execution_count": 40,
   "id": "1ac32c3d",
   "metadata": {
    "ExecuteTime": {
     "end_time": "2022-01-29T16:47:05.870804Z",
     "start_time": "2022-01-29T16:47:05.855844Z"
    },
    "hidden": true
   },
   "outputs": [
    {
     "data": {
      "text/plain": [
       "17    1057\n",
       "19     752\n",
       "11       3\n",
       "Name: region_code, dtype: int64"
      ]
     },
     "execution_count": 40,
     "metadata": {},
     "output_type": "execute_result"
    }
   ],
   "source": [
    "gps_errors.region_code.value_counts()"
   ]
  },
  {
   "cell_type": "markdown",
   "id": "0d01664d",
   "metadata": {
    "hidden": true
   },
   "source": [
    "The missing GPS data comprises about 3% of our dataset, but contains a disproportionate number of the 'functional needs repair' value from the target, which we already have very little data for. Also, all of the missing GPS data comes from three regions: 11, 17, and 19. \n",
    "\n",
    "What we can do is take the average lat/long from the points we do have for those region_codes and fill our nulls with the average for that region_code with a little randomness added in."
   ]
  },
  {
   "cell_type": "code",
   "execution_count": 41,
   "id": "05c41dba",
   "metadata": {
    "ExecuteTime": {
     "end_time": "2022-01-29T16:47:05.982530Z",
     "start_time": "2022-01-29T16:47:05.871801Z"
    },
    "hidden": true
   },
   "outputs": [],
   "source": [
    "# get the list of the region codes with errors\n",
    "error_regions = list(gps_errors.region_code.value_counts().index)\n",
    "\n",
    "for region in error_regions:\n",
    "    # split the data based on longitude not being 0.0\n",
    "    region_no_gps = num_df[(num_df.region_code == region) & (num_df.longitude == 0.0)]\n",
    "    region_gps_data = num_df[(num_df.region_code == region) & (num_df.longitude != 0.0)]\n",
    "    # get mean and std for the long/lat of gps data we have\n",
    "    avg_long = region_gps_data[['longitude', 'latitude']].mean()[0]\n",
    "    avg_lat = region_gps_data[['longitude', 'latitude']].mean()[1]\n",
    "    long_std = region_gps_data[['longitude', 'latitude']].std()[0]\n",
    "    lat_std = region_gps_data[['longitude', 'latitude']].std()[1]\n",
    "    # initialize empty lists for random data to fill\n",
    "    fill_long = []\n",
    "    fill_lat = []\n",
    "    # append to each list a random value within the standard deviation of the mean\n",
    "    for x in range(len(region_no_gps)):\n",
    "        fill_long.append(random.triangular(avg_long+long_std, avg_long-long_std))\n",
    "        fill_lat.append(random.triangular(avg_lat+lat_std, avg_lat-lat_std))\n",
    "        x += 1\n",
    "    # convert the two lists into a dataframe\n",
    "    fill_df = pd.DataFrame([fill_long, fill_lat]).transpose()\n",
    "    fill_df.columns = ['longitude', 'latitude']\n",
    "    # replace the missing GPS data with these randomized values\n",
    "    num_df.loc[region_no_gps.index, ['longitude', 'latitude']] = fill_df"
   ]
  },
  {
   "cell_type": "markdown",
   "id": "0d50cc50",
   "metadata": {},
   "source": [
    "## num_private"
   ]
  },
  {
   "cell_type": "code",
   "execution_count": 42,
   "id": "fac67d44",
   "metadata": {
    "ExecuteTime": {
     "end_time": "2022-01-29T16:47:05.997496Z",
     "start_time": "2022-01-29T16:47:05.984505Z"
    }
   },
   "outputs": [
    {
     "data": {
      "text/plain": [
       "0       0.987256\n",
       "6       0.001364\n",
       "1       0.001229\n",
       "5       0.000774\n",
       "8       0.000774\n",
       "          ...   \n",
       "42      0.000017\n",
       "23      0.000017\n",
       "136     0.000017\n",
       "698     0.000017\n",
       "1402    0.000017\n",
       "Name: num_private, Length: 65, dtype: float64"
      ]
     },
     "execution_count": 42,
     "metadata": {},
     "output_type": "execute_result"
    }
   ],
   "source": [
    "num_df.num_private.value_counts(normalize=True)"
   ]
  },
  {
   "cell_type": "code",
   "execution_count": 108,
   "id": "7aefeebd",
   "metadata": {
    "ExecuteTime": {
     "end_time": "2022-01-29T20:27:40.029663Z",
     "start_time": "2022-01-29T20:27:39.774344Z"
    }
   },
   "outputs": [
    {
     "data": {
      "image/png": "[encoded data removed]",
      "text/plain": [
       "<Figure size 432x288 with 1 Axes>"
      ]
     },
     "metadata": {
      "needs_background": "light"
     },
     "output_type": "display_data"
    }
   ],
   "source": [
    "sns.scatterplot(data=num_df, x='target', y='num_private');"
   ]
  },
  {
   "cell_type": "markdown",
   "id": "f4443407",
   "metadata": {},
   "source": [
    "The vast majority of the num_private data has the value 0. There was no descriptor of the feature along with the others for the dataset, so we have no way to reference the value. 98% of the values in this feature are '0'. After looking at a quick scatterplot, we conclude it's very unlikely that there would be any statistically significant relationship between this feature and the target. We are going to drop it from num_df"
   ]
  },
  {
   "cell_type": "code",
   "execution_count": 109,
   "id": "942dbea5",
   "metadata": {
    "ExecuteTime": {
     "end_time": "2022-01-29T20:29:34.426655Z",
     "start_time": "2022-01-29T20:29:34.405683Z"
    }
   },
   "outputs": [],
   "source": [
    "num_df.drop('num_private', axis=1, inplace=True)"
   ]
  },
  {
   "cell_type": "markdown",
   "id": "bc3a0e6b",
   "metadata": {},
   "source": [
    "## region_code"
   ]
  },
  {
   "cell_type": "markdown",
   "id": "c5c87eab",
   "metadata": {},
   "source": [
    "What we suspect is that the regions are the parent in the relationship with district, and that each region has multiple districts in them. Since we have codes for region and strings for regions, lets compare them and see what we can discover."
   ]
  },
  {
   "cell_type": "code",
   "execution_count": 54,
   "id": "05ce7c08",
   "metadata": {
    "ExecuteTime": {
     "end_time": "2022-01-29T16:50:56.782774Z",
     "start_time": "2022-01-29T16:50:56.748836Z"
    }
   },
   "outputs": [
    {
     "name": "stdout",
     "output_type": "stream",
     "text": [
      "Region numeric unique value count: 27\n",
      "Region string unique value count: 21\n",
      "------------------------------------\n",
      "Region_code values:\n",
      "1, 2, 3, 4, 5, 6, 7, 8, 9, 10, 11, 12, 13, 14, 15, 16, 17, 18, 19, 20, 21, 24, 40, 60, 80, 90, 99\n",
      "------------------------------------\n",
      "Entries with region code > 21: 3930\n",
      "Percent of total data: 6.62%\n",
      "------------------------------------\n"
     ]
    }
   ],
   "source": [
    "print(f\"Region numeric unique value count: {len(num_df.region_code.value_counts())}\")\n",
    "print(f\"Region string unique value count: {len(raw_df.region.value_counts())}\")\n",
    "print(\"------------------------------------\")\n",
    "region_code_vals = list(map(str, list(num_df.region_code.value_counts().sort_index().index)))\n",
    "print(\"Region_code values:\")\n",
    "print(\", \".join(region_code_vals))\n",
    "print(\"------------------------------------\")\n",
    "high_region_codes = raw_df[(num_df.region_code > 21)].copy()\n",
    "print(f\"Entries with region code > 21: {len(high_region_codes)}\")\n",
    "print(f\"Percent of total data: {round(len(high_region_codes)/len(raw_df)*100, 2)}%\")\n",
    "print(\"------------------------------------\")"
   ]
  },
  {
   "cell_type": "code",
   "execution_count": 44,
   "id": "8c0304e0",
   "metadata": {
    "ExecuteTime": {
     "end_time": "2022-01-29T16:47:06.059309Z",
     "start_time": "2022-01-29T16:47:06.031381Z"
    }
   },
   "outputs": [
    {
     "data": {
      "text/plain": [
       "True"
      ]
     },
     "execution_count": 44,
     "metadata": {},
     "output_type": "execute_result"
    }
   ],
   "source": [
    "len(raw_df[(raw_df.region_code > 21)]) == len(raw_df[(raw_df.region_code > 21) & (raw_df.longitude != 0.0)])"
   ]
  },
  {
   "cell_type": "markdown",
   "id": "4cfe1552",
   "metadata": {},
   "source": [
    "We can see that the values of region_code go from 1 to 21, and then we have values 24, 40, 60, 80, 90, 99. It's likely that the values 1-21 match up to the 21 string value regions in the feature 'region'.\n",
    "\n",
    "Entries with region_code values above 21 constitute 6.6% of our dataset, and all of the data categorized in these other region_codes contain correct lat/long data. (note: checked this using the raw_df, not the num_df we modified the missing lat/longs for)\n",
    "\n",
    "As for the others, they serve some kind of purpose inputting data. We will need to figure out:\n",
    "- What region_code matches to what region?\n",
    "- What do the >21 region_code values mean?\n",
    "_________\n",
    "We are going to create a dataframe that goes through the region_codes 1-21 and adds the top reporting region/count from the value_count for that particular region_code. Then we look at any differences between those counts and the raw counts of entries with each region code."
   ]
  },
  {
   "cell_type": "code",
   "execution_count": 45,
   "id": "c57f2cbf",
   "metadata": {
    "ExecuteTime": {
     "end_time": "2022-01-29T16:47:06.234866Z",
     "start_time": "2022-01-29T16:47:06.061303Z"
    }
   },
   "outputs": [
    {
     "data": {
      "text/html": [
       "<div>\n",
       "<style scoped>\n",
       "    .dataframe tbody tr th:only-of-type {\n",
       "        vertical-align: middle;\n",
       "    }\n",
       "\n",
       "    .dataframe tbody tr th {\n",
       "        vertical-align: top;\n",
       "    }\n",
       "\n",
       "    .dataframe thead th {\n",
       "        text-align: right;\n",
       "    }\n",
       "</style>\n",
       "<table border=\"1\" class=\"dataframe\">\n",
       "  <thead>\n",
       "    <tr style=\"text-align: right;\">\n",
       "      <th></th>\n",
       "      <th>region_code</th>\n",
       "      <th>region</th>\n",
       "      <th>region_count</th>\n",
       "      <th>region_code_count</th>\n",
       "      <th>surplus_code_count</th>\n",
       "    </tr>\n",
       "  </thead>\n",
       "  <tbody>\n",
       "    <tr>\n",
       "      <th>4</th>\n",
       "      <td>5</td>\n",
       "      <td>Morogoro</td>\n",
       "      <td>4006</td>\n",
       "      <td>4040</td>\n",
       "      <td>34</td>\n",
       "    </tr>\n",
       "    <tr>\n",
       "      <th>10</th>\n",
       "      <td>11</td>\n",
       "      <td>Iringa</td>\n",
       "      <td>5294</td>\n",
       "      <td>5300</td>\n",
       "      <td>6</td>\n",
       "    </tr>\n",
       "    <tr>\n",
       "      <th>13</th>\n",
       "      <td>14</td>\n",
       "      <td>Tabora</td>\n",
       "      <td>1959</td>\n",
       "      <td>1979</td>\n",
       "      <td>20</td>\n",
       "    </tr>\n",
       "    <tr>\n",
       "      <th>16</th>\n",
       "      <td>17</td>\n",
       "      <td>Shinyanga</td>\n",
       "      <td>4956</td>\n",
       "      <td>5011</td>\n",
       "      <td>55</td>\n",
       "    </tr>\n",
       "    <tr>\n",
       "      <th>17</th>\n",
       "      <td>18</td>\n",
       "      <td>Kagera</td>\n",
       "      <td>3316</td>\n",
       "      <td>3324</td>\n",
       "      <td>8</td>\n",
       "    </tr>\n",
       "  </tbody>\n",
       "</table>\n",
       "</div>"
      ],
      "text/plain": [
       "    region_code     region  region_count  region_code_count  \\\n",
       "4             5   Morogoro          4006               4040   \n",
       "10           11     Iringa          5294               5300   \n",
       "13           14     Tabora          1959               1979   \n",
       "16           17  Shinyanga          4956               5011   \n",
       "17           18     Kagera          3316               3324   \n",
       "\n",
       "    surplus_code_count  \n",
       "4                   34  \n",
       "10                   6  \n",
       "13                  20  \n",
       "16                  55  \n",
       "17                   8  "
      ]
     },
     "execution_count": 45,
     "metadata": {},
     "output_type": "execute_result"
    }
   ],
   "source": [
    "region_code_list = []\n",
    "\n",
    "for x in range(1, 22):\n",
    "    region = raw_df[raw_df.region_code == x]['region'].value_counts().index[0]\n",
    "    count = raw_df[raw_df.region_code == x]['region'].value_counts().values[0]\n",
    "    region_code_list.append((x, region, count))\n",
    "    \n",
    "region_df = pd.DataFrame(region_code_list, columns=['region_code', 'region', 'region_count'])\n",
    "region_df['region_code_count'] = raw_df.region_code.value_counts().sort_index().values[:21]\n",
    "\n",
    "region_df['surplus_code_count'] = region_df['region_code_count'] - region_df['region_count']\n",
    "region_df[region_df.surplus_code_count > 0]"
   ]
  },
  {
   "cell_type": "markdown",
   "id": "01e40100",
   "metadata": {},
   "source": [
    "Of the 21 regions, 16 of them match up the region with a region_code and both features have the same count of values. There are 5 regions where the region_code value count has a surplus of values compared to the region value count.\n",
    "\n",
    "For these few number of values, one thought is to update records for these region_codes so that all region_code values match to one region, i.e. we will update all rows where region_code is 5 so that the region 'Morogoro' is reflected. Just to be sure, lets look closer at this example.\n"
   ]
  },
  {
   "cell_type": "code",
   "execution_count": 46,
   "id": "5d4a4c7a",
   "metadata": {
    "ExecuteTime": {
     "end_time": "2022-01-29T16:47:06.250825Z",
     "start_time": "2022-01-29T16:47:06.236841Z"
    }
   },
   "outputs": [
    {
     "data": {
      "text/plain": [
       "Morogoro    4006\n",
       "Tanga         34\n",
       "Name: region, dtype: int64"
      ]
     },
     "execution_count": 46,
     "metadata": {},
     "output_type": "execute_result"
    }
   ],
   "source": [
    "raw_df[raw_df.region_code == 5].region.value_counts()"
   ]
  },
  {
   "cell_type": "code",
   "execution_count": 47,
   "id": "23e1b3e5",
   "metadata": {
    "ExecuteTime": {
     "end_time": "2022-01-29T16:47:06.281745Z",
     "start_time": "2022-01-29T16:47:06.252799Z"
    }
   },
   "outputs": [
    {
     "data": {
      "text/html": [
       "<div>\n",
       "<style scoped>\n",
       "    .dataframe tbody tr th:only-of-type {\n",
       "        vertical-align: middle;\n",
       "    }\n",
       "\n",
       "    .dataframe tbody tr th {\n",
       "        vertical-align: top;\n",
       "    }\n",
       "\n",
       "    .dataframe thead th {\n",
       "        text-align: right;\n",
       "    }\n",
       "</style>\n",
       "<table border=\"1\" class=\"dataframe\">\n",
       "  <thead>\n",
       "    <tr style=\"text-align: right;\">\n",
       "      <th></th>\n",
       "      <th>longitude</th>\n",
       "      <th>latitude</th>\n",
       "    </tr>\n",
       "  </thead>\n",
       "  <tbody>\n",
       "    <tr>\n",
       "      <th>count</th>\n",
       "      <td>34.000000</td>\n",
       "      <td>34.000000</td>\n",
       "    </tr>\n",
       "    <tr>\n",
       "      <th>mean</th>\n",
       "      <td>37.180390</td>\n",
       "      <td>-6.039227</td>\n",
       "    </tr>\n",
       "    <tr>\n",
       "      <th>std</th>\n",
       "      <td>0.029752</td>\n",
       "      <td>0.025528</td>\n",
       "    </tr>\n",
       "    <tr>\n",
       "      <th>min</th>\n",
       "      <td>37.108257</td>\n",
       "      <td>-6.093574</td>\n",
       "    </tr>\n",
       "    <tr>\n",
       "      <th>25%</th>\n",
       "      <td>37.163602</td>\n",
       "      <td>-6.054215</td>\n",
       "    </tr>\n",
       "    <tr>\n",
       "      <th>50%</th>\n",
       "      <td>37.186427</td>\n",
       "      <td>-6.044506</td>\n",
       "    </tr>\n",
       "    <tr>\n",
       "      <th>75%</th>\n",
       "      <td>37.200669</td>\n",
       "      <td>-6.019999</td>\n",
       "    </tr>\n",
       "    <tr>\n",
       "      <th>max</th>\n",
       "      <td>37.231274</td>\n",
       "      <td>-5.992508</td>\n",
       "    </tr>\n",
       "  </tbody>\n",
       "</table>\n",
       "</div>"
      ],
      "text/plain": [
       "       longitude   latitude\n",
       "count  34.000000  34.000000\n",
       "mean   37.180390  -6.039227\n",
       "std     0.029752   0.025528\n",
       "min    37.108257  -6.093574\n",
       "25%    37.163602  -6.054215\n",
       "50%    37.186427  -6.044506\n",
       "75%    37.200669  -6.019999\n",
       "max    37.231274  -5.992508"
      ]
     },
     "execution_count": 47,
     "metadata": {},
     "output_type": "execute_result"
    }
   ],
   "source": [
    "raw_df[(raw_df.region_code == 5) & (raw_df.region == 'Tanga')][['longitude', 'latitude']].describe()"
   ]
  },
  {
   "cell_type": "markdown",
   "id": "b2d79c78",
   "metadata": {},
   "source": [
    "When we looked at the lat/long for the region_code 5 rows that have the region label 'Tanga', the most northern/eastern (min) value was within the boundary of the region 'Morogoro', but very close to the border. Tanga is the northern neighbor to region. We are going to make an assumption that these values of region_code reference the same region string, and assume that is also the case for the remaining surpluses. We will update those region values accordingly so that each region_code corresponds to one and only one region string. **Note: we are modifying the original raw_df here. We will then split off all categorical features in section 5 to encode. The 'region' feature is not a part of num_df**"
   ]
  },
  {
   "cell_type": "code",
   "execution_count": 48,
   "id": "4bd6f2ec",
   "metadata": {
    "ExecuteTime": {
     "end_time": "2022-01-29T16:47:06.329638Z",
     "start_time": "2022-01-29T16:47:06.283717Z"
    }
   },
   "outputs": [],
   "source": [
    "fixes = list(zip(list(region_df[region_df.surplus_code_count > 0].region_code.values),\n",
    "    list(region_df[region_df.surplus_code_count > 0].region.values)))\n",
    "\n",
    "for fix in fixes:\n",
    "    code = fix[0]\n",
    "    region = fix[1]\n",
    "    \n",
    "    raw_df.loc[raw_df[(raw_df.region_code == code) & (raw_df.region != region)].index, 'region'] = region"
   ]
  },
  {
   "cell_type": "markdown",
   "id": "ce84a0fd",
   "metadata": {},
   "source": [
    "Now we need to examine the region_codes whose value is over 21 and figure out what they mean."
   ]
  },
  {
   "cell_type": "code",
   "execution_count": 59,
   "id": "f9334b2d",
   "metadata": {
    "ExecuteTime": {
     "end_time": "2022-01-29T16:57:24.935784Z",
     "start_time": "2022-01-29T16:57:24.883922Z"
    }
   },
   "outputs": [
    {
     "data": {
      "text/html": [
       "<div>\n",
       "<style scoped>\n",
       "    .dataframe tbody tr th:only-of-type {\n",
       "        vertical-align: middle;\n",
       "    }\n",
       "\n",
       "    .dataframe tbody tr th {\n",
       "        vertical-align: top;\n",
       "    }\n",
       "\n",
       "    .dataframe thead th {\n",
       "        text-align: right;\n",
       "    }\n",
       "</style>\n",
       "<table border=\"1\" class=\"dataframe\">\n",
       "  <thead>\n",
       "    <tr style=\"text-align: right;\">\n",
       "      <th></th>\n",
       "      <th>id</th>\n",
       "      <th>amount_tsh</th>\n",
       "      <th>gps_height</th>\n",
       "      <th>longitude</th>\n",
       "      <th>latitude</th>\n",
       "      <th>num_private</th>\n",
       "      <th>region_code</th>\n",
       "      <th>district_code</th>\n",
       "      <th>population</th>\n",
       "      <th>construction_year</th>\n",
       "      <th>target</th>\n",
       "    </tr>\n",
       "  </thead>\n",
       "  <tbody>\n",
       "    <tr>\n",
       "      <th>count</th>\n",
       "      <td>3930.000000</td>\n",
       "      <td>3930.000000</td>\n",
       "      <td>3930.000000</td>\n",
       "      <td>3930.000000</td>\n",
       "      <td>3930.000000</td>\n",
       "      <td>3930.000000</td>\n",
       "      <td>3930.000000</td>\n",
       "      <td>3930.000000</td>\n",
       "      <td>3930.000000</td>\n",
       "      <td>3930.000000</td>\n",
       "      <td>3930.000000</td>\n",
       "    </tr>\n",
       "    <tr>\n",
       "      <th>mean</th>\n",
       "      <td>36925.385242</td>\n",
       "      <td>94.034606</td>\n",
       "      <td>294.397455</td>\n",
       "      <td>38.870664</td>\n",
       "      <td>-8.931247</td>\n",
       "      <td>0.158779</td>\n",
       "      <td>74.506616</td>\n",
       "      <td>34.425445</td>\n",
       "      <td>377.267684</td>\n",
       "      <td>1888.388295</td>\n",
       "      <td>0.877863</td>\n",
       "    </tr>\n",
       "    <tr>\n",
       "      <th>std</th>\n",
       "      <td>21289.776436</td>\n",
       "      <td>917.322899</td>\n",
       "      <td>397.755981</td>\n",
       "      <td>1.075679</td>\n",
       "      <td>2.118719</td>\n",
       "      <td>7.196633</td>\n",
       "      <td>19.924407</td>\n",
       "      <td>18.065889</td>\n",
       "      <td>776.105818</td>\n",
       "      <td>453.402238</td>\n",
       "      <td>0.966132</td>\n",
       "    </tr>\n",
       "    <tr>\n",
       "      <th>min</th>\n",
       "      <td>5.000000</td>\n",
       "      <td>0.000000</td>\n",
       "      <td>0.000000</td>\n",
       "      <td>35.293842</td>\n",
       "      <td>-11.366974</td>\n",
       "      <td>0.000000</td>\n",
       "      <td>24.000000</td>\n",
       "      <td>1.000000</td>\n",
       "      <td>0.000000</td>\n",
       "      <td>0.000000</td>\n",
       "      <td>0.000000</td>\n",
       "    </tr>\n",
       "    <tr>\n",
       "      <th>25%</th>\n",
       "      <td>18643.250000</td>\n",
       "      <td>0.000000</td>\n",
       "      <td>30.000000</td>\n",
       "      <td>38.802982</td>\n",
       "      <td>-10.535635</td>\n",
       "      <td>0.000000</td>\n",
       "      <td>60.000000</td>\n",
       "      <td>23.000000</td>\n",
       "      <td>1.000000</td>\n",
       "      <td>1983.000000</td>\n",
       "      <td>0.000000</td>\n",
       "    </tr>\n",
       "    <tr>\n",
       "      <th>50%</th>\n",
       "      <td>37073.000000</td>\n",
       "      <td>0.000000</td>\n",
       "      <td>182.000000</td>\n",
       "      <td>39.095900</td>\n",
       "      <td>-9.907659</td>\n",
       "      <td>0.000000</td>\n",
       "      <td>80.000000</td>\n",
       "      <td>33.000000</td>\n",
       "      <td>200.000000</td>\n",
       "      <td>2002.000000</td>\n",
       "      <td>0.000000</td>\n",
       "    </tr>\n",
       "    <tr>\n",
       "      <th>75%</th>\n",
       "      <td>55454.000000</td>\n",
       "      <td>25.000000</td>\n",
       "      <td>358.000000</td>\n",
       "      <td>39.384740</td>\n",
       "      <td>-7.774284</td>\n",
       "      <td>0.000000</td>\n",
       "      <td>90.000000</td>\n",
       "      <td>53.000000</td>\n",
       "      <td>400.000000</td>\n",
       "      <td>2008.000000</td>\n",
       "      <td>2.000000</td>\n",
       "    </tr>\n",
       "    <tr>\n",
       "      <th>max</th>\n",
       "      <td>74211.000000</td>\n",
       "      <td>30000.000000</td>\n",
       "      <td>1861.000000</td>\n",
       "      <td>40.345193</td>\n",
       "      <td>-3.157267</td>\n",
       "      <td>450.000000</td>\n",
       "      <td>99.000000</td>\n",
       "      <td>67.000000</td>\n",
       "      <td>8000.000000</td>\n",
       "      <td>2013.000000</td>\n",
       "      <td>2.000000</td>\n",
       "    </tr>\n",
       "  </tbody>\n",
       "</table>\n",
       "</div>"
      ],
      "text/plain": [
       "                 id    amount_tsh   gps_height    longitude     latitude  \\\n",
       "count   3930.000000   3930.000000  3930.000000  3930.000000  3930.000000   \n",
       "mean   36925.385242     94.034606   294.397455    38.870664    -8.931247   \n",
       "std    21289.776436    917.322899   397.755981     1.075679     2.118719   \n",
       "min        5.000000      0.000000     0.000000    35.293842   -11.366974   \n",
       "25%    18643.250000      0.000000    30.000000    38.802982   -10.535635   \n",
       "50%    37073.000000      0.000000   182.000000    39.095900    -9.907659   \n",
       "75%    55454.000000     25.000000   358.000000    39.384740    -7.774284   \n",
       "max    74211.000000  30000.000000  1861.000000    40.345193    -3.157267   \n",
       "\n",
       "       num_private  region_code  district_code   population  \\\n",
       "count  3930.000000  3930.000000    3930.000000  3930.000000   \n",
       "mean      0.158779    74.506616      34.425445   377.267684   \n",
       "std       7.196633    19.924407      18.065889   776.105818   \n",
       "min       0.000000    24.000000       1.000000     0.000000   \n",
       "25%       0.000000    60.000000      23.000000     1.000000   \n",
       "50%       0.000000    80.000000      33.000000   200.000000   \n",
       "75%       0.000000    90.000000      53.000000   400.000000   \n",
       "max     450.000000    99.000000      67.000000  8000.000000   \n",
       "\n",
       "       construction_year       target  \n",
       "count        3930.000000  3930.000000  \n",
       "mean         1888.388295     0.877863  \n",
       "std           453.402238     0.966132  \n",
       "min             0.000000     0.000000  \n",
       "25%          1983.000000     0.000000  \n",
       "50%          2002.000000     0.000000  \n",
       "75%          2008.000000     2.000000  \n",
       "max          2013.000000     2.000000  "
      ]
     },
     "execution_count": 59,
     "metadata": {},
     "output_type": "execute_result"
    }
   ],
   "source": [
    "num_df[num_df.region_code > 21].describe()"
   ]
  },
  {
   "cell_type": "markdown",
   "id": "2ac92133",
   "metadata": {},
   "source": [
    "There's too much variation in the lat/long to use these averages and assign region_codes. Lets look at them a bit closer to see what we can figure out."
   ]
  },
  {
   "cell_type": "code",
   "execution_count": 57,
   "id": "7db6cec9",
   "metadata": {
    "ExecuteTime": {
     "end_time": "2022-01-29T16:55:24.000094Z",
     "start_time": "2022-01-29T16:55:23.987128Z"
    }
   },
   "outputs": [
    {
     "data": {
      "text/plain": [
       "80    1238\n",
       "60    1025\n",
       "90     917\n",
       "99     423\n",
       "24     326\n",
       "40       1\n",
       "Name: region_code, dtype: int64"
      ]
     },
     "execution_count": 57,
     "metadata": {},
     "output_type": "execute_result"
    }
   ],
   "source": [
    "num_df[num_df.region_code > 21].region_code.value_counts()"
   ]
  },
  {
   "cell_type": "code",
   "execution_count": 58,
   "id": "90a79cd4",
   "metadata": {
    "ExecuteTime": {
     "end_time": "2022-01-29T16:55:42.412538Z",
     "start_time": "2022-01-29T16:55:42.401568Z"
    }
   },
   "outputs": [
    {
     "data": {
      "text/html": [
       "<div>\n",
       "<style scoped>\n",
       "    .dataframe tbody tr th:only-of-type {\n",
       "        vertical-align: middle;\n",
       "    }\n",
       "\n",
       "    .dataframe tbody tr th {\n",
       "        vertical-align: top;\n",
       "    }\n",
       "\n",
       "    .dataframe thead th {\n",
       "        text-align: right;\n",
       "    }\n",
       "</style>\n",
       "<table border=\"1\" class=\"dataframe\">\n",
       "  <thead>\n",
       "    <tr style=\"text-align: right;\">\n",
       "      <th></th>\n",
       "      <th>id</th>\n",
       "      <th>amount_tsh</th>\n",
       "      <th>gps_height</th>\n",
       "      <th>longitude</th>\n",
       "      <th>latitude</th>\n",
       "      <th>num_private</th>\n",
       "      <th>region_code</th>\n",
       "      <th>district_code</th>\n",
       "      <th>population</th>\n",
       "      <th>construction_year</th>\n",
       "      <th>target</th>\n",
       "    </tr>\n",
       "  </thead>\n",
       "  <tbody>\n",
       "    <tr>\n",
       "      <th>31798</th>\n",
       "      <td>6200</td>\n",
       "      <td>0.0</td>\n",
       "      <td>34.0</td>\n",
       "      <td>39.217993</td>\n",
       "      <td>-7.001266</td>\n",
       "      <td>0</td>\n",
       "      <td>40</td>\n",
       "      <td>43</td>\n",
       "      <td>60</td>\n",
       "      <td>2010</td>\n",
       "      <td>0</td>\n",
       "    </tr>\n",
       "  </tbody>\n",
       "</table>\n",
       "</div>"
      ],
      "text/plain": [
       "         id  amount_tsh  gps_height  longitude  latitude  num_private  \\\n",
       "31798  6200         0.0        34.0  39.217993 -7.001266            0   \n",
       "\n",
       "       region_code  district_code  population  construction_year  target  \n",
       "31798           40             43          60               2010       0  "
      ]
     },
     "execution_count": 58,
     "metadata": {},
     "output_type": "execute_result"
    }
   ],
   "source": [
    "num_df[num_df.region_code == 40]"
   ]
  },
  {
   "cell_type": "markdown",
   "id": "71c8928b",
   "metadata": {},
   "source": [
    "Using google maps for this single point for region_code '40', we can see that it's definitely in the Pwani region, though close to the Dar es Salaam region border. Without any other values for that region_code, we would assume to just modify the value for region code. One thought is that maybe the Pwani region_code is 4, and someone hit an extra 0 when entering data.\n",
    "\n",
    "We have modified our raw_df dataframe and assigned all region values based on the region_code value. Lets look at our data grouped by region value and see the average for the region_code. If the average is an integer, we know that all entries for that region is the same number as the entries for the region_code (that value being the mean of the region_code feature). If Pwani's region_code is 4, that is likely what happened with that entry."
   ]
  },
  {
   "cell_type": "code",
   "execution_count": 69,
   "id": "35e0ebe1",
   "metadata": {
    "ExecuteTime": {
     "end_time": "2022-01-29T17:06:23.295009Z",
     "start_time": "2022-01-29T17:06:23.278028Z"
    }
   },
   "outputs": [
    {
     "data": {
      "text/html": [
       "<div>\n",
       "<style scoped>\n",
       "    .dataframe tbody tr th:only-of-type {\n",
       "        vertical-align: middle;\n",
       "    }\n",
       "\n",
       "    .dataframe tbody tr th {\n",
       "        vertical-align: top;\n",
       "    }\n",
       "\n",
       "    .dataframe thead th {\n",
       "        text-align: right;\n",
       "    }\n",
       "</style>\n",
       "<table border=\"1\" class=\"dataframe\">\n",
       "  <thead>\n",
       "    <tr style=\"text-align: right;\">\n",
       "      <th></th>\n",
       "      <th>region_code</th>\n",
       "    </tr>\n",
       "    <tr>\n",
       "      <th>region</th>\n",
       "      <th></th>\n",
       "    </tr>\n",
       "  </thead>\n",
       "  <tbody>\n",
       "    <tr>\n",
       "      <th>Dodoma</th>\n",
       "      <td>1.000000</td>\n",
       "    </tr>\n",
       "    <tr>\n",
       "      <th>Kilimanjaro</th>\n",
       "      <td>3.000000</td>\n",
       "    </tr>\n",
       "    <tr>\n",
       "      <th>Tanga</th>\n",
       "      <td>4.000000</td>\n",
       "    </tr>\n",
       "    <tr>\n",
       "      <th>Arusha</th>\n",
       "      <td>4.140896</td>\n",
       "    </tr>\n",
       "    <tr>\n",
       "      <th>Morogoro</th>\n",
       "      <td>5.000000</td>\n",
       "    </tr>\n",
       "    <tr>\n",
       "      <th>Dar es Salaam</th>\n",
       "      <td>7.000000</td>\n",
       "    </tr>\n",
       "    <tr>\n",
       "      <th>Ruvuma</th>\n",
       "      <td>10.000000</td>\n",
       "    </tr>\n",
       "    <tr>\n",
       "      <th>Iringa</th>\n",
       "      <td>11.000000</td>\n",
       "    </tr>\n",
       "    <tr>\n",
       "      <th>Mbeya</th>\n",
       "      <td>12.000000</td>\n",
       "    </tr>\n",
       "    <tr>\n",
       "      <th>Singida</th>\n",
       "      <td>13.000000</td>\n",
       "    </tr>\n",
       "    <tr>\n",
       "      <th>Tabora</th>\n",
       "      <td>14.000000</td>\n",
       "    </tr>\n",
       "    <tr>\n",
       "      <th>Rukwa</th>\n",
       "      <td>15.000000</td>\n",
       "    </tr>\n",
       "    <tr>\n",
       "      <th>Kigoma</th>\n",
       "      <td>16.000000</td>\n",
       "    </tr>\n",
       "    <tr>\n",
       "      <th>Shinyanga</th>\n",
       "      <td>17.000000</td>\n",
       "    </tr>\n",
       "    <tr>\n",
       "      <th>Kagera</th>\n",
       "      <td>18.000000</td>\n",
       "    </tr>\n",
       "    <tr>\n",
       "      <th>Mwanza</th>\n",
       "      <td>19.000000</td>\n",
       "    </tr>\n",
       "    <tr>\n",
       "      <th>Mara</th>\n",
       "      <td>20.000000</td>\n",
       "    </tr>\n",
       "    <tr>\n",
       "      <th>Manyara</th>\n",
       "      <td>21.000000</td>\n",
       "    </tr>\n",
       "    <tr>\n",
       "      <th>Pwani</th>\n",
       "      <td>27.018596</td>\n",
       "    </tr>\n",
       "    <tr>\n",
       "      <th>Lindi</th>\n",
       "      <td>65.955787</td>\n",
       "    </tr>\n",
       "    <tr>\n",
       "      <th>Mtwara</th>\n",
       "      <td>73.940462</td>\n",
       "    </tr>\n",
       "  </tbody>\n",
       "</table>\n",
       "</div>"
      ],
      "text/plain": [
       "               region_code\n",
       "region                    \n",
       "Dodoma            1.000000\n",
       "Kilimanjaro       3.000000\n",
       "Tanga             4.000000\n",
       "Arusha            4.140896\n",
       "Morogoro          5.000000\n",
       "Dar es Salaam     7.000000\n",
       "Ruvuma           10.000000\n",
       "Iringa           11.000000\n",
       "Mbeya            12.000000\n",
       "Singida          13.000000\n",
       "Tabora           14.000000\n",
       "Rukwa            15.000000\n",
       "Kigoma           16.000000\n",
       "Shinyanga        17.000000\n",
       "Kagera           18.000000\n",
       "Mwanza           19.000000\n",
       "Mara             20.000000\n",
       "Manyara          21.000000\n",
       "Pwani            27.018596\n",
       "Lindi            65.955787\n",
       "Mtwara           73.940462"
      ]
     },
     "execution_count": 69,
     "metadata": {},
     "output_type": "execute_result"
    }
   ],
   "source": [
    "raw_df.groupby('region')[['region_code']].mean().sort_values(by='region_code')"
   ]
  },
  {
   "cell_type": "markdown",
   "id": "a2b89a13",
   "metadata": {},
   "source": [
    "We can see that the Pwani region does not have an integer region_code mean, so there are other region_codes represented in the region."
   ]
  },
  {
   "cell_type": "code",
   "execution_count": 64,
   "id": "26bbc0cf",
   "metadata": {
    "ExecuteTime": {
     "end_time": "2022-01-29T17:01:38.874375Z",
     "start_time": "2022-01-29T17:01:38.850469Z"
    }
   },
   "outputs": [
    {
     "data": {
      "text/plain": [
       "region_code\n",
       "6              1609\n",
       "60             1025\n",
       "40                1\n",
       "dtype: int64"
      ]
     },
     "execution_count": 64,
     "metadata": {},
     "output_type": "execute_result"
    }
   ],
   "source": [
    "raw_df[raw_df.region == 'Pwani'][['region_code']].value_counts()"
   ]
  },
  {
   "cell_type": "markdown",
   "id": "fccc106e",
   "metadata": {},
   "source": [
    "All of the region_code '60' entries are marked with the region Pwani, in addition to the region_code '40'. Lets look at the region_code 60 and determine if both of them should change to region code 6 for Pwani."
   ]
  },
  {
   "cell_type": "code",
   "execution_count": 72,
   "id": "9645190e",
   "metadata": {
    "ExecuteTime": {
     "end_time": "2022-01-29T17:10:47.193626Z",
     "start_time": "2022-01-29T17:10:47.160736Z"
    }
   },
   "outputs": [
    {
     "data": {
      "text/html": [
       "<div>\n",
       "<style scoped>\n",
       "    .dataframe tbody tr th:only-of-type {\n",
       "        vertical-align: middle;\n",
       "    }\n",
       "\n",
       "    .dataframe tbody tr th {\n",
       "        vertical-align: top;\n",
       "    }\n",
       "\n",
       "    .dataframe thead th {\n",
       "        text-align: right;\n",
       "    }\n",
       "</style>\n",
       "<table border=\"1\" class=\"dataframe\">\n",
       "  <thead>\n",
       "    <tr style=\"text-align: right;\">\n",
       "      <th></th>\n",
       "      <th>longitude</th>\n",
       "      <th>latitude</th>\n",
       "    </tr>\n",
       "  </thead>\n",
       "  <tbody>\n",
       "    <tr>\n",
       "      <th>count</th>\n",
       "      <td>1025.000000</td>\n",
       "      <td>1025.000000</td>\n",
       "    </tr>\n",
       "    <tr>\n",
       "      <th>mean</th>\n",
       "      <td>39.073593</td>\n",
       "      <td>-7.529581</td>\n",
       "    </tr>\n",
       "    <tr>\n",
       "      <th>std</th>\n",
       "      <td>0.334331</td>\n",
       "      <td>0.392400</td>\n",
       "    </tr>\n",
       "    <tr>\n",
       "      <th>min</th>\n",
       "      <td>38.236495</td>\n",
       "      <td>-8.477555</td>\n",
       "    </tr>\n",
       "    <tr>\n",
       "      <th>25%</th>\n",
       "      <td>38.857798</td>\n",
       "      <td>-7.883182</td>\n",
       "    </tr>\n",
       "    <tr>\n",
       "      <th>50%</th>\n",
       "      <td>39.067564</td>\n",
       "      <td>-7.622740</td>\n",
       "    </tr>\n",
       "    <tr>\n",
       "      <th>75%</th>\n",
       "      <td>39.281285</td>\n",
       "      <td>-7.112273</td>\n",
       "    </tr>\n",
       "    <tr>\n",
       "      <th>max</th>\n",
       "      <td>39.873861</td>\n",
       "      <td>-6.951109</td>\n",
       "    </tr>\n",
       "  </tbody>\n",
       "</table>\n",
       "</div>"
      ],
      "text/plain": [
       "         longitude     latitude\n",
       "count  1025.000000  1025.000000\n",
       "mean     39.073593    -7.529581\n",
       "std       0.334331     0.392400\n",
       "min      38.236495    -8.477555\n",
       "25%      38.857798    -7.883182\n",
       "50%      39.067564    -7.622740\n",
       "75%      39.281285    -7.112273\n",
       "max      39.873861    -6.951109"
      ]
     },
     "execution_count": 72,
     "metadata": {},
     "output_type": "execute_result"
    }
   ],
   "source": [
    "raw_df[raw_df.region_code == 60][['longitude', 'latitude']].describe()"
   ]
  },
  {
   "cell_type": "markdown",
   "id": "a430ab8a",
   "metadata": {},
   "source": [
    "There is very little variation in the lat/long for the entries with region_code 60. It's also maybe the case that our original suspicion of the code being entered with a trailing 0 may be on the nose after all, because Pwani's region_code is 6. When we consult google maps, it's most certainly the case that, even with the variation indicated by the standard deviation, region_codes 40 and 60 both actually should be 6."
   ]
  },
  {
   "cell_type": "code",
   "execution_count": 74,
   "id": "282ec3fd",
   "metadata": {
    "ExecuteTime": {
     "end_time": "2022-01-29T17:17:13.448395Z",
     "start_time": "2022-01-29T17:17:13.432411Z"
    }
   },
   "outputs": [],
   "source": [
    "num_df.loc[raw_df[raw_df.region_code.isin([40, 60])].index, 'region_code'] = 6"
   ]
  },
  {
   "cell_type": "markdown",
   "id": "a30fc818",
   "metadata": {},
   "source": [
    "Next we'll check out region code 24."
   ]
  },
  {
   "cell_type": "code",
   "execution_count": 80,
   "id": "41888565",
   "metadata": {
    "ExecuteTime": {
     "end_time": "2022-01-29T17:19:11.568996Z",
     "start_time": "2022-01-29T17:19:11.549078Z"
    }
   },
   "outputs": [
    {
     "data": {
      "text/plain": [
       "Arusha    326\n",
       "Name: region, dtype: int64"
      ]
     },
     "execution_count": 80,
     "metadata": {},
     "output_type": "execute_result"
    }
   ],
   "source": [
    "raw_df[raw_df.region_code == 24].region.value_counts()"
   ]
  },
  {
   "cell_type": "code",
   "execution_count": 81,
   "id": "4cd428e6",
   "metadata": {
    "ExecuteTime": {
     "end_time": "2022-01-29T17:19:46.221183Z",
     "start_time": "2022-01-29T17:19:46.196250Z"
    }
   },
   "outputs": [
    {
     "data": {
      "text/plain": [
       "2     3024\n",
       "24     326\n",
       "Name: region_code, dtype: int64"
      ]
     },
     "execution_count": 81,
     "metadata": {},
     "output_type": "execute_result"
    }
   ],
   "source": [
    "raw_df[raw_df.region == 'Arusha'].region_code.value_counts()"
   ]
  },
  {
   "cell_type": "markdown",
   "id": "3fb3e69b",
   "metadata": {},
   "source": [
    "Unclear why, but maybe this is actually a case where a trailing digit was input incorrectly. Lets use the same approach and look at the average lat/long for those 326 entries in region_code 24."
   ]
  },
  {
   "cell_type": "code",
   "execution_count": 82,
   "id": "64ba683e",
   "metadata": {
    "ExecuteTime": {
     "end_time": "2022-01-29T17:20:49.003602Z",
     "start_time": "2022-01-29T17:20:48.985623Z"
    }
   },
   "outputs": [
    {
     "data": {
      "text/html": [
       "<div>\n",
       "<style scoped>\n",
       "    .dataframe tbody tr th:only-of-type {\n",
       "        vertical-align: middle;\n",
       "    }\n",
       "\n",
       "    .dataframe tbody tr th {\n",
       "        vertical-align: top;\n",
       "    }\n",
       "\n",
       "    .dataframe thead th {\n",
       "        text-align: right;\n",
       "    }\n",
       "</style>\n",
       "<table border=\"1\" class=\"dataframe\">\n",
       "  <thead>\n",
       "    <tr style=\"text-align: right;\">\n",
       "      <th></th>\n",
       "      <th>longitude</th>\n",
       "      <th>latitude</th>\n",
       "    </tr>\n",
       "  </thead>\n",
       "  <tbody>\n",
       "    <tr>\n",
       "      <th>count</th>\n",
       "      <td>326.000000</td>\n",
       "      <td>326.000000</td>\n",
       "    </tr>\n",
       "    <tr>\n",
       "      <th>mean</th>\n",
       "      <td>35.661985</td>\n",
       "      <td>-3.380886</td>\n",
       "    </tr>\n",
       "    <tr>\n",
       "      <th>std</th>\n",
       "      <td>0.161927</td>\n",
       "      <td>0.115230</td>\n",
       "    </tr>\n",
       "    <tr>\n",
       "      <th>min</th>\n",
       "      <td>35.293842</td>\n",
       "      <td>-3.669964</td>\n",
       "    </tr>\n",
       "    <tr>\n",
       "      <th>25%</th>\n",
       "      <td>35.605747</td>\n",
       "      <td>-3.495621</td>\n",
       "    </tr>\n",
       "    <tr>\n",
       "      <th>50%</th>\n",
       "      <td>35.671781</td>\n",
       "      <td>-3.355989</td>\n",
       "    </tr>\n",
       "    <tr>\n",
       "      <th>75%</th>\n",
       "      <td>35.790640</td>\n",
       "      <td>-3.285670</td>\n",
       "    </tr>\n",
       "    <tr>\n",
       "      <th>max</th>\n",
       "      <td>35.924154</td>\n",
       "      <td>-3.157267</td>\n",
       "    </tr>\n",
       "  </tbody>\n",
       "</table>\n",
       "</div>"
      ],
      "text/plain": [
       "        longitude    latitude\n",
       "count  326.000000  326.000000\n",
       "mean    35.661985   -3.380886\n",
       "std      0.161927    0.115230\n",
       "min     35.293842   -3.669964\n",
       "25%     35.605747   -3.495621\n",
       "50%     35.671781   -3.355989\n",
       "75%     35.790640   -3.285670\n",
       "max     35.924154   -3.157267"
      ]
     },
     "execution_count": 82,
     "metadata": {},
     "output_type": "execute_result"
    }
   ],
   "source": [
    "raw_df[raw_df.region_code == 24][['longitude', 'latitude']].describe()"
   ]
  },
  {
   "cell_type": "markdown",
   "id": "eb5ce635",
   "metadata": {},
   "source": [
    "Those values are solidly in the Arusha region. We will also reassign region_codes from 24 to 2."
   ]
  },
  {
   "cell_type": "code",
   "execution_count": 83,
   "id": "382f6b98",
   "metadata": {
    "ExecuteTime": {
     "end_time": "2022-01-29T17:22:22.329317Z",
     "start_time": "2022-01-29T17:22:22.316351Z"
    }
   },
   "outputs": [],
   "source": [
    "num_df.loc[raw_df[raw_df.region_code == 24].index, 'region_code'] = 2"
   ]
  },
  {
   "cell_type": "markdown",
   "id": "03ecf36f",
   "metadata": {},
   "source": [
    "Next we will check out region_code 99"
   ]
  },
  {
   "cell_type": "code",
   "execution_count": 84,
   "id": "2a86221f",
   "metadata": {
    "ExecuteTime": {
     "end_time": "2022-01-29T17:23:17.955147Z",
     "start_time": "2022-01-29T17:23:17.934202Z"
    }
   },
   "outputs": [
    {
     "data": {
      "text/plain": [
       "Mtwara    423\n",
       "Name: region, dtype: int64"
      ]
     },
     "execution_count": 84,
     "metadata": {},
     "output_type": "execute_result"
    }
   ],
   "source": [
    "raw_df[raw_df.region_code == 99].region.value_counts()"
   ]
  },
  {
   "cell_type": "code",
   "execution_count": 85,
   "id": "a696d99a",
   "metadata": {
    "ExecuteTime": {
     "end_time": "2022-01-29T17:23:36.528787Z",
     "start_time": "2022-01-29T17:23:36.501858Z"
    }
   },
   "outputs": [
    {
     "data": {
      "text/plain": [
       "90    917\n",
       "99    423\n",
       "9     390\n",
       "Name: region_code, dtype: int64"
      ]
     },
     "execution_count": 85,
     "metadata": {},
     "output_type": "execute_result"
    }
   ],
   "source": [
    "raw_df[raw_df.region == 'Mtwara'].region_code.value_counts()"
   ]
  },
  {
   "cell_type": "code",
   "execution_count": 87,
   "id": "0ff0fa66",
   "metadata": {
    "ExecuteTime": {
     "end_time": "2022-01-29T17:27:59.357620Z",
     "start_time": "2022-01-29T17:27:59.336649Z"
    }
   },
   "outputs": [
    {
     "data": {
      "text/html": [
       "<div>\n",
       "<style scoped>\n",
       "    .dataframe tbody tr th:only-of-type {\n",
       "        vertical-align: middle;\n",
       "    }\n",
       "\n",
       "    .dataframe tbody tr th {\n",
       "        vertical-align: top;\n",
       "    }\n",
       "\n",
       "    .dataframe thead th {\n",
       "        text-align: right;\n",
       "    }\n",
       "</style>\n",
       "<table border=\"1\" class=\"dataframe\">\n",
       "  <thead>\n",
       "    <tr style=\"text-align: right;\">\n",
       "      <th></th>\n",
       "      <th>longitude</th>\n",
       "      <th>latitude</th>\n",
       "    </tr>\n",
       "  </thead>\n",
       "  <tbody>\n",
       "    <tr>\n",
       "      <th>count</th>\n",
       "      <td>1340.000000</td>\n",
       "      <td>1340.000000</td>\n",
       "    </tr>\n",
       "    <tr>\n",
       "      <th>mean</th>\n",
       "      <td>39.288805</td>\n",
       "      <td>-10.695680</td>\n",
       "    </tr>\n",
       "    <tr>\n",
       "      <th>std</th>\n",
       "      <td>0.562727</td>\n",
       "      <td>0.242950</td>\n",
       "    </tr>\n",
       "    <tr>\n",
       "      <th>min</th>\n",
       "      <td>38.013947</td>\n",
       "      <td>-11.366974</td>\n",
       "    </tr>\n",
       "    <tr>\n",
       "      <th>25%</th>\n",
       "      <td>38.932811</td>\n",
       "      <td>-10.870974</td>\n",
       "    </tr>\n",
       "    <tr>\n",
       "      <th>50%</th>\n",
       "      <td>39.168698</td>\n",
       "      <td>-10.695511</td>\n",
       "    </tr>\n",
       "    <tr>\n",
       "      <th>75%</th>\n",
       "      <td>39.826127</td>\n",
       "      <td>-10.518309</td>\n",
       "    </tr>\n",
       "    <tr>\n",
       "      <th>max</th>\n",
       "      <td>40.345193</td>\n",
       "      <td>-10.128340</td>\n",
       "    </tr>\n",
       "  </tbody>\n",
       "</table>\n",
       "</div>"
      ],
      "text/plain": [
       "         longitude     latitude\n",
       "count  1340.000000  1340.000000\n",
       "mean     39.288805   -10.695680\n",
       "std       0.562727     0.242950\n",
       "min      38.013947   -11.366974\n",
       "25%      38.932811   -10.870974\n",
       "50%      39.168698   -10.695511\n",
       "75%      39.826127   -10.518309\n",
       "max      40.345193   -10.128340"
      ]
     },
     "execution_count": 87,
     "metadata": {},
     "output_type": "execute_result"
    }
   ],
   "source": [
    "raw_df[raw_df.region_code.isin([90,99])][['longitude', 'latitude']].describe()"
   ]
  },
  {
   "cell_type": "markdown",
   "id": "e8199936",
   "metadata": {},
   "source": [
    "We got lucky here, the average lat/long for all the entries in region_codes 90 and 99 are all solidly in the Mtwara region. So we can set them all to 9."
   ]
  },
  {
   "cell_type": "code",
   "execution_count": 88,
   "id": "b146038b",
   "metadata": {
    "ExecuteTime": {
     "end_time": "2022-01-29T17:28:56.264626Z",
     "start_time": "2022-01-29T17:28:56.254680Z"
    }
   },
   "outputs": [],
   "source": [
    "num_df.loc[raw_df[raw_df.region_code.isin([90, 99])].index, 'region_code'] = 9"
   ]
  },
  {
   "cell_type": "markdown",
   "id": "7546da1b",
   "metadata": {},
   "source": [
    "Finally, the last one is region_code 80"
   ]
  },
  {
   "cell_type": "code",
   "execution_count": 89,
   "id": "c8ac6d68",
   "metadata": {
    "ExecuteTime": {
     "end_time": "2022-01-29T17:29:46.853756Z",
     "start_time": "2022-01-29T17:29:46.834779Z"
    }
   },
   "outputs": [
    {
     "data": {
      "text/plain": [
       "Lindi    1238\n",
       "Name: region, dtype: int64"
      ]
     },
     "execution_count": 89,
     "metadata": {},
     "output_type": "execute_result"
    }
   ],
   "source": [
    "raw_df[raw_df.region_code == 80].region.value_counts()"
   ]
  },
  {
   "cell_type": "code",
   "execution_count": 90,
   "id": "699f2bbd",
   "metadata": {
    "ExecuteTime": {
     "end_time": "2022-01-29T17:30:00.385492Z",
     "start_time": "2022-01-29T17:30:00.365518Z"
    }
   },
   "outputs": [
    {
     "data": {
      "text/plain": [
       "80    1238\n",
       "8      300\n",
       "Name: region_code, dtype: int64"
      ]
     },
     "execution_count": 90,
     "metadata": {},
     "output_type": "execute_result"
    }
   ],
   "source": [
    "raw_df[raw_df.region == 'Lindi'].region_code.value_counts()"
   ]
  },
  {
   "cell_type": "code",
   "execution_count": 92,
   "id": "5d8f8322",
   "metadata": {
    "ExecuteTime": {
     "end_time": "2022-01-29T17:30:28.307205Z",
     "start_time": "2022-01-29T17:30:28.277315Z"
    }
   },
   "outputs": [
    {
     "data": {
      "text/html": [
       "<div>\n",
       "<style scoped>\n",
       "    .dataframe tbody tr th:only-of-type {\n",
       "        vertical-align: middle;\n",
       "    }\n",
       "\n",
       "    .dataframe tbody tr th {\n",
       "        vertical-align: top;\n",
       "    }\n",
       "\n",
       "    .dataframe thead th {\n",
       "        text-align: right;\n",
       "    }\n",
       "</style>\n",
       "<table border=\"1\" class=\"dataframe\">\n",
       "  <thead>\n",
       "    <tr style=\"text-align: right;\">\n",
       "      <th></th>\n",
       "      <th>longitude</th>\n",
       "      <th>latitude</th>\n",
       "    </tr>\n",
       "  </thead>\n",
       "  <tbody>\n",
       "    <tr>\n",
       "      <th>count</th>\n",
       "      <td>1238.000000</td>\n",
       "      <td>1238.000000</td>\n",
       "    </tr>\n",
       "    <tr>\n",
       "      <th>mean</th>\n",
       "      <td>39.094711</td>\n",
       "      <td>-9.645071</td>\n",
       "    </tr>\n",
       "    <tr>\n",
       "      <th>std</th>\n",
       "      <td>0.495787</td>\n",
       "      <td>0.656522</td>\n",
       "    </tr>\n",
       "    <tr>\n",
       "      <th>min</th>\n",
       "      <td>37.404880</td>\n",
       "      <td>-10.565007</td>\n",
       "    </tr>\n",
       "    <tr>\n",
       "      <th>25%</th>\n",
       "      <td>38.930204</td>\n",
       "      <td>-10.148174</td>\n",
       "    </tr>\n",
       "    <tr>\n",
       "      <th>50%</th>\n",
       "      <td>39.172754</td>\n",
       "      <td>-9.910641</td>\n",
       "    </tr>\n",
       "    <tr>\n",
       "      <th>75%</th>\n",
       "      <td>39.462684</td>\n",
       "      <td>-9.164143</td>\n",
       "    </tr>\n",
       "    <tr>\n",
       "      <th>max</th>\n",
       "      <td>39.963363</td>\n",
       "      <td>-8.284239</td>\n",
       "    </tr>\n",
       "  </tbody>\n",
       "</table>\n",
       "</div>"
      ],
      "text/plain": [
       "         longitude     latitude\n",
       "count  1238.000000  1238.000000\n",
       "mean     39.094711    -9.645071\n",
       "std       0.495787     0.656522\n",
       "min      37.404880   -10.565007\n",
       "25%      38.930204   -10.148174\n",
       "50%      39.172754    -9.910641\n",
       "75%      39.462684    -9.164143\n",
       "max      39.963363    -8.284239"
      ]
     },
     "execution_count": 92,
     "metadata": {},
     "output_type": "execute_result"
    }
   ],
   "source": [
    "raw_df[raw_df.region_code == 80][['longitude', 'latitude']].describe()"
   ]
  },
  {
   "cell_type": "markdown",
   "id": "34b0508a",
   "metadata": {},
   "source": [
    "The region_code 80 entries are all solidly in the Lindi region, so we will set them to 8."
   ]
  },
  {
   "cell_type": "code",
   "execution_count": 93,
   "id": "6013653a",
   "metadata": {
    "ExecuteTime": {
     "end_time": "2022-01-29T17:31:37.023157Z",
     "start_time": "2022-01-29T17:31:37.014182Z"
    }
   },
   "outputs": [],
   "source": [
    "num_df.loc[raw_df[raw_df.region_code == 80].index, 'region_code'] = 8"
   ]
  },
  {
   "cell_type": "code",
   "execution_count": 95,
   "id": "7ceddc45",
   "metadata": {
    "ExecuteTime": {
     "end_time": "2022-01-29T17:31:54.147807Z",
     "start_time": "2022-01-29T17:31:54.138832Z"
    }
   },
   "outputs": [
    {
     "data": {
      "text/plain": [
       "1     2201\n",
       "2     3350\n",
       "3     4379\n",
       "4     2513\n",
       "5     4040\n",
       "6     2635\n",
       "7      805\n",
       "8     1538\n",
       "9     1730\n",
       "10    2640\n",
       "11    5300\n",
       "12    4639\n",
       "13    2093\n",
       "14    1979\n",
       "15    1808\n",
       "16    2816\n",
       "17    5011\n",
       "18    3324\n",
       "19    3047\n",
       "20    1969\n",
       "21    1583\n",
       "Name: region_code, dtype: int64"
      ]
     },
     "execution_count": 95,
     "metadata": {},
     "output_type": "execute_result"
    }
   ],
   "source": [
    "num_df.region_code.value_counts().sort_index()"
   ]
  },
  {
   "cell_type": "markdown",
   "id": "02f9f6ec",
   "metadata": {},
   "source": [
    "We've got our 'region_code' feature all sorted out now and the values will match up uniquely with those in the 'region' feature."
   ]
  },
  {
   "cell_type": "markdown",
   "id": "01fb959b",
   "metadata": {},
   "source": [
    "## district_code"
   ]
  },
  {
   "cell_type": "markdown",
   "id": "ccd23bbd",
   "metadata": {},
   "source": [
    "We have established that the regions in our dataset match up with the region_code; there is no 'district' dataset to match with 'district_code'. When researching Tanzanian regions we discovered information on quantity of districts  in each region, so we believe that is how our data relates: each region would have multiple districts in it. Lets look at value counts for district_code."
   ]
  },
  {
   "cell_type": "code",
   "execution_count": 104,
   "id": "840c2f47",
   "metadata": {
    "ExecuteTime": {
     "end_time": "2022-01-29T20:15:50.059213Z",
     "start_time": "2022-01-29T20:15:50.038276Z"
    }
   },
   "outputs": [
    {
     "data": {
      "text/plain": [
       "0        23\n",
       "1     12203\n",
       "2     11173\n",
       "3      9998\n",
       "4      8999\n",
       "5      4356\n",
       "6      4074\n",
       "7      3343\n",
       "8      1043\n",
       "13      391\n",
       "23      293\n",
       "30      995\n",
       "33      874\n",
       "43      505\n",
       "53      745\n",
       "60       63\n",
       "62      109\n",
       "63      195\n",
       "67        6\n",
       "80       12\n",
       "Name: district_code, dtype: int64"
      ]
     },
     "execution_count": 104,
     "metadata": {},
     "output_type": "execute_result"
    }
   ],
   "source": [
    "num_df.district_code.value_counts().sort_index()"
   ]
  },
  {
   "cell_type": "markdown",
   "id": "93ba6bc2",
   "metadata": {},
   "source": [
    "Some initial observations:\n",
    "- It seems odd to have districts with a value of 0.\n",
    "- [Research shows](https://en.wikipedia.org/wiki/Regions_of_Tanzania) that there is one region with 10 districts (Tanga), but we don't have that value. \n",
    "- 10 is is also the largest value we should have for the feature, as that is the maximum number of districts for regions.\n",
    "\n",
    "_____\n",
    "If it is the case that district_code is representative of the actual district within the region, then each region should have at minimum a district_code of 1. The link above will also show that regions at a minimum have 2 districts (the average is about 5.5)."
   ]
  },
  {
   "cell_type": "code",
   "execution_count": 112,
   "id": "1400a1a0",
   "metadata": {
    "ExecuteTime": {
     "end_time": "2022-01-29T20:38:54.487342Z",
     "start_time": "2022-01-29T20:38:54.424510Z"
    }
   },
   "outputs": [
    {
     "data": {
      "text/html": [
       "<div>\n",
       "<style scoped>\n",
       "    .dataframe tbody tr th:only-of-type {\n",
       "        vertical-align: middle;\n",
       "    }\n",
       "\n",
       "    .dataframe tbody tr th {\n",
       "        vertical-align: top;\n",
       "    }\n",
       "\n",
       "    .dataframe thead th {\n",
       "        text-align: right;\n",
       "    }\n",
       "</style>\n",
       "<table border=\"1\" class=\"dataframe\">\n",
       "  <thead>\n",
       "    <tr style=\"text-align: right;\">\n",
       "      <th></th>\n",
       "      <th>id</th>\n",
       "      <th>amount_tsh</th>\n",
       "      <th>gps_height</th>\n",
       "      <th>longitude</th>\n",
       "      <th>latitude</th>\n",
       "      <th>region_code</th>\n",
       "      <th>district_code</th>\n",
       "      <th>population</th>\n",
       "      <th>construction_year</th>\n",
       "      <th>target</th>\n",
       "    </tr>\n",
       "  </thead>\n",
       "  <tbody>\n",
       "    <tr>\n",
       "      <th>count</th>\n",
       "      <td>59400.000000</td>\n",
       "      <td>59400.000000</td>\n",
       "      <td>59400.000000</td>\n",
       "      <td>57617.000000</td>\n",
       "      <td>57617.000000</td>\n",
       "      <td>59400.000000</td>\n",
       "      <td>59400.000000</td>\n",
       "      <td>59400.000000</td>\n",
       "      <td>59400.000000</td>\n",
       "      <td>59400.000000</td>\n",
       "    </tr>\n",
       "    <tr>\n",
       "      <th>mean</th>\n",
       "      <td>37115.131768</td>\n",
       "      <td>317.650385</td>\n",
       "      <td>668.800774</td>\n",
       "      <td>35.148683</td>\n",
       "      <td>-5.884251</td>\n",
       "      <td>10.851902</td>\n",
       "      <td>5.629747</td>\n",
       "      <td>179.909983</td>\n",
       "      <td>1300.652475</td>\n",
       "      <td>1.158838</td>\n",
       "    </tr>\n",
       "    <tr>\n",
       "      <th>std</th>\n",
       "      <td>21453.128371</td>\n",
       "      <td>2997.574558</td>\n",
       "      <td>692.620533</td>\n",
       "      <td>2.607149</td>\n",
       "      <td>2.809803</td>\n",
       "      <td>5.984537</td>\n",
       "      <td>9.633649</td>\n",
       "      <td>471.482176</td>\n",
       "      <td>951.620547</td>\n",
       "      <td>0.949794</td>\n",
       "    </tr>\n",
       "    <tr>\n",
       "      <th>min</th>\n",
       "      <td>0.000000</td>\n",
       "      <td>0.000000</td>\n",
       "      <td>0.000000</td>\n",
       "      <td>29.607122</td>\n",
       "      <td>-11.649440</td>\n",
       "      <td>1.000000</td>\n",
       "      <td>0.000000</td>\n",
       "      <td>0.000000</td>\n",
       "      <td>0.000000</td>\n",
       "      <td>0.000000</td>\n",
       "    </tr>\n",
       "    <tr>\n",
       "      <th>25%</th>\n",
       "      <td>18519.750000</td>\n",
       "      <td>0.000000</td>\n",
       "      <td>0.000000</td>\n",
       "      <td>33.283788</td>\n",
       "      <td>-8.642598</td>\n",
       "      <td>5.000000</td>\n",
       "      <td>2.000000</td>\n",
       "      <td>0.000000</td>\n",
       "      <td>0.000000</td>\n",
       "      <td>0.000000</td>\n",
       "    </tr>\n",
       "    <tr>\n",
       "      <th>50%</th>\n",
       "      <td>37061.500000</td>\n",
       "      <td>0.000000</td>\n",
       "      <td>369.000000</td>\n",
       "      <td>35.004338</td>\n",
       "      <td>-5.169334</td>\n",
       "      <td>11.000000</td>\n",
       "      <td>3.000000</td>\n",
       "      <td>25.000000</td>\n",
       "      <td>1986.000000</td>\n",
       "      <td>2.000000</td>\n",
       "    </tr>\n",
       "    <tr>\n",
       "      <th>75%</th>\n",
       "      <td>55656.500000</td>\n",
       "      <td>20.000000</td>\n",
       "      <td>1319.250000</td>\n",
       "      <td>37.233010</td>\n",
       "      <td>-3.372733</td>\n",
       "      <td>17.000000</td>\n",
       "      <td>5.000000</td>\n",
       "      <td>215.000000</td>\n",
       "      <td>2004.000000</td>\n",
       "      <td>2.000000</td>\n",
       "    </tr>\n",
       "    <tr>\n",
       "      <th>max</th>\n",
       "      <td>74247.000000</td>\n",
       "      <td>350000.000000</td>\n",
       "      <td>2770.000000</td>\n",
       "      <td>40.345193</td>\n",
       "      <td>-0.998464</td>\n",
       "      <td>21.000000</td>\n",
       "      <td>80.000000</td>\n",
       "      <td>30500.000000</td>\n",
       "      <td>2013.000000</td>\n",
       "      <td>2.000000</td>\n",
       "    </tr>\n",
       "  </tbody>\n",
       "</table>\n",
       "</div>"
      ],
      "text/plain": [
       "                 id     amount_tsh    gps_height     longitude      latitude  \\\n",
       "count  59400.000000   59400.000000  59400.000000  57617.000000  57617.000000   \n",
       "mean   37115.131768     317.650385    668.800774     35.148683     -5.884251   \n",
       "std    21453.128371    2997.574558    692.620533      2.607149      2.809803   \n",
       "min        0.000000       0.000000      0.000000     29.607122    -11.649440   \n",
       "25%    18519.750000       0.000000      0.000000     33.283788     -8.642598   \n",
       "50%    37061.500000       0.000000    369.000000     35.004338     -5.169334   \n",
       "75%    55656.500000      20.000000   1319.250000     37.233010     -3.372733   \n",
       "max    74247.000000  350000.000000   2770.000000     40.345193     -0.998464   \n",
       "\n",
       "        region_code  district_code    population  construction_year  \\\n",
       "count  59400.000000   59400.000000  59400.000000       59400.000000   \n",
       "mean      10.851902       5.629747    179.909983        1300.652475   \n",
       "std        5.984537       9.633649    471.482176         951.620547   \n",
       "min        1.000000       0.000000      0.000000           0.000000   \n",
       "25%        5.000000       2.000000      0.000000           0.000000   \n",
       "50%       11.000000       3.000000     25.000000        1986.000000   \n",
       "75%       17.000000       5.000000    215.000000        2004.000000   \n",
       "max       21.000000      80.000000  30500.000000        2013.000000   \n",
       "\n",
       "             target  \n",
       "count  59400.000000  \n",
       "mean       1.158838  \n",
       "std        0.949794  \n",
       "min        0.000000  \n",
       "25%        0.000000  \n",
       "50%        2.000000  \n",
       "75%        2.000000  \n",
       "max        2.000000  "
      ]
     },
     "execution_count": 112,
     "metadata": {},
     "output_type": "execute_result"
    }
   ],
   "source": [
    "num_df.describe()"
   ]
  },
  {
   "cell_type": "code",
   "execution_count": 113,
   "id": "c5f3c84e",
   "metadata": {
    "ExecuteTime": {
     "end_time": "2022-01-29T20:40:14.530863Z",
     "start_time": "2022-01-29T20:40:14.519920Z"
    }
   },
   "outputs": [
    {
     "data": {
      "text/plain": [
       "1      888\n",
       "2      189\n",
       "3      595\n",
       "4      698\n",
       "5     1128\n",
       "6      984\n",
       "7       93\n",
       "9      423\n",
       "10     423\n",
       "11     728\n",
       "12     298\n",
       "13     544\n",
       "14     574\n",
       "15     679\n",
       "16     874\n",
       "17    1251\n",
       "18     772\n",
       "19     341\n",
       "20     171\n",
       "21     550\n",
       "Name: region_code, dtype: int64"
      ]
     },
     "execution_count": 113,
     "metadata": {},
     "output_type": "execute_result"
    }
   ],
   "source": [
    "num_df[num_df.district_code == 1].region_code.value_counts().sort_index()"
   ]
  },
  {
   "cell_type": "markdown",
   "id": "cd08c139",
   "metadata": {},
   "source": [
    "From this we can see that region 8 has no district_code value of 1. Lets look a little deeper."
   ]
  },
  {
   "cell_type": "code",
   "execution_count": 114,
   "id": "63d3d316",
   "metadata": {
    "ExecuteTime": {
     "end_time": "2022-01-29T20:41:00.278252Z",
     "start_time": "2022-01-29T20:41:00.268284Z"
    }
   },
   "outputs": [
    {
     "data": {
      "text/plain": [
       "13    391\n",
       "3     300\n",
       "23    293\n",
       "53    291\n",
       "43    154\n",
       "62    109\n",
       "Name: district_code, dtype: int64"
      ]
     },
     "execution_count": 114,
     "metadata": {},
     "output_type": "execute_result"
    }
   ],
   "source": [
    "num_df[num_df.region_code == 8].district_code.value_counts()"
   ]
  },
  {
   "cell_type": "code",
   "execution_count": 118,
   "id": "8397fd6e",
   "metadata": {
    "ExecuteTime": {
     "end_time": "2022-01-29T20:43:28.612076Z",
     "start_time": "2022-01-29T20:43:28.599113Z"
    }
   },
   "outputs": [
    {
     "data": {
      "text/plain": [
       "26       Lindi\n",
       "91       Lindi\n",
       "148      Lindi\n",
       "159      Lindi\n",
       "324      Lindi\n",
       "         ...  \n",
       "59201    Lindi\n",
       "59251    Lindi\n",
       "59254    Lindi\n",
       "59297    Lindi\n",
       "59383    Lindi\n",
       "Name: region, Length: 1538, dtype: object"
      ]
     },
     "execution_count": 118,
     "metadata": {},
     "output_type": "execute_result"
    }
   ],
   "source": [
    "raw_df[num_df.region_code == 8]['region']"
   ]
  },
  {
   "cell_type": "markdown",
   "id": "83d2b129",
   "metadata": {},
   "source": [
    "Region 8, Lindi, has 6 regions (per wikipedia link from above). There are 6 unique values for district_code for region 8, but do not seem to have any numbering order.\n",
    "_________\n",
    "Lets look at another region, region 1."
   ]
  },
  {
   "cell_type": "code",
   "execution_count": 115,
   "id": "5d469798",
   "metadata": {
    "ExecuteTime": {
     "end_time": "2022-01-29T20:42:05.395918Z",
     "start_time": "2022-01-29T20:42:05.387940Z"
    }
   },
   "outputs": [
    {
     "data": {
      "text/plain": [
       "1    888\n",
       "3    361\n",
       "5    358\n",
       "4    347\n",
       "6    224\n",
       "0     23\n",
       "Name: district_code, dtype: int64"
      ]
     },
     "execution_count": 115,
     "metadata": {},
     "output_type": "execute_result"
    }
   ],
   "source": [
    "num_df[num_df.region_code == 1].district_code.value_counts()"
   ]
  },
  {
   "cell_type": "code",
   "execution_count": 117,
   "id": "1be3327e",
   "metadata": {
    "ExecuteTime": {
     "end_time": "2022-01-29T20:42:42.330708Z",
     "start_time": "2022-01-29T20:42:42.306745Z"
    }
   },
   "outputs": [
    {
     "data": {
      "text/plain": [
       "30       Dodoma\n",
       "37       Dodoma\n",
       "89       Dodoma\n",
       "114      Dodoma\n",
       "242      Dodoma\n",
       "          ...  \n",
       "59279    Dodoma\n",
       "59312    Dodoma\n",
       "59335    Dodoma\n",
       "59368    Dodoma\n",
       "59398    Dodoma\n",
       "Name: region, Length: 2201, dtype: object"
      ]
     },
     "execution_count": 117,
     "metadata": {},
     "output_type": "execute_result"
    }
   ],
   "source": [
    "raw_df[num_df.region_code == 1]['region']"
   ]
  },
  {
   "cell_type": "markdown",
   "id": "c363881f",
   "metadata": {},
   "source": [
    "Region 1 is Dodoma, which research shows should have 7 administrative districts. Just because we don't have 7 here doesn't mean that they are not accurate. The numbering is much more representative of what we would expect to see. If we started counting at 0, then we would have 7 values except missing values for district 3 (would be value 2 in data)\n",
    "___________\n",
    "Let's look at region 2 now to see if maybe it shows the same potential as region 1, or seems hopeless like region 8."
   ]
  },
  {
   "cell_type": "code",
   "execution_count": 119,
   "id": "a51349d6",
   "metadata": {
    "ExecuteTime": {
     "end_time": "2022-01-29T20:49:54.058455Z",
     "start_time": "2022-01-29T20:49:54.037511Z"
    }
   },
   "outputs": [
    {
     "data": {
      "text/plain": [
       "2     1206\n",
       "7     1009\n",
       "30     326\n",
       "6      310\n",
       "5      201\n",
       "1      189\n",
       "3      109\n",
       "Name: district_code, dtype: int64"
      ]
     },
     "execution_count": 119,
     "metadata": {},
     "output_type": "execute_result"
    }
   ],
   "source": [
    "num_df[num_df.region_code == 2].district_code.value_counts()"
   ]
  },
  {
   "cell_type": "code",
   "execution_count": 120,
   "id": "62c170c2",
   "metadata": {
    "ExecuteTime": {
     "end_time": "2022-01-29T20:50:06.536741Z",
     "start_time": "2022-01-29T20:50:06.512778Z"
    }
   },
   "outputs": [
    {
     "data": {
      "text/plain": [
       "35       Arusha\n",
       "44       Arusha\n",
       "57       Arusha\n",
       "63       Arusha\n",
       "77       Arusha\n",
       "          ...  \n",
       "59267    Arusha\n",
       "59280    Arusha\n",
       "59285    Arusha\n",
       "59307    Arusha\n",
       "59344    Arusha\n",
       "Name: region, Length: 3350, dtype: object"
      ]
     },
     "execution_count": 120,
     "metadata": {},
     "output_type": "execute_result"
    }
   ],
   "source": [
    "raw_df[num_df.region_code == 2]['region']"
   ]
  },
  {
   "cell_type": "code",
   "execution_count": null,
   "id": "f6055222",
   "metadata": {},
   "outputs": [],
   "source": []
  },
  {
   "cell_type": "code",
   "execution_count": null,
   "id": "b0316caf",
   "metadata": {},
   "outputs": [],
   "source": []
  },
  {
   "cell_type": "markdown",
   "id": "7ec89f22",
   "metadata": {},
   "source": [
    "District codes are a bit chaotic. Even the largest count value, district_code of 1, is not represented in all of our regions, which should be the case if each region had a separate count of districts. It's suspected that there will not be an easy way to reconcile this feature, and it will likely not be used in modeling. If we were able to organize this, we would also then need to have unique values for each district among all regions to give it any meaningful impact."
   ]
  },
  {
   "cell_type": "markdown",
   "id": "cc53b27e",
   "metadata": {},
   "source": [
    "## population"
   ]
  },
  {
   "cell_type": "code",
   "execution_count": null,
   "id": "a51c5a37",
   "metadata": {},
   "outputs": [],
   "source": []
  },
  {
   "cell_type": "code",
   "execution_count": null,
   "id": "375ada16",
   "metadata": {},
   "outputs": [],
   "source": []
  },
  {
   "cell_type": "markdown",
   "id": "42e1f418",
   "metadata": {},
   "source": [
    "## construction_year"
   ]
  },
  {
   "cell_type": "code",
   "execution_count": null,
   "id": "ebe21978",
   "metadata": {},
   "outputs": [],
   "source": []
  },
  {
   "cell_type": "code",
   "execution_count": null,
   "id": "ea9ddb59",
   "metadata": {},
   "outputs": [],
   "source": []
  },
  {
   "cell_type": "markdown",
   "id": "40774aa2",
   "metadata": {
    "heading_collapsed": true
   },
   "source": [
    "# Exploring categorical data"
   ]
  },
  {
   "cell_type": "code",
   "execution_count": null,
   "id": "d1c11429",
   "metadata": {
    "hidden": true
   },
   "outputs": [],
   "source": []
  },
  {
   "cell_type": "code",
   "execution_count": null,
   "id": "0f2f331b",
   "metadata": {
    "hidden": true
   },
   "outputs": [],
   "source": []
  },
  {
   "cell_type": "code",
   "execution_count": null,
   "id": "756d31cf",
   "metadata": {
    "hidden": true
   },
   "outputs": [],
   "source": []
  },
  {
   "cell_type": "code",
   "execution_count": null,
   "id": "b29f01a6",
   "metadata": {
    "hidden": true
   },
   "outputs": [],
   "source": []
  },
  {
   "cell_type": "markdown",
   "id": "5dda5f80",
   "metadata": {
    "heading_collapsed": true
   },
   "source": [
    "# Exploring extraction types"
   ]
  },
  {
   "cell_type": "code",
   "execution_count": 51,
   "id": "1973025e",
   "metadata": {
    "ExecuteTime": {
     "end_time": "2022-01-29T16:47:06.437313Z",
     "start_time": "2022-01-29T16:47:06.376473Z"
    },
    "hidden": true,
    "scrolled": false
   },
   "outputs": [
    {
     "data": {
      "text/html": [
       "<div>\n",
       "<style scoped>\n",
       "    .dataframe tbody tr th:only-of-type {\n",
       "        vertical-align: middle;\n",
       "    }\n",
       "\n",
       "    .dataframe tbody tr th {\n",
       "        vertical-align: top;\n",
       "    }\n",
       "\n",
       "    .dataframe thead th {\n",
       "        text-align: right;\n",
       "    }\n",
       "</style>\n",
       "<table border=\"1\" class=\"dataframe\">\n",
       "  <thead>\n",
       "    <tr style=\"text-align: right;\">\n",
       "      <th></th>\n",
       "      <th>total_count</th>\n",
       "      <th>percent_of_total</th>\n",
       "      <th>non-functional</th>\n",
       "      <th>non-functional_percent</th>\n",
       "      <th>needs_repair</th>\n",
       "      <th>needs_repair_percent</th>\n",
       "    </tr>\n",
       "  </thead>\n",
       "  <tbody>\n",
       "    <tr>\n",
       "      <th>gravity</th>\n",
       "      <td>26780</td>\n",
       "      <td>45.08</td>\n",
       "      <td>8031</td>\n",
       "      <td>29.99</td>\n",
       "      <td>2701</td>\n",
       "      <td>10.09</td>\n",
       "    </tr>\n",
       "    <tr>\n",
       "      <th>nira/tanira</th>\n",
       "      <td>8154</td>\n",
       "      <td>13.73</td>\n",
       "      <td>2092</td>\n",
       "      <td>25.66</td>\n",
       "      <td>641</td>\n",
       "      <td>7.86</td>\n",
       "    </tr>\n",
       "    <tr>\n",
       "      <th>other</th>\n",
       "      <td>6430</td>\n",
       "      <td>10.82</td>\n",
       "      <td>5195</td>\n",
       "      <td>80.79</td>\n",
       "      <td>206</td>\n",
       "      <td>3.20</td>\n",
       "    </tr>\n",
       "    <tr>\n",
       "      <th>submersible</th>\n",
       "      <td>4764</td>\n",
       "      <td>8.02</td>\n",
       "      <td>1911</td>\n",
       "      <td>40.11</td>\n",
       "      <td>227</td>\n",
       "      <td>4.76</td>\n",
       "    </tr>\n",
       "    <tr>\n",
       "      <th>swn 80</th>\n",
       "      <td>3670</td>\n",
       "      <td>6.18</td>\n",
       "      <td>1368</td>\n",
       "      <td>37.28</td>\n",
       "      <td>212</td>\n",
       "      <td>5.78</td>\n",
       "    </tr>\n",
       "    <tr>\n",
       "      <th>mono</th>\n",
       "      <td>2865</td>\n",
       "      <td>4.82</td>\n",
       "      <td>1654</td>\n",
       "      <td>57.73</td>\n",
       "      <td>129</td>\n",
       "      <td>4.50</td>\n",
       "    </tr>\n",
       "    <tr>\n",
       "      <th>india mark ii</th>\n",
       "      <td>2400</td>\n",
       "      <td>4.04</td>\n",
       "      <td>873</td>\n",
       "      <td>36.38</td>\n",
       "      <td>79</td>\n",
       "      <td>3.29</td>\n",
       "    </tr>\n",
       "    <tr>\n",
       "      <th>afridev</th>\n",
       "      <td>1770</td>\n",
       "      <td>2.98</td>\n",
       "      <td>528</td>\n",
       "      <td>29.83</td>\n",
       "      <td>42</td>\n",
       "      <td>2.37</td>\n",
       "    </tr>\n",
       "    <tr>\n",
       "      <th>ksb</th>\n",
       "      <td>1415</td>\n",
       "      <td>2.38</td>\n",
       "      <td>686</td>\n",
       "      <td>48.48</td>\n",
       "      <td>26</td>\n",
       "      <td>1.84</td>\n",
       "    </tr>\n",
       "    <tr>\n",
       "      <th>other - rope pump</th>\n",
       "      <td>451</td>\n",
       "      <td>0.76</td>\n",
       "      <td>141</td>\n",
       "      <td>31.26</td>\n",
       "      <td>17</td>\n",
       "      <td>3.77</td>\n",
       "    </tr>\n",
       "    <tr>\n",
       "      <th>other - swn 81</th>\n",
       "      <td>229</td>\n",
       "      <td>0.39</td>\n",
       "      <td>102</td>\n",
       "      <td>44.54</td>\n",
       "      <td>7</td>\n",
       "      <td>3.06</td>\n",
       "    </tr>\n",
       "    <tr>\n",
       "      <th>windmill</th>\n",
       "      <td>117</td>\n",
       "      <td>0.20</td>\n",
       "      <td>60</td>\n",
       "      <td>51.28</td>\n",
       "      <td>7</td>\n",
       "      <td>5.98</td>\n",
       "    </tr>\n",
       "    <tr>\n",
       "      <th>india mark iii</th>\n",
       "      <td>98</td>\n",
       "      <td>0.16</td>\n",
       "      <td>53</td>\n",
       "      <td>54.08</td>\n",
       "      <td>1</td>\n",
       "      <td>1.02</td>\n",
       "    </tr>\n",
       "    <tr>\n",
       "      <th>cemo</th>\n",
       "      <td>90</td>\n",
       "      <td>0.15</td>\n",
       "      <td>36</td>\n",
       "      <td>40.00</td>\n",
       "      <td>9</td>\n",
       "      <td>10.00</td>\n",
       "    </tr>\n",
       "    <tr>\n",
       "      <th>other - play pump</th>\n",
       "      <td>85</td>\n",
       "      <td>0.14</td>\n",
       "      <td>55</td>\n",
       "      <td>64.71</td>\n",
       "      <td>1</td>\n",
       "      <td>1.18</td>\n",
       "    </tr>\n",
       "    <tr>\n",
       "      <th>walimi</th>\n",
       "      <td>48</td>\n",
       "      <td>0.08</td>\n",
       "      <td>13</td>\n",
       "      <td>27.08</td>\n",
       "      <td>12</td>\n",
       "      <td>25.00</td>\n",
       "    </tr>\n",
       "    <tr>\n",
       "      <th>climax</th>\n",
       "      <td>32</td>\n",
       "      <td>0.05</td>\n",
       "      <td>24</td>\n",
       "      <td>75.00</td>\n",
       "      <td>0</td>\n",
       "      <td>0.00</td>\n",
       "    </tr>\n",
       "    <tr>\n",
       "      <th>other - mkulima/shinyanga</th>\n",
       "      <td>2</td>\n",
       "      <td>0.00</td>\n",
       "      <td>2</td>\n",
       "      <td>100.00</td>\n",
       "      <td>0</td>\n",
       "      <td>0.00</td>\n",
       "    </tr>\n",
       "  </tbody>\n",
       "</table>\n",
       "</div>"
      ],
      "text/plain": [
       "                           total_count  percent_of_total  non-functional  \\\n",
       "gravity                          26780             45.08            8031   \n",
       "nira/tanira                       8154             13.73            2092   \n",
       "other                             6430             10.82            5195   \n",
       "submersible                       4764              8.02            1911   \n",
       "swn 80                            3670              6.18            1368   \n",
       "mono                              2865              4.82            1654   \n",
       "india mark ii                     2400              4.04             873   \n",
       "afridev                           1770              2.98             528   \n",
       "ksb                               1415              2.38             686   \n",
       "other - rope pump                  451              0.76             141   \n",
       "other - swn 81                     229              0.39             102   \n",
       "windmill                           117              0.20              60   \n",
       "india mark iii                      98              0.16              53   \n",
       "cemo                                90              0.15              36   \n",
       "other - play pump                   85              0.14              55   \n",
       "walimi                              48              0.08              13   \n",
       "climax                              32              0.05              24   \n",
       "other - mkulima/shinyanga            2              0.00               2   \n",
       "\n",
       "                           non-functional_percent  needs_repair  \\\n",
       "gravity                                     29.99          2701   \n",
       "nira/tanira                                 25.66           641   \n",
       "other                                       80.79           206   \n",
       "submersible                                 40.11           227   \n",
       "swn 80                                      37.28           212   \n",
       "mono                                        57.73           129   \n",
       "india mark ii                               36.38            79   \n",
       "afridev                                     29.83            42   \n",
       "ksb                                         48.48            26   \n",
       "other - rope pump                           31.26            17   \n",
       "other - swn 81                              44.54             7   \n",
       "windmill                                    51.28             7   \n",
       "india mark iii                              54.08             1   \n",
       "cemo                                        40.00             9   \n",
       "other - play pump                           64.71             1   \n",
       "walimi                                      27.08            12   \n",
       "climax                                      75.00             0   \n",
       "other - mkulima/shinyanga                  100.00             0   \n",
       "\n",
       "                           needs_repair_percent  \n",
       "gravity                                   10.09  \n",
       "nira/tanira                                7.86  \n",
       "other                                      3.20  \n",
       "submersible                                4.76  \n",
       "swn 80                                     5.78  \n",
       "mono                                       4.50  \n",
       "india mark ii                              3.29  \n",
       "afridev                                    2.37  \n",
       "ksb                                        1.84  \n",
       "other - rope pump                          3.77  \n",
       "other - swn 81                             3.06  \n",
       "windmill                                   5.98  \n",
       "india mark iii                             1.02  \n",
       "cemo                                      10.00  \n",
       "other - play pump                          1.18  \n",
       "walimi                                    25.00  \n",
       "climax                                     0.00  \n",
       "other - mkulima/shinyanga                  0.00  "
      ]
     },
     "execution_count": 51,
     "metadata": {},
     "output_type": "execute_result"
    }
   ],
   "source": [
    "extraction_types = pd.DataFrame(raw_df.extraction_type.value_counts())\n",
    "extraction_types.columns = ['total_count']\n",
    "extraction_types['percent_of_total'] = round((extraction_types.total_count / len(raw_df)) * 100, 2)\n",
    "extraction_types['non-functional'] = raw_df[raw_df.status_group == 'non functional'].extraction_type.value_counts()\n",
    "extraction_types['non-functional_percent'] = round((extraction_types['non-functional'] / extraction_types.total_count) * 100, 2)\n",
    "extraction_types['needs_repair'] = raw_df[raw_df.status_group == 'functional needs repair'].extraction_type.value_counts()\n",
    "extraction_types.fillna(0.0, inplace=True)\n",
    "extraction_types['needs_repair'] = extraction_types['needs_repair'].astype('int')\n",
    "extraction_types['needs_repair_percent'] = round((extraction_types['needs_repair'] / extraction_types.total_count) * 100, 2)\n",
    "extraction_types"
   ]
  }
 ],
 "metadata": {
  "kernelspec": {
   "display_name": "Python 3 (ipykernel)",
   "language": "python",
   "name": "python3"
  },
  "language_info": {
   "codemirror_mode": {
    "name": "ipython",
    "version": 3
   },
   "file_extension": ".py",
   "mimetype": "text/x-python",
   "name": "python",
   "nbconvert_exporter": "python",
   "pygments_lexer": "ipython3",
   "version": "3.8.5"
  },
  "toc": {
   "base_numbering": 1,
   "nav_menu": {},
   "number_sections": true,
   "sideBar": true,
   "skip_h1_title": false,
   "title_cell": "Table of Contents",
   "title_sidebar": "Contents",
   "toc_cell": false,
   "toc_position": {
    "height": "calc(100% - 180px)",
    "left": "10px",
    "top": "150px",
    "width": "408.466px"
   },
   "toc_section_display": true,
   "toc_window_display": true
  }
 },
 "nbformat": 4,
 "nbformat_minor": 5
}
