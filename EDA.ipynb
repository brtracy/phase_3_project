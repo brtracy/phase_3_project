{
 "cells": [
  {
   "cell_type": "markdown",
   "id": "0a71775f",
   "metadata": {},
   "source": [
    "# Business Problem"
   ]
  },
  {
   "cell_type": "markdown",
   "id": "979e1579",
   "metadata": {},
   "source": [
    "The Tanzania Development Trust is a UK charitable organization operating within the country of Tanzania since 1975.\n",
    "\n",
    "They focus on development in rural Tanzania, aiming to support small projects in the poorest parts of the country where one of their priority areas of funding is clean water. Their stated water project involves boreholing and rope pump installation in areas with limited access to clean water, currently located in the regions of Kagera and Kigoma in the northwest of the country.\n",
    "\n",
    "A new benefactor wants to expand the project not only geographically to more of the country, but in the scope of repairing existing pumps before they fail. I have been tasked with developing a model to predict the operating condition of a current waterpoint: functional, needs repair, or non-functional.\n",
    "\n",
    "The main objective is to identify waterpoints that are in need of repair. [Research shows](https://sswm.info/entrepreneurship-resource/developing-impactful-businesses/maintenance-services-for-rural-water-pumps) that it is much less expensive to repair and rehabilitate a waterpoint, as well as being more protective of the water resources in the country. \n",
    "The secondary objective is to identify concentrations of non-functioning water points that may be an eligible location for a new installation.\n",
    "______________________\n",
    "The data provided for modeling was collected between March 2011 and March 2013, and contains the information for 59,400 water points "
   ]
  },
  {
   "cell_type": "markdown",
   "id": "ff431296",
   "metadata": {},
   "source": [
    "# Imports"
   ]
  },
  {
   "cell_type": "code",
   "execution_count": 1,
   "id": "ac7e0ce4",
   "metadata": {
    "ExecuteTime": {
     "end_time": "2022-01-26T19:56:09.982235Z",
     "start_time": "2022-01-26T19:56:08.574861Z"
    }
   },
   "outputs": [],
   "source": [
    "import pandas as pd\n",
    "import numpy as np\n",
    "import seaborn as sns\n",
    "import matplotlib.pyplot as plt\n",
    "%matplotlib inline"
   ]
  },
  {
   "cell_type": "code",
   "execution_count": 2,
   "id": "56c8e212",
   "metadata": {
    "ExecuteTime": {
     "end_time": "2022-01-26T19:56:10.538739Z",
     "start_time": "2022-01-26T19:56:09.986192Z"
    },
    "scrolled": true
   },
   "outputs": [
    {
     "name": "stdout",
     "output_type": "stream",
     "text": [
      "<class 'pandas.core.frame.DataFrame'>\n",
      "RangeIndex: 59400 entries, 0 to 59399\n",
      "Data columns (total 2 columns):\n",
      " #   Column        Non-Null Count  Dtype \n",
      "---  ------        --------------  ----- \n",
      " 0   id            59400 non-null  int64 \n",
      " 1   status_group  59400 non-null  object\n",
      "dtypes: int64(1), object(1)\n",
      "memory usage: 928.2+ KB\n"
     ]
    },
    {
     "data": {
      "text/plain": [
       "None"
      ]
     },
     "metadata": {},
     "output_type": "display_data"
    },
    {
     "name": "stdout",
     "output_type": "stream",
     "text": [
      "<class 'pandas.core.frame.DataFrame'>\n",
      "RangeIndex: 59400 entries, 0 to 59399\n",
      "Data columns (total 40 columns):\n",
      " #   Column                 Non-Null Count  Dtype  \n",
      "---  ------                 --------------  -----  \n",
      " 0   id                     59400 non-null  int64  \n",
      " 1   amount_tsh             59400 non-null  float64\n",
      " 2   date_recorded          59400 non-null  object \n",
      " 3   funder                 55765 non-null  object \n",
      " 4   gps_height             59400 non-null  int64  \n",
      " 5   installer              55745 non-null  object \n",
      " 6   longitude              59400 non-null  float64\n",
      " 7   latitude               59400 non-null  float64\n",
      " 8   wpt_name               59400 non-null  object \n",
      " 9   num_private            59400 non-null  int64  \n",
      " 10  basin                  59400 non-null  object \n",
      " 11  subvillage             59029 non-null  object \n",
      " 12  region                 59400 non-null  object \n",
      " 13  region_code            59400 non-null  int64  \n",
      " 14  district_code          59400 non-null  int64  \n",
      " 15  lga                    59400 non-null  object \n",
      " 16  ward                   59400 non-null  object \n",
      " 17  population             59400 non-null  int64  \n",
      " 18  public_meeting         56066 non-null  object \n",
      " 19  recorded_by            59400 non-null  object \n",
      " 20  scheme_management      55523 non-null  object \n",
      " 21  scheme_name            31234 non-null  object \n",
      " 22  permit                 56344 non-null  object \n",
      " 23  construction_year      59400 non-null  int64  \n",
      " 24  extraction_type        59400 non-null  object \n",
      " 25  extraction_type_group  59400 non-null  object \n",
      " 26  extraction_type_class  59400 non-null  object \n",
      " 27  management             59400 non-null  object \n",
      " 28  management_group       59400 non-null  object \n",
      " 29  payment                59400 non-null  object \n",
      " 30  payment_type           59400 non-null  object \n",
      " 31  water_quality          59400 non-null  object \n",
      " 32  quality_group          59400 non-null  object \n",
      " 33  quantity               59400 non-null  object \n",
      " 34  quantity_group         59400 non-null  object \n",
      " 35  source                 59400 non-null  object \n",
      " 36  source_type            59400 non-null  object \n",
      " 37  source_class           59400 non-null  object \n",
      " 38  waterpoint_type        59400 non-null  object \n",
      " 39  waterpoint_type_group  59400 non-null  object \n",
      "dtypes: float64(3), int64(7), object(30)\n",
      "memory usage: 18.1+ MB\n",
      "None\n"
     ]
    }
   ],
   "source": [
    "# import training data and target\n",
    "raw_data = pd.read_csv('data/training_data.csv')\n",
    "raw_target = pd.read_csv('data/training_target.csv')\n",
    "\n",
    "display(raw_target.info())\n",
    "print(raw_data.info())"
   ]
  },
  {
   "cell_type": "markdown",
   "id": "346fa101",
   "metadata": {},
   "source": [
    "Create a raw dataframe with merged data and target. We will use this df during initial EDA so we can compare feature relationships with target, and so we can understand and deal with null values"
   ]
  },
  {
   "cell_type": "code",
   "execution_count": 3,
   "id": "d1dfaee1",
   "metadata": {
    "ExecuteTime": {
     "end_time": "2022-01-26T19:56:10.762126Z",
     "start_time": "2022-01-26T19:56:10.540714Z"
    }
   },
   "outputs": [],
   "source": [
    "raw_df = pd.merge(raw_data, raw_target, on='id')"
   ]
  },
  {
   "cell_type": "markdown",
   "id": "9cec82c3",
   "metadata": {},
   "source": [
    "The dataset for training includes 59,400 entries with 39 total features, a unique identifier, and a target label."
   ]
  },
  {
   "cell_type": "code",
   "execution_count": 4,
   "id": "97ada609",
   "metadata": {
    "ExecuteTime": {
     "end_time": "2022-01-26T19:56:10.794039Z",
     "start_time": "2022-01-26T19:56:10.764119Z"
    }
   },
   "outputs": [
    {
     "data": {
      "text/html": [
       "<div>\n",
       "<style scoped>\n",
       "    .dataframe tbody tr th:only-of-type {\n",
       "        vertical-align: middle;\n",
       "    }\n",
       "\n",
       "    .dataframe tbody tr th {\n",
       "        vertical-align: top;\n",
       "    }\n",
       "\n",
       "    .dataframe thead th {\n",
       "        text-align: right;\n",
       "    }\n",
       "</style>\n",
       "<table border=\"1\" class=\"dataframe\">\n",
       "  <thead>\n",
       "    <tr style=\"text-align: right;\">\n",
       "      <th></th>\n",
       "      <th>status_group</th>\n",
       "      <th>percent</th>\n",
       "    </tr>\n",
       "  </thead>\n",
       "  <tbody>\n",
       "    <tr>\n",
       "      <th>functional</th>\n",
       "      <td>32259</td>\n",
       "      <td>54.3</td>\n",
       "    </tr>\n",
       "    <tr>\n",
       "      <th>non functional</th>\n",
       "      <td>22824</td>\n",
       "      <td>38.4</td>\n",
       "    </tr>\n",
       "    <tr>\n",
       "      <th>functional needs repair</th>\n",
       "      <td>4317</td>\n",
       "      <td>7.3</td>\n",
       "    </tr>\n",
       "  </tbody>\n",
       "</table>\n",
       "</div>"
      ],
      "text/plain": [
       "                         status_group  percent\n",
       "functional                      32259     54.3\n",
       "non functional                  22824     38.4\n",
       "functional needs repair          4317      7.3"
      ]
     },
     "execution_count": 4,
     "metadata": {},
     "output_type": "execute_result"
    }
   ],
   "source": [
    "status_values = pd.DataFrame(raw_df.status_group.value_counts())\n",
    "status_values['percent'] = round(raw_df.status_group.value_counts(normalize=True) * 100, 1)\n",
    "status_values"
   ]
  },
  {
   "cell_type": "markdown",
   "id": "9ce9e137",
   "metadata": {},
   "source": [
    "This is a ternary classification problem. The three possible values are:\n",
    "- functional (F)\n",
    "- non functional (NF)\n",
    "- functional needs repair (FR)\n",
    "\n",
    "Value counts show that our dataset is not balanced with respect to the label values. Only 7.3% of pumps are classified as functional needs repair, while 54.3% are functional and 38.4% are non functional. We will need to keep this imbalance in mind when modeling.\n",
    "_________\n",
    "Before any modeling can occur we must check and deal with null values\n"
   ]
  },
  {
   "cell_type": "markdown",
   "id": "7a1b0deb",
   "metadata": {
    "heading_collapsed": true
   },
   "source": [
    "# Null Checks"
   ]
  },
  {
   "cell_type": "code",
   "execution_count": 5,
   "id": "968a1033",
   "metadata": {
    "ExecuteTime": {
     "end_time": "2022-01-26T19:56:10.935661Z",
     "start_time": "2022-01-26T19:56:10.797031Z"
    },
    "hidden": true
   },
   "outputs": [
    {
     "data": {
      "text/html": [
       "<div>\n",
       "<style scoped>\n",
       "    .dataframe tbody tr th:only-of-type {\n",
       "        vertical-align: middle;\n",
       "    }\n",
       "\n",
       "    .dataframe tbody tr th {\n",
       "        vertical-align: top;\n",
       "    }\n",
       "\n",
       "    .dataframe thead th {\n",
       "        text-align: right;\n",
       "    }\n",
       "</style>\n",
       "<table border=\"1\" class=\"dataframe\">\n",
       "  <thead>\n",
       "    <tr style=\"text-align: right;\">\n",
       "      <th></th>\n",
       "      <th>null_count</th>\n",
       "      <th>percent_of_data</th>\n",
       "    </tr>\n",
       "  </thead>\n",
       "  <tbody>\n",
       "    <tr>\n",
       "      <th>scheme_name</th>\n",
       "      <td>28166</td>\n",
       "      <td>47.4</td>\n",
       "    </tr>\n",
       "    <tr>\n",
       "      <th>scheme_management</th>\n",
       "      <td>3877</td>\n",
       "      <td>6.5</td>\n",
       "    </tr>\n",
       "    <tr>\n",
       "      <th>installer</th>\n",
       "      <td>3655</td>\n",
       "      <td>6.2</td>\n",
       "    </tr>\n",
       "    <tr>\n",
       "      <th>funder</th>\n",
       "      <td>3635</td>\n",
       "      <td>6.1</td>\n",
       "    </tr>\n",
       "    <tr>\n",
       "      <th>public_meeting</th>\n",
       "      <td>3334</td>\n",
       "      <td>5.6</td>\n",
       "    </tr>\n",
       "    <tr>\n",
       "      <th>permit</th>\n",
       "      <td>3056</td>\n",
       "      <td>5.1</td>\n",
       "    </tr>\n",
       "    <tr>\n",
       "      <th>subvillage</th>\n",
       "      <td>371</td>\n",
       "      <td>0.6</td>\n",
       "    </tr>\n",
       "  </tbody>\n",
       "</table>\n",
       "</div>"
      ],
      "text/plain": [
       "                   null_count  percent_of_data\n",
       "scheme_name             28166             47.4\n",
       "scheme_management        3877              6.5\n",
       "installer                3655              6.2\n",
       "funder                   3635              6.1\n",
       "public_meeting           3334              5.6\n",
       "permit                   3056              5.1\n",
       "subvillage                371              0.6"
      ]
     },
     "execution_count": 5,
     "metadata": {},
     "output_type": "execute_result"
    }
   ],
   "source": [
    "null_checks = pd.DataFrame(data=raw_df.isna().sum(),\n",
    "                          columns=['null_count'])\n",
    "null_checks['percent_of_data'] = round((null_checks.null_count / len(raw_data)) * 100, 1)\n",
    "null_checks = null_checks[null_checks.percent_of_data > 0.1]\n",
    "null_checks.sort_values('percent_of_data', ascending=False, inplace=True)\n",
    "null_checks"
   ]
  },
  {
   "cell_type": "markdown",
   "id": "1fd4b189",
   "metadata": {
    "hidden": true
   },
   "source": [
    "There are 7 features with null values in our dataset, and we can what that number of nulls is by percent of total available data. \n",
    "______\n",
    "All of the features that contain null values are object types and will need to be converted. Before conversion we will need to address the null values."
   ]
  },
  {
   "cell_type": "markdown",
   "id": "b25fd29d",
   "metadata": {
    "heading_collapsed": true,
    "hidden": true
   },
   "source": [
    "## subvillage"
   ]
  },
  {
   "cell_type": "code",
   "execution_count": 6,
   "id": "3734075a",
   "metadata": {
    "ExecuteTime": {
     "end_time": "2022-01-26T19:56:10.982536Z",
     "start_time": "2022-01-26T19:56:10.937656Z"
    },
    "hidden": true
   },
   "outputs": [
    {
     "data": {
      "text/plain": [
       "functional                 55.26\n",
       "non functional             44.47\n",
       "functional needs repair     0.27\n",
       "Name: status_group, dtype: float64"
      ]
     },
     "execution_count": 6,
     "metadata": {},
     "output_type": "execute_result"
    }
   ],
   "source": [
    "subvillage_nans = raw_df[raw_df.subvillage.isnull()]\n",
    "round(subvillage_nans.status_group.value_counts(normalize=True) * 100, 2)"
   ]
  },
  {
   "cell_type": "markdown",
   "id": "e4db7a1d",
   "metadata": {
    "hidden": true
   },
   "source": [
    "The null values in subvillage represent 0.6% of our total data. The distribution of the target label is close to the whole dataset"
   ]
  },
  {
   "cell_type": "code",
   "execution_count": 7,
   "id": "cce8781d",
   "metadata": {
    "ExecuteTime": {
     "end_time": "2022-01-26T19:56:10.998493Z",
     "start_time": "2022-01-26T19:56:10.984532Z"
    },
    "hidden": true
   },
   "outputs": [
    {
     "data": {
      "text/plain": [
       "Dodoma    361\n",
       "Mwanza     10\n",
       "Name: region, dtype: int64"
      ]
     },
     "execution_count": 7,
     "metadata": {},
     "output_type": "execute_result"
    }
   ],
   "source": [
    "subvillage_nans.region.value_counts()"
   ]
  },
  {
   "cell_type": "markdown",
   "id": "9ec83bea",
   "metadata": {
    "hidden": true
   },
   "source": [
    "All but 10 of our subvillage nan's come from the region of Dodoma, the rest from Mwanza. Lets look at the subvillage distribution of those regions from the whole dataset"
   ]
  },
  {
   "cell_type": "code",
   "execution_count": 8,
   "id": "e564ac0d",
   "metadata": {
    "ExecuteTime": {
     "end_time": "2022-01-26T19:56:11.029412Z",
     "start_time": "2022-01-26T19:56:11.001486Z"
    },
    "hidden": true,
    "scrolled": true
   },
   "outputs": [
    {
     "data": {
      "text/plain": [
       "Kawawa         54\n",
       "Shuleni        43\n",
       "Nyerere        35\n",
       "Azimio         34\n",
       "Majengo        32\n",
       "               ..\n",
       "Foye            1\n",
       "Mtatangwe       1\n",
       "Makao Mapya     1\n",
       "Soya Mjini      1\n",
       "Mgomwa          1\n",
       "Name: subvillage, Length: 705, dtype: int64"
      ]
     },
     "execution_count": 8,
     "metadata": {},
     "output_type": "execute_result"
    }
   ],
   "source": [
    "raw_df[raw_df['region'] == 'Dodoma'].subvillage.value_counts()"
   ]
  },
  {
   "cell_type": "code",
   "execution_count": 9,
   "id": "24901805",
   "metadata": {
    "ExecuteTime": {
     "end_time": "2022-01-26T19:56:11.061326Z",
     "start_time": "2022-01-26T19:56:11.032404Z"
    },
    "hidden": true,
    "scrolled": true
   },
   "outputs": [
    {
     "data": {
      "text/plain": [
       "1                     132\n",
       "Madukani               52\n",
       "Bujingwa               25\n",
       "Shuleni                19\n",
       "Matale                 18\n",
       "                     ... \n",
       "Bukalo                  1\n",
       "Nyambona                1\n",
       "Kabaganda B             1\n",
       "Bulyahilu Center B      1\n",
       "Mwambogwa               1\n",
       "Name: subvillage, Length: 1507, dtype: int64"
      ]
     },
     "execution_count": 9,
     "metadata": {},
     "output_type": "execute_result"
    }
   ],
   "source": [
    "raw_df[raw_df['region'] == 'Mwanza'].subvillage.value_counts()"
   ]
  },
  {
   "cell_type": "markdown",
   "id": "0fe14edf",
   "metadata": {
    "hidden": true
   },
   "source": [
    "There are no average or overwhelmingly dominant subvillages that we could assign the null values to. It's not clear if we will use subvillage in modeling, so we will change null values to 'Other'"
   ]
  },
  {
   "cell_type": "code",
   "execution_count": 10,
   "id": "4ad9a891",
   "metadata": {
    "ExecuteTime": {
     "end_time": "2022-01-26T19:56:11.077283Z",
     "start_time": "2022-01-26T19:56:11.065316Z"
    },
    "hidden": true
   },
   "outputs": [],
   "source": [
    "raw_df['subvillage'].fillna(value='Other', inplace=True)"
   ]
  },
  {
   "cell_type": "markdown",
   "id": "4601f6e8",
   "metadata": {
    "heading_collapsed": true,
    "hidden": true
   },
   "source": [
    "## permit"
   ]
  },
  {
   "cell_type": "code",
   "execution_count": 11,
   "id": "96a1c9cb",
   "metadata": {
    "ExecuteTime": {
     "end_time": "2022-01-26T19:56:11.108201Z",
     "start_time": "2022-01-26T19:56:11.080275Z"
    },
    "hidden": true
   },
   "outputs": [
    {
     "data": {
      "text/plain": [
       "functional                 54.74\n",
       "non functional             35.44\n",
       "functional needs repair     9.82\n",
       "Name: status_group, dtype: float64"
      ]
     },
     "execution_count": 11,
     "metadata": {},
     "output_type": "execute_result"
    }
   ],
   "source": [
    "permit_nans = raw_df[raw_df.permit.isnull()]\n",
    "permit_nans.reset_index(drop=True, inplace=True)\n",
    "round(permit_nans.status_group.value_counts(normalize=True) * 100, 2)"
   ]
  },
  {
   "cell_type": "markdown",
   "id": "0d66e0f6",
   "metadata": {
    "hidden": true
   },
   "source": [
    "5% of our dataset have no value for permit. Distribution of the target label is approximately the same as the whole dataset."
   ]
  },
  {
   "cell_type": "code",
   "execution_count": 12,
   "id": "8d96be1f",
   "metadata": {
    "ExecuteTime": {
     "end_time": "2022-01-26T19:56:11.124158Z",
     "start_time": "2022-01-26T19:56:11.109200Z"
    },
    "hidden": true
   },
   "outputs": [
    {
     "data": {
      "text/plain": [
       "True     0.68955\n",
       "False    0.31045\n",
       "Name: permit, dtype: float64"
      ]
     },
     "execution_count": 12,
     "metadata": {},
     "output_type": "execute_result"
    }
   ],
   "source": [
    "permit_distribution = raw_df.permit.value_counts(normalize=True)\n",
    "permit_distribution"
   ]
  },
  {
   "cell_type": "markdown",
   "id": "447215f0",
   "metadata": {
    "hidden": true
   },
   "source": [
    "Per the data documentation, the permit feature is if the water point is permitted or not. Data we do have for this feature show it's about 70/30 in favor of permitted.\n",
    "\n",
    "We will randomly fill these 3056 missing datapoints with true/false in the same ratio we found in our entire dataset."
   ]
  },
  {
   "cell_type": "code",
   "execution_count": 13,
   "id": "178ccf26",
   "metadata": {
    "ExecuteTime": {
     "end_time": "2022-01-26T19:56:11.156074Z",
     "start_time": "2022-01-26T19:56:11.126154Z"
    },
    "hidden": true
   },
   "outputs": [],
   "source": [
    "raw_df['permit'] = raw_df['permit'].fillna(pd.Series(np.random.choice([True, False],\n",
    "                                                       p=list(permit_distribution),\n",
    "                                                       size=len(raw_df))))"
   ]
  },
  {
   "cell_type": "markdown",
   "id": "7d40001b",
   "metadata": {
    "heading_collapsed": true,
    "hidden": true
   },
   "source": [
    "## public_meeting"
   ]
  },
  {
   "cell_type": "code",
   "execution_count": 14,
   "id": "decb1706",
   "metadata": {
    "ExecuteTime": {
     "end_time": "2022-01-26T19:56:11.172031Z",
     "start_time": "2022-01-26T19:56:11.157071Z"
    },
    "hidden": true
   },
   "outputs": [
    {
     "data": {
      "text/plain": [
       "functional                 50.33\n",
       "non functional             44.99\n",
       "functional needs repair     4.68\n",
       "Name: status_group, dtype: float64"
      ]
     },
     "execution_count": 14,
     "metadata": {},
     "output_type": "execute_result"
    }
   ],
   "source": [
    "public_meeting_nans = raw_df[raw_df.public_meeting.isnull()]\n",
    "public_meeting_nans.reset_index(drop=True, inplace=True)\n",
    "round(public_meeting_nans.status_group.value_counts(normalize=True) * 100, 2)"
   ]
  },
  {
   "cell_type": "markdown",
   "id": "88b372f3",
   "metadata": {
    "hidden": true
   },
   "source": [
    "5.6% of our dataset has no value for public_meeting. Distribution of the target label is approximately the same as the whole dataset."
   ]
  },
  {
   "cell_type": "code",
   "execution_count": 15,
   "id": "f0c98610",
   "metadata": {
    "ExecuteTime": {
     "end_time": "2022-01-26T19:56:11.202949Z",
     "start_time": "2022-01-26T19:56:11.174026Z"
    },
    "hidden": true
   },
   "outputs": [
    {
     "data": {
      "text/plain": [
       "True     0.909838\n",
       "False    0.090162\n",
       "Name: public_meeting, dtype: float64"
      ]
     },
     "execution_count": 15,
     "metadata": {},
     "output_type": "execute_result"
    }
   ],
   "source": [
    "meeting_distribution = raw_df.public_meeting.value_counts(normalize=True)\n",
    "meeting_distribution"
   ]
  },
  {
   "cell_type": "markdown",
   "id": "2ea3a170",
   "metadata": {
    "hidden": true
   },
   "source": [
    "The public meeting feature is a boolean that is over 90% true for data we do have. We will fill null values in the same percentages."
   ]
  },
  {
   "cell_type": "code",
   "execution_count": 16,
   "id": "132159f9",
   "metadata": {
    "ExecuteTime": {
     "end_time": "2022-01-26T19:56:11.234864Z",
     "start_time": "2022-01-26T19:56:11.205942Z"
    },
    "hidden": true
   },
   "outputs": [],
   "source": [
    "raw_df['public_meeting'] = raw_df['public_meeting'].fillna(\n",
    "    pd.Series(np.random.choice([True, False],\n",
    "                               p=list(meeting_distribution),\n",
    "                               size=len(raw_df))))"
   ]
  },
  {
   "cell_type": "markdown",
   "id": "32c5affc",
   "metadata": {
    "hidden": true
   },
   "source": [
    "## funder & installer"
   ]
  },
  {
   "cell_type": "markdown",
   "id": "b7c396de",
   "metadata": {
    "hidden": true
   },
   "source": [
    "The features 'funder' and 'installer' have almost the same number of null values; I am curious about the overlap of nulls."
   ]
  },
  {
   "cell_type": "code",
   "execution_count": 17,
   "id": "81cec924",
   "metadata": {
    "ExecuteTime": {
     "end_time": "2022-01-26T19:56:11.265781Z",
     "start_time": "2022-01-26T19:56:11.236859Z"
    },
    "hidden": true
   },
   "outputs": [
    {
     "data": {
      "text/plain": [
       "0.9854195323246218"
      ]
     },
     "execution_count": 17,
     "metadata": {},
     "output_type": "execute_result"
    }
   ],
   "source": [
    "# dividing the number of entries with null for both features by the smaller count\n",
    "len(raw_df[raw_df.funder.isnull() & raw_df.installer.isnull()]) / null_checks.null_count['funder']"
   ]
  },
  {
   "cell_type": "markdown",
   "id": "df890875",
   "metadata": {
    "hidden": true
   },
   "source": [
    "Over 98% of the null values for funder also contain null values for installer.\n",
    "________"
   ]
  },
  {
   "cell_type": "code",
   "execution_count": 18,
   "id": "6e9ec152",
   "metadata": {
    "ExecuteTime": {
     "end_time": "2022-01-26T19:56:11.297696Z",
     "start_time": "2022-01-26T19:56:11.267776Z"
    },
    "hidden": true
   },
   "outputs": [
    {
     "data": {
      "text/html": [
       "<div>\n",
       "<style scoped>\n",
       "    .dataframe tbody tr th:only-of-type {\n",
       "        vertical-align: middle;\n",
       "    }\n",
       "\n",
       "    .dataframe tbody tr th {\n",
       "        vertical-align: top;\n",
       "    }\n",
       "\n",
       "    .dataframe thead th {\n",
       "        text-align: right;\n",
       "    }\n",
       "</style>\n",
       "<table border=\"1\" class=\"dataframe\">\n",
       "  <thead>\n",
       "    <tr style=\"text-align: right;\">\n",
       "      <th></th>\n",
       "      <th>funder</th>\n",
       "    </tr>\n",
       "  </thead>\n",
       "  <tbody>\n",
       "    <tr>\n",
       "      <th>Government Of Tanzania</th>\n",
       "      <td>15.29</td>\n",
       "    </tr>\n",
       "    <tr>\n",
       "      <th>NaN</th>\n",
       "      <td>6.12</td>\n",
       "    </tr>\n",
       "    <tr>\n",
       "      <th>Danida</th>\n",
       "      <td>5.24</td>\n",
       "    </tr>\n",
       "    <tr>\n",
       "      <th>Hesawa</th>\n",
       "      <td>3.71</td>\n",
       "    </tr>\n",
       "    <tr>\n",
       "      <th>Rwssp</th>\n",
       "      <td>2.31</td>\n",
       "    </tr>\n",
       "    <tr>\n",
       "      <th>...</th>\n",
       "      <td>...</td>\n",
       "    </tr>\n",
       "    <tr>\n",
       "      <th>Rarymond Ekura</th>\n",
       "      <td>0.00</td>\n",
       "    </tr>\n",
       "    <tr>\n",
       "      <th>Justine Marwa</th>\n",
       "      <td>0.00</td>\n",
       "    </tr>\n",
       "    <tr>\n",
       "      <th>Municipal Council</th>\n",
       "      <td>0.00</td>\n",
       "    </tr>\n",
       "    <tr>\n",
       "      <th>Afdp</th>\n",
       "      <td>0.00</td>\n",
       "    </tr>\n",
       "    <tr>\n",
       "      <th>Samlo</th>\n",
       "      <td>0.00</td>\n",
       "    </tr>\n",
       "  </tbody>\n",
       "</table>\n",
       "<p>1898 rows × 1 columns</p>\n",
       "</div>"
      ],
      "text/plain": [
       "                        funder\n",
       "Government Of Tanzania   15.29\n",
       "NaN                       6.12\n",
       "Danida                    5.24\n",
       "Hesawa                    3.71\n",
       "Rwssp                     2.31\n",
       "...                        ...\n",
       "Rarymond Ekura            0.00\n",
       "Justine Marwa             0.00\n",
       "Municipal Council         0.00\n",
       "Afdp                      0.00\n",
       "Samlo                     0.00\n",
       "\n",
       "[1898 rows x 1 columns]"
      ]
     },
     "execution_count": 18,
     "metadata": {},
     "output_type": "execute_result"
    }
   ],
   "source": [
    "funder_df = pd.DataFrame(round(raw_df.funder.value_counts(normalize=True, dropna=False) * 100, 2))\n",
    "funder_df"
   ]
  },
  {
   "cell_type": "code",
   "execution_count": 19,
   "id": "9765e632",
   "metadata": {
    "ExecuteTime": {
     "end_time": "2022-01-26T19:56:11.313654Z",
     "start_time": "2022-01-26T19:56:11.299692Z"
    },
    "hidden": true
   },
   "outputs": [
    {
     "name": "stdout",
     "output_type": "stream",
     "text": [
      "Funders with more than 1% share: 18\n",
      "Percent of total funders represented by above: funder    52.69\n",
      "dtype: float64\n"
     ]
    }
   ],
   "source": [
    "funder_df_top = funder_df[funder_df.funder > 1.0]\n",
    "print(f\"Funders with more than 1% share: {len(funder_df_top)}\")\n",
    "print(f\"Percent of total funders represented by above: {funder_df_top.sum()}\")"
   ]
  },
  {
   "cell_type": "markdown",
   "id": "6d8d0aec",
   "metadata": {
    "hidden": true
   },
   "source": [
    "Including null values, there were 1,898 distinct values for funder. Of that, 18 values (including null) have representative counts more than 1% of total data.\n",
    "\n",
    "Those 18 distinct values represent almost 53% of our total data. We will convert null values to 'Other'. There are still lots of unique values, so something to consider is converting all funders with less than 1% total share as 'Other' to reduce the unique value count."
   ]
  },
  {
   "cell_type": "code",
   "execution_count": 20,
   "id": "f463a7dc",
   "metadata": {
    "ExecuteTime": {
     "end_time": "2022-01-26T19:56:11.345568Z",
     "start_time": "2022-01-26T19:56:11.316646Z"
    },
    "hidden": true
   },
   "outputs": [
    {
     "data": {
      "text/html": [
       "<div>\n",
       "<style scoped>\n",
       "    .dataframe tbody tr th:only-of-type {\n",
       "        vertical-align: middle;\n",
       "    }\n",
       "\n",
       "    .dataframe tbody tr th {\n",
       "        vertical-align: top;\n",
       "    }\n",
       "\n",
       "    .dataframe thead th {\n",
       "        text-align: right;\n",
       "    }\n",
       "</style>\n",
       "<table border=\"1\" class=\"dataframe\">\n",
       "  <thead>\n",
       "    <tr style=\"text-align: right;\">\n",
       "      <th></th>\n",
       "      <th>installer</th>\n",
       "    </tr>\n",
       "  </thead>\n",
       "  <tbody>\n",
       "    <tr>\n",
       "      <th>DWE</th>\n",
       "      <td>29.30</td>\n",
       "    </tr>\n",
       "    <tr>\n",
       "      <th>NaN</th>\n",
       "      <td>6.15</td>\n",
       "    </tr>\n",
       "    <tr>\n",
       "      <th>Government</th>\n",
       "      <td>3.07</td>\n",
       "    </tr>\n",
       "    <tr>\n",
       "      <th>RWE</th>\n",
       "      <td>2.03</td>\n",
       "    </tr>\n",
       "    <tr>\n",
       "      <th>Commu</th>\n",
       "      <td>1.78</td>\n",
       "    </tr>\n",
       "    <tr>\n",
       "      <th>...</th>\n",
       "      <td>...</td>\n",
       "    </tr>\n",
       "    <tr>\n",
       "      <th>Wizara  ya maji</th>\n",
       "      <td>0.00</td>\n",
       "    </tr>\n",
       "    <tr>\n",
       "      <th>TWESS</th>\n",
       "      <td>0.00</td>\n",
       "    </tr>\n",
       "    <tr>\n",
       "      <th>Nasan workers</th>\n",
       "      <td>0.00</td>\n",
       "    </tr>\n",
       "    <tr>\n",
       "      <th>R</th>\n",
       "      <td>0.00</td>\n",
       "    </tr>\n",
       "    <tr>\n",
       "      <th>SELEPTA</th>\n",
       "      <td>0.00</td>\n",
       "    </tr>\n",
       "  </tbody>\n",
       "</table>\n",
       "<p>2146 rows × 1 columns</p>\n",
       "</div>"
      ],
      "text/plain": [
       "                 installer\n",
       "DWE                  29.30\n",
       "NaN                   6.15\n",
       "Government            3.07\n",
       "RWE                   2.03\n",
       "Commu                 1.78\n",
       "...                    ...\n",
       "Wizara  ya maji       0.00\n",
       "TWESS                 0.00\n",
       "Nasan workers         0.00\n",
       "R                     0.00\n",
       "SELEPTA               0.00\n",
       "\n",
       "[2146 rows x 1 columns]"
      ]
     },
     "execution_count": 20,
     "metadata": {},
     "output_type": "execute_result"
    }
   ],
   "source": [
    "installer_df = pd.DataFrame(round(raw_df.installer.value_counts(normalize=True, dropna=False) * 100, 2))\n",
    "installer_df"
   ]
  },
  {
   "cell_type": "code",
   "execution_count": 21,
   "id": "66211b0c",
   "metadata": {
    "ExecuteTime": {
     "end_time": "2022-01-26T19:56:11.361526Z",
     "start_time": "2022-01-26T19:56:11.347563Z"
    },
    "hidden": true
   },
   "outputs": [
    {
     "name": "stdout",
     "output_type": "stream",
     "text": [
      "Installers with more than 1% share: 12\n",
      "Percent of total installers represented by above: installer    51.6\n",
      "dtype: float64\n"
     ]
    }
   ],
   "source": [
    "installer_df_top = installer_df[installer_df.installer > 1.0]\n",
    "print(f\"Installers with more than 1% share: {len(installer_df_top)}\")\n",
    "print(f\"Percent of total installers represented by above: {installer_df_top.sum()}\")"
   ]
  },
  {
   "cell_type": "markdown",
   "id": "ff3fb340",
   "metadata": {
    "hidden": true
   },
   "source": [
    "Similarly to funder, the installer feature is dominated by small share installers. Of the 2,146 distinct values for installer, 12 values (including null) have representative counts more than 1% of total data.\n",
    "\n",
    "Those 12 distinct values represent almost 52% of our total data. This is similar to the funder feature. We will also convert null values to 'Other', and will consider converting all installers with less than 1% total share of installer as 'Other' to reduce the unique value count. "
   ]
  },
  {
   "cell_type": "code",
   "execution_count": 22,
   "id": "8a0ed645",
   "metadata": {
    "ExecuteTime": {
     "end_time": "2022-01-26T19:56:11.377483Z",
     "start_time": "2022-01-26T19:56:11.362524Z"
    },
    "hidden": true
   },
   "outputs": [],
   "source": [
    "raw_df['funder'].fillna(value='Other', inplace=True)\n",
    "raw_df['installer'].fillna(value='Other', inplace=True)"
   ]
  },
  {
   "cell_type": "markdown",
   "id": "524b6190",
   "metadata": {
    "heading_collapsed": true,
    "hidden": true
   },
   "source": [
    "## scheme_management"
   ]
  },
  {
   "cell_type": "code",
   "execution_count": 23,
   "id": "82cd1b09",
   "metadata": {
    "ExecuteTime": {
     "end_time": "2022-01-26T19:56:11.409399Z",
     "start_time": "2022-01-26T19:56:11.379478Z"
    },
    "hidden": true
   },
   "outputs": [
    {
     "data": {
      "text/plain": [
       "functional                 48.31\n",
       "non functional             45.94\n",
       "functional needs repair     5.75\n",
       "Name: status_group, dtype: float64"
      ]
     },
     "execution_count": 23,
     "metadata": {},
     "output_type": "execute_result"
    }
   ],
   "source": [
    "scheme_management_nans = raw_df[raw_df.scheme_management.isnull()]\n",
    "scheme_management_nans.reset_index(drop=True, inplace=True)\n",
    "round(scheme_management_nans.status_group.value_counts(normalize=True) * 100, 2)"
   ]
  },
  {
   "cell_type": "code",
   "execution_count": 24,
   "id": "d221c829",
   "metadata": {
    "ExecuteTime": {
     "end_time": "2022-01-26T19:56:11.425356Z",
     "start_time": "2022-01-26T19:56:11.410396Z"
    },
    "hidden": true
   },
   "outputs": [
    {
     "data": {
      "text/plain": [
       "VWC                 0.619411\n",
       "WUG                 0.087643\n",
       "NaN                 0.065269\n",
       "Water authority     0.053081\n",
       "WUA                 0.048535\n",
       "Water Board         0.046263\n",
       "Parastatal          0.028283\n",
       "Private operator    0.017896\n",
       "Company             0.017862\n",
       "Other               0.012896\n",
       "SWC                 0.001633\n",
       "Trust               0.001212\n",
       "None                0.000017\n",
       "Name: scheme_management, dtype: float64"
      ]
     },
     "execution_count": 24,
     "metadata": {},
     "output_type": "execute_result"
    }
   ],
   "source": [
    "raw_df.scheme_management.value_counts(normalize=True, dropna=False)"
   ]
  },
  {
   "cell_type": "markdown",
   "id": "4e9769e6",
   "metadata": {
    "hidden": true
   },
   "source": [
    "6.5% of our data has no value for scheme_management. Distribution of the target data is approximately the same as the whole dataset.\n",
    "_________\n",
    "There was only one entry with the value of 'None', we will change that to 'Other'"
   ]
  },
  {
   "cell_type": "code",
   "execution_count": 25,
   "id": "ffc5b98f",
   "metadata": {
    "ExecuteTime": {
     "end_time": "2022-01-26T19:56:11.441313Z",
     "start_time": "2022-01-26T19:56:11.427351Z"
    },
    "hidden": true
   },
   "outputs": [],
   "source": [
    "raw_df.at[23603, 'scheme_management'] = 'Other'"
   ]
  },
  {
   "cell_type": "markdown",
   "id": "e69fae7a",
   "metadata": {
    "hidden": true
   },
   "source": [
    "We will fill null values for scheme_management randomly with other values from the feature in the same percentage."
   ]
  },
  {
   "cell_type": "code",
   "execution_count": 26,
   "id": "e73cc0a7",
   "metadata": {
    "ExecuteTime": {
     "end_time": "2022-01-26T19:56:11.457271Z",
     "start_time": "2022-01-26T19:56:11.443308Z"
    },
    "hidden": true
   },
   "outputs": [
    {
     "data": {
      "text/html": [
       "<div>\n",
       "<style scoped>\n",
       "    .dataframe tbody tr th:only-of-type {\n",
       "        vertical-align: middle;\n",
       "    }\n",
       "\n",
       "    .dataframe tbody tr th {\n",
       "        vertical-align: top;\n",
       "    }\n",
       "\n",
       "    .dataframe thead th {\n",
       "        text-align: right;\n",
       "    }\n",
       "</style>\n",
       "<table border=\"1\" class=\"dataframe\">\n",
       "  <thead>\n",
       "    <tr style=\"text-align: right;\">\n",
       "      <th></th>\n",
       "      <th>scheme_management</th>\n",
       "    </tr>\n",
       "  </thead>\n",
       "  <tbody>\n",
       "    <tr>\n",
       "      <th>VWC</th>\n",
       "      <td>0.662662</td>\n",
       "    </tr>\n",
       "    <tr>\n",
       "      <th>WUG</th>\n",
       "      <td>0.093763</td>\n",
       "    </tr>\n",
       "    <tr>\n",
       "      <th>Water authority</th>\n",
       "      <td>0.056787</td>\n",
       "    </tr>\n",
       "    <tr>\n",
       "      <th>WUA</th>\n",
       "      <td>0.051924</td>\n",
       "    </tr>\n",
       "    <tr>\n",
       "      <th>Water Board</th>\n",
       "      <td>0.049493</td>\n",
       "    </tr>\n",
       "    <tr>\n",
       "      <th>Parastatal</th>\n",
       "      <td>0.030258</td>\n",
       "    </tr>\n",
       "    <tr>\n",
       "      <th>Private operator</th>\n",
       "      <td>0.019145</td>\n",
       "    </tr>\n",
       "    <tr>\n",
       "      <th>Company</th>\n",
       "      <td>0.019109</td>\n",
       "    </tr>\n",
       "    <tr>\n",
       "      <th>Other</th>\n",
       "      <td>0.013814</td>\n",
       "    </tr>\n",
       "    <tr>\n",
       "      <th>SWC</th>\n",
       "      <td>0.001747</td>\n",
       "    </tr>\n",
       "    <tr>\n",
       "      <th>Trust</th>\n",
       "      <td>0.001297</td>\n",
       "    </tr>\n",
       "  </tbody>\n",
       "</table>\n",
       "</div>"
      ],
      "text/plain": [
       "                  scheme_management\n",
       "VWC                        0.662662\n",
       "WUG                        0.093763\n",
       "Water authority            0.056787\n",
       "WUA                        0.051924\n",
       "Water Board                0.049493\n",
       "Parastatal                 0.030258\n",
       "Private operator           0.019145\n",
       "Company                    0.019109\n",
       "Other                      0.013814\n",
       "SWC                        0.001747\n",
       "Trust                      0.001297"
      ]
     },
     "execution_count": 26,
     "metadata": {},
     "output_type": "execute_result"
    }
   ],
   "source": [
    "scheme_management_list = pd.DataFrame(raw_df.scheme_management.value_counts(normalize=True))\n",
    "scheme_management_list"
   ]
  },
  {
   "cell_type": "code",
   "execution_count": 27,
   "id": "ee012747",
   "metadata": {
    "ExecuteTime": {
     "end_time": "2022-01-26T19:56:11.489186Z",
     "start_time": "2022-01-26T19:56:11.459266Z"
    },
    "hidden": true
   },
   "outputs": [],
   "source": [
    "raw_df['scheme_management'] = raw_df['scheme_management'].fillna(\n",
    "    pd.Series(np.random.choice(list(scheme_management_list.index),\n",
    "                               p=list(scheme_management_list.scheme_management),\n",
    "                               size=len(raw_df))))"
   ]
  },
  {
   "cell_type": "markdown",
   "id": "4f4a652a",
   "metadata": {
    "hidden": true
   },
   "source": [
    "## scheme_name"
   ]
  },
  {
   "cell_type": "code",
   "execution_count": 28,
   "id": "3bd8fdf3",
   "metadata": {
    "ExecuteTime": {
     "end_time": "2022-01-26T19:56:11.521101Z",
     "start_time": "2022-01-26T19:56:11.495171Z"
    },
    "hidden": true
   },
   "outputs": [
    {
     "data": {
      "text/plain": [
       "NaN                        0.474175\n",
       "K                          0.011481\n",
       "None                       0.010842\n",
       "Borehole                   0.009192\n",
       "Chalinze wate              0.006818\n",
       "                             ...   \n",
       "Visiga water supplly       0.000017\n",
       "Emanyata pipelines         0.000017\n",
       "Magundi water supply       0.000017\n",
       "Imalampaka water supply    0.000017\n",
       "Mtawanya                   0.000017\n",
       "Name: scheme_name, Length: 2697, dtype: float64"
      ]
     },
     "execution_count": 28,
     "metadata": {},
     "output_type": "execute_result"
    }
   ],
   "source": [
    "raw_df.scheme_name.value_counts(normalize=True, dropna=False)"
   ]
  },
  {
   "cell_type": "markdown",
   "id": "c012e91c",
   "metadata": {
    "hidden": true
   },
   "source": [
    "Almost half (47%) of the scheme_name feature contains no data, and the remaining data contains 2,697 distinct other features, none of which exceed 1% of the dataset. Lets look a little closer to see what else we can figure out."
   ]
  },
  {
   "cell_type": "code",
   "execution_count": 29,
   "id": "3aece90d",
   "metadata": {
    "ExecuteTime": {
     "end_time": "2022-01-26T19:56:11.553015Z",
     "start_time": "2022-01-26T19:56:11.523096Z"
    },
    "hidden": true,
    "scrolled": true
   },
   "outputs": [
    {
     "data": {
      "text/html": [
       "<div>\n",
       "<style scoped>\n",
       "    .dataframe tbody tr th:only-of-type {\n",
       "        vertical-align: middle;\n",
       "    }\n",
       "\n",
       "    .dataframe tbody tr th {\n",
       "        vertical-align: top;\n",
       "    }\n",
       "\n",
       "    .dataframe thead th {\n",
       "        text-align: right;\n",
       "    }\n",
       "</style>\n",
       "<table border=\"1\" class=\"dataframe\">\n",
       "  <thead>\n",
       "    <tr style=\"text-align: right;\">\n",
       "      <th></th>\n",
       "      <th>scheme_name</th>\n",
       "    </tr>\n",
       "  </thead>\n",
       "  <tbody>\n",
       "    <tr>\n",
       "      <th>NaN</th>\n",
       "      <td>28166</td>\n",
       "    </tr>\n",
       "    <tr>\n",
       "      <th>K</th>\n",
       "      <td>682</td>\n",
       "    </tr>\n",
       "    <tr>\n",
       "      <th>None</th>\n",
       "      <td>644</td>\n",
       "    </tr>\n",
       "    <tr>\n",
       "      <th>Borehole</th>\n",
       "      <td>546</td>\n",
       "    </tr>\n",
       "    <tr>\n",
       "      <th>Chalinze wate</th>\n",
       "      <td>405</td>\n",
       "    </tr>\n",
       "    <tr>\n",
       "      <th>M</th>\n",
       "      <td>400</td>\n",
       "    </tr>\n",
       "    <tr>\n",
       "      <th>DANIDA</th>\n",
       "      <td>379</td>\n",
       "    </tr>\n",
       "    <tr>\n",
       "      <th>Government</th>\n",
       "      <td>320</td>\n",
       "    </tr>\n",
       "    <tr>\n",
       "      <th>Ngana water supplied scheme</th>\n",
       "      <td>270</td>\n",
       "    </tr>\n",
       "    <tr>\n",
       "      <th>wanging'ombe water supply s</th>\n",
       "      <td>261</td>\n",
       "    </tr>\n",
       "    <tr>\n",
       "      <th>wanging'ombe supply scheme</th>\n",
       "      <td>234</td>\n",
       "    </tr>\n",
       "    <tr>\n",
       "      <th>I</th>\n",
       "      <td>229</td>\n",
       "    </tr>\n",
       "    <tr>\n",
       "      <th>Bagamoyo wate</th>\n",
       "      <td>229</td>\n",
       "    </tr>\n",
       "    <tr>\n",
       "      <th>Uroki-Bomang'ombe water sup</th>\n",
       "      <td>209</td>\n",
       "    </tr>\n",
       "    <tr>\n",
       "      <th>N</th>\n",
       "      <td>204</td>\n",
       "    </tr>\n",
       "    <tr>\n",
       "      <th>Kirua kahe gravity water supply trust</th>\n",
       "      <td>193</td>\n",
       "    </tr>\n",
       "    <tr>\n",
       "      <th>Machumba estate pipe line</th>\n",
       "      <td>185</td>\n",
       "    </tr>\n",
       "    <tr>\n",
       "      <th>Makwale water supplied sche</th>\n",
       "      <td>166</td>\n",
       "    </tr>\n",
       "    <tr>\n",
       "      <th>Kijiji</th>\n",
       "      <td>161</td>\n",
       "    </tr>\n",
       "    <tr>\n",
       "      <th>S</th>\n",
       "      <td>154</td>\n",
       "    </tr>\n",
       "    <tr>\n",
       "      <th>Handeni Trunk Main(H</th>\n",
       "      <td>152</td>\n",
       "    </tr>\n",
       "    <tr>\n",
       "      <th>mtwango water supply scheme</th>\n",
       "      <td>152</td>\n",
       "    </tr>\n",
       "    <tr>\n",
       "      <th>Losaa-Kia water supply</th>\n",
       "      <td>152</td>\n",
       "    </tr>\n",
       "    <tr>\n",
       "      <th>Mkongoro Two</th>\n",
       "      <td>147</td>\n",
       "    </tr>\n",
       "    <tr>\n",
       "      <th>Roman</th>\n",
       "      <td>139</td>\n",
       "    </tr>\n",
       "    <tr>\n",
       "      <th>Mkongoro One</th>\n",
       "      <td>128</td>\n",
       "    </tr>\n",
       "    <tr>\n",
       "      <th>Maambreni gravity water supply</th>\n",
       "      <td>125</td>\n",
       "    </tr>\n",
       "    <tr>\n",
       "      <th>Lyamungo umbwe water supply</th>\n",
       "      <td>120</td>\n",
       "    </tr>\n",
       "    <tr>\n",
       "      <th>Kirua kahe pumping water trust</th>\n",
       "      <td>113</td>\n",
       "    </tr>\n",
       "    <tr>\n",
       "      <th>Nabaiye pipe line</th>\n",
       "      <td>107</td>\n",
       "    </tr>\n",
       "    <tr>\n",
       "      <th>Ki</th>\n",
       "      <td>107</td>\n",
       "    </tr>\n",
       "    <tr>\n",
       "      <th>Nasula gravity water supply</th>\n",
       "      <td>102</td>\n",
       "    </tr>\n",
       "    <tr>\n",
       "      <th>Sinyanga water supplied sch</th>\n",
       "      <td>100</td>\n",
       "    </tr>\n",
       "    <tr>\n",
       "      <th>Lyamungo-Umbwe water supply</th>\n",
       "      <td>92</td>\n",
       "    </tr>\n",
       "    <tr>\n",
       "      <th>upper Ruvu</th>\n",
       "      <td>91</td>\n",
       "    </tr>\n",
       "    <tr>\n",
       "      <th>Ikela Wa</th>\n",
       "      <td>90</td>\n",
       "    </tr>\n",
       "    <tr>\n",
       "      <th>Shallow well</th>\n",
       "      <td>89</td>\n",
       "    </tr>\n",
       "    <tr>\n",
       "      <th>Kidia kilemapunda</th>\n",
       "      <td>86</td>\n",
       "    </tr>\n",
       "    <tr>\n",
       "      <th>Mitema</th>\n",
       "      <td>86</td>\n",
       "    </tr>\n",
       "    <tr>\n",
       "      <th>imalinyi supply scheme</th>\n",
       "      <td>85</td>\n",
       "    </tr>\n",
       "    <tr>\n",
       "      <th>Mradi wa maji wa wino</th>\n",
       "      <td>84</td>\n",
       "    </tr>\n",
       "    <tr>\n",
       "      <th>Una mkolowoni</th>\n",
       "      <td>79</td>\n",
       "    </tr>\n",
       "    <tr>\n",
       "      <th>Olkokola pipe line</th>\n",
       "      <td>79</td>\n",
       "    </tr>\n",
       "    <tr>\n",
       "      <th>D</th>\n",
       "      <td>78</td>\n",
       "    </tr>\n",
       "    <tr>\n",
       "      <th>Mradi wa maji wa peramiho</th>\n",
       "      <td>78</td>\n",
       "    </tr>\n",
       "    <tr>\n",
       "      <th>Sinyanga  water supplied sc</th>\n",
       "      <td>77</td>\n",
       "    </tr>\n",
       "  </tbody>\n",
       "</table>\n",
       "</div>"
      ],
      "text/plain": [
       "                                       scheme_name\n",
       "NaN                                          28166\n",
       "K                                              682\n",
       "None                                           644\n",
       "Borehole                                       546\n",
       "Chalinze wate                                  405\n",
       "M                                              400\n",
       "DANIDA                                         379\n",
       "Government                                     320\n",
       "Ngana water supplied scheme                    270\n",
       "wanging'ombe water supply s                    261\n",
       "wanging'ombe supply scheme                     234\n",
       "I                                              229\n",
       "Bagamoyo wate                                  229\n",
       "Uroki-Bomang'ombe water sup                    209\n",
       "N                                              204\n",
       "Kirua kahe gravity water supply trust          193\n",
       "Machumba estate pipe line                      185\n",
       "Makwale water supplied sche                    166\n",
       "Kijiji                                         161\n",
       "S                                              154\n",
       "Handeni Trunk Main(H                           152\n",
       "mtwango water supply scheme                    152\n",
       "Losaa-Kia water supply                         152\n",
       "Mkongoro Two                                   147\n",
       "Roman                                          139\n",
       "Mkongoro One                                   128\n",
       "Maambreni gravity water supply                 125\n",
       "Lyamungo umbwe water supply                    120\n",
       "Kirua kahe pumping water trust                 113\n",
       "Nabaiye pipe line                              107\n",
       "Ki                                             107\n",
       "Nasula gravity water supply                    102\n",
       "Sinyanga water supplied sch                    100\n",
       "Lyamungo-Umbwe water supply                     92\n",
       "upper Ruvu                                      91\n",
       "Ikela Wa                                        90\n",
       "Shallow well                                    89\n",
       "Kidia kilemapunda                               86\n",
       "Mitema                                          86\n",
       "imalinyi supply scheme                          85\n",
       "Mradi wa maji wa wino                           84\n",
       "Una mkolowoni                                   79\n",
       "Olkokola pipe line                              79\n",
       "D                                               78\n",
       "Mradi wa maji wa peramiho                       78\n",
       "Sinyanga  water supplied sc                     77"
      ]
     },
     "execution_count": 29,
     "metadata": {},
     "output_type": "execute_result"
    }
   ],
   "source": [
    "scheme_name = pd.DataFrame(raw_df.scheme_name.value_counts(dropna=False))\n",
    "scheme_name[scheme_name.scheme_name > 75]"
   ]
  },
  {
   "cell_type": "markdown",
   "id": "3d492eaa",
   "metadata": {
    "hidden": true
   },
   "source": [
    "The scheme name, per the documentation, is the individual or group that actually operates the waterpoint. This is compared to the scheme management company, which oversees operation. When the data was collected, it looks like there was little organization with respect to this particular datapoint. Considering the there are no other patterns in the available names, and that we have the management data, we will likely not use this feature in modeling.\n",
    "_____\n",
    "We will replace null values with 'None'"
   ]
  },
  {
   "cell_type": "code",
   "execution_count": 30,
   "id": "0b460410",
   "metadata": {
    "ExecuteTime": {
     "end_time": "2022-01-26T19:56:11.568973Z",
     "start_time": "2022-01-26T19:56:11.555011Z"
    },
    "hidden": true
   },
   "outputs": [],
   "source": [
    "raw_df['scheme_name'].fillna(value='None', inplace=True)"
   ]
  },
  {
   "cell_type": "markdown",
   "id": "24a0dd36",
   "metadata": {},
   "source": [
    "# Exploring numerical data"
   ]
  },
  {
   "cell_type": "markdown",
   "id": "d5f095c1",
   "metadata": {},
   "source": [
    "Creating a dataframe of just the current numerical features as well as the target. Mapping numerical values to the target: 'non functional' = 0, 'functional needs repair' = 1, and 'functional' = 2."
   ]
  },
  {
   "cell_type": "code",
   "execution_count": 31,
   "id": "151183e6",
   "metadata": {
    "ExecuteTime": {
     "end_time": "2022-01-26T19:56:11.696632Z",
     "start_time": "2022-01-26T19:56:11.570968Z"
    }
   },
   "outputs": [
    {
     "data": {
      "text/html": [
       "<div>\n",
       "<style scoped>\n",
       "    .dataframe tbody tr th:only-of-type {\n",
       "        vertical-align: middle;\n",
       "    }\n",
       "\n",
       "    .dataframe tbody tr th {\n",
       "        vertical-align: top;\n",
       "    }\n",
       "\n",
       "    .dataframe thead th {\n",
       "        text-align: right;\n",
       "    }\n",
       "</style>\n",
       "<table border=\"1\" class=\"dataframe\">\n",
       "  <thead>\n",
       "    <tr style=\"text-align: right;\">\n",
       "      <th></th>\n",
       "      <th>id</th>\n",
       "      <th>amount_tsh</th>\n",
       "      <th>gps_height</th>\n",
       "      <th>longitude</th>\n",
       "      <th>latitude</th>\n",
       "      <th>num_private</th>\n",
       "      <th>region_code</th>\n",
       "      <th>district_code</th>\n",
       "      <th>population</th>\n",
       "      <th>construction_year</th>\n",
       "      <th>target</th>\n",
       "    </tr>\n",
       "  </thead>\n",
       "  <tbody>\n",
       "    <tr>\n",
       "      <th>count</th>\n",
       "      <td>59400.000000</td>\n",
       "      <td>59400.000000</td>\n",
       "      <td>59400.000000</td>\n",
       "      <td>59400.000000</td>\n",
       "      <td>5.940000e+04</td>\n",
       "      <td>59400.000000</td>\n",
       "      <td>59400.000000</td>\n",
       "      <td>59400.000000</td>\n",
       "      <td>59400.000000</td>\n",
       "      <td>59400.000000</td>\n",
       "      <td>59400.000000</td>\n",
       "    </tr>\n",
       "    <tr>\n",
       "      <th>mean</th>\n",
       "      <td>37115.131768</td>\n",
       "      <td>317.650385</td>\n",
       "      <td>668.297239</td>\n",
       "      <td>34.077427</td>\n",
       "      <td>-5.706033e+00</td>\n",
       "      <td>0.474141</td>\n",
       "      <td>15.297003</td>\n",
       "      <td>5.629747</td>\n",
       "      <td>179.909983</td>\n",
       "      <td>1300.652475</td>\n",
       "      <td>1.158838</td>\n",
       "    </tr>\n",
       "    <tr>\n",
       "      <th>std</th>\n",
       "      <td>21453.128371</td>\n",
       "      <td>2997.574558</td>\n",
       "      <td>693.116350</td>\n",
       "      <td>6.567432</td>\n",
       "      <td>2.946019e+00</td>\n",
       "      <td>12.236230</td>\n",
       "      <td>17.587406</td>\n",
       "      <td>9.633649</td>\n",
       "      <td>471.482176</td>\n",
       "      <td>951.620547</td>\n",
       "      <td>0.949794</td>\n",
       "    </tr>\n",
       "    <tr>\n",
       "      <th>min</th>\n",
       "      <td>0.000000</td>\n",
       "      <td>0.000000</td>\n",
       "      <td>-90.000000</td>\n",
       "      <td>0.000000</td>\n",
       "      <td>-1.164944e+01</td>\n",
       "      <td>0.000000</td>\n",
       "      <td>1.000000</td>\n",
       "      <td>0.000000</td>\n",
       "      <td>0.000000</td>\n",
       "      <td>0.000000</td>\n",
       "      <td>0.000000</td>\n",
       "    </tr>\n",
       "    <tr>\n",
       "      <th>25%</th>\n",
       "      <td>18519.750000</td>\n",
       "      <td>0.000000</td>\n",
       "      <td>0.000000</td>\n",
       "      <td>33.090347</td>\n",
       "      <td>-8.540621e+00</td>\n",
       "      <td>0.000000</td>\n",
       "      <td>5.000000</td>\n",
       "      <td>2.000000</td>\n",
       "      <td>0.000000</td>\n",
       "      <td>0.000000</td>\n",
       "      <td>0.000000</td>\n",
       "    </tr>\n",
       "    <tr>\n",
       "      <th>50%</th>\n",
       "      <td>37061.500000</td>\n",
       "      <td>0.000000</td>\n",
       "      <td>369.000000</td>\n",
       "      <td>34.908743</td>\n",
       "      <td>-5.021597e+00</td>\n",
       "      <td>0.000000</td>\n",
       "      <td>12.000000</td>\n",
       "      <td>3.000000</td>\n",
       "      <td>25.000000</td>\n",
       "      <td>1986.000000</td>\n",
       "      <td>2.000000</td>\n",
       "    </tr>\n",
       "    <tr>\n",
       "      <th>75%</th>\n",
       "      <td>55656.500000</td>\n",
       "      <td>20.000000</td>\n",
       "      <td>1319.250000</td>\n",
       "      <td>37.178387</td>\n",
       "      <td>-3.326156e+00</td>\n",
       "      <td>0.000000</td>\n",
       "      <td>17.000000</td>\n",
       "      <td>5.000000</td>\n",
       "      <td>215.000000</td>\n",
       "      <td>2004.000000</td>\n",
       "      <td>2.000000</td>\n",
       "    </tr>\n",
       "    <tr>\n",
       "      <th>max</th>\n",
       "      <td>74247.000000</td>\n",
       "      <td>350000.000000</td>\n",
       "      <td>2770.000000</td>\n",
       "      <td>40.345193</td>\n",
       "      <td>-2.000000e-08</td>\n",
       "      <td>1776.000000</td>\n",
       "      <td>99.000000</td>\n",
       "      <td>80.000000</td>\n",
       "      <td>30500.000000</td>\n",
       "      <td>2013.000000</td>\n",
       "      <td>2.000000</td>\n",
       "    </tr>\n",
       "  </tbody>\n",
       "</table>\n",
       "</div>"
      ],
      "text/plain": [
       "                 id     amount_tsh    gps_height     longitude      latitude  \\\n",
       "count  59400.000000   59400.000000  59400.000000  59400.000000  5.940000e+04   \n",
       "mean   37115.131768     317.650385    668.297239     34.077427 -5.706033e+00   \n",
       "std    21453.128371    2997.574558    693.116350      6.567432  2.946019e+00   \n",
       "min        0.000000       0.000000    -90.000000      0.000000 -1.164944e+01   \n",
       "25%    18519.750000       0.000000      0.000000     33.090347 -8.540621e+00   \n",
       "50%    37061.500000       0.000000    369.000000     34.908743 -5.021597e+00   \n",
       "75%    55656.500000      20.000000   1319.250000     37.178387 -3.326156e+00   \n",
       "max    74247.000000  350000.000000   2770.000000     40.345193 -2.000000e-08   \n",
       "\n",
       "        num_private   region_code  district_code    population  \\\n",
       "count  59400.000000  59400.000000   59400.000000  59400.000000   \n",
       "mean       0.474141     15.297003       5.629747    179.909983   \n",
       "std       12.236230     17.587406       9.633649    471.482176   \n",
       "min        0.000000      1.000000       0.000000      0.000000   \n",
       "25%        0.000000      5.000000       2.000000      0.000000   \n",
       "50%        0.000000     12.000000       3.000000     25.000000   \n",
       "75%        0.000000     17.000000       5.000000    215.000000   \n",
       "max     1776.000000     99.000000      80.000000  30500.000000   \n",
       "\n",
       "       construction_year        target  \n",
       "count       59400.000000  59400.000000  \n",
       "mean         1300.652475      1.158838  \n",
       "std           951.620547      0.949794  \n",
       "min             0.000000      0.000000  \n",
       "25%             0.000000      0.000000  \n",
       "50%          1986.000000      2.000000  \n",
       "75%          2004.000000      2.000000  \n",
       "max          2013.000000      2.000000  "
      ]
     },
     "execution_count": 31,
     "metadata": {},
     "output_type": "execute_result"
    }
   ],
   "source": [
    "num_df = pd.merge(raw_data.select_dtypes(include=np.number), raw_target, on='id')\n",
    "\n",
    "status_dict = {'non functional': 0,\n",
    "              'functional needs repair': 1,\n",
    "              'functional': 2}\n",
    "\n",
    "num_df['target'] = num_df['status_group'].map(lambda x: status_dict[x])\n",
    "num_df.drop('status_group', axis=1, inplace=True)\n",
    "num_df.describe()"
   ]
  },
  {
   "cell_type": "markdown",
   "id": "6c55f4fa",
   "metadata": {},
   "source": [
    "The 'id' feature is a unique identifier, we will leave it in for merge purposes later but will not use it in modeling so no investigation needed.\n",
    "\n",
    "The 'amount_tsh' feature is the total amount of water available to the waterpoint. It looks like at least 50% of our waterpoints do not have any water available, regardless of pump functionality. If we look back, we also see that over 50% of pumps are classified as functional. This is a bit concerning, it's unclear how you can have a functional pump with no water available to pump.\n",
    "\n",
    "'gps_height' is concerning. [Research shows](https://en.wikipedia.org/wiki/Geography_of_Tanzania) that the lowest point in the country is sea level (0), yet we have a minimum of -90, so we will need to investigate that.\n",
    "\n",
    "[Research shows](https://worldpopulationreview.com/countries/tanzania/location) that Tanzania's most extreme latitudes range from 00&deg;59'S (-0.98333) to 11&deg;45'S (-11.75), while the longitude extremes range from 40&deg;29'E (40.48333) to 29&deg;10'E (29.16667)\n",
    "\n",
    "The 'latitude' values seem to exceed the northen border of the country (max latitude -.00000002), so we will need to investigate that. The 'longitude' values minimum is 0, so we have some data that is outside the range of the country borders. It's likely from mistakens in data entry, but we need to investigate the extent and fix it.\n",
    "\n",
    "There is no description of 'num_private' in the datasource, we'll have to look at that. It may not factor into modeling.\n",
    "\n",
    "'region_code' and 'district_code' will need to be investigated separately as well, the documenation is not clear about what that data represents.\n",
    "\n",
    "'construction_year' and 'population' each have minimums of 0, and that should defintely not be the case in construction year. It's possible a waterpoint exists in a place considered to have no population, but we'll need to investigate these further."
   ]
  },
  {
   "cell_type": "markdown",
   "id": "5a92a24d",
   "metadata": {
    "heading_collapsed": true
   },
   "source": [
    "## amount_tsh"
   ]
  },
  {
   "cell_type": "code",
   "execution_count": 32,
   "id": "55a98543",
   "metadata": {
    "ExecuteTime": {
     "end_time": "2022-01-26T19:56:11.711593Z",
     "start_time": "2022-01-26T19:56:11.698627Z"
    },
    "hidden": true
   },
   "outputs": [
    {
     "data": {
      "text/plain": [
       "0.700993265993266"
      ]
     },
     "execution_count": 32,
     "metadata": {},
     "output_type": "execute_result"
    }
   ],
   "source": [
    "len(num_df[num_df.amount_tsh == 0.0]) / len(num_df)"
   ]
  },
  {
   "cell_type": "markdown",
   "id": "41854049",
   "metadata": {
    "hidden": true
   },
   "source": [
    "70% of our datapoints list the amount_tsh as equal to 0.0. This can't mean that the waterpoint has no water available. We need to understand more about what total static head means. [Research shows](https://www.pumpfundamentals.com/tutorial2.htm#:~:text=If%20the%20liquid%20surface%20of,the%20friction%20in%20the%20system.) that a pump system's static head is the difference between the liquid surface of the reservoir and the discharge end of the pump system. The higher the discharge tube is lifted above the liquid surface, the harder is is for the pump to move the water, and the lower the flow rate will be. I would imagine that the requirements of pump location to discharge would impact the type of pump to be used."
   ]
  },
  {
   "cell_type": "code",
   "execution_count": 33,
   "id": "d87aea58",
   "metadata": {
    "ExecuteTime": {
     "end_time": "2022-01-26T19:56:11.743508Z",
     "start_time": "2022-01-26T19:56:11.713588Z"
    },
    "hidden": true,
    "scrolled": false
   },
   "outputs": [
    {
     "data": {
      "text/html": [
       "<div>\n",
       "<style scoped>\n",
       "    .dataframe tbody tr th:only-of-type {\n",
       "        vertical-align: middle;\n",
       "    }\n",
       "\n",
       "    .dataframe tbody tr th {\n",
       "        vertical-align: top;\n",
       "    }\n",
       "\n",
       "    .dataframe thead th {\n",
       "        text-align: right;\n",
       "    }\n",
       "</style>\n",
       "<table border=\"1\" class=\"dataframe\">\n",
       "  <thead>\n",
       "    <tr style=\"text-align: right;\">\n",
       "      <th></th>\n",
       "      <th>amount_tsh</th>\n",
       "    </tr>\n",
       "    <tr>\n",
       "      <th>target</th>\n",
       "      <th></th>\n",
       "    </tr>\n",
       "  </thead>\n",
       "  <tbody>\n",
       "    <tr>\n",
       "      <th>0</th>\n",
       "      <td>123.481230</td>\n",
       "    </tr>\n",
       "    <tr>\n",
       "      <th>1</th>\n",
       "      <td>267.071577</td>\n",
       "    </tr>\n",
       "    <tr>\n",
       "      <th>2</th>\n",
       "      <td>461.798235</td>\n",
       "    </tr>\n",
       "  </tbody>\n",
       "</table>\n",
       "</div>"
      ],
      "text/plain": [
       "        amount_tsh\n",
       "target            \n",
       "0       123.481230\n",
       "1       267.071577\n",
       "2       461.798235"
      ]
     },
     "execution_count": 33,
     "metadata": {},
     "output_type": "execute_result"
    }
   ],
   "source": [
    "num_df.groupby('target').mean()[['amount_tsh']]"
   ]
  },
  {
   "cell_type": "code",
   "execution_count": 34,
   "id": "8378b5af",
   "metadata": {
    "ExecuteTime": {
     "end_time": "2022-01-26T19:56:11.775423Z",
     "start_time": "2022-01-26T19:56:11.744505Z"
    },
    "hidden": true
   },
   "outputs": [
    {
     "data": {
      "text/html": [
       "<div>\n",
       "<style scoped>\n",
       "    .dataframe tbody tr th:only-of-type {\n",
       "        vertical-align: middle;\n",
       "    }\n",
       "\n",
       "    .dataframe tbody tr th {\n",
       "        vertical-align: top;\n",
       "    }\n",
       "\n",
       "    .dataframe thead th {\n",
       "        text-align: right;\n",
       "    }\n",
       "</style>\n",
       "<table border=\"1\" class=\"dataframe\">\n",
       "  <thead>\n",
       "    <tr style=\"text-align: right;\">\n",
       "      <th></th>\n",
       "      <th>id</th>\n",
       "      <th>amount_tsh</th>\n",
       "      <th>gps_height</th>\n",
       "      <th>longitude</th>\n",
       "      <th>latitude</th>\n",
       "      <th>num_private</th>\n",
       "      <th>region_code</th>\n",
       "      <th>district_code</th>\n",
       "      <th>population</th>\n",
       "      <th>construction_year</th>\n",
       "      <th>target</th>\n",
       "    </tr>\n",
       "  </thead>\n",
       "  <tbody>\n",
       "    <tr>\n",
       "      <th>0</th>\n",
       "      <td>69572</td>\n",
       "      <td>6000.0</td>\n",
       "      <td>1390</td>\n",
       "      <td>34.938093</td>\n",
       "      <td>-9.856322</td>\n",
       "      <td>0</td>\n",
       "      <td>11</td>\n",
       "      <td>5</td>\n",
       "      <td>109</td>\n",
       "      <td>1999</td>\n",
       "      <td>2</td>\n",
       "    </tr>\n",
       "    <tr>\n",
       "      <th>2</th>\n",
       "      <td>34310</td>\n",
       "      <td>25.0</td>\n",
       "      <td>686</td>\n",
       "      <td>37.460664</td>\n",
       "      <td>-3.821329</td>\n",
       "      <td>0</td>\n",
       "      <td>21</td>\n",
       "      <td>4</td>\n",
       "      <td>250</td>\n",
       "      <td>2009</td>\n",
       "      <td>2</td>\n",
       "    </tr>\n",
       "    <tr>\n",
       "      <th>5</th>\n",
       "      <td>9944</td>\n",
       "      <td>20.0</td>\n",
       "      <td>0</td>\n",
       "      <td>39.172796</td>\n",
       "      <td>-4.765587</td>\n",
       "      <td>0</td>\n",
       "      <td>4</td>\n",
       "      <td>8</td>\n",
       "      <td>1</td>\n",
       "      <td>2009</td>\n",
       "      <td>2</td>\n",
       "    </tr>\n",
       "    <tr>\n",
       "      <th>11</th>\n",
       "      <td>50409</td>\n",
       "      <td>200.0</td>\n",
       "      <td>1062</td>\n",
       "      <td>35.770258</td>\n",
       "      <td>-10.574175</td>\n",
       "      <td>0</td>\n",
       "      <td>10</td>\n",
       "      <td>5</td>\n",
       "      <td>250</td>\n",
       "      <td>1987</td>\n",
       "      <td>2</td>\n",
       "    </tr>\n",
       "    <tr>\n",
       "      <th>16</th>\n",
       "      <td>48451</td>\n",
       "      <td>500.0</td>\n",
       "      <td>1703</td>\n",
       "      <td>34.642439</td>\n",
       "      <td>-9.106185</td>\n",
       "      <td>0</td>\n",
       "      <td>11</td>\n",
       "      <td>4</td>\n",
       "      <td>35</td>\n",
       "      <td>1978</td>\n",
       "      <td>0</td>\n",
       "    </tr>\n",
       "    <tr>\n",
       "      <th>...</th>\n",
       "      <td>...</td>\n",
       "      <td>...</td>\n",
       "      <td>...</td>\n",
       "      <td>...</td>\n",
       "      <td>...</td>\n",
       "      <td>...</td>\n",
       "      <td>...</td>\n",
       "      <td>...</td>\n",
       "      <td>...</td>\n",
       "      <td>...</td>\n",
       "      <td>...</td>\n",
       "    </tr>\n",
       "    <tr>\n",
       "      <th>59385</th>\n",
       "      <td>34473</td>\n",
       "      <td>500.0</td>\n",
       "      <td>1327</td>\n",
       "      <td>33.951681</td>\n",
       "      <td>-2.021854</td>\n",
       "      <td>0</td>\n",
       "      <td>20</td>\n",
       "      <td>4</td>\n",
       "      <td>200</td>\n",
       "      <td>2011</td>\n",
       "      <td>2</td>\n",
       "    </tr>\n",
       "    <tr>\n",
       "      <th>59387</th>\n",
       "      <td>26640</td>\n",
       "      <td>100.0</td>\n",
       "      <td>25</td>\n",
       "      <td>39.176480</td>\n",
       "      <td>-6.957098</td>\n",
       "      <td>0</td>\n",
       "      <td>7</td>\n",
       "      <td>2</td>\n",
       "      <td>100</td>\n",
       "      <td>2000</td>\n",
       "      <td>2</td>\n",
       "    </tr>\n",
       "    <tr>\n",
       "      <th>59394</th>\n",
       "      <td>11164</td>\n",
       "      <td>500.0</td>\n",
       "      <td>351</td>\n",
       "      <td>37.634053</td>\n",
       "      <td>-6.124830</td>\n",
       "      <td>0</td>\n",
       "      <td>5</td>\n",
       "      <td>6</td>\n",
       "      <td>89</td>\n",
       "      <td>2007</td>\n",
       "      <td>0</td>\n",
       "    </tr>\n",
       "    <tr>\n",
       "      <th>59395</th>\n",
       "      <td>60739</td>\n",
       "      <td>10.0</td>\n",
       "      <td>1210</td>\n",
       "      <td>37.169807</td>\n",
       "      <td>-3.253847</td>\n",
       "      <td>0</td>\n",
       "      <td>3</td>\n",
       "      <td>5</td>\n",
       "      <td>125</td>\n",
       "      <td>1999</td>\n",
       "      <td>2</td>\n",
       "    </tr>\n",
       "    <tr>\n",
       "      <th>59396</th>\n",
       "      <td>27263</td>\n",
       "      <td>4700.0</td>\n",
       "      <td>1212</td>\n",
       "      <td>35.249991</td>\n",
       "      <td>-9.070629</td>\n",
       "      <td>0</td>\n",
       "      <td>11</td>\n",
       "      <td>4</td>\n",
       "      <td>56</td>\n",
       "      <td>1996</td>\n",
       "      <td>2</td>\n",
       "    </tr>\n",
       "  </tbody>\n",
       "</table>\n",
       "<p>17761 rows × 11 columns</p>\n",
       "</div>"
      ],
      "text/plain": [
       "          id  amount_tsh  gps_height  longitude   latitude  num_private  \\\n",
       "0      69572      6000.0        1390  34.938093  -9.856322            0   \n",
       "2      34310        25.0         686  37.460664  -3.821329            0   \n",
       "5       9944        20.0           0  39.172796  -4.765587            0   \n",
       "11     50409       200.0        1062  35.770258 -10.574175            0   \n",
       "16     48451       500.0        1703  34.642439  -9.106185            0   \n",
       "...      ...         ...         ...        ...        ...          ...   \n",
       "59385  34473       500.0        1327  33.951681  -2.021854            0   \n",
       "59387  26640       100.0          25  39.176480  -6.957098            0   \n",
       "59394  11164       500.0         351  37.634053  -6.124830            0   \n",
       "59395  60739        10.0        1210  37.169807  -3.253847            0   \n",
       "59396  27263      4700.0        1212  35.249991  -9.070629            0   \n",
       "\n",
       "       region_code  district_code  population  construction_year  target  \n",
       "0               11              5         109               1999       2  \n",
       "2               21              4         250               2009       2  \n",
       "5                4              8           1               2009       2  \n",
       "11              10              5         250               1987       2  \n",
       "16              11              4          35               1978       0  \n",
       "...            ...            ...         ...                ...     ...  \n",
       "59385           20              4         200               2011       2  \n",
       "59387            7              2         100               2000       2  \n",
       "59394            5              6          89               2007       0  \n",
       "59395            3              5         125               1999       2  \n",
       "59396           11              4          56               1996       2  \n",
       "\n",
       "[17761 rows x 11 columns]"
      ]
     },
     "execution_count": 34,
     "metadata": {},
     "output_type": "execute_result"
    }
   ],
   "source": [
    "num_df[num_df.amount_tsh > 0]"
   ]
  },
  {
   "cell_type": "markdown",
   "id": "84b93c21",
   "metadata": {
    "hidden": true
   },
   "source": [
    "The average total static head increases with each pump status category, from 0 (non function) to 2 (functional). We will have to engineer this feature in some way in order to utilize it. Most of our values are 0, we have none that are below that, and the maximum value is 350,000 feet."
   ]
  },
  {
   "cell_type": "markdown",
   "id": "843e40f5",
   "metadata": {
    "heading_collapsed": true
   },
   "source": [
    "## gps_height"
   ]
  },
  {
   "cell_type": "code",
   "execution_count": 35,
   "id": "a8871337",
   "metadata": {
    "ExecuteTime": {
     "end_time": "2022-01-26T19:56:11.854213Z",
     "start_time": "2022-01-26T19:56:11.779413Z"
    },
    "hidden": true
   },
   "outputs": [
    {
     "name": "stdout",
     "output_type": "stream",
     "text": [
      "Percent of total data: 2.52%\n"
     ]
    },
    {
     "data": {
      "text/html": [
       "<div>\n",
       "<style scoped>\n",
       "    .dataframe tbody tr th:only-of-type {\n",
       "        vertical-align: middle;\n",
       "    }\n",
       "\n",
       "    .dataframe tbody tr th {\n",
       "        vertical-align: top;\n",
       "    }\n",
       "\n",
       "    .dataframe thead th {\n",
       "        text-align: right;\n",
       "    }\n",
       "</style>\n",
       "<table border=\"1\" class=\"dataframe\">\n",
       "  <thead>\n",
       "    <tr style=\"text-align: right;\">\n",
       "      <th></th>\n",
       "      <th>id</th>\n",
       "      <th>amount_tsh</th>\n",
       "      <th>gps_height</th>\n",
       "      <th>longitude</th>\n",
       "      <th>latitude</th>\n",
       "      <th>num_private</th>\n",
       "      <th>region_code</th>\n",
       "      <th>district_code</th>\n",
       "      <th>population</th>\n",
       "      <th>construction_year</th>\n",
       "      <th>target</th>\n",
       "    </tr>\n",
       "  </thead>\n",
       "  <tbody>\n",
       "    <tr>\n",
       "      <th>count</th>\n",
       "      <td>1496.000000</td>\n",
       "      <td>1496.000000</td>\n",
       "      <td>1496.000000</td>\n",
       "      <td>1496.000000</td>\n",
       "      <td>1496.000000</td>\n",
       "      <td>1496.000000</td>\n",
       "      <td>1496.000000</td>\n",
       "      <td>1496.000000</td>\n",
       "      <td>1496.000000</td>\n",
       "      <td>1496.000000</td>\n",
       "      <td>1496.000000</td>\n",
       "    </tr>\n",
       "    <tr>\n",
       "      <th>mean</th>\n",
       "      <td>37297.606952</td>\n",
       "      <td>313.013369</td>\n",
       "      <td>-19.993316</td>\n",
       "      <td>39.352801</td>\n",
       "      <td>-7.727535</td>\n",
       "      <td>0.506684</td>\n",
       "      <td>34.703877</td>\n",
       "      <td>15.531417</td>\n",
       "      <td>258.137032</td>\n",
       "      <td>1686.096257</td>\n",
       "      <td>1.073529</td>\n",
       "    </tr>\n",
       "    <tr>\n",
       "      <th>std</th>\n",
       "      <td>21119.500129</td>\n",
       "      <td>4017.641868</td>\n",
       "      <td>12.154136</td>\n",
       "      <td>0.458811</td>\n",
       "      <td>1.542230</td>\n",
       "      <td>7.155227</td>\n",
       "      <td>35.259116</td>\n",
       "      <td>21.812220</td>\n",
       "      <td>428.417873</td>\n",
       "      <td>726.379806</td>\n",
       "      <td>0.983446</td>\n",
       "    </tr>\n",
       "    <tr>\n",
       "      <th>min</th>\n",
       "      <td>150.000000</td>\n",
       "      <td>0.000000</td>\n",
       "      <td>-90.000000</td>\n",
       "      <td>38.614960</td>\n",
       "      <td>-10.946096</td>\n",
       "      <td>0.000000</td>\n",
       "      <td>4.000000</td>\n",
       "      <td>1.000000</td>\n",
       "      <td>1.000000</td>\n",
       "      <td>0.000000</td>\n",
       "      <td>0.000000</td>\n",
       "    </tr>\n",
       "    <tr>\n",
       "      <th>25%</th>\n",
       "      <td>19232.750000</td>\n",
       "      <td>0.000000</td>\n",
       "      <td>-28.000000</td>\n",
       "      <td>38.972421</td>\n",
       "      <td>-8.584131</td>\n",
       "      <td>0.000000</td>\n",
       "      <td>6.000000</td>\n",
       "      <td>1.000000</td>\n",
       "      <td>40.000000</td>\n",
       "      <td>1976.000000</td>\n",
       "      <td>0.000000</td>\n",
       "    </tr>\n",
       "    <tr>\n",
       "      <th>50%</th>\n",
       "      <td>36699.000000</td>\n",
       "      <td>0.000000</td>\n",
       "      <td>-18.000000</td>\n",
       "      <td>39.281546</td>\n",
       "      <td>-7.415977</td>\n",
       "      <td>0.000000</td>\n",
       "      <td>7.000000</td>\n",
       "      <td>5.000000</td>\n",
       "      <td>102.500000</td>\n",
       "      <td>2000.000000</td>\n",
       "      <td>2.000000</td>\n",
       "    </tr>\n",
       "    <tr>\n",
       "      <th>75%</th>\n",
       "      <td>55492.750000</td>\n",
       "      <td>50.000000</td>\n",
       "      <td>-11.000000</td>\n",
       "      <td>39.662349</td>\n",
       "      <td>-6.524902</td>\n",
       "      <td>0.000000</td>\n",
       "      <td>60.000000</td>\n",
       "      <td>13.000000</td>\n",
       "      <td>320.000000</td>\n",
       "      <td>2008.000000</td>\n",
       "      <td>2.000000</td>\n",
       "    </tr>\n",
       "    <tr>\n",
       "      <th>max</th>\n",
       "      <td>74211.000000</td>\n",
       "      <td>138000.000000</td>\n",
       "      <td>-1.000000</td>\n",
       "      <td>40.345193</td>\n",
       "      <td>-5.278598</td>\n",
       "      <td>150.000000</td>\n",
       "      <td>99.000000</td>\n",
       "      <td>67.000000</td>\n",
       "      <td>4520.000000</td>\n",
       "      <td>2013.000000</td>\n",
       "      <td>2.000000</td>\n",
       "    </tr>\n",
       "  </tbody>\n",
       "</table>\n",
       "</div>"
      ],
      "text/plain": [
       "                 id     amount_tsh   gps_height    longitude     latitude  \\\n",
       "count   1496.000000    1496.000000  1496.000000  1496.000000  1496.000000   \n",
       "mean   37297.606952     313.013369   -19.993316    39.352801    -7.727535   \n",
       "std    21119.500129    4017.641868    12.154136     0.458811     1.542230   \n",
       "min      150.000000       0.000000   -90.000000    38.614960   -10.946096   \n",
       "25%    19232.750000       0.000000   -28.000000    38.972421    -8.584131   \n",
       "50%    36699.000000       0.000000   -18.000000    39.281546    -7.415977   \n",
       "75%    55492.750000      50.000000   -11.000000    39.662349    -6.524902   \n",
       "max    74211.000000  138000.000000    -1.000000    40.345193    -5.278598   \n",
       "\n",
       "       num_private  region_code  district_code   population  \\\n",
       "count  1496.000000  1496.000000    1496.000000  1496.000000   \n",
       "mean      0.506684    34.703877      15.531417   258.137032   \n",
       "std       7.155227    35.259116      21.812220   428.417873   \n",
       "min       0.000000     4.000000       1.000000     1.000000   \n",
       "25%       0.000000     6.000000       1.000000    40.000000   \n",
       "50%       0.000000     7.000000       5.000000   102.500000   \n",
       "75%       0.000000    60.000000      13.000000   320.000000   \n",
       "max     150.000000    99.000000      67.000000  4520.000000   \n",
       "\n",
       "       construction_year       target  \n",
       "count        1496.000000  1496.000000  \n",
       "mean         1686.096257     1.073529  \n",
       "std           726.379806     0.983446  \n",
       "min             0.000000     0.000000  \n",
       "25%          1976.000000     0.000000  \n",
       "50%          2000.000000     2.000000  \n",
       "75%          2008.000000     2.000000  \n",
       "max          2013.000000     2.000000  "
      ]
     },
     "execution_count": 35,
     "metadata": {},
     "output_type": "execute_result"
    }
   ],
   "source": [
    "gps_height_neg = num_df[num_df.gps_height < 0]\n",
    "print(f\"Percent of total data: {round(len(gps_height_neg)/len(num_df)*100,2)}%\")\n",
    "gps_height_neg.describe()"
   ]
  },
  {
   "cell_type": "markdown",
   "id": "7fa450c6",
   "metadata": {
    "hidden": true
   },
   "source": [
    "There are 1,496 datapoints where the gps_height was less than 0, about 2.5% of our data. Earlier we mentioned that this should not be possible as the listed lowest elevation for Tanzania is 0 ft above sea level (at the Indian Ocean). [Research shows](https://eos-gnss.com/knowledge-base/articles/elevation-for-beginners) that most GPS units are designed to measure height based on the representation of the earth's surface as an 'ellipsoid', and it's perfectly possible to be standing at sea level where the reading should be 0 and have it be a negative number. \n",
    "\n",
    "Considering these data are almost all on the eastern edge of the country (lower longitudes) closer to the Indian Ocean, it is likely the sites are at or just above sea level and capable of producing negative height readings. Opportunity for further tuning could be to address this incosistency across all the data, shifting all datapoints to a more accurage representation of height. I do not think it would be as simple as shifting all values up by the largest negative difference. Because it's such a small percentage of our dataset, we will just set them to 0 rather than worry about adjusting all the values."
   ]
  },
  {
   "cell_type": "code",
   "execution_count": 36,
   "id": "5a10ea0f",
   "metadata": {
    "ExecuteTime": {
     "end_time": "2022-01-26T19:56:11.870170Z",
     "start_time": "2022-01-26T19:56:11.855210Z"
    },
    "hidden": true
   },
   "outputs": [],
   "source": [
    "num_df.gps_height.clip(lower=0.0, inplace=True)"
   ]
  },
  {
   "cell_type": "markdown",
   "id": "44db3c9d",
   "metadata": {
    "heading_collapsed": true
   },
   "source": [
    "## longitude/latitude"
   ]
  },
  {
   "cell_type": "markdown",
   "id": "6e254691",
   "metadata": {
    "hidden": true
   },
   "source": [
    "The max longitude is within the boundaries, we need to examine all values below the actual minimum which is 29.16667."
   ]
  },
  {
   "cell_type": "code",
   "execution_count": 37,
   "id": "26db66f7",
   "metadata": {
    "ExecuteTime": {
     "end_time": "2022-01-26T19:56:11.934001Z",
     "start_time": "2022-01-26T19:56:11.872166Z"
    },
    "hidden": true
   },
   "outputs": [
    {
     "data": {
      "text/html": [
       "<div>\n",
       "<style scoped>\n",
       "    .dataframe tbody tr th:only-of-type {\n",
       "        vertical-align: middle;\n",
       "    }\n",
       "\n",
       "    .dataframe tbody tr th {\n",
       "        vertical-align: top;\n",
       "    }\n",
       "\n",
       "    .dataframe thead th {\n",
       "        text-align: right;\n",
       "    }\n",
       "</style>\n",
       "<table border=\"1\" class=\"dataframe\">\n",
       "  <thead>\n",
       "    <tr style=\"text-align: right;\">\n",
       "      <th></th>\n",
       "      <th>id</th>\n",
       "      <th>amount_tsh</th>\n",
       "      <th>gps_height</th>\n",
       "      <th>longitude</th>\n",
       "      <th>latitude</th>\n",
       "      <th>num_private</th>\n",
       "      <th>region_code</th>\n",
       "      <th>district_code</th>\n",
       "      <th>population</th>\n",
       "      <th>construction_year</th>\n",
       "      <th>target</th>\n",
       "    </tr>\n",
       "  </thead>\n",
       "  <tbody>\n",
       "    <tr>\n",
       "      <th>count</th>\n",
       "      <td>1812.000000</td>\n",
       "      <td>1812.0</td>\n",
       "      <td>1812.0</td>\n",
       "      <td>1812.0</td>\n",
       "      <td>1.812000e+03</td>\n",
       "      <td>1812.0</td>\n",
       "      <td>1812.000000</td>\n",
       "      <td>1812.000000</td>\n",
       "      <td>1812.0</td>\n",
       "      <td>1812.0</td>\n",
       "      <td>1812.000000</td>\n",
       "    </tr>\n",
       "    <tr>\n",
       "      <th>mean</th>\n",
       "      <td>37389.841060</td>\n",
       "      <td>0.0</td>\n",
       "      <td>0.0</td>\n",
       "      <td>0.0</td>\n",
       "      <td>-2.000000e-08</td>\n",
       "      <td>0.0</td>\n",
       "      <td>17.820088</td>\n",
       "      <td>2.497241</td>\n",
       "      <td>0.0</td>\n",
       "      <td>0.0</td>\n",
       "      <td>1.173289</td>\n",
       "    </tr>\n",
       "    <tr>\n",
       "      <th>std</th>\n",
       "      <td>21413.129962</td>\n",
       "      <td>0.0</td>\n",
       "      <td>0.0</td>\n",
       "      <td>0.0</td>\n",
       "      <td>3.309636e-24</td>\n",
       "      <td>0.0</td>\n",
       "      <td>1.023562</td>\n",
       "      <td>2.157389</td>\n",
       "      <td>0.0</td>\n",
       "      <td>0.0</td>\n",
       "      <td>0.870267</td>\n",
       "    </tr>\n",
       "    <tr>\n",
       "      <th>min</th>\n",
       "      <td>15.000000</td>\n",
       "      <td>0.0</td>\n",
       "      <td>0.0</td>\n",
       "      <td>0.0</td>\n",
       "      <td>-2.000000e-08</td>\n",
       "      <td>0.0</td>\n",
       "      <td>11.000000</td>\n",
       "      <td>1.000000</td>\n",
       "      <td>0.0</td>\n",
       "      <td>0.0</td>\n",
       "      <td>0.000000</td>\n",
       "    </tr>\n",
       "    <tr>\n",
       "      <th>25%</th>\n",
       "      <td>18481.750000</td>\n",
       "      <td>0.0</td>\n",
       "      <td>0.0</td>\n",
       "      <td>0.0</td>\n",
       "      <td>-2.000000e-08</td>\n",
       "      <td>0.0</td>\n",
       "      <td>17.000000</td>\n",
       "      <td>1.000000</td>\n",
       "      <td>0.0</td>\n",
       "      <td>0.0</td>\n",
       "      <td>0.000000</td>\n",
       "    </tr>\n",
       "    <tr>\n",
       "      <th>50%</th>\n",
       "      <td>37326.000000</td>\n",
       "      <td>0.0</td>\n",
       "      <td>0.0</td>\n",
       "      <td>0.0</td>\n",
       "      <td>-2.000000e-08</td>\n",
       "      <td>0.0</td>\n",
       "      <td>17.000000</td>\n",
       "      <td>1.000000</td>\n",
       "      <td>0.0</td>\n",
       "      <td>0.0</td>\n",
       "      <td>1.000000</td>\n",
       "    </tr>\n",
       "    <tr>\n",
       "      <th>75%</th>\n",
       "      <td>55509.750000</td>\n",
       "      <td>0.0</td>\n",
       "      <td>0.0</td>\n",
       "      <td>0.0</td>\n",
       "      <td>-2.000000e-08</td>\n",
       "      <td>0.0</td>\n",
       "      <td>19.000000</td>\n",
       "      <td>6.000000</td>\n",
       "      <td>0.0</td>\n",
       "      <td>0.0</td>\n",
       "      <td>2.000000</td>\n",
       "    </tr>\n",
       "    <tr>\n",
       "      <th>max</th>\n",
       "      <td>74193.000000</td>\n",
       "      <td>0.0</td>\n",
       "      <td>0.0</td>\n",
       "      <td>0.0</td>\n",
       "      <td>-2.000000e-08</td>\n",
       "      <td>0.0</td>\n",
       "      <td>19.000000</td>\n",
       "      <td>6.000000</td>\n",
       "      <td>0.0</td>\n",
       "      <td>0.0</td>\n",
       "      <td>2.000000</td>\n",
       "    </tr>\n",
       "  </tbody>\n",
       "</table>\n",
       "</div>"
      ],
      "text/plain": [
       "                 id  amount_tsh  gps_height  longitude      latitude  \\\n",
       "count   1812.000000      1812.0      1812.0     1812.0  1.812000e+03   \n",
       "mean   37389.841060         0.0         0.0        0.0 -2.000000e-08   \n",
       "std    21413.129962         0.0         0.0        0.0  3.309636e-24   \n",
       "min       15.000000         0.0         0.0        0.0 -2.000000e-08   \n",
       "25%    18481.750000         0.0         0.0        0.0 -2.000000e-08   \n",
       "50%    37326.000000         0.0         0.0        0.0 -2.000000e-08   \n",
       "75%    55509.750000         0.0         0.0        0.0 -2.000000e-08   \n",
       "max    74193.000000         0.0         0.0        0.0 -2.000000e-08   \n",
       "\n",
       "       num_private  region_code  district_code  population  construction_year  \\\n",
       "count       1812.0  1812.000000    1812.000000      1812.0             1812.0   \n",
       "mean           0.0    17.820088       2.497241         0.0                0.0   \n",
       "std            0.0     1.023562       2.157389         0.0                0.0   \n",
       "min            0.0    11.000000       1.000000         0.0                0.0   \n",
       "25%            0.0    17.000000       1.000000         0.0                0.0   \n",
       "50%            0.0    17.000000       1.000000         0.0                0.0   \n",
       "75%            0.0    19.000000       6.000000         0.0                0.0   \n",
       "max            0.0    19.000000       6.000000         0.0                0.0   \n",
       "\n",
       "            target  \n",
       "count  1812.000000  \n",
       "mean      1.173289  \n",
       "std       0.870267  \n",
       "min       0.000000  \n",
       "25%       0.000000  \n",
       "50%       1.000000  \n",
       "75%       2.000000  \n",
       "max       2.000000  "
      ]
     },
     "execution_count": 37,
     "metadata": {},
     "output_type": "execute_result"
    }
   ],
   "source": [
    "longitude_errors = num_df[num_df.longitude < 29.16667]\n",
    "longitude_errors.describe()"
   ]
  },
  {
   "cell_type": "code",
   "execution_count": 38,
   "id": "77ce6b86",
   "metadata": {
    "ExecuteTime": {
     "end_time": "2022-01-26T19:56:11.949958Z",
     "start_time": "2022-01-26T19:56:11.935995Z"
    },
    "hidden": true
   },
   "outputs": [
    {
     "name": "stdout",
     "output_type": "stream",
     "text": [
      "Percent of data with missing lat/long: 3.05%\n",
      "Total data with population of 0: 21381\n",
      "Total data with construction year of 0: 20709\n"
     ]
    }
   ],
   "source": [
    "print(f\"Percent of data with missing lat/long: {round((len(longitude_errors)/len(num_df))*100, 2)}%\")\n",
    "\n",
    "print(f\"Total data with population of 0: {len(num_df[num_df.population == 0])}\")\n",
    "print(f\"Total data with construction year of 0: {len(num_df[num_df.construction_year == 0])}\")"
   ]
  },
  {
   "cell_type": "markdown",
   "id": "7016694c",
   "metadata": {
    "hidden": true
   },
   "source": [
    "It looks like we have found that our data includes errors in GPS readings. These errors show up as longitude 0 and latitude -2e-0.8. These entries with GPS errors, however, do not account for all the population point values of 0, or the construction year values of 0, so we will still need to address them."
   ]
  },
  {
   "cell_type": "code",
   "execution_count": 48,
   "id": "7f3a4782",
   "metadata": {
    "ExecuteTime": {
     "end_time": "2022-01-26T20:05:41.398425Z",
     "start_time": "2022-01-26T20:05:41.373493Z"
    },
    "hidden": true
   },
   "outputs": [
    {
     "data": {
      "text/plain": [
       "functional                 0.480132\n",
       "non functional             0.306843\n",
       "functional needs repair    0.213024\n",
       "Name: status_group, dtype: float64"
      ]
     },
     "execution_count": 48,
     "metadata": {},
     "output_type": "execute_result"
    }
   ],
   "source": [
    "gps_errors = raw_df[raw_df.longitude == 0.0]\n",
    "gps_errors.status_group.value_counts(normalize=True)"
   ]
  },
  {
   "cell_type": "markdown",
   "id": "0d01664d",
   "metadata": {
    "hidden": true
   },
   "source": [
    "The missing GPS data contains a disproportionate share of the functional but needs repair. As we investigate the region and district codes we can hopefully gain insight to the relationship between them, i.e. what is the parent/child relationship, and what children are under what parents. What we can then do is establish generic gps coordinates to the specific region/district code as the average of the gps coordinates we do have for that area, and replace our null values with that average (with a little randomness)."
   ]
  },
  {
   "cell_type": "markdown",
   "id": "0d50cc50",
   "metadata": {
    "heading_collapsed": true
   },
   "source": [
    "## num_private"
   ]
  },
  {
   "cell_type": "code",
   "execution_count": 52,
   "id": "fac67d44",
   "metadata": {
    "ExecuteTime": {
     "end_time": "2022-01-26T20:07:01.055825Z",
     "start_time": "2022-01-26T20:07:01.041836Z"
    },
    "hidden": true
   },
   "outputs": [
    {
     "data": {
      "text/plain": [
       "0       0.987256\n",
       "6       0.001364\n",
       "1       0.001229\n",
       "5       0.000774\n",
       "8       0.000774\n",
       "          ...   \n",
       "42      0.000017\n",
       "23      0.000017\n",
       "136     0.000017\n",
       "698     0.000017\n",
       "1402    0.000017\n",
       "Name: num_private, Length: 65, dtype: float64"
      ]
     },
     "execution_count": 52,
     "metadata": {},
     "output_type": "execute_result"
    }
   ],
   "source": [
    "num_df.num_private.value_counts(normalize=True)"
   ]
  },
  {
   "cell_type": "markdown",
   "id": "f4443407",
   "metadata": {
    "hidden": true
   },
   "source": [
    "The vast majority of the num_private data has the value 0. There was no descriptor of the feature along with the others for the dataset, so it's likely that this feature won't be used in modeling. We don't have any null values to convert."
   ]
  },
  {
   "cell_type": "markdown",
   "id": "bc3a0e6b",
   "metadata": {},
   "source": [
    "## region/district_code"
   ]
  },
  {
   "cell_type": "markdown",
   "id": "c5c87eab",
   "metadata": {},
   "source": [
    "What we suspect is that the regions each have multiple districts in them."
   ]
  },
  {
   "cell_type": "code",
   "execution_count": 130,
   "id": "a996c218",
   "metadata": {
    "ExecuteTime": {
     "end_time": "2022-01-26T23:16:59.551500Z",
     "start_time": "2022-01-26T23:16:59.534544Z"
    }
   },
   "outputs": [
    {
     "name": "stdout",
     "output_type": "stream",
     "text": [
      "Region numeric unique value count: 27\n",
      "Region string unique value count: 21\n"
     ]
    }
   ],
   "source": [
    "print(f\"Region numeric unique value count: {len(num_df.region_code.value_counts())}\")\n",
    "print(f\"Region string unique value count: {len(raw_df.region.value_counts())}\")"
   ]
  },
  {
   "cell_type": "markdown",
   "id": "4cfe1552",
   "metadata": {},
   "source": [
    "The unique numeric value count for region exceed that for the string encoded region."
   ]
  },
  {
   "cell_type": "code",
   "execution_count": 131,
   "id": "b14c5d54",
   "metadata": {
    "ExecuteTime": {
     "end_time": "2022-01-26T23:17:01.396014Z",
     "start_time": "2022-01-26T23:17:01.362103Z"
    }
   },
   "outputs": [
    {
     "data": {
      "text/html": [
       "<div>\n",
       "<style scoped>\n",
       "    .dataframe tbody tr th:only-of-type {\n",
       "        vertical-align: middle;\n",
       "    }\n",
       "\n",
       "    .dataframe tbody tr th {\n",
       "        vertical-align: top;\n",
       "    }\n",
       "\n",
       "    .dataframe thead th {\n",
       "        text-align: right;\n",
       "    }\n",
       "</style>\n",
       "<table border=\"1\" class=\"dataframe\">\n",
       "  <thead>\n",
       "    <tr style=\"text-align: right;\">\n",
       "      <th></th>\n",
       "      <th>region</th>\n",
       "      <th>str_count</th>\n",
       "      <th>region_code</th>\n",
       "      <th>code_count</th>\n",
       "    </tr>\n",
       "  </thead>\n",
       "  <tbody>\n",
       "    <tr>\n",
       "      <th>0</th>\n",
       "      <td>Iringa</td>\n",
       "      <td>5294</td>\n",
       "      <td>11</td>\n",
       "      <td>5300</td>\n",
       "    </tr>\n",
       "    <tr>\n",
       "      <th>1</th>\n",
       "      <td>Shinyanga</td>\n",
       "      <td>4982</td>\n",
       "      <td>17</td>\n",
       "      <td>5011</td>\n",
       "    </tr>\n",
       "    <tr>\n",
       "      <th>2</th>\n",
       "      <td>Mbeya</td>\n",
       "      <td>4639</td>\n",
       "      <td>12</td>\n",
       "      <td>4639</td>\n",
       "    </tr>\n",
       "    <tr>\n",
       "      <th>3</th>\n",
       "      <td>Kilimanjaro</td>\n",
       "      <td>4379</td>\n",
       "      <td>3</td>\n",
       "      <td>4379</td>\n",
       "    </tr>\n",
       "    <tr>\n",
       "      <th>4</th>\n",
       "      <td>Morogoro</td>\n",
       "      <td>4006</td>\n",
       "      <td>5</td>\n",
       "      <td>4040</td>\n",
       "    </tr>\n",
       "    <tr>\n",
       "      <th>5</th>\n",
       "      <td>Arusha</td>\n",
       "      <td>3350</td>\n",
       "      <td>18</td>\n",
       "      <td>3324</td>\n",
       "    </tr>\n",
       "    <tr>\n",
       "      <th>6</th>\n",
       "      <td>Kagera</td>\n",
       "      <td>3316</td>\n",
       "      <td>19</td>\n",
       "      <td>3047</td>\n",
       "    </tr>\n",
       "    <tr>\n",
       "      <th>7</th>\n",
       "      <td>Mwanza</td>\n",
       "      <td>3102</td>\n",
       "      <td>2</td>\n",
       "      <td>3024</td>\n",
       "    </tr>\n",
       "    <tr>\n",
       "      <th>8</th>\n",
       "      <td>Kigoma</td>\n",
       "      <td>2816</td>\n",
       "      <td>16</td>\n",
       "      <td>2816</td>\n",
       "    </tr>\n",
       "    <tr>\n",
       "      <th>9</th>\n",
       "      <td>Ruvuma</td>\n",
       "      <td>2640</td>\n",
       "      <td>10</td>\n",
       "      <td>2640</td>\n",
       "    </tr>\n",
       "    <tr>\n",
       "      <th>10</th>\n",
       "      <td>Pwani</td>\n",
       "      <td>2635</td>\n",
       "      <td>4</td>\n",
       "      <td>2513</td>\n",
       "    </tr>\n",
       "    <tr>\n",
       "      <th>11</th>\n",
       "      <td>Tanga</td>\n",
       "      <td>2547</td>\n",
       "      <td>1</td>\n",
       "      <td>2201</td>\n",
       "    </tr>\n",
       "    <tr>\n",
       "      <th>12</th>\n",
       "      <td>Dodoma</td>\n",
       "      <td>2201</td>\n",
       "      <td>13</td>\n",
       "      <td>2093</td>\n",
       "    </tr>\n",
       "    <tr>\n",
       "      <th>13</th>\n",
       "      <td>Singida</td>\n",
       "      <td>2093</td>\n",
       "      <td>14</td>\n",
       "      <td>1979</td>\n",
       "    </tr>\n",
       "    <tr>\n",
       "      <th>14</th>\n",
       "      <td>Mara</td>\n",
       "      <td>1969</td>\n",
       "      <td>20</td>\n",
       "      <td>1969</td>\n",
       "    </tr>\n",
       "    <tr>\n",
       "      <th>15</th>\n",
       "      <td>Tabora</td>\n",
       "      <td>1959</td>\n",
       "      <td>15</td>\n",
       "      <td>1808</td>\n",
       "    </tr>\n",
       "    <tr>\n",
       "      <th>16</th>\n",
       "      <td>Rukwa</td>\n",
       "      <td>1808</td>\n",
       "      <td>6</td>\n",
       "      <td>1609</td>\n",
       "    </tr>\n",
       "    <tr>\n",
       "      <th>17</th>\n",
       "      <td>Mtwara</td>\n",
       "      <td>1730</td>\n",
       "      <td>21</td>\n",
       "      <td>1583</td>\n",
       "    </tr>\n",
       "    <tr>\n",
       "      <th>18</th>\n",
       "      <td>Manyara</td>\n",
       "      <td>1583</td>\n",
       "      <td>80</td>\n",
       "      <td>1238</td>\n",
       "    </tr>\n",
       "    <tr>\n",
       "      <th>19</th>\n",
       "      <td>Lindi</td>\n",
       "      <td>1546</td>\n",
       "      <td>60</td>\n",
       "      <td>1025</td>\n",
       "    </tr>\n",
       "    <tr>\n",
       "      <th>20</th>\n",
       "      <td>Dar es Salaam</td>\n",
       "      <td>805</td>\n",
       "      <td>90</td>\n",
       "      <td>917</td>\n",
       "    </tr>\n",
       "  </tbody>\n",
       "</table>\n",
       "</div>"
      ],
      "text/plain": [
       "           region  str_count  region_code  code_count\n",
       "0          Iringa       5294           11        5300\n",
       "1       Shinyanga       4982           17        5011\n",
       "2           Mbeya       4639           12        4639\n",
       "3     Kilimanjaro       4379            3        4379\n",
       "4        Morogoro       4006            5        4040\n",
       "5          Arusha       3350           18        3324\n",
       "6          Kagera       3316           19        3047\n",
       "7          Mwanza       3102            2        3024\n",
       "8          Kigoma       2816           16        2816\n",
       "9          Ruvuma       2640           10        2640\n",
       "10          Pwani       2635            4        2513\n",
       "11          Tanga       2547            1        2201\n",
       "12         Dodoma       2201           13        2093\n",
       "13        Singida       2093           14        1979\n",
       "14           Mara       1969           20        1969\n",
       "15         Tabora       1959           15        1808\n",
       "16          Rukwa       1808            6        1609\n",
       "17         Mtwara       1730           21        1583\n",
       "18        Manyara       1583           80        1238\n",
       "19          Lindi       1546           60        1025\n",
       "20  Dar es Salaam        805           90         917"
      ]
     },
     "execution_count": 131,
     "metadata": {},
     "output_type": "execute_result"
    }
   ],
   "source": [
    "region_df = pd.DataFrame(raw_df.region.value_counts())\n",
    "region_df.reset_index(inplace=True)\n",
    "region_df.columns = ['region', 'str_count']\n",
    "# adding in the top 21 values from region_code, since the region_code\n",
    "# has more values than 'region'\n",
    "region_df['region_code'] = raw_df.region_code.value_counts()[:21].index\n",
    "region_df['code_count'] = raw_df.region_code.value_counts()[:21].values\n",
    "region_df"
   ]
  },
  {
   "cell_type": "markdown",
   "id": "8c2818e0",
   "metadata": {},
   "source": [
    "When we match up the values of the region and region_code features by their respective value counts we can see that some of them are very close, if not equal. \n",
    "__________\n",
    "\n",
    "These are the bottom 6 remaining region_code value counts that did not match up with the quantity of values found in the text string. "
   ]
  },
  {
   "cell_type": "code",
   "execution_count": 132,
   "id": "ff923fc5",
   "metadata": {
    "ExecuteTime": {
     "end_time": "2022-01-26T23:17:03.280406Z",
     "start_time": "2022-01-26T23:17:03.269436Z"
    }
   },
   "outputs": [
    {
     "data": {
      "text/html": [
       "<div>\n",
       "<style scoped>\n",
       "    .dataframe tbody tr th:only-of-type {\n",
       "        vertical-align: middle;\n",
       "    }\n",
       "\n",
       "    .dataframe tbody tr th {\n",
       "        vertical-align: top;\n",
       "    }\n",
       "\n",
       "    .dataframe thead th {\n",
       "        text-align: right;\n",
       "    }\n",
       "</style>\n",
       "<table border=\"1\" class=\"dataframe\">\n",
       "  <thead>\n",
       "    <tr style=\"text-align: right;\">\n",
       "      <th></th>\n",
       "      <th>region_code</th>\n",
       "      <th>code_count</th>\n",
       "    </tr>\n",
       "  </thead>\n",
       "  <tbody>\n",
       "    <tr>\n",
       "      <th>0</th>\n",
       "      <td>7</td>\n",
       "      <td>805</td>\n",
       "    </tr>\n",
       "    <tr>\n",
       "      <th>1</th>\n",
       "      <td>99</td>\n",
       "      <td>423</td>\n",
       "    </tr>\n",
       "    <tr>\n",
       "      <th>2</th>\n",
       "      <td>9</td>\n",
       "      <td>390</td>\n",
       "    </tr>\n",
       "    <tr>\n",
       "      <th>3</th>\n",
       "      <td>24</td>\n",
       "      <td>326</td>\n",
       "    </tr>\n",
       "    <tr>\n",
       "      <th>4</th>\n",
       "      <td>8</td>\n",
       "      <td>300</td>\n",
       "    </tr>\n",
       "    <tr>\n",
       "      <th>5</th>\n",
       "      <td>40</td>\n",
       "      <td>1</td>\n",
       "    </tr>\n",
       "  </tbody>\n",
       "</table>\n",
       "</div>"
      ],
      "text/plain": [
       "   region_code  code_count\n",
       "0            7         805\n",
       "1           99         423\n",
       "2            9         390\n",
       "3           24         326\n",
       "4            8         300\n",
       "5           40           1"
      ]
     },
     "execution_count": 132,
     "metadata": {},
     "output_type": "execute_result"
    }
   ],
   "source": [
    "spare_region_codes = pd.DataFrame(raw_df.region_code.value_counts()[21:])\n",
    "spare_region_codes.reset_index(inplace=True)\n",
    "spare_region_codes.columns = ['region_code', 'code_count']\n",
    "spare_region_codes"
   ]
  },
  {
   "cell_type": "code",
   "execution_count": 133,
   "id": "51a41375",
   "metadata": {
    "ExecuteTime": {
     "end_time": "2022-01-26T23:17:03.517790Z",
     "start_time": "2022-01-26T23:17:03.466923Z"
    }
   },
   "outputs": [
    {
     "data": {
      "text/html": [
       "<div>\n",
       "<style scoped>\n",
       "    .dataframe tbody tr th:only-of-type {\n",
       "        vertical-align: middle;\n",
       "    }\n",
       "\n",
       "    .dataframe tbody tr th {\n",
       "        vertical-align: top;\n",
       "    }\n",
       "\n",
       "    .dataframe thead th {\n",
       "        text-align: right;\n",
       "    }\n",
       "</style>\n",
       "<table border=\"1\" class=\"dataframe\">\n",
       "  <thead>\n",
       "    <tr style=\"text-align: right;\">\n",
       "      <th></th>\n",
       "      <th>id</th>\n",
       "      <th>amount_tsh</th>\n",
       "      <th>gps_height</th>\n",
       "      <th>longitude</th>\n",
       "      <th>latitude</th>\n",
       "      <th>num_private</th>\n",
       "      <th>region_code</th>\n",
       "      <th>district_code</th>\n",
       "      <th>population</th>\n",
       "      <th>construction_year</th>\n",
       "    </tr>\n",
       "  </thead>\n",
       "  <tbody>\n",
       "    <tr>\n",
       "      <th>count</th>\n",
       "      <td>917.000000</td>\n",
       "      <td>917.000000</td>\n",
       "      <td>917.000000</td>\n",
       "      <td>917.000000</td>\n",
       "      <td>917.000000</td>\n",
       "      <td>917.000000</td>\n",
       "      <td>917.0</td>\n",
       "      <td>917.000000</td>\n",
       "      <td>917.000000</td>\n",
       "      <td>917.000000</td>\n",
       "    </tr>\n",
       "    <tr>\n",
       "      <th>mean</th>\n",
       "      <td>36718.627045</td>\n",
       "      <td>56.407852</td>\n",
       "      <td>375.494002</td>\n",
       "      <td>38.958680</td>\n",
       "      <td>-10.805449</td>\n",
       "      <td>0.494002</td>\n",
       "      <td>90.0</td>\n",
       "      <td>38.169029</td>\n",
       "      <td>173.992366</td>\n",
       "      <td>1875.147219</td>\n",
       "    </tr>\n",
       "    <tr>\n",
       "      <th>std</th>\n",
       "      <td>21869.242111</td>\n",
       "      <td>374.017393</td>\n",
       "      <td>129.407413</td>\n",
       "      <td>0.320121</td>\n",
       "      <td>0.192244</td>\n",
       "      <td>14.860311</td>\n",
       "      <td>0.0</td>\n",
       "      <td>11.335437</td>\n",
       "      <td>443.216263</td>\n",
       "      <td>469.481554</td>\n",
       "    </tr>\n",
       "    <tr>\n",
       "      <th>min</th>\n",
       "      <td>35.000000</td>\n",
       "      <td>0.000000</td>\n",
       "      <td>19.000000</td>\n",
       "      <td>38.013947</td>\n",
       "      <td>-11.366974</td>\n",
       "      <td>0.000000</td>\n",
       "      <td>90.0</td>\n",
       "      <td>33.000000</td>\n",
       "      <td>1.000000</td>\n",
       "      <td>0.000000</td>\n",
       "    </tr>\n",
       "    <tr>\n",
       "      <th>25%</th>\n",
       "      <td>17293.000000</td>\n",
       "      <td>0.000000</td>\n",
       "      <td>303.000000</td>\n",
       "      <td>38.684909</td>\n",
       "      <td>-10.922284</td>\n",
       "      <td>0.000000</td>\n",
       "      <td>90.0</td>\n",
       "      <td>33.000000</td>\n",
       "      <td>1.000000</td>\n",
       "      <td>1979.000000</td>\n",
       "    </tr>\n",
       "    <tr>\n",
       "      <th>50%</th>\n",
       "      <td>36231.000000</td>\n",
       "      <td>0.000000</td>\n",
       "      <td>352.000000</td>\n",
       "      <td>39.024774</td>\n",
       "      <td>-10.832262</td>\n",
       "      <td>0.000000</td>\n",
       "      <td>90.0</td>\n",
       "      <td>33.000000</td>\n",
       "      <td>44.000000</td>\n",
       "      <td>1988.000000</td>\n",
       "    </tr>\n",
       "    <tr>\n",
       "      <th>75%</th>\n",
       "      <td>56225.000000</td>\n",
       "      <td>20.000000</td>\n",
       "      <td>424.000000</td>\n",
       "      <td>39.192416</td>\n",
       "      <td>-10.658395</td>\n",
       "      <td>0.000000</td>\n",
       "      <td>90.0</td>\n",
       "      <td>33.000000</td>\n",
       "      <td>150.000000</td>\n",
       "      <td>2006.000000</td>\n",
       "    </tr>\n",
       "    <tr>\n",
       "      <th>max</th>\n",
       "      <td>74195.000000</td>\n",
       "      <td>5000.000000</td>\n",
       "      <td>879.000000</td>\n",
       "      <td>39.446226</td>\n",
       "      <td>-10.355590</td>\n",
       "      <td>450.000000</td>\n",
       "      <td>90.0</td>\n",
       "      <td>63.000000</td>\n",
       "      <td>5016.000000</td>\n",
       "      <td>2013.000000</td>\n",
       "    </tr>\n",
       "  </tbody>\n",
       "</table>\n",
       "</div>"
      ],
      "text/plain": [
       "                 id   amount_tsh  gps_height   longitude    latitude  \\\n",
       "count    917.000000   917.000000  917.000000  917.000000  917.000000   \n",
       "mean   36718.627045    56.407852  375.494002   38.958680  -10.805449   \n",
       "std    21869.242111   374.017393  129.407413    0.320121    0.192244   \n",
       "min       35.000000     0.000000   19.000000   38.013947  -11.366974   \n",
       "25%    17293.000000     0.000000  303.000000   38.684909  -10.922284   \n",
       "50%    36231.000000     0.000000  352.000000   39.024774  -10.832262   \n",
       "75%    56225.000000    20.000000  424.000000   39.192416  -10.658395   \n",
       "max    74195.000000  5000.000000  879.000000   39.446226  -10.355590   \n",
       "\n",
       "       num_private  region_code  district_code   population  construction_year  \n",
       "count   917.000000        917.0     917.000000   917.000000         917.000000  \n",
       "mean      0.494002         90.0      38.169029   173.992366        1875.147219  \n",
       "std      14.860311          0.0      11.335437   443.216263         469.481554  \n",
       "min       0.000000         90.0      33.000000     1.000000           0.000000  \n",
       "25%       0.000000         90.0      33.000000     1.000000        1979.000000  \n",
       "50%       0.000000         90.0      33.000000    44.000000        1988.000000  \n",
       "75%       0.000000         90.0      33.000000   150.000000        2006.000000  \n",
       "max     450.000000         90.0      63.000000  5016.000000        2013.000000  "
      ]
     },
     "execution_count": 133,
     "metadata": {},
     "output_type": "execute_result"
    }
   ],
   "source": [
    "raw_df[raw_df.region_code == 90].describe()"
   ]
  },
  {
   "cell_type": "markdown",
   "id": "8da01098",
   "metadata": {},
   "source": [
    "Investigating the region code 90, we think is Dar es Salaam, but the GPS coordinates do not match (they are very far south). Lets look at region code 7. That value count is exactly the same as the one for the string coded Dar es Salaam but was cut off as we sorted by value count size."
   ]
  },
  {
   "cell_type": "code",
   "execution_count": 134,
   "id": "d5353f65",
   "metadata": {
    "ExecuteTime": {
     "end_time": "2022-01-26T23:17:04.688299Z",
     "start_time": "2022-01-26T23:17:04.637431Z"
    }
   },
   "outputs": [
    {
     "data": {
      "text/html": [
       "<div>\n",
       "<style scoped>\n",
       "    .dataframe tbody tr th:only-of-type {\n",
       "        vertical-align: middle;\n",
       "    }\n",
       "\n",
       "    .dataframe tbody tr th {\n",
       "        vertical-align: top;\n",
       "    }\n",
       "\n",
       "    .dataframe thead th {\n",
       "        text-align: right;\n",
       "    }\n",
       "</style>\n",
       "<table border=\"1\" class=\"dataframe\">\n",
       "  <thead>\n",
       "    <tr style=\"text-align: right;\">\n",
       "      <th></th>\n",
       "      <th>id</th>\n",
       "      <th>amount_tsh</th>\n",
       "      <th>gps_height</th>\n",
       "      <th>longitude</th>\n",
       "      <th>latitude</th>\n",
       "      <th>num_private</th>\n",
       "      <th>region_code</th>\n",
       "      <th>district_code</th>\n",
       "      <th>population</th>\n",
       "      <th>construction_year</th>\n",
       "    </tr>\n",
       "  </thead>\n",
       "  <tbody>\n",
       "    <tr>\n",
       "      <th>count</th>\n",
       "      <td>805.000000</td>\n",
       "      <td>805.000000</td>\n",
       "      <td>805.000000</td>\n",
       "      <td>805.000000</td>\n",
       "      <td>805.000000</td>\n",
       "      <td>805.0</td>\n",
       "      <td>805.0</td>\n",
       "      <td>805.000000</td>\n",
       "      <td>805.000000</td>\n",
       "      <td>805.000000</td>\n",
       "    </tr>\n",
       "    <tr>\n",
       "      <th>mean</th>\n",
       "      <td>37288.637267</td>\n",
       "      <td>236.706832</td>\n",
       "      <td>31.105590</td>\n",
       "      <td>39.215799</td>\n",
       "      <td>-6.909677</td>\n",
       "      <td>0.0</td>\n",
       "      <td>7.0</td>\n",
       "      <td>2.151553</td>\n",
       "      <td>240.843478</td>\n",
       "      <td>1958.782609</td>\n",
       "    </tr>\n",
       "    <tr>\n",
       "      <th>std</th>\n",
       "      <td>21473.569214</td>\n",
       "      <td>2612.250698</td>\n",
       "      <td>38.325135</td>\n",
       "      <td>0.130179</td>\n",
       "      <td>0.097479</td>\n",
       "      <td>0.0</td>\n",
       "      <td>0.0</td>\n",
       "      <td>0.600073</td>\n",
       "      <td>534.198421</td>\n",
       "      <td>288.091177</td>\n",
       "    </tr>\n",
       "    <tr>\n",
       "      <th>min</th>\n",
       "      <td>22.000000</td>\n",
       "      <td>0.000000</td>\n",
       "      <td>-63.000000</td>\n",
       "      <td>39.039088</td>\n",
       "      <td>-7.162921</td>\n",
       "      <td>0.0</td>\n",
       "      <td>7.0</td>\n",
       "      <td>1.000000</td>\n",
       "      <td>1.000000</td>\n",
       "      <td>0.000000</td>\n",
       "    </tr>\n",
       "    <tr>\n",
       "      <th>25%</th>\n",
       "      <td>17976.000000</td>\n",
       "      <td>0.000000</td>\n",
       "      <td>5.000000</td>\n",
       "      <td>39.117940</td>\n",
       "      <td>-6.974554</td>\n",
       "      <td>0.0</td>\n",
       "      <td>7.0</td>\n",
       "      <td>2.000000</td>\n",
       "      <td>90.000000</td>\n",
       "      <td>2000.000000</td>\n",
       "    </tr>\n",
       "    <tr>\n",
       "      <th>50%</th>\n",
       "      <td>37720.000000</td>\n",
       "      <td>50.000000</td>\n",
       "      <td>29.000000</td>\n",
       "      <td>39.174331</td>\n",
       "      <td>-6.908980</td>\n",
       "      <td>0.0</td>\n",
       "      <td>7.0</td>\n",
       "      <td>2.000000</td>\n",
       "      <td>150.000000</td>\n",
       "      <td>2000.000000</td>\n",
       "    </tr>\n",
       "    <tr>\n",
       "      <th>75%</th>\n",
       "      <td>56342.000000</td>\n",
       "      <td>50.000000</td>\n",
       "      <td>60.000000</td>\n",
       "      <td>39.335933</td>\n",
       "      <td>-6.878280</td>\n",
       "      <td>0.0</td>\n",
       "      <td>7.0</td>\n",
       "      <td>3.000000</td>\n",
       "      <td>250.000000</td>\n",
       "      <td>2010.000000</td>\n",
       "    </tr>\n",
       "    <tr>\n",
       "      <th>max</th>\n",
       "      <td>74111.000000</td>\n",
       "      <td>45000.000000</td>\n",
       "      <td>151.000000</td>\n",
       "      <td>39.537132</td>\n",
       "      <td>-6.576367</td>\n",
       "      <td>0.0</td>\n",
       "      <td>7.0</td>\n",
       "      <td>3.000000</td>\n",
       "      <td>9865.000000</td>\n",
       "      <td>2010.000000</td>\n",
       "    </tr>\n",
       "  </tbody>\n",
       "</table>\n",
       "</div>"
      ],
      "text/plain": [
       "                 id    amount_tsh  gps_height   longitude    latitude  \\\n",
       "count    805.000000    805.000000  805.000000  805.000000  805.000000   \n",
       "mean   37288.637267    236.706832   31.105590   39.215799   -6.909677   \n",
       "std    21473.569214   2612.250698   38.325135    0.130179    0.097479   \n",
       "min       22.000000      0.000000  -63.000000   39.039088   -7.162921   \n",
       "25%    17976.000000      0.000000    5.000000   39.117940   -6.974554   \n",
       "50%    37720.000000     50.000000   29.000000   39.174331   -6.908980   \n",
       "75%    56342.000000     50.000000   60.000000   39.335933   -6.878280   \n",
       "max    74111.000000  45000.000000  151.000000   39.537132   -6.576367   \n",
       "\n",
       "       num_private  region_code  district_code   population  construction_year  \n",
       "count        805.0        805.0     805.000000   805.000000         805.000000  \n",
       "mean           0.0          7.0       2.151553   240.843478        1958.782609  \n",
       "std            0.0          0.0       0.600073   534.198421         288.091177  \n",
       "min            0.0          7.0       1.000000     1.000000           0.000000  \n",
       "25%            0.0          7.0       2.000000    90.000000        2000.000000  \n",
       "50%            0.0          7.0       2.000000   150.000000        2000.000000  \n",
       "75%            0.0          7.0       3.000000   250.000000        2010.000000  \n",
       "max            0.0          7.0       3.000000  9865.000000        2010.000000  "
      ]
     },
     "execution_count": 134,
     "metadata": {},
     "output_type": "execute_result"
    }
   ],
   "source": [
    "raw_df[raw_df.region_code == 7].describe()"
   ]
  },
  {
   "cell_type": "markdown",
   "id": "5a666855",
   "metadata": {},
   "source": [
    "When we look on Google earth at the mean values for the lat/long for the region code 7, it puts us right at Dar es Salaam. I think we can be confident that at least region 7 is Dar es Salaam. Now we can match up the rest."
   ]
  },
  {
   "cell_type": "code",
   "execution_count": 135,
   "id": "65e9e916",
   "metadata": {
    "ExecuteTime": {
     "end_time": "2022-01-26T23:17:05.795725Z",
     "start_time": "2022-01-26T23:17:05.785752Z"
    }
   },
   "outputs": [],
   "source": [
    "# update the Dar es Salaam entry in the region dataframe with the correct region code\n",
    "region_df.at[20,'region_code'] = 7\n",
    "region_df.at[20, 'code_count'] = 805\n",
    "\n",
    "# move the replaced region code and count into the spare region code dataframe\n",
    "spare_region_codes.at[0,'region_code'] = 90\n",
    "spare_region_codes.at[0,'code_count'] = 917"
   ]
  },
  {
   "cell_type": "code",
   "execution_count": 136,
   "id": "c24c70c2",
   "metadata": {
    "ExecuteTime": {
     "end_time": "2022-01-26T23:17:06.854201Z",
     "start_time": "2022-01-26T23:17:06.830264Z"
    }
   },
   "outputs": [
    {
     "data": {
      "text/html": [
       "<div>\n",
       "<style scoped>\n",
       "    .dataframe tbody tr th:only-of-type {\n",
       "        vertical-align: middle;\n",
       "    }\n",
       "\n",
       "    .dataframe tbody tr th {\n",
       "        vertical-align: top;\n",
       "    }\n",
       "\n",
       "    .dataframe thead th {\n",
       "        text-align: right;\n",
       "    }\n",
       "</style>\n",
       "<table border=\"1\" class=\"dataframe\">\n",
       "  <thead>\n",
       "    <tr style=\"text-align: right;\">\n",
       "      <th></th>\n",
       "      <th>region</th>\n",
       "      <th>str_count</th>\n",
       "      <th>region_code</th>\n",
       "      <th>code_count</th>\n",
       "    </tr>\n",
       "  </thead>\n",
       "  <tbody>\n",
       "    <tr>\n",
       "      <th>2</th>\n",
       "      <td>Mbeya</td>\n",
       "      <td>4639</td>\n",
       "      <td>12</td>\n",
       "      <td>4639</td>\n",
       "    </tr>\n",
       "    <tr>\n",
       "      <th>3</th>\n",
       "      <td>Kilimanjaro</td>\n",
       "      <td>4379</td>\n",
       "      <td>3</td>\n",
       "      <td>4379</td>\n",
       "    </tr>\n",
       "    <tr>\n",
       "      <th>8</th>\n",
       "      <td>Kigoma</td>\n",
       "      <td>2816</td>\n",
       "      <td>16</td>\n",
       "      <td>2816</td>\n",
       "    </tr>\n",
       "    <tr>\n",
       "      <th>9</th>\n",
       "      <td>Ruvuma</td>\n",
       "      <td>2640</td>\n",
       "      <td>10</td>\n",
       "      <td>2640</td>\n",
       "    </tr>\n",
       "    <tr>\n",
       "      <th>14</th>\n",
       "      <td>Mara</td>\n",
       "      <td>1969</td>\n",
       "      <td>20</td>\n",
       "      <td>1969</td>\n",
       "    </tr>\n",
       "    <tr>\n",
       "      <th>20</th>\n",
       "      <td>Dar es Salaam</td>\n",
       "      <td>805</td>\n",
       "      <td>7</td>\n",
       "      <td>805</td>\n",
       "    </tr>\n",
       "  </tbody>\n",
       "</table>\n",
       "</div>"
      ],
      "text/plain": [
       "           region  str_count  region_code  code_count\n",
       "2           Mbeya       4639           12        4639\n",
       "3     Kilimanjaro       4379            3        4379\n",
       "8          Kigoma       2816           16        2816\n",
       "9          Ruvuma       2640           10        2640\n",
       "14           Mara       1969           20        1969\n",
       "20  Dar es Salaam        805            7         805"
      ]
     },
     "execution_count": 136,
     "metadata": {},
     "output_type": "execute_result"
    }
   ],
   "source": [
    "region_df[region_df.str_count == region_df.code_count]"
   ]
  },
  {
   "cell_type": "markdown",
   "id": "a84d2243",
   "metadata": {},
   "source": [
    "6 of our 21 region string counts and code counts match up exactly. We will still verify"
   ]
  },
  {
   "cell_type": "code",
   "execution_count": 137,
   "id": "ad777371",
   "metadata": {
    "ExecuteTime": {
     "end_time": "2022-01-26T23:17:09.419313Z",
     "start_time": "2022-01-26T23:17:09.262720Z"
    }
   },
   "outputs": [
    {
     "data": {
      "text/html": [
       "<div>\n",
       "<style scoped>\n",
       "    .dataframe tbody tr th:only-of-type {\n",
       "        vertical-align: middle;\n",
       "    }\n",
       "\n",
       "    .dataframe tbody tr th {\n",
       "        vertical-align: top;\n",
       "    }\n",
       "\n",
       "    .dataframe thead th {\n",
       "        text-align: right;\n",
       "    }\n",
       "</style>\n",
       "<table border=\"1\" class=\"dataframe\">\n",
       "  <thead>\n",
       "    <tr style=\"text-align: right;\">\n",
       "      <th></th>\n",
       "      <th>region</th>\n",
       "      <th>str_count</th>\n",
       "      <th>region_code</th>\n",
       "      <th>code_count</th>\n",
       "      <th>lat_long_avg</th>\n",
       "    </tr>\n",
       "  </thead>\n",
       "  <tbody>\n",
       "    <tr>\n",
       "      <th>0</th>\n",
       "      <td>Iringa</td>\n",
       "      <td>5294</td>\n",
       "      <td>11</td>\n",
       "      <td>5300</td>\n",
       "      <td>(-8.899634086545284, 34.87527552078679)</td>\n",
       "    </tr>\n",
       "    <tr>\n",
       "      <th>1</th>\n",
       "      <td>Shinyanga</td>\n",
       "      <td>4982</td>\n",
       "      <td>17</td>\n",
       "      <td>5011</td>\n",
       "      <td>(-2.7549962549910196, 26.232338852508484)</td>\n",
       "    </tr>\n",
       "    <tr>\n",
       "      <th>2</th>\n",
       "      <td>Mbeya</td>\n",
       "      <td>4639</td>\n",
       "      <td>12</td>\n",
       "      <td>4639</td>\n",
       "      <td>(-9.097417654386721, 33.531504774080624)</td>\n",
       "    </tr>\n",
       "    <tr>\n",
       "      <th>3</th>\n",
       "      <td>Kilimanjaro</td>\n",
       "      <td>4379</td>\n",
       "      <td>3</td>\n",
       "      <td>4379</td>\n",
       "      <td>(-3.5228229253459693, 37.50510820328157)</td>\n",
       "    </tr>\n",
       "    <tr>\n",
       "      <th>4</th>\n",
       "      <td>Morogoro</td>\n",
       "      <td>4006</td>\n",
       "      <td>5</td>\n",
       "      <td>4040</td>\n",
       "      <td>(-7.40001297169802, 37.047041468495046)</td>\n",
       "    </tr>\n",
       "    <tr>\n",
       "      <th>5</th>\n",
       "      <td>Arusha</td>\n",
       "      <td>3350</td>\n",
       "      <td>18</td>\n",
       "      <td>3324</td>\n",
       "      <td>(-1.980647648850782, 31.25387806628761)</td>\n",
       "    </tr>\n",
       "    <tr>\n",
       "      <th>6</th>\n",
       "      <td>Kagera</td>\n",
       "      <td>3316</td>\n",
       "      <td>19</td>\n",
       "      <td>3047</td>\n",
       "      <td>(-1.9737615997899574, 24.924561809622578)</td>\n",
       "    </tr>\n",
       "    <tr>\n",
       "      <th>7</th>\n",
       "      <td>Mwanza</td>\n",
       "      <td>3102</td>\n",
       "      <td>2</td>\n",
       "      <td>3024</td>\n",
       "      <td>(-3.231962549540344, 36.64873768358135)</td>\n",
       "    </tr>\n",
       "    <tr>\n",
       "      <th>8</th>\n",
       "      <td>Kigoma</td>\n",
       "      <td>2816</td>\n",
       "      <td>16</td>\n",
       "      <td>2816</td>\n",
       "      <td>(-4.296219425625, 30.214676500465202)</td>\n",
       "    </tr>\n",
       "    <tr>\n",
       "      <th>9</th>\n",
       "      <td>Ruvuma</td>\n",
       "      <td>2640</td>\n",
       "      <td>10</td>\n",
       "      <td>2640</td>\n",
       "      <td>(-10.774378770549243, 35.72930405988637)</td>\n",
       "    </tr>\n",
       "    <tr>\n",
       "      <th>10</th>\n",
       "      <td>Pwani</td>\n",
       "      <td>2635</td>\n",
       "      <td>4</td>\n",
       "      <td>2513</td>\n",
       "      <td>(-5.0577609585475525, 38.524448203784324)</td>\n",
       "    </tr>\n",
       "    <tr>\n",
       "      <th>11</th>\n",
       "      <td>Tanga</td>\n",
       "      <td>2547</td>\n",
       "      <td>1</td>\n",
       "      <td>2201</td>\n",
       "      <td>(-5.928733703961836, 36.044170744856885)</td>\n",
       "    </tr>\n",
       "    <tr>\n",
       "      <th>12</th>\n",
       "      <td>Dodoma</td>\n",
       "      <td>2201</td>\n",
       "      <td>13</td>\n",
       "      <td>2093</td>\n",
       "      <td>(-4.904661933010033, 34.74184160347349)</td>\n",
       "    </tr>\n",
       "    <tr>\n",
       "      <th>13</th>\n",
       "      <td>Singida</td>\n",
       "      <td>2093</td>\n",
       "      <td>14</td>\n",
       "      <td>1979</td>\n",
       "      <td>(-4.718531331647296, 32.87576173653866)</td>\n",
       "    </tr>\n",
       "    <tr>\n",
       "      <th>14</th>\n",
       "      <td>Mara</td>\n",
       "      <td>1969</td>\n",
       "      <td>20</td>\n",
       "      <td>1969</td>\n",
       "      <td>(-1.73990280698324, 34.15394044489588)</td>\n",
       "    </tr>\n",
       "    <tr>\n",
       "      <th>15</th>\n",
       "      <td>Tabora</td>\n",
       "      <td>1959</td>\n",
       "      <td>15</td>\n",
       "      <td>1808</td>\n",
       "      <td>(-7.359282737289822, 31.284386619706858)</td>\n",
       "    </tr>\n",
       "    <tr>\n",
       "      <th>16</th>\n",
       "      <td>Rukwa</td>\n",
       "      <td>1808</td>\n",
       "      <td>6</td>\n",
       "      <td>1609</td>\n",
       "      <td>(-6.678934485618397, 38.754706818266)</td>\n",
       "    </tr>\n",
       "    <tr>\n",
       "      <th>17</th>\n",
       "      <td>Mtwara</td>\n",
       "      <td>1730</td>\n",
       "      <td>21</td>\n",
       "      <td>1583</td>\n",
       "      <td>(-4.286211391692988, 35.93291503657612)</td>\n",
       "    </tr>\n",
       "    <tr>\n",
       "      <th>18</th>\n",
       "      <td>Manyara</td>\n",
       "      <td>1583</td>\n",
       "      <td>80</td>\n",
       "      <td>1238</td>\n",
       "      <td>(-9.645071252875606, 39.09471091880453)</td>\n",
       "    </tr>\n",
       "    <tr>\n",
       "      <th>19</th>\n",
       "      <td>Lindi</td>\n",
       "      <td>1546</td>\n",
       "      <td>60</td>\n",
       "      <td>1025</td>\n",
       "      <td>(-7.529581422097561, 39.07359288949268)</td>\n",
       "    </tr>\n",
       "    <tr>\n",
       "      <th>20</th>\n",
       "      <td>Dar es Salaam</td>\n",
       "      <td>805</td>\n",
       "      <td>7</td>\n",
       "      <td>805</td>\n",
       "      <td>(-6.9096767645962744, 39.21579862867081)</td>\n",
       "    </tr>\n",
       "  </tbody>\n",
       "</table>\n",
       "</div>"
      ],
      "text/plain": [
       "           region  str_count  region_code  code_count  \\\n",
       "0          Iringa       5294           11        5300   \n",
       "1       Shinyanga       4982           17        5011   \n",
       "2           Mbeya       4639           12        4639   \n",
       "3     Kilimanjaro       4379            3        4379   \n",
       "4        Morogoro       4006            5        4040   \n",
       "5          Arusha       3350           18        3324   \n",
       "6          Kagera       3316           19        3047   \n",
       "7          Mwanza       3102            2        3024   \n",
       "8          Kigoma       2816           16        2816   \n",
       "9          Ruvuma       2640           10        2640   \n",
       "10          Pwani       2635            4        2513   \n",
       "11          Tanga       2547            1        2201   \n",
       "12         Dodoma       2201           13        2093   \n",
       "13        Singida       2093           14        1979   \n",
       "14           Mara       1969           20        1969   \n",
       "15         Tabora       1959           15        1808   \n",
       "16          Rukwa       1808            6        1609   \n",
       "17         Mtwara       1730           21        1583   \n",
       "18        Manyara       1583           80        1238   \n",
       "19          Lindi       1546           60        1025   \n",
       "20  Dar es Salaam        805            7         805   \n",
       "\n",
       "                                 lat_long_avg  \n",
       "0     (-8.899634086545284, 34.87527552078679)  \n",
       "1   (-2.7549962549910196, 26.232338852508484)  \n",
       "2    (-9.097417654386721, 33.531504774080624)  \n",
       "3    (-3.5228229253459693, 37.50510820328157)  \n",
       "4     (-7.40001297169802, 37.047041468495046)  \n",
       "5     (-1.980647648850782, 31.25387806628761)  \n",
       "6   (-1.9737615997899574, 24.924561809622578)  \n",
       "7     (-3.231962549540344, 36.64873768358135)  \n",
       "8       (-4.296219425625, 30.214676500465202)  \n",
       "9    (-10.774378770549243, 35.72930405988637)  \n",
       "10  (-5.0577609585475525, 38.524448203784324)  \n",
       "11   (-5.928733703961836, 36.044170744856885)  \n",
       "12    (-4.904661933010033, 34.74184160347349)  \n",
       "13    (-4.718531331647296, 32.87576173653866)  \n",
       "14     (-1.73990280698324, 34.15394044489588)  \n",
       "15   (-7.359282737289822, 31.284386619706858)  \n",
       "16      (-6.678934485618397, 38.754706818266)  \n",
       "17    (-4.286211391692988, 35.93291503657612)  \n",
       "18    (-9.645071252875606, 39.09471091880453)  \n",
       "19    (-7.529581422097561, 39.07359288949268)  \n",
       "20   (-6.9096767645962744, 39.21579862867081)  "
      ]
     },
     "execution_count": 137,
     "metadata": {},
     "output_type": "execute_result"
    }
   ],
   "source": [
    "# helper function to get the .mean() lat/long values from the raw_df and\n",
    "# create a tuple of them combined in a new feature\n",
    "def get_lat_long(x):\n",
    "    means = raw_df[raw_df.region_code == x][['latitude', 'longitude']].mean()\n",
    "    return (means[0], means[1])\n",
    "\n",
    "region_df['lat_long_avg'] = region_df.region_code.map(get_lat_long)\n",
    "region_df"
   ]
  },
  {
   "cell_type": "code",
   "execution_count": 108,
   "id": "8fbd4b1a",
   "metadata": {
    "ExecuteTime": {
     "end_time": "2022-01-26T21:42:56.576902Z",
     "start_time": "2022-01-26T21:42:56.542993Z"
    }
   },
   "outputs": [],
   "source": [
    "from geopy import distance"
   ]
  },
  {
   "cell_type": "code",
   "execution_count": 139,
   "id": "e0631a02",
   "metadata": {
    "ExecuteTime": {
     "end_time": "2022-01-26T23:18:53.750135Z",
     "start_time": "2022-01-26T23:18:53.732181Z"
    }
   },
   "outputs": [],
   "source": [
    "test_lat_longs = {\n",
    "    'Mbeya': (-8.909401, 33.460773),\n",
    "    'Kilimanjaro': (-3.334883, 37.340382), # used lat/long for city of Moshi\n",
    "    'Kigoma': (-4.893941, 29.673386),\n",
    "    'Ruvuma' : (-10.676803, 35.655785), # used city of Songea\n",
    "    'Mara' : (-1.510191, 33.802046), # used city of Musoma\n",
    "    'Dar es Salaam' : (-6.776012, 39.178326)\n",
    "}"
   ]
  },
  {
   "cell_type": "code",
   "execution_count": 140,
   "id": "1413056d",
   "metadata": {
    "ExecuteTime": {
     "end_time": "2022-01-26T23:18:56.023966Z",
     "start_time": "2022-01-26T23:18:56.007010Z"
    }
   },
   "outputs": [
    {
     "name": "stdout",
     "output_type": "stream",
     "text": [
      "9.538862270734247\n"
     ]
    }
   ],
   "source": [
    "loc = 'Dar es Salaam'\n",
    "\n",
    "data_point = region_df.loc[20, 'lat_long_avg']\n",
    "real_point = test_lat_longs[loc]\n",
    "\n",
    "print(distance.distance(data_point, real_point).miles)"
   ]
  },
  {
   "cell_type": "code",
   "execution_count": 141,
   "id": "7a2c91b7",
   "metadata": {
    "ExecuteTime": {
     "end_time": "2022-01-26T23:19:01.550903Z",
     "start_time": "2022-01-26T23:19:01.531953Z"
    }
   },
   "outputs": [
    {
     "name": "stdout",
     "output_type": "stream",
     "text": [
      "29.001829466285304\n"
     ]
    }
   ],
   "source": [
    "loc = 'Mara'\n",
    "\n",
    "data_point = region_df.loc[14, 'lat_long_avg']\n",
    "real_point = test_lat_longs[loc]\n",
    "\n",
    "print(distance.distance(data_point, real_point).miles)"
   ]
  },
  {
   "cell_type": "code",
   "execution_count": null,
   "id": "2d96fa22",
   "metadata": {},
   "outputs": [],
   "source": []
  },
  {
   "cell_type": "code",
   "execution_count": null,
   "id": "f9b28200",
   "metadata": {},
   "outputs": [],
   "source": []
  },
  {
   "cell_type": "code",
   "execution_count": null,
   "id": "7396debb",
   "metadata": {},
   "outputs": [],
   "source": []
  },
  {
   "cell_type": "code",
   "execution_count": null,
   "id": "f2bc5a4d",
   "metadata": {},
   "outputs": [],
   "source": []
  },
  {
   "cell_type": "code",
   "execution_count": null,
   "id": "7f099b04",
   "metadata": {},
   "outputs": [],
   "source": []
  },
  {
   "cell_type": "code",
   "execution_count": 56,
   "id": "a23612d0",
   "metadata": {
    "ExecuteTime": {
     "end_time": "2022-01-26T20:09:06.565216Z",
     "start_time": "2022-01-26T20:09:06.548235Z"
    }
   },
   "outputs": [
    {
     "data": {
      "text/plain": [
       "0        23\n",
       "1     12203\n",
       "2     11173\n",
       "3      9998\n",
       "4      8999\n",
       "5      4356\n",
       "6      4074\n",
       "7      3343\n",
       "8      1043\n",
       "13      391\n",
       "23      293\n",
       "30      995\n",
       "33      874\n",
       "43      505\n",
       "53      745\n",
       "60       63\n",
       "62      109\n",
       "63      195\n",
       "67        6\n",
       "80       12\n",
       "Name: district_code, dtype: int64"
      ]
     },
     "execution_count": 56,
     "metadata": {},
     "output_type": "execute_result"
    }
   ],
   "source": [
    "num_df.district_code.value_counts().sort_index()"
   ]
  },
  {
   "cell_type": "code",
   "execution_count": 44,
   "id": "4b96f533",
   "metadata": {
    "ExecuteTime": {
     "end_time": "2022-01-26T20:01:33.943331Z",
     "start_time": "2022-01-26T20:01:33.932360Z"
    }
   },
   "outputs": [
    {
     "data": {
      "text/plain": [
       "27"
      ]
     },
     "execution_count": 44,
     "metadata": {},
     "output_type": "execute_result"
    }
   ],
   "source": [
    "len(num_df.region_code.value_counts())"
   ]
  },
  {
   "cell_type": "code",
   "execution_count": 46,
   "id": "f31685bf",
   "metadata": {
    "ExecuteTime": {
     "end_time": "2022-01-26T20:01:53.363874Z",
     "start_time": "2022-01-26T20:01:53.345895Z"
    },
    "scrolled": true
   },
   "outputs": [
    {
     "data": {
      "text/plain": [
       "21"
      ]
     },
     "execution_count": 46,
     "metadata": {},
     "output_type": "execute_result"
    }
   ],
   "source": []
  },
  {
   "cell_type": "code",
   "execution_count": 40,
   "id": "f436e689",
   "metadata": {
    "ExecuteTime": {
     "end_time": "2022-01-26T19:59:13.575917Z",
     "start_time": "2022-01-26T19:59:13.564946Z"
    },
    "scrolled": false
   },
   "outputs": [
    {
     "data": {
      "text/plain": [
       "17    1057\n",
       "19     752\n",
       "11       3\n",
       "Name: region_code, dtype: int64"
      ]
     },
     "execution_count": 40,
     "metadata": {},
     "output_type": "execute_result"
    }
   ],
   "source": [
    "gps_errors.region_code.value_counts()"
   ]
  },
  {
   "cell_type": "code",
   "execution_count": 41,
   "id": "d6b2c4b3",
   "metadata": {
    "ExecuteTime": {
     "end_time": "2022-01-26T19:59:16.685322Z",
     "start_time": "2022-01-26T19:59:16.667343Z"
    }
   },
   "outputs": [
    {
     "data": {
      "text/plain": [
       "1    1057\n",
       "6     488\n",
       "2     264\n",
       "4       3\n",
       "Name: district_code, dtype: int64"
      ]
     },
     "execution_count": 41,
     "metadata": {},
     "output_type": "execute_result"
    }
   ],
   "source": [
    "gps_errors.district_code.value_counts()"
   ]
  },
  {
   "cell_type": "code",
   "execution_count": null,
   "id": "a26b9a46",
   "metadata": {},
   "outputs": [],
   "source": []
  },
  {
   "cell_type": "code",
   "execution_count": 42,
   "id": "599b9ea4",
   "metadata": {
    "ExecuteTime": {
     "end_time": "2022-01-26T19:59:19.077795Z",
     "start_time": "2022-01-26T19:59:19.039922Z"
    }
   },
   "outputs": [
    {
     "data": {
      "text/html": [
       "<div>\n",
       "<style scoped>\n",
       "    .dataframe tbody tr th:only-of-type {\n",
       "        vertical-align: middle;\n",
       "    }\n",
       "\n",
       "    .dataframe tbody tr th {\n",
       "        vertical-align: top;\n",
       "    }\n",
       "\n",
       "    .dataframe thead th {\n",
       "        text-align: right;\n",
       "    }\n",
       "</style>\n",
       "<table border=\"1\" class=\"dataframe\">\n",
       "  <thead>\n",
       "    <tr style=\"text-align: right;\">\n",
       "      <th></th>\n",
       "      <th>id</th>\n",
       "      <th>amount_tsh</th>\n",
       "      <th>date_recorded</th>\n",
       "      <th>funder</th>\n",
       "      <th>gps_height</th>\n",
       "      <th>installer</th>\n",
       "      <th>longitude</th>\n",
       "      <th>latitude</th>\n",
       "      <th>wpt_name</th>\n",
       "      <th>num_private</th>\n",
       "      <th>...</th>\n",
       "      <th>water_quality</th>\n",
       "      <th>quality_group</th>\n",
       "      <th>quantity</th>\n",
       "      <th>quantity_group</th>\n",
       "      <th>source</th>\n",
       "      <th>source_type</th>\n",
       "      <th>source_class</th>\n",
       "      <th>waterpoint_type</th>\n",
       "      <th>waterpoint_type_group</th>\n",
       "      <th>status_group</th>\n",
       "    </tr>\n",
       "  </thead>\n",
       "  <tbody>\n",
       "    <tr>\n",
       "      <th>21</th>\n",
       "      <td>6091</td>\n",
       "      <td>0.0</td>\n",
       "      <td>2013-02-10</td>\n",
       "      <td>Dwsp</td>\n",
       "      <td>0</td>\n",
       "      <td>DWE</td>\n",
       "      <td>0.0</td>\n",
       "      <td>-2.000000e-08</td>\n",
       "      <td>Muungano</td>\n",
       "      <td>0</td>\n",
       "      <td>...</td>\n",
       "      <td>unknown</td>\n",
       "      <td>unknown</td>\n",
       "      <td>unknown</td>\n",
       "      <td>unknown</td>\n",
       "      <td>shallow well</td>\n",
       "      <td>shallow well</td>\n",
       "      <td>groundwater</td>\n",
       "      <td>hand pump</td>\n",
       "      <td>hand pump</td>\n",
       "      <td>functional</td>\n",
       "    </tr>\n",
       "    <tr>\n",
       "      <th>168</th>\n",
       "      <td>72678</td>\n",
       "      <td>0.0</td>\n",
       "      <td>2013-01-30</td>\n",
       "      <td>Wvt</td>\n",
       "      <td>0</td>\n",
       "      <td>WVT</td>\n",
       "      <td>0.0</td>\n",
       "      <td>-2.000000e-08</td>\n",
       "      <td>Wvt Tanzania</td>\n",
       "      <td>0</td>\n",
       "      <td>...</td>\n",
       "      <td>soft</td>\n",
       "      <td>good</td>\n",
       "      <td>seasonal</td>\n",
       "      <td>seasonal</td>\n",
       "      <td>rainwater harvesting</td>\n",
       "      <td>rainwater harvesting</td>\n",
       "      <td>surface</td>\n",
       "      <td>communal standpipe</td>\n",
       "      <td>communal standpipe</td>\n",
       "      <td>functional</td>\n",
       "    </tr>\n",
       "    <tr>\n",
       "      <th>177</th>\n",
       "      <td>56725</td>\n",
       "      <td>0.0</td>\n",
       "      <td>2013-01-17</td>\n",
       "      <td>Netherlands</td>\n",
       "      <td>0</td>\n",
       "      <td>DWE</td>\n",
       "      <td>0.0</td>\n",
       "      <td>-2.000000e-08</td>\n",
       "      <td>Kikundi Cha Wakina Mama</td>\n",
       "      <td>0</td>\n",
       "      <td>...</td>\n",
       "      <td>soft</td>\n",
       "      <td>good</td>\n",
       "      <td>enough</td>\n",
       "      <td>enough</td>\n",
       "      <td>shallow well</td>\n",
       "      <td>shallow well</td>\n",
       "      <td>groundwater</td>\n",
       "      <td>other</td>\n",
       "      <td>other</td>\n",
       "      <td>non functional</td>\n",
       "    </tr>\n",
       "    <tr>\n",
       "      <th>321</th>\n",
       "      <td>45415</td>\n",
       "      <td>0.0</td>\n",
       "      <td>2013-01-22</td>\n",
       "      <td>Dwsp</td>\n",
       "      <td>0</td>\n",
       "      <td>DWE</td>\n",
       "      <td>0.0</td>\n",
       "      <td>-2.000000e-08</td>\n",
       "      <td>Upendo</td>\n",
       "      <td>0</td>\n",
       "      <td>...</td>\n",
       "      <td>soft</td>\n",
       "      <td>good</td>\n",
       "      <td>enough</td>\n",
       "      <td>enough</td>\n",
       "      <td>shallow well</td>\n",
       "      <td>shallow well</td>\n",
       "      <td>groundwater</td>\n",
       "      <td>hand pump</td>\n",
       "      <td>hand pump</td>\n",
       "      <td>functional needs repair</td>\n",
       "    </tr>\n",
       "    <tr>\n",
       "      <th>323</th>\n",
       "      <td>51403</td>\n",
       "      <td>0.0</td>\n",
       "      <td>2013-02-16</td>\n",
       "      <td>Dwsp</td>\n",
       "      <td>0</td>\n",
       "      <td>DWE</td>\n",
       "      <td>0.0</td>\n",
       "      <td>-2.000000e-08</td>\n",
       "      <td>Serengeti</td>\n",
       "      <td>0</td>\n",
       "      <td>...</td>\n",
       "      <td>soft</td>\n",
       "      <td>good</td>\n",
       "      <td>enough</td>\n",
       "      <td>enough</td>\n",
       "      <td>other</td>\n",
       "      <td>other</td>\n",
       "      <td>unknown</td>\n",
       "      <td>other</td>\n",
       "      <td>other</td>\n",
       "      <td>non functional</td>\n",
       "    </tr>\n",
       "    <tr>\n",
       "      <th>...</th>\n",
       "      <td>...</td>\n",
       "      <td>...</td>\n",
       "      <td>...</td>\n",
       "      <td>...</td>\n",
       "      <td>...</td>\n",
       "      <td>...</td>\n",
       "      <td>...</td>\n",
       "      <td>...</td>\n",
       "      <td>...</td>\n",
       "      <td>...</td>\n",
       "      <td>...</td>\n",
       "      <td>...</td>\n",
       "      <td>...</td>\n",
       "      <td>...</td>\n",
       "      <td>...</td>\n",
       "      <td>...</td>\n",
       "      <td>...</td>\n",
       "      <td>...</td>\n",
       "      <td>...</td>\n",
       "      <td>...</td>\n",
       "      <td>...</td>\n",
       "    </tr>\n",
       "    <tr>\n",
       "      <th>59189</th>\n",
       "      <td>62177</td>\n",
       "      <td>0.0</td>\n",
       "      <td>2011-07-18</td>\n",
       "      <td>Dwsp</td>\n",
       "      <td>0</td>\n",
       "      <td>DWE</td>\n",
       "      <td>0.0</td>\n",
       "      <td>-2.000000e-08</td>\n",
       "      <td>Wazazo</td>\n",
       "      <td>0</td>\n",
       "      <td>...</td>\n",
       "      <td>soft</td>\n",
       "      <td>good</td>\n",
       "      <td>enough</td>\n",
       "      <td>enough</td>\n",
       "      <td>shallow well</td>\n",
       "      <td>shallow well</td>\n",
       "      <td>groundwater</td>\n",
       "      <td>hand pump</td>\n",
       "      <td>hand pump</td>\n",
       "      <td>functional needs repair</td>\n",
       "    </tr>\n",
       "    <tr>\n",
       "      <th>59208</th>\n",
       "      <td>3631</td>\n",
       "      <td>0.0</td>\n",
       "      <td>2013-01-22</td>\n",
       "      <td>Dwsp</td>\n",
       "      <td>0</td>\n",
       "      <td>DWE</td>\n",
       "      <td>0.0</td>\n",
       "      <td>-2.000000e-08</td>\n",
       "      <td>Mtakuja</td>\n",
       "      <td>0</td>\n",
       "      <td>...</td>\n",
       "      <td>soft</td>\n",
       "      <td>good</td>\n",
       "      <td>enough</td>\n",
       "      <td>enough</td>\n",
       "      <td>shallow well</td>\n",
       "      <td>shallow well</td>\n",
       "      <td>groundwater</td>\n",
       "      <td>hand pump</td>\n",
       "      <td>hand pump</td>\n",
       "      <td>functional</td>\n",
       "    </tr>\n",
       "    <tr>\n",
       "      <th>59295</th>\n",
       "      <td>60843</td>\n",
       "      <td>0.0</td>\n",
       "      <td>2011-07-19</td>\n",
       "      <td>Rwssp</td>\n",
       "      <td>0</td>\n",
       "      <td>DWE</td>\n",
       "      <td>0.0</td>\n",
       "      <td>-2.000000e-08</td>\n",
       "      <td>Maendeleo</td>\n",
       "      <td>0</td>\n",
       "      <td>...</td>\n",
       "      <td>soft</td>\n",
       "      <td>good</td>\n",
       "      <td>enough</td>\n",
       "      <td>enough</td>\n",
       "      <td>shallow well</td>\n",
       "      <td>shallow well</td>\n",
       "      <td>groundwater</td>\n",
       "      <td>hand pump</td>\n",
       "      <td>hand pump</td>\n",
       "      <td>functional needs repair</td>\n",
       "    </tr>\n",
       "    <tr>\n",
       "      <th>59324</th>\n",
       "      <td>748</td>\n",
       "      <td>0.0</td>\n",
       "      <td>2013-01-22</td>\n",
       "      <td>World Vision</td>\n",
       "      <td>0</td>\n",
       "      <td>World Vision</td>\n",
       "      <td>0.0</td>\n",
       "      <td>-2.000000e-08</td>\n",
       "      <td>Mwazwilo</td>\n",
       "      <td>0</td>\n",
       "      <td>...</td>\n",
       "      <td>soft</td>\n",
       "      <td>good</td>\n",
       "      <td>enough</td>\n",
       "      <td>enough</td>\n",
       "      <td>shallow well</td>\n",
       "      <td>shallow well</td>\n",
       "      <td>groundwater</td>\n",
       "      <td>hand pump</td>\n",
       "      <td>hand pump</td>\n",
       "      <td>functional</td>\n",
       "    </tr>\n",
       "    <tr>\n",
       "      <th>59374</th>\n",
       "      <td>49651</td>\n",
       "      <td>0.0</td>\n",
       "      <td>2012-10-29</td>\n",
       "      <td>Rwssp</td>\n",
       "      <td>0</td>\n",
       "      <td>DWE</td>\n",
       "      <td>0.0</td>\n",
       "      <td>-2.000000e-08</td>\n",
       "      <td>Nguvu Kazi</td>\n",
       "      <td>0</td>\n",
       "      <td>...</td>\n",
       "      <td>soft</td>\n",
       "      <td>good</td>\n",
       "      <td>enough</td>\n",
       "      <td>enough</td>\n",
       "      <td>shallow well</td>\n",
       "      <td>shallow well</td>\n",
       "      <td>groundwater</td>\n",
       "      <td>hand pump</td>\n",
       "      <td>hand pump</td>\n",
       "      <td>functional</td>\n",
       "    </tr>\n",
       "  </tbody>\n",
       "</table>\n",
       "<p>1057 rows × 41 columns</p>\n",
       "</div>"
      ],
      "text/plain": [
       "          id  amount_tsh date_recorded        funder  gps_height  \\\n",
       "21      6091         0.0    2013-02-10          Dwsp           0   \n",
       "168    72678         0.0    2013-01-30           Wvt           0   \n",
       "177    56725         0.0    2013-01-17   Netherlands           0   \n",
       "321    45415         0.0    2013-01-22          Dwsp           0   \n",
       "323    51403         0.0    2013-02-16          Dwsp           0   \n",
       "...      ...         ...           ...           ...         ...   \n",
       "59189  62177         0.0    2011-07-18          Dwsp           0   \n",
       "59208   3631         0.0    2013-01-22          Dwsp           0   \n",
       "59295  60843         0.0    2011-07-19         Rwssp           0   \n",
       "59324    748         0.0    2013-01-22  World Vision           0   \n",
       "59374  49651         0.0    2012-10-29         Rwssp           0   \n",
       "\n",
       "          installer  longitude      latitude                 wpt_name  \\\n",
       "21              DWE        0.0 -2.000000e-08                 Muungano   \n",
       "168             WVT        0.0 -2.000000e-08             Wvt Tanzania   \n",
       "177             DWE        0.0 -2.000000e-08  Kikundi Cha Wakina Mama   \n",
       "321             DWE        0.0 -2.000000e-08                   Upendo   \n",
       "323             DWE        0.0 -2.000000e-08                Serengeti   \n",
       "...             ...        ...           ...                      ...   \n",
       "59189           DWE        0.0 -2.000000e-08                   Wazazo   \n",
       "59208           DWE        0.0 -2.000000e-08                  Mtakuja   \n",
       "59295           DWE        0.0 -2.000000e-08                Maendeleo   \n",
       "59324  World Vision        0.0 -2.000000e-08                 Mwazwilo   \n",
       "59374           DWE        0.0 -2.000000e-08               Nguvu Kazi   \n",
       "\n",
       "       num_private  ... water_quality quality_group  quantity  quantity_group  \\\n",
       "21               0  ...       unknown       unknown   unknown         unknown   \n",
       "168              0  ...          soft          good  seasonal        seasonal   \n",
       "177              0  ...          soft          good    enough          enough   \n",
       "321              0  ...          soft          good    enough          enough   \n",
       "323              0  ...          soft          good    enough          enough   \n",
       "...            ...  ...           ...           ...       ...             ...   \n",
       "59189            0  ...          soft          good    enough          enough   \n",
       "59208            0  ...          soft          good    enough          enough   \n",
       "59295            0  ...          soft          good    enough          enough   \n",
       "59324            0  ...          soft          good    enough          enough   \n",
       "59374            0  ...          soft          good    enough          enough   \n",
       "\n",
       "                     source           source_type source_class  \\\n",
       "21             shallow well          shallow well  groundwater   \n",
       "168    rainwater harvesting  rainwater harvesting      surface   \n",
       "177            shallow well          shallow well  groundwater   \n",
       "321            shallow well          shallow well  groundwater   \n",
       "323                   other                 other      unknown   \n",
       "...                     ...                   ...          ...   \n",
       "59189          shallow well          shallow well  groundwater   \n",
       "59208          shallow well          shallow well  groundwater   \n",
       "59295          shallow well          shallow well  groundwater   \n",
       "59324          shallow well          shallow well  groundwater   \n",
       "59374          shallow well          shallow well  groundwater   \n",
       "\n",
       "          waterpoint_type  waterpoint_type_group             status_group  \n",
       "21              hand pump              hand pump               functional  \n",
       "168    communal standpipe     communal standpipe               functional  \n",
       "177                 other                  other           non functional  \n",
       "321             hand pump              hand pump  functional needs repair  \n",
       "323                 other                  other           non functional  \n",
       "...                   ...                    ...                      ...  \n",
       "59189           hand pump              hand pump  functional needs repair  \n",
       "59208           hand pump              hand pump               functional  \n",
       "59295           hand pump              hand pump  functional needs repair  \n",
       "59324           hand pump              hand pump               functional  \n",
       "59374           hand pump              hand pump               functional  \n",
       "\n",
       "[1057 rows x 41 columns]"
      ]
     },
     "execution_count": 42,
     "metadata": {},
     "output_type": "execute_result"
    }
   ],
   "source": [
    "gps_errors[(gps_errors.region_code == 17) & (gps_errors.district_code == 1)]"
   ]
  },
  {
   "cell_type": "markdown",
   "id": "5dda5f80",
   "metadata": {},
   "source": [
    "# Exploring extraction types"
   ]
  },
  {
   "cell_type": "code",
   "execution_count": null,
   "id": "1973025e",
   "metadata": {
    "scrolled": false
   },
   "outputs": [],
   "source": [
    "extraction_types = pd.DataFrame(raw_df.extraction_type.value_counts())\n",
    "extraction_types.columns = ['total_count']\n",
    "extraction_types['percent_of_total'] = round((extraction_types.total_count / len(raw_df)) * 100, 2)\n",
    "extraction_types['non-functional'] = raw_df[raw_df.status_group == 'non functional'].extraction_type.value_counts()\n",
    "extraction_types['non-functional_percent'] = round((extraction_types['non-functional'] / extraction_types.total_count) * 100, 2)\n",
    "extraction_types['needs_repair'] = raw_df[raw_df.status_group == 'functional needs repair'].extraction_type.value_counts()\n",
    "extraction_types.fillna(0.0, inplace=True)\n",
    "extraction_types['needs_repair'] = extraction_types['needs_repair'].astype('int')\n",
    "extraction_types['needs_repair_percent'] = round((extraction_types['needs_repair'] / extraction_types.total_count) * 100, 2)\n",
    "extraction_types"
   ]
  }
 ],
 "metadata": {
  "kernelspec": {
   "display_name": "Python 3 (ipykernel)",
   "language": "python",
   "name": "python3"
  },
  "language_info": {
   "codemirror_mode": {
    "name": "ipython",
    "version": 3
   },
   "file_extension": ".py",
   "mimetype": "text/x-python",
   "name": "python",
   "nbconvert_exporter": "python",
   "pygments_lexer": "ipython3",
   "version": "3.8.5"
  },
  "toc": {
   "base_numbering": 1,
   "nav_menu": {},
   "number_sections": true,
   "sideBar": true,
   "skip_h1_title": false,
   "title_cell": "Table of Contents",
   "title_sidebar": "Contents",
   "toc_cell": false,
   "toc_position": {
    "height": "calc(100% - 180px)",
    "left": "10px",
    "top": "150px",
    "width": "408.466px"
   },
   "toc_section_display": true,
   "toc_window_display": true
  }
 },
 "nbformat": 4,
 "nbformat_minor": 5
}
