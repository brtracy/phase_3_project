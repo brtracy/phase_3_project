{
 "cells": [
  {
   "cell_type": "markdown",
   "id": "0a71775f",
   "metadata": {},
   "source": [
    "# Business Problem"
   ]
  },
  {
   "cell_type": "markdown",
   "id": "979e1579",
   "metadata": {},
   "source": [
    "The Tanzania Development Trust is a UK charitable organization operating within the country of Tanzania since 1975.\n",
    "\n",
    "They focus on development in rural Tanzania, aiming to support small projects in the poorest parts of the country where one of their priority areas of funding is clean water. Their stated water project involves boreholing and rope pump installation in areas with limited access to clean water, currently located in the regions of Kagera and Kigoma in the northwest of the country.\n",
    "\n",
    "A new benefactor wants to expand the project not only geographically to more of the country, but in the scope of repairing existing pumps before they fail. I have been tasked with developing a model to predict the operating condition of a current waterpoint: functional, needs repair, or non-functional.\n",
    "\n",
    "The main objective is to identify waterpoints that are in need of repair. [Research shows](https://sswm.info/entrepreneurship-resource/developing-impactful-businesses/maintenance-services-for-rural-water-pumps) that it is much less expensive to repair and rehabilitate a waterpoint, as well as being more protective of the water resources in the country. \n",
    "The secondary objective is to identify concentrations of non-functioning water points that may be an eligible location for a new installation.\n",
    "______________________\n",
    "The data provided for modeling was collected between March 2011 and March 2013, and contains the information for 59,400 water points "
   ]
  },
  {
   "cell_type": "markdown",
   "id": "ff431296",
   "metadata": {},
   "source": [
    "# Imports"
   ]
  },
  {
   "cell_type": "code",
   "execution_count": 1,
   "id": "56c8e212",
   "metadata": {
    "ExecuteTime": {
     "end_time": "2022-01-22T19:12:29.980458Z",
     "start_time": "2022-01-22T19:12:28.919947Z"
    }
   },
   "outputs": [],
   "source": [
    "import pandas as pd\n",
    "\n",
    "# import training data and target\n",
    "raw_data = pd.read_csv('data/training_data.csv')\n",
    "raw_target = pd.read_csv('data/training_target.csv')"
   ]
  },
  {
   "cell_type": "code",
   "execution_count": 2,
   "id": "c285a68f",
   "metadata": {
    "ExecuteTime": {
     "end_time": "2022-01-22T19:12:30.826644Z",
     "start_time": "2022-01-22T19:12:30.710944Z"
    },
    "scrolled": true
   },
   "outputs": [
    {
     "name": "stdout",
     "output_type": "stream",
     "text": [
      "<class 'pandas.core.frame.DataFrame'>\n",
      "RangeIndex: 59400 entries, 0 to 59399\n",
      "Data columns (total 2 columns):\n",
      " #   Column        Non-Null Count  Dtype \n",
      "---  ------        --------------  ----- \n",
      " 0   id            59400 non-null  int64 \n",
      " 1   status_group  59400 non-null  object\n",
      "dtypes: int64(1), object(1)\n",
      "memory usage: 928.2+ KB\n"
     ]
    },
    {
     "data": {
      "text/plain": [
       "None"
      ]
     },
     "metadata": {},
     "output_type": "display_data"
    },
    {
     "name": "stdout",
     "output_type": "stream",
     "text": [
      "<class 'pandas.core.frame.DataFrame'>\n",
      "RangeIndex: 59400 entries, 0 to 59399\n",
      "Data columns (total 40 columns):\n",
      " #   Column                 Non-Null Count  Dtype  \n",
      "---  ------                 --------------  -----  \n",
      " 0   id                     59400 non-null  int64  \n",
      " 1   amount_tsh             59400 non-null  float64\n",
      " 2   date_recorded          59400 non-null  object \n",
      " 3   funder                 55765 non-null  object \n",
      " 4   gps_height             59400 non-null  int64  \n",
      " 5   installer              55745 non-null  object \n",
      " 6   longitude              59400 non-null  float64\n",
      " 7   latitude               59400 non-null  float64\n",
      " 8   wpt_name               59400 non-null  object \n",
      " 9   num_private            59400 non-null  int64  \n",
      " 10  basin                  59400 non-null  object \n",
      " 11  subvillage             59029 non-null  object \n",
      " 12  region                 59400 non-null  object \n",
      " 13  region_code            59400 non-null  int64  \n",
      " 14  district_code          59400 non-null  int64  \n",
      " 15  lga                    59400 non-null  object \n",
      " 16  ward                   59400 non-null  object \n",
      " 17  population             59400 non-null  int64  \n",
      " 18  public_meeting         56066 non-null  object \n",
      " 19  recorded_by            59400 non-null  object \n",
      " 20  scheme_management      55523 non-null  object \n",
      " 21  scheme_name            31234 non-null  object \n",
      " 22  permit                 56344 non-null  object \n",
      " 23  construction_year      59400 non-null  int64  \n",
      " 24  extraction_type        59400 non-null  object \n",
      " 25  extraction_type_group  59400 non-null  object \n",
      " 26  extraction_type_class  59400 non-null  object \n",
      " 27  management             59400 non-null  object \n",
      " 28  management_group       59400 non-null  object \n",
      " 29  payment                59400 non-null  object \n",
      " 30  payment_type           59400 non-null  object \n",
      " 31  water_quality          59400 non-null  object \n",
      " 32  quality_group          59400 non-null  object \n",
      " 33  quantity               59400 non-null  object \n",
      " 34  quantity_group         59400 non-null  object \n",
      " 35  source                 59400 non-null  object \n",
      " 36  source_type            59400 non-null  object \n",
      " 37  source_class           59400 non-null  object \n",
      " 38  waterpoint_type        59400 non-null  object \n",
      " 39  waterpoint_type_group  59400 non-null  object \n",
      "dtypes: float64(3), int64(7), object(30)\n",
      "memory usage: 18.1+ MB\n",
      "None\n"
     ]
    }
   ],
   "source": [
    "display(raw_target.info())\n",
    "print(raw_data.info())"
   ]
  },
  {
   "cell_type": "markdown",
   "id": "346fa101",
   "metadata": {},
   "source": [
    "Create a raw dataframe with merged data and target. We will use this df during initial EDA so we can compare feature relationships with target, and so we can understand and deal with null values"
   ]
  },
  {
   "cell_type": "code",
   "execution_count": 3,
   "id": "d1dfaee1",
   "metadata": {
    "ExecuteTime": {
     "end_time": "2022-01-22T19:12:33.476215Z",
     "start_time": "2022-01-22T19:12:33.288614Z"
    }
   },
   "outputs": [],
   "source": [
    "raw_df = pd.merge(raw_data, raw_target, on='id')"
   ]
  },
  {
   "cell_type": "markdown",
   "id": "9cec82c3",
   "metadata": {},
   "source": [
    "The dataset for training includes 59,400 entries with 40 total features and a target label."
   ]
  },
  {
   "cell_type": "code",
   "execution_count": 11,
   "id": "97ada609",
   "metadata": {
    "ExecuteTime": {
     "end_time": "2022-01-22T19:13:48.363513Z",
     "start_time": "2022-01-22T19:13:48.347593Z"
    }
   },
   "outputs": [
    {
     "data": {
      "text/html": [
       "<div>\n",
       "<style scoped>\n",
       "    .dataframe tbody tr th:only-of-type {\n",
       "        vertical-align: middle;\n",
       "    }\n",
       "\n",
       "    .dataframe tbody tr th {\n",
       "        vertical-align: top;\n",
       "    }\n",
       "\n",
       "    .dataframe thead th {\n",
       "        text-align: right;\n",
       "    }\n",
       "</style>\n",
       "<table border=\"1\" class=\"dataframe\">\n",
       "  <thead>\n",
       "    <tr style=\"text-align: right;\">\n",
       "      <th></th>\n",
       "      <th>status_group</th>\n",
       "      <th>percent</th>\n",
       "    </tr>\n",
       "  </thead>\n",
       "  <tbody>\n",
       "    <tr>\n",
       "      <th>functional</th>\n",
       "      <td>32259</td>\n",
       "      <td>54.308081</td>\n",
       "    </tr>\n",
       "    <tr>\n",
       "      <th>non functional</th>\n",
       "      <td>22824</td>\n",
       "      <td>38.424242</td>\n",
       "    </tr>\n",
       "    <tr>\n",
       "      <th>functional needs repair</th>\n",
       "      <td>4317</td>\n",
       "      <td>7.267677</td>\n",
       "    </tr>\n",
       "  </tbody>\n",
       "</table>\n",
       "</div>"
      ],
      "text/plain": [
       "                         status_group    percent\n",
       "functional                      32259  54.308081\n",
       "non functional                  22824  38.424242\n",
       "functional needs repair          4317   7.267677"
      ]
     },
     "execution_count": 11,
     "metadata": {},
     "output_type": "execute_result"
    }
   ],
   "source": [
    "status_values = pd.DataFrame(raw_df.status_group.value_counts())\n",
    "status_values['percent'] = raw_df.status_group.value_counts(normalize=True) * 100\n",
    "status_values"
   ]
  },
  {
   "cell_type": "markdown",
   "id": "9ce9e137",
   "metadata": {},
   "source": [
    "This is a ternary classification problem. The three possible values are:\n",
    "- functional (F)\n",
    "- non functional (NF)\n",
    "- functional needs repair (FR)\n",
    "\n",
    "Value counts show that our dataset is not balanced with respect to the label values. Only 7.3% of pumps are classified as functional needs repair, while 54.3% are functional and 38.4% are non functional. We will need to keep this imbalance in mind when modeling.\n"
   ]
  },
  {
   "cell_type": "code",
   "execution_count": null,
   "id": "e589ef97",
   "metadata": {},
   "outputs": [],
   "source": []
  },
  {
   "cell_type": "code",
   "execution_count": null,
   "id": "d856e9ef",
   "metadata": {},
   "outputs": [],
   "source": []
  },
  {
   "cell_type": "code",
   "execution_count": null,
   "id": "1973025e",
   "metadata": {},
   "outputs": [],
   "source": []
  },
  {
   "cell_type": "code",
   "execution_count": null,
   "id": "bea020c9",
   "metadata": {},
   "outputs": [],
   "source": []
  },
  {
   "cell_type": "code",
   "execution_count": null,
   "id": "0f9a250c",
   "metadata": {},
   "outputs": [],
   "source": []
  },
  {
   "cell_type": "code",
   "execution_count": 12,
   "id": "26a6e81c",
   "metadata": {
    "ExecuteTime": {
     "end_time": "2022-01-22T19:14:26.064973Z",
     "start_time": "2022-01-22T19:14:26.044056Z"
    }
   },
   "outputs": [
    {
     "data": {
      "text/plain": [
       "Arusha           3350\n",
       "Dar es Salaam     805\n",
       "Dodoma           2201\n",
       "Iringa           5294\n",
       "Kagera           3316\n",
       "Kigoma           2816\n",
       "Kilimanjaro      4379\n",
       "Lindi            1546\n",
       "Manyara          1583\n",
       "Mara             1969\n",
       "Mbeya            4639\n",
       "Morogoro         4006\n",
       "Mtwara           1730\n",
       "Mwanza           3102\n",
       "Pwani            2635\n",
       "Rukwa            1808\n",
       "Ruvuma           2640\n",
       "Shinyanga        4982\n",
       "Singida          2093\n",
       "Tabora           1959\n",
       "Tanga            2547\n",
       "Name: region, dtype: int64"
      ]
     },
     "execution_count": 12,
     "metadata": {},
     "output_type": "execute_result"
    }
   ],
   "source": [
    "raw_df.region.value_counts().sort_index()"
   ]
  },
  {
   "cell_type": "code",
   "execution_count": 13,
   "id": "03d58d76",
   "metadata": {
    "ExecuteTime": {
     "end_time": "2022-01-22T19:14:28.781001Z",
     "start_time": "2022-01-22T19:14:28.768035Z"
    }
   },
   "outputs": [
    {
     "data": {
      "text/plain": [
       "gravity                      26780\n",
       "nira/tanira                   8154\n",
       "other                         6430\n",
       "submersible                   4764\n",
       "swn 80                        3670\n",
       "mono                          2865\n",
       "india mark ii                 2400\n",
       "afridev                       1770\n",
       "ksb                           1415\n",
       "other - rope pump              451\n",
       "other - swn 81                 229\n",
       "windmill                       117\n",
       "india mark iii                  98\n",
       "cemo                            90\n",
       "other - play pump               85\n",
       "walimi                          48\n",
       "climax                          32\n",
       "other - mkulima/shinyanga        2\n",
       "Name: extraction_type, dtype: int64"
      ]
     },
     "execution_count": 13,
     "metadata": {},
     "output_type": "execute_result"
    }
   ],
   "source": [
    "raw_df.extraction_type.value_counts()"
   ]
  },
  {
   "cell_type": "code",
   "execution_count": 14,
   "id": "c6292e1c",
   "metadata": {
    "ExecuteTime": {
     "end_time": "2022-01-22T19:14:33.403852Z",
     "start_time": "2022-01-22T19:14:33.321068Z"
    }
   },
   "outputs": [
    {
     "data": {
      "text/html": [
       "<div>\n",
       "<style scoped>\n",
       "    .dataframe tbody tr th:only-of-type {\n",
       "        vertical-align: middle;\n",
       "    }\n",
       "\n",
       "    .dataframe tbody tr th {\n",
       "        vertical-align: top;\n",
       "    }\n",
       "\n",
       "    .dataframe thead th {\n",
       "        text-align: right;\n",
       "    }\n",
       "</style>\n",
       "<table border=\"1\" class=\"dataframe\">\n",
       "  <thead>\n",
       "    <tr style=\"text-align: right;\">\n",
       "      <th></th>\n",
       "      <th>id</th>\n",
       "      <th>amount_tsh</th>\n",
       "      <th>date_recorded</th>\n",
       "      <th>funder</th>\n",
       "      <th>gps_height</th>\n",
       "      <th>installer</th>\n",
       "      <th>longitude</th>\n",
       "      <th>latitude</th>\n",
       "      <th>wpt_name</th>\n",
       "      <th>num_private</th>\n",
       "      <th>...</th>\n",
       "      <th>water_quality</th>\n",
       "      <th>quality_group</th>\n",
       "      <th>quantity</th>\n",
       "      <th>quantity_group</th>\n",
       "      <th>source</th>\n",
       "      <th>source_type</th>\n",
       "      <th>source_class</th>\n",
       "      <th>waterpoint_type</th>\n",
       "      <th>waterpoint_type_group</th>\n",
       "      <th>status_group</th>\n",
       "    </tr>\n",
       "  </thead>\n",
       "  <tbody>\n",
       "    <tr>\n",
       "      <th>3</th>\n",
       "      <td>67743</td>\n",
       "      <td>0.0</td>\n",
       "      <td>2013-01-28</td>\n",
       "      <td>Unicef</td>\n",
       "      <td>263</td>\n",
       "      <td>UNICEF</td>\n",
       "      <td>38.486161</td>\n",
       "      <td>-11.155298</td>\n",
       "      <td>Zahanati Ya Nanyumbu</td>\n",
       "      <td>0</td>\n",
       "      <td>...</td>\n",
       "      <td>soft</td>\n",
       "      <td>good</td>\n",
       "      <td>dry</td>\n",
       "      <td>dry</td>\n",
       "      <td>machine dbh</td>\n",
       "      <td>borehole</td>\n",
       "      <td>groundwater</td>\n",
       "      <td>communal standpipe multiple</td>\n",
       "      <td>communal standpipe</td>\n",
       "      <td>non functional</td>\n",
       "    </tr>\n",
       "    <tr>\n",
       "      <th>6</th>\n",
       "      <td>19816</td>\n",
       "      <td>0.0</td>\n",
       "      <td>2012-10-01</td>\n",
       "      <td>Dwsp</td>\n",
       "      <td>0</td>\n",
       "      <td>DWSP</td>\n",
       "      <td>33.362410</td>\n",
       "      <td>-3.766365</td>\n",
       "      <td>Kwa Ngomho</td>\n",
       "      <td>0</td>\n",
       "      <td>...</td>\n",
       "      <td>soft</td>\n",
       "      <td>good</td>\n",
       "      <td>enough</td>\n",
       "      <td>enough</td>\n",
       "      <td>machine dbh</td>\n",
       "      <td>borehole</td>\n",
       "      <td>groundwater</td>\n",
       "      <td>hand pump</td>\n",
       "      <td>hand pump</td>\n",
       "      <td>non functional</td>\n",
       "    </tr>\n",
       "    <tr>\n",
       "      <th>7</th>\n",
       "      <td>54551</td>\n",
       "      <td>0.0</td>\n",
       "      <td>2012-10-09</td>\n",
       "      <td>Rwssp</td>\n",
       "      <td>0</td>\n",
       "      <td>DWE</td>\n",
       "      <td>32.620617</td>\n",
       "      <td>-4.226198</td>\n",
       "      <td>Tushirikiane</td>\n",
       "      <td>0</td>\n",
       "      <td>...</td>\n",
       "      <td>milky</td>\n",
       "      <td>milky</td>\n",
       "      <td>enough</td>\n",
       "      <td>enough</td>\n",
       "      <td>shallow well</td>\n",
       "      <td>shallow well</td>\n",
       "      <td>groundwater</td>\n",
       "      <td>hand pump</td>\n",
       "      <td>hand pump</td>\n",
       "      <td>non functional</td>\n",
       "    </tr>\n",
       "    <tr>\n",
       "      <th>8</th>\n",
       "      <td>53934</td>\n",
       "      <td>0.0</td>\n",
       "      <td>2012-11-03</td>\n",
       "      <td>Wateraid</td>\n",
       "      <td>0</td>\n",
       "      <td>Water Aid</td>\n",
       "      <td>32.711100</td>\n",
       "      <td>-5.146712</td>\n",
       "      <td>Kwa Ramadhan Musa</td>\n",
       "      <td>0</td>\n",
       "      <td>...</td>\n",
       "      <td>salty</td>\n",
       "      <td>salty</td>\n",
       "      <td>seasonal</td>\n",
       "      <td>seasonal</td>\n",
       "      <td>machine dbh</td>\n",
       "      <td>borehole</td>\n",
       "      <td>groundwater</td>\n",
       "      <td>hand pump</td>\n",
       "      <td>hand pump</td>\n",
       "      <td>non functional</td>\n",
       "    </tr>\n",
       "    <tr>\n",
       "      <th>16</th>\n",
       "      <td>48451</td>\n",
       "      <td>500.0</td>\n",
       "      <td>2011-07-04</td>\n",
       "      <td>Unicef</td>\n",
       "      <td>1703</td>\n",
       "      <td>DWE</td>\n",
       "      <td>34.642439</td>\n",
       "      <td>-9.106185</td>\n",
       "      <td>Kwa John Mtenzi</td>\n",
       "      <td>0</td>\n",
       "      <td>...</td>\n",
       "      <td>soft</td>\n",
       "      <td>good</td>\n",
       "      <td>dry</td>\n",
       "      <td>dry</td>\n",
       "      <td>river</td>\n",
       "      <td>river/lake</td>\n",
       "      <td>surface</td>\n",
       "      <td>communal standpipe</td>\n",
       "      <td>communal standpipe</td>\n",
       "      <td>non functional</td>\n",
       "    </tr>\n",
       "    <tr>\n",
       "      <th>...</th>\n",
       "      <td>...</td>\n",
       "      <td>...</td>\n",
       "      <td>...</td>\n",
       "      <td>...</td>\n",
       "      <td>...</td>\n",
       "      <td>...</td>\n",
       "      <td>...</td>\n",
       "      <td>...</td>\n",
       "      <td>...</td>\n",
       "      <td>...</td>\n",
       "      <td>...</td>\n",
       "      <td>...</td>\n",
       "      <td>...</td>\n",
       "      <td>...</td>\n",
       "      <td>...</td>\n",
       "      <td>...</td>\n",
       "      <td>...</td>\n",
       "      <td>...</td>\n",
       "      <td>...</td>\n",
       "      <td>...</td>\n",
       "      <td>...</td>\n",
       "    </tr>\n",
       "    <tr>\n",
       "      <th>59382</th>\n",
       "      <td>47002</td>\n",
       "      <td>6.0</td>\n",
       "      <td>2013-08-03</td>\n",
       "      <td>Ces(gmbh)</td>\n",
       "      <td>1383</td>\n",
       "      <td>DWE</td>\n",
       "      <td>37.454759</td>\n",
       "      <td>-3.323599</td>\n",
       "      <td>Kwa Luka Msaki</td>\n",
       "      <td>0</td>\n",
       "      <td>...</td>\n",
       "      <td>soft</td>\n",
       "      <td>good</td>\n",
       "      <td>enough</td>\n",
       "      <td>enough</td>\n",
       "      <td>spring</td>\n",
       "      <td>spring</td>\n",
       "      <td>groundwater</td>\n",
       "      <td>communal standpipe</td>\n",
       "      <td>communal standpipe</td>\n",
       "      <td>non functional</td>\n",
       "    </tr>\n",
       "    <tr>\n",
       "      <th>59384</th>\n",
       "      <td>72148</td>\n",
       "      <td>0.0</td>\n",
       "      <td>2011-07-10</td>\n",
       "      <td>Concern</td>\n",
       "      <td>0</td>\n",
       "      <td>CONCERN</td>\n",
       "      <td>30.667805</td>\n",
       "      <td>-2.483710</td>\n",
       "      <td>Chamkube</td>\n",
       "      <td>0</td>\n",
       "      <td>...</td>\n",
       "      <td>soft</td>\n",
       "      <td>good</td>\n",
       "      <td>insufficient</td>\n",
       "      <td>insufficient</td>\n",
       "      <td>spring</td>\n",
       "      <td>spring</td>\n",
       "      <td>groundwater</td>\n",
       "      <td>communal standpipe</td>\n",
       "      <td>communal standpipe</td>\n",
       "      <td>non functional</td>\n",
       "    </tr>\n",
       "    <tr>\n",
       "      <th>59391</th>\n",
       "      <td>44885</td>\n",
       "      <td>0.0</td>\n",
       "      <td>2013-08-03</td>\n",
       "      <td>Government Of Tanzania</td>\n",
       "      <td>540</td>\n",
       "      <td>Government</td>\n",
       "      <td>38.044070</td>\n",
       "      <td>-4.272218</td>\n",
       "      <td>Kwa</td>\n",
       "      <td>0</td>\n",
       "      <td>...</td>\n",
       "      <td>soft</td>\n",
       "      <td>good</td>\n",
       "      <td>enough</td>\n",
       "      <td>enough</td>\n",
       "      <td>river</td>\n",
       "      <td>river/lake</td>\n",
       "      <td>surface</td>\n",
       "      <td>communal standpipe</td>\n",
       "      <td>communal standpipe</td>\n",
       "      <td>non functional</td>\n",
       "    </tr>\n",
       "    <tr>\n",
       "      <th>59392</th>\n",
       "      <td>40607</td>\n",
       "      <td>0.0</td>\n",
       "      <td>2011-04-15</td>\n",
       "      <td>Government Of Tanzania</td>\n",
       "      <td>0</td>\n",
       "      <td>Government</td>\n",
       "      <td>33.009440</td>\n",
       "      <td>-8.520888</td>\n",
       "      <td>Benard Charles</td>\n",
       "      <td>0</td>\n",
       "      <td>...</td>\n",
       "      <td>soft</td>\n",
       "      <td>good</td>\n",
       "      <td>enough</td>\n",
       "      <td>enough</td>\n",
       "      <td>spring</td>\n",
       "      <td>spring</td>\n",
       "      <td>groundwater</td>\n",
       "      <td>communal standpipe</td>\n",
       "      <td>communal standpipe</td>\n",
       "      <td>non functional</td>\n",
       "    </tr>\n",
       "    <tr>\n",
       "      <th>59394</th>\n",
       "      <td>11164</td>\n",
       "      <td>500.0</td>\n",
       "      <td>2011-03-09</td>\n",
       "      <td>World Bank</td>\n",
       "      <td>351</td>\n",
       "      <td>ML appro</td>\n",
       "      <td>37.634053</td>\n",
       "      <td>-6.124830</td>\n",
       "      <td>Chimeredya</td>\n",
       "      <td>0</td>\n",
       "      <td>...</td>\n",
       "      <td>soft</td>\n",
       "      <td>good</td>\n",
       "      <td>enough</td>\n",
       "      <td>enough</td>\n",
       "      <td>machine dbh</td>\n",
       "      <td>borehole</td>\n",
       "      <td>groundwater</td>\n",
       "      <td>communal standpipe</td>\n",
       "      <td>communal standpipe</td>\n",
       "      <td>non functional</td>\n",
       "    </tr>\n",
       "  </tbody>\n",
       "</table>\n",
       "<p>22824 rows × 41 columns</p>\n",
       "</div>"
      ],
      "text/plain": [
       "          id  amount_tsh date_recorded                  funder  gps_height  \\\n",
       "3      67743         0.0    2013-01-28                  Unicef         263   \n",
       "6      19816         0.0    2012-10-01                    Dwsp           0   \n",
       "7      54551         0.0    2012-10-09                   Rwssp           0   \n",
       "8      53934         0.0    2012-11-03                Wateraid           0   \n",
       "16     48451       500.0    2011-07-04                  Unicef        1703   \n",
       "...      ...         ...           ...                     ...         ...   \n",
       "59382  47002         6.0    2013-08-03               Ces(gmbh)        1383   \n",
       "59384  72148         0.0    2011-07-10                 Concern           0   \n",
       "59391  44885         0.0    2013-08-03  Government Of Tanzania         540   \n",
       "59392  40607         0.0    2011-04-15  Government Of Tanzania           0   \n",
       "59394  11164       500.0    2011-03-09              World Bank         351   \n",
       "\n",
       "        installer  longitude   latitude              wpt_name  num_private  \\\n",
       "3          UNICEF  38.486161 -11.155298  Zahanati Ya Nanyumbu            0   \n",
       "6            DWSP  33.362410  -3.766365            Kwa Ngomho            0   \n",
       "7             DWE  32.620617  -4.226198          Tushirikiane            0   \n",
       "8       Water Aid  32.711100  -5.146712     Kwa Ramadhan Musa            0   \n",
       "16            DWE  34.642439  -9.106185       Kwa John Mtenzi            0   \n",
       "...           ...        ...        ...                   ...          ...   \n",
       "59382         DWE  37.454759  -3.323599        Kwa Luka Msaki            0   \n",
       "59384     CONCERN  30.667805  -2.483710              Chamkube            0   \n",
       "59391  Government  38.044070  -4.272218                   Kwa            0   \n",
       "59392  Government  33.009440  -8.520888        Benard Charles            0   \n",
       "59394    ML appro  37.634053  -6.124830            Chimeredya            0   \n",
       "\n",
       "       ... water_quality quality_group      quantity  quantity_group  \\\n",
       "3      ...          soft          good           dry             dry   \n",
       "6      ...          soft          good        enough          enough   \n",
       "7      ...         milky         milky        enough          enough   \n",
       "8      ...         salty         salty      seasonal        seasonal   \n",
       "16     ...          soft          good           dry             dry   \n",
       "...    ...           ...           ...           ...             ...   \n",
       "59382  ...          soft          good        enough          enough   \n",
       "59384  ...          soft          good  insufficient    insufficient   \n",
       "59391  ...          soft          good        enough          enough   \n",
       "59392  ...          soft          good        enough          enough   \n",
       "59394  ...          soft          good        enough          enough   \n",
       "\n",
       "             source   source_type source_class              waterpoint_type  \\\n",
       "3       machine dbh      borehole  groundwater  communal standpipe multiple   \n",
       "6       machine dbh      borehole  groundwater                    hand pump   \n",
       "7      shallow well  shallow well  groundwater                    hand pump   \n",
       "8       machine dbh      borehole  groundwater                    hand pump   \n",
       "16            river    river/lake      surface           communal standpipe   \n",
       "...             ...           ...          ...                          ...   \n",
       "59382        spring        spring  groundwater           communal standpipe   \n",
       "59384        spring        spring  groundwater           communal standpipe   \n",
       "59391         river    river/lake      surface           communal standpipe   \n",
       "59392        spring        spring  groundwater           communal standpipe   \n",
       "59394   machine dbh      borehole  groundwater           communal standpipe   \n",
       "\n",
       "      waterpoint_type_group    status_group  \n",
       "3        communal standpipe  non functional  \n",
       "6                 hand pump  non functional  \n",
       "7                 hand pump  non functional  \n",
       "8                 hand pump  non functional  \n",
       "16       communal standpipe  non functional  \n",
       "...                     ...             ...  \n",
       "59382    communal standpipe  non functional  \n",
       "59384    communal standpipe  non functional  \n",
       "59391    communal standpipe  non functional  \n",
       "59392    communal standpipe  non functional  \n",
       "59394    communal standpipe  non functional  \n",
       "\n",
       "[22824 rows x 41 columns]"
      ]
     },
     "execution_count": 14,
     "metadata": {},
     "output_type": "execute_result"
    }
   ],
   "source": [
    "raw_df[raw_df.status_group == 'non functional']"
   ]
  },
  {
   "cell_type": "markdown",
   "id": "7a1b0deb",
   "metadata": {},
   "source": [
    "# Null Checks"
   ]
  },
  {
   "cell_type": "code",
   "execution_count": 15,
   "id": "968a1033",
   "metadata": {
    "ExecuteTime": {
     "end_time": "2022-01-22T19:14:36.795675Z",
     "start_time": "2022-01-22T19:14:36.695828Z"
    }
   },
   "outputs": [
    {
     "data": {
      "text/html": [
       "<div>\n",
       "<style scoped>\n",
       "    .dataframe tbody tr th:only-of-type {\n",
       "        vertical-align: middle;\n",
       "    }\n",
       "\n",
       "    .dataframe tbody tr th {\n",
       "        vertical-align: top;\n",
       "    }\n",
       "\n",
       "    .dataframe thead th {\n",
       "        text-align: right;\n",
       "    }\n",
       "</style>\n",
       "<table border=\"1\" class=\"dataframe\">\n",
       "  <thead>\n",
       "    <tr style=\"text-align: right;\">\n",
       "      <th></th>\n",
       "      <th>null_count</th>\n",
       "      <th>percent_of_data</th>\n",
       "    </tr>\n",
       "  </thead>\n",
       "  <tbody>\n",
       "    <tr>\n",
       "      <th>scheme_name</th>\n",
       "      <td>28166</td>\n",
       "      <td>47.417508</td>\n",
       "    </tr>\n",
       "    <tr>\n",
       "      <th>scheme_management</th>\n",
       "      <td>3877</td>\n",
       "      <td>6.526936</td>\n",
       "    </tr>\n",
       "    <tr>\n",
       "      <th>installer</th>\n",
       "      <td>3655</td>\n",
       "      <td>6.153199</td>\n",
       "    </tr>\n",
       "    <tr>\n",
       "      <th>funder</th>\n",
       "      <td>3635</td>\n",
       "      <td>6.119529</td>\n",
       "    </tr>\n",
       "    <tr>\n",
       "      <th>public_meeting</th>\n",
       "      <td>3334</td>\n",
       "      <td>5.612795</td>\n",
       "    </tr>\n",
       "    <tr>\n",
       "      <th>permit</th>\n",
       "      <td>3056</td>\n",
       "      <td>5.144781</td>\n",
       "    </tr>\n",
       "    <tr>\n",
       "      <th>subvillage</th>\n",
       "      <td>371</td>\n",
       "      <td>0.624579</td>\n",
       "    </tr>\n",
       "  </tbody>\n",
       "</table>\n",
       "</div>"
      ],
      "text/plain": [
       "                   null_count  percent_of_data\n",
       "scheme_name             28166        47.417508\n",
       "scheme_management        3877         6.526936\n",
       "installer                3655         6.153199\n",
       "funder                   3635         6.119529\n",
       "public_meeting           3334         5.612795\n",
       "permit                   3056         5.144781\n",
       "subvillage                371         0.624579"
      ]
     },
     "execution_count": 15,
     "metadata": {},
     "output_type": "execute_result"
    }
   ],
   "source": [
    "null_checks = pd.DataFrame(data=raw_df.isna().sum(),\n",
    "                          columns=['null_count'])\n",
    "null_checks['percent_of_data'] = (null_checks.null_count / len(raw_data)) * 100\n",
    "null_checks = null_checks[null_checks.percent_of_data > 0.0]\n",
    "null_checks.sort_values('percent_of_data', ascending=False, inplace=True)\n",
    "null_checks"
   ]
  },
  {
   "cell_type": "markdown",
   "id": "1fd4b189",
   "metadata": {},
   "source": [
    "There are 7 features with null values in our dataset, and we can what that number of nulls is by percent of total available data. \n",
    "______\n",
    "We will work our way up from the smallest null_count to the largest and decide how to deal with the missing data"
   ]
  },
  {
   "cell_type": "markdown",
   "id": "b25fd29d",
   "metadata": {},
   "source": [
    "## Subvillage"
   ]
  },
  {
   "cell_type": "code",
   "execution_count": 16,
   "id": "3734075a",
   "metadata": {
    "ExecuteTime": {
     "end_time": "2022-01-22T19:14:41.579718Z",
     "start_time": "2022-01-22T19:14:41.562761Z"
    }
   },
   "outputs": [
    {
     "data": {
      "text/plain": [
       "functional                 0.552561\n",
       "non functional             0.444744\n",
       "functional needs repair    0.002695\n",
       "Name: status_group, dtype: float64"
      ]
     },
     "execution_count": 16,
     "metadata": {},
     "output_type": "execute_result"
    }
   ],
   "source": [
    "subvillage_nans = raw_df[raw_df.subvillage.isnull()]\n",
    "subvillage_nans.status_group.value_counts(normalize=True)"
   ]
  },
  {
   "cell_type": "markdown",
   "id": "e4db7a1d",
   "metadata": {},
   "source": [
    "The null values in subvillage represent 0.6% of our total data. The distribution of the target label is very close to the whole dataset"
   ]
  },
  {
   "cell_type": "code",
   "execution_count": 17,
   "id": "cce8781d",
   "metadata": {
    "ExecuteTime": {
     "end_time": "2022-01-22T19:14:42.744312Z",
     "start_time": "2022-01-22T19:14:42.734345Z"
    }
   },
   "outputs": [
    {
     "data": {
      "text/plain": [
       "Dodoma    361\n",
       "Mwanza     10\n",
       "Name: region, dtype: int64"
      ]
     },
     "execution_count": 17,
     "metadata": {},
     "output_type": "execute_result"
    }
   ],
   "source": [
    "subvillage_nans.region.value_counts()"
   ]
  },
  {
   "cell_type": "markdown",
   "id": "9ec83bea",
   "metadata": {},
   "source": [
    "All but 10 of our subvillage nan's come from the region of Dodoma, the rest from Mwanza. Lets look at the subvillage distribution of those regions from the whole dataset"
   ]
  },
  {
   "cell_type": "code",
   "execution_count": 18,
   "id": "e564ac0d",
   "metadata": {
    "ExecuteTime": {
     "end_time": "2022-01-22T19:14:43.381648Z",
     "start_time": "2022-01-22T19:14:43.356713Z"
    },
    "scrolled": true
   },
   "outputs": [
    {
     "data": {
      "text/plain": [
       "Kawawa         54\n",
       "Shuleni        43\n",
       "Nyerere        35\n",
       "Azimio         34\n",
       "Majengo        32\n",
       "               ..\n",
       "Foye            1\n",
       "Mtatangwe       1\n",
       "Makao Mapya     1\n",
       "Soya Mjini      1\n",
       "Mgomwa          1\n",
       "Name: subvillage, Length: 705, dtype: int64"
      ]
     },
     "execution_count": 18,
     "metadata": {},
     "output_type": "execute_result"
    }
   ],
   "source": [
    "raw_df[raw_df['region'] == 'Dodoma'].subvillage.value_counts()"
   ]
  },
  {
   "cell_type": "code",
   "execution_count": 19,
   "id": "24901805",
   "metadata": {
    "ExecuteTime": {
     "end_time": "2022-01-22T19:14:43.680636Z",
     "start_time": "2022-01-22T19:14:43.654677Z"
    },
    "scrolled": true
   },
   "outputs": [
    {
     "data": {
      "text/plain": [
       "1                     132\n",
       "Madukani               52\n",
       "Bujingwa               25\n",
       "Shuleni                19\n",
       "Matale                 18\n",
       "                     ... \n",
       "Bukalo                  1\n",
       "Nyambona                1\n",
       "Kabaganda B             1\n",
       "Bulyahilu Center B      1\n",
       "Mwambogwa               1\n",
       "Name: subvillage, Length: 1507, dtype: int64"
      ]
     },
     "execution_count": 19,
     "metadata": {},
     "output_type": "execute_result"
    }
   ],
   "source": [
    "raw_df[raw_df['region'] == 'Mwanza'].subvillage.value_counts()"
   ]
  },
  {
   "cell_type": "code",
   "execution_count": null,
   "id": "04960372",
   "metadata": {},
   "outputs": [],
   "source": []
  }
 ],
 "metadata": {
  "kernelspec": {
   "display_name": "Python 3 (ipykernel)",
   "language": "python",
   "name": "python3"
  },
  "language_info": {
   "codemirror_mode": {
    "name": "ipython",
    "version": 3
   },
   "file_extension": ".py",
   "mimetype": "text/x-python",
   "name": "python",
   "nbconvert_exporter": "python",
   "pygments_lexer": "ipython3",
   "version": "3.8.5"
  },
  "toc": {
   "base_numbering": 1,
   "nav_menu": {},
   "number_sections": true,
   "sideBar": true,
   "skip_h1_title": false,
   "title_cell": "Table of Contents",
   "title_sidebar": "Contents",
   "toc_cell": false,
   "toc_position": {},
   "toc_section_display": true,
   "toc_window_display": true
  }
 },
 "nbformat": 4,
 "nbformat_minor": 5
}
