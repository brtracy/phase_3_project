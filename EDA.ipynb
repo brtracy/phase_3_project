{
 "cells": [
  {
   "cell_type": "markdown",
   "id": "0a71775f",
   "metadata": {},
   "source": [
    "# Business Problem"
   ]
  },
  {
   "cell_type": "markdown",
   "id": "979e1579",
   "metadata": {},
   "source": [
    "The Tanzania Development Trust is a UK charitable organization operating within the country of Tanzania since 1975.\n",
    "\n",
    "They focus on development in rural Tanzania, aiming to support small projects in the poorest parts of the country where one of their priority areas of funding is clean water. Their stated water project involves boreholing and rope pump installation in areas with limited access to clean water, currently located in the regions of Kagera and Kigoma in the northwest of the country.\n",
    "\n",
    "A new benefactor wants to expand the project not only geographically to more of the country, but in the scope of repairing existing pumps before they fail. I have been tasked with developing a model to predict the operating condition of a current waterpoint: functional, needs repair, or non-functional.\n",
    "\n",
    "The main objective is to identify waterpoints that are in need of repair. [Research shows](https://sswm.info/entrepreneurship-resource/developing-impactful-businesses/maintenance-services-for-rural-water-pumps) that it is much less expensive to repair and rehabilitate a waterpoint, as well as being more protective of the water resources in the country. \n",
    "The secondary objective is to identify concentrations of non-functioning water points that may be an eligible location for a new installation.\n",
    "______________________\n",
    "The data provided for modeling contains the information for 59,400 water points in Tanzania across 40 features"
   ]
  },
  {
   "cell_type": "markdown",
   "id": "ff431296",
   "metadata": {},
   "source": [
    "# Imports"
   ]
  },
  {
   "cell_type": "code",
   "execution_count": 1,
   "id": "ac7e0ce4",
   "metadata": {
    "ExecuteTime": {
     "end_time": "2022-02-01T13:37:43.589374Z",
     "start_time": "2022-02-01T13:37:42.153205Z"
    }
   },
   "outputs": [],
   "source": [
    "import random\n",
    "\n",
    "import pandas as pd\n",
    "import numpy as np\n",
    "\n",
    "import seaborn as sns\n",
    "import matplotlib.pyplot as plt\n",
    "%matplotlib inline\n",
    "\n",
    "random.seed(42)"
   ]
  },
  {
   "cell_type": "code",
   "execution_count": 2,
   "id": "56c8e212",
   "metadata": {
    "ExecuteTime": {
     "end_time": "2022-02-01T13:37:44.126941Z",
     "start_time": "2022-02-01T13:37:43.591369Z"
    },
    "scrolled": true
   },
   "outputs": [
    {
     "name": "stdout",
     "output_type": "stream",
     "text": [
      "<class 'pandas.core.frame.DataFrame'>\n",
      "RangeIndex: 59400 entries, 0 to 59399\n",
      "Data columns (total 2 columns):\n",
      " #   Column        Non-Null Count  Dtype \n",
      "---  ------        --------------  ----- \n",
      " 0   id            59400 non-null  int64 \n",
      " 1   status_group  59400 non-null  object\n",
      "dtypes: int64(1), object(1)\n",
      "memory usage: 928.2+ KB\n"
     ]
    },
    {
     "data": {
      "text/plain": [
       "None"
      ]
     },
     "metadata": {},
     "output_type": "display_data"
    },
    {
     "name": "stdout",
     "output_type": "stream",
     "text": [
      "<class 'pandas.core.frame.DataFrame'>\n",
      "RangeIndex: 59400 entries, 0 to 59399\n",
      "Data columns (total 40 columns):\n",
      " #   Column                 Non-Null Count  Dtype  \n",
      "---  ------                 --------------  -----  \n",
      " 0   id                     59400 non-null  int64  \n",
      " 1   amount_tsh             59400 non-null  float64\n",
      " 2   date_recorded          59400 non-null  object \n",
      " 3   funder                 55765 non-null  object \n",
      " 4   gps_height             59400 non-null  int64  \n",
      " 5   installer              55745 non-null  object \n",
      " 6   longitude              59400 non-null  float64\n",
      " 7   latitude               59400 non-null  float64\n",
      " 8   wpt_name               59400 non-null  object \n",
      " 9   num_private            59400 non-null  int64  \n",
      " 10  basin                  59400 non-null  object \n",
      " 11  subvillage             59029 non-null  object \n",
      " 12  region                 59400 non-null  object \n",
      " 13  region_code            59400 non-null  int64  \n",
      " 14  district_code          59400 non-null  int64  \n",
      " 15  lga                    59400 non-null  object \n",
      " 16  ward                   59400 non-null  object \n",
      " 17  population             59400 non-null  int64  \n",
      " 18  public_meeting         56066 non-null  object \n",
      " 19  recorded_by            59400 non-null  object \n",
      " 20  scheme_management      55523 non-null  object \n",
      " 21  scheme_name            31234 non-null  object \n",
      " 22  permit                 56344 non-null  object \n",
      " 23  construction_year      59400 non-null  int64  \n",
      " 24  extraction_type        59400 non-null  object \n",
      " 25  extraction_type_group  59400 non-null  object \n",
      " 26  extraction_type_class  59400 non-null  object \n",
      " 27  management             59400 non-null  object \n",
      " 28  management_group       59400 non-null  object \n",
      " 29  payment                59400 non-null  object \n",
      " 30  payment_type           59400 non-null  object \n",
      " 31  water_quality          59400 non-null  object \n",
      " 32  quality_group          59400 non-null  object \n",
      " 33  quantity               59400 non-null  object \n",
      " 34  quantity_group         59400 non-null  object \n",
      " 35  source                 59400 non-null  object \n",
      " 36  source_type            59400 non-null  object \n",
      " 37  source_class           59400 non-null  object \n",
      " 38  waterpoint_type        59400 non-null  object \n",
      " 39  waterpoint_type_group  59400 non-null  object \n",
      "dtypes: float64(3), int64(7), object(30)\n",
      "memory usage: 18.1+ MB\n",
      "None\n"
     ]
    }
   ],
   "source": [
    "# import training data and target\n",
    "raw_data = pd.read_csv('data/training_data.csv')\n",
    "raw_target = pd.read_csv('data/training_target.csv')\n",
    "\n",
    "display(raw_target.info())\n",
    "print(raw_data.info())"
   ]
  },
  {
   "cell_type": "markdown",
   "id": "346fa101",
   "metadata": {},
   "source": [
    "Create a raw dataframe with merged data and target. We will use this df during initial EDA so we can compare feature relationships with target, and so we can understand and deal with null values"
   ]
  },
  {
   "cell_type": "code",
   "execution_count": 3,
   "id": "d1dfaee1",
   "metadata": {
    "ExecuteTime": {
     "end_time": "2022-02-01T13:37:44.331397Z",
     "start_time": "2022-02-01T13:37:44.127938Z"
    }
   },
   "outputs": [],
   "source": [
    "raw_df = pd.merge(raw_data, raw_target, on='id')"
   ]
  },
  {
   "cell_type": "markdown",
   "id": "9cec82c3",
   "metadata": {},
   "source": [
    "The dataset for training includes 59,400 entries with 39 total features, a unique identifier, and a target label."
   ]
  },
  {
   "cell_type": "code",
   "execution_count": 4,
   "id": "97ada609",
   "metadata": {
    "ExecuteTime": {
     "end_time": "2022-02-01T13:37:44.363311Z",
     "start_time": "2022-02-01T13:37:44.333391Z"
    }
   },
   "outputs": [
    {
     "data": {
      "text/html": [
       "<div>\n",
       "<style scoped>\n",
       "    .dataframe tbody tr th:only-of-type {\n",
       "        vertical-align: middle;\n",
       "    }\n",
       "\n",
       "    .dataframe tbody tr th {\n",
       "        vertical-align: top;\n",
       "    }\n",
       "\n",
       "    .dataframe thead th {\n",
       "        text-align: right;\n",
       "    }\n",
       "</style>\n",
       "<table border=\"1\" class=\"dataframe\">\n",
       "  <thead>\n",
       "    <tr style=\"text-align: right;\">\n",
       "      <th></th>\n",
       "      <th>count</th>\n",
       "      <th>percent</th>\n",
       "    </tr>\n",
       "  </thead>\n",
       "  <tbody>\n",
       "    <tr>\n",
       "      <th>functional</th>\n",
       "      <td>32259</td>\n",
       "      <td>54.3</td>\n",
       "    </tr>\n",
       "    <tr>\n",
       "      <th>non functional</th>\n",
       "      <td>22824</td>\n",
       "      <td>38.4</td>\n",
       "    </tr>\n",
       "    <tr>\n",
       "      <th>functional needs repair</th>\n",
       "      <td>4317</td>\n",
       "      <td>7.3</td>\n",
       "    </tr>\n",
       "  </tbody>\n",
       "</table>\n",
       "</div>"
      ],
      "text/plain": [
       "                         count  percent\n",
       "functional               32259     54.3\n",
       "non functional           22824     38.4\n",
       "functional needs repair   4317      7.3"
      ]
     },
     "execution_count": 4,
     "metadata": {},
     "output_type": "execute_result"
    }
   ],
   "source": [
    "status_values = pd.DataFrame(raw_df.status_group.value_counts())\n",
    "status_values.columns = ['count']\n",
    "status_values['percent'] = round(raw_df.status_group.value_counts(normalize=True) * 100, 1)\n",
    "status_values"
   ]
  },
  {
   "cell_type": "markdown",
   "id": "9ce9e137",
   "metadata": {},
   "source": [
    "This is a ternary classification problem. The three possible values are:\n",
    "- functional (F)\n",
    "- non functional (NF)\n",
    "- functional needs repair (FR)\n",
    "\n",
    "Value counts show that our dataset is not balanced with respect to the label values. Only 7.3% of pumps are classified as functional needs repair, while 54.3% are functional and 38.4% are non functional. We will need to keep this imbalance in mind when modeling.\n",
    "_________\n",
    "We are going to change our target to numerical values, \n",
    "where:\n",
    "- 'non function' will equal: 0\n",
    "- 'functional needs repair' will equal: 1\n",
    "- 'functional' will equal: 2"
   ]
  },
  {
   "cell_type": "code",
   "execution_count": 5,
   "id": "0c09179a",
   "metadata": {
    "ExecuteTime": {
     "end_time": "2022-02-01T13:37:44.441104Z",
     "start_time": "2022-02-01T13:37:44.364308Z"
    }
   },
   "outputs": [],
   "source": [
    "status_dict = {'non functional': 0,\n",
    "              'functional needs repair': 1,\n",
    "              'functional': 2}\n",
    "\n",
    "raw_df['target'] = raw_df['status_group'].map(lambda x: status_dict[x])\n",
    "raw_df.drop('status_group', axis=1, inplace=True)"
   ]
  },
  {
   "cell_type": "markdown",
   "id": "7a1b0deb",
   "metadata": {},
   "source": [
    "# Null Checks"
   ]
  },
  {
   "cell_type": "code",
   "execution_count": 6,
   "id": "968a1033",
   "metadata": {
    "ExecuteTime": {
     "end_time": "2022-02-01T13:37:44.535850Z",
     "start_time": "2022-02-01T13:37:44.442101Z"
    }
   },
   "outputs": [
    {
     "data": {
      "text/html": [
       "<div>\n",
       "<style scoped>\n",
       "    .dataframe tbody tr th:only-of-type {\n",
       "        vertical-align: middle;\n",
       "    }\n",
       "\n",
       "    .dataframe tbody tr th {\n",
       "        vertical-align: top;\n",
       "    }\n",
       "\n",
       "    .dataframe thead th {\n",
       "        text-align: right;\n",
       "    }\n",
       "</style>\n",
       "<table border=\"1\" class=\"dataframe\">\n",
       "  <thead>\n",
       "    <tr style=\"text-align: right;\">\n",
       "      <th></th>\n",
       "      <th>null_count</th>\n",
       "      <th>percent_of_data</th>\n",
       "    </tr>\n",
       "  </thead>\n",
       "  <tbody>\n",
       "    <tr>\n",
       "      <th>scheme_name</th>\n",
       "      <td>28166</td>\n",
       "      <td>47.4</td>\n",
       "    </tr>\n",
       "    <tr>\n",
       "      <th>scheme_management</th>\n",
       "      <td>3877</td>\n",
       "      <td>6.5</td>\n",
       "    </tr>\n",
       "    <tr>\n",
       "      <th>installer</th>\n",
       "      <td>3655</td>\n",
       "      <td>6.2</td>\n",
       "    </tr>\n",
       "    <tr>\n",
       "      <th>funder</th>\n",
       "      <td>3635</td>\n",
       "      <td>6.1</td>\n",
       "    </tr>\n",
       "    <tr>\n",
       "      <th>public_meeting</th>\n",
       "      <td>3334</td>\n",
       "      <td>5.6</td>\n",
       "    </tr>\n",
       "    <tr>\n",
       "      <th>permit</th>\n",
       "      <td>3056</td>\n",
       "      <td>5.1</td>\n",
       "    </tr>\n",
       "    <tr>\n",
       "      <th>subvillage</th>\n",
       "      <td>371</td>\n",
       "      <td>0.6</td>\n",
       "    </tr>\n",
       "  </tbody>\n",
       "</table>\n",
       "</div>"
      ],
      "text/plain": [
       "                   null_count  percent_of_data\n",
       "scheme_name             28166             47.4\n",
       "scheme_management        3877              6.5\n",
       "installer                3655              6.2\n",
       "funder                   3635              6.1\n",
       "public_meeting           3334              5.6\n",
       "permit                   3056              5.1\n",
       "subvillage                371              0.6"
      ]
     },
     "execution_count": 6,
     "metadata": {},
     "output_type": "execute_result"
    }
   ],
   "source": [
    "null_checks = pd.DataFrame(data=raw_df.isna().sum(),\n",
    "                          columns=['null_count'])\n",
    "null_checks['percent_of_data'] = round((null_checks.null_count / len(raw_data)) * 100, 1)\n",
    "null_checks = null_checks[null_checks.percent_of_data > 0.1]\n",
    "null_checks.sort_values('percent_of_data', ascending=False, inplace=True)\n",
    "null_checks"
   ]
  },
  {
   "cell_type": "markdown",
   "id": "1fd4b189",
   "metadata": {},
   "source": [
    "There are 7 features with null values in our dataset, and we can what that number of nulls is by percent of total available data. \n",
    "______\n",
    "All of the features that contain null values are object types and will need to be converted. Before conversion we will need to address the null values."
   ]
  },
  {
   "cell_type": "markdown",
   "id": "b25fd29d",
   "metadata": {},
   "source": [
    "## subvillage"
   ]
  },
  {
   "cell_type": "code",
   "execution_count": 7,
   "id": "3734075a",
   "metadata": {
    "ExecuteTime": {
     "end_time": "2022-02-01T13:37:44.551808Z",
     "start_time": "2022-02-01T13:37:44.537845Z"
    }
   },
   "outputs": [
    {
     "data": {
      "text/plain": [
       "2    55.26\n",
       "0    44.47\n",
       "1     0.27\n",
       "Name: target, dtype: float64"
      ]
     },
     "execution_count": 7,
     "metadata": {},
     "output_type": "execute_result"
    }
   ],
   "source": [
    "subvillage_nans = raw_df[raw_df.subvillage.isnull()]\n",
    "round(subvillage_nans.target.value_counts(normalize=True) * 100, 2)"
   ]
  },
  {
   "cell_type": "markdown",
   "id": "e4db7a1d",
   "metadata": {},
   "source": [
    "The null values in subvillage represent 0.6% of our total data. The distribution of the target label is close to the whole dataset"
   ]
  },
  {
   "cell_type": "code",
   "execution_count": 8,
   "id": "cce8781d",
   "metadata": {
    "ExecuteTime": {
     "end_time": "2022-02-01T13:37:44.567766Z",
     "start_time": "2022-02-01T13:37:44.552805Z"
    }
   },
   "outputs": [
    {
     "data": {
      "text/plain": [
       "Dodoma    361\n",
       "Mwanza     10\n",
       "Name: region, dtype: int64"
      ]
     },
     "execution_count": 8,
     "metadata": {},
     "output_type": "execute_result"
    }
   ],
   "source": [
    "subvillage_nans.region.value_counts()"
   ]
  },
  {
   "cell_type": "markdown",
   "id": "9ec83bea",
   "metadata": {},
   "source": [
    "All but 10 of our subvillage nan's come from the region of Dodoma, the rest from Mwanza. Lets look at the subvillage distribution of those regions from the whole dataset"
   ]
  },
  {
   "cell_type": "code",
   "execution_count": 9,
   "id": "e564ac0d",
   "metadata": {
    "ExecuteTime": {
     "end_time": "2022-02-01T13:37:44.583723Z",
     "start_time": "2022-02-01T13:37:44.568763Z"
    },
    "scrolled": true
   },
   "outputs": [
    {
     "data": {
      "text/plain": [
       "Kawawa         54\n",
       "Shuleni        43\n",
       "Nyerere        35\n",
       "Azimio         34\n",
       "Majengo        32\n",
       "               ..\n",
       "Foye            1\n",
       "Mtatangwe       1\n",
       "Makao Mapya     1\n",
       "Soya Mjini      1\n",
       "Mgomwa          1\n",
       "Name: subvillage, Length: 705, dtype: int64"
      ]
     },
     "execution_count": 9,
     "metadata": {},
     "output_type": "execute_result"
    }
   ],
   "source": [
    "raw_df[raw_df['region'] == 'Dodoma'].subvillage.value_counts()"
   ]
  },
  {
   "cell_type": "code",
   "execution_count": 10,
   "id": "24901805",
   "metadata": {
    "ExecuteTime": {
     "end_time": "2022-02-01T13:37:44.614641Z",
     "start_time": "2022-02-01T13:37:44.586716Z"
    },
    "scrolled": true
   },
   "outputs": [
    {
     "data": {
      "text/plain": [
       "1                     132\n",
       "Madukani               52\n",
       "Bujingwa               25\n",
       "Shuleni                19\n",
       "Matale                 18\n",
       "                     ... \n",
       "Bukalo                  1\n",
       "Nyambona                1\n",
       "Kabaganda B             1\n",
       "Bulyahilu Center B      1\n",
       "Mwambogwa               1\n",
       "Name: subvillage, Length: 1507, dtype: int64"
      ]
     },
     "execution_count": 10,
     "metadata": {},
     "output_type": "execute_result"
    }
   ],
   "source": [
    "raw_df[raw_df['region'] == 'Mwanza'].subvillage.value_counts()"
   ]
  },
  {
   "cell_type": "markdown",
   "id": "0fe14edf",
   "metadata": {},
   "source": [
    "There are no average or overwhelmingly dominant subvillages that we could assign the null values to. In fact, the total unique value count of subvillages in Dodoma is double the quantity of missing values! It's not clear if we will use subvillage in modeling, so we will change null values to 'Other'"
   ]
  },
  {
   "cell_type": "code",
   "execution_count": 11,
   "id": "4ad9a891",
   "metadata": {
    "ExecuteTime": {
     "end_time": "2022-02-01T13:37:44.630597Z",
     "start_time": "2022-02-01T13:37:44.616636Z"
    }
   },
   "outputs": [],
   "source": [
    "raw_df['subvillage'].fillna(value='Other', inplace=True)"
   ]
  },
  {
   "cell_type": "markdown",
   "id": "4601f6e8",
   "metadata": {},
   "source": [
    "## permit"
   ]
  },
  {
   "cell_type": "code",
   "execution_count": 12,
   "id": "96a1c9cb",
   "metadata": {
    "ExecuteTime": {
     "end_time": "2022-02-01T13:37:44.661515Z",
     "start_time": "2022-02-01T13:37:44.632592Z"
    }
   },
   "outputs": [
    {
     "data": {
      "text/plain": [
       "2    54.74\n",
       "0    35.44\n",
       "1     9.82\n",
       "Name: target, dtype: float64"
      ]
     },
     "execution_count": 12,
     "metadata": {},
     "output_type": "execute_result"
    }
   ],
   "source": [
    "permit_nans = raw_df[raw_df.permit.isnull()]\n",
    "permit_nans.reset_index(drop=True, inplace=True)\n",
    "round(permit_nans.target.value_counts(normalize=True) * 100, 2)"
   ]
  },
  {
   "cell_type": "markdown",
   "id": "0d66e0f6",
   "metadata": {},
   "source": [
    "5% of our dataset have no value for permit. Distribution of the target label is approximately the same as the whole dataset."
   ]
  },
  {
   "cell_type": "code",
   "execution_count": 13,
   "id": "8d96be1f",
   "metadata": {
    "ExecuteTime": {
     "end_time": "2022-02-01T13:37:44.677474Z",
     "start_time": "2022-02-01T13:37:44.662512Z"
    }
   },
   "outputs": [
    {
     "data": {
      "text/plain": [
       "True     0.68955\n",
       "False    0.31045\n",
       "Name: permit, dtype: float64"
      ]
     },
     "execution_count": 13,
     "metadata": {},
     "output_type": "execute_result"
    }
   ],
   "source": [
    "permit_distribution = raw_df.permit.value_counts(normalize=True)\n",
    "permit_distribution"
   ]
  },
  {
   "cell_type": "markdown",
   "id": "447215f0",
   "metadata": {},
   "source": [
    "Per the data documentation, the permit feature is if the water point is permitted or not. Data we do have for this feature show it's about 70/30 in favor of permitted.\n",
    "\n",
    "We will randomly fill these 3056 missing datapoints with true/false in the same ratio we found in our entire dataset."
   ]
  },
  {
   "cell_type": "code",
   "execution_count": 14,
   "id": "178ccf26",
   "metadata": {
    "ExecuteTime": {
     "end_time": "2022-02-01T13:37:44.709387Z",
     "start_time": "2022-02-01T13:37:44.678470Z"
    }
   },
   "outputs": [],
   "source": [
    "raw_df['permit'] = raw_df['permit'].fillna(pd.Series(np.random.choice([True, False],\n",
    "                                                       p=list(permit_distribution),\n",
    "                                                       size=len(raw_df))))"
   ]
  },
  {
   "cell_type": "markdown",
   "id": "7d40001b",
   "metadata": {},
   "source": [
    "## public_meeting"
   ]
  },
  {
   "cell_type": "code",
   "execution_count": 15,
   "id": "decb1706",
   "metadata": {
    "ExecuteTime": {
     "end_time": "2022-02-01T13:37:44.725346Z",
     "start_time": "2022-02-01T13:37:44.710386Z"
    }
   },
   "outputs": [
    {
     "data": {
      "text/plain": [
       "2    50.33\n",
       "0    44.99\n",
       "1     4.68\n",
       "Name: target, dtype: float64"
      ]
     },
     "execution_count": 15,
     "metadata": {},
     "output_type": "execute_result"
    }
   ],
   "source": [
    "public_meeting_nans = raw_df[raw_df.public_meeting.isnull()]\n",
    "public_meeting_nans.reset_index(drop=True, inplace=True)\n",
    "round(public_meeting_nans.target.value_counts(normalize=True) * 100, 2)"
   ]
  },
  {
   "cell_type": "markdown",
   "id": "88b372f3",
   "metadata": {},
   "source": [
    "5.6% of our dataset has no value for public_meeting. Distribution of the target label is approximately the same as the whole dataset."
   ]
  },
  {
   "cell_type": "code",
   "execution_count": 16,
   "id": "f0c98610",
   "metadata": {
    "ExecuteTime": {
     "end_time": "2022-02-01T13:37:44.741303Z",
     "start_time": "2022-02-01T13:37:44.726343Z"
    }
   },
   "outputs": [
    {
     "data": {
      "text/plain": [
       "True     0.909838\n",
       "False    0.090162\n",
       "Name: public_meeting, dtype: float64"
      ]
     },
     "execution_count": 16,
     "metadata": {},
     "output_type": "execute_result"
    }
   ],
   "source": [
    "meeting_distribution = raw_df.public_meeting.value_counts(normalize=True)\n",
    "meeting_distribution"
   ]
  },
  {
   "cell_type": "markdown",
   "id": "2ea3a170",
   "metadata": {},
   "source": [
    "The public meeting feature is a boolean that is over 90% true for data we do have. We will fill null values in the same percentages."
   ]
  },
  {
   "cell_type": "code",
   "execution_count": 17,
   "id": "132159f9",
   "metadata": {
    "ExecuteTime": {
     "end_time": "2022-02-01T13:37:44.773217Z",
     "start_time": "2022-02-01T13:37:44.743297Z"
    }
   },
   "outputs": [],
   "source": [
    "raw_df['public_meeting'] = raw_df['public_meeting'].fillna(\n",
    "    pd.Series(np.random.choice([True, False],\n",
    "                               p=list(meeting_distribution),\n",
    "                               size=len(raw_df))))"
   ]
  },
  {
   "cell_type": "markdown",
   "id": "32c5affc",
   "metadata": {},
   "source": [
    "## funder & installer"
   ]
  },
  {
   "cell_type": "markdown",
   "id": "b7c396de",
   "metadata": {},
   "source": [
    "The features 'funder' and 'installer' have almost the same number of null values; I am curious about the overlap of nulls."
   ]
  },
  {
   "cell_type": "code",
   "execution_count": 18,
   "id": "81cec924",
   "metadata": {
    "ExecuteTime": {
     "end_time": "2022-02-01T13:37:44.804136Z",
     "start_time": "2022-02-01T13:37:44.774215Z"
    }
   },
   "outputs": [
    {
     "data": {
      "text/plain": [
       "0.9854195323246218"
      ]
     },
     "execution_count": 18,
     "metadata": {},
     "output_type": "execute_result"
    }
   ],
   "source": [
    "# dividing the number of entries with null for both features by the smaller count\n",
    "len(raw_df[raw_df.funder.isnull() & raw_df.installer.isnull()]) / null_checks.null_count['funder']"
   ]
  },
  {
   "cell_type": "markdown",
   "id": "df890875",
   "metadata": {},
   "source": [
    "Over 98% of the null values for funder also contain null values for installer.\n",
    "________"
   ]
  },
  {
   "cell_type": "code",
   "execution_count": 19,
   "id": "6e9ec152",
   "metadata": {
    "ExecuteTime": {
     "end_time": "2022-02-01T13:37:44.836050Z",
     "start_time": "2022-02-01T13:37:44.805133Z"
    }
   },
   "outputs": [
    {
     "data": {
      "text/html": [
       "<div>\n",
       "<style scoped>\n",
       "    .dataframe tbody tr th:only-of-type {\n",
       "        vertical-align: middle;\n",
       "    }\n",
       "\n",
       "    .dataframe tbody tr th {\n",
       "        vertical-align: top;\n",
       "    }\n",
       "\n",
       "    .dataframe thead th {\n",
       "        text-align: right;\n",
       "    }\n",
       "</style>\n",
       "<table border=\"1\" class=\"dataframe\">\n",
       "  <thead>\n",
       "    <tr style=\"text-align: right;\">\n",
       "      <th></th>\n",
       "      <th>funder</th>\n",
       "    </tr>\n",
       "  </thead>\n",
       "  <tbody>\n",
       "    <tr>\n",
       "      <th>Government Of Tanzania</th>\n",
       "      <td>15.29</td>\n",
       "    </tr>\n",
       "    <tr>\n",
       "      <th>NaN</th>\n",
       "      <td>6.12</td>\n",
       "    </tr>\n",
       "    <tr>\n",
       "      <th>Danida</th>\n",
       "      <td>5.24</td>\n",
       "    </tr>\n",
       "    <tr>\n",
       "      <th>Hesawa</th>\n",
       "      <td>3.71</td>\n",
       "    </tr>\n",
       "    <tr>\n",
       "      <th>Rwssp</th>\n",
       "      <td>2.31</td>\n",
       "    </tr>\n",
       "    <tr>\n",
       "      <th>...</th>\n",
       "      <td>...</td>\n",
       "    </tr>\n",
       "    <tr>\n",
       "      <th>Rarymond Ekura</th>\n",
       "      <td>0.00</td>\n",
       "    </tr>\n",
       "    <tr>\n",
       "      <th>Justine Marwa</th>\n",
       "      <td>0.00</td>\n",
       "    </tr>\n",
       "    <tr>\n",
       "      <th>Municipal Council</th>\n",
       "      <td>0.00</td>\n",
       "    </tr>\n",
       "    <tr>\n",
       "      <th>Afdp</th>\n",
       "      <td>0.00</td>\n",
       "    </tr>\n",
       "    <tr>\n",
       "      <th>Samlo</th>\n",
       "      <td>0.00</td>\n",
       "    </tr>\n",
       "  </tbody>\n",
       "</table>\n",
       "<p>1898 rows × 1 columns</p>\n",
       "</div>"
      ],
      "text/plain": [
       "                        funder\n",
       "Government Of Tanzania   15.29\n",
       "NaN                       6.12\n",
       "Danida                    5.24\n",
       "Hesawa                    3.71\n",
       "Rwssp                     2.31\n",
       "...                        ...\n",
       "Rarymond Ekura            0.00\n",
       "Justine Marwa             0.00\n",
       "Municipal Council         0.00\n",
       "Afdp                      0.00\n",
       "Samlo                     0.00\n",
       "\n",
       "[1898 rows x 1 columns]"
      ]
     },
     "execution_count": 19,
     "metadata": {},
     "output_type": "execute_result"
    }
   ],
   "source": [
    "funder_df = pd.DataFrame(round(raw_df.funder.value_counts(normalize=True, dropna=False) * 100, 2))\n",
    "funder_df"
   ]
  },
  {
   "cell_type": "code",
   "execution_count": 20,
   "id": "9765e632",
   "metadata": {
    "ExecuteTime": {
     "end_time": "2022-02-01T13:37:44.852008Z",
     "start_time": "2022-02-01T13:37:44.837047Z"
    }
   },
   "outputs": [
    {
     "name": "stdout",
     "output_type": "stream",
     "text": [
      "Funders with more than 1% share: 18\n",
      "Percent of total funders represented by above: funder    52.69\n",
      "dtype: float64\n"
     ]
    }
   ],
   "source": [
    "funder_df_top = funder_df[funder_df.funder > 1.0]\n",
    "print(f\"Funders with more than 1% share: {len(funder_df_top)}\")\n",
    "print(f\"Percent of total funders represented by above: {funder_df_top.sum()}\")"
   ]
  },
  {
   "cell_type": "markdown",
   "id": "6d8d0aec",
   "metadata": {},
   "source": [
    "Including null values, there were 1,898 distinct values for funder. Of that, 18 values (including null) have representative counts more than 1% of total data.\n",
    "\n",
    "Those 18 distinct values represent almost 53% of our total data. We will convert null values to 'Other'. There are still lots of unique values, so something to consider is converting all funders with less than 1% total share as 'Other' to reduce the unique value count."
   ]
  },
  {
   "cell_type": "code",
   "execution_count": 21,
   "id": "f463a7dc",
   "metadata": {
    "ExecuteTime": {
     "end_time": "2022-02-01T13:37:44.882926Z",
     "start_time": "2022-02-01T13:37:44.853006Z"
    }
   },
   "outputs": [
    {
     "data": {
      "text/html": [
       "<div>\n",
       "<style scoped>\n",
       "    .dataframe tbody tr th:only-of-type {\n",
       "        vertical-align: middle;\n",
       "    }\n",
       "\n",
       "    .dataframe tbody tr th {\n",
       "        vertical-align: top;\n",
       "    }\n",
       "\n",
       "    .dataframe thead th {\n",
       "        text-align: right;\n",
       "    }\n",
       "</style>\n",
       "<table border=\"1\" class=\"dataframe\">\n",
       "  <thead>\n",
       "    <tr style=\"text-align: right;\">\n",
       "      <th></th>\n",
       "      <th>installer</th>\n",
       "    </tr>\n",
       "  </thead>\n",
       "  <tbody>\n",
       "    <tr>\n",
       "      <th>DWE</th>\n",
       "      <td>29.30</td>\n",
       "    </tr>\n",
       "    <tr>\n",
       "      <th>NaN</th>\n",
       "      <td>6.15</td>\n",
       "    </tr>\n",
       "    <tr>\n",
       "      <th>Government</th>\n",
       "      <td>3.07</td>\n",
       "    </tr>\n",
       "    <tr>\n",
       "      <th>RWE</th>\n",
       "      <td>2.03</td>\n",
       "    </tr>\n",
       "    <tr>\n",
       "      <th>Commu</th>\n",
       "      <td>1.78</td>\n",
       "    </tr>\n",
       "    <tr>\n",
       "      <th>...</th>\n",
       "      <td>...</td>\n",
       "    </tr>\n",
       "    <tr>\n",
       "      <th>Wizara  ya maji</th>\n",
       "      <td>0.00</td>\n",
       "    </tr>\n",
       "    <tr>\n",
       "      <th>TWESS</th>\n",
       "      <td>0.00</td>\n",
       "    </tr>\n",
       "    <tr>\n",
       "      <th>Nasan workers</th>\n",
       "      <td>0.00</td>\n",
       "    </tr>\n",
       "    <tr>\n",
       "      <th>R</th>\n",
       "      <td>0.00</td>\n",
       "    </tr>\n",
       "    <tr>\n",
       "      <th>SELEPTA</th>\n",
       "      <td>0.00</td>\n",
       "    </tr>\n",
       "  </tbody>\n",
       "</table>\n",
       "<p>2146 rows × 1 columns</p>\n",
       "</div>"
      ],
      "text/plain": [
       "                 installer\n",
       "DWE                  29.30\n",
       "NaN                   6.15\n",
       "Government            3.07\n",
       "RWE                   2.03\n",
       "Commu                 1.78\n",
       "...                    ...\n",
       "Wizara  ya maji       0.00\n",
       "TWESS                 0.00\n",
       "Nasan workers         0.00\n",
       "R                     0.00\n",
       "SELEPTA               0.00\n",
       "\n",
       "[2146 rows x 1 columns]"
      ]
     },
     "execution_count": 21,
     "metadata": {},
     "output_type": "execute_result"
    }
   ],
   "source": [
    "installer_df = pd.DataFrame(round(raw_df.installer.value_counts(normalize=True, dropna=False) * 100, 2))\n",
    "installer_df"
   ]
  },
  {
   "cell_type": "code",
   "execution_count": 22,
   "id": "66211b0c",
   "metadata": {
    "ExecuteTime": {
     "end_time": "2022-02-01T13:37:44.898882Z",
     "start_time": "2022-02-01T13:37:44.883922Z"
    }
   },
   "outputs": [
    {
     "name": "stdout",
     "output_type": "stream",
     "text": [
      "Installers with more than 1% share: 12\n",
      "Percent of total installers represented by above: installer    51.6\n",
      "dtype: float64\n"
     ]
    }
   ],
   "source": [
    "installer_df_top = installer_df[installer_df.installer > 1.0]\n",
    "print(f\"Installers with more than 1% share: {len(installer_df_top)}\")\n",
    "print(f\"Percent of total installers represented by above: {installer_df_top.sum()}\")"
   ]
  },
  {
   "cell_type": "markdown",
   "id": "ff3fb340",
   "metadata": {},
   "source": [
    "Similarly to funder, the installer feature is dominated by small share installers. Of the 2,146 distinct values for installer, 12 values (including null) have representative counts more than 1% of total data.\n",
    "\n",
    "Those 12 distinct values represent almost 52% of our total data. This is similar to the funder feature. We will also convert null values to 'Other', and will consider converting all installers with less than 1% total share of installer as 'Other' to reduce the unique value count. "
   ]
  },
  {
   "cell_type": "code",
   "execution_count": 23,
   "id": "8a0ed645",
   "metadata": {
    "ExecuteTime": {
     "end_time": "2022-02-01T13:37:44.914841Z",
     "start_time": "2022-02-01T13:37:44.899881Z"
    }
   },
   "outputs": [],
   "source": [
    "raw_df['funder'].fillna(value='Other', inplace=True)\n",
    "raw_df['installer'].fillna(value='Other', inplace=True)"
   ]
  },
  {
   "cell_type": "markdown",
   "id": "524b6190",
   "metadata": {},
   "source": [
    "## scheme_management"
   ]
  },
  {
   "cell_type": "code",
   "execution_count": 24,
   "id": "82cd1b09",
   "metadata": {
    "ExecuteTime": {
     "end_time": "2022-02-01T13:37:44.930798Z",
     "start_time": "2022-02-01T13:37:44.916835Z"
    }
   },
   "outputs": [
    {
     "data": {
      "text/plain": [
       "2    48.31\n",
       "0    45.94\n",
       "1     5.75\n",
       "Name: target, dtype: float64"
      ]
     },
     "execution_count": 24,
     "metadata": {},
     "output_type": "execute_result"
    }
   ],
   "source": [
    "scheme_management_nans = raw_df[raw_df.scheme_management.isnull()]\n",
    "scheme_management_nans.reset_index(drop=True, inplace=True)\n",
    "round(scheme_management_nans.target.value_counts(normalize=True) * 100, 2)"
   ]
  },
  {
   "cell_type": "code",
   "execution_count": 25,
   "id": "d221c829",
   "metadata": {
    "ExecuteTime": {
     "end_time": "2022-02-01T13:37:44.946755Z",
     "start_time": "2022-02-01T13:37:44.931795Z"
    }
   },
   "outputs": [
    {
     "data": {
      "text/plain": [
       "VWC                 0.619411\n",
       "WUG                 0.087643\n",
       "NaN                 0.065269\n",
       "Water authority     0.053081\n",
       "WUA                 0.048535\n",
       "Water Board         0.046263\n",
       "Parastatal          0.028283\n",
       "Private operator    0.017896\n",
       "Company             0.017862\n",
       "Other               0.012896\n",
       "SWC                 0.001633\n",
       "Trust               0.001212\n",
       "None                0.000017\n",
       "Name: scheme_management, dtype: float64"
      ]
     },
     "execution_count": 25,
     "metadata": {},
     "output_type": "execute_result"
    }
   ],
   "source": [
    "raw_df.scheme_management.value_counts(normalize=True, dropna=False)"
   ]
  },
  {
   "cell_type": "markdown",
   "id": "4e9769e6",
   "metadata": {},
   "source": [
    "6.5% of our data has no value for scheme_management. Distribution of the target data is approximately the same as the whole dataset.\n",
    "_________\n",
    "There was only one entry with the value of 'None', we will change that to 'Other'"
   ]
  },
  {
   "cell_type": "code",
   "execution_count": 26,
   "id": "ffc5b98f",
   "metadata": {
    "ExecuteTime": {
     "end_time": "2022-02-01T13:37:44.962713Z",
     "start_time": "2022-02-01T13:37:44.951743Z"
    }
   },
   "outputs": [],
   "source": [
    "raw_df.at[23603, 'scheme_management'] = 'Other'"
   ]
  },
  {
   "cell_type": "markdown",
   "id": "e69fae7a",
   "metadata": {},
   "source": [
    "We will fill null values for scheme_management randomly with other values from the feature in the same percentage."
   ]
  },
  {
   "cell_type": "code",
   "execution_count": 27,
   "id": "e73cc0a7",
   "metadata": {
    "ExecuteTime": {
     "end_time": "2022-02-01T13:37:44.994627Z",
     "start_time": "2022-02-01T13:37:44.964707Z"
    }
   },
   "outputs": [
    {
     "data": {
      "text/html": [
       "<div>\n",
       "<style scoped>\n",
       "    .dataframe tbody tr th:only-of-type {\n",
       "        vertical-align: middle;\n",
       "    }\n",
       "\n",
       "    .dataframe tbody tr th {\n",
       "        vertical-align: top;\n",
       "    }\n",
       "\n",
       "    .dataframe thead th {\n",
       "        text-align: right;\n",
       "    }\n",
       "</style>\n",
       "<table border=\"1\" class=\"dataframe\">\n",
       "  <thead>\n",
       "    <tr style=\"text-align: right;\">\n",
       "      <th></th>\n",
       "      <th>scheme_management</th>\n",
       "    </tr>\n",
       "  </thead>\n",
       "  <tbody>\n",
       "    <tr>\n",
       "      <th>VWC</th>\n",
       "      <td>0.662662</td>\n",
       "    </tr>\n",
       "    <tr>\n",
       "      <th>WUG</th>\n",
       "      <td>0.093763</td>\n",
       "    </tr>\n",
       "    <tr>\n",
       "      <th>Water authority</th>\n",
       "      <td>0.056787</td>\n",
       "    </tr>\n",
       "    <tr>\n",
       "      <th>WUA</th>\n",
       "      <td>0.051924</td>\n",
       "    </tr>\n",
       "    <tr>\n",
       "      <th>Water Board</th>\n",
       "      <td>0.049493</td>\n",
       "    </tr>\n",
       "    <tr>\n",
       "      <th>Parastatal</th>\n",
       "      <td>0.030258</td>\n",
       "    </tr>\n",
       "    <tr>\n",
       "      <th>Private operator</th>\n",
       "      <td>0.019145</td>\n",
       "    </tr>\n",
       "    <tr>\n",
       "      <th>Company</th>\n",
       "      <td>0.019109</td>\n",
       "    </tr>\n",
       "    <tr>\n",
       "      <th>Other</th>\n",
       "      <td>0.013814</td>\n",
       "    </tr>\n",
       "    <tr>\n",
       "      <th>SWC</th>\n",
       "      <td>0.001747</td>\n",
       "    </tr>\n",
       "    <tr>\n",
       "      <th>Trust</th>\n",
       "      <td>0.001297</td>\n",
       "    </tr>\n",
       "  </tbody>\n",
       "</table>\n",
       "</div>"
      ],
      "text/plain": [
       "                  scheme_management\n",
       "VWC                        0.662662\n",
       "WUG                        0.093763\n",
       "Water authority            0.056787\n",
       "WUA                        0.051924\n",
       "Water Board                0.049493\n",
       "Parastatal                 0.030258\n",
       "Private operator           0.019145\n",
       "Company                    0.019109\n",
       "Other                      0.013814\n",
       "SWC                        0.001747\n",
       "Trust                      0.001297"
      ]
     },
     "execution_count": 27,
     "metadata": {},
     "output_type": "execute_result"
    }
   ],
   "source": [
    "scheme_management_list = pd.DataFrame(raw_df.scheme_management.value_counts(normalize=True))\n",
    "scheme_management_list"
   ]
  },
  {
   "cell_type": "code",
   "execution_count": 28,
   "id": "ee012747",
   "metadata": {
    "ExecuteTime": {
     "end_time": "2022-02-01T13:37:45.026542Z",
     "start_time": "2022-02-01T13:37:45.000612Z"
    }
   },
   "outputs": [],
   "source": [
    "raw_df['scheme_management'] = raw_df['scheme_management'].fillna(\n",
    "    pd.Series(np.random.choice(list(scheme_management_list.index),\n",
    "                               p=list(scheme_management_list.scheme_management),\n",
    "                               size=len(raw_df))))"
   ]
  },
  {
   "cell_type": "markdown",
   "id": "4f4a652a",
   "metadata": {},
   "source": [
    "## scheme_name"
   ]
  },
  {
   "cell_type": "code",
   "execution_count": 29,
   "id": "3bd8fdf3",
   "metadata": {
    "ExecuteTime": {
     "end_time": "2022-02-01T13:37:45.042500Z",
     "start_time": "2022-02-01T13:37:45.028537Z"
    }
   },
   "outputs": [
    {
     "data": {
      "text/plain": [
       "NaN                        0.474175\n",
       "K                          0.011481\n",
       "None                       0.010842\n",
       "Borehole                   0.009192\n",
       "Chalinze wate              0.006818\n",
       "                             ...   \n",
       "Visiga water supplly       0.000017\n",
       "Emanyata pipelines         0.000017\n",
       "Magundi water supply       0.000017\n",
       "Imalampaka water supply    0.000017\n",
       "Mtawanya                   0.000017\n",
       "Name: scheme_name, Length: 2697, dtype: float64"
      ]
     },
     "execution_count": 29,
     "metadata": {},
     "output_type": "execute_result"
    }
   ],
   "source": [
    "raw_df.scheme_name.value_counts(normalize=True, dropna=False)"
   ]
  },
  {
   "cell_type": "markdown",
   "id": "c012e91c",
   "metadata": {},
   "source": [
    "Almost half (47%) of the scheme_name feature contains no data, and the remaining data contains 2,697 distinct other features, none of which exceed 1% of the dataset. Lets look a little closer to see what else we can figure out."
   ]
  },
  {
   "cell_type": "code",
   "execution_count": 30,
   "id": "3aece90d",
   "metadata": {
    "ExecuteTime": {
     "end_time": "2022-02-01T13:37:45.058458Z",
     "start_time": "2022-02-01T13:37:45.043497Z"
    },
    "scrolled": true
   },
   "outputs": [
    {
     "data": {
      "text/html": [
       "<div>\n",
       "<style scoped>\n",
       "    .dataframe tbody tr th:only-of-type {\n",
       "        vertical-align: middle;\n",
       "    }\n",
       "\n",
       "    .dataframe tbody tr th {\n",
       "        vertical-align: top;\n",
       "    }\n",
       "\n",
       "    .dataframe thead th {\n",
       "        text-align: right;\n",
       "    }\n",
       "</style>\n",
       "<table border=\"1\" class=\"dataframe\">\n",
       "  <thead>\n",
       "    <tr style=\"text-align: right;\">\n",
       "      <th></th>\n",
       "      <th>scheme_name</th>\n",
       "    </tr>\n",
       "  </thead>\n",
       "  <tbody>\n",
       "    <tr>\n",
       "      <th>NaN</th>\n",
       "      <td>28166</td>\n",
       "    </tr>\n",
       "    <tr>\n",
       "      <th>K</th>\n",
       "      <td>682</td>\n",
       "    </tr>\n",
       "    <tr>\n",
       "      <th>None</th>\n",
       "      <td>644</td>\n",
       "    </tr>\n",
       "    <tr>\n",
       "      <th>Borehole</th>\n",
       "      <td>546</td>\n",
       "    </tr>\n",
       "    <tr>\n",
       "      <th>Chalinze wate</th>\n",
       "      <td>405</td>\n",
       "    </tr>\n",
       "    <tr>\n",
       "      <th>M</th>\n",
       "      <td>400</td>\n",
       "    </tr>\n",
       "    <tr>\n",
       "      <th>DANIDA</th>\n",
       "      <td>379</td>\n",
       "    </tr>\n",
       "    <tr>\n",
       "      <th>Government</th>\n",
       "      <td>320</td>\n",
       "    </tr>\n",
       "    <tr>\n",
       "      <th>Ngana water supplied scheme</th>\n",
       "      <td>270</td>\n",
       "    </tr>\n",
       "    <tr>\n",
       "      <th>wanging'ombe water supply s</th>\n",
       "      <td>261</td>\n",
       "    </tr>\n",
       "    <tr>\n",
       "      <th>wanging'ombe supply scheme</th>\n",
       "      <td>234</td>\n",
       "    </tr>\n",
       "    <tr>\n",
       "      <th>I</th>\n",
       "      <td>229</td>\n",
       "    </tr>\n",
       "    <tr>\n",
       "      <th>Bagamoyo wate</th>\n",
       "      <td>229</td>\n",
       "    </tr>\n",
       "    <tr>\n",
       "      <th>Uroki-Bomang'ombe water sup</th>\n",
       "      <td>209</td>\n",
       "    </tr>\n",
       "    <tr>\n",
       "      <th>N</th>\n",
       "      <td>204</td>\n",
       "    </tr>\n",
       "    <tr>\n",
       "      <th>Kirua kahe gravity water supply trust</th>\n",
       "      <td>193</td>\n",
       "    </tr>\n",
       "    <tr>\n",
       "      <th>Machumba estate pipe line</th>\n",
       "      <td>185</td>\n",
       "    </tr>\n",
       "    <tr>\n",
       "      <th>Makwale water supplied sche</th>\n",
       "      <td>166</td>\n",
       "    </tr>\n",
       "    <tr>\n",
       "      <th>Kijiji</th>\n",
       "      <td>161</td>\n",
       "    </tr>\n",
       "    <tr>\n",
       "      <th>S</th>\n",
       "      <td>154</td>\n",
       "    </tr>\n",
       "    <tr>\n",
       "      <th>Handeni Trunk Main(H</th>\n",
       "      <td>152</td>\n",
       "    </tr>\n",
       "    <tr>\n",
       "      <th>mtwango water supply scheme</th>\n",
       "      <td>152</td>\n",
       "    </tr>\n",
       "    <tr>\n",
       "      <th>Losaa-Kia water supply</th>\n",
       "      <td>152</td>\n",
       "    </tr>\n",
       "    <tr>\n",
       "      <th>Mkongoro Two</th>\n",
       "      <td>147</td>\n",
       "    </tr>\n",
       "    <tr>\n",
       "      <th>Roman</th>\n",
       "      <td>139</td>\n",
       "    </tr>\n",
       "    <tr>\n",
       "      <th>Mkongoro One</th>\n",
       "      <td>128</td>\n",
       "    </tr>\n",
       "    <tr>\n",
       "      <th>Maambreni gravity water supply</th>\n",
       "      <td>125</td>\n",
       "    </tr>\n",
       "    <tr>\n",
       "      <th>Lyamungo umbwe water supply</th>\n",
       "      <td>120</td>\n",
       "    </tr>\n",
       "    <tr>\n",
       "      <th>Kirua kahe pumping water trust</th>\n",
       "      <td>113</td>\n",
       "    </tr>\n",
       "    <tr>\n",
       "      <th>Nabaiye pipe line</th>\n",
       "      <td>107</td>\n",
       "    </tr>\n",
       "    <tr>\n",
       "      <th>Ki</th>\n",
       "      <td>107</td>\n",
       "    </tr>\n",
       "    <tr>\n",
       "      <th>Nasula gravity water supply</th>\n",
       "      <td>102</td>\n",
       "    </tr>\n",
       "    <tr>\n",
       "      <th>Sinyanga water supplied sch</th>\n",
       "      <td>100</td>\n",
       "    </tr>\n",
       "    <tr>\n",
       "      <th>Lyamungo-Umbwe water supply</th>\n",
       "      <td>92</td>\n",
       "    </tr>\n",
       "    <tr>\n",
       "      <th>upper Ruvu</th>\n",
       "      <td>91</td>\n",
       "    </tr>\n",
       "    <tr>\n",
       "      <th>Ikela Wa</th>\n",
       "      <td>90</td>\n",
       "    </tr>\n",
       "    <tr>\n",
       "      <th>Shallow well</th>\n",
       "      <td>89</td>\n",
       "    </tr>\n",
       "    <tr>\n",
       "      <th>Kidia kilemapunda</th>\n",
       "      <td>86</td>\n",
       "    </tr>\n",
       "    <tr>\n",
       "      <th>Mitema</th>\n",
       "      <td>86</td>\n",
       "    </tr>\n",
       "    <tr>\n",
       "      <th>imalinyi supply scheme</th>\n",
       "      <td>85</td>\n",
       "    </tr>\n",
       "    <tr>\n",
       "      <th>Mradi wa maji wa wino</th>\n",
       "      <td>84</td>\n",
       "    </tr>\n",
       "    <tr>\n",
       "      <th>Una mkolowoni</th>\n",
       "      <td>79</td>\n",
       "    </tr>\n",
       "    <tr>\n",
       "      <th>Olkokola pipe line</th>\n",
       "      <td>79</td>\n",
       "    </tr>\n",
       "    <tr>\n",
       "      <th>D</th>\n",
       "      <td>78</td>\n",
       "    </tr>\n",
       "    <tr>\n",
       "      <th>Mradi wa maji wa peramiho</th>\n",
       "      <td>78</td>\n",
       "    </tr>\n",
       "    <tr>\n",
       "      <th>Sinyanga  water supplied sc</th>\n",
       "      <td>77</td>\n",
       "    </tr>\n",
       "  </tbody>\n",
       "</table>\n",
       "</div>"
      ],
      "text/plain": [
       "                                       scheme_name\n",
       "NaN                                          28166\n",
       "K                                              682\n",
       "None                                           644\n",
       "Borehole                                       546\n",
       "Chalinze wate                                  405\n",
       "M                                              400\n",
       "DANIDA                                         379\n",
       "Government                                     320\n",
       "Ngana water supplied scheme                    270\n",
       "wanging'ombe water supply s                    261\n",
       "wanging'ombe supply scheme                     234\n",
       "I                                              229\n",
       "Bagamoyo wate                                  229\n",
       "Uroki-Bomang'ombe water sup                    209\n",
       "N                                              204\n",
       "Kirua kahe gravity water supply trust          193\n",
       "Machumba estate pipe line                      185\n",
       "Makwale water supplied sche                    166\n",
       "Kijiji                                         161\n",
       "S                                              154\n",
       "Handeni Trunk Main(H                           152\n",
       "mtwango water supply scheme                    152\n",
       "Losaa-Kia water supply                         152\n",
       "Mkongoro Two                                   147\n",
       "Roman                                          139\n",
       "Mkongoro One                                   128\n",
       "Maambreni gravity water supply                 125\n",
       "Lyamungo umbwe water supply                    120\n",
       "Kirua kahe pumping water trust                 113\n",
       "Nabaiye pipe line                              107\n",
       "Ki                                             107\n",
       "Nasula gravity water supply                    102\n",
       "Sinyanga water supplied sch                    100\n",
       "Lyamungo-Umbwe water supply                     92\n",
       "upper Ruvu                                      91\n",
       "Ikela Wa                                        90\n",
       "Shallow well                                    89\n",
       "Kidia kilemapunda                               86\n",
       "Mitema                                          86\n",
       "imalinyi supply scheme                          85\n",
       "Mradi wa maji wa wino                           84\n",
       "Una mkolowoni                                   79\n",
       "Olkokola pipe line                              79\n",
       "D                                               78\n",
       "Mradi wa maji wa peramiho                       78\n",
       "Sinyanga  water supplied sc                     77"
      ]
     },
     "execution_count": 30,
     "metadata": {},
     "output_type": "execute_result"
    }
   ],
   "source": [
    "scheme_name = pd.DataFrame(raw_df.scheme_name.value_counts(dropna=False))\n",
    "scheme_name[scheme_name.scheme_name > 75]"
   ]
  },
  {
   "cell_type": "markdown",
   "id": "3d492eaa",
   "metadata": {},
   "source": [
    "The scheme name, per the documentation, is the individual or group that actually operates the waterpoint. This is compared to the scheme management company, which oversees operation. When the data was collected, it looks like there was little organization with respect to this particular datapoint. Considering the there are no other patterns in the available names, and that we have the management data, we will likely not use this feature in modeling.\n",
    "_____\n",
    "We will replace null values with 'Other'"
   ]
  },
  {
   "cell_type": "code",
   "execution_count": 31,
   "id": "0b460410",
   "metadata": {
    "ExecuteTime": {
     "end_time": "2022-02-01T13:37:45.074414Z",
     "start_time": "2022-02-01T13:37:45.059454Z"
    }
   },
   "outputs": [],
   "source": [
    "raw_df['scheme_name'].fillna(value='Other', inplace=True)"
   ]
  },
  {
   "cell_type": "markdown",
   "id": "24a0dd36",
   "metadata": {},
   "source": [
    "# Exploring numerical data"
   ]
  },
  {
   "cell_type": "code",
   "execution_count": 32,
   "id": "27bf6aeb",
   "metadata": {
    "ExecuteTime": {
     "end_time": "2022-02-01T13:37:45.152208Z",
     "start_time": "2022-02-01T13:37:45.075412Z"
    }
   },
   "outputs": [
    {
     "data": {
      "text/html": [
       "<div>\n",
       "<style scoped>\n",
       "    .dataframe tbody tr th:only-of-type {\n",
       "        vertical-align: middle;\n",
       "    }\n",
       "\n",
       "    .dataframe tbody tr th {\n",
       "        vertical-align: top;\n",
       "    }\n",
       "\n",
       "    .dataframe thead th {\n",
       "        text-align: right;\n",
       "    }\n",
       "</style>\n",
       "<table border=\"1\" class=\"dataframe\">\n",
       "  <thead>\n",
       "    <tr style=\"text-align: right;\">\n",
       "      <th></th>\n",
       "      <th>id</th>\n",
       "      <th>amount_tsh</th>\n",
       "      <th>gps_height</th>\n",
       "      <th>longitude</th>\n",
       "      <th>latitude</th>\n",
       "      <th>num_private</th>\n",
       "      <th>region_code</th>\n",
       "      <th>district_code</th>\n",
       "      <th>population</th>\n",
       "      <th>construction_year</th>\n",
       "      <th>target</th>\n",
       "    </tr>\n",
       "  </thead>\n",
       "  <tbody>\n",
       "    <tr>\n",
       "      <th>count</th>\n",
       "      <td>59400.000000</td>\n",
       "      <td>59400.000000</td>\n",
       "      <td>59400.000000</td>\n",
       "      <td>59400.000000</td>\n",
       "      <td>5.940000e+04</td>\n",
       "      <td>59400.000000</td>\n",
       "      <td>59400.000000</td>\n",
       "      <td>59400.000000</td>\n",
       "      <td>59400.000000</td>\n",
       "      <td>59400.000000</td>\n",
       "      <td>59400.000000</td>\n",
       "    </tr>\n",
       "    <tr>\n",
       "      <th>mean</th>\n",
       "      <td>37115.131768</td>\n",
       "      <td>317.650385</td>\n",
       "      <td>668.297239</td>\n",
       "      <td>34.077427</td>\n",
       "      <td>-5.706033e+00</td>\n",
       "      <td>0.474141</td>\n",
       "      <td>15.297003</td>\n",
       "      <td>5.629747</td>\n",
       "      <td>179.909983</td>\n",
       "      <td>1300.652475</td>\n",
       "      <td>1.158838</td>\n",
       "    </tr>\n",
       "    <tr>\n",
       "      <th>std</th>\n",
       "      <td>21453.128371</td>\n",
       "      <td>2997.574558</td>\n",
       "      <td>693.116350</td>\n",
       "      <td>6.567432</td>\n",
       "      <td>2.946019e+00</td>\n",
       "      <td>12.236230</td>\n",
       "      <td>17.587406</td>\n",
       "      <td>9.633649</td>\n",
       "      <td>471.482176</td>\n",
       "      <td>951.620547</td>\n",
       "      <td>0.949794</td>\n",
       "    </tr>\n",
       "    <tr>\n",
       "      <th>min</th>\n",
       "      <td>0.000000</td>\n",
       "      <td>0.000000</td>\n",
       "      <td>-90.000000</td>\n",
       "      <td>0.000000</td>\n",
       "      <td>-1.164944e+01</td>\n",
       "      <td>0.000000</td>\n",
       "      <td>1.000000</td>\n",
       "      <td>0.000000</td>\n",
       "      <td>0.000000</td>\n",
       "      <td>0.000000</td>\n",
       "      <td>0.000000</td>\n",
       "    </tr>\n",
       "    <tr>\n",
       "      <th>25%</th>\n",
       "      <td>18519.750000</td>\n",
       "      <td>0.000000</td>\n",
       "      <td>0.000000</td>\n",
       "      <td>33.090347</td>\n",
       "      <td>-8.540621e+00</td>\n",
       "      <td>0.000000</td>\n",
       "      <td>5.000000</td>\n",
       "      <td>2.000000</td>\n",
       "      <td>0.000000</td>\n",
       "      <td>0.000000</td>\n",
       "      <td>0.000000</td>\n",
       "    </tr>\n",
       "    <tr>\n",
       "      <th>50%</th>\n",
       "      <td>37061.500000</td>\n",
       "      <td>0.000000</td>\n",
       "      <td>369.000000</td>\n",
       "      <td>34.908743</td>\n",
       "      <td>-5.021597e+00</td>\n",
       "      <td>0.000000</td>\n",
       "      <td>12.000000</td>\n",
       "      <td>3.000000</td>\n",
       "      <td>25.000000</td>\n",
       "      <td>1986.000000</td>\n",
       "      <td>2.000000</td>\n",
       "    </tr>\n",
       "    <tr>\n",
       "      <th>75%</th>\n",
       "      <td>55656.500000</td>\n",
       "      <td>20.000000</td>\n",
       "      <td>1319.250000</td>\n",
       "      <td>37.178387</td>\n",
       "      <td>-3.326156e+00</td>\n",
       "      <td>0.000000</td>\n",
       "      <td>17.000000</td>\n",
       "      <td>5.000000</td>\n",
       "      <td>215.000000</td>\n",
       "      <td>2004.000000</td>\n",
       "      <td>2.000000</td>\n",
       "    </tr>\n",
       "    <tr>\n",
       "      <th>max</th>\n",
       "      <td>74247.000000</td>\n",
       "      <td>350000.000000</td>\n",
       "      <td>2770.000000</td>\n",
       "      <td>40.345193</td>\n",
       "      <td>-2.000000e-08</td>\n",
       "      <td>1776.000000</td>\n",
       "      <td>99.000000</td>\n",
       "      <td>80.000000</td>\n",
       "      <td>30500.000000</td>\n",
       "      <td>2013.000000</td>\n",
       "      <td>2.000000</td>\n",
       "    </tr>\n",
       "  </tbody>\n",
       "</table>\n",
       "</div>"
      ],
      "text/plain": [
       "                 id     amount_tsh    gps_height     longitude      latitude  \\\n",
       "count  59400.000000   59400.000000  59400.000000  59400.000000  5.940000e+04   \n",
       "mean   37115.131768     317.650385    668.297239     34.077427 -5.706033e+00   \n",
       "std    21453.128371    2997.574558    693.116350      6.567432  2.946019e+00   \n",
       "min        0.000000       0.000000    -90.000000      0.000000 -1.164944e+01   \n",
       "25%    18519.750000       0.000000      0.000000     33.090347 -8.540621e+00   \n",
       "50%    37061.500000       0.000000    369.000000     34.908743 -5.021597e+00   \n",
       "75%    55656.500000      20.000000   1319.250000     37.178387 -3.326156e+00   \n",
       "max    74247.000000  350000.000000   2770.000000     40.345193 -2.000000e-08   \n",
       "\n",
       "        num_private   region_code  district_code    population  \\\n",
       "count  59400.000000  59400.000000   59400.000000  59400.000000   \n",
       "mean       0.474141     15.297003       5.629747    179.909983   \n",
       "std       12.236230     17.587406       9.633649    471.482176   \n",
       "min        0.000000      1.000000       0.000000      0.000000   \n",
       "25%        0.000000      5.000000       2.000000      0.000000   \n",
       "50%        0.000000     12.000000       3.000000     25.000000   \n",
       "75%        0.000000     17.000000       5.000000    215.000000   \n",
       "max     1776.000000     99.000000      80.000000  30500.000000   \n",
       "\n",
       "       construction_year        target  \n",
       "count       59400.000000  59400.000000  \n",
       "mean         1300.652475      1.158838  \n",
       "std           951.620547      0.949794  \n",
       "min             0.000000      0.000000  \n",
       "25%             0.000000      0.000000  \n",
       "50%          1986.000000      2.000000  \n",
       "75%          2004.000000      2.000000  \n",
       "max          2013.000000      2.000000  "
      ]
     },
     "execution_count": 32,
     "metadata": {},
     "output_type": "execute_result"
    }
   ],
   "source": [
    "num_df = raw_df.select_dtypes(include=np.number).copy()\n",
    "num_df.describe()"
   ]
  },
  {
   "cell_type": "markdown",
   "id": "6c55f4fa",
   "metadata": {},
   "source": [
    "The 'id' feature is a unique identifier, we will leave it in for merge purposes later but will not use it in modeling so no investigation needed.\n",
    "\n",
    "The 'amount_tsh' feature is the total amount of water available to the waterpoint. It looks like at least 50% of our waterpoints do not have any water available, regardless of pump functionality. If we look back, we also see that over 50% of pumps are classified as functional. This is a bit concerning, it's unclear how you can have a functional pump with no water available to pump.\n",
    "\n",
    "'gps_height' is concerning. [Research shows](https://en.wikipedia.org/wiki/Geography_of_Tanzania) that the lowest point in the country is sea level (0), yet we have a minimum of -90, so we will need to investigate that.\n",
    "\n",
    "[Research shows](https://worldpopulationreview.com/countries/tanzania/location) that Tanzania's most extreme latitudes range from 00&deg;59'S (-0.98333) to 11&deg;45'S (-11.75), while the longitude extremes range from 40&deg;29'E (40.48333) to 29&deg;10'E (29.16667)\n",
    "\n",
    "The 'latitude' values seem to exceed the northen border of the country (max latitude -2e-08), so we will need to investigate that. The 'longitude' values minimum is 0, so we have some data that is outside the range of the country borders. It's likely from mistakes or errors in data entry, but we need to investigate the extent and fix it.\n",
    "\n",
    "There is no description of 'num_private' in the datasource, we'll have to look at that. It may not factor into modeling.\n",
    "\n",
    "'region_code' and 'district_code' will need to be investigated separately as well, the documentation is not clear about what that data represents.\n",
    "\n",
    "'construction_year' and 'population' each have minimums of 0, and that should definitely not be the case in construction year. It's possible a waterpoint exists in a place considered to have no population, but we'll need to investigate these further."
   ]
  },
  {
   "cell_type": "markdown",
   "id": "5a92a24d",
   "metadata": {},
   "source": [
    "## amount_tsh"
   ]
  },
  {
   "cell_type": "code",
   "execution_count": 33,
   "id": "55a98543",
   "metadata": {
    "ExecuteTime": {
     "end_time": "2022-02-01T13:37:45.168165Z",
     "start_time": "2022-02-01T13:37:45.153205Z"
    }
   },
   "outputs": [
    {
     "data": {
      "text/plain": [
       "0.700993265993266"
      ]
     },
     "execution_count": 33,
     "metadata": {},
     "output_type": "execute_result"
    }
   ],
   "source": [
    "len(num_df[num_df.amount_tsh == 0.0]) / len(num_df)"
   ]
  },
  {
   "cell_type": "markdown",
   "id": "41854049",
   "metadata": {},
   "source": [
    "70% of our datapoints list the amount_tsh as equal to 0.0. This can't mean that the waterpoint has no water available. We need to understand more about what total static head means. [Research shows](https://www.pumpfundamentals.com/tutorial2.htm#:~:text=If%20the%20liquid%20surface%20of,the%20friction%20in%20the%20system.) that a pump system's static head is the difference between the liquid surface of the reservoir and the discharge end of the pump system. The higher the discharge tube is lifted above the liquid surface, the harder is is for the pump to move the water, and the lower the flow rate will be. I would imagine that the requirements of pump location to discharge would impact the type of pump to be used."
   ]
  },
  {
   "cell_type": "code",
   "execution_count": 34,
   "id": "d87aea58",
   "metadata": {
    "ExecuteTime": {
     "end_time": "2022-02-01T13:37:45.200080Z",
     "start_time": "2022-02-01T13:37:45.169162Z"
    },
    "scrolled": false
   },
   "outputs": [
    {
     "data": {
      "text/html": [
       "<div>\n",
       "<style scoped>\n",
       "    .dataframe tbody tr th:only-of-type {\n",
       "        vertical-align: middle;\n",
       "    }\n",
       "\n",
       "    .dataframe tbody tr th {\n",
       "        vertical-align: top;\n",
       "    }\n",
       "\n",
       "    .dataframe thead th {\n",
       "        text-align: right;\n",
       "    }\n",
       "</style>\n",
       "<table border=\"1\" class=\"dataframe\">\n",
       "  <thead>\n",
       "    <tr style=\"text-align: right;\">\n",
       "      <th></th>\n",
       "      <th>amount_tsh</th>\n",
       "    </tr>\n",
       "    <tr>\n",
       "      <th>target</th>\n",
       "      <th></th>\n",
       "    </tr>\n",
       "  </thead>\n",
       "  <tbody>\n",
       "    <tr>\n",
       "      <th>0</th>\n",
       "      <td>123.481230</td>\n",
       "    </tr>\n",
       "    <tr>\n",
       "      <th>1</th>\n",
       "      <td>267.071577</td>\n",
       "    </tr>\n",
       "    <tr>\n",
       "      <th>2</th>\n",
       "      <td>461.798235</td>\n",
       "    </tr>\n",
       "  </tbody>\n",
       "</table>\n",
       "</div>"
      ],
      "text/plain": [
       "        amount_tsh\n",
       "target            \n",
       "0       123.481230\n",
       "1       267.071577\n",
       "2       461.798235"
      ]
     },
     "execution_count": 34,
     "metadata": {},
     "output_type": "execute_result"
    }
   ],
   "source": [
    "num_df.groupby('target').mean()[['amount_tsh']]"
   ]
  },
  {
   "cell_type": "code",
   "execution_count": 35,
   "id": "8378b5af",
   "metadata": {
    "ExecuteTime": {
     "end_time": "2022-02-01T13:37:45.231994Z",
     "start_time": "2022-02-01T13:37:45.202075Z"
    }
   },
   "outputs": [
    {
     "data": {
      "text/html": [
       "<div>\n",
       "<style scoped>\n",
       "    .dataframe tbody tr th:only-of-type {\n",
       "        vertical-align: middle;\n",
       "    }\n",
       "\n",
       "    .dataframe tbody tr th {\n",
       "        vertical-align: top;\n",
       "    }\n",
       "\n",
       "    .dataframe thead th {\n",
       "        text-align: right;\n",
       "    }\n",
       "</style>\n",
       "<table border=\"1\" class=\"dataframe\">\n",
       "  <thead>\n",
       "    <tr style=\"text-align: right;\">\n",
       "      <th></th>\n",
       "      <th>id</th>\n",
       "      <th>amount_tsh</th>\n",
       "      <th>gps_height</th>\n",
       "      <th>longitude</th>\n",
       "      <th>latitude</th>\n",
       "      <th>num_private</th>\n",
       "      <th>region_code</th>\n",
       "      <th>district_code</th>\n",
       "      <th>population</th>\n",
       "      <th>construction_year</th>\n",
       "      <th>target</th>\n",
       "    </tr>\n",
       "  </thead>\n",
       "  <tbody>\n",
       "    <tr>\n",
       "      <th>0</th>\n",
       "      <td>69572</td>\n",
       "      <td>6000.0</td>\n",
       "      <td>1390</td>\n",
       "      <td>34.938093</td>\n",
       "      <td>-9.856322</td>\n",
       "      <td>0</td>\n",
       "      <td>11</td>\n",
       "      <td>5</td>\n",
       "      <td>109</td>\n",
       "      <td>1999</td>\n",
       "      <td>2</td>\n",
       "    </tr>\n",
       "    <tr>\n",
       "      <th>2</th>\n",
       "      <td>34310</td>\n",
       "      <td>25.0</td>\n",
       "      <td>686</td>\n",
       "      <td>37.460664</td>\n",
       "      <td>-3.821329</td>\n",
       "      <td>0</td>\n",
       "      <td>21</td>\n",
       "      <td>4</td>\n",
       "      <td>250</td>\n",
       "      <td>2009</td>\n",
       "      <td>2</td>\n",
       "    </tr>\n",
       "    <tr>\n",
       "      <th>5</th>\n",
       "      <td>9944</td>\n",
       "      <td>20.0</td>\n",
       "      <td>0</td>\n",
       "      <td>39.172796</td>\n",
       "      <td>-4.765587</td>\n",
       "      <td>0</td>\n",
       "      <td>4</td>\n",
       "      <td>8</td>\n",
       "      <td>1</td>\n",
       "      <td>2009</td>\n",
       "      <td>2</td>\n",
       "    </tr>\n",
       "    <tr>\n",
       "      <th>11</th>\n",
       "      <td>50409</td>\n",
       "      <td>200.0</td>\n",
       "      <td>1062</td>\n",
       "      <td>35.770258</td>\n",
       "      <td>-10.574175</td>\n",
       "      <td>0</td>\n",
       "      <td>10</td>\n",
       "      <td>5</td>\n",
       "      <td>250</td>\n",
       "      <td>1987</td>\n",
       "      <td>2</td>\n",
       "    </tr>\n",
       "    <tr>\n",
       "      <th>16</th>\n",
       "      <td>48451</td>\n",
       "      <td>500.0</td>\n",
       "      <td>1703</td>\n",
       "      <td>34.642439</td>\n",
       "      <td>-9.106185</td>\n",
       "      <td>0</td>\n",
       "      <td>11</td>\n",
       "      <td>4</td>\n",
       "      <td>35</td>\n",
       "      <td>1978</td>\n",
       "      <td>0</td>\n",
       "    </tr>\n",
       "    <tr>\n",
       "      <th>...</th>\n",
       "      <td>...</td>\n",
       "      <td>...</td>\n",
       "      <td>...</td>\n",
       "      <td>...</td>\n",
       "      <td>...</td>\n",
       "      <td>...</td>\n",
       "      <td>...</td>\n",
       "      <td>...</td>\n",
       "      <td>...</td>\n",
       "      <td>...</td>\n",
       "      <td>...</td>\n",
       "    </tr>\n",
       "    <tr>\n",
       "      <th>59385</th>\n",
       "      <td>34473</td>\n",
       "      <td>500.0</td>\n",
       "      <td>1327</td>\n",
       "      <td>33.951681</td>\n",
       "      <td>-2.021854</td>\n",
       "      <td>0</td>\n",
       "      <td>20</td>\n",
       "      <td>4</td>\n",
       "      <td>200</td>\n",
       "      <td>2011</td>\n",
       "      <td>2</td>\n",
       "    </tr>\n",
       "    <tr>\n",
       "      <th>59387</th>\n",
       "      <td>26640</td>\n",
       "      <td>100.0</td>\n",
       "      <td>25</td>\n",
       "      <td>39.176480</td>\n",
       "      <td>-6.957098</td>\n",
       "      <td>0</td>\n",
       "      <td>7</td>\n",
       "      <td>2</td>\n",
       "      <td>100</td>\n",
       "      <td>2000</td>\n",
       "      <td>2</td>\n",
       "    </tr>\n",
       "    <tr>\n",
       "      <th>59394</th>\n",
       "      <td>11164</td>\n",
       "      <td>500.0</td>\n",
       "      <td>351</td>\n",
       "      <td>37.634053</td>\n",
       "      <td>-6.124830</td>\n",
       "      <td>0</td>\n",
       "      <td>5</td>\n",
       "      <td>6</td>\n",
       "      <td>89</td>\n",
       "      <td>2007</td>\n",
       "      <td>0</td>\n",
       "    </tr>\n",
       "    <tr>\n",
       "      <th>59395</th>\n",
       "      <td>60739</td>\n",
       "      <td>10.0</td>\n",
       "      <td>1210</td>\n",
       "      <td>37.169807</td>\n",
       "      <td>-3.253847</td>\n",
       "      <td>0</td>\n",
       "      <td>3</td>\n",
       "      <td>5</td>\n",
       "      <td>125</td>\n",
       "      <td>1999</td>\n",
       "      <td>2</td>\n",
       "    </tr>\n",
       "    <tr>\n",
       "      <th>59396</th>\n",
       "      <td>27263</td>\n",
       "      <td>4700.0</td>\n",
       "      <td>1212</td>\n",
       "      <td>35.249991</td>\n",
       "      <td>-9.070629</td>\n",
       "      <td>0</td>\n",
       "      <td>11</td>\n",
       "      <td>4</td>\n",
       "      <td>56</td>\n",
       "      <td>1996</td>\n",
       "      <td>2</td>\n",
       "    </tr>\n",
       "  </tbody>\n",
       "</table>\n",
       "<p>17761 rows × 11 columns</p>\n",
       "</div>"
      ],
      "text/plain": [
       "          id  amount_tsh  gps_height  longitude   latitude  num_private  \\\n",
       "0      69572      6000.0        1390  34.938093  -9.856322            0   \n",
       "2      34310        25.0         686  37.460664  -3.821329            0   \n",
       "5       9944        20.0           0  39.172796  -4.765587            0   \n",
       "11     50409       200.0        1062  35.770258 -10.574175            0   \n",
       "16     48451       500.0        1703  34.642439  -9.106185            0   \n",
       "...      ...         ...         ...        ...        ...          ...   \n",
       "59385  34473       500.0        1327  33.951681  -2.021854            0   \n",
       "59387  26640       100.0          25  39.176480  -6.957098            0   \n",
       "59394  11164       500.0         351  37.634053  -6.124830            0   \n",
       "59395  60739        10.0        1210  37.169807  -3.253847            0   \n",
       "59396  27263      4700.0        1212  35.249991  -9.070629            0   \n",
       "\n",
       "       region_code  district_code  population  construction_year  target  \n",
       "0               11              5         109               1999       2  \n",
       "2               21              4         250               2009       2  \n",
       "5                4              8           1               2009       2  \n",
       "11              10              5         250               1987       2  \n",
       "16              11              4          35               1978       0  \n",
       "...            ...            ...         ...                ...     ...  \n",
       "59385           20              4         200               2011       2  \n",
       "59387            7              2         100               2000       2  \n",
       "59394            5              6          89               2007       0  \n",
       "59395            3              5         125               1999       2  \n",
       "59396           11              4          56               1996       2  \n",
       "\n",
       "[17761 rows x 11 columns]"
      ]
     },
     "execution_count": 35,
     "metadata": {},
     "output_type": "execute_result"
    }
   ],
   "source": [
    "num_df[num_df.amount_tsh > 0]"
   ]
  },
  {
   "cell_type": "markdown",
   "id": "84b93c21",
   "metadata": {},
   "source": [
    "The average total static head increases with each pump status category, from 0 (non function) to 2 (functional). We will have to engineer this feature in some way in order to utilize it. Most of our values are 0, we have none that are below that, and the maximum value is 350,000 feet."
   ]
  },
  {
   "cell_type": "markdown",
   "id": "843e40f5",
   "metadata": {},
   "source": [
    "## gps_height"
   ]
  },
  {
   "cell_type": "code",
   "execution_count": 36,
   "id": "a8871337",
   "metadata": {
    "ExecuteTime": {
     "end_time": "2022-02-01T13:37:45.278871Z",
     "start_time": "2022-02-01T13:37:45.232992Z"
    }
   },
   "outputs": [
    {
     "name": "stdout",
     "output_type": "stream",
     "text": [
      "Percent of total data: 2.52%\n"
     ]
    },
    {
     "data": {
      "text/html": [
       "<div>\n",
       "<style scoped>\n",
       "    .dataframe tbody tr th:only-of-type {\n",
       "        vertical-align: middle;\n",
       "    }\n",
       "\n",
       "    .dataframe tbody tr th {\n",
       "        vertical-align: top;\n",
       "    }\n",
       "\n",
       "    .dataframe thead th {\n",
       "        text-align: right;\n",
       "    }\n",
       "</style>\n",
       "<table border=\"1\" class=\"dataframe\">\n",
       "  <thead>\n",
       "    <tr style=\"text-align: right;\">\n",
       "      <th></th>\n",
       "      <th>id</th>\n",
       "      <th>amount_tsh</th>\n",
       "      <th>gps_height</th>\n",
       "      <th>longitude</th>\n",
       "      <th>latitude</th>\n",
       "      <th>num_private</th>\n",
       "      <th>region_code</th>\n",
       "      <th>district_code</th>\n",
       "      <th>population</th>\n",
       "      <th>construction_year</th>\n",
       "      <th>target</th>\n",
       "    </tr>\n",
       "  </thead>\n",
       "  <tbody>\n",
       "    <tr>\n",
       "      <th>count</th>\n",
       "      <td>1496.000000</td>\n",
       "      <td>1496.000000</td>\n",
       "      <td>1496.000000</td>\n",
       "      <td>1496.000000</td>\n",
       "      <td>1496.000000</td>\n",
       "      <td>1496.000000</td>\n",
       "      <td>1496.000000</td>\n",
       "      <td>1496.000000</td>\n",
       "      <td>1496.000000</td>\n",
       "      <td>1496.000000</td>\n",
       "      <td>1496.000000</td>\n",
       "    </tr>\n",
       "    <tr>\n",
       "      <th>mean</th>\n",
       "      <td>37297.606952</td>\n",
       "      <td>313.013369</td>\n",
       "      <td>-19.993316</td>\n",
       "      <td>39.352801</td>\n",
       "      <td>-7.727535</td>\n",
       "      <td>0.506684</td>\n",
       "      <td>34.703877</td>\n",
       "      <td>15.531417</td>\n",
       "      <td>258.137032</td>\n",
       "      <td>1686.096257</td>\n",
       "      <td>1.073529</td>\n",
       "    </tr>\n",
       "    <tr>\n",
       "      <th>std</th>\n",
       "      <td>21119.500129</td>\n",
       "      <td>4017.641868</td>\n",
       "      <td>12.154136</td>\n",
       "      <td>0.458811</td>\n",
       "      <td>1.542230</td>\n",
       "      <td>7.155227</td>\n",
       "      <td>35.259116</td>\n",
       "      <td>21.812220</td>\n",
       "      <td>428.417873</td>\n",
       "      <td>726.379806</td>\n",
       "      <td>0.983446</td>\n",
       "    </tr>\n",
       "    <tr>\n",
       "      <th>min</th>\n",
       "      <td>150.000000</td>\n",
       "      <td>0.000000</td>\n",
       "      <td>-90.000000</td>\n",
       "      <td>38.614960</td>\n",
       "      <td>-10.946096</td>\n",
       "      <td>0.000000</td>\n",
       "      <td>4.000000</td>\n",
       "      <td>1.000000</td>\n",
       "      <td>1.000000</td>\n",
       "      <td>0.000000</td>\n",
       "      <td>0.000000</td>\n",
       "    </tr>\n",
       "    <tr>\n",
       "      <th>25%</th>\n",
       "      <td>19232.750000</td>\n",
       "      <td>0.000000</td>\n",
       "      <td>-28.000000</td>\n",
       "      <td>38.972421</td>\n",
       "      <td>-8.584131</td>\n",
       "      <td>0.000000</td>\n",
       "      <td>6.000000</td>\n",
       "      <td>1.000000</td>\n",
       "      <td>40.000000</td>\n",
       "      <td>1976.000000</td>\n",
       "      <td>0.000000</td>\n",
       "    </tr>\n",
       "    <tr>\n",
       "      <th>50%</th>\n",
       "      <td>36699.000000</td>\n",
       "      <td>0.000000</td>\n",
       "      <td>-18.000000</td>\n",
       "      <td>39.281546</td>\n",
       "      <td>-7.415977</td>\n",
       "      <td>0.000000</td>\n",
       "      <td>7.000000</td>\n",
       "      <td>5.000000</td>\n",
       "      <td>102.500000</td>\n",
       "      <td>2000.000000</td>\n",
       "      <td>2.000000</td>\n",
       "    </tr>\n",
       "    <tr>\n",
       "      <th>75%</th>\n",
       "      <td>55492.750000</td>\n",
       "      <td>50.000000</td>\n",
       "      <td>-11.000000</td>\n",
       "      <td>39.662349</td>\n",
       "      <td>-6.524902</td>\n",
       "      <td>0.000000</td>\n",
       "      <td>60.000000</td>\n",
       "      <td>13.000000</td>\n",
       "      <td>320.000000</td>\n",
       "      <td>2008.000000</td>\n",
       "      <td>2.000000</td>\n",
       "    </tr>\n",
       "    <tr>\n",
       "      <th>max</th>\n",
       "      <td>74211.000000</td>\n",
       "      <td>138000.000000</td>\n",
       "      <td>-1.000000</td>\n",
       "      <td>40.345193</td>\n",
       "      <td>-5.278598</td>\n",
       "      <td>150.000000</td>\n",
       "      <td>99.000000</td>\n",
       "      <td>67.000000</td>\n",
       "      <td>4520.000000</td>\n",
       "      <td>2013.000000</td>\n",
       "      <td>2.000000</td>\n",
       "    </tr>\n",
       "  </tbody>\n",
       "</table>\n",
       "</div>"
      ],
      "text/plain": [
       "                 id     amount_tsh   gps_height    longitude     latitude  \\\n",
       "count   1496.000000    1496.000000  1496.000000  1496.000000  1496.000000   \n",
       "mean   37297.606952     313.013369   -19.993316    39.352801    -7.727535   \n",
       "std    21119.500129    4017.641868    12.154136     0.458811     1.542230   \n",
       "min      150.000000       0.000000   -90.000000    38.614960   -10.946096   \n",
       "25%    19232.750000       0.000000   -28.000000    38.972421    -8.584131   \n",
       "50%    36699.000000       0.000000   -18.000000    39.281546    -7.415977   \n",
       "75%    55492.750000      50.000000   -11.000000    39.662349    -6.524902   \n",
       "max    74211.000000  138000.000000    -1.000000    40.345193    -5.278598   \n",
       "\n",
       "       num_private  region_code  district_code   population  \\\n",
       "count  1496.000000  1496.000000    1496.000000  1496.000000   \n",
       "mean      0.506684    34.703877      15.531417   258.137032   \n",
       "std       7.155227    35.259116      21.812220   428.417873   \n",
       "min       0.000000     4.000000       1.000000     1.000000   \n",
       "25%       0.000000     6.000000       1.000000    40.000000   \n",
       "50%       0.000000     7.000000       5.000000   102.500000   \n",
       "75%       0.000000    60.000000      13.000000   320.000000   \n",
       "max     150.000000    99.000000      67.000000  4520.000000   \n",
       "\n",
       "       construction_year       target  \n",
       "count        1496.000000  1496.000000  \n",
       "mean         1686.096257     1.073529  \n",
       "std           726.379806     0.983446  \n",
       "min             0.000000     0.000000  \n",
       "25%          1976.000000     0.000000  \n",
       "50%          2000.000000     2.000000  \n",
       "75%          2008.000000     2.000000  \n",
       "max          2013.000000     2.000000  "
      ]
     },
     "execution_count": 36,
     "metadata": {},
     "output_type": "execute_result"
    }
   ],
   "source": [
    "gps_height_neg = num_df[num_df.gps_height < 0]\n",
    "print(f\"Percent of total data: {round(len(gps_height_neg)/len(num_df)*100,2)}%\")\n",
    "gps_height_neg.describe()"
   ]
  },
  {
   "cell_type": "markdown",
   "id": "7fa450c6",
   "metadata": {},
   "source": [
    "There are 1,496 datapoints where the gps_height was less than 0, about 2.5% of our data. Earlier we mentioned that this should not be possible as the listed lowest elevation for Tanzania is 0 ft above sea level (at the Indian Ocean). [Research shows](https://eos-gnss.com/knowledge-base/articles/elevation-for-beginners) that most GPS units are designed to measure height based on the representation of the earth's surface as an 'ellipsoid', and it's perfectly possible to be standing at sea level where the reading should be 0 and have it be a negative number. \n",
    "\n",
    "Considering these data are almost all on the eastern edge of the country (lower longitudes) closer to the Indian Ocean, it is likely the sites are at or just above sea level and capable of producing negative height readings. Opportunity for further tuning could be to address this incosistency across all the data, shifting all datapoints to a more accurage representation of height. I do not think it would be as simple as shifting all values up by the largest negative difference. Because it's such a small percentage of our dataset, we will just set them to 0 rather than worry about adjusting all the values."
   ]
  },
  {
   "cell_type": "code",
   "execution_count": 37,
   "id": "5a10ea0f",
   "metadata": {
    "ExecuteTime": {
     "end_time": "2022-02-01T13:37:45.294827Z",
     "start_time": "2022-02-01T13:37:45.280864Z"
    }
   },
   "outputs": [],
   "source": [
    "num_df.gps_height.clip(lower=0.0, inplace=True)"
   ]
  },
  {
   "cell_type": "markdown",
   "id": "44db3c9d",
   "metadata": {},
   "source": [
    "## longitude/latitude"
   ]
  },
  {
   "cell_type": "markdown",
   "id": "6e254691",
   "metadata": {},
   "source": [
    "The max longitude is within the boundaries, we need to examine all values below the actual minimum which is 29.16667."
   ]
  },
  {
   "cell_type": "code",
   "execution_count": 38,
   "id": "26db66f7",
   "metadata": {
    "ExecuteTime": {
     "end_time": "2022-02-01T13:37:45.342700Z",
     "start_time": "2022-02-01T13:37:45.295824Z"
    }
   },
   "outputs": [
    {
     "data": {
      "text/html": [
       "<div>\n",
       "<style scoped>\n",
       "    .dataframe tbody tr th:only-of-type {\n",
       "        vertical-align: middle;\n",
       "    }\n",
       "\n",
       "    .dataframe tbody tr th {\n",
       "        vertical-align: top;\n",
       "    }\n",
       "\n",
       "    .dataframe thead th {\n",
       "        text-align: right;\n",
       "    }\n",
       "</style>\n",
       "<table border=\"1\" class=\"dataframe\">\n",
       "  <thead>\n",
       "    <tr style=\"text-align: right;\">\n",
       "      <th></th>\n",
       "      <th>id</th>\n",
       "      <th>amount_tsh</th>\n",
       "      <th>gps_height</th>\n",
       "      <th>longitude</th>\n",
       "      <th>latitude</th>\n",
       "      <th>num_private</th>\n",
       "      <th>region_code</th>\n",
       "      <th>district_code</th>\n",
       "      <th>population</th>\n",
       "      <th>construction_year</th>\n",
       "      <th>target</th>\n",
       "    </tr>\n",
       "  </thead>\n",
       "  <tbody>\n",
       "    <tr>\n",
       "      <th>count</th>\n",
       "      <td>1812.000000</td>\n",
       "      <td>1812.0</td>\n",
       "      <td>1812.0</td>\n",
       "      <td>1812.0</td>\n",
       "      <td>1.812000e+03</td>\n",
       "      <td>1812.0</td>\n",
       "      <td>1812.000000</td>\n",
       "      <td>1812.000000</td>\n",
       "      <td>1812.0</td>\n",
       "      <td>1812.0</td>\n",
       "      <td>1812.000000</td>\n",
       "    </tr>\n",
       "    <tr>\n",
       "      <th>mean</th>\n",
       "      <td>37389.841060</td>\n",
       "      <td>0.0</td>\n",
       "      <td>0.0</td>\n",
       "      <td>0.0</td>\n",
       "      <td>-2.000000e-08</td>\n",
       "      <td>0.0</td>\n",
       "      <td>17.820088</td>\n",
       "      <td>2.497241</td>\n",
       "      <td>0.0</td>\n",
       "      <td>0.0</td>\n",
       "      <td>1.173289</td>\n",
       "    </tr>\n",
       "    <tr>\n",
       "      <th>std</th>\n",
       "      <td>21413.129962</td>\n",
       "      <td>0.0</td>\n",
       "      <td>0.0</td>\n",
       "      <td>0.0</td>\n",
       "      <td>3.309636e-24</td>\n",
       "      <td>0.0</td>\n",
       "      <td>1.023562</td>\n",
       "      <td>2.157389</td>\n",
       "      <td>0.0</td>\n",
       "      <td>0.0</td>\n",
       "      <td>0.870267</td>\n",
       "    </tr>\n",
       "    <tr>\n",
       "      <th>min</th>\n",
       "      <td>15.000000</td>\n",
       "      <td>0.0</td>\n",
       "      <td>0.0</td>\n",
       "      <td>0.0</td>\n",
       "      <td>-2.000000e-08</td>\n",
       "      <td>0.0</td>\n",
       "      <td>11.000000</td>\n",
       "      <td>1.000000</td>\n",
       "      <td>0.0</td>\n",
       "      <td>0.0</td>\n",
       "      <td>0.000000</td>\n",
       "    </tr>\n",
       "    <tr>\n",
       "      <th>25%</th>\n",
       "      <td>18481.750000</td>\n",
       "      <td>0.0</td>\n",
       "      <td>0.0</td>\n",
       "      <td>0.0</td>\n",
       "      <td>-2.000000e-08</td>\n",
       "      <td>0.0</td>\n",
       "      <td>17.000000</td>\n",
       "      <td>1.000000</td>\n",
       "      <td>0.0</td>\n",
       "      <td>0.0</td>\n",
       "      <td>0.000000</td>\n",
       "    </tr>\n",
       "    <tr>\n",
       "      <th>50%</th>\n",
       "      <td>37326.000000</td>\n",
       "      <td>0.0</td>\n",
       "      <td>0.0</td>\n",
       "      <td>0.0</td>\n",
       "      <td>-2.000000e-08</td>\n",
       "      <td>0.0</td>\n",
       "      <td>17.000000</td>\n",
       "      <td>1.000000</td>\n",
       "      <td>0.0</td>\n",
       "      <td>0.0</td>\n",
       "      <td>1.000000</td>\n",
       "    </tr>\n",
       "    <tr>\n",
       "      <th>75%</th>\n",
       "      <td>55509.750000</td>\n",
       "      <td>0.0</td>\n",
       "      <td>0.0</td>\n",
       "      <td>0.0</td>\n",
       "      <td>-2.000000e-08</td>\n",
       "      <td>0.0</td>\n",
       "      <td>19.000000</td>\n",
       "      <td>6.000000</td>\n",
       "      <td>0.0</td>\n",
       "      <td>0.0</td>\n",
       "      <td>2.000000</td>\n",
       "    </tr>\n",
       "    <tr>\n",
       "      <th>max</th>\n",
       "      <td>74193.000000</td>\n",
       "      <td>0.0</td>\n",
       "      <td>0.0</td>\n",
       "      <td>0.0</td>\n",
       "      <td>-2.000000e-08</td>\n",
       "      <td>0.0</td>\n",
       "      <td>19.000000</td>\n",
       "      <td>6.000000</td>\n",
       "      <td>0.0</td>\n",
       "      <td>0.0</td>\n",
       "      <td>2.000000</td>\n",
       "    </tr>\n",
       "  </tbody>\n",
       "</table>\n",
       "</div>"
      ],
      "text/plain": [
       "                 id  amount_tsh  gps_height  longitude      latitude  \\\n",
       "count   1812.000000      1812.0      1812.0     1812.0  1.812000e+03   \n",
       "mean   37389.841060         0.0         0.0        0.0 -2.000000e-08   \n",
       "std    21413.129962         0.0         0.0        0.0  3.309636e-24   \n",
       "min       15.000000         0.0         0.0        0.0 -2.000000e-08   \n",
       "25%    18481.750000         0.0         0.0        0.0 -2.000000e-08   \n",
       "50%    37326.000000         0.0         0.0        0.0 -2.000000e-08   \n",
       "75%    55509.750000         0.0         0.0        0.0 -2.000000e-08   \n",
       "max    74193.000000         0.0         0.0        0.0 -2.000000e-08   \n",
       "\n",
       "       num_private  region_code  district_code  population  construction_year  \\\n",
       "count       1812.0  1812.000000    1812.000000      1812.0             1812.0   \n",
       "mean           0.0    17.820088       2.497241         0.0                0.0   \n",
       "std            0.0     1.023562       2.157389         0.0                0.0   \n",
       "min            0.0    11.000000       1.000000         0.0                0.0   \n",
       "25%            0.0    17.000000       1.000000         0.0                0.0   \n",
       "50%            0.0    17.000000       1.000000         0.0                0.0   \n",
       "75%            0.0    19.000000       6.000000         0.0                0.0   \n",
       "max            0.0    19.000000       6.000000         0.0                0.0   \n",
       "\n",
       "            target  \n",
       "count  1812.000000  \n",
       "mean      1.173289  \n",
       "std       0.870267  \n",
       "min       0.000000  \n",
       "25%       0.000000  \n",
       "50%       1.000000  \n",
       "75%       2.000000  \n",
       "max       2.000000  "
      ]
     },
     "execution_count": 38,
     "metadata": {},
     "output_type": "execute_result"
    }
   ],
   "source": [
    "longitude_errors = num_df[num_df.longitude < 29.16667]\n",
    "longitude_errors.describe()"
   ]
  },
  {
   "cell_type": "markdown",
   "id": "7016694c",
   "metadata": {},
   "source": [
    "It looks like we have found that our data includes errors in GPS readings. These errors show up as longitude 0 and latitude -2e-0.8. These entries with GPS errors, however, do not account for all the population point values of 0, or the construction year values of 0, so we will still need to address them."
   ]
  },
  {
   "cell_type": "code",
   "execution_count": 39,
   "id": "77ce6b86",
   "metadata": {
    "ExecuteTime": {
     "end_time": "2022-02-01T13:37:45.357659Z",
     "start_time": "2022-02-01T13:37:45.343697Z"
    }
   },
   "outputs": [
    {
     "name": "stdout",
     "output_type": "stream",
     "text": [
      "Percent of data with missing lat/long: 3.05%\n",
      "Total data with population of 0: 21381\n",
      "Total data with construction year of 0: 20709\n"
     ]
    }
   ],
   "source": [
    "print(f\"Percent of data with missing lat/long: {round((len(longitude_errors)/len(num_df))*100, 2)}%\")\n",
    "\n",
    "print(f\"Total data with population of 0: {len(num_df[num_df.population == 0])}\")\n",
    "print(f\"Total data with construction year of 0: {len(num_df[num_df.construction_year == 0])}\")"
   ]
  },
  {
   "cell_type": "code",
   "execution_count": 40,
   "id": "7f3a4782",
   "metadata": {
    "ExecuteTime": {
     "end_time": "2022-02-01T13:37:45.373618Z",
     "start_time": "2022-02-01T13:37:45.358657Z"
    }
   },
   "outputs": [
    {
     "data": {
      "text/plain": [
       "2    0.480132\n",
       "0    0.306843\n",
       "1    0.213024\n",
       "Name: target, dtype: float64"
      ]
     },
     "execution_count": 40,
     "metadata": {},
     "output_type": "execute_result"
    }
   ],
   "source": [
    "gps_errors = raw_df[raw_df.longitude == 0.0]\n",
    "gps_errors.target.value_counts(normalize=True)"
   ]
  },
  {
   "cell_type": "code",
   "execution_count": 41,
   "id": "1ac32c3d",
   "metadata": {
    "ExecuteTime": {
     "end_time": "2022-02-01T13:37:45.389574Z",
     "start_time": "2022-02-01T13:37:45.374615Z"
    }
   },
   "outputs": [
    {
     "data": {
      "text/plain": [
       "17    1057\n",
       "19     752\n",
       "11       3\n",
       "Name: region_code, dtype: int64"
      ]
     },
     "execution_count": 41,
     "metadata": {},
     "output_type": "execute_result"
    }
   ],
   "source": [
    "gps_errors.region_code.value_counts()"
   ]
  },
  {
   "cell_type": "markdown",
   "id": "0d01664d",
   "metadata": {},
   "source": [
    "The missing GPS data comprises about 3% of our dataset, but contains a disproportionate number of the 'functional needs repair' value from the target, which we already have very little data for. Also, all of the missing GPS data comes from three regions: 11, 17, and 19. \n",
    "\n",
    "What we can do is take the average lat/long from the points we do have for those region_codes and fill our nulls with the average for that region_code with a little randomness added in."
   ]
  },
  {
   "cell_type": "code",
   "execution_count": 42,
   "id": "05c41dba",
   "metadata": {
    "ExecuteTime": {
     "end_time": "2022-02-01T13:37:45.500279Z",
     "start_time": "2022-02-01T13:37:45.391569Z"
    }
   },
   "outputs": [],
   "source": [
    "# get the list of the region codes with errors\n",
    "error_regions = list(gps_errors.region_code.value_counts().index)\n",
    "\n",
    "for region in error_regions:\n",
    "    # split the data based on longitude not being 0.0\n",
    "    region_no_gps = num_df[(num_df.region_code == region) & (num_df.longitude == 0.0)]\n",
    "    region_gps_data = num_df[(num_df.region_code == region) & (num_df.longitude != 0.0)]\n",
    "    # get mean and std for the long/lat of gps data we have\n",
    "    avg_long = region_gps_data[['longitude', 'latitude']].mean()[0]\n",
    "    avg_lat = region_gps_data[['longitude', 'latitude']].mean()[1]\n",
    "    long_std = region_gps_data[['longitude', 'latitude']].std()[0]\n",
    "    lat_std = region_gps_data[['longitude', 'latitude']].std()[1]\n",
    "    # initialize empty lists for random data to fill\n",
    "    fill_long = []\n",
    "    fill_lat = []\n",
    "    # append to each list a random value within the standard deviation of the mean\n",
    "    for x in range(len(region_no_gps)):\n",
    "        fill_long.append(random.triangular(avg_long+long_std, avg_long-long_std))\n",
    "        fill_lat.append(random.triangular(avg_lat+lat_std, avg_lat-lat_std))\n",
    "        x += 1\n",
    "    # convert the two lists into a dataframe\n",
    "    fill_df = pd.DataFrame([fill_long, fill_lat]).transpose()\n",
    "    fill_df.columns = ['longitude', 'latitude']\n",
    "    # replace the missing GPS data with these randomized values\n",
    "    num_df.loc[region_no_gps.index, ['longitude', 'latitude']] = fill_df"
   ]
  },
  {
   "cell_type": "markdown",
   "id": "0d50cc50",
   "metadata": {},
   "source": [
    "## num_private"
   ]
  },
  {
   "cell_type": "code",
   "execution_count": 43,
   "id": "fac67d44",
   "metadata": {
    "ExecuteTime": {
     "end_time": "2022-02-01T13:37:45.516236Z",
     "start_time": "2022-02-01T13:37:45.508258Z"
    }
   },
   "outputs": [
    {
     "data": {
      "text/plain": [
       "0       0.987256\n",
       "6       0.001364\n",
       "1       0.001229\n",
       "5       0.000774\n",
       "8       0.000774\n",
       "          ...   \n",
       "42      0.000017\n",
       "23      0.000017\n",
       "136     0.000017\n",
       "698     0.000017\n",
       "1402    0.000017\n",
       "Name: num_private, Length: 65, dtype: float64"
      ]
     },
     "execution_count": 43,
     "metadata": {},
     "output_type": "execute_result"
    }
   ],
   "source": [
    "num_df.num_private.value_counts(normalize=True)"
   ]
  },
  {
   "cell_type": "code",
   "execution_count": 44,
   "id": "7aefeebd",
   "metadata": {
    "ExecuteTime": {
     "end_time": "2022-02-01T13:37:45.845360Z",
     "start_time": "2022-02-01T13:37:45.518232Z"
    }
   },
   "outputs": [
    {
     "data": {
      "image/png": "[encoded data removed]",
      "text/plain": [
       "<Figure size 432x288 with 1 Axes>"
      ]
     },
     "metadata": {
      "needs_background": "light"
     },
     "output_type": "display_data"
    }
   ],
   "source": [
    "sns.scatterplot(data=num_df, x='target', y='num_private');"
   ]
  },
  {
   "cell_type": "markdown",
   "id": "f4443407",
   "metadata": {},
   "source": [
    "The vast majority of the num_private data has the value 0. There was no descriptor of the feature along with the others for the dataset, so we have no way to reference the value. 98% of the values in this feature are '0'. After looking at a quick scatterplot, we conclude it's very unlikely that there would be any statistically significant relationship between this feature and the target. We are going to drop it from num_df"
   ]
  },
  {
   "cell_type": "code",
   "execution_count": 45,
   "id": "942dbea5",
   "metadata": {
    "ExecuteTime": {
     "end_time": "2022-02-01T13:37:45.860319Z",
     "start_time": "2022-02-01T13:37:45.846356Z"
    }
   },
   "outputs": [],
   "source": [
    "num_df.drop('num_private', axis=1, inplace=True)"
   ]
  },
  {
   "cell_type": "markdown",
   "id": "bc3a0e6b",
   "metadata": {},
   "source": [
    "## region_code"
   ]
  },
  {
   "cell_type": "markdown",
   "id": "c5c87eab",
   "metadata": {},
   "source": [
    "[Research shows](https://en.wikipedia.org/wiki/Subdivisions_of_Tanzania) that what we initially suspected is true: regions are the parent of districts. There are 31 regions, 169 districts, and then further divisions of wards (urban or rural), streets under urban wards, and villages and hamlets under rural wards. We know we have features for subvillage and ward, and will get to them later. For now, since we have codes for region and strings for regions, lets compare them and see what we can discover."
   ]
  },
  {
   "cell_type": "code",
   "execution_count": 46,
   "id": "05ce7c08",
   "metadata": {
    "ExecuteTime": {
     "end_time": "2022-02-01T13:37:45.892234Z",
     "start_time": "2022-02-01T13:37:45.862314Z"
    }
   },
   "outputs": [
    {
     "name": "stdout",
     "output_type": "stream",
     "text": [
      "Region numeric unique value count: 27\n",
      "Region string unique value count: 21\n",
      "------------------------------------\n",
      "Region_code values:\n",
      "1, 2, 3, 4, 5, 6, 7, 8, 9, 10, 11, 12, 13, 14, 15, 16, 17, 18, 19, 20, 21, 24, 40, 60, 80, 90, 99\n",
      "------------------------------------\n",
      "Entries with region code > 21: 3930\n",
      "Percent of total data: 6.62%\n",
      "------------------------------------\n"
     ]
    }
   ],
   "source": [
    "print(f\"Region numeric unique value count: {len(num_df.region_code.value_counts())}\")\n",
    "print(f\"Region string unique value count: {len(raw_df.region.value_counts())}\")\n",
    "print(\"------------------------------------\")\n",
    "region_code_vals = list(map(str, list(num_df.region_code.value_counts().sort_index().index)))\n",
    "print(\"Region_code values:\")\n",
    "print(\", \".join(region_code_vals))\n",
    "print(\"------------------------------------\")\n",
    "high_region_codes = raw_df[(num_df.region_code > 21)].copy()\n",
    "print(f\"Entries with region code > 21: {len(high_region_codes)}\")\n",
    "print(f\"Percent of total data: {round(len(high_region_codes)/len(raw_df)*100, 2)}%\")\n",
    "print(\"------------------------------------\")"
   ]
  },
  {
   "cell_type": "code",
   "execution_count": 47,
   "id": "8c0304e0",
   "metadata": {
    "ExecuteTime": {
     "end_time": "2022-02-01T13:37:45.908191Z",
     "start_time": "2022-02-01T13:37:45.893231Z"
    }
   },
   "outputs": [
    {
     "data": {
      "text/plain": [
       "True"
      ]
     },
     "execution_count": 47,
     "metadata": {},
     "output_type": "execute_result"
    }
   ],
   "source": [
    "len(raw_df[(raw_df.region_code > 21)]) == len(raw_df[(raw_df.region_code > 21) & (raw_df.longitude != 0.0)])"
   ]
  },
  {
   "cell_type": "markdown",
   "id": "4cfe1552",
   "metadata": {},
   "source": [
    "We can see that the values of region_code go from 1 to 21, and then we have values 24, 40, 60, 80, 90, 99. It's likely that the values 1-21 match up to the 21 string value regions in the feature 'region'.\n",
    "\n",
    "Entries with region_code values above 21 constitute 6.6% of our dataset, and all of the data categorized in these other region_codes contain correct lat/long data. (note: checked this using the raw_df, not the num_df we modified the missing lat/longs for)\n",
    "\n",
    "As for the others, they serve some kind of purpose inputting data. We will need to figure out:\n",
    "- What region_code matches to what region?\n",
    "- What do the >21 region_code values mean?\n",
    "_________\n",
    "We are going to create a dataframe that goes through the region_codes 1-21 and adds the top reporting region/count from the value_count for that particular region_code. Then we look at any differences between those counts and the raw counts of entries with each region code."
   ]
  },
  {
   "cell_type": "code",
   "execution_count": 48,
   "id": "c57f2cbf",
   "metadata": {
    "ExecuteTime": {
     "end_time": "2022-02-01T13:37:46.080731Z",
     "start_time": "2022-02-01T13:37:45.909189Z"
    }
   },
   "outputs": [
    {
     "data": {
      "text/html": [
       "<div>\n",
       "<style scoped>\n",
       "    .dataframe tbody tr th:only-of-type {\n",
       "        vertical-align: middle;\n",
       "    }\n",
       "\n",
       "    .dataframe tbody tr th {\n",
       "        vertical-align: top;\n",
       "    }\n",
       "\n",
       "    .dataframe thead th {\n",
       "        text-align: right;\n",
       "    }\n",
       "</style>\n",
       "<table border=\"1\" class=\"dataframe\">\n",
       "  <thead>\n",
       "    <tr style=\"text-align: right;\">\n",
       "      <th></th>\n",
       "      <th>region_code</th>\n",
       "      <th>region</th>\n",
       "      <th>region_count</th>\n",
       "      <th>region_code_count</th>\n",
       "      <th>surplus_code_count</th>\n",
       "    </tr>\n",
       "  </thead>\n",
       "  <tbody>\n",
       "    <tr>\n",
       "      <th>4</th>\n",
       "      <td>5</td>\n",
       "      <td>Morogoro</td>\n",
       "      <td>4006</td>\n",
       "      <td>4040</td>\n",
       "      <td>34</td>\n",
       "    </tr>\n",
       "    <tr>\n",
       "      <th>10</th>\n",
       "      <td>11</td>\n",
       "      <td>Iringa</td>\n",
       "      <td>5294</td>\n",
       "      <td>5300</td>\n",
       "      <td>6</td>\n",
       "    </tr>\n",
       "    <tr>\n",
       "      <th>13</th>\n",
       "      <td>14</td>\n",
       "      <td>Tabora</td>\n",
       "      <td>1959</td>\n",
       "      <td>1979</td>\n",
       "      <td>20</td>\n",
       "    </tr>\n",
       "    <tr>\n",
       "      <th>16</th>\n",
       "      <td>17</td>\n",
       "      <td>Shinyanga</td>\n",
       "      <td>4956</td>\n",
       "      <td>5011</td>\n",
       "      <td>55</td>\n",
       "    </tr>\n",
       "    <tr>\n",
       "      <th>17</th>\n",
       "      <td>18</td>\n",
       "      <td>Kagera</td>\n",
       "      <td>3316</td>\n",
       "      <td>3324</td>\n",
       "      <td>8</td>\n",
       "    </tr>\n",
       "  </tbody>\n",
       "</table>\n",
       "</div>"
      ],
      "text/plain": [
       "    region_code     region  region_count  region_code_count  \\\n",
       "4             5   Morogoro          4006               4040   \n",
       "10           11     Iringa          5294               5300   \n",
       "13           14     Tabora          1959               1979   \n",
       "16           17  Shinyanga          4956               5011   \n",
       "17           18     Kagera          3316               3324   \n",
       "\n",
       "    surplus_code_count  \n",
       "4                   34  \n",
       "10                   6  \n",
       "13                  20  \n",
       "16                  55  \n",
       "17                   8  "
      ]
     },
     "execution_count": 48,
     "metadata": {},
     "output_type": "execute_result"
    }
   ],
   "source": [
    "region_code_list = []\n",
    "\n",
    "for x in range(1, 22):\n",
    "    region = raw_df[raw_df.region_code == x]['region'].value_counts().index[0]\n",
    "    count = raw_df[raw_df.region_code == x]['region'].value_counts().values[0]\n",
    "    region_code_list.append((x, region, count))\n",
    "    \n",
    "region_df = pd.DataFrame(region_code_list, columns=['region_code', 'region', 'region_count'])\n",
    "region_df['region_code_count'] = raw_df.region_code.value_counts().sort_index().values[:21]\n",
    "\n",
    "region_df['surplus_code_count'] = region_df['region_code_count'] - region_df['region_count']\n",
    "region_df[region_df.surplus_code_count > 0]"
   ]
  },
  {
   "cell_type": "markdown",
   "id": "01e40100",
   "metadata": {},
   "source": [
    "Of the 21 regions, 16 of them match up the region with a region_code and both features have the same count of values. There are 5 regions where the region_code value count has a surplus of values compared to the region value count.\n",
    "\n",
    "For these few number of values, one thought is to update records for these region_codes so that all region_code values match to one region, i.e. we will update all rows where region_code is 5 so that the region 'Morogoro' is reflected. Just to be sure, lets look closer at this example.\n"
   ]
  },
  {
   "cell_type": "code",
   "execution_count": 49,
   "id": "5d4a4c7a",
   "metadata": {
    "ExecuteTime": {
     "end_time": "2022-02-01T13:37:46.096688Z",
     "start_time": "2022-02-01T13:37:46.081729Z"
    }
   },
   "outputs": [
    {
     "data": {
      "text/plain": [
       "Morogoro    4006\n",
       "Tanga         34\n",
       "Name: region, dtype: int64"
      ]
     },
     "execution_count": 49,
     "metadata": {},
     "output_type": "execute_result"
    }
   ],
   "source": [
    "raw_df[raw_df.region_code == 5].region.value_counts()"
   ]
  },
  {
   "cell_type": "code",
   "execution_count": 50,
   "id": "23e1b3e5",
   "metadata": {
    "ExecuteTime": {
     "end_time": "2022-02-01T13:37:46.128604Z",
     "start_time": "2022-02-01T13:37:46.098684Z"
    }
   },
   "outputs": [
    {
     "data": {
      "text/html": [
       "<div>\n",
       "<style scoped>\n",
       "    .dataframe tbody tr th:only-of-type {\n",
       "        vertical-align: middle;\n",
       "    }\n",
       "\n",
       "    .dataframe tbody tr th {\n",
       "        vertical-align: top;\n",
       "    }\n",
       "\n",
       "    .dataframe thead th {\n",
       "        text-align: right;\n",
       "    }\n",
       "</style>\n",
       "<table border=\"1\" class=\"dataframe\">\n",
       "  <thead>\n",
       "    <tr style=\"text-align: right;\">\n",
       "      <th></th>\n",
       "      <th>longitude</th>\n",
       "      <th>latitude</th>\n",
       "    </tr>\n",
       "  </thead>\n",
       "  <tbody>\n",
       "    <tr>\n",
       "      <th>count</th>\n",
       "      <td>34.000000</td>\n",
       "      <td>34.000000</td>\n",
       "    </tr>\n",
       "    <tr>\n",
       "      <th>mean</th>\n",
       "      <td>37.180390</td>\n",
       "      <td>-6.039227</td>\n",
       "    </tr>\n",
       "    <tr>\n",
       "      <th>std</th>\n",
       "      <td>0.029752</td>\n",
       "      <td>0.025528</td>\n",
       "    </tr>\n",
       "    <tr>\n",
       "      <th>min</th>\n",
       "      <td>37.108257</td>\n",
       "      <td>-6.093574</td>\n",
       "    </tr>\n",
       "    <tr>\n",
       "      <th>25%</th>\n",
       "      <td>37.163602</td>\n",
       "      <td>-6.054215</td>\n",
       "    </tr>\n",
       "    <tr>\n",
       "      <th>50%</th>\n",
       "      <td>37.186427</td>\n",
       "      <td>-6.044506</td>\n",
       "    </tr>\n",
       "    <tr>\n",
       "      <th>75%</th>\n",
       "      <td>37.200669</td>\n",
       "      <td>-6.019999</td>\n",
       "    </tr>\n",
       "    <tr>\n",
       "      <th>max</th>\n",
       "      <td>37.231274</td>\n",
       "      <td>-5.992508</td>\n",
       "    </tr>\n",
       "  </tbody>\n",
       "</table>\n",
       "</div>"
      ],
      "text/plain": [
       "       longitude   latitude\n",
       "count  34.000000  34.000000\n",
       "mean   37.180390  -6.039227\n",
       "std     0.029752   0.025528\n",
       "min    37.108257  -6.093574\n",
       "25%    37.163602  -6.054215\n",
       "50%    37.186427  -6.044506\n",
       "75%    37.200669  -6.019999\n",
       "max    37.231274  -5.992508"
      ]
     },
     "execution_count": 50,
     "metadata": {},
     "output_type": "execute_result"
    }
   ],
   "source": [
    "raw_df[(raw_df.region_code == 5) & (raw_df.region == 'Tanga')][['longitude', 'latitude']].describe()"
   ]
  },
  {
   "cell_type": "markdown",
   "id": "b2d79c78",
   "metadata": {},
   "source": [
    "When we looked at the lat/long for the region_code 5 rows that have the region label 'Tanga', the most northern/eastern (min) value was within the boundary of the region 'Morogoro', but very close to the border. Tanga is the northern neighbor to region. We are going to make an assumption that these values of region_code reference the same region string, and assume that is also the case for the remaining surpluses. We will update those region values accordingly so that each region_code corresponds to one and only one region string. **Note: we are modifying the original raw_df here. We will then split off all categorical features in section 5 to encode. The 'region' feature is not a part of num_df**"
   ]
  },
  {
   "cell_type": "code",
   "execution_count": 51,
   "id": "4bd6f2ec",
   "metadata": {
    "ExecuteTime": {
     "end_time": "2022-02-01T13:37:46.176476Z",
     "start_time": "2022-02-01T13:37:46.129601Z"
    }
   },
   "outputs": [],
   "source": [
    "fixes = list(zip(list(region_df[region_df.surplus_code_count > 0].region_code.values),\n",
    "    list(region_df[region_df.surplus_code_count > 0].region.values)))\n",
    "\n",
    "for fix in fixes:\n",
    "    code = fix[0]\n",
    "    region = fix[1]\n",
    "    \n",
    "    raw_df.loc[raw_df[(raw_df.region_code == code) & (raw_df.region != region)].index, 'region'] = region"
   ]
  },
  {
   "cell_type": "markdown",
   "id": "ce84a0fd",
   "metadata": {},
   "source": [
    "________________\n",
    "\n",
    "Now we need to examine the region_codes whose value is over 21 and figure out what they mean."
   ]
  },
  {
   "cell_type": "code",
   "execution_count": 52,
   "id": "7db6cec9",
   "metadata": {
    "ExecuteTime": {
     "end_time": "2022-02-01T13:37:46.191436Z",
     "start_time": "2022-02-01T13:37:46.177474Z"
    }
   },
   "outputs": [
    {
     "data": {
      "text/plain": [
       "80    1238\n",
       "60    1025\n",
       "90     917\n",
       "99     423\n",
       "24     326\n",
       "40       1\n",
       "Name: region_code, dtype: int64"
      ]
     },
     "execution_count": 52,
     "metadata": {},
     "output_type": "execute_result"
    }
   ],
   "source": [
    "num_df[num_df.region_code > 21].region_code.value_counts()"
   ]
  },
  {
   "cell_type": "markdown",
   "id": "71c8928b",
   "metadata": {},
   "source": [
    "We have about 6.6% of our data in these incorrectly labeled region_codes. We have just modified our raw_df dataframe and assigned all region values based on the (top) region_code value count. Lets look at our data grouped by region value and see the average for the region_code. If the average is an integer, we know that all entries for that region is the same number as the entries for the region_code (that value being the mean of the region_code feature). If it's not an integer, then it means that the region is represented by different region_codes and we can figure out which codes and reassign them correctly."
   ]
  },
  {
   "cell_type": "code",
   "execution_count": 53,
   "id": "35e0ebe1",
   "metadata": {
    "ExecuteTime": {
     "end_time": "2022-02-01T13:37:46.223351Z",
     "start_time": "2022-02-01T13:37:46.192434Z"
    }
   },
   "outputs": [
    {
     "data": {
      "text/html": [
       "<div>\n",
       "<style scoped>\n",
       "    .dataframe tbody tr th:only-of-type {\n",
       "        vertical-align: middle;\n",
       "    }\n",
       "\n",
       "    .dataframe tbody tr th {\n",
       "        vertical-align: top;\n",
       "    }\n",
       "\n",
       "    .dataframe thead th {\n",
       "        text-align: right;\n",
       "    }\n",
       "</style>\n",
       "<table border=\"1\" class=\"dataframe\">\n",
       "  <thead>\n",
       "    <tr style=\"text-align: right;\">\n",
       "      <th></th>\n",
       "      <th>region_code</th>\n",
       "      <th>is_int</th>\n",
       "    </tr>\n",
       "    <tr>\n",
       "      <th>region</th>\n",
       "      <th></th>\n",
       "      <th></th>\n",
       "    </tr>\n",
       "  </thead>\n",
       "  <tbody>\n",
       "    <tr>\n",
       "      <th>Arusha</th>\n",
       "      <td>4.140896</td>\n",
       "      <td>False</td>\n",
       "    </tr>\n",
       "    <tr>\n",
       "      <th>Pwani</th>\n",
       "      <td>27.018596</td>\n",
       "      <td>False</td>\n",
       "    </tr>\n",
       "    <tr>\n",
       "      <th>Lindi</th>\n",
       "      <td>65.955787</td>\n",
       "      <td>False</td>\n",
       "    </tr>\n",
       "    <tr>\n",
       "      <th>Mtwara</th>\n",
       "      <td>73.940462</td>\n",
       "      <td>False</td>\n",
       "    </tr>\n",
       "  </tbody>\n",
       "</table>\n",
       "</div>"
      ],
      "text/plain": [
       "        region_code  is_int\n",
       "region                     \n",
       "Arusha     4.140896   False\n",
       "Pwani     27.018596   False\n",
       "Lindi     65.955787   False\n",
       "Mtwara    73.940462   False"
      ]
     },
     "execution_count": 53,
     "metadata": {},
     "output_type": "execute_result"
    }
   ],
   "source": [
    "region_codes = raw_df.groupby('region')[['region_code']].mean().sort_values(by='region_code')\n",
    "region_codes['is_int'] = region_codes.region_code.apply(lambda x: x.is_integer())\n",
    "region_codes = region_codes[region_codes.is_int == False]\n",
    "region_codes"
   ]
  },
  {
   "cell_type": "markdown",
   "id": "a2b89a13",
   "metadata": {},
   "source": [
    "We can see that these four regions are the ones without integer value region_code averages. We can deduce that all of the region_code values over 21 are attributed to these 4 regions. Now we will go through each region_code attributed to these regions and look at the lat/long averages. If they are in the same region, the averages should be fairly close in value."
   ]
  },
  {
   "cell_type": "code",
   "execution_count": 54,
   "id": "f4e624ca",
   "metadata": {
    "ExecuteTime": {
     "end_time": "2022-02-01T13:37:46.398884Z",
     "start_time": "2022-02-01T13:37:46.225346Z"
    },
    "scrolled": false
   },
   "outputs": [
    {
     "data": {
      "text/html": [
       "<div>\n",
       "<style scoped>\n",
       "    .dataframe tbody tr th:only-of-type {\n",
       "        vertical-align: middle;\n",
       "    }\n",
       "\n",
       "    .dataframe tbody tr th {\n",
       "        vertical-align: top;\n",
       "    }\n",
       "\n",
       "    .dataframe thead th {\n",
       "        text-align: right;\n",
       "    }\n",
       "</style>\n",
       "<table border=\"1\" class=\"dataframe\">\n",
       "  <thead>\n",
       "    <tr style=\"text-align: right;\">\n",
       "      <th></th>\n",
       "      <th>region</th>\n",
       "      <th>code</th>\n",
       "      <th>long_avg</th>\n",
       "      <th>lat_avg</th>\n",
       "    </tr>\n",
       "  </thead>\n",
       "  <tbody>\n",
       "    <tr>\n",
       "      <th>0</th>\n",
       "      <td>Arusha</td>\n",
       "      <td>2</td>\n",
       "      <td>36.648738</td>\n",
       "      <td>-3.231963</td>\n",
       "    </tr>\n",
       "    <tr>\n",
       "      <th>1</th>\n",
       "      <td>Arusha</td>\n",
       "      <td>24</td>\n",
       "      <td>35.661985</td>\n",
       "      <td>-3.380886</td>\n",
       "    </tr>\n",
       "    <tr>\n",
       "      <th>2</th>\n",
       "      <td>Pwani</td>\n",
       "      <td>6</td>\n",
       "      <td>38.754707</td>\n",
       "      <td>-6.678934</td>\n",
       "    </tr>\n",
       "    <tr>\n",
       "      <th>3</th>\n",
       "      <td>Pwani</td>\n",
       "      <td>60</td>\n",
       "      <td>39.073593</td>\n",
       "      <td>-7.529581</td>\n",
       "    </tr>\n",
       "    <tr>\n",
       "      <th>4</th>\n",
       "      <td>Pwani</td>\n",
       "      <td>40</td>\n",
       "      <td>39.217993</td>\n",
       "      <td>-7.001266</td>\n",
       "    </tr>\n",
       "    <tr>\n",
       "      <th>5</th>\n",
       "      <td>Lindi</td>\n",
       "      <td>80</td>\n",
       "      <td>39.094711</td>\n",
       "      <td>-9.645071</td>\n",
       "    </tr>\n",
       "    <tr>\n",
       "      <th>6</th>\n",
       "      <td>Lindi</td>\n",
       "      <td>8</td>\n",
       "      <td>38.572954</td>\n",
       "      <td>-10.310537</td>\n",
       "    </tr>\n",
       "    <tr>\n",
       "      <th>7</th>\n",
       "      <td>Mtwara</td>\n",
       "      <td>90</td>\n",
       "      <td>38.958680</td>\n",
       "      <td>-10.805449</td>\n",
       "    </tr>\n",
       "    <tr>\n",
       "      <th>8</th>\n",
       "      <td>Mtwara</td>\n",
       "      <td>99</td>\n",
       "      <td>40.004465</td>\n",
       "      <td>-10.457718</td>\n",
       "    </tr>\n",
       "    <tr>\n",
       "      <th>9</th>\n",
       "      <td>Mtwara</td>\n",
       "      <td>9</td>\n",
       "      <td>39.771740</td>\n",
       "      <td>-10.628146</td>\n",
       "    </tr>\n",
       "  </tbody>\n",
       "</table>\n",
       "</div>"
      ],
      "text/plain": [
       "   region  code   long_avg    lat_avg\n",
       "0  Arusha     2  36.648738  -3.231963\n",
       "1  Arusha    24  35.661985  -3.380886\n",
       "2   Pwani     6  38.754707  -6.678934\n",
       "3   Pwani    60  39.073593  -7.529581\n",
       "4   Pwani    40  39.217993  -7.001266\n",
       "5   Lindi    80  39.094711  -9.645071\n",
       "6   Lindi     8  38.572954 -10.310537\n",
       "7  Mtwara    90  38.958680 -10.805449\n",
       "8  Mtwara    99  40.004465 -10.457718\n",
       "9  Mtwara     9  39.771740 -10.628146"
      ]
     },
     "execution_count": 54,
     "metadata": {},
     "output_type": "execute_result"
    }
   ],
   "source": [
    "# get the list of regions from above\n",
    "regions = list(region_codes.index)\n",
    "\n",
    "region_checks = []\n",
    "\n",
    "# for each region, generate a row of data containing the region\n",
    "for region in regions:\n",
    "    codes = list(raw_df[raw_df.region == region].region_code.value_counts().index)\n",
    "    for code in codes:\n",
    "        long_avg = raw_df[raw_df.region_code == code][['longitude']].describe().loc[['mean']].longitude.values[0]\n",
    "        lat_avg = raw_df[raw_df.region_code == code][['latitude']].describe().loc[['mean']].latitude.values[0]\n",
    "        row = [region, code, long_avg, lat_avg]\n",
    "        region_checks.append(row)\n",
    "\n",
    "region_check_df = pd.DataFrame(region_checks,\n",
    "                              columns = ['region','code','long_avg','lat_avg'])\n",
    "region_check_df"
   ]
  },
  {
   "cell_type": "markdown",
   "id": "15a00c97",
   "metadata": {},
   "source": [
    "We cross-referenced the lat/long averages and can say that all the high-valued region_codes actually belong to an appropriate code for a region. Here we will reassign them correctly (in both the num_df dataframe and the raw_df dataframe so we have access to the region strings)."
   ]
  },
  {
   "cell_type": "code",
   "execution_count": 55,
   "id": "2ffd497b",
   "metadata": {
    "ExecuteTime": {
     "end_time": "2022-02-01T13:37:46.446755Z",
     "start_time": "2022-02-01T13:37:46.399880Z"
    }
   },
   "outputs": [],
   "source": [
    "# all Arusha region codes should be 2\n",
    "num_df.loc[raw_df[raw_df.region_code == 24].index, 'region_code'] = 2\n",
    "raw_df.loc[raw_df[raw_df.region_code == 24].index, 'region_code'] = 2\n",
    "\n",
    "# all Pwani region codes should be 6\n",
    "num_df.loc[raw_df[raw_df.region_code.isin([40, 60])].index, 'region_code'] = 6\n",
    "raw_df.loc[raw_df[raw_df.region_code.isin([40, 60])].index, 'region_code'] = 6\n",
    "\n",
    "# all Lindi region codes should be 8\n",
    "num_df.loc[raw_df[raw_df.region_code == 80].index, 'region_code'] = 8\n",
    "raw_df.loc[raw_df[raw_df.region_code == 80].index, 'region_code'] = 8\n",
    "\n",
    "# all Mtwara regions should be code 9\n",
    "num_df.loc[raw_df[raw_df.region_code.isin([90, 99])].index, 'region_code'] = 9\n",
    "raw_df.loc[raw_df[raw_df.region_code.isin([90, 99])].index, 'region_code'] = 9"
   ]
  },
  {
   "cell_type": "markdown",
   "id": "02f9f6ec",
   "metadata": {},
   "source": [
    "We've got our 'region_code' feature all sorted out now and the values will match up uniquely with those in the 'region' feature."
   ]
  },
  {
   "cell_type": "markdown",
   "id": "01fb959b",
   "metadata": {},
   "source": [
    "## district_code"
   ]
  },
  {
   "cell_type": "code",
   "execution_count": 56,
   "id": "9cf61720",
   "metadata": {
    "ExecuteTime": {
     "end_time": "2022-02-01T13:37:46.510586Z",
     "start_time": "2022-02-01T13:37:46.448751Z"
    }
   },
   "outputs": [
    {
     "data": {
      "text/html": [
       "<div>\n",
       "<style scoped>\n",
       "    .dataframe tbody tr th:only-of-type {\n",
       "        vertical-align: middle;\n",
       "    }\n",
       "\n",
       "    .dataframe tbody tr th {\n",
       "        vertical-align: top;\n",
       "    }\n",
       "\n",
       "    .dataframe thead th {\n",
       "        text-align: right;\n",
       "    }\n",
       "</style>\n",
       "<table border=\"1\" class=\"dataframe\">\n",
       "  <thead>\n",
       "    <tr style=\"text-align: right;\">\n",
       "      <th></th>\n",
       "      <th>region</th>\n",
       "    </tr>\n",
       "    <tr>\n",
       "      <th>region_code</th>\n",
       "      <th></th>\n",
       "    </tr>\n",
       "  </thead>\n",
       "  <tbody>\n",
       "    <tr>\n",
       "      <th>1</th>\n",
       "      <td>Dodoma</td>\n",
       "    </tr>\n",
       "    <tr>\n",
       "      <th>2</th>\n",
       "      <td>Arusha</td>\n",
       "    </tr>\n",
       "    <tr>\n",
       "      <th>3</th>\n",
       "      <td>Kilimanjaro</td>\n",
       "    </tr>\n",
       "    <tr>\n",
       "      <th>4</th>\n",
       "      <td>Tanga</td>\n",
       "    </tr>\n",
       "    <tr>\n",
       "      <th>5</th>\n",
       "      <td>Morogoro</td>\n",
       "    </tr>\n",
       "    <tr>\n",
       "      <th>6</th>\n",
       "      <td>Pwani</td>\n",
       "    </tr>\n",
       "    <tr>\n",
       "      <th>7</th>\n",
       "      <td>Dar es Salaam</td>\n",
       "    </tr>\n",
       "    <tr>\n",
       "      <th>8</th>\n",
       "      <td>Lindi</td>\n",
       "    </tr>\n",
       "    <tr>\n",
       "      <th>9</th>\n",
       "      <td>Mtwara</td>\n",
       "    </tr>\n",
       "    <tr>\n",
       "      <th>10</th>\n",
       "      <td>Ruvuma</td>\n",
       "    </tr>\n",
       "    <tr>\n",
       "      <th>11</th>\n",
       "      <td>Iringa</td>\n",
       "    </tr>\n",
       "    <tr>\n",
       "      <th>12</th>\n",
       "      <td>Mbeya</td>\n",
       "    </tr>\n",
       "    <tr>\n",
       "      <th>13</th>\n",
       "      <td>Singida</td>\n",
       "    </tr>\n",
       "    <tr>\n",
       "      <th>14</th>\n",
       "      <td>Tabora</td>\n",
       "    </tr>\n",
       "    <tr>\n",
       "      <th>15</th>\n",
       "      <td>Rukwa</td>\n",
       "    </tr>\n",
       "    <tr>\n",
       "      <th>16</th>\n",
       "      <td>Kigoma</td>\n",
       "    </tr>\n",
       "    <tr>\n",
       "      <th>17</th>\n",
       "      <td>Shinyanga</td>\n",
       "    </tr>\n",
       "    <tr>\n",
       "      <th>18</th>\n",
       "      <td>Kagera</td>\n",
       "    </tr>\n",
       "    <tr>\n",
       "      <th>19</th>\n",
       "      <td>Mwanza</td>\n",
       "    </tr>\n",
       "    <tr>\n",
       "      <th>20</th>\n",
       "      <td>Mara</td>\n",
       "    </tr>\n",
       "    <tr>\n",
       "      <th>21</th>\n",
       "      <td>Manyara</td>\n",
       "    </tr>\n",
       "  </tbody>\n",
       "</table>\n",
       "</div>"
      ],
      "text/plain": [
       "                    region\n",
       "region_code               \n",
       "1                   Dodoma\n",
       "2                   Arusha\n",
       "3              Kilimanjaro\n",
       "4                    Tanga\n",
       "5                 Morogoro\n",
       "6                    Pwani\n",
       "7            Dar es Salaam\n",
       "8                    Lindi\n",
       "9                   Mtwara\n",
       "10                  Ruvuma\n",
       "11                  Iringa\n",
       "12                   Mbeya\n",
       "13                 Singida\n",
       "14                  Tabora\n",
       "15                   Rukwa\n",
       "16                  Kigoma\n",
       "17               Shinyanga\n",
       "18                  Kagera\n",
       "19                  Mwanza\n",
       "20                    Mara\n",
       "21                 Manyara"
      ]
     },
     "execution_count": 56,
     "metadata": {},
     "output_type": "execute_result"
    }
   ],
   "source": [
    "regions_with_codes = pd.DataFrame(raw_df.groupby('region').mean()['region_code'])\n",
    "regions_with_codes.reset_index(inplace=True)\n",
    "regions_with_codes['region_code'] = regions_with_codes.region_code.astype('int')\n",
    "regions_with_codes.set_index('region_code', inplace=True)\n",
    "regions_with_codes.sort_index(inplace=True)\n",
    "regions_with_codes"
   ]
  },
  {
   "cell_type": "markdown",
   "id": "ccd23bbd",
   "metadata": {},
   "source": [
    "We have established that the regions in our dataset match up with the region_code; there is no 'district' dataset to match with 'district_code'. When researching Tanzanian regions we discovered information on quantity of districts  in each region, so we believe that is how our data relates: each region would have multiple districts in it. Lets look at value counts for district_code."
   ]
  },
  {
   "cell_type": "code",
   "execution_count": 57,
   "id": "840c2f47",
   "metadata": {
    "ExecuteTime": {
     "end_time": "2022-02-01T13:37:46.528538Z",
     "start_time": "2022-02-01T13:37:46.512579Z"
    }
   },
   "outputs": [
    {
     "data": {
      "text/plain": [
       "0        23\n",
       "1     12203\n",
       "2     11173\n",
       "3      9998\n",
       "4      8999\n",
       "5      4356\n",
       "6      4074\n",
       "7      3343\n",
       "8      1043\n",
       "13      391\n",
       "23      293\n",
       "30      995\n",
       "33      874\n",
       "43      505\n",
       "53      745\n",
       "60       63\n",
       "62      109\n",
       "63      195\n",
       "67        6\n",
       "80       12\n",
       "Name: district_code, dtype: int64"
      ]
     },
     "execution_count": 57,
     "metadata": {},
     "output_type": "execute_result"
    }
   ],
   "source": [
    "num_df.district_code.value_counts().sort_index()"
   ]
  },
  {
   "cell_type": "markdown",
   "id": "93ba6bc2",
   "metadata": {},
   "source": [
    "Some initial observations:\n",
    "- It seems odd to have districts with a value of 0.\n",
    "- [Research shows](https://en.wikipedia.org/wiki/Regions_of_Tanzania) that there is one region with 10 districts (Tanga), but we don't have that value. \n",
    "- 10 is is also the largest value we should have for the feature, as that is the maximum number of districts for regions.\n",
    "\n",
    "_____\n",
    "If it is the case that district_code is representative of the actual district within the region, then each region should have at minimum a district_code of 1. The link above will also show that regions at a minimum have 2 districts (the average is about 5.5). Lets go through and see if each region even has the correct number of districts per our research."
   ]
  },
  {
   "cell_type": "code",
   "execution_count": 58,
   "id": "95765272",
   "metadata": {
    "ExecuteTime": {
     "end_time": "2022-02-01T13:37:46.542500Z",
     "start_time": "2022-02-01T13:37:46.530533Z"
    }
   },
   "outputs": [
    {
     "data": {
      "text/plain": [
       "'Arusha'"
      ]
     },
     "execution_count": 58,
     "metadata": {},
     "output_type": "execute_result"
    }
   ],
   "source": [
    "region = regions_with_codes[regions_with_codes.index == 2].region.values[0]\n",
    "region"
   ]
  },
  {
   "cell_type": "code",
   "execution_count": 59,
   "id": "d28e83d6",
   "metadata": {
    "ExecuteTime": {
     "end_time": "2022-02-01T13:37:46.605333Z",
     "start_time": "2022-02-01T13:37:46.544495Z"
    }
   },
   "outputs": [
    {
     "data": {
      "text/html": [
       "<div>\n",
       "<style scoped>\n",
       "    .dataframe tbody tr th:only-of-type {\n",
       "        vertical-align: middle;\n",
       "    }\n",
       "\n",
       "    .dataframe tbody tr th {\n",
       "        vertical-align: top;\n",
       "    }\n",
       "\n",
       "    .dataframe thead th {\n",
       "        text-align: right;\n",
       "    }\n",
       "</style>\n",
       "<table border=\"1\" class=\"dataframe\">\n",
       "  <thead>\n",
       "    <tr style=\"text-align: right;\">\n",
       "      <th></th>\n",
       "      <th>region</th>\n",
       "      <th>district_count</th>\n",
       "      <th>district_values</th>\n",
       "      <th>expected_district_count</th>\n",
       "      <th>district_count_discrepancy</th>\n",
       "    </tr>\n",
       "  </thead>\n",
       "  <tbody>\n",
       "    <tr>\n",
       "      <th>1</th>\n",
       "      <td>Arusha</td>\n",
       "      <td>7</td>\n",
       "      <td>[1, 2, 3, 5, 6, 7, 30]</td>\n",
       "      <td>7</td>\n",
       "      <td>0</td>\n",
       "    </tr>\n",
       "    <tr>\n",
       "      <th>6</th>\n",
       "      <td>Dar es Salaam</td>\n",
       "      <td>3</td>\n",
       "      <td>[1, 2, 3]</td>\n",
       "      <td>5</td>\n",
       "      <td>-2</td>\n",
       "    </tr>\n",
       "    <tr>\n",
       "      <th>0</th>\n",
       "      <td>Dodoma</td>\n",
       "      <td>6</td>\n",
       "      <td>[0, 1, 3, 4, 5, 6]</td>\n",
       "      <td>7</td>\n",
       "      <td>-1</td>\n",
       "    </tr>\n",
       "    <tr>\n",
       "      <th>10</th>\n",
       "      <td>Iringa</td>\n",
       "      <td>6</td>\n",
       "      <td>[1, 2, 3, 4, 5, 7]</td>\n",
       "      <td>5</td>\n",
       "      <td>1</td>\n",
       "    </tr>\n",
       "    <tr>\n",
       "      <th>17</th>\n",
       "      <td>Kagera</td>\n",
       "      <td>8</td>\n",
       "      <td>[1, 2, 3, 4, 6, 7, 8, 30]</td>\n",
       "      <td>8</td>\n",
       "      <td>0</td>\n",
       "    </tr>\n",
       "    <tr>\n",
       "      <th>15</th>\n",
       "      <td>Kigoma</td>\n",
       "      <td>4</td>\n",
       "      <td>[1, 2, 3, 4]</td>\n",
       "      <td>8</td>\n",
       "      <td>-4</td>\n",
       "    </tr>\n",
       "    <tr>\n",
       "      <th>2</th>\n",
       "      <td>Kilimanjaro</td>\n",
       "      <td>7</td>\n",
       "      <td>[1, 2, 3, 4, 5, 6, 7]</td>\n",
       "      <td>6</td>\n",
       "      <td>1</td>\n",
       "    </tr>\n",
       "    <tr>\n",
       "      <th>7</th>\n",
       "      <td>Lindi</td>\n",
       "      <td>6</td>\n",
       "      <td>[3, 13, 23, 43, 53, 62]</td>\n",
       "      <td>6</td>\n",
       "      <td>0</td>\n",
       "    </tr>\n",
       "    <tr>\n",
       "      <th>20</th>\n",
       "      <td>Manyara</td>\n",
       "      <td>5</td>\n",
       "      <td>[1, 2, 3, 4, 5]</td>\n",
       "      <td>6</td>\n",
       "      <td>-1</td>\n",
       "    </tr>\n",
       "    <tr>\n",
       "      <th>19</th>\n",
       "      <td>Mara</td>\n",
       "      <td>5</td>\n",
       "      <td>[1, 2, 3, 4, 6]</td>\n",
       "      <td>7</td>\n",
       "      <td>-2</td>\n",
       "    </tr>\n",
       "    <tr>\n",
       "      <th>11</th>\n",
       "      <td>Mbeya</td>\n",
       "      <td>7</td>\n",
       "      <td>[1, 2, 3, 4, 5, 6, 7]</td>\n",
       "      <td>7</td>\n",
       "      <td>0</td>\n",
       "    </tr>\n",
       "    <tr>\n",
       "      <th>4</th>\n",
       "      <td>Morogoro</td>\n",
       "      <td>6</td>\n",
       "      <td>[1, 2, 3, 4, 5, 6]</td>\n",
       "      <td>7</td>\n",
       "      <td>-1</td>\n",
       "    </tr>\n",
       "    <tr>\n",
       "      <th>8</th>\n",
       "      <td>Mtwara</td>\n",
       "      <td>5</td>\n",
       "      <td>[1, 4, 5, 33, 63]</td>\n",
       "      <td>7</td>\n",
       "      <td>-2</td>\n",
       "    </tr>\n",
       "    <tr>\n",
       "      <th>18</th>\n",
       "      <td>Mwanza</td>\n",
       "      <td>8</td>\n",
       "      <td>[1, 2, 3, 4, 5, 6, 7, 8]</td>\n",
       "      <td>7</td>\n",
       "      <td>1</td>\n",
       "    </tr>\n",
       "    <tr>\n",
       "      <th>5</th>\n",
       "      <td>Pwani</td>\n",
       "      <td>11</td>\n",
       "      <td>[1, 2, 3, 4, 6, 33, 43, 53, 60, 63, 67]</td>\n",
       "      <td>7</td>\n",
       "      <td>4</td>\n",
       "    </tr>\n",
       "    <tr>\n",
       "      <th>14</th>\n",
       "      <td>Rukwa</td>\n",
       "      <td>4</td>\n",
       "      <td>[1, 2, 3, 4]</td>\n",
       "      <td>4</td>\n",
       "      <td>0</td>\n",
       "    </tr>\n",
       "    <tr>\n",
       "      <th>9</th>\n",
       "      <td>Ruvuma</td>\n",
       "      <td>5</td>\n",
       "      <td>[1, 2, 3, 4, 5]</td>\n",
       "      <td>6</td>\n",
       "      <td>-1</td>\n",
       "    </tr>\n",
       "    <tr>\n",
       "      <th>16</th>\n",
       "      <td>Shinyanga</td>\n",
       "      <td>8</td>\n",
       "      <td>[1, 2, 3, 5, 6, 7, 8, 80]</td>\n",
       "      <td>5</td>\n",
       "      <td>3</td>\n",
       "    </tr>\n",
       "    <tr>\n",
       "      <th>12</th>\n",
       "      <td>Singida</td>\n",
       "      <td>4</td>\n",
       "      <td>[1, 2, 3, 4]</td>\n",
       "      <td>6</td>\n",
       "      <td>-2</td>\n",
       "    </tr>\n",
       "    <tr>\n",
       "      <th>13</th>\n",
       "      <td>Tabora</td>\n",
       "      <td>6</td>\n",
       "      <td>[1, 2, 3, 4, 5, 6]</td>\n",
       "      <td>7</td>\n",
       "      <td>-1</td>\n",
       "    </tr>\n",
       "    <tr>\n",
       "      <th>3</th>\n",
       "      <td>Tanga</td>\n",
       "      <td>8</td>\n",
       "      <td>[1, 2, 3, 4, 5, 6, 7, 8]</td>\n",
       "      <td>10</td>\n",
       "      <td>-2</td>\n",
       "    </tr>\n",
       "  </tbody>\n",
       "</table>\n",
       "</div>"
      ],
      "text/plain": [
       "           region  district_count                          district_values  \\\n",
       "1          Arusha               7                   [1, 2, 3, 5, 6, 7, 30]   \n",
       "6   Dar es Salaam               3                                [1, 2, 3]   \n",
       "0          Dodoma               6                       [0, 1, 3, 4, 5, 6]   \n",
       "10         Iringa               6                       [1, 2, 3, 4, 5, 7]   \n",
       "17         Kagera               8                [1, 2, 3, 4, 6, 7, 8, 30]   \n",
       "15         Kigoma               4                             [1, 2, 3, 4]   \n",
       "2     Kilimanjaro               7                    [1, 2, 3, 4, 5, 6, 7]   \n",
       "7           Lindi               6                  [3, 13, 23, 43, 53, 62]   \n",
       "20        Manyara               5                          [1, 2, 3, 4, 5]   \n",
       "19           Mara               5                          [1, 2, 3, 4, 6]   \n",
       "11          Mbeya               7                    [1, 2, 3, 4, 5, 6, 7]   \n",
       "4        Morogoro               6                       [1, 2, 3, 4, 5, 6]   \n",
       "8          Mtwara               5                        [1, 4, 5, 33, 63]   \n",
       "18         Mwanza               8                 [1, 2, 3, 4, 5, 6, 7, 8]   \n",
       "5           Pwani              11  [1, 2, 3, 4, 6, 33, 43, 53, 60, 63, 67]   \n",
       "14          Rukwa               4                             [1, 2, 3, 4]   \n",
       "9          Ruvuma               5                          [1, 2, 3, 4, 5]   \n",
       "16      Shinyanga               8                [1, 2, 3, 5, 6, 7, 8, 80]   \n",
       "12        Singida               4                             [1, 2, 3, 4]   \n",
       "13         Tabora               6                       [1, 2, 3, 4, 5, 6]   \n",
       "3           Tanga               8                 [1, 2, 3, 4, 5, 6, 7, 8]   \n",
       "\n",
       "    expected_district_count  district_count_discrepancy  \n",
       "1                         7                           0  \n",
       "6                         5                          -2  \n",
       "0                         7                          -1  \n",
       "10                        5                           1  \n",
       "17                        8                           0  \n",
       "15                        8                          -4  \n",
       "2                         6                           1  \n",
       "7                         6                           0  \n",
       "20                        6                          -1  \n",
       "19                        7                          -2  \n",
       "11                        7                           0  \n",
       "4                         7                          -1  \n",
       "8                         7                          -2  \n",
       "18                        7                           1  \n",
       "5                         7                           4  \n",
       "14                        4                           0  \n",
       "9                         6                          -1  \n",
       "16                        5                           3  \n",
       "12                        6                          -2  \n",
       "13                        7                          -1  \n",
       "3                        10                          -2  "
      ]
     },
     "execution_count": 59,
     "metadata": {},
     "output_type": "execute_result"
    }
   ],
   "source": [
    "district_info = []\n",
    "\n",
    "for x in range(1, 22):\n",
    "    # get our region name\n",
    "    region = regions_with_codes[regions_with_codes.index == x].region.values[0]\n",
    "    # use the num_df to list all the district codes with that region_code\n",
    "    districts = sorted(list(num_df[num_df.region_code == x].district_code.value_counts().index))\n",
    "    # create the row of data\n",
    "    row = [region, len(districts), districts]\n",
    "    # append to list\n",
    "    district_info.append(row)\n",
    "\n",
    "district_info_df = pd.DataFrame(district_info,\n",
    "                               columns=['region','district_count', 'district_values'])\n",
    "district_info_df.sort_values(by='region', inplace=True)\n",
    "# input expected district count from research (based on alphabetical order of region in our data)\n",
    "district_info_df['expected_district_count'] = [7, 5, 7, 5, 8, 8, 6, 6, 6, 7, 7, 7, 7, 7, 7, 4, 6, 5, 6, 7, 10]\n",
    "district_info_df['district_count_discrepancy'] = district_info_df.district_count - district_info_df.expected_district_count\n",
    "district_info_df"
   ]
  },
  {
   "cell_type": "code",
   "execution_count": 60,
   "id": "4ac46d10",
   "metadata": {
    "ExecuteTime": {
     "end_time": "2022-02-01T13:37:46.620292Z",
     "start_time": "2022-02-01T13:37:46.606329Z"
    }
   },
   "outputs": [
    {
     "data": {
      "text/plain": [
       "129"
      ]
     },
     "execution_count": 60,
     "metadata": {},
     "output_type": "execute_result"
    }
   ],
   "source": [
    "district_info_df.district_count.sum()"
   ]
  },
  {
   "cell_type": "code",
   "execution_count": 61,
   "id": "ac27f799",
   "metadata": {
    "ExecuteTime": {
     "end_time": "2022-02-01T13:37:46.636249Z",
     "start_time": "2022-02-01T13:37:46.621290Z"
    }
   },
   "outputs": [
    {
     "data": {
      "text/plain": [
       "-9"
      ]
     },
     "execution_count": 61,
     "metadata": {},
     "output_type": "execute_result"
    }
   ],
   "source": [
    "district_info_df.district_count_discrepancy.sum()"
   ]
  },
  {
   "cell_type": "markdown",
   "id": "7ec89f22",
   "metadata": {},
   "source": [
    "Observations:\n",
    "- Even the largest count value, district_code of 1, is not represented in all of our regions, which should be the case if each region had a separate count of districts.\n",
    "- Even if we had the correct number of districts, they were not necessarily numbered in the correct way. Arusha should have 7 districts, and we would expect 1-7 but we have no district_code 4 (instead, we have a 30)\n",
    "- Some regions have more than the expected number of districts, some have less. If we simply had mislabeled districts, then our sum of discrepancies should be equal, but it is not, we are 9 total districts heavy of what we should have.\n",
    "\n",
    "It's suspected that there will not be an easy way to reconcile this feature. If we were able to organize this, we would also then need to have unique values for each district among all regions to give it any meaningful impact. It's likely the case that we will not be using district_code in modeling."
   ]
  },
  {
   "cell_type": "code",
   "execution_count": 62,
   "id": "dc3a85f9",
   "metadata": {
    "ExecuteTime": {
     "end_time": "2022-02-01T13:37:46.652207Z",
     "start_time": "2022-02-01T13:37:46.637248Z"
    }
   },
   "outputs": [],
   "source": [
    "num_df.drop('district_code', axis=1, inplace=True)"
   ]
  },
  {
   "cell_type": "markdown",
   "id": "cc53b27e",
   "metadata": {},
   "source": [
    "## population (still need help)"
   ]
  },
  {
   "cell_type": "code",
   "execution_count": 63,
   "id": "67a224de",
   "metadata": {
    "ExecuteTime": {
     "end_time": "2022-02-01T13:37:46.668164Z",
     "start_time": "2022-02-01T13:37:46.653205Z"
    },
    "scrolled": true
   },
   "outputs": [
    {
     "data": {
      "text/plain": [
       "count    59400.000000\n",
       "mean       179.909983\n",
       "std        471.482176\n",
       "min          0.000000\n",
       "25%          0.000000\n",
       "50%         25.000000\n",
       "75%        215.000000\n",
       "max      30500.000000\n",
       "Name: population, dtype: float64"
      ]
     },
     "execution_count": 63,
     "metadata": {},
     "output_type": "execute_result"
    }
   ],
   "source": [
    "num_df['population'].describe()"
   ]
  },
  {
   "cell_type": "code",
   "execution_count": 64,
   "id": "2a2cb36e",
   "metadata": {
    "ExecuteTime": {
     "end_time": "2022-02-01T13:37:46.684123Z",
     "start_time": "2022-02-01T13:37:46.669163Z"
    }
   },
   "outputs": [
    {
     "data": {
      "text/plain": [
       "(-30.501, 2033.333]       58922\n",
       "(2033.333, 4066.667]        325\n",
       "(4066.667, 6100.0]           85\n",
       "(6100.0, 8133.333]           53\n",
       "(8133.333, 10166.667]        12\n",
       "(10166.667, 12200.0]          1\n",
       "(12200.0, 14233.333]          0\n",
       "(14233.333, 16266.667]        1\n",
       "(16266.667, 18300.0]          0\n",
       "(18300.0, 20333.333]          0\n",
       "(20333.333, 22366.667]        0\n",
       "(22366.667, 24400.0]          0\n",
       "(24400.0, 26433.333]          0\n",
       "(26433.333, 28466.667]        0\n",
       "(28466.667, 30500.0]          1\n",
       "Name: population, dtype: int64"
      ]
     },
     "execution_count": 64,
     "metadata": {},
     "output_type": "execute_result"
    }
   ],
   "source": [
    "num_df.population.value_counts(sort=False, bins=15)"
   ]
  },
  {
   "cell_type": "markdown",
   "id": "e4225b2b",
   "metadata": {},
   "source": [
    "Just about 36% of our population data is 0, 50% is 25 or under, and 75% is 215 or under.\n",
    "\n",
    "When we look at the population auto-binned into 15 bins, you can see that once we are over about 10,000 people, there are only 3 datapoints, with large gaps in between. Furthermore, most of the data in the smallest bin (as expected). Lets look at counts with the population at 0, counts where 0 < population <= 215 (our 75% quartile) and then more than 215."
   ]
  },
  {
   "cell_type": "code",
   "execution_count": 65,
   "id": "d657c65e",
   "metadata": {
    "ExecuteTime": {
     "end_time": "2022-02-01T13:37:46.700081Z",
     "start_time": "2022-02-01T13:37:46.685120Z"
    }
   },
   "outputs": [
    {
     "name": "stdout",
     "output_type": "stream",
     "text": [
      "       [0.0,0.0]    21381\n",
      "    (0.0, 215.0]    23216\n",
      "(215.0, 30500.0]    14803\n"
     ]
    }
   ],
   "source": [
    "print(f\"       [0.0,0.0]    {len(num_df[num_df.population == 0.0])}\")\n",
    "print(f\"    (0.0, 215.0]    {len(num_df[(num_df.population <= 215) & (num_df.population > 0)])}\")\n",
    "print(f\"(215.0, 30500.0]    {len(num_df[num_df.population > 215])}\")"
   ]
  },
  {
   "cell_type": "code",
   "execution_count": 66,
   "id": "3ebd8f01",
   "metadata": {
    "ExecuteTime": {
     "end_time": "2022-02-01T13:37:46.731995Z",
     "start_time": "2022-02-01T13:37:46.701077Z"
    }
   },
   "outputs": [
    {
     "data": {
      "text/plain": [
       "(0.785, 43.8]     9993\n",
       "(43.8, 86.6]      4160\n",
       "(86.6, 129.4]     3171\n",
       "(129.4, 172.2]    3045\n",
       "(172.2, 215.0]    2847\n",
       "Name: population, dtype: int64"
      ]
     },
     "execution_count": 66,
     "metadata": {},
     "output_type": "execute_result"
    }
   ],
   "source": [
    "num_df[(num_df.population <= 215) & (num_df.population > 0)].population.value_counts(sort=False, bins=5)"
   ]
  },
  {
   "cell_type": "markdown",
   "id": "3e3f19e2",
   "metadata": {},
   "source": [
    "I suspect the best way to include population is not to have it remain numerical, but to convert to a categorical feature. My idea is to bin into these three categories: 0 population, population between 0 and 215, and populations above 215\n",
    "**discuss with Abhineet**"
   ]
  },
  {
   "cell_type": "markdown",
   "id": "42e1f418",
   "metadata": {},
   "source": [
    "## construction_year (still need help)"
   ]
  },
  {
   "cell_type": "code",
   "execution_count": 67,
   "id": "ebe21978",
   "metadata": {
    "ExecuteTime": {
     "end_time": "2022-02-01T13:37:46.747952Z",
     "start_time": "2022-02-01T13:37:46.732993Z"
    }
   },
   "outputs": [
    {
     "data": {
      "text/plain": [
       "count    59400.000000\n",
       "mean      1300.652475\n",
       "std        951.620547\n",
       "min          0.000000\n",
       "25%          0.000000\n",
       "50%       1986.000000\n",
       "75%       2004.000000\n",
       "max       2013.000000\n",
       "Name: construction_year, dtype: float64"
      ]
     },
     "execution_count": 67,
     "metadata": {},
     "output_type": "execute_result"
    }
   ],
   "source": [
    "num_df['construction_year'].describe()"
   ]
  },
  {
   "cell_type": "code",
   "execution_count": 68,
   "id": "10892b8c",
   "metadata": {
    "ExecuteTime": {
     "end_time": "2022-02-01T13:37:46.763910Z",
     "start_time": "2022-02-01T13:37:46.748949Z"
    }
   },
   "outputs": [
    {
     "name": "stdout",
     "output_type": "stream",
     "text": [
      "Count of values with construction year of 0: 20709\n",
      "Count of values with a construction year: 38691\n",
      "-------------------------------------------\n",
      "Percentage of values with no contruction year: 34.86%\n"
     ]
    }
   ],
   "source": [
    "const_year_0_df = num_df[num_df.construction_year == 0.0].copy()\n",
    "const_year_df = num_df[num_df.construction_year != 0.0].copy()\n",
    "\n",
    "print(f\"Count of values with construction year of 0: {len(const_year_0_df)}\")\n",
    "print(f\"Count of values with a construction year: {len(const_year_df)}\")\n",
    "print(\"-------------------------------------------\")\n",
    "print(f\"Percentage of values with no contruction year: {round(len(const_year_0_df)/len(num_df)*100, 2)}%\")"
   ]
  },
  {
   "cell_type": "code",
   "execution_count": 69,
   "id": "75f0139e",
   "metadata": {
    "ExecuteTime": {
     "end_time": "2022-02-01T13:37:46.779868Z",
     "start_time": "2022-02-01T13:37:46.764907Z"
    }
   },
   "outputs": [
    {
     "data": {
      "text/plain": [
       "2010"
      ]
     },
     "execution_count": 69,
     "metadata": {},
     "output_type": "execute_result"
    }
   ],
   "source": [
    "const_year_df.construction_year.value_counts().index[0]"
   ]
  },
  {
   "cell_type": "markdown",
   "id": "118823b7",
   "metadata": {},
   "source": [
    "A little more than a third (34.9%) of our data contains no construction year. Of the data we do have for construction year, it ranges from 1960 to 2013, with an average year of 1996 and a mode of 2010.\n",
    "__________\n",
    "One idea would be to use the date_recorded feature to calculate an age for the pump. We could then bin that, including a bin for 'unknown'. For now, we will encode age without a construction year as '99' as we know that cannot be a value, and it keeps our feature numerical for now."
   ]
  },
  {
   "cell_type": "code",
   "execution_count": 70,
   "id": "bac0e685",
   "metadata": {
    "ExecuteTime": {
     "end_time": "2022-02-01T13:37:48.540173Z",
     "start_time": "2022-02-01T13:37:46.781862Z"
    }
   },
   "outputs": [],
   "source": [
    "# add the date_recorded feature to our numerical dataframe\n",
    "num_df['date_recorded'] = pd.to_datetime(raw_df.date_recorded)\n",
    "\n",
    "# extract the year, month and day from the date_recorded into separate features\n",
    "num_df['year'] = num_df['date_recorded'].map(lambda x: x.year)\n",
    "num_df['month'] = num_df['date_recorded'].map(lambda x: x.month)\n",
    "num_df['day'] = num_df['date_recorded'].map(lambda x: x.day)\n",
    "\n",
    "# helper function to calculate age if we have a construction year\n",
    "def calc_age(row):\n",
    "    if row['construction_year'] == 0:\n",
    "        return 99\n",
    "    else:\n",
    "        return int(row['year'] - row['construction_year'])\n",
    "    \n",
    "# create new feature 'age' with the helper function\n",
    "num_df['age'] = num_df.apply(calc_age, axis=1)"
   ]
  },
  {
   "cell_type": "code",
   "execution_count": 71,
   "id": "cbf72e89",
   "metadata": {
    "ExecuteTime": {
     "end_time": "2022-02-01T13:37:48.571090Z",
     "start_time": "2022-02-01T13:37:48.542169Z"
    },
    "scrolled": true
   },
   "outputs": [
    {
     "data": {
      "text/plain": [
       " 3     0.070818\n",
       " 1     0.059523\n",
       " 2     0.055026\n",
       " 5     0.051175\n",
       " 4     0.048849\n",
       " 13    0.048306\n",
       " 7     0.036288\n",
       " 6     0.035693\n",
       " 11    0.034944\n",
       " 14    0.029981\n",
       " 8     0.029981\n",
       " 33    0.028947\n",
       " 15    0.025665\n",
       " 23    0.023390\n",
       " 10    0.022434\n",
       " 16    0.021349\n",
       " 9     0.021038\n",
       " 19    0.019798\n",
       " 27    0.019695\n",
       " 18    0.019488\n",
       " 28    0.018325\n",
       " 31    0.018325\n",
       " 35    0.016722\n",
       " 17    0.016438\n",
       " 39    0.015533\n",
       " 37    0.015507\n",
       " 26    0.015223\n",
       " 0     0.015197\n",
       " 25    0.015068\n",
       " 21    0.014939\n",
       " 29    0.014577\n",
       " 12    0.014448\n",
       " 20    0.013983\n",
       " 41    0.012613\n",
       " 30    0.009279\n",
       " 43    0.009201\n",
       " 38    0.009072\n",
       " 36    0.008400\n",
       " 22    0.008348\n",
       " 24    0.006746\n",
       " 40    0.006022\n",
       " 34    0.004756\n",
       " 32    0.004497\n",
       " 53    0.002352\n",
       " 42    0.002326\n",
       " 50    0.002171\n",
       " 45    0.001706\n",
       " 46    0.001241\n",
       " 44    0.001215\n",
       " 48    0.001060\n",
       " 51    0.000801\n",
       " 49    0.000646\n",
       " 47    0.000362\n",
       " 52    0.000284\n",
       "-5     0.000078\n",
       "-4     0.000052\n",
       "-2     0.000026\n",
       "-7     0.000026\n",
       "-1     0.000026\n",
       "-3     0.000026\n",
       "Name: age, dtype: float64"
      ]
     },
     "execution_count": 71,
     "metadata": {},
     "output_type": "execute_result"
    }
   ],
   "source": [
    "num_df[num_df.age < 99].age.value_counts(normalize=True)"
   ]
  },
  {
   "cell_type": "markdown",
   "id": "3da807cc",
   "metadata": {},
   "source": [
    "Initial observations:\n",
    "- The most frequent age is 3 years, at 7%. 7 of the 10 most frequent values for age are under 10, so most of our waterpoints are relatively young.\n",
    "- We have some negative values, which should not be possible as you can't sample a waterpoint that hasn't been constructed yet. Need to check on this."
   ]
  },
  {
   "cell_type": "code",
   "execution_count": 72,
   "id": "7fdfa2a8",
   "metadata": {
    "ExecuteTime": {
     "end_time": "2022-02-01T13:37:48.586051Z",
     "start_time": "2022-02-01T13:37:48.572089Z"
    },
    "scrolled": true
   },
   "outputs": [
    {
     "data": {
      "text/plain": [
       "2011    28674\n",
       "2013    24271\n",
       "2012     6424\n",
       "2004       30\n",
       "2002        1\n",
       "Name: year, dtype: int64"
      ]
     },
     "execution_count": 72,
     "metadata": {},
     "output_type": "execute_result"
    }
   ],
   "source": [
    "num_df.year.value_counts()"
   ]
  },
  {
   "cell_type": "code",
   "execution_count": 73,
   "id": "1c1b8656",
   "metadata": {
    "ExecuteTime": {
     "end_time": "2022-02-01T13:37:48.602008Z",
     "start_time": "2022-02-01T13:37:48.587049Z"
    }
   },
   "outputs": [
    {
     "data": {
      "text/plain": [
       "Timestamp('2012-03-30 20:23:54.688136960')"
      ]
     },
     "execution_count": 73,
     "metadata": {},
     "output_type": "execute_result"
    }
   ],
   "source": [
    "num_df[num_df.year > 2005].date_recorded.mean()"
   ]
  },
  {
   "cell_type": "markdown",
   "id": "051ed735",
   "metadata": {},
   "source": [
    "It looks like our date_recorded feature has some errors in it.  We have one entry with a year of 2002, and 30 in 2004. The majority of our data was collected in 2011, 2012, and 2013. The average date for the data (not including these 31 date_recorded outliers) is the end of March 2012. If we look at the distribution of the years this looks accurate. Lets look a little closer to see how we can fix these datapoints from years before they were constructed."
   ]
  },
  {
   "cell_type": "code",
   "execution_count": 74,
   "id": "0eee24ba",
   "metadata": {
    "ExecuteTime": {
     "end_time": "2022-02-01T13:37:48.632926Z",
     "start_time": "2022-02-01T13:37:48.603005Z"
    }
   },
   "outputs": [
    {
     "data": {
      "text/html": [
       "<div>\n",
       "<style scoped>\n",
       "    .dataframe tbody tr th:only-of-type {\n",
       "        vertical-align: middle;\n",
       "    }\n",
       "\n",
       "    .dataframe tbody tr th {\n",
       "        vertical-align: top;\n",
       "    }\n",
       "\n",
       "    .dataframe thead th {\n",
       "        text-align: right;\n",
       "    }\n",
       "</style>\n",
       "<table border=\"1\" class=\"dataframe\">\n",
       "  <thead>\n",
       "    <tr style=\"text-align: right;\">\n",
       "      <th></th>\n",
       "      <th>id</th>\n",
       "      <th>amount_tsh</th>\n",
       "      <th>gps_height</th>\n",
       "      <th>longitude</th>\n",
       "      <th>latitude</th>\n",
       "      <th>region_code</th>\n",
       "      <th>population</th>\n",
       "      <th>construction_year</th>\n",
       "      <th>target</th>\n",
       "      <th>date_recorded</th>\n",
       "      <th>year</th>\n",
       "      <th>month</th>\n",
       "      <th>day</th>\n",
       "      <th>age</th>\n",
       "    </tr>\n",
       "  </thead>\n",
       "  <tbody>\n",
       "    <tr>\n",
       "      <th>8729</th>\n",
       "      <td>20198</td>\n",
       "      <td>0.0</td>\n",
       "      <td>86.0</td>\n",
       "      <td>38.959776</td>\n",
       "      <td>-5.247278</td>\n",
       "      <td>4</td>\n",
       "      <td>120</td>\n",
       "      <td>2008</td>\n",
       "      <td>0</td>\n",
       "      <td>2004-05-01</td>\n",
       "      <td>2004</td>\n",
       "      <td>5</td>\n",
       "      <td>1</td>\n",
       "      <td>-4</td>\n",
       "    </tr>\n",
       "    <tr>\n",
       "      <th>10441</th>\n",
       "      <td>55069</td>\n",
       "      <td>20.0</td>\n",
       "      <td>307.0</td>\n",
       "      <td>38.768656</td>\n",
       "      <td>-7.298419</td>\n",
       "      <td>6</td>\n",
       "      <td>1</td>\n",
       "      <td>2006</td>\n",
       "      <td>0</td>\n",
       "      <td>2004-12-01</td>\n",
       "      <td>2004</td>\n",
       "      <td>12</td>\n",
       "      <td>1</td>\n",
       "      <td>-2</td>\n",
       "    </tr>\n",
       "    <tr>\n",
       "      <th>13366</th>\n",
       "      <td>48759</td>\n",
       "      <td>100.0</td>\n",
       "      <td>1331.0</td>\n",
       "      <td>34.290885</td>\n",
       "      <td>-1.699609</td>\n",
       "      <td>20</td>\n",
       "      <td>80</td>\n",
       "      <td>2011</td>\n",
       "      <td>2</td>\n",
       "      <td>2004-06-01</td>\n",
       "      <td>2004</td>\n",
       "      <td>6</td>\n",
       "      <td>1</td>\n",
       "      <td>-7</td>\n",
       "    </tr>\n",
       "    <tr>\n",
       "      <th>23373</th>\n",
       "      <td>20534</td>\n",
       "      <td>50.0</td>\n",
       "      <td>239.0</td>\n",
       "      <td>39.272736</td>\n",
       "      <td>-11.019000</td>\n",
       "      <td>9</td>\n",
       "      <td>317</td>\n",
       "      <td>2009</td>\n",
       "      <td>2</td>\n",
       "      <td>2004-03-01</td>\n",
       "      <td>2004</td>\n",
       "      <td>3</td>\n",
       "      <td>1</td>\n",
       "      <td>-5</td>\n",
       "    </tr>\n",
       "    <tr>\n",
       "      <th>27501</th>\n",
       "      <td>53086</td>\n",
       "      <td>500.0</td>\n",
       "      <td>1611.0</td>\n",
       "      <td>34.900561</td>\n",
       "      <td>-8.873813</td>\n",
       "      <td>11</td>\n",
       "      <td>65</td>\n",
       "      <td>2009</td>\n",
       "      <td>2</td>\n",
       "      <td>2004-01-07</td>\n",
       "      <td>2004</td>\n",
       "      <td>1</td>\n",
       "      <td>7</td>\n",
       "      <td>-5</td>\n",
       "    </tr>\n",
       "    <tr>\n",
       "      <th>32619</th>\n",
       "      <td>9195</td>\n",
       "      <td>0.0</td>\n",
       "      <td>1856.0</td>\n",
       "      <td>31.539761</td>\n",
       "      <td>-7.983106</td>\n",
       "      <td>15</td>\n",
       "      <td>900</td>\n",
       "      <td>2005</td>\n",
       "      <td>0</td>\n",
       "      <td>2004-03-01</td>\n",
       "      <td>2004</td>\n",
       "      <td>3</td>\n",
       "      <td>1</td>\n",
       "      <td>-1</td>\n",
       "    </tr>\n",
       "    <tr>\n",
       "      <th>33942</th>\n",
       "      <td>5971</td>\n",
       "      <td>0.0</td>\n",
       "      <td>0.0</td>\n",
       "      <td>39.283105</td>\n",
       "      <td>-7.422852</td>\n",
       "      <td>6</td>\n",
       "      <td>200</td>\n",
       "      <td>2007</td>\n",
       "      <td>0</td>\n",
       "      <td>2004-03-01</td>\n",
       "      <td>2004</td>\n",
       "      <td>3</td>\n",
       "      <td>1</td>\n",
       "      <td>-3</td>\n",
       "    </tr>\n",
       "    <tr>\n",
       "      <th>39559</th>\n",
       "      <td>15921</td>\n",
       "      <td>0.0</td>\n",
       "      <td>301.0</td>\n",
       "      <td>38.558421</td>\n",
       "      <td>-5.140405</td>\n",
       "      <td>4</td>\n",
       "      <td>713</td>\n",
       "      <td>2009</td>\n",
       "      <td>0</td>\n",
       "      <td>2004-03-06</td>\n",
       "      <td>2004</td>\n",
       "      <td>3</td>\n",
       "      <td>6</td>\n",
       "      <td>-5</td>\n",
       "    </tr>\n",
       "    <tr>\n",
       "      <th>48555</th>\n",
       "      <td>1251</td>\n",
       "      <td>0.0</td>\n",
       "      <td>284.0</td>\n",
       "      <td>38.929212</td>\n",
       "      <td>-7.111349</td>\n",
       "      <td>6</td>\n",
       "      <td>185</td>\n",
       "      <td>2008</td>\n",
       "      <td>2</td>\n",
       "      <td>2004-12-01</td>\n",
       "      <td>2004</td>\n",
       "      <td>12</td>\n",
       "      <td>1</td>\n",
       "      <td>-4</td>\n",
       "    </tr>\n",
       "  </tbody>\n",
       "</table>\n",
       "</div>"
      ],
      "text/plain": [
       "          id  amount_tsh  gps_height  longitude   latitude  region_code  \\\n",
       "8729   20198         0.0        86.0  38.959776  -5.247278            4   \n",
       "10441  55069        20.0       307.0  38.768656  -7.298419            6   \n",
       "13366  48759       100.0      1331.0  34.290885  -1.699609           20   \n",
       "23373  20534        50.0       239.0  39.272736 -11.019000            9   \n",
       "27501  53086       500.0      1611.0  34.900561  -8.873813           11   \n",
       "32619   9195         0.0      1856.0  31.539761  -7.983106           15   \n",
       "33942   5971         0.0         0.0  39.283105  -7.422852            6   \n",
       "39559  15921         0.0       301.0  38.558421  -5.140405            4   \n",
       "48555   1251         0.0       284.0  38.929212  -7.111349            6   \n",
       "\n",
       "       population  construction_year  target date_recorded  year  month  day  \\\n",
       "8729          120               2008       0    2004-05-01  2004      5    1   \n",
       "10441           1               2006       0    2004-12-01  2004     12    1   \n",
       "13366          80               2011       2    2004-06-01  2004      6    1   \n",
       "23373         317               2009       2    2004-03-01  2004      3    1   \n",
       "27501          65               2009       2    2004-01-07  2004      1    7   \n",
       "32619         900               2005       0    2004-03-01  2004      3    1   \n",
       "33942         200               2007       0    2004-03-01  2004      3    1   \n",
       "39559         713               2009       0    2004-03-06  2004      3    6   \n",
       "48555         185               2008       2    2004-12-01  2004     12    1   \n",
       "\n",
       "       age  \n",
       "8729    -4  \n",
       "10441   -2  \n",
       "13366   -7  \n",
       "23373   -5  \n",
       "27501   -5  \n",
       "32619   -1  \n",
       "33942   -3  \n",
       "39559   -5  \n",
       "48555   -4  "
      ]
     },
     "execution_count": 74,
     "metadata": {},
     "output_type": "execute_result"
    }
   ],
   "source": [
    "num_df[num_df.age < 0]"
   ]
  },
  {
   "cell_type": "markdown",
   "id": "d00fa299",
   "metadata": {},
   "source": [
    "We can see that all the errors come from datapoints reported as 'collected' in 2004. If the one 'collected' in 2002 doesn't report a negative age, then it was constructed prior to that year. Since it's only 31 datapoints, we are going to change all the years of 2004 and 2002 to 2012, the median year of observations. We then need to repeat the creation of the 'age' feature, then drop the construction_year, date_recorded, year, month, and day columns from num_df"
   ]
  },
  {
   "cell_type": "code",
   "execution_count": 75,
   "id": "5c2f2c9e",
   "metadata": {
    "ExecuteTime": {
     "end_time": "2022-02-01T13:37:49.661183Z",
     "start_time": "2022-02-01T13:37:48.633924Z"
    },
    "scrolled": true
   },
   "outputs": [],
   "source": [
    "num_df.loc[num_df[num_df.year == 2002].index, 'year'] = 2012\n",
    "num_df.loc[num_df[num_df.year == 2004].index, 'year'] = 2012\n",
    "\n",
    "num_df['age'] = num_df.apply(calc_age, axis=1)\n",
    "\n",
    "num_df.drop(['construction_year', 'date_recorded', 'year', 'month', 'day'],\n",
    "           axis=1, inplace=True)"
   ]
  },
  {
   "cell_type": "code",
   "execution_count": 76,
   "id": "bcec5eb2",
   "metadata": {
    "ExecuteTime": {
     "end_time": "2022-02-01T13:37:49.676144Z",
     "start_time": "2022-02-01T13:37:49.662182Z"
    }
   },
   "outputs": [
    {
     "data": {
      "text/plain": [
       "count    38691.000000\n",
       "mean        15.359257\n",
       "std         12.491646\n",
       "min          0.000000\n",
       "25%          5.000000\n",
       "50%         13.000000\n",
       "75%         25.000000\n",
       "max         53.000000\n",
       "Name: age, dtype: float64"
      ]
     },
     "execution_count": 76,
     "metadata": {},
     "output_type": "execute_result"
    }
   ],
   "source": [
    "num_df[num_df.age < 99].age.describe()"
   ]
  },
  {
   "cell_type": "code",
   "execution_count": 77,
   "id": "80f8b0c4",
   "metadata": {
    "ExecuteTime": {
     "end_time": "2022-02-01T13:37:49.692100Z",
     "start_time": "2022-02-01T13:37:49.677142Z"
    }
   },
   "outputs": [
    {
     "data": {
      "text/plain": [
       "(-0.054, 13.25]    21043\n",
       "(13.25, 26.5]       8915\n",
       "(26.5, 39.75]       7106\n",
       "(39.75, 53.0]       1627\n",
       "Name: age, dtype: int64"
      ]
     },
     "execution_count": 77,
     "metadata": {},
     "output_type": "execute_result"
    }
   ],
   "source": [
    "num_df[num_df.age < 99].age.value_counts(bins=4)"
   ]
  },
  {
   "cell_type": "code",
   "execution_count": 78,
   "id": "5b4207bd",
   "metadata": {
    "ExecuteTime": {
     "end_time": "2022-02-01T13:37:49.834721Z",
     "start_time": "2022-02-01T13:37:49.693099Z"
    }
   },
   "outputs": [
    {
     "data": {
      "image/png": "[encoded data removed]",
      "text/plain": [
       "<Figure size 432x288 with 1 Axes>"
      ]
     },
     "metadata": {
      "needs_background": "light"
     },
     "output_type": "display_data"
    }
   ],
   "source": [
    "num_df[num_df.age < 99].age.hist(bins=3);"
   ]
  },
  {
   "cell_type": "markdown",
   "id": "a6a306f2",
   "metadata": {},
   "source": [
    "The idea at this point is to bin this into an encoded categorical. My idea is to bin them at the quartiles, so 0-5, 5-13, 13-25, and 25-53 and then the 'dropped' category is the ones with no age. Need to consult about this."
   ]
  },
  {
   "cell_type": "markdown",
   "id": "40774aa2",
   "metadata": {},
   "source": [
    "# Exploring categorical data"
   ]
  },
  {
   "cell_type": "markdown",
   "id": "c8b73db3",
   "metadata": {},
   "source": [
    "Because we still need the ID column, we can't just wholesale drop numerical columns from our raw_data. So we make a list of features to drop to make a dataframe of all our categorical data with 2 numerical features: the id, and the target."
   ]
  },
  {
   "cell_type": "code",
   "execution_count": 79,
   "id": "d1c11429",
   "metadata": {
    "ExecuteTime": {
     "end_time": "2022-02-01T13:37:49.865639Z",
     "start_time": "2022-02-01T13:37:49.836716Z"
    }
   },
   "outputs": [
    {
     "data": {
      "text/plain": [
       "['id',\n",
       " 'date_recorded',\n",
       " 'funder',\n",
       " 'installer',\n",
       " 'wpt_name',\n",
       " 'basin',\n",
       " 'subvillage',\n",
       " 'region',\n",
       " 'lga',\n",
       " 'ward',\n",
       " 'public_meeting',\n",
       " 'recorded_by',\n",
       " 'scheme_management',\n",
       " 'scheme_name',\n",
       " 'permit',\n",
       " 'extraction_type',\n",
       " 'extraction_type_group',\n",
       " 'extraction_type_class',\n",
       " 'management',\n",
       " 'management_group',\n",
       " 'payment',\n",
       " 'payment_type',\n",
       " 'water_quality',\n",
       " 'quality_group',\n",
       " 'quantity',\n",
       " 'quantity_group',\n",
       " 'source',\n",
       " 'source_type',\n",
       " 'source_class',\n",
       " 'waterpoint_type',\n",
       " 'waterpoint_type_group',\n",
       " 'target']"
      ]
     },
     "execution_count": 79,
     "metadata": {},
     "output_type": "execute_result"
    }
   ],
   "source": [
    "num_features = ['amount_tsh', 'gps_height', 'longitude', 'latitude',\n",
    "               'num_private', 'region_code', 'district_code', 'population',\n",
    "               'construction_year']\n",
    "\n",
    "cat_df = raw_df.drop(num_features, axis=1).copy()\n",
    "list(cat_df.columns)"
   ]
  },
  {
   "cell_type": "markdown",
   "id": "45d862fb",
   "metadata": {},
   "source": [
    "We already know that the 'id' feature is a unique numerical identifier. This will allow us to merge our cat_df with our num_df after investigative all the categorical variables. We already know that there are some features we will likely not use in modeling, such as 'date_recorded' and 'subvillage', so we will start a running drop list that will all be dropped before merging with numerical data."
   ]
  },
  {
   "cell_type": "code",
   "execution_count": 80,
   "id": "bf3b6d02",
   "metadata": {
    "ExecuteTime": {
     "end_time": "2022-02-01T13:37:49.880599Z",
     "start_time": "2022-02-01T13:37:49.867634Z"
    }
   },
   "outputs": [],
   "source": [
    "drop_list = []"
   ]
  },
  {
   "cell_type": "markdown",
   "id": "ad4dbc35",
   "metadata": {},
   "source": [
    "### Helper functions"
   ]
  },
  {
   "cell_type": "code",
   "execution_count": 81,
   "id": "24058ccc",
   "metadata": {
    "ExecuteTime": {
     "end_time": "2022-02-01T13:37:49.896557Z",
     "start_time": "2022-02-01T13:37:49.881597Z"
    }
   },
   "outputs": [],
   "source": [
    "def value_count_report(feature):\n",
    "    \"\"\"\n",
    "    This is a helper function to report value counts for categeorical features \n",
    "    of the dataset and return a dataframe of the feature value counts for\n",
    "    further investigation.\n",
    "    \n",
    "    Input(s):\n",
    "    - 'feature' (required): string of feature to investigate\n",
    "    \n",
    "    Output(s):\n",
    "    - 'feature_df': a DataFrame of the unique values and counts for the feature\n",
    "    \"\"\"\n",
    "    # set up dataframe for unique values and counts. We have already dealt with\n",
    "    # null values so no need to worry about including them here.\n",
    "    feature_df = pd.DataFrame(cat_df[feature].value_counts())\n",
    "    feature_df['percentage'] = round(cat_df[feature].value_counts(normalize=True)*100,2)\n",
    "    \n",
    "    # a second dataframe subset of the first where the value count is 1\n",
    "    feature_df_singles = feature_df[feature_df[feature] == 1]\n",
    "    \n",
    "    # quick report on total unique values, how many are single, and what percent that is\n",
    "    print(f\"Unique values for '{feature}': {len(feature_df)}\")\n",
    "    print(\"--------------------------\")\n",
    "    print(f\"Unique values with a single representative: {len(feature_df_singles)}\")\n",
    "    print(f\"Percent of values that are single: {round((len(feature_df_singles)/len(feature_df)*100),2)}%\")\n",
    "    \n",
    "    return feature_df"
   ]
  },
  {
   "cell_type": "markdown",
   "id": "9bc53dc4",
   "metadata": {
    "heading_collapsed": true
   },
   "source": [
    "## date_recorded"
   ]
  },
  {
   "cell_type": "markdown",
   "id": "43a1fa6c",
   "metadata": {
    "hidden": true
   },
   "source": [
    "The 'date_recorded' feature is likely not going to mean anything for analysis, and we have already used it to calculate ages of waterpoints. We will add this feature to our running drop list."
   ]
  },
  {
   "cell_type": "code",
   "execution_count": 82,
   "id": "c4b3d54f",
   "metadata": {
    "ExecuteTime": {
     "end_time": "2022-02-01T13:37:49.912513Z",
     "start_time": "2022-02-01T13:37:49.903537Z"
    },
    "hidden": true
   },
   "outputs": [],
   "source": [
    "drop_list.append('date_recorded')"
   ]
  },
  {
   "cell_type": "markdown",
   "id": "eb465413",
   "metadata": {
    "heading_collapsed": true
   },
   "source": [
    "## funder"
   ]
  },
  {
   "cell_type": "markdown",
   "id": "db1b0a70",
   "metadata": {
    "hidden": true
   },
   "source": [
    "The data description states that this is who funded the well"
   ]
  },
  {
   "cell_type": "code",
   "execution_count": 83,
   "id": "f5d7cfb1",
   "metadata": {
    "ExecuteTime": {
     "end_time": "2022-02-01T13:37:49.943431Z",
     "start_time": "2022-02-01T13:37:49.914509Z"
    },
    "hidden": true
   },
   "outputs": [
    {
     "name": "stdout",
     "output_type": "stream",
     "text": [
      "Unique values for 'funder': 1898\n",
      "--------------------------\n",
      "Unique values with a single representative: 974\n",
      "Percent of values that are single: 51.32%\n"
     ]
    }
   ],
   "source": [
    "funder_df = value_count_report('funder')"
   ]
  },
  {
   "cell_type": "markdown",
   "id": "cd25c57c",
   "metadata": {
    "hidden": true
   },
   "source": [
    "We have almost 1900 unique funders, just over half of which are represented just once. Lets look at the top 100 funders in groups of 10"
   ]
  },
  {
   "cell_type": "code",
   "execution_count": 84,
   "id": "28db7482",
   "metadata": {
    "ExecuteTime": {
     "end_time": "2022-02-01T13:37:49.959388Z",
     "start_time": "2022-02-01T13:37:49.944430Z"
    },
    "hidden": true
   },
   "outputs": [
    {
     "name": "stdout",
     "output_type": "stream",
     "text": [
      "Top 10 funders represent 25225 waterpoints, or 42.47%\n",
      "Top 20 funders represent 32461 waterpoints, or 54.65%\n",
      "Top 30 funders represent 36586 waterpoints, or 61.59%\n",
      "Top 40 funders represent 39417 waterpoints, or 66.36%\n",
      "Top 50 funders represent 41503 waterpoints, or 69.87%\n",
      "Top 60 funders represent 43173 waterpoints, or 72.68%\n",
      "Top 70 funders represent 44522 waterpoints, or 74.95%\n",
      "Top 80 funders represent 45739 waterpoints, or 77.0%\n",
      "Top 90 funders represent 46819 waterpoints, or 78.82%\n",
      "Top 100 funders represent 47728 waterpoints, or 80.35%\n"
     ]
    }
   ],
   "source": [
    "for x in range(10, 110, 10):\n",
    "    funder_total = funder_df['funder'][:x].sum()\n",
    "    percent = round((funder_total / 59400) * 100, 2)\n",
    "    print(f\"Top {x} funders represent {funder_total} waterpoints, or {percent}%\")"
   ]
  },
  {
   "cell_type": "markdown",
   "id": "5673f781",
   "metadata": {
    "hidden": true
   },
   "source": [
    "It's not looking like funder will be a good predictor. Maybe if we could separate out government, private, or other and make it 3 possible values. And really, if we think about it, the funder for the waterpump should not have too much impact on its status. As we understand it, this feature is just the organization that provided the money for the pump to be installed.\n",
    "\n",
    "We will drop this feature from consideration.**open to input here**"
   ]
  },
  {
   "cell_type": "code",
   "execution_count": 85,
   "id": "a2cd1812",
   "metadata": {
    "ExecuteTime": {
     "end_time": "2022-02-01T13:37:49.975347Z",
     "start_time": "2022-02-01T13:37:49.960386Z"
    },
    "hidden": true
   },
   "outputs": [],
   "source": [
    "drop_list.append('funder')"
   ]
  },
  {
   "cell_type": "markdown",
   "id": "a022fd43",
   "metadata": {},
   "source": [
    "## installer"
   ]
  },
  {
   "cell_type": "markdown",
   "id": "85863b05",
   "metadata": {},
   "source": [
    "The data description states that this is who installed the well"
   ]
  },
  {
   "cell_type": "code",
   "execution_count": 86,
   "id": "53cdc604",
   "metadata": {
    "ExecuteTime": {
     "end_time": "2022-02-01T13:37:50.007262Z",
     "start_time": "2022-02-01T13:37:49.976343Z"
    }
   },
   "outputs": [
    {
     "name": "stdout",
     "output_type": "stream",
     "text": [
      "Unique values for 'installer': 2146\n",
      "--------------------------\n",
      "Unique values with a single representative: 1098\n",
      "Percent of values that are single: 51.16%\n"
     ]
    }
   ],
   "source": [
    "installer_df = value_count_report('installer')"
   ]
  },
  {
   "cell_type": "markdown",
   "id": "22c7a789",
   "metadata": {},
   "source": [
    "Similar situation here as with funder, but with even more unique values. Lets look at the top 100 installers in groups of 10."
   ]
  },
  {
   "cell_type": "code",
   "execution_count": 87,
   "id": "1d0437fd",
   "metadata": {
    "ExecuteTime": {
     "end_time": "2022-02-01T13:37:50.023218Z",
     "start_time": "2022-02-01T13:37:50.009256Z"
    }
   },
   "outputs": [
    {
     "name": "stdout",
     "output_type": "stream",
     "text": [
      "Top 10 installers represent 29420 waterpoints, or 49.53%\n",
      "Top 20 installers represent 34456 waterpoints, or 58.01%\n",
      "Top 30 installers represent 37507 waterpoints, or 63.14%\n",
      "Top 40 installers represent 39673 waterpoints, or 66.79%\n",
      "Top 50 installers represent 41433 waterpoints, or 69.75%\n",
      "Top 60 installers represent 42923 waterpoints, or 72.26%\n",
      "Top 70 installers represent 44212 waterpoints, or 74.43%\n",
      "Top 80 installers represent 45347 waterpoints, or 76.34%\n",
      "Top 90 installers represent 46341 waterpoints, or 78.02%\n",
      "Top 100 installers represent 47234 waterpoints, or 79.52%\n"
     ]
    }
   ],
   "source": [
    "for x in range(10, 110, 10):\n",
    "    installer_total = installer_df['installer'][:x].sum()\n",
    "    percent = round((installer_total / 59400) * 100, 2)\n",
    "    print(f\"Top {x} installers represent {installer_total} waterpoints, or {percent}%\")"
   ]
  },
  {
   "cell_type": "markdown",
   "id": "49a0c7d4",
   "metadata": {},
   "source": [
    "The installer feature is in even worse position, made so because it stands to reason that the installation of a waterpoint would contribute to it's status later in operation. I don't see a way to make it meaningful though, considering that when we get new data we will have to find a way to categorize the installer if it doesn't fit into our schema. **open to input here**"
   ]
  },
  {
   "cell_type": "code",
   "execution_count": 88,
   "id": "428704b1",
   "metadata": {
    "ExecuteTime": {
     "end_time": "2022-02-01T13:37:50.039175Z",
     "start_time": "2022-02-01T13:37:50.024216Z"
    }
   },
   "outputs": [],
   "source": [
    "drop_list.append('installer')"
   ]
  },
  {
   "cell_type": "markdown",
   "id": "576871d1",
   "metadata": {},
   "source": [
    "## wpt_name"
   ]
  },
  {
   "cell_type": "markdown",
   "id": "61792912",
   "metadata": {},
   "source": [
    "The data description states that this is the name of the waterpoint, if there is one"
   ]
  },
  {
   "cell_type": "code",
   "execution_count": 89,
   "id": "af943589",
   "metadata": {
    "ExecuteTime": {
     "end_time": "2022-02-01T13:37:50.087049Z",
     "start_time": "2022-02-01T13:37:50.040173Z"
    }
   },
   "outputs": [
    {
     "name": "stdout",
     "output_type": "stream",
     "text": [
      "Unique values for 'wpt_name': 37400\n",
      "--------------------------\n",
      "Unique values with a single representative: 32928\n",
      "Percent of values that are single: 88.04%\n"
     ]
    }
   ],
   "source": [
    "wptname_df = value_count_report('wpt_name')"
   ]
  },
  {
   "cell_type": "markdown",
   "id": "b905774d",
   "metadata": {},
   "source": [
    "88% of our waterpoint names are represented by a single entry. Out of curiosity, lets look at our top 20 values."
   ]
  },
  {
   "cell_type": "code",
   "execution_count": 90,
   "id": "fc3d55c9",
   "metadata": {
    "ExecuteTime": {
     "end_time": "2022-02-01T13:37:50.150878Z",
     "start_time": "2022-02-01T13:37:50.089043Z"
    }
   },
   "outputs": [
    {
     "data": {
      "text/html": [
       "<div>\n",
       "<style scoped>\n",
       "    .dataframe tbody tr th:only-of-type {\n",
       "        vertical-align: middle;\n",
       "    }\n",
       "\n",
       "    .dataframe tbody tr th {\n",
       "        vertical-align: top;\n",
       "    }\n",
       "\n",
       "    .dataframe thead th {\n",
       "        text-align: right;\n",
       "    }\n",
       "</style>\n",
       "<table border=\"1\" class=\"dataframe\">\n",
       "  <thead>\n",
       "    <tr style=\"text-align: right;\">\n",
       "      <th></th>\n",
       "      <th>wpt_name</th>\n",
       "      <th>count</th>\n",
       "      <th>percentage</th>\n",
       "    </tr>\n",
       "  </thead>\n",
       "  <tbody>\n",
       "    <tr>\n",
       "      <th>0</th>\n",
       "      <td>none</td>\n",
       "      <td>3563</td>\n",
       "      <td>6.00</td>\n",
       "    </tr>\n",
       "    <tr>\n",
       "      <th>1</th>\n",
       "      <td>Shuleni</td>\n",
       "      <td>1748</td>\n",
       "      <td>2.94</td>\n",
       "    </tr>\n",
       "    <tr>\n",
       "      <th>2</th>\n",
       "      <td>Zahanati</td>\n",
       "      <td>830</td>\n",
       "      <td>1.40</td>\n",
       "    </tr>\n",
       "    <tr>\n",
       "      <th>3</th>\n",
       "      <td>Msikitini</td>\n",
       "      <td>535</td>\n",
       "      <td>0.90</td>\n",
       "    </tr>\n",
       "    <tr>\n",
       "      <th>4</th>\n",
       "      <td>Kanisani</td>\n",
       "      <td>323</td>\n",
       "      <td>0.54</td>\n",
       "    </tr>\n",
       "    <tr>\n",
       "      <th>5</th>\n",
       "      <td>Bombani</td>\n",
       "      <td>271</td>\n",
       "      <td>0.46</td>\n",
       "    </tr>\n",
       "    <tr>\n",
       "      <th>6</th>\n",
       "      <td>Sokoni</td>\n",
       "      <td>260</td>\n",
       "      <td>0.44</td>\n",
       "    </tr>\n",
       "    <tr>\n",
       "      <th>7</th>\n",
       "      <td>Ofisini</td>\n",
       "      <td>254</td>\n",
       "      <td>0.43</td>\n",
       "    </tr>\n",
       "    <tr>\n",
       "      <th>8</th>\n",
       "      <td>School</td>\n",
       "      <td>208</td>\n",
       "      <td>0.35</td>\n",
       "    </tr>\n",
       "    <tr>\n",
       "      <th>9</th>\n",
       "      <td>Shule Ya Msingi</td>\n",
       "      <td>199</td>\n",
       "      <td>0.34</td>\n",
       "    </tr>\n",
       "    <tr>\n",
       "      <th>10</th>\n",
       "      <td>Shule</td>\n",
       "      <td>152</td>\n",
       "      <td>0.26</td>\n",
       "    </tr>\n",
       "    <tr>\n",
       "      <th>11</th>\n",
       "      <td>Sekondari</td>\n",
       "      <td>146</td>\n",
       "      <td>0.25</td>\n",
       "    </tr>\n",
       "    <tr>\n",
       "      <th>12</th>\n",
       "      <td>Muungano</td>\n",
       "      <td>133</td>\n",
       "      <td>0.22</td>\n",
       "    </tr>\n",
       "    <tr>\n",
       "      <th>13</th>\n",
       "      <td>Mkombozi</td>\n",
       "      <td>111</td>\n",
       "      <td>0.19</td>\n",
       "    </tr>\n",
       "    <tr>\n",
       "      <th>14</th>\n",
       "      <td>Madukani</td>\n",
       "      <td>104</td>\n",
       "      <td>0.18</td>\n",
       "    </tr>\n",
       "    <tr>\n",
       "      <th>15</th>\n",
       "      <td>Mbugani</td>\n",
       "      <td>94</td>\n",
       "      <td>0.16</td>\n",
       "    </tr>\n",
       "    <tr>\n",
       "      <th>16</th>\n",
       "      <td>Hospital</td>\n",
       "      <td>94</td>\n",
       "      <td>0.16</td>\n",
       "    </tr>\n",
       "    <tr>\n",
       "      <th>17</th>\n",
       "      <td>Upendo</td>\n",
       "      <td>93</td>\n",
       "      <td>0.16</td>\n",
       "    </tr>\n",
       "    <tr>\n",
       "      <th>18</th>\n",
       "      <td>Kituo Cha Afya</td>\n",
       "      <td>90</td>\n",
       "      <td>0.15</td>\n",
       "    </tr>\n",
       "    <tr>\n",
       "      <th>19</th>\n",
       "      <td>Mkuyuni</td>\n",
       "      <td>88</td>\n",
       "      <td>0.15</td>\n",
       "    </tr>\n",
       "  </tbody>\n",
       "</table>\n",
       "</div>"
      ],
      "text/plain": [
       "           wpt_name  count  percentage\n",
       "0              none   3563        6.00\n",
       "1           Shuleni   1748        2.94\n",
       "2          Zahanati    830        1.40\n",
       "3         Msikitini    535        0.90\n",
       "4          Kanisani    323        0.54\n",
       "5           Bombani    271        0.46\n",
       "6            Sokoni    260        0.44\n",
       "7           Ofisini    254        0.43\n",
       "8            School    208        0.35\n",
       "9   Shule Ya Msingi    199        0.34\n",
       "10            Shule    152        0.26\n",
       "11        Sekondari    146        0.25\n",
       "12         Muungano    133        0.22\n",
       "13         Mkombozi    111        0.19\n",
       "14         Madukani    104        0.18\n",
       "15          Mbugani     94        0.16\n",
       "16         Hospital     94        0.16\n",
       "17           Upendo     93        0.16\n",
       "18   Kituo Cha Afya     90        0.15\n",
       "19          Mkuyuni     88        0.15"
      ]
     },
     "execution_count": 90,
     "metadata": {},
     "output_type": "execute_result"
    }
   ],
   "source": [
    "wptname_top20 = wptname_df[:20]\n",
    "wptname_top20.reset_index(inplace=True)\n",
    "wptname_top20.columns = ['wpt_name', 'count', 'percentage']\n",
    "wptname_top20"
   ]
  },
  {
   "cell_type": "markdown",
   "id": "364d9925",
   "metadata": {},
   "source": [
    "Swahili is the national language of Tanzania. We are going to translate some of these names to see what they mean."
   ]
  },
  {
   "cell_type": "code",
   "execution_count": 91,
   "id": "e1b1cc92",
   "metadata": {
    "ExecuteTime": {
     "end_time": "2022-02-01T13:37:50.166835Z",
     "start_time": "2022-02-01T13:37:50.151876Z"
    }
   },
   "outputs": [
    {
     "name": "stderr",
     "output_type": "stream",
     "text": [
      "C:\\Users\\Brian\\AppData\\Local\\Temp/ipykernel_20016/4249328915.py:1: SettingWithCopyWarning: \n",
      "A value is trying to be set on a copy of a slice from a DataFrame.\n",
      "Try using .loc[row_indexer,col_indexer] = value instead\n",
      "\n",
      "See the caveats in the documentation: https://pandas.pydata.org/pandas-docs/stable/user_guide/indexing.html#returning-a-view-versus-a-copy\n",
      "  wptname_top20['translated'] = ['none','at school','clinics','in the mosque',\n"
     ]
    },
    {
     "data": {
      "text/html": [
       "<div>\n",
       "<style scoped>\n",
       "    .dataframe tbody tr th:only-of-type {\n",
       "        vertical-align: middle;\n",
       "    }\n",
       "\n",
       "    .dataframe tbody tr th {\n",
       "        vertical-align: top;\n",
       "    }\n",
       "\n",
       "    .dataframe thead th {\n",
       "        text-align: right;\n",
       "    }\n",
       "</style>\n",
       "<table border=\"1\" class=\"dataframe\">\n",
       "  <thead>\n",
       "    <tr style=\"text-align: right;\">\n",
       "      <th></th>\n",
       "      <th>wpt_name</th>\n",
       "      <th>count</th>\n",
       "      <th>percentage</th>\n",
       "      <th>translated</th>\n",
       "    </tr>\n",
       "  </thead>\n",
       "  <tbody>\n",
       "    <tr>\n",
       "      <th>0</th>\n",
       "      <td>none</td>\n",
       "      <td>3563</td>\n",
       "      <td>6.00</td>\n",
       "      <td>none</td>\n",
       "    </tr>\n",
       "    <tr>\n",
       "      <th>1</th>\n",
       "      <td>Shuleni</td>\n",
       "      <td>1748</td>\n",
       "      <td>2.94</td>\n",
       "      <td>at school</td>\n",
       "    </tr>\n",
       "    <tr>\n",
       "      <th>2</th>\n",
       "      <td>Zahanati</td>\n",
       "      <td>830</td>\n",
       "      <td>1.40</td>\n",
       "      <td>clinics</td>\n",
       "    </tr>\n",
       "    <tr>\n",
       "      <th>3</th>\n",
       "      <td>Msikitini</td>\n",
       "      <td>535</td>\n",
       "      <td>0.90</td>\n",
       "      <td>in the mosque</td>\n",
       "    </tr>\n",
       "    <tr>\n",
       "      <th>4</th>\n",
       "      <td>Kanisani</td>\n",
       "      <td>323</td>\n",
       "      <td>0.54</td>\n",
       "      <td>church</td>\n",
       "    </tr>\n",
       "    <tr>\n",
       "      <th>5</th>\n",
       "      <td>Bombani</td>\n",
       "      <td>271</td>\n",
       "      <td>0.46</td>\n",
       "      <td>none</td>\n",
       "    </tr>\n",
       "    <tr>\n",
       "      <th>6</th>\n",
       "      <td>Sokoni</td>\n",
       "      <td>260</td>\n",
       "      <td>0.44</td>\n",
       "      <td>none</td>\n",
       "    </tr>\n",
       "    <tr>\n",
       "      <th>7</th>\n",
       "      <td>Ofisini</td>\n",
       "      <td>254</td>\n",
       "      <td>0.43</td>\n",
       "      <td>office</td>\n",
       "    </tr>\n",
       "    <tr>\n",
       "      <th>8</th>\n",
       "      <td>School</td>\n",
       "      <td>208</td>\n",
       "      <td>0.35</td>\n",
       "      <td>school</td>\n",
       "    </tr>\n",
       "    <tr>\n",
       "      <th>9</th>\n",
       "      <td>Shule Ya Msingi</td>\n",
       "      <td>199</td>\n",
       "      <td>0.34</td>\n",
       "      <td>primary school</td>\n",
       "    </tr>\n",
       "    <tr>\n",
       "      <th>10</th>\n",
       "      <td>Shule</td>\n",
       "      <td>152</td>\n",
       "      <td>0.26</td>\n",
       "      <td>school</td>\n",
       "    </tr>\n",
       "    <tr>\n",
       "      <th>11</th>\n",
       "      <td>Sekondari</td>\n",
       "      <td>146</td>\n",
       "      <td>0.25</td>\n",
       "      <td>secondary</td>\n",
       "    </tr>\n",
       "    <tr>\n",
       "      <th>12</th>\n",
       "      <td>Muungano</td>\n",
       "      <td>133</td>\n",
       "      <td>0.22</td>\n",
       "      <td>in the congregation</td>\n",
       "    </tr>\n",
       "    <tr>\n",
       "      <th>13</th>\n",
       "      <td>Mkombozi</td>\n",
       "      <td>111</td>\n",
       "      <td>0.19</td>\n",
       "      <td>savior</td>\n",
       "    </tr>\n",
       "    <tr>\n",
       "      <th>14</th>\n",
       "      <td>Madukani</td>\n",
       "      <td>104</td>\n",
       "      <td>0.18</td>\n",
       "      <td>shops</td>\n",
       "    </tr>\n",
       "    <tr>\n",
       "      <th>15</th>\n",
       "      <td>Mbugani</td>\n",
       "      <td>94</td>\n",
       "      <td>0.16</td>\n",
       "      <td>in the park</td>\n",
       "    </tr>\n",
       "    <tr>\n",
       "      <th>16</th>\n",
       "      <td>Hospital</td>\n",
       "      <td>94</td>\n",
       "      <td>0.16</td>\n",
       "      <td>hospital</td>\n",
       "    </tr>\n",
       "    <tr>\n",
       "      <th>17</th>\n",
       "      <td>Upendo</td>\n",
       "      <td>93</td>\n",
       "      <td>0.16</td>\n",
       "      <td>love</td>\n",
       "    </tr>\n",
       "    <tr>\n",
       "      <th>18</th>\n",
       "      <td>Kituo Cha Afya</td>\n",
       "      <td>90</td>\n",
       "      <td>0.15</td>\n",
       "      <td>health center</td>\n",
       "    </tr>\n",
       "    <tr>\n",
       "      <th>19</th>\n",
       "      <td>Mkuyuni</td>\n",
       "      <td>88</td>\n",
       "      <td>0.15</td>\n",
       "      <td>none</td>\n",
       "    </tr>\n",
       "  </tbody>\n",
       "</table>\n",
       "</div>"
      ],
      "text/plain": [
       "           wpt_name  count  percentage           translated\n",
       "0              none   3563        6.00                 none\n",
       "1           Shuleni   1748        2.94            at school\n",
       "2          Zahanati    830        1.40              clinics\n",
       "3         Msikitini    535        0.90        in the mosque\n",
       "4          Kanisani    323        0.54               church\n",
       "5           Bombani    271        0.46                 none\n",
       "6            Sokoni    260        0.44                 none\n",
       "7           Ofisini    254        0.43               office\n",
       "8            School    208        0.35               school\n",
       "9   Shule Ya Msingi    199        0.34       primary school\n",
       "10            Shule    152        0.26               school\n",
       "11        Sekondari    146        0.25            secondary\n",
       "12         Muungano    133        0.22  in the congregation\n",
       "13         Mkombozi    111        0.19               savior\n",
       "14         Madukani    104        0.18                shops\n",
       "15          Mbugani     94        0.16          in the park\n",
       "16         Hospital     94        0.16             hospital\n",
       "17           Upendo     93        0.16                 love\n",
       "18   Kituo Cha Afya     90        0.15        health center\n",
       "19          Mkuyuni     88        0.15                 none"
      ]
     },
     "execution_count": 91,
     "metadata": {},
     "output_type": "execute_result"
    }
   ],
   "source": [
    "wptname_top20['translated'] = ['none','at school','clinics','in the mosque',\n",
    "                               'church','none','none','office','school',\n",
    "                               'primary school','school', 'secondary',\n",
    "                               'in the congregation','savior', 'shops',\n",
    "                               'in the park', 'hospital','love',\n",
    "                               'health center', 'none']\n",
    "wptname_top20"
   ]
  },
  {
   "cell_type": "markdown",
   "id": "a6bdc7f9",
   "metadata": {},
   "source": [
    "Here would be an opportunity to expand if we could pull in translation and fuzzy logic for word types. Waterpoints are named after the place they are located and most of the ones with multiple value counts are at places like schools, houses of worship, offices, and shops. It will be too difficult at this point to find a way to convert this feature, so we will add it to the drop list. But if we could convert, it may be insightful if you could categorize the location type"
   ]
  },
  {
   "cell_type": "code",
   "execution_count": 92,
   "id": "e6d6c493",
   "metadata": {
    "ExecuteTime": {
     "end_time": "2022-02-01T13:37:50.182794Z",
     "start_time": "2022-02-01T13:37:50.167833Z"
    }
   },
   "outputs": [],
   "source": [
    "drop_list.append('wpt_name')"
   ]
  },
  {
   "cell_type": "markdown",
   "id": "5ca6aa01",
   "metadata": {},
   "source": [
    "## basin"
   ]
  },
  {
   "cell_type": "markdown",
   "id": "f868a720",
   "metadata": {},
   "source": [
    "The data description states that this a geographic water basin"
   ]
  },
  {
   "cell_type": "code",
   "execution_count": 93,
   "id": "71a82d99",
   "metadata": {
    "ExecuteTime": {
     "end_time": "2022-02-01T13:37:50.198750Z",
     "start_time": "2022-02-01T13:37:50.183791Z"
    }
   },
   "outputs": [
    {
     "name": "stdout",
     "output_type": "stream",
     "text": [
      "Unique values for 'basin': 9\n",
      "--------------------------\n",
      "Unique values with a single representative: 0\n",
      "Percent of values that are single: 0.0%\n"
     ]
    }
   ],
   "source": [
    "basin_df = value_count_report('basin')"
   ]
  },
  {
   "cell_type": "code",
   "execution_count": 94,
   "id": "e5ac361a",
   "metadata": {
    "ExecuteTime": {
     "end_time": "2022-02-01T13:37:50.214708Z",
     "start_time": "2022-02-01T13:37:50.199748Z"
    }
   },
   "outputs": [
    {
     "data": {
      "text/html": [
       "<div>\n",
       "<style scoped>\n",
       "    .dataframe tbody tr th:only-of-type {\n",
       "        vertical-align: middle;\n",
       "    }\n",
       "\n",
       "    .dataframe tbody tr th {\n",
       "        vertical-align: top;\n",
       "    }\n",
       "\n",
       "    .dataframe thead th {\n",
       "        text-align: right;\n",
       "    }\n",
       "</style>\n",
       "<table border=\"1\" class=\"dataframe\">\n",
       "  <thead>\n",
       "    <tr style=\"text-align: right;\">\n",
       "      <th></th>\n",
       "      <th>basin</th>\n",
       "      <th>percentage</th>\n",
       "    </tr>\n",
       "  </thead>\n",
       "  <tbody>\n",
       "    <tr>\n",
       "      <th>Lake Victoria</th>\n",
       "      <td>10248</td>\n",
       "      <td>17.25</td>\n",
       "    </tr>\n",
       "    <tr>\n",
       "      <th>Pangani</th>\n",
       "      <td>8940</td>\n",
       "      <td>15.05</td>\n",
       "    </tr>\n",
       "    <tr>\n",
       "      <th>Rufiji</th>\n",
       "      <td>7976</td>\n",
       "      <td>13.43</td>\n",
       "    </tr>\n",
       "    <tr>\n",
       "      <th>Internal</th>\n",
       "      <td>7785</td>\n",
       "      <td>13.11</td>\n",
       "    </tr>\n",
       "    <tr>\n",
       "      <th>Lake Tanganyika</th>\n",
       "      <td>6432</td>\n",
       "      <td>10.83</td>\n",
       "    </tr>\n",
       "    <tr>\n",
       "      <th>Wami / Ruvu</th>\n",
       "      <td>5987</td>\n",
       "      <td>10.08</td>\n",
       "    </tr>\n",
       "    <tr>\n",
       "      <th>Lake Nyasa</th>\n",
       "      <td>5085</td>\n",
       "      <td>8.56</td>\n",
       "    </tr>\n",
       "    <tr>\n",
       "      <th>Ruvuma / Southern Coast</th>\n",
       "      <td>4493</td>\n",
       "      <td>7.56</td>\n",
       "    </tr>\n",
       "    <tr>\n",
       "      <th>Lake Rukwa</th>\n",
       "      <td>2454</td>\n",
       "      <td>4.13</td>\n",
       "    </tr>\n",
       "  </tbody>\n",
       "</table>\n",
       "</div>"
      ],
      "text/plain": [
       "                         basin  percentage\n",
       "Lake Victoria            10248       17.25\n",
       "Pangani                   8940       15.05\n",
       "Rufiji                    7976       13.43\n",
       "Internal                  7785       13.11\n",
       "Lake Tanganyika           6432       10.83\n",
       "Wami / Ruvu               5987       10.08\n",
       "Lake Nyasa                5085        8.56\n",
       "Ruvuma / Southern Coast   4493        7.56\n",
       "Lake Rukwa                2454        4.13"
      ]
     },
     "execution_count": 94,
     "metadata": {},
     "output_type": "execute_result"
    }
   ],
   "source": [
    "basin_df"
   ]
  },
  {
   "cell_type": "markdown",
   "id": "9c33f92f",
   "metadata": {},
   "source": [
    "Nothing crazy looking here, we will need to encode this for modeling but we'll get to that after analysis of all categoricals"
   ]
  },
  {
   "cell_type": "markdown",
   "id": "b4b1e19b",
   "metadata": {},
   "source": [
    "## subvillage"
   ]
  },
  {
   "cell_type": "markdown",
   "id": "1df4d5e3",
   "metadata": {},
   "source": [
    "The data description states that this is a geographic location."
   ]
  },
  {
   "cell_type": "code",
   "execution_count": 95,
   "id": "61f69add",
   "metadata": {
    "ExecuteTime": {
     "end_time": "2022-02-01T13:37:50.262581Z",
     "start_time": "2022-02-01T13:37:50.215705Z"
    }
   },
   "outputs": [
    {
     "name": "stdout",
     "output_type": "stream",
     "text": [
      "Unique values for 'subvillage': 19288\n",
      "--------------------------\n",
      "Unique values with a single representative: 9424\n",
      "Percent of values that are single: 48.86%\n"
     ]
    }
   ],
   "source": [
    "subvillage_df = value_count_report('subvillage')"
   ]
  },
  {
   "cell_type": "markdown",
   "id": "c1ba6276",
   "metadata": {},
   "source": [
    "As we saw earlier when accounting for nulls we have a lot of subvillages, over 19 thousand, about half of which are represented by a single instance. We will not model with this, add it to the drop list."
   ]
  },
  {
   "cell_type": "code",
   "execution_count": 96,
   "id": "45015842",
   "metadata": {
    "ExecuteTime": {
     "end_time": "2022-02-01T13:37:50.278538Z",
     "start_time": "2022-02-01T13:37:50.264576Z"
    }
   },
   "outputs": [],
   "source": [
    "drop_list.append('subvillage')"
   ]
  },
  {
   "cell_type": "markdown",
   "id": "376f883e",
   "metadata": {},
   "source": [
    "## region"
   ]
  },
  {
   "cell_type": "markdown",
   "id": "f1953ed3",
   "metadata": {},
   "source": [
    "The data description states that this is a geographic location"
   ]
  },
  {
   "cell_type": "code",
   "execution_count": 97,
   "id": "2043cf00",
   "metadata": {
    "ExecuteTime": {
     "end_time": "2022-02-01T13:37:50.294495Z",
     "start_time": "2022-02-01T13:37:50.279536Z"
    }
   },
   "outputs": [
    {
     "name": "stdout",
     "output_type": "stream",
     "text": [
      "Unique values for 'region': 21\n",
      "--------------------------\n",
      "Unique values with a single representative: 0\n",
      "Percent of values that are single: 0.0%\n"
     ]
    }
   ],
   "source": [
    "region_df = value_count_report('region')"
   ]
  },
  {
   "cell_type": "markdown",
   "id": "fda978b1",
   "metadata": {},
   "source": [
    "We had already sorted out this feature. We will likely onehotencode this feature and not use region_code in modeling."
   ]
  },
  {
   "cell_type": "code",
   "execution_count": 98,
   "id": "99ee0b0d",
   "metadata": {
    "ExecuteTime": {
     "end_time": "2022-02-01T13:37:50.310452Z",
     "start_time": "2022-02-01T13:37:50.295492Z"
    }
   },
   "outputs": [
    {
     "data": {
      "text/html": [
       "<div>\n",
       "<style scoped>\n",
       "    .dataframe tbody tr th:only-of-type {\n",
       "        vertical-align: middle;\n",
       "    }\n",
       "\n",
       "    .dataframe tbody tr th {\n",
       "        vertical-align: top;\n",
       "    }\n",
       "\n",
       "    .dataframe thead th {\n",
       "        text-align: right;\n",
       "    }\n",
       "</style>\n",
       "<table border=\"1\" class=\"dataframe\">\n",
       "  <thead>\n",
       "    <tr style=\"text-align: right;\">\n",
       "      <th></th>\n",
       "      <th>region</th>\n",
       "      <th>percentage</th>\n",
       "    </tr>\n",
       "  </thead>\n",
       "  <tbody>\n",
       "    <tr>\n",
       "      <th>Iringa</th>\n",
       "      <td>5300</td>\n",
       "      <td>8.92</td>\n",
       "    </tr>\n",
       "    <tr>\n",
       "      <th>Shinyanga</th>\n",
       "      <td>5011</td>\n",
       "      <td>8.44</td>\n",
       "    </tr>\n",
       "    <tr>\n",
       "      <th>Mbeya</th>\n",
       "      <td>4639</td>\n",
       "      <td>7.81</td>\n",
       "    </tr>\n",
       "    <tr>\n",
       "      <th>Kilimanjaro</th>\n",
       "      <td>4379</td>\n",
       "      <td>7.37</td>\n",
       "    </tr>\n",
       "    <tr>\n",
       "      <th>Morogoro</th>\n",
       "      <td>4040</td>\n",
       "      <td>6.80</td>\n",
       "    </tr>\n",
       "    <tr>\n",
       "      <th>Arusha</th>\n",
       "      <td>3350</td>\n",
       "      <td>5.64</td>\n",
       "    </tr>\n",
       "    <tr>\n",
       "      <th>Kagera</th>\n",
       "      <td>3324</td>\n",
       "      <td>5.60</td>\n",
       "    </tr>\n",
       "    <tr>\n",
       "      <th>Mwanza</th>\n",
       "      <td>3047</td>\n",
       "      <td>5.13</td>\n",
       "    </tr>\n",
       "    <tr>\n",
       "      <th>Kigoma</th>\n",
       "      <td>2816</td>\n",
       "      <td>4.74</td>\n",
       "    </tr>\n",
       "    <tr>\n",
       "      <th>Ruvuma</th>\n",
       "      <td>2640</td>\n",
       "      <td>4.44</td>\n",
       "    </tr>\n",
       "    <tr>\n",
       "      <th>Pwani</th>\n",
       "      <td>2635</td>\n",
       "      <td>4.44</td>\n",
       "    </tr>\n",
       "    <tr>\n",
       "      <th>Tanga</th>\n",
       "      <td>2513</td>\n",
       "      <td>4.23</td>\n",
       "    </tr>\n",
       "    <tr>\n",
       "      <th>Dodoma</th>\n",
       "      <td>2201</td>\n",
       "      <td>3.71</td>\n",
       "    </tr>\n",
       "    <tr>\n",
       "      <th>Singida</th>\n",
       "      <td>2093</td>\n",
       "      <td>3.52</td>\n",
       "    </tr>\n",
       "    <tr>\n",
       "      <th>Tabora</th>\n",
       "      <td>1979</td>\n",
       "      <td>3.33</td>\n",
       "    </tr>\n",
       "    <tr>\n",
       "      <th>Mara</th>\n",
       "      <td>1969</td>\n",
       "      <td>3.31</td>\n",
       "    </tr>\n",
       "    <tr>\n",
       "      <th>Rukwa</th>\n",
       "      <td>1808</td>\n",
       "      <td>3.04</td>\n",
       "    </tr>\n",
       "    <tr>\n",
       "      <th>Mtwara</th>\n",
       "      <td>1730</td>\n",
       "      <td>2.91</td>\n",
       "    </tr>\n",
       "    <tr>\n",
       "      <th>Manyara</th>\n",
       "      <td>1583</td>\n",
       "      <td>2.66</td>\n",
       "    </tr>\n",
       "    <tr>\n",
       "      <th>Lindi</th>\n",
       "      <td>1538</td>\n",
       "      <td>2.59</td>\n",
       "    </tr>\n",
       "    <tr>\n",
       "      <th>Dar es Salaam</th>\n",
       "      <td>805</td>\n",
       "      <td>1.36</td>\n",
       "    </tr>\n",
       "  </tbody>\n",
       "</table>\n",
       "</div>"
      ],
      "text/plain": [
       "               region  percentage\n",
       "Iringa           5300        8.92\n",
       "Shinyanga        5011        8.44\n",
       "Mbeya            4639        7.81\n",
       "Kilimanjaro      4379        7.37\n",
       "Morogoro         4040        6.80\n",
       "Arusha           3350        5.64\n",
       "Kagera           3324        5.60\n",
       "Mwanza           3047        5.13\n",
       "Kigoma           2816        4.74\n",
       "Ruvuma           2640        4.44\n",
       "Pwani            2635        4.44\n",
       "Tanga            2513        4.23\n",
       "Dodoma           2201        3.71\n",
       "Singida          2093        3.52\n",
       "Tabora           1979        3.33\n",
       "Mara             1969        3.31\n",
       "Rukwa            1808        3.04\n",
       "Mtwara           1730        2.91\n",
       "Manyara          1583        2.66\n",
       "Lindi            1538        2.59\n",
       "Dar es Salaam     805        1.36"
      ]
     },
     "execution_count": 98,
     "metadata": {},
     "output_type": "execute_result"
    }
   ],
   "source": [
    "region_df"
   ]
  },
  {
   "cell_type": "markdown",
   "id": "123f24ab",
   "metadata": {},
   "source": [
    "## lga"
   ]
  },
  {
   "cell_type": "markdown",
   "id": "eb17f4ea",
   "metadata": {},
   "source": [
    "The data description states that this is a geographic location."
   ]
  },
  {
   "cell_type": "code",
   "execution_count": 99,
   "id": "acffd385",
   "metadata": {
    "ExecuteTime": {
     "end_time": "2022-02-01T13:37:50.326410Z",
     "start_time": "2022-02-01T13:37:50.311449Z"
    }
   },
   "outputs": [
    {
     "name": "stdout",
     "output_type": "stream",
     "text": [
      "Unique values for 'lga': 125\n",
      "--------------------------\n",
      "Unique values with a single representative: 1\n",
      "Percent of values that are single: 0.8%\n"
     ]
    }
   ],
   "source": [
    "lga_df = value_count_report('lga')"
   ]
  },
  {
   "cell_type": "code",
   "execution_count": 100,
   "id": "32e556fa",
   "metadata": {
    "ExecuteTime": {
     "end_time": "2022-02-01T13:37:50.342367Z",
     "start_time": "2022-02-01T13:37:50.328405Z"
    },
    "scrolled": true
   },
   "outputs": [
    {
     "data": {
      "text/html": [
       "<div>\n",
       "<style scoped>\n",
       "    .dataframe tbody tr th:only-of-type {\n",
       "        vertical-align: middle;\n",
       "    }\n",
       "\n",
       "    .dataframe tbody tr th {\n",
       "        vertical-align: top;\n",
       "    }\n",
       "\n",
       "    .dataframe thead th {\n",
       "        text-align: right;\n",
       "    }\n",
       "</style>\n",
       "<table border=\"1\" class=\"dataframe\">\n",
       "  <thead>\n",
       "    <tr style=\"text-align: right;\">\n",
       "      <th></th>\n",
       "      <th>lga</th>\n",
       "      <th>percentage</th>\n",
       "    </tr>\n",
       "  </thead>\n",
       "  <tbody>\n",
       "    <tr>\n",
       "      <th>Njombe</th>\n",
       "      <td>2503</td>\n",
       "      <td>4.21</td>\n",
       "    </tr>\n",
       "    <tr>\n",
       "      <th>Arusha Rural</th>\n",
       "      <td>1252</td>\n",
       "      <td>2.11</td>\n",
       "    </tr>\n",
       "    <tr>\n",
       "      <th>Moshi Rural</th>\n",
       "      <td>1251</td>\n",
       "      <td>2.11</td>\n",
       "    </tr>\n",
       "    <tr>\n",
       "      <th>Bariadi</th>\n",
       "      <td>1177</td>\n",
       "      <td>1.98</td>\n",
       "    </tr>\n",
       "    <tr>\n",
       "      <th>Rungwe</th>\n",
       "      <td>1106</td>\n",
       "      <td>1.86</td>\n",
       "    </tr>\n",
       "    <tr>\n",
       "      <th>Kilosa</th>\n",
       "      <td>1094</td>\n",
       "      <td>1.84</td>\n",
       "    </tr>\n",
       "    <tr>\n",
       "      <th>Kasulu</th>\n",
       "      <td>1047</td>\n",
       "      <td>1.76</td>\n",
       "    </tr>\n",
       "    <tr>\n",
       "      <th>Mbozi</th>\n",
       "      <td>1034</td>\n",
       "      <td>1.74</td>\n",
       "    </tr>\n",
       "    <tr>\n",
       "      <th>Meru</th>\n",
       "      <td>1009</td>\n",
       "      <td>1.70</td>\n",
       "    </tr>\n",
       "    <tr>\n",
       "      <th>Bagamoyo</th>\n",
       "      <td>997</td>\n",
       "      <td>1.68</td>\n",
       "    </tr>\n",
       "    <tr>\n",
       "      <th>Singida Rural</th>\n",
       "      <td>995</td>\n",
       "      <td>1.68</td>\n",
       "    </tr>\n",
       "    <tr>\n",
       "      <th>Kilombero</th>\n",
       "      <td>959</td>\n",
       "      <td>1.61</td>\n",
       "    </tr>\n",
       "    <tr>\n",
       "      <th>Same</th>\n",
       "      <td>877</td>\n",
       "      <td>1.48</td>\n",
       "    </tr>\n",
       "    <tr>\n",
       "      <th>Kibondo</th>\n",
       "      <td>874</td>\n",
       "      <td>1.47</td>\n",
       "    </tr>\n",
       "    <tr>\n",
       "      <th>Kyela</th>\n",
       "      <td>859</td>\n",
       "      <td>1.45</td>\n",
       "    </tr>\n",
       "    <tr>\n",
       "      <th>Kahama</th>\n",
       "      <td>836</td>\n",
       "      <td>1.41</td>\n",
       "    </tr>\n",
       "    <tr>\n",
       "      <th>Magu</th>\n",
       "      <td>824</td>\n",
       "      <td>1.39</td>\n",
       "    </tr>\n",
       "    <tr>\n",
       "      <th>Kigoma Rural</th>\n",
       "      <td>824</td>\n",
       "      <td>1.39</td>\n",
       "    </tr>\n",
       "    <tr>\n",
       "      <th>Maswa</th>\n",
       "      <td>809</td>\n",
       "      <td>1.36</td>\n",
       "    </tr>\n",
       "    <tr>\n",
       "      <th>Karagwe</th>\n",
       "      <td>771</td>\n",
       "      <td>1.30</td>\n",
       "    </tr>\n",
       "  </tbody>\n",
       "</table>\n",
       "</div>"
      ],
      "text/plain": [
       "                lga  percentage\n",
       "Njombe         2503        4.21\n",
       "Arusha Rural   1252        2.11\n",
       "Moshi Rural    1251        2.11\n",
       "Bariadi        1177        1.98\n",
       "Rungwe         1106        1.86\n",
       "Kilosa         1094        1.84\n",
       "Kasulu         1047        1.76\n",
       "Mbozi          1034        1.74\n",
       "Meru           1009        1.70\n",
       "Bagamoyo        997        1.68\n",
       "Singida Rural   995        1.68\n",
       "Kilombero       959        1.61\n",
       "Same            877        1.48\n",
       "Kibondo         874        1.47\n",
       "Kyela           859        1.45\n",
       "Kahama          836        1.41\n",
       "Magu            824        1.39\n",
       "Kigoma Rural    824        1.39\n",
       "Maswa           809        1.36\n",
       "Karagwe         771        1.30"
      ]
     },
     "execution_count": 100,
     "metadata": {},
     "output_type": "execute_result"
    }
   ],
   "source": [
    "lga_df[:20]"
   ]
  },
  {
   "cell_type": "markdown",
   "id": "762bd6bd",
   "metadata": {},
   "source": [
    "This doesn't seem to be too many values to onehotencode, but lets not jump to conclusions. This feature may have multicollinearity with region, because with only 21 regions and 125 values for lga, it stands to reason that most of these are just sub-divisions of larger regions.\n",
    "\n",
    "We would have to decide, I think, between one or the other to use for modeling. My intuition is to keep the model simple and use 'region', but maybe we try one and then the other and see what results say.\n",
    "\n",
    "One thing interesting that we learned is that Njombe, the most frequent value in lga, was actually established as a region of Tanzania in [March 2012](https://en.wikipedia.org/wiki/Njombe_Region). We can see that some of the lga values are rural or urban subzones of regions, such as Arusha and Kigoma, further supporting our position these names being smaller administrative areas."
   ]
  },
  {
   "cell_type": "markdown",
   "id": "28198196",
   "metadata": {},
   "source": [
    "## ward"
   ]
  },
  {
   "cell_type": "markdown",
   "id": "39ac52de",
   "metadata": {},
   "source": [
    "The data description states that this is a geographic location\n"
   ]
  },
  {
   "cell_type": "code",
   "execution_count": 101,
   "id": "70d6992d",
   "metadata": {
    "ExecuteTime": {
     "end_time": "2022-02-01T13:37:50.374282Z",
     "start_time": "2022-02-01T13:37:50.344362Z"
    },
    "scrolled": true
   },
   "outputs": [
    {
     "name": "stdout",
     "output_type": "stream",
     "text": [
      "Unique values for 'ward': 2092\n",
      "--------------------------\n",
      "Unique values with a single representative: 30\n",
      "Percent of values that are single: 1.43%\n"
     ]
    }
   ],
   "source": [
    "ward_df = value_count_report('ward')"
   ]
  },
  {
   "cell_type": "code",
   "execution_count": 102,
   "id": "115f4b19",
   "metadata": {
    "ExecuteTime": {
     "end_time": "2022-02-01T13:37:50.390240Z",
     "start_time": "2022-02-01T13:37:50.375279Z"
    },
    "scrolled": true
   },
   "outputs": [
    {
     "data": {
      "text/html": [
       "<div>\n",
       "<style scoped>\n",
       "    .dataframe tbody tr th:only-of-type {\n",
       "        vertical-align: middle;\n",
       "    }\n",
       "\n",
       "    .dataframe tbody tr th {\n",
       "        vertical-align: top;\n",
       "    }\n",
       "\n",
       "    .dataframe thead th {\n",
       "        text-align: right;\n",
       "    }\n",
       "</style>\n",
       "<table border=\"1\" class=\"dataframe\">\n",
       "  <thead>\n",
       "    <tr style=\"text-align: right;\">\n",
       "      <th></th>\n",
       "      <th>ward</th>\n",
       "      <th>percentage</th>\n",
       "    </tr>\n",
       "  </thead>\n",
       "  <tbody>\n",
       "    <tr>\n",
       "      <th>Igosi</th>\n",
       "      <td>307</td>\n",
       "      <td>0.52</td>\n",
       "    </tr>\n",
       "    <tr>\n",
       "      <th>Imalinyi</th>\n",
       "      <td>252</td>\n",
       "      <td>0.42</td>\n",
       "    </tr>\n",
       "    <tr>\n",
       "      <th>Siha Kati</th>\n",
       "      <td>232</td>\n",
       "      <td>0.39</td>\n",
       "    </tr>\n",
       "    <tr>\n",
       "      <th>Mdandu</th>\n",
       "      <td>231</td>\n",
       "      <td>0.39</td>\n",
       "    </tr>\n",
       "    <tr>\n",
       "      <th>Nduruma</th>\n",
       "      <td>217</td>\n",
       "      <td>0.37</td>\n",
       "    </tr>\n",
       "    <tr>\n",
       "      <th>...</th>\n",
       "      <td>...</td>\n",
       "      <td>...</td>\n",
       "    </tr>\n",
       "    <tr>\n",
       "      <th>Uchindile</th>\n",
       "      <td>1</td>\n",
       "      <td>0.00</td>\n",
       "    </tr>\n",
       "    <tr>\n",
       "      <th>Thawi</th>\n",
       "      <td>1</td>\n",
       "      <td>0.00</td>\n",
       "    </tr>\n",
       "    <tr>\n",
       "      <th>Uwanja wa Ndege</th>\n",
       "      <td>1</td>\n",
       "      <td>0.00</td>\n",
       "    </tr>\n",
       "    <tr>\n",
       "      <th>Izia</th>\n",
       "      <td>1</td>\n",
       "      <td>0.00</td>\n",
       "    </tr>\n",
       "    <tr>\n",
       "      <th>Kinungu</th>\n",
       "      <td>1</td>\n",
       "      <td>0.00</td>\n",
       "    </tr>\n",
       "  </tbody>\n",
       "</table>\n",
       "<p>2092 rows × 2 columns</p>\n",
       "</div>"
      ],
      "text/plain": [
       "                 ward  percentage\n",
       "Igosi             307        0.52\n",
       "Imalinyi          252        0.42\n",
       "Siha Kati         232        0.39\n",
       "Mdandu            231        0.39\n",
       "Nduruma           217        0.37\n",
       "...               ...         ...\n",
       "Uchindile           1        0.00\n",
       "Thawi               1        0.00\n",
       "Uwanja wa Ndege     1        0.00\n",
       "Izia                1        0.00\n",
       "Kinungu             1        0.00\n",
       "\n",
       "[2092 rows x 2 columns]"
      ]
     },
     "execution_count": 102,
     "metadata": {},
     "output_type": "execute_result"
    }
   ],
   "source": [
    "ward_df"
   ]
  },
  {
   "cell_type": "markdown",
   "id": "1f83bcb7",
   "metadata": {},
   "source": [
    "[Research shows](https://en.wikipedia.org/wiki/Subdivisions_of_Tanzania#:~:text=A%20Ward%20(Kata)%20is%20an,are%20composed%20of%20several%20villages.) that a ward is an administrative division, either urban or rural. This is another way to divide the data. I think we can try modeling with each of the three geographic divisions (region, lga, ward) to see which one performs best, but we will likely not need all 3. With ward, the largest percentage any one value has of the total data is about one half of one percent, so this may be too much division."
   ]
  },
  {
   "cell_type": "markdown",
   "id": "198a6d9f",
   "metadata": {},
   "source": [
    "## public_meeting"
   ]
  },
  {
   "cell_type": "markdown",
   "id": "e671453b",
   "metadata": {},
   "source": [
    "The data description states that this is a true/false if there was a public meeting"
   ]
  },
  {
   "cell_type": "code",
   "execution_count": 103,
   "id": "cf6d2040",
   "metadata": {
    "ExecuteTime": {
     "end_time": "2022-02-01T13:37:50.406198Z",
     "start_time": "2022-02-01T13:37:50.391237Z"
    }
   },
   "outputs": [
    {
     "name": "stdout",
     "output_type": "stream",
     "text": [
      "Unique values for 'public_meeting': 2\n",
      "--------------------------\n",
      "Unique values with a single representative: 0\n",
      "Percent of values that are single: 0.0%\n"
     ]
    }
   ],
   "source": [
    "public_meeting_df = value_count_report('public_meeting')"
   ]
  },
  {
   "cell_type": "markdown",
   "id": "d21f3960",
   "metadata": {},
   "source": [
    "I'm not sure if this will impact modeling, but it's a simple boolean so we will leave it in for now (will encode at the end of categorical analysis)."
   ]
  },
  {
   "cell_type": "markdown",
   "id": "6d9d6113",
   "metadata": {},
   "source": [
    "## recorded_by"
   ]
  },
  {
   "cell_type": "markdown",
   "id": "70db065a",
   "metadata": {},
   "source": [
    "The data description states that this is who entered the data"
   ]
  },
  {
   "cell_type": "code",
   "execution_count": 104,
   "id": "bab9fcbb",
   "metadata": {
    "ExecuteTime": {
     "end_time": "2022-02-01T13:37:50.422154Z",
     "start_time": "2022-02-01T13:37:50.407195Z"
    }
   },
   "outputs": [
    {
     "name": "stdout",
     "output_type": "stream",
     "text": [
      "Unique values for 'recorded_by': 1\n",
      "--------------------------\n",
      "Unique values with a single representative: 0\n",
      "Percent of values that are single: 0.0%\n"
     ]
    }
   ],
   "source": [
    "recorded_by_df = value_count_report('recorded_by')"
   ]
  },
  {
   "cell_type": "code",
   "execution_count": 105,
   "id": "68da5f30",
   "metadata": {
    "ExecuteTime": {
     "end_time": "2022-02-01T13:37:50.438112Z",
     "start_time": "2022-02-01T13:37:50.423152Z"
    }
   },
   "outputs": [
    {
     "data": {
      "text/html": [
       "<div>\n",
       "<style scoped>\n",
       "    .dataframe tbody tr th:only-of-type {\n",
       "        vertical-align: middle;\n",
       "    }\n",
       "\n",
       "    .dataframe tbody tr th {\n",
       "        vertical-align: top;\n",
       "    }\n",
       "\n",
       "    .dataframe thead th {\n",
       "        text-align: right;\n",
       "    }\n",
       "</style>\n",
       "<table border=\"1\" class=\"dataframe\">\n",
       "  <thead>\n",
       "    <tr style=\"text-align: right;\">\n",
       "      <th></th>\n",
       "      <th>recorded_by</th>\n",
       "      <th>percentage</th>\n",
       "    </tr>\n",
       "  </thead>\n",
       "  <tbody>\n",
       "    <tr>\n",
       "      <th>GeoData Consultants Ltd</th>\n",
       "      <td>59400</td>\n",
       "      <td>100.0</td>\n",
       "    </tr>\n",
       "  </tbody>\n",
       "</table>\n",
       "</div>"
      ],
      "text/plain": [
       "                         recorded_by  percentage\n",
       "GeoData Consultants Ltd        59400       100.0"
      ]
     },
     "execution_count": 105,
     "metadata": {},
     "output_type": "execute_result"
    }
   ],
   "source": [
    "recorded_by_df"
   ]
  },
  {
   "cell_type": "markdown",
   "id": "92f7bd1b",
   "metadata": {},
   "source": [
    "We do not need this feature, adding to the drop list."
   ]
  },
  {
   "cell_type": "code",
   "execution_count": 106,
   "id": "91c75a67",
   "metadata": {
    "ExecuteTime": {
     "end_time": "2022-02-01T13:37:50.453072Z",
     "start_time": "2022-02-01T13:37:50.439110Z"
    }
   },
   "outputs": [],
   "source": [
    "drop_list.append('recorded_by')"
   ]
  },
  {
   "cell_type": "markdown",
   "id": "bc8194d4",
   "metadata": {},
   "source": [
    "## scheme_management"
   ]
  },
  {
   "cell_type": "markdown",
   "id": "702b6794",
   "metadata": {},
   "source": [
    "The data description states that this is who operates the waterpoint"
   ]
  },
  {
   "cell_type": "code",
   "execution_count": 107,
   "id": "9aae7c2d",
   "metadata": {
    "ExecuteTime": {
     "end_time": "2022-02-01T13:37:50.469030Z",
     "start_time": "2022-02-01T13:37:50.454070Z"
    }
   },
   "outputs": [
    {
     "name": "stdout",
     "output_type": "stream",
     "text": [
      "Unique values for 'scheme_management': 11\n",
      "--------------------------\n",
      "Unique values with a single representative: 0\n",
      "Percent of values that are single: 0.0%\n"
     ]
    }
   ],
   "source": [
    "scheme_management_df = value_count_report('scheme_management')"
   ]
  },
  {
   "cell_type": "code",
   "execution_count": 108,
   "id": "5f3f57a0",
   "metadata": {
    "ExecuteTime": {
     "end_time": "2022-02-01T13:37:50.484987Z",
     "start_time": "2022-02-01T13:37:50.471025Z"
    }
   },
   "outputs": [
    {
     "data": {
      "text/html": [
       "<div>\n",
       "<style scoped>\n",
       "    .dataframe tbody tr th:only-of-type {\n",
       "        vertical-align: middle;\n",
       "    }\n",
       "\n",
       "    .dataframe tbody tr th {\n",
       "        vertical-align: top;\n",
       "    }\n",
       "\n",
       "    .dataframe thead th {\n",
       "        text-align: right;\n",
       "    }\n",
       "</style>\n",
       "<table border=\"1\" class=\"dataframe\">\n",
       "  <thead>\n",
       "    <tr style=\"text-align: right;\">\n",
       "      <th></th>\n",
       "      <th>scheme_management</th>\n",
       "      <th>percentage</th>\n",
       "    </tr>\n",
       "  </thead>\n",
       "  <tbody>\n",
       "    <tr>\n",
       "      <th>VWC</th>\n",
       "      <td>39335</td>\n",
       "      <td>66.22</td>\n",
       "    </tr>\n",
       "    <tr>\n",
       "      <th>WUG</th>\n",
       "      <td>5598</td>\n",
       "      <td>9.42</td>\n",
       "    </tr>\n",
       "    <tr>\n",
       "      <th>Water authority</th>\n",
       "      <td>3388</td>\n",
       "      <td>5.70</td>\n",
       "    </tr>\n",
       "    <tr>\n",
       "      <th>WUA</th>\n",
       "      <td>3097</td>\n",
       "      <td>5.21</td>\n",
       "    </tr>\n",
       "    <tr>\n",
       "      <th>Water Board</th>\n",
       "      <td>2912</td>\n",
       "      <td>4.90</td>\n",
       "    </tr>\n",
       "    <tr>\n",
       "      <th>Parastatal</th>\n",
       "      <td>1800</td>\n",
       "      <td>3.03</td>\n",
       "    </tr>\n",
       "    <tr>\n",
       "      <th>Company</th>\n",
       "      <td>1142</td>\n",
       "      <td>1.92</td>\n",
       "    </tr>\n",
       "    <tr>\n",
       "      <th>Private operator</th>\n",
       "      <td>1133</td>\n",
       "      <td>1.91</td>\n",
       "    </tr>\n",
       "    <tr>\n",
       "      <th>Other</th>\n",
       "      <td>814</td>\n",
       "      <td>1.37</td>\n",
       "    </tr>\n",
       "    <tr>\n",
       "      <th>SWC</th>\n",
       "      <td>103</td>\n",
       "      <td>0.17</td>\n",
       "    </tr>\n",
       "    <tr>\n",
       "      <th>Trust</th>\n",
       "      <td>78</td>\n",
       "      <td>0.13</td>\n",
       "    </tr>\n",
       "  </tbody>\n",
       "</table>\n",
       "</div>"
      ],
      "text/plain": [
       "                  scheme_management  percentage\n",
       "VWC                           39335       66.22\n",
       "WUG                            5598        9.42\n",
       "Water authority                3388        5.70\n",
       "WUA                            3097        5.21\n",
       "Water Board                    2912        4.90\n",
       "Parastatal                     1800        3.03\n",
       "Company                        1142        1.92\n",
       "Private operator               1133        1.91\n",
       "Other                           814        1.37\n",
       "SWC                             103        0.17\n",
       "Trust                            78        0.13"
      ]
     },
     "execution_count": 108,
     "metadata": {},
     "output_type": "execute_result"
    }
   ],
   "source": [
    "scheme_management_df"
   ]
  },
  {
   "cell_type": "markdown",
   "id": "58870217",
   "metadata": {},
   "source": [
    "We will need to encode this feature to model, and it's likely to be important."
   ]
  },
  {
   "cell_type": "markdown",
   "id": "5eb0b53a",
   "metadata": {},
   "source": [
    "## scheme_name"
   ]
  },
  {
   "cell_type": "markdown",
   "id": "f66195e1",
   "metadata": {},
   "source": [
    "The data description states that this is who operates the waterpoint"
   ]
  },
  {
   "cell_type": "code",
   "execution_count": 109,
   "id": "e2cd6065",
   "metadata": {
    "ExecuteTime": {
     "end_time": "2022-02-01T13:37:50.516903Z",
     "start_time": "2022-02-01T13:37:50.486983Z"
    }
   },
   "outputs": [
    {
     "name": "stdout",
     "output_type": "stream",
     "text": [
      "Unique values for 'scheme_name': 2697\n",
      "--------------------------\n",
      "Unique values with a single representative: 712\n",
      "Percent of values that are single: 26.4%\n"
     ]
    }
   ],
   "source": [
    "scheme_name_df = value_count_report('scheme_name')"
   ]
  },
  {
   "cell_type": "code",
   "execution_count": 110,
   "id": "80b828c6",
   "metadata": {
    "ExecuteTime": {
     "end_time": "2022-02-01T13:37:50.532859Z",
     "start_time": "2022-02-01T13:37:50.517899Z"
    }
   },
   "outputs": [
    {
     "data": {
      "text/html": [
       "<div>\n",
       "<style scoped>\n",
       "    .dataframe tbody tr th:only-of-type {\n",
       "        vertical-align: middle;\n",
       "    }\n",
       "\n",
       "    .dataframe tbody tr th {\n",
       "        vertical-align: top;\n",
       "    }\n",
       "\n",
       "    .dataframe thead th {\n",
       "        text-align: right;\n",
       "    }\n",
       "</style>\n",
       "<table border=\"1\" class=\"dataframe\">\n",
       "  <thead>\n",
       "    <tr style=\"text-align: right;\">\n",
       "      <th></th>\n",
       "      <th>scheme_name</th>\n",
       "      <th>percentage</th>\n",
       "    </tr>\n",
       "  </thead>\n",
       "  <tbody>\n",
       "    <tr>\n",
       "      <th>Other</th>\n",
       "      <td>28166</td>\n",
       "      <td>47.42</td>\n",
       "    </tr>\n",
       "    <tr>\n",
       "      <th>K</th>\n",
       "      <td>682</td>\n",
       "      <td>1.15</td>\n",
       "    </tr>\n",
       "    <tr>\n",
       "      <th>None</th>\n",
       "      <td>644</td>\n",
       "      <td>1.08</td>\n",
       "    </tr>\n",
       "    <tr>\n",
       "      <th>Borehole</th>\n",
       "      <td>546</td>\n",
       "      <td>0.92</td>\n",
       "    </tr>\n",
       "    <tr>\n",
       "      <th>Chalinze wate</th>\n",
       "      <td>405</td>\n",
       "      <td>0.68</td>\n",
       "    </tr>\n",
       "    <tr>\n",
       "      <th>...</th>\n",
       "      <td>...</td>\n",
       "      <td>...</td>\n",
       "    </tr>\n",
       "    <tr>\n",
       "      <th>Visiga water supplly</th>\n",
       "      <td>1</td>\n",
       "      <td>0.00</td>\n",
       "    </tr>\n",
       "    <tr>\n",
       "      <th>Emanyata pipelines</th>\n",
       "      <td>1</td>\n",
       "      <td>0.00</td>\n",
       "    </tr>\n",
       "    <tr>\n",
       "      <th>Magundi water supply</th>\n",
       "      <td>1</td>\n",
       "      <td>0.00</td>\n",
       "    </tr>\n",
       "    <tr>\n",
       "      <th>Imalampaka water supply</th>\n",
       "      <td>1</td>\n",
       "      <td>0.00</td>\n",
       "    </tr>\n",
       "    <tr>\n",
       "      <th>Mtawanya</th>\n",
       "      <td>1</td>\n",
       "      <td>0.00</td>\n",
       "    </tr>\n",
       "  </tbody>\n",
       "</table>\n",
       "<p>2697 rows × 2 columns</p>\n",
       "</div>"
      ],
      "text/plain": [
       "                         scheme_name  percentage\n",
       "Other                          28166       47.42\n",
       "K                                682        1.15\n",
       "None                             644        1.08\n",
       "Borehole                         546        0.92\n",
       "Chalinze wate                    405        0.68\n",
       "...                              ...         ...\n",
       "Visiga water supplly               1        0.00\n",
       "Emanyata pipelines                 1        0.00\n",
       "Magundi water supply               1        0.00\n",
       "Imalampaka water supply            1        0.00\n",
       "Mtawanya                           1        0.00\n",
       "\n",
       "[2697 rows x 2 columns]"
      ]
     },
     "execution_count": 110,
     "metadata": {},
     "output_type": "execute_result"
    }
   ],
   "source": [
    "scheme_name_df"
   ]
  },
  {
   "cell_type": "markdown",
   "id": "1ca600a5",
   "metadata": {},
   "source": [
    "Almost half (47.42%) of our scheme_name data is 'Other'. The remaining values are very sparse, the next most frequent being 'K' at 1.15%. I don't suspect there is a way to use this data. Adding to the drop list."
   ]
  },
  {
   "cell_type": "code",
   "execution_count": 111,
   "id": "2d0244b5",
   "metadata": {
    "ExecuteTime": {
     "end_time": "2022-02-01T13:37:50.548817Z",
     "start_time": "2022-02-01T13:37:50.533857Z"
    }
   },
   "outputs": [],
   "source": [
    "drop_list.append('scheme_name')"
   ]
  },
  {
   "cell_type": "markdown",
   "id": "92614204",
   "metadata": {},
   "source": [
    "## permit"
   ]
  },
  {
   "cell_type": "markdown",
   "id": "2822ad58",
   "metadata": {},
   "source": [
    "The data description states that this feature indicates if the waterpoint is permitted."
   ]
  },
  {
   "cell_type": "code",
   "execution_count": 112,
   "id": "5ed41882",
   "metadata": {
    "ExecuteTime": {
     "end_time": "2022-02-01T13:37:50.564774Z",
     "start_time": "2022-02-01T13:37:50.550811Z"
    }
   },
   "outputs": [
    {
     "name": "stdout",
     "output_type": "stream",
     "text": [
      "Unique values for 'permit': 2\n",
      "--------------------------\n",
      "Unique values with a single representative: 0\n",
      "Percent of values that are single: 0.0%\n"
     ]
    }
   ],
   "source": [
    "permit_df = value_count_report('permit')"
   ]
  },
  {
   "cell_type": "code",
   "execution_count": 113,
   "id": "a16a1e8a",
   "metadata": {
    "ExecuteTime": {
     "end_time": "2022-02-01T13:37:50.580731Z",
     "start_time": "2022-02-01T13:37:50.566768Z"
    }
   },
   "outputs": [
    {
     "data": {
      "text/html": [
       "<div>\n",
       "<style scoped>\n",
       "    .dataframe tbody tr th:only-of-type {\n",
       "        vertical-align: middle;\n",
       "    }\n",
       "\n",
       "    .dataframe tbody tr th {\n",
       "        vertical-align: top;\n",
       "    }\n",
       "\n",
       "    .dataframe thead th {\n",
       "        text-align: right;\n",
       "    }\n",
       "</style>\n",
       "<table border=\"1\" class=\"dataframe\">\n",
       "  <thead>\n",
       "    <tr style=\"text-align: right;\">\n",
       "      <th></th>\n",
       "      <th>permit</th>\n",
       "      <th>percentage</th>\n",
       "    </tr>\n",
       "  </thead>\n",
       "  <tbody>\n",
       "    <tr>\n",
       "      <th>True</th>\n",
       "      <td>40956</td>\n",
       "      <td>68.95</td>\n",
       "    </tr>\n",
       "    <tr>\n",
       "      <th>False</th>\n",
       "      <td>18444</td>\n",
       "      <td>31.05</td>\n",
       "    </tr>\n",
       "  </tbody>\n",
       "</table>\n",
       "</div>"
      ],
      "text/plain": [
       "       permit  percentage\n",
       "True    40956       68.95\n",
       "False   18444       31.05"
      ]
     },
     "execution_count": 113,
     "metadata": {},
     "output_type": "execute_result"
    }
   ],
   "source": [
    "permit_df"
   ]
  },
  {
   "cell_type": "code",
   "execution_count": 167,
   "id": "37087a91",
   "metadata": {
    "ExecuteTime": {
     "end_time": "2022-02-01T16:23:05.932707Z",
     "start_time": "2022-02-01T16:23:05.820000Z"
    }
   },
   "outputs": [
    {
     "data": {
      "text/html": [
       "<div>\n",
       "<style scoped>\n",
       "    .dataframe tbody tr th:only-of-type {\n",
       "        vertical-align: middle;\n",
       "    }\n",
       "\n",
       "    .dataframe tbody tr th {\n",
       "        vertical-align: top;\n",
       "    }\n",
       "\n",
       "    .dataframe thead th {\n",
       "        text-align: right;\n",
       "    }\n",
       "</style>\n",
       "<table border=\"1\" class=\"dataframe\">\n",
       "  <thead>\n",
       "    <tr style=\"text-align: right;\">\n",
       "      <th></th>\n",
       "      <th>permit</th>\n",
       "      <th>target</th>\n",
       "      <th>count</th>\n",
       "      <th>percentage</th>\n",
       "    </tr>\n",
       "  </thead>\n",
       "  <tbody>\n",
       "    <tr>\n",
       "      <th>0</th>\n",
       "      <td>False</td>\n",
       "      <td>0</td>\n",
       "      <td>7450</td>\n",
       "      <td>40.39</td>\n",
       "    </tr>\n",
       "    <tr>\n",
       "      <th>1</th>\n",
       "      <td>False</td>\n",
       "      <td>1</td>\n",
       "      <td>1409</td>\n",
       "      <td>7.64</td>\n",
       "    </tr>\n",
       "    <tr>\n",
       "      <th>2</th>\n",
       "      <td>False</td>\n",
       "      <td>2</td>\n",
       "      <td>9585</td>\n",
       "      <td>51.97</td>\n",
       "    </tr>\n",
       "    <tr>\n",
       "      <th>3</th>\n",
       "      <td>True</td>\n",
       "      <td>0</td>\n",
       "      <td>15374</td>\n",
       "      <td>37.54</td>\n",
       "    </tr>\n",
       "    <tr>\n",
       "      <th>4</th>\n",
       "      <td>True</td>\n",
       "      <td>1</td>\n",
       "      <td>2908</td>\n",
       "      <td>7.10</td>\n",
       "    </tr>\n",
       "    <tr>\n",
       "      <th>5</th>\n",
       "      <td>True</td>\n",
       "      <td>2</td>\n",
       "      <td>22674</td>\n",
       "      <td>55.36</td>\n",
       "    </tr>\n",
       "  </tbody>\n",
       "</table>\n",
       "</div>"
      ],
      "text/plain": [
       "   permit  target  count  percentage\n",
       "0   False       0   7450       40.39\n",
       "1   False       1   1409        7.64\n",
       "2   False       2   9585       51.97\n",
       "3    True       0  15374       37.54\n",
       "4    True       1   2908        7.10\n",
       "5    True       2  22674       55.36"
      ]
     },
     "execution_count": 167,
     "metadata": {},
     "output_type": "execute_result"
    }
   ],
   "source": [
    "permit_target_df = pd.DataFrame(cat_df.groupby(['permit', 'target']).count()['id'])\n",
    "permit_target_df.columns = ['count']\n",
    "permit_target_df.reset_index(inplace=True)\n",
    "\n",
    "true_permit_count = permit_df.permit[1]\n",
    "false_permit_count = permit_df.permit[0]\n",
    "\n",
    "def permit_perc(row):\n",
    "    if row.permit == False:\n",
    "        return round(((row['count'] / false_permit_count)*100), 2)\n",
    "    else:\n",
    "        return round(((row['count'] / true_permit_count)*100), 2)\n",
    "    \n",
    "permit_target_df['percentage'] = permit_target_df.apply(permit_perc, axis=1)\n",
    "permit_target_df"
   ]
  },
  {
   "cell_type": "markdown",
   "id": "e156d52e",
   "metadata": {},
   "source": [
    "The distribution of the target in both values of permit are very close to what they are for the whole dataset. We will certainly use this feature and numerically encode it at the end"
   ]
  },
  {
   "cell_type": "markdown",
   "id": "e7b758a0",
   "metadata": {},
   "source": [
    "## extraction_type"
   ]
  },
  {
   "cell_type": "markdown",
   "id": "5e176d8c",
   "metadata": {},
   "source": [
    "The data description states that this is the kind of extraction the waterpoint uses."
   ]
  },
  {
   "cell_type": "code",
   "execution_count": 114,
   "id": "a0a0ff5f",
   "metadata": {
    "ExecuteTime": {
     "end_time": "2022-02-01T13:37:50.596689Z",
     "start_time": "2022-02-01T13:37:50.581729Z"
    }
   },
   "outputs": [
    {
     "name": "stdout",
     "output_type": "stream",
     "text": [
      "Unique values for 'extraction_type': 18\n",
      "--------------------------\n",
      "Unique values with a single representative: 0\n",
      "Percent of values that are single: 0.0%\n"
     ]
    }
   ],
   "source": [
    "extraction_type_df = value_count_report('extraction_type')"
   ]
  },
  {
   "cell_type": "code",
   "execution_count": 115,
   "id": "bd848fa9",
   "metadata": {
    "ExecuteTime": {
     "end_time": "2022-02-01T13:37:50.612647Z",
     "start_time": "2022-02-01T13:37:50.598684Z"
    }
   },
   "outputs": [
    {
     "data": {
      "text/html": [
       "<div>\n",
       "<style scoped>\n",
       "    .dataframe tbody tr th:only-of-type {\n",
       "        vertical-align: middle;\n",
       "    }\n",
       "\n",
       "    .dataframe tbody tr th {\n",
       "        vertical-align: top;\n",
       "    }\n",
       "\n",
       "    .dataframe thead th {\n",
       "        text-align: right;\n",
       "    }\n",
       "</style>\n",
       "<table border=\"1\" class=\"dataframe\">\n",
       "  <thead>\n",
       "    <tr style=\"text-align: right;\">\n",
       "      <th></th>\n",
       "      <th>extraction_type</th>\n",
       "      <th>percentage</th>\n",
       "    </tr>\n",
       "  </thead>\n",
       "  <tbody>\n",
       "    <tr>\n",
       "      <th>gravity</th>\n",
       "      <td>26780</td>\n",
       "      <td>45.08</td>\n",
       "    </tr>\n",
       "    <tr>\n",
       "      <th>nira/tanira</th>\n",
       "      <td>8154</td>\n",
       "      <td>13.73</td>\n",
       "    </tr>\n",
       "    <tr>\n",
       "      <th>other</th>\n",
       "      <td>6430</td>\n",
       "      <td>10.82</td>\n",
       "    </tr>\n",
       "    <tr>\n",
       "      <th>submersible</th>\n",
       "      <td>4764</td>\n",
       "      <td>8.02</td>\n",
       "    </tr>\n",
       "    <tr>\n",
       "      <th>swn 80</th>\n",
       "      <td>3670</td>\n",
       "      <td>6.18</td>\n",
       "    </tr>\n",
       "    <tr>\n",
       "      <th>mono</th>\n",
       "      <td>2865</td>\n",
       "      <td>4.82</td>\n",
       "    </tr>\n",
       "    <tr>\n",
       "      <th>india mark ii</th>\n",
       "      <td>2400</td>\n",
       "      <td>4.04</td>\n",
       "    </tr>\n",
       "    <tr>\n",
       "      <th>afridev</th>\n",
       "      <td>1770</td>\n",
       "      <td>2.98</td>\n",
       "    </tr>\n",
       "    <tr>\n",
       "      <th>ksb</th>\n",
       "      <td>1415</td>\n",
       "      <td>2.38</td>\n",
       "    </tr>\n",
       "    <tr>\n",
       "      <th>other - rope pump</th>\n",
       "      <td>451</td>\n",
       "      <td>0.76</td>\n",
       "    </tr>\n",
       "    <tr>\n",
       "      <th>other - swn 81</th>\n",
       "      <td>229</td>\n",
       "      <td>0.39</td>\n",
       "    </tr>\n",
       "    <tr>\n",
       "      <th>windmill</th>\n",
       "      <td>117</td>\n",
       "      <td>0.20</td>\n",
       "    </tr>\n",
       "    <tr>\n",
       "      <th>india mark iii</th>\n",
       "      <td>98</td>\n",
       "      <td>0.16</td>\n",
       "    </tr>\n",
       "    <tr>\n",
       "      <th>cemo</th>\n",
       "      <td>90</td>\n",
       "      <td>0.15</td>\n",
       "    </tr>\n",
       "    <tr>\n",
       "      <th>other - play pump</th>\n",
       "      <td>85</td>\n",
       "      <td>0.14</td>\n",
       "    </tr>\n",
       "    <tr>\n",
       "      <th>walimi</th>\n",
       "      <td>48</td>\n",
       "      <td>0.08</td>\n",
       "    </tr>\n",
       "    <tr>\n",
       "      <th>climax</th>\n",
       "      <td>32</td>\n",
       "      <td>0.05</td>\n",
       "    </tr>\n",
       "    <tr>\n",
       "      <th>other - mkulima/shinyanga</th>\n",
       "      <td>2</td>\n",
       "      <td>0.00</td>\n",
       "    </tr>\n",
       "  </tbody>\n",
       "</table>\n",
       "</div>"
      ],
      "text/plain": [
       "                           extraction_type  percentage\n",
       "gravity                              26780       45.08\n",
       "nira/tanira                           8154       13.73\n",
       "other                                 6430       10.82\n",
       "submersible                           4764        8.02\n",
       "swn 80                                3670        6.18\n",
       "mono                                  2865        4.82\n",
       "india mark ii                         2400        4.04\n",
       "afridev                               1770        2.98\n",
       "ksb                                   1415        2.38\n",
       "other - rope pump                      451        0.76\n",
       "other - swn 81                         229        0.39\n",
       "windmill                               117        0.20\n",
       "india mark iii                          98        0.16\n",
       "cemo                                    90        0.15\n",
       "other - play pump                       85        0.14\n",
       "walimi                                  48        0.08\n",
       "climax                                  32        0.05\n",
       "other - mkulima/shinyanga                2        0.00"
      ]
     },
     "execution_count": 115,
     "metadata": {},
     "output_type": "execute_result"
    }
   ],
   "source": [
    "extraction_type_df"
   ]
  },
  {
   "cell_type": "markdown",
   "id": "a5fd2aa7",
   "metadata": {},
   "source": [
    "Initial observations:\n",
    "- Almost half (45.08%) of waterpoints use a gravity pump\n",
    "- There is one value for 'other' extraction type, but we also have values that are 'other - ...' with a extraction type list after it.\n",
    "- The top 10 most frequent extraction types represent 98.81% of our data (the number 10 spot being 'other - rope pump'"
   ]
  },
  {
   "cell_type": "code",
   "execution_count": 168,
   "id": "b14d0269",
   "metadata": {
    "ExecuteTime": {
     "end_time": "2022-02-01T16:27:58.345302Z",
     "start_time": "2022-02-01T16:27:58.330340Z"
    },
    "scrolled": true
   },
   "outputs": [
    {
     "data": {
      "text/plain": [
       "extraction_type            target\n",
       "afridev                    0           528\n",
       "                           1            42\n",
       "                           2          1200\n",
       "cemo                       0            36\n",
       "                           1             9\n",
       "                           2            45\n",
       "climax                     0            24\n",
       "                           2             8\n",
       "gravity                    0          8031\n",
       "                           1          2701\n",
       "                           2         16048\n",
       "india mark ii              0           873\n",
       "                           1            79\n",
       "                           2          1448\n",
       "india mark iii             0            53\n",
       "                           1             1\n",
       "                           2            44\n",
       "ksb                        0           686\n",
       "                           1            26\n",
       "                           2           703\n",
       "mono                       0          1654\n",
       "                           1           129\n",
       "                           2          1082\n",
       "nira/tanira                0          2092\n",
       "                           1           641\n",
       "                           2          5421\n",
       "other                      0          5195\n",
       "                           1           206\n",
       "                           2          1029\n",
       "other - mkulima/shinyanga  0             2\n",
       "other - play pump          0            55\n",
       "                           1             1\n",
       "                           2            29\n",
       "other - rope pump          0           141\n",
       "                           1            17\n",
       "                           2           293\n",
       "other - swn 81             0           102\n",
       "                           1             7\n",
       "                           2           120\n",
       "submersible                0          1911\n",
       "                           1           227\n",
       "                           2          2626\n",
       "swn 80                     0          1368\n",
       "                           1           212\n",
       "                           2          2090\n",
       "walimi                     0            13\n",
       "                           1            12\n",
       "                           2            23\n",
       "windmill                   0            60\n",
       "                           1             7\n",
       "                           2            50\n",
       "Name: id, dtype: int64"
      ]
     },
     "execution_count": 168,
     "metadata": {},
     "output_type": "execute_result"
    }
   ],
   "source": [
    "cat_df.groupby(['extraction_type', 'target'])['id'].count()"
   ]
  },
  {
   "cell_type": "markdown",
   "id": "5a27fcf0",
   "metadata": {},
   "source": [
    "Before we get too deep into this, lets look at the next two features, they are both related to extraction_type"
   ]
  },
  {
   "cell_type": "markdown",
   "id": "cda1c51d",
   "metadata": {},
   "source": [
    "## extraction_type_group"
   ]
  },
  {
   "cell_type": "markdown",
   "id": "ae54e4e5",
   "metadata": {},
   "source": [
    "The data description states that this is the kind of extraction the waterpoint uses."
   ]
  },
  {
   "cell_type": "code",
   "execution_count": 171,
   "id": "f0698123",
   "metadata": {
    "ExecuteTime": {
     "end_time": "2022-02-01T17:09:14.645543Z",
     "start_time": "2022-02-01T17:09:14.621578Z"
    }
   },
   "outputs": [
    {
     "name": "stdout",
     "output_type": "stream",
     "text": [
      "Unique values for 'extraction_type_group': 13\n",
      "--------------------------\n",
      "Unique values with a single representative: 0\n",
      "Percent of values that are single: 0.0%\n"
     ]
    }
   ],
   "source": [
    "extraction_type_group_df = value_count_report('extraction_type_group')"
   ]
  },
  {
   "cell_type": "code",
   "execution_count": 172,
   "id": "f6b566cd",
   "metadata": {
    "ExecuteTime": {
     "end_time": "2022-02-01T17:09:16.788829Z",
     "start_time": "2022-02-01T17:09:16.776892Z"
    }
   },
   "outputs": [
    {
     "data": {
      "text/html": [
       "<div>\n",
       "<style scoped>\n",
       "    .dataframe tbody tr th:only-of-type {\n",
       "        vertical-align: middle;\n",
       "    }\n",
       "\n",
       "    .dataframe tbody tr th {\n",
       "        vertical-align: top;\n",
       "    }\n",
       "\n",
       "    .dataframe thead th {\n",
       "        text-align: right;\n",
       "    }\n",
       "</style>\n",
       "<table border=\"1\" class=\"dataframe\">\n",
       "  <thead>\n",
       "    <tr style=\"text-align: right;\">\n",
       "      <th></th>\n",
       "      <th>extraction_type_group</th>\n",
       "      <th>percentage</th>\n",
       "    </tr>\n",
       "  </thead>\n",
       "  <tbody>\n",
       "    <tr>\n",
       "      <th>gravity</th>\n",
       "      <td>26780</td>\n",
       "      <td>45.08</td>\n",
       "    </tr>\n",
       "    <tr>\n",
       "      <th>nira/tanira</th>\n",
       "      <td>8154</td>\n",
       "      <td>13.73</td>\n",
       "    </tr>\n",
       "    <tr>\n",
       "      <th>other</th>\n",
       "      <td>6430</td>\n",
       "      <td>10.82</td>\n",
       "    </tr>\n",
       "    <tr>\n",
       "      <th>submersible</th>\n",
       "      <td>6179</td>\n",
       "      <td>10.40</td>\n",
       "    </tr>\n",
       "    <tr>\n",
       "      <th>swn 80</th>\n",
       "      <td>3670</td>\n",
       "      <td>6.18</td>\n",
       "    </tr>\n",
       "    <tr>\n",
       "      <th>mono</th>\n",
       "      <td>2865</td>\n",
       "      <td>4.82</td>\n",
       "    </tr>\n",
       "    <tr>\n",
       "      <th>india mark ii</th>\n",
       "      <td>2400</td>\n",
       "      <td>4.04</td>\n",
       "    </tr>\n",
       "    <tr>\n",
       "      <th>afridev</th>\n",
       "      <td>1770</td>\n",
       "      <td>2.98</td>\n",
       "    </tr>\n",
       "    <tr>\n",
       "      <th>rope pump</th>\n",
       "      <td>451</td>\n",
       "      <td>0.76</td>\n",
       "    </tr>\n",
       "    <tr>\n",
       "      <th>other handpump</th>\n",
       "      <td>364</td>\n",
       "      <td>0.61</td>\n",
       "    </tr>\n",
       "    <tr>\n",
       "      <th>other motorpump</th>\n",
       "      <td>122</td>\n",
       "      <td>0.21</td>\n",
       "    </tr>\n",
       "    <tr>\n",
       "      <th>wind-powered</th>\n",
       "      <td>117</td>\n",
       "      <td>0.20</td>\n",
       "    </tr>\n",
       "    <tr>\n",
       "      <th>india mark iii</th>\n",
       "      <td>98</td>\n",
       "      <td>0.16</td>\n",
       "    </tr>\n",
       "  </tbody>\n",
       "</table>\n",
       "</div>"
      ],
      "text/plain": [
       "                 extraction_type_group  percentage\n",
       "gravity                          26780       45.08\n",
       "nira/tanira                       8154       13.73\n",
       "other                             6430       10.82\n",
       "submersible                       6179       10.40\n",
       "swn 80                            3670        6.18\n",
       "mono                              2865        4.82\n",
       "india mark ii                     2400        4.04\n",
       "afridev                           1770        2.98\n",
       "rope pump                          451        0.76\n",
       "other handpump                     364        0.61\n",
       "other motorpump                    122        0.21\n",
       "wind-powered                       117        0.20\n",
       "india mark iii                      98        0.16"
      ]
     },
     "execution_count": 172,
     "metadata": {},
     "output_type": "execute_result"
    }
   ],
   "source": [
    "extraction_type_group_df"
   ]
  },
  {
   "cell_type": "markdown",
   "id": "5b99987a",
   "metadata": {},
   "source": [
    "We see lots of repeated values from extraction_type in the extraction_type_group feature, but there are 5 less unique values and they seemed to be grouped a bit better.\n",
    "\n",
    "Additionally, if we look at the gravity and other counts, they are exactly the same. Not all of the other are, but this looks like maybe a better categorical to use in modeling compared to extraction_type. Lets look at the class."
   ]
  },
  {
   "cell_type": "markdown",
   "id": "eb838b13",
   "metadata": {},
   "source": [
    "## extraction_type_class"
   ]
  },
  {
   "cell_type": "markdown",
   "id": "50b64f80",
   "metadata": {},
   "source": [
    "The data description states that this is the kind of extraction the waterpoint uses."
   ]
  },
  {
   "cell_type": "code",
   "execution_count": 173,
   "id": "8ec03475",
   "metadata": {
    "ExecuteTime": {
     "end_time": "2022-02-01T17:13:07.574069Z",
     "start_time": "2022-02-01T17:13:07.556090Z"
    }
   },
   "outputs": [
    {
     "name": "stdout",
     "output_type": "stream",
     "text": [
      "Unique values for 'extraction_type_class': 7\n",
      "--------------------------\n",
      "Unique values with a single representative: 0\n",
      "Percent of values that are single: 0.0%\n"
     ]
    }
   ],
   "source": [
    "extraction_type_class_df = value_count_report('extraction_type_class')"
   ]
  },
  {
   "cell_type": "code",
   "execution_count": 174,
   "id": "8af38910",
   "metadata": {
    "ExecuteTime": {
     "end_time": "2022-02-01T17:13:26.575399Z",
     "start_time": "2022-02-01T17:13:26.566393Z"
    }
   },
   "outputs": [
    {
     "data": {
      "text/html": [
       "<div>\n",
       "<style scoped>\n",
       "    .dataframe tbody tr th:only-of-type {\n",
       "        vertical-align: middle;\n",
       "    }\n",
       "\n",
       "    .dataframe tbody tr th {\n",
       "        vertical-align: top;\n",
       "    }\n",
       "\n",
       "    .dataframe thead th {\n",
       "        text-align: right;\n",
       "    }\n",
       "</style>\n",
       "<table border=\"1\" class=\"dataframe\">\n",
       "  <thead>\n",
       "    <tr style=\"text-align: right;\">\n",
       "      <th></th>\n",
       "      <th>extraction_type_class</th>\n",
       "      <th>percentage</th>\n",
       "    </tr>\n",
       "  </thead>\n",
       "  <tbody>\n",
       "    <tr>\n",
       "      <th>gravity</th>\n",
       "      <td>26780</td>\n",
       "      <td>45.08</td>\n",
       "    </tr>\n",
       "    <tr>\n",
       "      <th>handpump</th>\n",
       "      <td>16456</td>\n",
       "      <td>27.70</td>\n",
       "    </tr>\n",
       "    <tr>\n",
       "      <th>other</th>\n",
       "      <td>6430</td>\n",
       "      <td>10.82</td>\n",
       "    </tr>\n",
       "    <tr>\n",
       "      <th>submersible</th>\n",
       "      <td>6179</td>\n",
       "      <td>10.40</td>\n",
       "    </tr>\n",
       "    <tr>\n",
       "      <th>motorpump</th>\n",
       "      <td>2987</td>\n",
       "      <td>5.03</td>\n",
       "    </tr>\n",
       "    <tr>\n",
       "      <th>rope pump</th>\n",
       "      <td>451</td>\n",
       "      <td>0.76</td>\n",
       "    </tr>\n",
       "    <tr>\n",
       "      <th>wind-powered</th>\n",
       "      <td>117</td>\n",
       "      <td>0.20</td>\n",
       "    </tr>\n",
       "  </tbody>\n",
       "</table>\n",
       "</div>"
      ],
      "text/plain": [
       "              extraction_type_class  percentage\n",
       "gravity                       26780       45.08\n",
       "handpump                      16456       27.70\n",
       "other                          6430       10.82\n",
       "submersible                    6179       10.40\n",
       "motorpump                      2987        5.03\n",
       "rope pump                       451        0.76\n",
       "wind-powered                    117        0.20"
      ]
     },
     "execution_count": 174,
     "metadata": {},
     "output_type": "execute_result"
    }
   ],
   "source": [
    "extraction_type_class_df"
   ]
  },
  {
   "cell_type": "markdown",
   "id": "e69b3798",
   "metadata": {},
   "source": [
    "We see the same pattern of repeated values, but consolidation of groups into clear classes. It looks like instead of some branding we saw in values of extraction_type and extraction_type_group, we see more general class distinctions.\n",
    "\n",
    "I would reason that our model might perform better with the simpler of the three extraction_type categories. With too many distinctions by extraction_type we may make a model that overfits, and it also may not accounts for new branded pumps in the future that our model hasn't seen. If we use the class, we can still get some distinction with the type of waterpoint, but account for new pumps simply by using the class.\n",
    "\n",
    "We will add extraction_type and extraction_type_group to the drop list."
   ]
  },
  {
   "cell_type": "code",
   "execution_count": 175,
   "id": "b7aa18e4",
   "metadata": {
    "ExecuteTime": {
     "end_time": "2022-02-01T17:19:10.641160Z",
     "start_time": "2022-02-01T17:19:10.627190Z"
    }
   },
   "outputs": [],
   "source": [
    "drop_list.extend(['extraction_type', 'extraction_type_group'])"
   ]
  },
  {
   "cell_type": "markdown",
   "id": "afb703d6",
   "metadata": {},
   "source": [
    "## management"
   ]
  },
  {
   "cell_type": "markdown",
   "id": "448178ef",
   "metadata": {},
   "source": [
    "The data description states that this is how the waterpoint is managed"
   ]
  },
  {
   "cell_type": "code",
   "execution_count": 177,
   "id": "621a7a26",
   "metadata": {
    "ExecuteTime": {
     "end_time": "2022-02-01T17:20:02.794804Z",
     "start_time": "2022-02-01T17:20:02.769842Z"
    }
   },
   "outputs": [
    {
     "name": "stdout",
     "output_type": "stream",
     "text": [
      "Unique values for 'management': 12\n",
      "--------------------------\n",
      "Unique values with a single representative: 0\n",
      "Percent of values that are single: 0.0%\n"
     ]
    }
   ],
   "source": [
    "management_df = value_count_report('management')"
   ]
  },
  {
   "cell_type": "code",
   "execution_count": 178,
   "id": "109d799e",
   "metadata": {
    "ExecuteTime": {
     "end_time": "2022-02-01T17:20:08.244733Z",
     "start_time": "2022-02-01T17:20:08.230770Z"
    }
   },
   "outputs": [
    {
     "data": {
      "text/html": [
       "<div>\n",
       "<style scoped>\n",
       "    .dataframe tbody tr th:only-of-type {\n",
       "        vertical-align: middle;\n",
       "    }\n",
       "\n",
       "    .dataframe tbody tr th {\n",
       "        vertical-align: top;\n",
       "    }\n",
       "\n",
       "    .dataframe thead th {\n",
       "        text-align: right;\n",
       "    }\n",
       "</style>\n",
       "<table border=\"1\" class=\"dataframe\">\n",
       "  <thead>\n",
       "    <tr style=\"text-align: right;\">\n",
       "      <th></th>\n",
       "      <th>management</th>\n",
       "      <th>percentage</th>\n",
       "    </tr>\n",
       "  </thead>\n",
       "  <tbody>\n",
       "    <tr>\n",
       "      <th>vwc</th>\n",
       "      <td>40507</td>\n",
       "      <td>68.19</td>\n",
       "    </tr>\n",
       "    <tr>\n",
       "      <th>wug</th>\n",
       "      <td>6515</td>\n",
       "      <td>10.97</td>\n",
       "    </tr>\n",
       "    <tr>\n",
       "      <th>water board</th>\n",
       "      <td>2933</td>\n",
       "      <td>4.94</td>\n",
       "    </tr>\n",
       "    <tr>\n",
       "      <th>wua</th>\n",
       "      <td>2535</td>\n",
       "      <td>4.27</td>\n",
       "    </tr>\n",
       "    <tr>\n",
       "      <th>private operator</th>\n",
       "      <td>1971</td>\n",
       "      <td>3.32</td>\n",
       "    </tr>\n",
       "    <tr>\n",
       "      <th>parastatal</th>\n",
       "      <td>1768</td>\n",
       "      <td>2.98</td>\n",
       "    </tr>\n",
       "    <tr>\n",
       "      <th>water authority</th>\n",
       "      <td>904</td>\n",
       "      <td>1.52</td>\n",
       "    </tr>\n",
       "    <tr>\n",
       "      <th>other</th>\n",
       "      <td>844</td>\n",
       "      <td>1.42</td>\n",
       "    </tr>\n",
       "    <tr>\n",
       "      <th>company</th>\n",
       "      <td>685</td>\n",
       "      <td>1.15</td>\n",
       "    </tr>\n",
       "    <tr>\n",
       "      <th>unknown</th>\n",
       "      <td>561</td>\n",
       "      <td>0.94</td>\n",
       "    </tr>\n",
       "    <tr>\n",
       "      <th>other - school</th>\n",
       "      <td>99</td>\n",
       "      <td>0.17</td>\n",
       "    </tr>\n",
       "    <tr>\n",
       "      <th>trust</th>\n",
       "      <td>78</td>\n",
       "      <td>0.13</td>\n",
       "    </tr>\n",
       "  </tbody>\n",
       "</table>\n",
       "</div>"
      ],
      "text/plain": [
       "                  management  percentage\n",
       "vwc                    40507       68.19\n",
       "wug                     6515       10.97\n",
       "water board             2933        4.94\n",
       "wua                     2535        4.27\n",
       "private operator        1971        3.32\n",
       "parastatal              1768        2.98\n",
       "water authority          904        1.52\n",
       "other                    844        1.42\n",
       "company                  685        1.15\n",
       "unknown                  561        0.94\n",
       "other - school            99        0.17\n",
       "trust                     78        0.13"
      ]
     },
     "execution_count": 178,
     "metadata": {},
     "output_type": "execute_result"
    }
   ],
   "source": [
    "management_df"
   ]
  },
  {
   "cell_type": "markdown",
   "id": "1ddbc278",
   "metadata": {},
   "source": [
    "This looks remarkably similar to the value counts we had for scheme_management, lets look"
   ]
  },
  {
   "cell_type": "code",
   "execution_count": 179,
   "id": "e7ac16e5",
   "metadata": {
    "ExecuteTime": {
     "end_time": "2022-02-01T17:20:38.147261Z",
     "start_time": "2022-02-01T17:20:38.131303Z"
    }
   },
   "outputs": [
    {
     "data": {
      "text/html": [
       "<div>\n",
       "<style scoped>\n",
       "    .dataframe tbody tr th:only-of-type {\n",
       "        vertical-align: middle;\n",
       "    }\n",
       "\n",
       "    .dataframe tbody tr th {\n",
       "        vertical-align: top;\n",
       "    }\n",
       "\n",
       "    .dataframe thead th {\n",
       "        text-align: right;\n",
       "    }\n",
       "</style>\n",
       "<table border=\"1\" class=\"dataframe\">\n",
       "  <thead>\n",
       "    <tr style=\"text-align: right;\">\n",
       "      <th></th>\n",
       "      <th>scheme_management</th>\n",
       "      <th>percentage</th>\n",
       "    </tr>\n",
       "  </thead>\n",
       "  <tbody>\n",
       "    <tr>\n",
       "      <th>VWC</th>\n",
       "      <td>39335</td>\n",
       "      <td>66.22</td>\n",
       "    </tr>\n",
       "    <tr>\n",
       "      <th>WUG</th>\n",
       "      <td>5598</td>\n",
       "      <td>9.42</td>\n",
       "    </tr>\n",
       "    <tr>\n",
       "      <th>Water authority</th>\n",
       "      <td>3388</td>\n",
       "      <td>5.70</td>\n",
       "    </tr>\n",
       "    <tr>\n",
       "      <th>WUA</th>\n",
       "      <td>3097</td>\n",
       "      <td>5.21</td>\n",
       "    </tr>\n",
       "    <tr>\n",
       "      <th>Water Board</th>\n",
       "      <td>2912</td>\n",
       "      <td>4.90</td>\n",
       "    </tr>\n",
       "    <tr>\n",
       "      <th>Parastatal</th>\n",
       "      <td>1800</td>\n",
       "      <td>3.03</td>\n",
       "    </tr>\n",
       "    <tr>\n",
       "      <th>Company</th>\n",
       "      <td>1142</td>\n",
       "      <td>1.92</td>\n",
       "    </tr>\n",
       "    <tr>\n",
       "      <th>Private operator</th>\n",
       "      <td>1133</td>\n",
       "      <td>1.91</td>\n",
       "    </tr>\n",
       "    <tr>\n",
       "      <th>Other</th>\n",
       "      <td>814</td>\n",
       "      <td>1.37</td>\n",
       "    </tr>\n",
       "    <tr>\n",
       "      <th>SWC</th>\n",
       "      <td>103</td>\n",
       "      <td>0.17</td>\n",
       "    </tr>\n",
       "    <tr>\n",
       "      <th>Trust</th>\n",
       "      <td>78</td>\n",
       "      <td>0.13</td>\n",
       "    </tr>\n",
       "  </tbody>\n",
       "</table>\n",
       "</div>"
      ],
      "text/plain": [
       "                  scheme_management  percentage\n",
       "VWC                           39335       66.22\n",
       "WUG                            5598        9.42\n",
       "Water authority                3388        5.70\n",
       "WUA                            3097        5.21\n",
       "Water Board                    2912        4.90\n",
       "Parastatal                     1800        3.03\n",
       "Company                        1142        1.92\n",
       "Private operator               1133        1.91\n",
       "Other                           814        1.37\n",
       "SWC                             103        0.17\n",
       "Trust                            78        0.13"
      ]
     },
     "execution_count": 179,
     "metadata": {},
     "output_type": "execute_result"
    }
   ],
   "source": [
    "scheme_management_df"
   ]
  },
  {
   "cell_type": "markdown",
   "id": "f8c484b5",
   "metadata": {},
   "source": [
    "scheme_management seems to be a better organized representation of the two categories. Lets look at management_group too before adding anything to the drop list."
   ]
  },
  {
   "cell_type": "markdown",
   "id": "7ca9ad26",
   "metadata": {},
   "source": [
    "## management_group"
   ]
  },
  {
   "cell_type": "markdown",
   "id": "038fc9bc",
   "metadata": {},
   "source": [
    "The data description states that this is how the waterpoint is managed"
   ]
  },
  {
   "cell_type": "code",
   "execution_count": 181,
   "id": "30766ca3",
   "metadata": {
    "ExecuteTime": {
     "end_time": "2022-02-01T18:03:00.415342Z",
     "start_time": "2022-02-01T18:03:00.395395Z"
    }
   },
   "outputs": [
    {
     "name": "stdout",
     "output_type": "stream",
     "text": [
      "Unique values for 'management_group': 5\n",
      "--------------------------\n",
      "Unique values with a single representative: 0\n",
      "Percent of values that are single: 0.0%\n"
     ]
    }
   ],
   "source": [
    "management_group_df = value_count_report('management_group')"
   ]
  },
  {
   "cell_type": "code",
   "execution_count": 182,
   "id": "0a625c66",
   "metadata": {
    "ExecuteTime": {
     "end_time": "2022-02-01T18:03:48.697062Z",
     "start_time": "2022-02-01T18:03:48.686090Z"
    }
   },
   "outputs": [
    {
     "data": {
      "text/html": [
       "<div>\n",
       "<style scoped>\n",
       "    .dataframe tbody tr th:only-of-type {\n",
       "        vertical-align: middle;\n",
       "    }\n",
       "\n",
       "    .dataframe tbody tr th {\n",
       "        vertical-align: top;\n",
       "    }\n",
       "\n",
       "    .dataframe thead th {\n",
       "        text-align: right;\n",
       "    }\n",
       "</style>\n",
       "<table border=\"1\" class=\"dataframe\">\n",
       "  <thead>\n",
       "    <tr style=\"text-align: right;\">\n",
       "      <th></th>\n",
       "      <th>management_group</th>\n",
       "      <th>percentage</th>\n",
       "    </tr>\n",
       "  </thead>\n",
       "  <tbody>\n",
       "    <tr>\n",
       "      <th>user-group</th>\n",
       "      <td>52490</td>\n",
       "      <td>88.37</td>\n",
       "    </tr>\n",
       "    <tr>\n",
       "      <th>commercial</th>\n",
       "      <td>3638</td>\n",
       "      <td>6.12</td>\n",
       "    </tr>\n",
       "    <tr>\n",
       "      <th>parastatal</th>\n",
       "      <td>1768</td>\n",
       "      <td>2.98</td>\n",
       "    </tr>\n",
       "    <tr>\n",
       "      <th>other</th>\n",
       "      <td>943</td>\n",
       "      <td>1.59</td>\n",
       "    </tr>\n",
       "    <tr>\n",
       "      <th>unknown</th>\n",
       "      <td>561</td>\n",
       "      <td>0.94</td>\n",
       "    </tr>\n",
       "  </tbody>\n",
       "</table>\n",
       "</div>"
      ],
      "text/plain": [
       "            management_group  percentage\n",
       "user-group             52490       88.37\n",
       "commercial              3638        6.12\n",
       "parastatal              1768        2.98\n",
       "other                    943        1.59\n",
       "unknown                  561        0.94"
      ]
     },
     "execution_count": 182,
     "metadata": {},
     "output_type": "execute_result"
    }
   ],
   "source": [
    "management_group_df"
   ]
  },
  {
   "cell_type": "markdown",
   "id": "d978247e",
   "metadata": {},
   "source": [
    "This feature does not seem to be a kind of classification of management types. A vast majority (88.37%) are 'user-group' managed. It looks like of the management features, the one we will use is scheme_management. We will add management and management_group to the drop list."
   ]
  },
  {
   "cell_type": "code",
   "execution_count": 183,
   "id": "61069e2b",
   "metadata": {
    "ExecuteTime": {
     "end_time": "2022-02-01T18:05:46.978452Z",
     "start_time": "2022-02-01T18:05:46.969476Z"
    }
   },
   "outputs": [],
   "source": [
    "drop_list.extend(['management', 'management_group'])"
   ]
  },
  {
   "cell_type": "markdown",
   "id": "ea001ae8",
   "metadata": {},
   "source": [
    "## payment"
   ]
  },
  {
   "cell_type": "markdown",
   "id": "220063d8",
   "metadata": {},
   "source": [
    "The data description states that this is what the water costs."
   ]
  },
  {
   "cell_type": "code",
   "execution_count": 184,
   "id": "d34a631e",
   "metadata": {
    "ExecuteTime": {
     "end_time": "2022-02-01T18:07:46.441268Z",
     "start_time": "2022-02-01T18:07:46.422318Z"
    }
   },
   "outputs": [
    {
     "name": "stdout",
     "output_type": "stream",
     "text": [
      "Unique values for 'payment': 7\n",
      "--------------------------\n",
      "Unique values with a single representative: 0\n",
      "Percent of values that are single: 0.0%\n"
     ]
    }
   ],
   "source": [
    "payment_df = value_count_report('payment')"
   ]
  },
  {
   "cell_type": "code",
   "execution_count": 185,
   "id": "60ed255a",
   "metadata": {
    "ExecuteTime": {
     "end_time": "2022-02-01T18:07:50.391978Z",
     "start_time": "2022-02-01T18:07:50.370036Z"
    }
   },
   "outputs": [
    {
     "data": {
      "text/html": [
       "<div>\n",
       "<style scoped>\n",
       "    .dataframe tbody tr th:only-of-type {\n",
       "        vertical-align: middle;\n",
       "    }\n",
       "\n",
       "    .dataframe tbody tr th {\n",
       "        vertical-align: top;\n",
       "    }\n",
       "\n",
       "    .dataframe thead th {\n",
       "        text-align: right;\n",
       "    }\n",
       "</style>\n",
       "<table border=\"1\" class=\"dataframe\">\n",
       "  <thead>\n",
       "    <tr style=\"text-align: right;\">\n",
       "      <th></th>\n",
       "      <th>payment</th>\n",
       "      <th>percentage</th>\n",
       "    </tr>\n",
       "  </thead>\n",
       "  <tbody>\n",
       "    <tr>\n",
       "      <th>never pay</th>\n",
       "      <td>25348</td>\n",
       "      <td>42.67</td>\n",
       "    </tr>\n",
       "    <tr>\n",
       "      <th>pay per bucket</th>\n",
       "      <td>8985</td>\n",
       "      <td>15.13</td>\n",
       "    </tr>\n",
       "    <tr>\n",
       "      <th>pay monthly</th>\n",
       "      <td>8300</td>\n",
       "      <td>13.97</td>\n",
       "    </tr>\n",
       "    <tr>\n",
       "      <th>unknown</th>\n",
       "      <td>8157</td>\n",
       "      <td>13.73</td>\n",
       "    </tr>\n",
       "    <tr>\n",
       "      <th>pay when scheme fails</th>\n",
       "      <td>3914</td>\n",
       "      <td>6.59</td>\n",
       "    </tr>\n",
       "    <tr>\n",
       "      <th>pay annually</th>\n",
       "      <td>3642</td>\n",
       "      <td>6.13</td>\n",
       "    </tr>\n",
       "    <tr>\n",
       "      <th>other</th>\n",
       "      <td>1054</td>\n",
       "      <td>1.77</td>\n",
       "    </tr>\n",
       "  </tbody>\n",
       "</table>\n",
       "</div>"
      ],
      "text/plain": [
       "                       payment  percentage\n",
       "never pay                25348       42.67\n",
       "pay per bucket            8985       15.13\n",
       "pay monthly               8300       13.97\n",
       "unknown                   8157       13.73\n",
       "pay when scheme fails     3914        6.59\n",
       "pay annually              3642        6.13\n",
       "other                     1054        1.77"
      ]
     },
     "execution_count": 185,
     "metadata": {},
     "output_type": "execute_result"
    }
   ],
   "source": [
    "payment_df"
   ]
  },
  {
   "cell_type": "markdown",
   "id": "cf2ed168",
   "metadata": {},
   "source": [
    "We're not sure if this will be useful in a model, but the data is clean and we could encode it. Lets look at payment_type to see if there is any additional information there"
   ]
  },
  {
   "cell_type": "markdown",
   "id": "7e23e250",
   "metadata": {},
   "source": [
    "## payment_type"
   ]
  },
  {
   "cell_type": "markdown",
   "id": "122d480a",
   "metadata": {
    "ExecuteTime": {
     "end_time": "2022-02-01T18:08:35.472184Z",
     "start_time": "2022-02-01T18:08:35.464228Z"
    }
   },
   "source": [
    "The data description states that this is what the water costs."
   ]
  },
  {
   "cell_type": "code",
   "execution_count": 187,
   "id": "5054615b",
   "metadata": {
    "ExecuteTime": {
     "end_time": "2022-02-01T18:08:50.148441Z",
     "start_time": "2022-02-01T18:08:50.130459Z"
    }
   },
   "outputs": [
    {
     "name": "stdout",
     "output_type": "stream",
     "text": [
      "Unique values for 'payment_type': 7\n",
      "--------------------------\n",
      "Unique values with a single representative: 0\n",
      "Percent of values that are single: 0.0%\n"
     ]
    }
   ],
   "source": [
    "payment_type_df = value_count_report('payment_type')"
   ]
  },
  {
   "cell_type": "code",
   "execution_count": 188,
   "id": "a5692ffa",
   "metadata": {
    "ExecuteTime": {
     "end_time": "2022-02-01T18:08:55.145585Z",
     "start_time": "2022-02-01T18:08:55.124614Z"
    }
   },
   "outputs": [
    {
     "data": {
      "text/html": [
       "<div>\n",
       "<style scoped>\n",
       "    .dataframe tbody tr th:only-of-type {\n",
       "        vertical-align: middle;\n",
       "    }\n",
       "\n",
       "    .dataframe tbody tr th {\n",
       "        vertical-align: top;\n",
       "    }\n",
       "\n",
       "    .dataframe thead th {\n",
       "        text-align: right;\n",
       "    }\n",
       "</style>\n",
       "<table border=\"1\" class=\"dataframe\">\n",
       "  <thead>\n",
       "    <tr style=\"text-align: right;\">\n",
       "      <th></th>\n",
       "      <th>payment_type</th>\n",
       "      <th>percentage</th>\n",
       "    </tr>\n",
       "  </thead>\n",
       "  <tbody>\n",
       "    <tr>\n",
       "      <th>never pay</th>\n",
       "      <td>25348</td>\n",
       "      <td>42.67</td>\n",
       "    </tr>\n",
       "    <tr>\n",
       "      <th>per bucket</th>\n",
       "      <td>8985</td>\n",
       "      <td>15.13</td>\n",
       "    </tr>\n",
       "    <tr>\n",
       "      <th>monthly</th>\n",
       "      <td>8300</td>\n",
       "      <td>13.97</td>\n",
       "    </tr>\n",
       "    <tr>\n",
       "      <th>unknown</th>\n",
       "      <td>8157</td>\n",
       "      <td>13.73</td>\n",
       "    </tr>\n",
       "    <tr>\n",
       "      <th>on failure</th>\n",
       "      <td>3914</td>\n",
       "      <td>6.59</td>\n",
       "    </tr>\n",
       "    <tr>\n",
       "      <th>annually</th>\n",
       "      <td>3642</td>\n",
       "      <td>6.13</td>\n",
       "    </tr>\n",
       "    <tr>\n",
       "      <th>other</th>\n",
       "      <td>1054</td>\n",
       "      <td>1.77</td>\n",
       "    </tr>\n",
       "  </tbody>\n",
       "</table>\n",
       "</div>"
      ],
      "text/plain": [
       "            payment_type  percentage\n",
       "never pay          25348       42.67\n",
       "per bucket          8985       15.13\n",
       "monthly             8300       13.97\n",
       "unknown             8157       13.73\n",
       "on failure          3914        6.59\n",
       "annually            3642        6.13\n",
       "other               1054        1.77"
      ]
     },
     "execution_count": 188,
     "metadata": {},
     "output_type": "execute_result"
    }
   ],
   "source": [
    "payment_type_df"
   ]
  },
  {
   "cell_type": "markdown",
   "id": "7dc0233b",
   "metadata": {},
   "source": [
    "The two payment features are exactly the same. Since we didn't do it with payment, lets look at how the target is spread among these values "
   ]
  },
  {
   "cell_type": "code",
   "execution_count": 189,
   "id": "49aac825",
   "metadata": {
    "ExecuteTime": {
     "end_time": "2022-02-01T18:11:35.415155Z",
     "start_time": "2022-02-01T18:11:35.385207Z"
    }
   },
   "outputs": [
    {
     "data": {
      "text/plain": [
       "payment_type  target\n",
       "annually      0           655\n",
       "              1           247\n",
       "              2          2740\n",
       "monthly       0          1891\n",
       "              1           927\n",
       "              2          5482\n",
       "never pay     0         12062\n",
       "              1          1907\n",
       "              2         11379\n",
       "on failure    0          1208\n",
       "              1           277\n",
       "              2          2429\n",
       "other         0           325\n",
       "              1           118\n",
       "              2           611\n",
       "per bucket    0          2486\n",
       "              1           409\n",
       "              2          6090\n",
       "unknown       0          4197\n",
       "              1           432\n",
       "              2          3528\n",
       "Name: id, dtype: int64"
      ]
     },
     "execution_count": 189,
     "metadata": {},
     "output_type": "execute_result"
    }
   ],
   "source": [
    "cat_df.groupby(['payment_type', 'target'])['id'].count()"
   ]
  },
  {
   "cell_type": "markdown",
   "id": "71e03e50",
   "metadata": {},
   "source": [
    "We're still not sure that this feature will be of any importance to modeling, but we definitely don't need two of them. We will add payment_type to the drop list."
   ]
  },
  {
   "cell_type": "code",
   "execution_count": 190,
   "id": "8c3934d8",
   "metadata": {
    "ExecuteTime": {
     "end_time": "2022-02-01T18:25:30.218291Z",
     "start_time": "2022-02-01T18:25:30.214335Z"
    }
   },
   "outputs": [],
   "source": [
    "drop_list.append('payment_type')"
   ]
  },
  {
   "cell_type": "markdown",
   "id": "3130a640",
   "metadata": {},
   "source": [
    "## water_quality"
   ]
  },
  {
   "cell_type": "markdown",
   "id": "814cc297",
   "metadata": {},
   "source": [
    "The data description states that this is the quality of the water."
   ]
  },
  {
   "cell_type": "code",
   "execution_count": 191,
   "id": "2fb8ba00",
   "metadata": {
    "ExecuteTime": {
     "end_time": "2022-02-01T18:26:40.190787Z",
     "start_time": "2022-02-01T18:26:40.168862Z"
    }
   },
   "outputs": [
    {
     "name": "stdout",
     "output_type": "stream",
     "text": [
      "Unique values for 'water_quality': 8\n",
      "--------------------------\n",
      "Unique values with a single representative: 0\n",
      "Percent of values that are single: 0.0%\n"
     ]
    }
   ],
   "source": [
    "water_quality_df = value_count_report('water_quality')"
   ]
  },
  {
   "cell_type": "code",
   "execution_count": 192,
   "id": "4ff8502d",
   "metadata": {
    "ExecuteTime": {
     "end_time": "2022-02-01T18:26:45.387368Z",
     "start_time": "2022-02-01T18:26:45.367393Z"
    }
   },
   "outputs": [
    {
     "data": {
      "text/html": [
       "<div>\n",
       "<style scoped>\n",
       "    .dataframe tbody tr th:only-of-type {\n",
       "        vertical-align: middle;\n",
       "    }\n",
       "\n",
       "    .dataframe tbody tr th {\n",
       "        vertical-align: top;\n",
       "    }\n",
       "\n",
       "    .dataframe thead th {\n",
       "        text-align: right;\n",
       "    }\n",
       "</style>\n",
       "<table border=\"1\" class=\"dataframe\">\n",
       "  <thead>\n",
       "    <tr style=\"text-align: right;\">\n",
       "      <th></th>\n",
       "      <th>water_quality</th>\n",
       "      <th>percentage</th>\n",
       "    </tr>\n",
       "  </thead>\n",
       "  <tbody>\n",
       "    <tr>\n",
       "      <th>soft</th>\n",
       "      <td>50818</td>\n",
       "      <td>85.55</td>\n",
       "    </tr>\n",
       "    <tr>\n",
       "      <th>salty</th>\n",
       "      <td>4856</td>\n",
       "      <td>8.18</td>\n",
       "    </tr>\n",
       "    <tr>\n",
       "      <th>unknown</th>\n",
       "      <td>1876</td>\n",
       "      <td>3.16</td>\n",
       "    </tr>\n",
       "    <tr>\n",
       "      <th>milky</th>\n",
       "      <td>804</td>\n",
       "      <td>1.35</td>\n",
       "    </tr>\n",
       "    <tr>\n",
       "      <th>coloured</th>\n",
       "      <td>490</td>\n",
       "      <td>0.82</td>\n",
       "    </tr>\n",
       "    <tr>\n",
       "      <th>salty abandoned</th>\n",
       "      <td>339</td>\n",
       "      <td>0.57</td>\n",
       "    </tr>\n",
       "    <tr>\n",
       "      <th>fluoride</th>\n",
       "      <td>200</td>\n",
       "      <td>0.34</td>\n",
       "    </tr>\n",
       "    <tr>\n",
       "      <th>fluoride abandoned</th>\n",
       "      <td>17</td>\n",
       "      <td>0.03</td>\n",
       "    </tr>\n",
       "  </tbody>\n",
       "</table>\n",
       "</div>"
      ],
      "text/plain": [
       "                    water_quality  percentage\n",
       "soft                        50818       85.55\n",
       "salty                        4856        8.18\n",
       "unknown                      1876        3.16\n",
       "milky                         804        1.35\n",
       "coloured                      490        0.82\n",
       "salty abandoned               339        0.57\n",
       "fluoride                      200        0.34\n",
       "fluoride abandoned             17        0.03"
      ]
     },
     "execution_count": 192,
     "metadata": {},
     "output_type": "execute_result"
    }
   ],
   "source": [
    "water_quality_df"
   ]
  },
  {
   "cell_type": "markdown",
   "id": "290f5218",
   "metadata": {},
   "source": [
    "Seems like a pretty straightforward categorical, the vast majority of which is 'soft' (85.55%). Let's look at quality_group before making any decisions."
   ]
  },
  {
   "cell_type": "markdown",
   "id": "c190a7df",
   "metadata": {},
   "source": [
    "## quality_group"
   ]
  },
  {
   "cell_type": "markdown",
   "id": "27a1a876",
   "metadata": {},
   "source": [
    "The data description states that this is the quality of the water."
   ]
  },
  {
   "cell_type": "code",
   "execution_count": 193,
   "id": "9dbd89cc",
   "metadata": {
    "ExecuteTime": {
     "end_time": "2022-02-01T18:27:50.321926Z",
     "start_time": "2022-02-01T18:27:50.305939Z"
    }
   },
   "outputs": [
    {
     "name": "stdout",
     "output_type": "stream",
     "text": [
      "Unique values for 'quality_group': 6\n",
      "--------------------------\n",
      "Unique values with a single representative: 0\n",
      "Percent of values that are single: 0.0%\n"
     ]
    }
   ],
   "source": [
    "quality_group_df = value_count_report('quality_group')"
   ]
  },
  {
   "cell_type": "code",
   "execution_count": 194,
   "id": "57d15f28",
   "metadata": {
    "ExecuteTime": {
     "end_time": "2022-02-01T18:27:56.054513Z",
     "start_time": "2022-02-01T18:27:56.045537Z"
    }
   },
   "outputs": [
    {
     "data": {
      "text/html": [
       "<div>\n",
       "<style scoped>\n",
       "    .dataframe tbody tr th:only-of-type {\n",
       "        vertical-align: middle;\n",
       "    }\n",
       "\n",
       "    .dataframe tbody tr th {\n",
       "        vertical-align: top;\n",
       "    }\n",
       "\n",
       "    .dataframe thead th {\n",
       "        text-align: right;\n",
       "    }\n",
       "</style>\n",
       "<table border=\"1\" class=\"dataframe\">\n",
       "  <thead>\n",
       "    <tr style=\"text-align: right;\">\n",
       "      <th></th>\n",
       "      <th>quality_group</th>\n",
       "      <th>percentage</th>\n",
       "    </tr>\n",
       "  </thead>\n",
       "  <tbody>\n",
       "    <tr>\n",
       "      <th>good</th>\n",
       "      <td>50818</td>\n",
       "      <td>85.55</td>\n",
       "    </tr>\n",
       "    <tr>\n",
       "      <th>salty</th>\n",
       "      <td>5195</td>\n",
       "      <td>8.75</td>\n",
       "    </tr>\n",
       "    <tr>\n",
       "      <th>unknown</th>\n",
       "      <td>1876</td>\n",
       "      <td>3.16</td>\n",
       "    </tr>\n",
       "    <tr>\n",
       "      <th>milky</th>\n",
       "      <td>804</td>\n",
       "      <td>1.35</td>\n",
       "    </tr>\n",
       "    <tr>\n",
       "      <th>colored</th>\n",
       "      <td>490</td>\n",
       "      <td>0.82</td>\n",
       "    </tr>\n",
       "    <tr>\n",
       "      <th>fluoride</th>\n",
       "      <td>217</td>\n",
       "      <td>0.37</td>\n",
       "    </tr>\n",
       "  </tbody>\n",
       "</table>\n",
       "</div>"
      ],
      "text/plain": [
       "          quality_group  percentage\n",
       "good              50818       85.55\n",
       "salty              5195        8.75\n",
       "unknown            1876        3.16\n",
       "milky               804        1.35\n",
       "colored             490        0.82\n",
       "fluoride            217        0.37"
      ]
     },
     "execution_count": 194,
     "metadata": {},
     "output_type": "execute_result"
    }
   ],
   "source": [
    "quality_group_df"
   ]
  },
  {
   "cell_type": "markdown",
   "id": "fc977986",
   "metadata": {},
   "source": [
    "This feature repeats some of the same values of water_quality, but consolidates others. There is still a massive over-representation of the 'good' value, which for quality was listed as 'soft' (they have the same value counts).\n",
    "\n",
    "We will use quality_group (encoded) rather than water_quality, so we'll add that to the drop list"
   ]
  },
  {
   "cell_type": "code",
   "execution_count": 195,
   "id": "5e2c9aa7",
   "metadata": {
    "ExecuteTime": {
     "end_time": "2022-02-01T18:30:40.069519Z",
     "start_time": "2022-02-01T18:30:40.057548Z"
    }
   },
   "outputs": [],
   "source": [
    "drop_list.append('water_quality')"
   ]
  },
  {
   "cell_type": "markdown",
   "id": "53229a3a",
   "metadata": {},
   "source": [
    "## quantity"
   ]
  },
  {
   "cell_type": "markdown",
   "id": "0b1bd0ad",
   "metadata": {},
   "source": [
    "The data description states that this is the quantity of the water."
   ]
  },
  {
   "cell_type": "code",
   "execution_count": 197,
   "id": "c1cf1152",
   "metadata": {
    "ExecuteTime": {
     "end_time": "2022-02-01T18:33:09.089181Z",
     "start_time": "2022-02-01T18:33:09.062226Z"
    }
   },
   "outputs": [
    {
     "name": "stdout",
     "output_type": "stream",
     "text": [
      "Unique values for 'quantity': 5\n",
      "--------------------------\n",
      "Unique values with a single representative: 0\n",
      "Percent of values that are single: 0.0%\n"
     ]
    }
   ],
   "source": [
    "quantity_df = value_count_report('quantity')"
   ]
  },
  {
   "cell_type": "code",
   "execution_count": 198,
   "id": "b0a4e80f",
   "metadata": {
    "ExecuteTime": {
     "end_time": "2022-02-01T18:33:15.056426Z",
     "start_time": "2022-02-01T18:33:15.046452Z"
    }
   },
   "outputs": [
    {
     "data": {
      "text/html": [
       "<div>\n",
       "<style scoped>\n",
       "    .dataframe tbody tr th:only-of-type {\n",
       "        vertical-align: middle;\n",
       "    }\n",
       "\n",
       "    .dataframe tbody tr th {\n",
       "        vertical-align: top;\n",
       "    }\n",
       "\n",
       "    .dataframe thead th {\n",
       "        text-align: right;\n",
       "    }\n",
       "</style>\n",
       "<table border=\"1\" class=\"dataframe\">\n",
       "  <thead>\n",
       "    <tr style=\"text-align: right;\">\n",
       "      <th></th>\n",
       "      <th>quantity</th>\n",
       "      <th>percentage</th>\n",
       "    </tr>\n",
       "  </thead>\n",
       "  <tbody>\n",
       "    <tr>\n",
       "      <th>enough</th>\n",
       "      <td>33186</td>\n",
       "      <td>55.87</td>\n",
       "    </tr>\n",
       "    <tr>\n",
       "      <th>insufficient</th>\n",
       "      <td>15129</td>\n",
       "      <td>25.47</td>\n",
       "    </tr>\n",
       "    <tr>\n",
       "      <th>dry</th>\n",
       "      <td>6246</td>\n",
       "      <td>10.52</td>\n",
       "    </tr>\n",
       "    <tr>\n",
       "      <th>seasonal</th>\n",
       "      <td>4050</td>\n",
       "      <td>6.82</td>\n",
       "    </tr>\n",
       "    <tr>\n",
       "      <th>unknown</th>\n",
       "      <td>789</td>\n",
       "      <td>1.33</td>\n",
       "    </tr>\n",
       "  </tbody>\n",
       "</table>\n",
       "</div>"
      ],
      "text/plain": [
       "              quantity  percentage\n",
       "enough           33186       55.87\n",
       "insufficient     15129       25.47\n",
       "dry               6246       10.52\n",
       "seasonal          4050        6.82\n",
       "unknown            789        1.33"
      ]
     },
     "execution_count": 198,
     "metadata": {},
     "output_type": "execute_result"
    }
   ],
   "source": [
    "quantity_df"
   ]
  },
  {
   "cell_type": "markdown",
   "id": "a42b7b8f",
   "metadata": {},
   "source": [
    "We will examine quantity_group before deciding which one to keep."
   ]
  },
  {
   "cell_type": "markdown",
   "id": "8e0114f6",
   "metadata": {},
   "source": [
    "## quantity_group"
   ]
  },
  {
   "cell_type": "markdown",
   "id": "61de8aa9",
   "metadata": {},
   "source": [
    "The data description states that this is the quantity of the water."
   ]
  },
  {
   "cell_type": "code",
   "execution_count": 199,
   "id": "59117c7d",
   "metadata": {
    "ExecuteTime": {
     "end_time": "2022-02-01T18:34:01.749705Z",
     "start_time": "2022-02-01T18:34:01.725741Z"
    }
   },
   "outputs": [
    {
     "name": "stdout",
     "output_type": "stream",
     "text": [
      "Unique values for 'quantity_group': 5\n",
      "--------------------------\n",
      "Unique values with a single representative: 0\n",
      "Percent of values that are single: 0.0%\n"
     ]
    }
   ],
   "source": [
    "quantity_group_df = value_count_report('quantity_group')"
   ]
  },
  {
   "cell_type": "code",
   "execution_count": 200,
   "id": "37e8370b",
   "metadata": {
    "ExecuteTime": {
     "end_time": "2022-02-01T18:34:16.469400Z",
     "start_time": "2022-02-01T18:34:16.447458Z"
    }
   },
   "outputs": [
    {
     "data": {
      "text/html": [
       "<div>\n",
       "<style scoped>\n",
       "    .dataframe tbody tr th:only-of-type {\n",
       "        vertical-align: middle;\n",
       "    }\n",
       "\n",
       "    .dataframe tbody tr th {\n",
       "        vertical-align: top;\n",
       "    }\n",
       "\n",
       "    .dataframe thead th {\n",
       "        text-align: right;\n",
       "    }\n",
       "</style>\n",
       "<table border=\"1\" class=\"dataframe\">\n",
       "  <thead>\n",
       "    <tr style=\"text-align: right;\">\n",
       "      <th></th>\n",
       "      <th>quantity_group</th>\n",
       "      <th>percentage</th>\n",
       "    </tr>\n",
       "  </thead>\n",
       "  <tbody>\n",
       "    <tr>\n",
       "      <th>enough</th>\n",
       "      <td>33186</td>\n",
       "      <td>55.87</td>\n",
       "    </tr>\n",
       "    <tr>\n",
       "      <th>insufficient</th>\n",
       "      <td>15129</td>\n",
       "      <td>25.47</td>\n",
       "    </tr>\n",
       "    <tr>\n",
       "      <th>dry</th>\n",
       "      <td>6246</td>\n",
       "      <td>10.52</td>\n",
       "    </tr>\n",
       "    <tr>\n",
       "      <th>seasonal</th>\n",
       "      <td>4050</td>\n",
       "      <td>6.82</td>\n",
       "    </tr>\n",
       "    <tr>\n",
       "      <th>unknown</th>\n",
       "      <td>789</td>\n",
       "      <td>1.33</td>\n",
       "    </tr>\n",
       "  </tbody>\n",
       "</table>\n",
       "</div>"
      ],
      "text/plain": [
       "              quantity_group  percentage\n",
       "enough                 33186       55.87\n",
       "insufficient           15129       25.47\n",
       "dry                     6246       10.52\n",
       "seasonal                4050        6.82\n",
       "unknown                  789        1.33"
      ]
     },
     "execution_count": 200,
     "metadata": {},
     "output_type": "execute_result"
    }
   ],
   "source": [
    "quantity_group_df"
   ]
  },
  {
   "cell_type": "markdown",
   "id": "6459c342",
   "metadata": {},
   "source": [
    "These features are both exactly the same. We will add quantity_group the drop list."
   ]
  },
  {
   "cell_type": "code",
   "execution_count": 201,
   "id": "940748ae",
   "metadata": {
    "ExecuteTime": {
     "end_time": "2022-02-01T18:34:56.492586Z",
     "start_time": "2022-02-01T18:34:56.482620Z"
    }
   },
   "outputs": [],
   "source": [
    "drop_list.append('quantity_group')"
   ]
  },
  {
   "cell_type": "markdown",
   "id": "99ed61ea",
   "metadata": {},
   "source": [
    "## source"
   ]
  },
  {
   "cell_type": "markdown",
   "id": "063196cc",
   "metadata": {},
   "source": [
    "The data description states that this is the source of the water."
   ]
  },
  {
   "cell_type": "code",
   "execution_count": 202,
   "id": "7fc25530",
   "metadata": {
    "ExecuteTime": {
     "end_time": "2022-02-01T18:35:13.324601Z",
     "start_time": "2022-02-01T18:35:13.305637Z"
    }
   },
   "outputs": [
    {
     "name": "stdout",
     "output_type": "stream",
     "text": [
      "Unique values for 'source': 10\n",
      "--------------------------\n",
      "Unique values with a single representative: 0\n",
      "Percent of values that are single: 0.0%\n"
     ]
    }
   ],
   "source": [
    "source_df = value_count_report('source')"
   ]
  },
  {
   "cell_type": "code",
   "execution_count": 203,
   "id": "8da0f294",
   "metadata": {
    "ExecuteTime": {
     "end_time": "2022-02-01T18:35:19.180805Z",
     "start_time": "2022-02-01T18:35:19.167839Z"
    }
   },
   "outputs": [
    {
     "data": {
      "text/html": [
       "<div>\n",
       "<style scoped>\n",
       "    .dataframe tbody tr th:only-of-type {\n",
       "        vertical-align: middle;\n",
       "    }\n",
       "\n",
       "    .dataframe tbody tr th {\n",
       "        vertical-align: top;\n",
       "    }\n",
       "\n",
       "    .dataframe thead th {\n",
       "        text-align: right;\n",
       "    }\n",
       "</style>\n",
       "<table border=\"1\" class=\"dataframe\">\n",
       "  <thead>\n",
       "    <tr style=\"text-align: right;\">\n",
       "      <th></th>\n",
       "      <th>source</th>\n",
       "      <th>percentage</th>\n",
       "    </tr>\n",
       "  </thead>\n",
       "  <tbody>\n",
       "    <tr>\n",
       "      <th>spring</th>\n",
       "      <td>17021</td>\n",
       "      <td>28.65</td>\n",
       "    </tr>\n",
       "    <tr>\n",
       "      <th>shallow well</th>\n",
       "      <td>16824</td>\n",
       "      <td>28.32</td>\n",
       "    </tr>\n",
       "    <tr>\n",
       "      <th>machine dbh</th>\n",
       "      <td>11075</td>\n",
       "      <td>18.64</td>\n",
       "    </tr>\n",
       "    <tr>\n",
       "      <th>river</th>\n",
       "      <td>9612</td>\n",
       "      <td>16.18</td>\n",
       "    </tr>\n",
       "    <tr>\n",
       "      <th>rainwater harvesting</th>\n",
       "      <td>2295</td>\n",
       "      <td>3.86</td>\n",
       "    </tr>\n",
       "    <tr>\n",
       "      <th>hand dtw</th>\n",
       "      <td>874</td>\n",
       "      <td>1.47</td>\n",
       "    </tr>\n",
       "    <tr>\n",
       "      <th>lake</th>\n",
       "      <td>765</td>\n",
       "      <td>1.29</td>\n",
       "    </tr>\n",
       "    <tr>\n",
       "      <th>dam</th>\n",
       "      <td>656</td>\n",
       "      <td>1.10</td>\n",
       "    </tr>\n",
       "    <tr>\n",
       "      <th>other</th>\n",
       "      <td>212</td>\n",
       "      <td>0.36</td>\n",
       "    </tr>\n",
       "    <tr>\n",
       "      <th>unknown</th>\n",
       "      <td>66</td>\n",
       "      <td>0.11</td>\n",
       "    </tr>\n",
       "  </tbody>\n",
       "</table>\n",
       "</div>"
      ],
      "text/plain": [
       "                      source  percentage\n",
       "spring                 17021       28.65\n",
       "shallow well           16824       28.32\n",
       "machine dbh            11075       18.64\n",
       "river                   9612       16.18\n",
       "rainwater harvesting    2295        3.86\n",
       "hand dtw                 874        1.47\n",
       "lake                     765        1.29\n",
       "dam                      656        1.10\n",
       "other                    212        0.36\n",
       "unknown                   66        0.11"
      ]
     },
     "execution_count": 203,
     "metadata": {},
     "output_type": "execute_result"
    }
   ],
   "source": [
    "source_df"
   ]
  },
  {
   "cell_type": "markdown",
   "id": "b6fde621",
   "metadata": {},
   "source": [
    "There are two other source features: source_type and source_class. We will run our value_count_report and show the dataframe for the other two and decide how to handle all three features."
   ]
  },
  {
   "cell_type": "markdown",
   "id": "ef2f3c24",
   "metadata": {},
   "source": [
    "## source_type"
   ]
  },
  {
   "cell_type": "markdown",
   "id": "9b609780",
   "metadata": {},
   "source": [
    "The data description states that this is the source of the water."
   ]
  },
  {
   "cell_type": "code",
   "execution_count": 204,
   "id": "b2820002",
   "metadata": {
    "ExecuteTime": {
     "end_time": "2022-02-01T18:36:21.690194Z",
     "start_time": "2022-02-01T18:36:21.661301Z"
    }
   },
   "outputs": [
    {
     "name": "stdout",
     "output_type": "stream",
     "text": [
      "Unique values for 'source_type': 7\n",
      "--------------------------\n",
      "Unique values with a single representative: 0\n",
      "Percent of values that are single: 0.0%\n"
     ]
    }
   ],
   "source": [
    "source_type_df = value_count_report('source_type')"
   ]
  },
  {
   "cell_type": "code",
   "execution_count": 205,
   "id": "ac159ba3",
   "metadata": {
    "ExecuteTime": {
     "end_time": "2022-02-01T18:36:27.800817Z",
     "start_time": "2022-02-01T18:36:27.785858Z"
    }
   },
   "outputs": [
    {
     "data": {
      "text/html": [
       "<div>\n",
       "<style scoped>\n",
       "    .dataframe tbody tr th:only-of-type {\n",
       "        vertical-align: middle;\n",
       "    }\n",
       "\n",
       "    .dataframe tbody tr th {\n",
       "        vertical-align: top;\n",
       "    }\n",
       "\n",
       "    .dataframe thead th {\n",
       "        text-align: right;\n",
       "    }\n",
       "</style>\n",
       "<table border=\"1\" class=\"dataframe\">\n",
       "  <thead>\n",
       "    <tr style=\"text-align: right;\">\n",
       "      <th></th>\n",
       "      <th>source_type</th>\n",
       "      <th>percentage</th>\n",
       "    </tr>\n",
       "  </thead>\n",
       "  <tbody>\n",
       "    <tr>\n",
       "      <th>spring</th>\n",
       "      <td>17021</td>\n",
       "      <td>28.65</td>\n",
       "    </tr>\n",
       "    <tr>\n",
       "      <th>shallow well</th>\n",
       "      <td>16824</td>\n",
       "      <td>28.32</td>\n",
       "    </tr>\n",
       "    <tr>\n",
       "      <th>borehole</th>\n",
       "      <td>11949</td>\n",
       "      <td>20.12</td>\n",
       "    </tr>\n",
       "    <tr>\n",
       "      <th>river/lake</th>\n",
       "      <td>10377</td>\n",
       "      <td>17.47</td>\n",
       "    </tr>\n",
       "    <tr>\n",
       "      <th>rainwater harvesting</th>\n",
       "      <td>2295</td>\n",
       "      <td>3.86</td>\n",
       "    </tr>\n",
       "    <tr>\n",
       "      <th>dam</th>\n",
       "      <td>656</td>\n",
       "      <td>1.10</td>\n",
       "    </tr>\n",
       "    <tr>\n",
       "      <th>other</th>\n",
       "      <td>278</td>\n",
       "      <td>0.47</td>\n",
       "    </tr>\n",
       "  </tbody>\n",
       "</table>\n",
       "</div>"
      ],
      "text/plain": [
       "                      source_type  percentage\n",
       "spring                      17021       28.65\n",
       "shallow well                16824       28.32\n",
       "borehole                    11949       20.12\n",
       "river/lake                  10377       17.47\n",
       "rainwater harvesting         2295        3.86\n",
       "dam                           656        1.10\n",
       "other                         278        0.47"
      ]
     },
     "execution_count": 205,
     "metadata": {},
     "output_type": "execute_result"
    }
   ],
   "source": [
    "source_type_df"
   ]
  },
  {
   "cell_type": "markdown",
   "id": "44251546",
   "metadata": {},
   "source": [
    "It looks like source_type is a bit more consolidated than source. Let's check source_class."
   ]
  },
  {
   "cell_type": "markdown",
   "id": "00d125f8",
   "metadata": {},
   "source": [
    "## source_class"
   ]
  },
  {
   "cell_type": "markdown",
   "id": "cd42898c",
   "metadata": {},
   "source": [
    "The data description states that this is the source of the water."
   ]
  },
  {
   "cell_type": "code",
   "execution_count": 207,
   "id": "c7a3ef15",
   "metadata": {
    "ExecuteTime": {
     "end_time": "2022-02-01T18:37:39.435985Z",
     "start_time": "2022-02-01T18:37:39.414043Z"
    }
   },
   "outputs": [
    {
     "name": "stdout",
     "output_type": "stream",
     "text": [
      "Unique values for 'source_class': 3\n",
      "--------------------------\n",
      "Unique values with a single representative: 0\n",
      "Percent of values that are single: 0.0%\n"
     ]
    }
   ],
   "source": [
    "source_class_df = value_count_report('source_class')"
   ]
  },
  {
   "cell_type": "code",
   "execution_count": 208,
   "id": "cae859d9",
   "metadata": {
    "ExecuteTime": {
     "end_time": "2022-02-01T18:37:44.466844Z",
     "start_time": "2022-02-01T18:37:44.449888Z"
    }
   },
   "outputs": [
    {
     "data": {
      "text/html": [
       "<div>\n",
       "<style scoped>\n",
       "    .dataframe tbody tr th:only-of-type {\n",
       "        vertical-align: middle;\n",
       "    }\n",
       "\n",
       "    .dataframe tbody tr th {\n",
       "        vertical-align: top;\n",
       "    }\n",
       "\n",
       "    .dataframe thead th {\n",
       "        text-align: right;\n",
       "    }\n",
       "</style>\n",
       "<table border=\"1\" class=\"dataframe\">\n",
       "  <thead>\n",
       "    <tr style=\"text-align: right;\">\n",
       "      <th></th>\n",
       "      <th>source_class</th>\n",
       "      <th>percentage</th>\n",
       "    </tr>\n",
       "  </thead>\n",
       "  <tbody>\n",
       "    <tr>\n",
       "      <th>groundwater</th>\n",
       "      <td>45794</td>\n",
       "      <td>77.09</td>\n",
       "    </tr>\n",
       "    <tr>\n",
       "      <th>surface</th>\n",
       "      <td>13328</td>\n",
       "      <td>22.44</td>\n",
       "    </tr>\n",
       "    <tr>\n",
       "      <th>unknown</th>\n",
       "      <td>278</td>\n",
       "      <td>0.47</td>\n",
       "    </tr>\n",
       "  </tbody>\n",
       "</table>\n",
       "</div>"
      ],
      "text/plain": [
       "             source_class  percentage\n",
       "groundwater         45794       77.09\n",
       "surface             13328       22.44\n",
       "unknown               278        0.47"
      ]
     },
     "execution_count": 208,
     "metadata": {},
     "output_type": "execute_result"
    }
   ],
   "source": [
    "source_class_df"
   ]
  },
  {
   "cell_type": "markdown",
   "id": "67226c42",
   "metadata": {},
   "source": [
    "I think this is too few value types, it's pretty much either groundwater or surface water. We can get a little more specific with source_type. Source type consolidated river and lake together, and unknown into other, and the two borehole categories into one. We will add source and source_class to the drop list."
   ]
  },
  {
   "cell_type": "code",
   "execution_count": 209,
   "id": "dcd5278c",
   "metadata": {
    "ExecuteTime": {
     "end_time": "2022-02-01T18:40:16.750260Z",
     "start_time": "2022-02-01T18:40:16.735272Z"
    }
   },
   "outputs": [],
   "source": [
    "drop_list.extend(['source', 'source_class'])"
   ]
  },
  {
   "cell_type": "markdown",
   "id": "0e7805e0",
   "metadata": {},
   "source": [
    "## waterpoint_type"
   ]
  },
  {
   "cell_type": "markdown",
   "id": "4b9b0de7",
   "metadata": {},
   "source": [
    "The data description states that this is the kind of waterpoint."
   ]
  },
  {
   "cell_type": "code",
   "execution_count": 212,
   "id": "c9fd5a8f",
   "metadata": {
    "ExecuteTime": {
     "end_time": "2022-02-01T18:40:48.273683Z",
     "start_time": "2022-02-01T18:40:48.243736Z"
    }
   },
   "outputs": [
    {
     "name": "stdout",
     "output_type": "stream",
     "text": [
      "Unique values for 'waterpoint_type': 7\n",
      "--------------------------\n",
      "Unique values with a single representative: 0\n",
      "Percent of values that are single: 0.0%\n"
     ]
    }
   ],
   "source": [
    "waterpoint_type_df = value_count_report('waterpoint_type')"
   ]
  },
  {
   "cell_type": "code",
   "execution_count": 213,
   "id": "302bed20",
   "metadata": {
    "ExecuteTime": {
     "end_time": "2022-02-01T18:40:53.419657Z",
     "start_time": "2022-02-01T18:40:53.397716Z"
    }
   },
   "outputs": [
    {
     "data": {
      "text/html": [
       "<div>\n",
       "<style scoped>\n",
       "    .dataframe tbody tr th:only-of-type {\n",
       "        vertical-align: middle;\n",
       "    }\n",
       "\n",
       "    .dataframe tbody tr th {\n",
       "        vertical-align: top;\n",
       "    }\n",
       "\n",
       "    .dataframe thead th {\n",
       "        text-align: right;\n",
       "    }\n",
       "</style>\n",
       "<table border=\"1\" class=\"dataframe\">\n",
       "  <thead>\n",
       "    <tr style=\"text-align: right;\">\n",
       "      <th></th>\n",
       "      <th>waterpoint_type</th>\n",
       "      <th>percentage</th>\n",
       "    </tr>\n",
       "  </thead>\n",
       "  <tbody>\n",
       "    <tr>\n",
       "      <th>communal standpipe</th>\n",
       "      <td>28522</td>\n",
       "      <td>48.02</td>\n",
       "    </tr>\n",
       "    <tr>\n",
       "      <th>hand pump</th>\n",
       "      <td>17488</td>\n",
       "      <td>29.44</td>\n",
       "    </tr>\n",
       "    <tr>\n",
       "      <th>other</th>\n",
       "      <td>6380</td>\n",
       "      <td>10.74</td>\n",
       "    </tr>\n",
       "    <tr>\n",
       "      <th>communal standpipe multiple</th>\n",
       "      <td>6103</td>\n",
       "      <td>10.27</td>\n",
       "    </tr>\n",
       "    <tr>\n",
       "      <th>improved spring</th>\n",
       "      <td>784</td>\n",
       "      <td>1.32</td>\n",
       "    </tr>\n",
       "    <tr>\n",
       "      <th>cattle trough</th>\n",
       "      <td>116</td>\n",
       "      <td>0.20</td>\n",
       "    </tr>\n",
       "    <tr>\n",
       "      <th>dam</th>\n",
       "      <td>7</td>\n",
       "      <td>0.01</td>\n",
       "    </tr>\n",
       "  </tbody>\n",
       "</table>\n",
       "</div>"
      ],
      "text/plain": [
       "                             waterpoint_type  percentage\n",
       "communal standpipe                     28522       48.02\n",
       "hand pump                              17488       29.44\n",
       "other                                   6380       10.74\n",
       "communal standpipe multiple             6103       10.27\n",
       "improved spring                          784        1.32\n",
       "cattle trough                            116        0.20\n",
       "dam                                        7        0.01"
      ]
     },
     "execution_count": 213,
     "metadata": {},
     "output_type": "execute_result"
    }
   ],
   "source": [
    "waterpoint_type_df"
   ]
  },
  {
   "cell_type": "markdown",
   "id": "e4165e03",
   "metadata": {},
   "source": [
    "We have a second feature to check out before making any decisions."
   ]
  },
  {
   "cell_type": "markdown",
   "id": "ae7e25e6",
   "metadata": {},
   "source": [
    "## waterpoint_type_group"
   ]
  },
  {
   "cell_type": "markdown",
   "id": "5b664fe1",
   "metadata": {},
   "source": [
    "The data description states that this is the kind of waterpoint."
   ]
  },
  {
   "cell_type": "code",
   "execution_count": 214,
   "id": "06c143fb",
   "metadata": {
    "ExecuteTime": {
     "end_time": "2022-02-01T18:41:49.145171Z",
     "start_time": "2022-02-01T18:41:49.130221Z"
    }
   },
   "outputs": [
    {
     "name": "stdout",
     "output_type": "stream",
     "text": [
      "Unique values for 'waterpoint_type_group': 6\n",
      "--------------------------\n",
      "Unique values with a single representative: 0\n",
      "Percent of values that are single: 0.0%\n"
     ]
    }
   ],
   "source": [
    "waterpoint_type_group_df = value_count_report('waterpoint_type_group')"
   ]
  },
  {
   "cell_type": "code",
   "execution_count": 215,
   "id": "091e35c9",
   "metadata": {
    "ExecuteTime": {
     "end_time": "2022-02-01T18:41:55.445332Z",
     "start_time": "2022-02-01T18:41:55.430345Z"
    }
   },
   "outputs": [
    {
     "data": {
      "text/html": [
       "<div>\n",
       "<style scoped>\n",
       "    .dataframe tbody tr th:only-of-type {\n",
       "        vertical-align: middle;\n",
       "    }\n",
       "\n",
       "    .dataframe tbody tr th {\n",
       "        vertical-align: top;\n",
       "    }\n",
       "\n",
       "    .dataframe thead th {\n",
       "        text-align: right;\n",
       "    }\n",
       "</style>\n",
       "<table border=\"1\" class=\"dataframe\">\n",
       "  <thead>\n",
       "    <tr style=\"text-align: right;\">\n",
       "      <th></th>\n",
       "      <th>waterpoint_type_group</th>\n",
       "      <th>percentage</th>\n",
       "    </tr>\n",
       "  </thead>\n",
       "  <tbody>\n",
       "    <tr>\n",
       "      <th>communal standpipe</th>\n",
       "      <td>34625</td>\n",
       "      <td>58.29</td>\n",
       "    </tr>\n",
       "    <tr>\n",
       "      <th>hand pump</th>\n",
       "      <td>17488</td>\n",
       "      <td>29.44</td>\n",
       "    </tr>\n",
       "    <tr>\n",
       "      <th>other</th>\n",
       "      <td>6380</td>\n",
       "      <td>10.74</td>\n",
       "    </tr>\n",
       "    <tr>\n",
       "      <th>improved spring</th>\n",
       "      <td>784</td>\n",
       "      <td>1.32</td>\n",
       "    </tr>\n",
       "    <tr>\n",
       "      <th>cattle trough</th>\n",
       "      <td>116</td>\n",
       "      <td>0.20</td>\n",
       "    </tr>\n",
       "    <tr>\n",
       "      <th>dam</th>\n",
       "      <td>7</td>\n",
       "      <td>0.01</td>\n",
       "    </tr>\n",
       "  </tbody>\n",
       "</table>\n",
       "</div>"
      ],
      "text/plain": [
       "                    waterpoint_type_group  percentage\n",
       "communal standpipe                  34625       58.29\n",
       "hand pump                           17488       29.44\n",
       "other                                6380       10.74\n",
       "improved spring                       784        1.32\n",
       "cattle trough                         116        0.20\n",
       "dam                                     7        0.01"
      ]
     },
     "execution_count": 215,
     "metadata": {},
     "output_type": "execute_result"
    }
   ],
   "source": [
    "waterpoint_type_group_df"
   ]
  },
  {
   "cell_type": "markdown",
   "id": "2c915b82",
   "metadata": {},
   "source": [
    "The second waterpoint_type feature consolidated the standpipes together. I would say we keep them separate, use waterpoint_type and add waterpoint_type_group to the drop list."
   ]
  },
  {
   "cell_type": "code",
   "execution_count": 216,
   "id": "802ae0c7",
   "metadata": {
    "ExecuteTime": {
     "end_time": "2022-02-01T18:44:15.268164Z",
     "start_time": "2022-02-01T18:44:15.256177Z"
    }
   },
   "outputs": [],
   "source": [
    "drop_list.append('waterpoint_type_group')"
   ]
  },
  {
   "cell_type": "markdown",
   "id": "ce4deadb",
   "metadata": {},
   "source": [
    "# Encoding categoricals"
   ]
  },
  {
   "cell_type": "code",
   "execution_count": 220,
   "id": "bc63875c",
   "metadata": {
    "ExecuteTime": {
     "end_time": "2022-02-01T19:02:05.453782Z",
     "start_time": "2022-02-01T19:02:05.431850Z"
    }
   },
   "outputs": [],
   "source": [
    "raw_cat_df = cat_df.drop(drop_list, axis=1)\n",
    "\n",
    "# we also need to drop the target from this dataframe to encode it all\n",
    "raw_cat_df.drop('target', axis=1, inplace=True)"
   ]
  },
  {
   "cell_type": "code",
   "execution_count": 221,
   "id": "993bd47d",
   "metadata": {
    "ExecuteTime": {
     "end_time": "2022-02-01T19:02:07.369872Z",
     "start_time": "2022-02-01T19:02:07.347935Z"
    }
   },
   "outputs": [
    {
     "data": {
      "text/html": [
       "<div>\n",
       "<style scoped>\n",
       "    .dataframe tbody tr th:only-of-type {\n",
       "        vertical-align: middle;\n",
       "    }\n",
       "\n",
       "    .dataframe tbody tr th {\n",
       "        vertical-align: top;\n",
       "    }\n",
       "\n",
       "    .dataframe thead th {\n",
       "        text-align: right;\n",
       "    }\n",
       "</style>\n",
       "<table border=\"1\" class=\"dataframe\">\n",
       "  <thead>\n",
       "    <tr style=\"text-align: right;\">\n",
       "      <th></th>\n",
       "      <th>id</th>\n",
       "      <th>basin</th>\n",
       "      <th>region</th>\n",
       "      <th>lga</th>\n",
       "      <th>ward</th>\n",
       "      <th>public_meeting</th>\n",
       "      <th>scheme_management</th>\n",
       "      <th>permit</th>\n",
       "      <th>extraction_type_class</th>\n",
       "      <th>payment</th>\n",
       "      <th>quality_group</th>\n",
       "      <th>quantity</th>\n",
       "      <th>source_type</th>\n",
       "      <th>waterpoint_type</th>\n",
       "    </tr>\n",
       "  </thead>\n",
       "  <tbody>\n",
       "    <tr>\n",
       "      <th>0</th>\n",
       "      <td>69572</td>\n",
       "      <td>Lake Nyasa</td>\n",
       "      <td>Iringa</td>\n",
       "      <td>Ludewa</td>\n",
       "      <td>Mundindi</td>\n",
       "      <td>True</td>\n",
       "      <td>VWC</td>\n",
       "      <td>False</td>\n",
       "      <td>gravity</td>\n",
       "      <td>pay annually</td>\n",
       "      <td>good</td>\n",
       "      <td>enough</td>\n",
       "      <td>spring</td>\n",
       "      <td>communal standpipe</td>\n",
       "    </tr>\n",
       "    <tr>\n",
       "      <th>1</th>\n",
       "      <td>8776</td>\n",
       "      <td>Lake Victoria</td>\n",
       "      <td>Mara</td>\n",
       "      <td>Serengeti</td>\n",
       "      <td>Natta</td>\n",
       "      <td>True</td>\n",
       "      <td>Other</td>\n",
       "      <td>True</td>\n",
       "      <td>gravity</td>\n",
       "      <td>never pay</td>\n",
       "      <td>good</td>\n",
       "      <td>insufficient</td>\n",
       "      <td>rainwater harvesting</td>\n",
       "      <td>communal standpipe</td>\n",
       "    </tr>\n",
       "    <tr>\n",
       "      <th>2</th>\n",
       "      <td>34310</td>\n",
       "      <td>Pangani</td>\n",
       "      <td>Manyara</td>\n",
       "      <td>Simanjiro</td>\n",
       "      <td>Ngorika</td>\n",
       "      <td>True</td>\n",
       "      <td>VWC</td>\n",
       "      <td>True</td>\n",
       "      <td>gravity</td>\n",
       "      <td>pay per bucket</td>\n",
       "      <td>good</td>\n",
       "      <td>enough</td>\n",
       "      <td>dam</td>\n",
       "      <td>communal standpipe multiple</td>\n",
       "    </tr>\n",
       "    <tr>\n",
       "      <th>3</th>\n",
       "      <td>67743</td>\n",
       "      <td>Ruvuma / Southern Coast</td>\n",
       "      <td>Mtwara</td>\n",
       "      <td>Nanyumbu</td>\n",
       "      <td>Nanyumbu</td>\n",
       "      <td>True</td>\n",
       "      <td>VWC</td>\n",
       "      <td>True</td>\n",
       "      <td>submersible</td>\n",
       "      <td>never pay</td>\n",
       "      <td>good</td>\n",
       "      <td>dry</td>\n",
       "      <td>borehole</td>\n",
       "      <td>communal standpipe multiple</td>\n",
       "    </tr>\n",
       "    <tr>\n",
       "      <th>4</th>\n",
       "      <td>19728</td>\n",
       "      <td>Lake Victoria</td>\n",
       "      <td>Kagera</td>\n",
       "      <td>Karagwe</td>\n",
       "      <td>Nyakasimbi</td>\n",
       "      <td>True</td>\n",
       "      <td>VWC</td>\n",
       "      <td>True</td>\n",
       "      <td>gravity</td>\n",
       "      <td>never pay</td>\n",
       "      <td>good</td>\n",
       "      <td>seasonal</td>\n",
       "      <td>rainwater harvesting</td>\n",
       "      <td>communal standpipe</td>\n",
       "    </tr>\n",
       "    <tr>\n",
       "      <th>...</th>\n",
       "      <td>...</td>\n",
       "      <td>...</td>\n",
       "      <td>...</td>\n",
       "      <td>...</td>\n",
       "      <td>...</td>\n",
       "      <td>...</td>\n",
       "      <td>...</td>\n",
       "      <td>...</td>\n",
       "      <td>...</td>\n",
       "      <td>...</td>\n",
       "      <td>...</td>\n",
       "      <td>...</td>\n",
       "      <td>...</td>\n",
       "      <td>...</td>\n",
       "    </tr>\n",
       "    <tr>\n",
       "      <th>59395</th>\n",
       "      <td>60739</td>\n",
       "      <td>Pangani</td>\n",
       "      <td>Kilimanjaro</td>\n",
       "      <td>Hai</td>\n",
       "      <td>Masama Magharibi</td>\n",
       "      <td>True</td>\n",
       "      <td>Water Board</td>\n",
       "      <td>True</td>\n",
       "      <td>gravity</td>\n",
       "      <td>pay per bucket</td>\n",
       "      <td>good</td>\n",
       "      <td>enough</td>\n",
       "      <td>spring</td>\n",
       "      <td>communal standpipe</td>\n",
       "    </tr>\n",
       "    <tr>\n",
       "      <th>59396</th>\n",
       "      <td>27263</td>\n",
       "      <td>Rufiji</td>\n",
       "      <td>Iringa</td>\n",
       "      <td>Njombe</td>\n",
       "      <td>Ikondo</td>\n",
       "      <td>True</td>\n",
       "      <td>VWC</td>\n",
       "      <td>True</td>\n",
       "      <td>gravity</td>\n",
       "      <td>pay annually</td>\n",
       "      <td>good</td>\n",
       "      <td>enough</td>\n",
       "      <td>river/lake</td>\n",
       "      <td>communal standpipe</td>\n",
       "    </tr>\n",
       "    <tr>\n",
       "      <th>59397</th>\n",
       "      <td>37057</td>\n",
       "      <td>Rufiji</td>\n",
       "      <td>Mbeya</td>\n",
       "      <td>Mbarali</td>\n",
       "      <td>Chimala</td>\n",
       "      <td>True</td>\n",
       "      <td>VWC</td>\n",
       "      <td>False</td>\n",
       "      <td>handpump</td>\n",
       "      <td>pay monthly</td>\n",
       "      <td>fluoride</td>\n",
       "      <td>enough</td>\n",
       "      <td>borehole</td>\n",
       "      <td>hand pump</td>\n",
       "    </tr>\n",
       "    <tr>\n",
       "      <th>59398</th>\n",
       "      <td>31282</td>\n",
       "      <td>Rufiji</td>\n",
       "      <td>Dodoma</td>\n",
       "      <td>Chamwino</td>\n",
       "      <td>Mvumi Makulu</td>\n",
       "      <td>True</td>\n",
       "      <td>VWC</td>\n",
       "      <td>True</td>\n",
       "      <td>handpump</td>\n",
       "      <td>never pay</td>\n",
       "      <td>good</td>\n",
       "      <td>insufficient</td>\n",
       "      <td>shallow well</td>\n",
       "      <td>hand pump</td>\n",
       "    </tr>\n",
       "    <tr>\n",
       "      <th>59399</th>\n",
       "      <td>26348</td>\n",
       "      <td>Wami / Ruvu</td>\n",
       "      <td>Morogoro</td>\n",
       "      <td>Morogoro Rural</td>\n",
       "      <td>Ngerengere</td>\n",
       "      <td>True</td>\n",
       "      <td>VWC</td>\n",
       "      <td>True</td>\n",
       "      <td>handpump</td>\n",
       "      <td>pay when scheme fails</td>\n",
       "      <td>salty</td>\n",
       "      <td>enough</td>\n",
       "      <td>shallow well</td>\n",
       "      <td>hand pump</td>\n",
       "    </tr>\n",
       "  </tbody>\n",
       "</table>\n",
       "<p>59400 rows × 14 columns</p>\n",
       "</div>"
      ],
      "text/plain": [
       "          id                    basin       region             lga  \\\n",
       "0      69572               Lake Nyasa       Iringa          Ludewa   \n",
       "1       8776            Lake Victoria         Mara       Serengeti   \n",
       "2      34310                  Pangani      Manyara       Simanjiro   \n",
       "3      67743  Ruvuma / Southern Coast       Mtwara        Nanyumbu   \n",
       "4      19728            Lake Victoria       Kagera         Karagwe   \n",
       "...      ...                      ...          ...             ...   \n",
       "59395  60739                  Pangani  Kilimanjaro             Hai   \n",
       "59396  27263                   Rufiji       Iringa          Njombe   \n",
       "59397  37057                   Rufiji        Mbeya         Mbarali   \n",
       "59398  31282                   Rufiji       Dodoma        Chamwino   \n",
       "59399  26348              Wami / Ruvu     Morogoro  Morogoro Rural   \n",
       "\n",
       "                   ward  public_meeting scheme_management  permit  \\\n",
       "0              Mundindi            True               VWC   False   \n",
       "1                 Natta            True             Other    True   \n",
       "2               Ngorika            True               VWC    True   \n",
       "3              Nanyumbu            True               VWC    True   \n",
       "4            Nyakasimbi            True               VWC    True   \n",
       "...                 ...             ...               ...     ...   \n",
       "59395  Masama Magharibi            True       Water Board    True   \n",
       "59396            Ikondo            True               VWC    True   \n",
       "59397           Chimala            True               VWC   False   \n",
       "59398      Mvumi Makulu            True               VWC    True   \n",
       "59399        Ngerengere            True               VWC    True   \n",
       "\n",
       "      extraction_type_class                payment quality_group  \\\n",
       "0                   gravity           pay annually          good   \n",
       "1                   gravity              never pay          good   \n",
       "2                   gravity         pay per bucket          good   \n",
       "3               submersible              never pay          good   \n",
       "4                   gravity              never pay          good   \n",
       "...                     ...                    ...           ...   \n",
       "59395               gravity         pay per bucket          good   \n",
       "59396               gravity           pay annually          good   \n",
       "59397              handpump            pay monthly      fluoride   \n",
       "59398              handpump              never pay          good   \n",
       "59399              handpump  pay when scheme fails         salty   \n",
       "\n",
       "           quantity           source_type              waterpoint_type  \n",
       "0            enough                spring           communal standpipe  \n",
       "1      insufficient  rainwater harvesting           communal standpipe  \n",
       "2            enough                   dam  communal standpipe multiple  \n",
       "3               dry              borehole  communal standpipe multiple  \n",
       "4          seasonal  rainwater harvesting           communal standpipe  \n",
       "...             ...                   ...                          ...  \n",
       "59395        enough                spring           communal standpipe  \n",
       "59396        enough            river/lake           communal standpipe  \n",
       "59397        enough              borehole                    hand pump  \n",
       "59398  insufficient          shallow well                    hand pump  \n",
       "59399        enough          shallow well                    hand pump  \n",
       "\n",
       "[59400 rows x 14 columns]"
      ]
     },
     "execution_count": 221,
     "metadata": {},
     "output_type": "execute_result"
    }
   ],
   "source": [
    "raw_cat_df"
   ]
  },
  {
   "cell_type": "markdown",
   "id": "7e40d3aa",
   "metadata": {},
   "source": [
    "Since we are only using id to merge the encoded categoricals together with our numerical data, we have reduced our categorical features from 30 to 13. Additionally, we still have in 'region', 'lga', and 'ward' that all refer to some geographical area and we are trying to decide which to use.\n",
    "\n",
    "For if we end up only using one, then we will have 11 features to encode."
   ]
  },
  {
   "cell_type": "code",
   "execution_count": 219,
   "id": "eaa89c89",
   "metadata": {
    "ExecuteTime": {
     "end_time": "2022-02-01T18:45:58.661317Z",
     "start_time": "2022-02-01T18:45:58.639356Z"
    }
   },
   "outputs": [
    {
     "data": {
      "text/html": [
       "<div>\n",
       "<style scoped>\n",
       "    .dataframe tbody tr th:only-of-type {\n",
       "        vertical-align: middle;\n",
       "    }\n",
       "\n",
       "    .dataframe tbody tr th {\n",
       "        vertical-align: top;\n",
       "    }\n",
       "\n",
       "    .dataframe thead th {\n",
       "        text-align: right;\n",
       "    }\n",
       "</style>\n",
       "<table border=\"1\" class=\"dataframe\">\n",
       "  <thead>\n",
       "    <tr style=\"text-align: right;\">\n",
       "      <th></th>\n",
       "      <th>id</th>\n",
       "      <th>amount_tsh</th>\n",
       "      <th>gps_height</th>\n",
       "      <th>longitude</th>\n",
       "      <th>latitude</th>\n",
       "      <th>region_code</th>\n",
       "      <th>population</th>\n",
       "      <th>target</th>\n",
       "      <th>age</th>\n",
       "    </tr>\n",
       "  </thead>\n",
       "  <tbody>\n",
       "    <tr>\n",
       "      <th>0</th>\n",
       "      <td>69572</td>\n",
       "      <td>6000.0</td>\n",
       "      <td>1390.0</td>\n",
       "      <td>34.938093</td>\n",
       "      <td>-9.856322</td>\n",
       "      <td>11</td>\n",
       "      <td>109</td>\n",
       "      <td>2</td>\n",
       "      <td>12</td>\n",
       "    </tr>\n",
       "    <tr>\n",
       "      <th>1</th>\n",
       "      <td>8776</td>\n",
       "      <td>0.0</td>\n",
       "      <td>1399.0</td>\n",
       "      <td>34.698766</td>\n",
       "      <td>-2.147466</td>\n",
       "      <td>20</td>\n",
       "      <td>280</td>\n",
       "      <td>2</td>\n",
       "      <td>3</td>\n",
       "    </tr>\n",
       "    <tr>\n",
       "      <th>2</th>\n",
       "      <td>34310</td>\n",
       "      <td>25.0</td>\n",
       "      <td>686.0</td>\n",
       "      <td>37.460664</td>\n",
       "      <td>-3.821329</td>\n",
       "      <td>21</td>\n",
       "      <td>250</td>\n",
       "      <td>2</td>\n",
       "      <td>4</td>\n",
       "    </tr>\n",
       "    <tr>\n",
       "      <th>3</th>\n",
       "      <td>67743</td>\n",
       "      <td>0.0</td>\n",
       "      <td>263.0</td>\n",
       "      <td>38.486161</td>\n",
       "      <td>-11.155298</td>\n",
       "      <td>9</td>\n",
       "      <td>58</td>\n",
       "      <td>0</td>\n",
       "      <td>27</td>\n",
       "    </tr>\n",
       "    <tr>\n",
       "      <th>4</th>\n",
       "      <td>19728</td>\n",
       "      <td>0.0</td>\n",
       "      <td>0.0</td>\n",
       "      <td>31.130847</td>\n",
       "      <td>-1.825359</td>\n",
       "      <td>18</td>\n",
       "      <td>0</td>\n",
       "      <td>2</td>\n",
       "      <td>99</td>\n",
       "    </tr>\n",
       "    <tr>\n",
       "      <th>...</th>\n",
       "      <td>...</td>\n",
       "      <td>...</td>\n",
       "      <td>...</td>\n",
       "      <td>...</td>\n",
       "      <td>...</td>\n",
       "      <td>...</td>\n",
       "      <td>...</td>\n",
       "      <td>...</td>\n",
       "      <td>...</td>\n",
       "    </tr>\n",
       "    <tr>\n",
       "      <th>59395</th>\n",
       "      <td>60739</td>\n",
       "      <td>10.0</td>\n",
       "      <td>1210.0</td>\n",
       "      <td>37.169807</td>\n",
       "      <td>-3.253847</td>\n",
       "      <td>3</td>\n",
       "      <td>125</td>\n",
       "      <td>2</td>\n",
       "      <td>14</td>\n",
       "    </tr>\n",
       "    <tr>\n",
       "      <th>59396</th>\n",
       "      <td>27263</td>\n",
       "      <td>4700.0</td>\n",
       "      <td>1212.0</td>\n",
       "      <td>35.249991</td>\n",
       "      <td>-9.070629</td>\n",
       "      <td>11</td>\n",
       "      <td>56</td>\n",
       "      <td>2</td>\n",
       "      <td>15</td>\n",
       "    </tr>\n",
       "    <tr>\n",
       "      <th>59397</th>\n",
       "      <td>37057</td>\n",
       "      <td>0.0</td>\n",
       "      <td>0.0</td>\n",
       "      <td>34.017087</td>\n",
       "      <td>-8.750434</td>\n",
       "      <td>12</td>\n",
       "      <td>0</td>\n",
       "      <td>2</td>\n",
       "      <td>99</td>\n",
       "    </tr>\n",
       "    <tr>\n",
       "      <th>59398</th>\n",
       "      <td>31282</td>\n",
       "      <td>0.0</td>\n",
       "      <td>0.0</td>\n",
       "      <td>35.861315</td>\n",
       "      <td>-6.378573</td>\n",
       "      <td>1</td>\n",
       "      <td>0</td>\n",
       "      <td>2</td>\n",
       "      <td>99</td>\n",
       "    </tr>\n",
       "    <tr>\n",
       "      <th>59399</th>\n",
       "      <td>26348</td>\n",
       "      <td>0.0</td>\n",
       "      <td>191.0</td>\n",
       "      <td>38.104048</td>\n",
       "      <td>-6.747464</td>\n",
       "      <td>5</td>\n",
       "      <td>150</td>\n",
       "      <td>2</td>\n",
       "      <td>9</td>\n",
       "    </tr>\n",
       "  </tbody>\n",
       "</table>\n",
       "<p>59400 rows × 9 columns</p>\n",
       "</div>"
      ],
      "text/plain": [
       "          id  amount_tsh  gps_height  longitude   latitude  region_code  \\\n",
       "0      69572      6000.0      1390.0  34.938093  -9.856322           11   \n",
       "1       8776         0.0      1399.0  34.698766  -2.147466           20   \n",
       "2      34310        25.0       686.0  37.460664  -3.821329           21   \n",
       "3      67743         0.0       263.0  38.486161 -11.155298            9   \n",
       "4      19728         0.0         0.0  31.130847  -1.825359           18   \n",
       "...      ...         ...         ...        ...        ...          ...   \n",
       "59395  60739        10.0      1210.0  37.169807  -3.253847            3   \n",
       "59396  27263      4700.0      1212.0  35.249991  -9.070629           11   \n",
       "59397  37057         0.0         0.0  34.017087  -8.750434           12   \n",
       "59398  31282         0.0         0.0  35.861315  -6.378573            1   \n",
       "59399  26348         0.0       191.0  38.104048  -6.747464            5   \n",
       "\n",
       "       population  target  age  \n",
       "0             109       2   12  \n",
       "1             280       2    3  \n",
       "2             250       2    4  \n",
       "3              58       0   27  \n",
       "4               0       2   99  \n",
       "...           ...     ...  ...  \n",
       "59395         125       2   14  \n",
       "59396          56       2   15  \n",
       "59397           0       2   99  \n",
       "59398           0       2   99  \n",
       "59399         150       2    9  \n",
       "\n",
       "[59400 rows x 9 columns]"
      ]
     },
     "execution_count": 219,
     "metadata": {},
     "output_type": "execute_result"
    }
   ],
   "source": [
    "num_df"
   ]
  },
  {
   "cell_type": "markdown",
   "id": "411c9673",
   "metadata": {},
   "source": [
    "Some thoughts:\n",
    "- none of our numerical features are particularly continuous with the exception of latitude and longitude\n",
    "- 'amount_tsh', 'gps_height', 'population' and 'age' all look like we should probably bin them. Do we do that and then encode the binning?\n",
    "- It seems that some models do well with ordinal features. Would we be better served with using region_code over encoding the 'region' feature from categorical data?"
   ]
  },
  {
   "cell_type": "code",
   "execution_count": null,
   "id": "fdbf4796",
   "metadata": {},
   "outputs": [],
   "source": []
  }
 ],
 "metadata": {
  "kernelspec": {
   "display_name": "Python 3 (ipykernel)",
   "language": "python",
   "name": "python3"
  },
  "language_info": {
   "codemirror_mode": {
    "name": "ipython",
    "version": 3
   },
   "file_extension": ".py",
   "mimetype": "text/x-python",
   "name": "python",
   "nbconvert_exporter": "python",
   "pygments_lexer": "ipython3",
   "version": "3.8.5"
  },
  "toc": {
   "base_numbering": 1,
   "nav_menu": {},
   "number_sections": true,
   "sideBar": true,
   "skip_h1_title": false,
   "title_cell": "Table of Contents",
   "title_sidebar": "Contents",
   "toc_cell": false,
   "toc_position": {
    "height": "calc(100% - 180px)",
    "left": "10px",
    "top": "150px",
    "width": "408.466px"
   },
   "toc_section_display": true,
   "toc_window_display": true
  }
 },
 "nbformat": 4,
 "nbformat_minor": 5
}
