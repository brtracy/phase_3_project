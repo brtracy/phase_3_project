{
 "cells": [
  {
   "cell_type": "markdown",
   "id": "0a71775f",
   "metadata": {},
   "source": [
    "# Business Problem"
   ]
  },
  {
   "cell_type": "markdown",
   "id": "979e1579",
   "metadata": {},
   "source": [
    "The Tanzania Development Trust is a UK charitable organization operating within the country of Tanzania since 1975.\n",
    "\n",
    "They focus on development in rural Tanzania, aiming to support small projects in the poorest parts of the country where one of their priority areas of funding is clean water. Their stated water project involves boreholing and rope pump installation in areas with limited access to clean water, currently located in the regions of Kagera and Kigoma in the northwest of the country.\n",
    "\n",
    "A new benefactor wants to expand the project not only geographically to more of the country, but in the scope of repairing existing pumps before they fail. I have been tasked with developing a model to predict the operating condition of a current waterpoint: functional, needs repair, or non-functional.\n",
    "\n",
    "The main objective is to identify waterpoints that are in need of repair. [Research shows](https://sswm.info/entrepreneurship-resource/developing-impactful-businesses/maintenance-services-for-rural-water-pumps) that it is much less expensive to repair and rehabilitate a waterpoint, as well as being more protective of the water resources in the country. \n",
    "The secondary objective is to identify concentrations of non-functioning water points that may be an eligible location for a new installation.\n",
    "______________________\n",
    "The data provided for modeling was collected between March 2011 and March 2013, and contains the information for 59,400 water points "
   ]
  },
  {
   "cell_type": "markdown",
   "id": "ff431296",
   "metadata": {},
   "source": [
    "# Imports"
   ]
  },
  {
   "cell_type": "code",
   "execution_count": 55,
   "id": "ac7e0ce4",
   "metadata": {
    "ExecuteTime": {
     "end_time": "2022-01-23T19:51:20.087817Z",
     "start_time": "2022-01-23T19:51:20.072858Z"
    }
   },
   "outputs": [],
   "source": [
    "import pandas as pd\n",
    "import numpy as np"
   ]
  },
  {
   "cell_type": "code",
   "execution_count": 1,
   "id": "56c8e212",
   "metadata": {
    "ExecuteTime": {
     "end_time": "2022-01-23T19:11:58.643576Z",
     "start_time": "2022-01-23T19:11:57.681900Z"
    },
    "scrolled": true
   },
   "outputs": [
    {
     "name": "stdout",
     "output_type": "stream",
     "text": [
      "<class 'pandas.core.frame.DataFrame'>\n",
      "RangeIndex: 59400 entries, 0 to 59399\n",
      "Data columns (total 2 columns):\n",
      " #   Column        Non-Null Count  Dtype \n",
      "---  ------        --------------  ----- \n",
      " 0   id            59400 non-null  int64 \n",
      " 1   status_group  59400 non-null  object\n",
      "dtypes: int64(1), object(1)\n",
      "memory usage: 928.2+ KB\n"
     ]
    },
    {
     "data": {
      "text/plain": [
       "None"
      ]
     },
     "metadata": {},
     "output_type": "display_data"
    },
    {
     "name": "stdout",
     "output_type": "stream",
     "text": [
      "<class 'pandas.core.frame.DataFrame'>\n",
      "RangeIndex: 59400 entries, 0 to 59399\n",
      "Data columns (total 40 columns):\n",
      " #   Column                 Non-Null Count  Dtype  \n",
      "---  ------                 --------------  -----  \n",
      " 0   id                     59400 non-null  int64  \n",
      " 1   amount_tsh             59400 non-null  float64\n",
      " 2   date_recorded          59400 non-null  object \n",
      " 3   funder                 55765 non-null  object \n",
      " 4   gps_height             59400 non-null  int64  \n",
      " 5   installer              55745 non-null  object \n",
      " 6   longitude              59400 non-null  float64\n",
      " 7   latitude               59400 non-null  float64\n",
      " 8   wpt_name               59400 non-null  object \n",
      " 9   num_private            59400 non-null  int64  \n",
      " 10  basin                  59400 non-null  object \n",
      " 11  subvillage             59029 non-null  object \n",
      " 12  region                 59400 non-null  object \n",
      " 13  region_code            59400 non-null  int64  \n",
      " 14  district_code          59400 non-null  int64  \n",
      " 15  lga                    59400 non-null  object \n",
      " 16  ward                   59400 non-null  object \n",
      " 17  population             59400 non-null  int64  \n",
      " 18  public_meeting         56066 non-null  object \n",
      " 19  recorded_by            59400 non-null  object \n",
      " 20  scheme_management      55523 non-null  object \n",
      " 21  scheme_name            31234 non-null  object \n",
      " 22  permit                 56344 non-null  object \n",
      " 23  construction_year      59400 non-null  int64  \n",
      " 24  extraction_type        59400 non-null  object \n",
      " 25  extraction_type_group  59400 non-null  object \n",
      " 26  extraction_type_class  59400 non-null  object \n",
      " 27  management             59400 non-null  object \n",
      " 28  management_group       59400 non-null  object \n",
      " 29  payment                59400 non-null  object \n",
      " 30  payment_type           59400 non-null  object \n",
      " 31  water_quality          59400 non-null  object \n",
      " 32  quality_group          59400 non-null  object \n",
      " 33  quantity               59400 non-null  object \n",
      " 34  quantity_group         59400 non-null  object \n",
      " 35  source                 59400 non-null  object \n",
      " 36  source_type            59400 non-null  object \n",
      " 37  source_class           59400 non-null  object \n",
      " 38  waterpoint_type        59400 non-null  object \n",
      " 39  waterpoint_type_group  59400 non-null  object \n",
      "dtypes: float64(3), int64(7), object(30)\n",
      "memory usage: 18.1+ MB\n",
      "None\n"
     ]
    }
   ],
   "source": [
    "# import training data and target\n",
    "raw_data = pd.read_csv('data/training_data.csv')\n",
    "raw_target = pd.read_csv('data/training_target.csv')\n",
    "\n",
    "display(raw_target.info())\n",
    "print(raw_data.info())"
   ]
  },
  {
   "cell_type": "markdown",
   "id": "346fa101",
   "metadata": {},
   "source": [
    "Create a raw dataframe with merged data and target. We will use this df during initial EDA so we can compare feature relationships with target, and so we can understand and deal with null values"
   ]
  },
  {
   "cell_type": "code",
   "execution_count": 2,
   "id": "d1dfaee1",
   "metadata": {
    "ExecuteTime": {
     "end_time": "2022-01-23T19:12:03.715877Z",
     "start_time": "2022-01-23T19:12:03.525413Z"
    }
   },
   "outputs": [],
   "source": [
    "raw_df = pd.merge(raw_data, raw_target, on='id')"
   ]
  },
  {
   "cell_type": "markdown",
   "id": "9cec82c3",
   "metadata": {},
   "source": [
    "The dataset for training includes 59,400 entries with 40 total features and a target label."
   ]
  },
  {
   "cell_type": "code",
   "execution_count": 3,
   "id": "97ada609",
   "metadata": {
    "ExecuteTime": {
     "end_time": "2022-01-23T19:12:05.472872Z",
     "start_time": "2022-01-23T19:12:05.445945Z"
    }
   },
   "outputs": [
    {
     "data": {
      "text/html": [
       "<div>\n",
       "<style scoped>\n",
       "    .dataframe tbody tr th:only-of-type {\n",
       "        vertical-align: middle;\n",
       "    }\n",
       "\n",
       "    .dataframe tbody tr th {\n",
       "        vertical-align: top;\n",
       "    }\n",
       "\n",
       "    .dataframe thead th {\n",
       "        text-align: right;\n",
       "    }\n",
       "</style>\n",
       "<table border=\"1\" class=\"dataframe\">\n",
       "  <thead>\n",
       "    <tr style=\"text-align: right;\">\n",
       "      <th></th>\n",
       "      <th>status_group</th>\n",
       "      <th>percent</th>\n",
       "    </tr>\n",
       "  </thead>\n",
       "  <tbody>\n",
       "    <tr>\n",
       "      <th>functional</th>\n",
       "      <td>32259</td>\n",
       "      <td>54.308081</td>\n",
       "    </tr>\n",
       "    <tr>\n",
       "      <th>non functional</th>\n",
       "      <td>22824</td>\n",
       "      <td>38.424242</td>\n",
       "    </tr>\n",
       "    <tr>\n",
       "      <th>functional needs repair</th>\n",
       "      <td>4317</td>\n",
       "      <td>7.267677</td>\n",
       "    </tr>\n",
       "  </tbody>\n",
       "</table>\n",
       "</div>"
      ],
      "text/plain": [
       "                         status_group    percent\n",
       "functional                      32259  54.308081\n",
       "non functional                  22824  38.424242\n",
       "functional needs repair          4317   7.267677"
      ]
     },
     "execution_count": 3,
     "metadata": {},
     "output_type": "execute_result"
    }
   ],
   "source": [
    "status_values = pd.DataFrame(raw_df.status_group.value_counts())\n",
    "status_values['percent'] = raw_df.status_group.value_counts(normalize=True) * 100\n",
    "status_values"
   ]
  },
  {
   "cell_type": "markdown",
   "id": "9ce9e137",
   "metadata": {},
   "source": [
    "This is a ternary classification problem. The three possible values are:\n",
    "- functional (F)\n",
    "- non functional (NF)\n",
    "- functional needs repair (FR)\n",
    "\n",
    "Value counts show that our dataset is not balanced with respect to the label values. Only 7.3% of pumps are classified as functional needs repair, while 54.3% are functional and 38.4% are non functional. We will need to keep this imbalance in mind when modeling.\n",
    "_________\n",
    "Before any modeling can occur we must check and deal with null values\n"
   ]
  },
  {
   "cell_type": "markdown",
   "id": "7a1b0deb",
   "metadata": {},
   "source": [
    "# Null Checks"
   ]
  },
  {
   "cell_type": "code",
   "execution_count": 4,
   "id": "968a1033",
   "metadata": {
    "ExecuteTime": {
     "end_time": "2022-01-23T19:12:09.109268Z",
     "start_time": "2022-01-23T19:12:09.016487Z"
    }
   },
   "outputs": [
    {
     "data": {
      "text/html": [
       "<div>\n",
       "<style scoped>\n",
       "    .dataframe tbody tr th:only-of-type {\n",
       "        vertical-align: middle;\n",
       "    }\n",
       "\n",
       "    .dataframe tbody tr th {\n",
       "        vertical-align: top;\n",
       "    }\n",
       "\n",
       "    .dataframe thead th {\n",
       "        text-align: right;\n",
       "    }\n",
       "</style>\n",
       "<table border=\"1\" class=\"dataframe\">\n",
       "  <thead>\n",
       "    <tr style=\"text-align: right;\">\n",
       "      <th></th>\n",
       "      <th>null_count</th>\n",
       "      <th>percent_of_data</th>\n",
       "    </tr>\n",
       "  </thead>\n",
       "  <tbody>\n",
       "    <tr>\n",
       "      <th>scheme_name</th>\n",
       "      <td>28166</td>\n",
       "      <td>47.417508</td>\n",
       "    </tr>\n",
       "    <tr>\n",
       "      <th>scheme_management</th>\n",
       "      <td>3877</td>\n",
       "      <td>6.526936</td>\n",
       "    </tr>\n",
       "    <tr>\n",
       "      <th>installer</th>\n",
       "      <td>3655</td>\n",
       "      <td>6.153199</td>\n",
       "    </tr>\n",
       "    <tr>\n",
       "      <th>funder</th>\n",
       "      <td>3635</td>\n",
       "      <td>6.119529</td>\n",
       "    </tr>\n",
       "    <tr>\n",
       "      <th>public_meeting</th>\n",
       "      <td>3334</td>\n",
       "      <td>5.612795</td>\n",
       "    </tr>\n",
       "    <tr>\n",
       "      <th>permit</th>\n",
       "      <td>3056</td>\n",
       "      <td>5.144781</td>\n",
       "    </tr>\n",
       "    <tr>\n",
       "      <th>subvillage</th>\n",
       "      <td>371</td>\n",
       "      <td>0.624579</td>\n",
       "    </tr>\n",
       "  </tbody>\n",
       "</table>\n",
       "</div>"
      ],
      "text/plain": [
       "                   null_count  percent_of_data\n",
       "scheme_name             28166        47.417508\n",
       "scheme_management        3877         6.526936\n",
       "installer                3655         6.153199\n",
       "funder                   3635         6.119529\n",
       "public_meeting           3334         5.612795\n",
       "permit                   3056         5.144781\n",
       "subvillage                371         0.624579"
      ]
     },
     "execution_count": 4,
     "metadata": {},
     "output_type": "execute_result"
    }
   ],
   "source": [
    "null_checks = pd.DataFrame(data=raw_df.isna().sum(),\n",
    "                          columns=['null_count'])\n",
    "null_checks['percent_of_data'] = (null_checks.null_count / len(raw_data)) * 100\n",
    "null_checks = null_checks[null_checks.percent_of_data > 0.0]\n",
    "null_checks.sort_values('percent_of_data', ascending=False, inplace=True)\n",
    "null_checks"
   ]
  },
  {
   "cell_type": "markdown",
   "id": "1fd4b189",
   "metadata": {},
   "source": [
    "There are 7 features with null values in our dataset, and we can what that number of nulls is by percent of total available data. \n",
    "______\n",
    "We will work our way up from the smallest null_count to the largest and decide how to deal with the missing data"
   ]
  },
  {
   "cell_type": "markdown",
   "id": "b25fd29d",
   "metadata": {},
   "source": [
    "## subvillage"
   ]
  },
  {
   "cell_type": "code",
   "execution_count": 6,
   "id": "3734075a",
   "metadata": {
    "ExecuteTime": {
     "end_time": "2022-01-23T19:13:32.283642Z",
     "start_time": "2022-01-23T19:13:32.260703Z"
    }
   },
   "outputs": [
    {
     "data": {
      "text/plain": [
       "functional                 0.552561\n",
       "non functional             0.444744\n",
       "functional needs repair    0.002695\n",
       "Name: status_group, dtype: float64"
      ]
     },
     "execution_count": 6,
     "metadata": {},
     "output_type": "execute_result"
    }
   ],
   "source": [
    "subvillage_nans = raw_df[raw_df.subvillage.isnull()]\n",
    "subvillage_nans.status_group.value_counts(normalize=True)"
   ]
  },
  {
   "cell_type": "markdown",
   "id": "e4db7a1d",
   "metadata": {},
   "source": [
    "The null values in subvillage represent 0.6% of our total data. The distribution of the target label is very close to the whole dataset"
   ]
  },
  {
   "cell_type": "code",
   "execution_count": 7,
   "id": "cce8781d",
   "metadata": {
    "ExecuteTime": {
     "end_time": "2022-01-23T19:13:39.612185Z",
     "start_time": "2022-01-23T19:13:39.592239Z"
    }
   },
   "outputs": [
    {
     "data": {
      "text/plain": [
       "Dodoma    361\n",
       "Mwanza     10\n",
       "Name: region, dtype: int64"
      ]
     },
     "execution_count": 7,
     "metadata": {},
     "output_type": "execute_result"
    }
   ],
   "source": [
    "subvillage_nans.region.value_counts()"
   ]
  },
  {
   "cell_type": "markdown",
   "id": "9ec83bea",
   "metadata": {},
   "source": [
    "All but 10 of our subvillage nan's come from the region of Dodoma, the rest from Mwanza. Lets look at the subvillage distribution of those regions from the whole dataset"
   ]
  },
  {
   "cell_type": "code",
   "execution_count": 8,
   "id": "e564ac0d",
   "metadata": {
    "ExecuteTime": {
     "end_time": "2022-01-23T19:13:43.160883Z",
     "start_time": "2022-01-23T19:13:43.143952Z"
    },
    "scrolled": true
   },
   "outputs": [
    {
     "data": {
      "text/plain": [
       "Kawawa         54\n",
       "Shuleni        43\n",
       "Nyerere        35\n",
       "Azimio         34\n",
       "Majengo        32\n",
       "               ..\n",
       "Foye            1\n",
       "Mtatangwe       1\n",
       "Makao Mapya     1\n",
       "Soya Mjini      1\n",
       "Mgomwa          1\n",
       "Name: subvillage, Length: 705, dtype: int64"
      ]
     },
     "execution_count": 8,
     "metadata": {},
     "output_type": "execute_result"
    }
   ],
   "source": [
    "raw_df[raw_df['region'] == 'Dodoma'].subvillage.value_counts()"
   ]
  },
  {
   "cell_type": "code",
   "execution_count": 9,
   "id": "24901805",
   "metadata": {
    "ExecuteTime": {
     "end_time": "2022-01-23T19:13:46.223269Z",
     "start_time": "2022-01-23T19:13:46.203322Z"
    },
    "scrolled": true
   },
   "outputs": [
    {
     "data": {
      "text/plain": [
       "1                     132\n",
       "Madukani               52\n",
       "Bujingwa               25\n",
       "Shuleni                19\n",
       "Matale                 18\n",
       "                     ... \n",
       "Bukalo                  1\n",
       "Nyambona                1\n",
       "Kabaganda B             1\n",
       "Bulyahilu Center B      1\n",
       "Mwambogwa               1\n",
       "Name: subvillage, Length: 1507, dtype: int64"
      ]
     },
     "execution_count": 9,
     "metadata": {},
     "output_type": "execute_result"
    }
   ],
   "source": [
    "raw_df[raw_df['region'] == 'Mwanza'].subvillage.value_counts()"
   ]
  },
  {
   "cell_type": "markdown",
   "id": "0fe14edf",
   "metadata": {},
   "source": [
    "There are no average or overwhelmingly dominant subvillages that we could assign the null values to. It's not clear if we will use subvillage in modeling, but the best course of action here is to drop the nulls"
   ]
  },
  {
   "cell_type": "code",
   "execution_count": 20,
   "id": "4ad9a891",
   "metadata": {
    "ExecuteTime": {
     "end_time": "2022-01-23T19:22:51.756818Z",
     "start_time": "2022-01-23T19:22:51.718920Z"
    }
   },
   "outputs": [],
   "source": [
    "raw_df.dropna(subset=['subvillage'], inplace=True)"
   ]
  },
  {
   "cell_type": "markdown",
   "id": "4601f6e8",
   "metadata": {},
   "source": [
    "## permit"
   ]
  },
  {
   "cell_type": "code",
   "execution_count": 54,
   "id": "96a1c9cb",
   "metadata": {
    "ExecuteTime": {
     "end_time": "2022-01-23T19:50:03.770733Z",
     "start_time": "2022-01-23T19:50:03.741837Z"
    }
   },
   "outputs": [
    {
     "data": {
      "text/plain": [
       "functional                 54.744764\n",
       "non functional             35.438482\n",
       "functional needs repair     9.816754\n",
       "Name: status_group, dtype: float64"
      ]
     },
     "execution_count": 54,
     "metadata": {},
     "output_type": "execute_result"
    }
   ],
   "source": [
    "permit_nans = raw_df[raw_df.permit.isnull()]\n",
    "permit_nans.status_group.value_counts(normalize=True) * 100"
   ]
  },
  {
   "cell_type": "markdown",
   "id": "0d66e0f6",
   "metadata": {},
   "source": [
    "Distribution of target is approximately the same for entries with no permit value compared to the whole dataset."
   ]
  },
  {
   "cell_type": "code",
   "execution_count": 51,
   "id": "8d96be1f",
   "metadata": {
    "ExecuteTime": {
     "end_time": "2022-01-23T19:47:22.499471Z",
     "start_time": "2022-01-23T19:47:22.485509Z"
    }
   },
   "outputs": [
    {
     "data": {
      "text/plain": [
       "True     0.693066\n",
       "False    0.306934\n",
       "Name: permit, dtype: float64"
      ]
     },
     "execution_count": 51,
     "metadata": {},
     "output_type": "execute_result"
    }
   ],
   "source": [
    "permit_distribution = raw_df.permit.value_counts(normalize=True)\n",
    "permit_distribution"
   ]
  },
  {
   "cell_type": "markdown",
   "id": "447215f0",
   "metadata": {},
   "source": [
    "Per the data documentation, the permit feature is if the water point is permitted or not. Data we do have for this feature show it's about 70/30 in favor of true permitting.\n",
    "We should also change this to a boolean, 1 for true, 0 for false.\n",
    "\n",
    "We should interpolate to fill these 3056 missing datapoints."
   ]
  },
  {
   "cell_type": "code",
   "execution_count": 59,
   "id": "178ccf26",
   "metadata": {
    "ExecuteTime": {
     "end_time": "2022-01-23T20:07:00.030129Z",
     "start_time": "2022-01-23T20:06:59.903468Z"
    }
   },
   "outputs": [
    {
     "data": {
      "text/html": [
       "<div>\n",
       "<style scoped>\n",
       "    .dataframe tbody tr th:only-of-type {\n",
       "        vertical-align: middle;\n",
       "    }\n",
       "\n",
       "    .dataframe tbody tr th {\n",
       "        vertical-align: top;\n",
       "    }\n",
       "\n",
       "    .dataframe thead th {\n",
       "        text-align: right;\n",
       "    }\n",
       "</style>\n",
       "<table border=\"1\" class=\"dataframe\">\n",
       "  <thead>\n",
       "    <tr style=\"text-align: right;\">\n",
       "      <th></th>\n",
       "      <th>id</th>\n",
       "      <th>amount_tsh</th>\n",
       "      <th>date_recorded</th>\n",
       "      <th>funder</th>\n",
       "      <th>gps_height</th>\n",
       "      <th>installer</th>\n",
       "      <th>longitude</th>\n",
       "      <th>latitude</th>\n",
       "      <th>wpt_name</th>\n",
       "      <th>num_private</th>\n",
       "      <th>...</th>\n",
       "      <th>water_quality</th>\n",
       "      <th>quality_group</th>\n",
       "      <th>quantity</th>\n",
       "      <th>quantity_group</th>\n",
       "      <th>source</th>\n",
       "      <th>source_type</th>\n",
       "      <th>source_class</th>\n",
       "      <th>waterpoint_type</th>\n",
       "      <th>waterpoint_type_group</th>\n",
       "      <th>status_group</th>\n",
       "    </tr>\n",
       "  </thead>\n",
       "  <tbody>\n",
       "    <tr>\n",
       "      <th>0</th>\n",
       "      <td>69572</td>\n",
       "      <td>6000.0</td>\n",
       "      <td>2011-03-14</td>\n",
       "      <td>Roman</td>\n",
       "      <td>1390</td>\n",
       "      <td>Roman</td>\n",
       "      <td>34.938093</td>\n",
       "      <td>-9.856322</td>\n",
       "      <td>none</td>\n",
       "      <td>0</td>\n",
       "      <td>...</td>\n",
       "      <td>soft</td>\n",
       "      <td>good</td>\n",
       "      <td>enough</td>\n",
       "      <td>enough</td>\n",
       "      <td>spring</td>\n",
       "      <td>spring</td>\n",
       "      <td>groundwater</td>\n",
       "      <td>communal standpipe</td>\n",
       "      <td>communal standpipe</td>\n",
       "      <td>functional</td>\n",
       "    </tr>\n",
       "    <tr>\n",
       "      <th>1</th>\n",
       "      <td>8776</td>\n",
       "      <td>0.0</td>\n",
       "      <td>2013-03-06</td>\n",
       "      <td>Grumeti</td>\n",
       "      <td>1399</td>\n",
       "      <td>GRUMETI</td>\n",
       "      <td>34.698766</td>\n",
       "      <td>-2.147466</td>\n",
       "      <td>Zahanati</td>\n",
       "      <td>0</td>\n",
       "      <td>...</td>\n",
       "      <td>soft</td>\n",
       "      <td>good</td>\n",
       "      <td>insufficient</td>\n",
       "      <td>insufficient</td>\n",
       "      <td>rainwater harvesting</td>\n",
       "      <td>rainwater harvesting</td>\n",
       "      <td>surface</td>\n",
       "      <td>communal standpipe</td>\n",
       "      <td>communal standpipe</td>\n",
       "      <td>functional</td>\n",
       "    </tr>\n",
       "    <tr>\n",
       "      <th>2</th>\n",
       "      <td>34310</td>\n",
       "      <td>25.0</td>\n",
       "      <td>2013-02-25</td>\n",
       "      <td>Lottery Club</td>\n",
       "      <td>686</td>\n",
       "      <td>World vision</td>\n",
       "      <td>37.460664</td>\n",
       "      <td>-3.821329</td>\n",
       "      <td>Kwa Mahundi</td>\n",
       "      <td>0</td>\n",
       "      <td>...</td>\n",
       "      <td>soft</td>\n",
       "      <td>good</td>\n",
       "      <td>enough</td>\n",
       "      <td>enough</td>\n",
       "      <td>dam</td>\n",
       "      <td>dam</td>\n",
       "      <td>surface</td>\n",
       "      <td>communal standpipe multiple</td>\n",
       "      <td>communal standpipe</td>\n",
       "      <td>functional</td>\n",
       "    </tr>\n",
       "    <tr>\n",
       "      <th>3</th>\n",
       "      <td>67743</td>\n",
       "      <td>0.0</td>\n",
       "      <td>2013-01-28</td>\n",
       "      <td>Unicef</td>\n",
       "      <td>263</td>\n",
       "      <td>UNICEF</td>\n",
       "      <td>38.486161</td>\n",
       "      <td>-11.155298</td>\n",
       "      <td>Zahanati Ya Nanyumbu</td>\n",
       "      <td>0</td>\n",
       "      <td>...</td>\n",
       "      <td>soft</td>\n",
       "      <td>good</td>\n",
       "      <td>dry</td>\n",
       "      <td>dry</td>\n",
       "      <td>machine dbh</td>\n",
       "      <td>borehole</td>\n",
       "      <td>groundwater</td>\n",
       "      <td>communal standpipe multiple</td>\n",
       "      <td>communal standpipe</td>\n",
       "      <td>non functional</td>\n",
       "    </tr>\n",
       "    <tr>\n",
       "      <th>4</th>\n",
       "      <td>19728</td>\n",
       "      <td>0.0</td>\n",
       "      <td>2011-07-13</td>\n",
       "      <td>Action In A</td>\n",
       "      <td>0</td>\n",
       "      <td>Artisan</td>\n",
       "      <td>31.130847</td>\n",
       "      <td>-1.825359</td>\n",
       "      <td>Shuleni</td>\n",
       "      <td>0</td>\n",
       "      <td>...</td>\n",
       "      <td>soft</td>\n",
       "      <td>good</td>\n",
       "      <td>seasonal</td>\n",
       "      <td>seasonal</td>\n",
       "      <td>rainwater harvesting</td>\n",
       "      <td>rainwater harvesting</td>\n",
       "      <td>surface</td>\n",
       "      <td>communal standpipe</td>\n",
       "      <td>communal standpipe</td>\n",
       "      <td>functional</td>\n",
       "    </tr>\n",
       "    <tr>\n",
       "      <th>...</th>\n",
       "      <td>...</td>\n",
       "      <td>...</td>\n",
       "      <td>...</td>\n",
       "      <td>...</td>\n",
       "      <td>...</td>\n",
       "      <td>...</td>\n",
       "      <td>...</td>\n",
       "      <td>...</td>\n",
       "      <td>...</td>\n",
       "      <td>...</td>\n",
       "      <td>...</td>\n",
       "      <td>...</td>\n",
       "      <td>...</td>\n",
       "      <td>...</td>\n",
       "      <td>...</td>\n",
       "      <td>...</td>\n",
       "      <td>...</td>\n",
       "      <td>...</td>\n",
       "      <td>...</td>\n",
       "      <td>...</td>\n",
       "      <td>...</td>\n",
       "    </tr>\n",
       "    <tr>\n",
       "      <th>59395</th>\n",
       "      <td>60739</td>\n",
       "      <td>10.0</td>\n",
       "      <td>2013-05-03</td>\n",
       "      <td>Germany Republi</td>\n",
       "      <td>1210</td>\n",
       "      <td>CES</td>\n",
       "      <td>37.169807</td>\n",
       "      <td>-3.253847</td>\n",
       "      <td>Area Three Namba 27</td>\n",
       "      <td>0</td>\n",
       "      <td>...</td>\n",
       "      <td>soft</td>\n",
       "      <td>good</td>\n",
       "      <td>enough</td>\n",
       "      <td>enough</td>\n",
       "      <td>spring</td>\n",
       "      <td>spring</td>\n",
       "      <td>groundwater</td>\n",
       "      <td>communal standpipe</td>\n",
       "      <td>communal standpipe</td>\n",
       "      <td>functional</td>\n",
       "    </tr>\n",
       "    <tr>\n",
       "      <th>59396</th>\n",
       "      <td>27263</td>\n",
       "      <td>4700.0</td>\n",
       "      <td>2011-05-07</td>\n",
       "      <td>Cefa-njombe</td>\n",
       "      <td>1212</td>\n",
       "      <td>Cefa</td>\n",
       "      <td>35.249991</td>\n",
       "      <td>-9.070629</td>\n",
       "      <td>Kwa Yahona Kuvala</td>\n",
       "      <td>0</td>\n",
       "      <td>...</td>\n",
       "      <td>soft</td>\n",
       "      <td>good</td>\n",
       "      <td>enough</td>\n",
       "      <td>enough</td>\n",
       "      <td>river</td>\n",
       "      <td>river/lake</td>\n",
       "      <td>surface</td>\n",
       "      <td>communal standpipe</td>\n",
       "      <td>communal standpipe</td>\n",
       "      <td>functional</td>\n",
       "    </tr>\n",
       "    <tr>\n",
       "      <th>59397</th>\n",
       "      <td>37057</td>\n",
       "      <td>0.0</td>\n",
       "      <td>2011-04-11</td>\n",
       "      <td>NaN</td>\n",
       "      <td>0</td>\n",
       "      <td>NaN</td>\n",
       "      <td>34.017087</td>\n",
       "      <td>-8.750434</td>\n",
       "      <td>Mashine</td>\n",
       "      <td>0</td>\n",
       "      <td>...</td>\n",
       "      <td>fluoride</td>\n",
       "      <td>fluoride</td>\n",
       "      <td>enough</td>\n",
       "      <td>enough</td>\n",
       "      <td>machine dbh</td>\n",
       "      <td>borehole</td>\n",
       "      <td>groundwater</td>\n",
       "      <td>hand pump</td>\n",
       "      <td>hand pump</td>\n",
       "      <td>functional</td>\n",
       "    </tr>\n",
       "    <tr>\n",
       "      <th>59398</th>\n",
       "      <td>31282</td>\n",
       "      <td>0.0</td>\n",
       "      <td>2011-03-08</td>\n",
       "      <td>Malec</td>\n",
       "      <td>0</td>\n",
       "      <td>Musa</td>\n",
       "      <td>35.861315</td>\n",
       "      <td>-6.378573</td>\n",
       "      <td>Mshoro</td>\n",
       "      <td>0</td>\n",
       "      <td>...</td>\n",
       "      <td>soft</td>\n",
       "      <td>good</td>\n",
       "      <td>insufficient</td>\n",
       "      <td>insufficient</td>\n",
       "      <td>shallow well</td>\n",
       "      <td>shallow well</td>\n",
       "      <td>groundwater</td>\n",
       "      <td>hand pump</td>\n",
       "      <td>hand pump</td>\n",
       "      <td>functional</td>\n",
       "    </tr>\n",
       "    <tr>\n",
       "      <th>59399</th>\n",
       "      <td>26348</td>\n",
       "      <td>0.0</td>\n",
       "      <td>2011-03-23</td>\n",
       "      <td>World Bank</td>\n",
       "      <td>191</td>\n",
       "      <td>World</td>\n",
       "      <td>38.104048</td>\n",
       "      <td>-6.747464</td>\n",
       "      <td>Kwa Mzee Lugawa</td>\n",
       "      <td>0</td>\n",
       "      <td>...</td>\n",
       "      <td>salty</td>\n",
       "      <td>salty</td>\n",
       "      <td>enough</td>\n",
       "      <td>enough</td>\n",
       "      <td>shallow well</td>\n",
       "      <td>shallow well</td>\n",
       "      <td>groundwater</td>\n",
       "      <td>hand pump</td>\n",
       "      <td>hand pump</td>\n",
       "      <td>functional</td>\n",
       "    </tr>\n",
       "  </tbody>\n",
       "</table>\n",
       "<p>55973 rows × 41 columns</p>\n",
       "</div>"
      ],
      "text/plain": [
       "          id  amount_tsh date_recorded           funder  gps_height  \\\n",
       "0      69572      6000.0    2011-03-14            Roman        1390   \n",
       "1       8776         0.0    2013-03-06          Grumeti        1399   \n",
       "2      34310        25.0    2013-02-25     Lottery Club         686   \n",
       "3      67743         0.0    2013-01-28           Unicef         263   \n",
       "4      19728         0.0    2011-07-13      Action In A           0   \n",
       "...      ...         ...           ...              ...         ...   \n",
       "59395  60739        10.0    2013-05-03  Germany Republi        1210   \n",
       "59396  27263      4700.0    2011-05-07      Cefa-njombe        1212   \n",
       "59397  37057         0.0    2011-04-11              NaN           0   \n",
       "59398  31282         0.0    2011-03-08            Malec           0   \n",
       "59399  26348         0.0    2011-03-23       World Bank         191   \n",
       "\n",
       "          installer  longitude   latitude              wpt_name  num_private  \\\n",
       "0             Roman  34.938093  -9.856322                  none            0   \n",
       "1           GRUMETI  34.698766  -2.147466              Zahanati            0   \n",
       "2      World vision  37.460664  -3.821329           Kwa Mahundi            0   \n",
       "3            UNICEF  38.486161 -11.155298  Zahanati Ya Nanyumbu            0   \n",
       "4           Artisan  31.130847  -1.825359               Shuleni            0   \n",
       "...             ...        ...        ...                   ...          ...   \n",
       "59395           CES  37.169807  -3.253847   Area Three Namba 27            0   \n",
       "59396          Cefa  35.249991  -9.070629     Kwa Yahona Kuvala            0   \n",
       "59397           NaN  34.017087  -8.750434               Mashine            0   \n",
       "59398          Musa  35.861315  -6.378573                Mshoro            0   \n",
       "59399         World  38.104048  -6.747464       Kwa Mzee Lugawa            0   \n",
       "\n",
       "       ... water_quality quality_group      quantity  quantity_group  \\\n",
       "0      ...          soft          good        enough          enough   \n",
       "1      ...          soft          good  insufficient    insufficient   \n",
       "2      ...          soft          good        enough          enough   \n",
       "3      ...          soft          good           dry             dry   \n",
       "4      ...          soft          good      seasonal        seasonal   \n",
       "...    ...           ...           ...           ...             ...   \n",
       "59395  ...          soft          good        enough          enough   \n",
       "59396  ...          soft          good        enough          enough   \n",
       "59397  ...      fluoride      fluoride        enough          enough   \n",
       "59398  ...          soft          good  insufficient    insufficient   \n",
       "59399  ...         salty         salty        enough          enough   \n",
       "\n",
       "                     source           source_type source_class  \\\n",
       "0                    spring                spring  groundwater   \n",
       "1      rainwater harvesting  rainwater harvesting      surface   \n",
       "2                       dam                   dam      surface   \n",
       "3               machine dbh              borehole  groundwater   \n",
       "4      rainwater harvesting  rainwater harvesting      surface   \n",
       "...                     ...                   ...          ...   \n",
       "59395                spring                spring  groundwater   \n",
       "59396                 river            river/lake      surface   \n",
       "59397           machine dbh              borehole  groundwater   \n",
       "59398          shallow well          shallow well  groundwater   \n",
       "59399          shallow well          shallow well  groundwater   \n",
       "\n",
       "                   waterpoint_type waterpoint_type_group    status_group  \n",
       "0               communal standpipe    communal standpipe      functional  \n",
       "1               communal standpipe    communal standpipe      functional  \n",
       "2      communal standpipe multiple    communal standpipe      functional  \n",
       "3      communal standpipe multiple    communal standpipe  non functional  \n",
       "4               communal standpipe    communal standpipe      functional  \n",
       "...                            ...                   ...             ...  \n",
       "59395           communal standpipe    communal standpipe      functional  \n",
       "59396           communal standpipe    communal standpipe      functional  \n",
       "59397                    hand pump             hand pump      functional  \n",
       "59398                    hand pump             hand pump      functional  \n",
       "59399                    hand pump             hand pump      functional  \n",
       "\n",
       "[55973 rows x 41 columns]"
      ]
     },
     "execution_count": 59,
     "metadata": {},
     "output_type": "execute_result"
    }
   ],
   "source": [
    "raw_df[raw_df.permit.notnull()]"
   ]
  },
  {
   "cell_type": "code",
   "execution_count": null,
   "id": "9fb9e55c",
   "metadata": {},
   "outputs": [],
   "source": [
    "raw_df['permit'].apply(lambda x: 1 if x == 'True', 0 if )"
   ]
  },
  {
   "cell_type": "code",
   "execution_count": null,
   "id": "b220acfb",
   "metadata": {},
   "outputs": [],
   "source": [
    "raw_df['permit'] "
   ]
  },
  {
   "cell_type": "markdown",
   "id": "7d40001b",
   "metadata": {
    "heading_collapsed": true
   },
   "source": [
    "## public_meeting"
   ]
  },
  {
   "cell_type": "code",
   "execution_count": null,
   "id": "decb1706",
   "metadata": {
    "hidden": true
   },
   "outputs": [],
   "source": []
  },
  {
   "cell_type": "code",
   "execution_count": null,
   "id": "f0c98610",
   "metadata": {
    "hidden": true
   },
   "outputs": [],
   "source": []
  },
  {
   "cell_type": "markdown",
   "id": "32c5affc",
   "metadata": {
    "heading_collapsed": true
   },
   "source": [
    "## funder"
   ]
  },
  {
   "cell_type": "code",
   "execution_count": null,
   "id": "717747a4",
   "metadata": {
    "hidden": true
   },
   "outputs": [],
   "source": []
  },
  {
   "cell_type": "code",
   "execution_count": null,
   "id": "81cec924",
   "metadata": {
    "hidden": true
   },
   "outputs": [],
   "source": []
  },
  {
   "cell_type": "markdown",
   "id": "f64c5b95",
   "metadata": {
    "heading_collapsed": true
   },
   "source": [
    "## installer"
   ]
  },
  {
   "cell_type": "code",
   "execution_count": null,
   "id": "8a0ed645",
   "metadata": {
    "hidden": true
   },
   "outputs": [],
   "source": []
  },
  {
   "cell_type": "code",
   "execution_count": null,
   "id": "179b2dcc",
   "metadata": {
    "hidden": true
   },
   "outputs": [],
   "source": []
  },
  {
   "cell_type": "markdown",
   "id": "524b6190",
   "metadata": {
    "heading_collapsed": true
   },
   "source": [
    "## scheme_management"
   ]
  },
  {
   "cell_type": "code",
   "execution_count": null,
   "id": "82cd1b09",
   "metadata": {
    "hidden": true
   },
   "outputs": [],
   "source": []
  },
  {
   "cell_type": "code",
   "execution_count": null,
   "id": "2a65f1ac",
   "metadata": {
    "hidden": true
   },
   "outputs": [],
   "source": []
  },
  {
   "cell_type": "markdown",
   "id": "4f4a652a",
   "metadata": {
    "heading_collapsed": true
   },
   "source": [
    "## scheme_name"
   ]
  },
  {
   "cell_type": "code",
   "execution_count": null,
   "id": "3aece90d",
   "metadata": {
    "hidden": true
   },
   "outputs": [],
   "source": []
  },
  {
   "cell_type": "code",
   "execution_count": null,
   "id": "045f92b6",
   "metadata": {
    "hidden": true
   },
   "outputs": [],
   "source": []
  },
  {
   "cell_type": "markdown",
   "id": "5dda5f80",
   "metadata": {},
   "source": [
    "# Exploring extraction types"
   ]
  },
  {
   "cell_type": "code",
   "execution_count": 57,
   "id": "1973025e",
   "metadata": {
    "ExecuteTime": {
     "end_time": "2022-01-23T19:58:57.976017Z",
     "start_time": "2022-01-23T19:58:57.906008Z"
    },
    "scrolled": false
   },
   "outputs": [
    {
     "data": {
      "text/html": [
       "<div>\n",
       "<style scoped>\n",
       "    .dataframe tbody tr th:only-of-type {\n",
       "        vertical-align: middle;\n",
       "    }\n",
       "\n",
       "    .dataframe tbody tr th {\n",
       "        vertical-align: top;\n",
       "    }\n",
       "\n",
       "    .dataframe thead th {\n",
       "        text-align: right;\n",
       "    }\n",
       "</style>\n",
       "<table border=\"1\" class=\"dataframe\">\n",
       "  <thead>\n",
       "    <tr style=\"text-align: right;\">\n",
       "      <th></th>\n",
       "      <th>total_count</th>\n",
       "      <th>percent_of_total</th>\n",
       "      <th>non-functional</th>\n",
       "      <th>non-functional_percent</th>\n",
       "      <th>needs_repair</th>\n",
       "      <th>needs_repair_percent</th>\n",
       "    </tr>\n",
       "  </thead>\n",
       "  <tbody>\n",
       "    <tr>\n",
       "      <th>gravity</th>\n",
       "      <td>26646</td>\n",
       "      <td>45.14</td>\n",
       "      <td>7988</td>\n",
       "      <td>29.98</td>\n",
       "      <td>2701</td>\n",
       "      <td>10.14</td>\n",
       "    </tr>\n",
       "    <tr>\n",
       "      <th>nira/tanira</th>\n",
       "      <td>8151</td>\n",
       "      <td>13.81</td>\n",
       "      <td>2089</td>\n",
       "      <td>25.63</td>\n",
       "      <td>641</td>\n",
       "      <td>7.86</td>\n",
       "    </tr>\n",
       "    <tr>\n",
       "      <th>other</th>\n",
       "      <td>6421</td>\n",
       "      <td>10.88</td>\n",
       "      <td>5189</td>\n",
       "      <td>80.81</td>\n",
       "      <td>205</td>\n",
       "      <td>3.19</td>\n",
       "    </tr>\n",
       "    <tr>\n",
       "      <th>submersible</th>\n",
       "      <td>4656</td>\n",
       "      <td>7.89</td>\n",
       "      <td>1858</td>\n",
       "      <td>39.91</td>\n",
       "      <td>227</td>\n",
       "      <td>4.88</td>\n",
       "    </tr>\n",
       "    <tr>\n",
       "      <th>swn 80</th>\n",
       "      <td>3670</td>\n",
       "      <td>6.22</td>\n",
       "      <td>1368</td>\n",
       "      <td>37.28</td>\n",
       "      <td>212</td>\n",
       "      <td>5.78</td>\n",
       "    </tr>\n",
       "    <tr>\n",
       "      <th>mono</th>\n",
       "      <td>2748</td>\n",
       "      <td>4.66</td>\n",
       "      <td>1594</td>\n",
       "      <td>58.01</td>\n",
       "      <td>129</td>\n",
       "      <td>4.69</td>\n",
       "    </tr>\n",
       "    <tr>\n",
       "      <th>india mark ii</th>\n",
       "      <td>2400</td>\n",
       "      <td>4.07</td>\n",
       "      <td>873</td>\n",
       "      <td>36.38</td>\n",
       "      <td>79</td>\n",
       "      <td>3.29</td>\n",
       "    </tr>\n",
       "    <tr>\n",
       "      <th>afridev</th>\n",
       "      <td>1770</td>\n",
       "      <td>3.00</td>\n",
       "      <td>528</td>\n",
       "      <td>29.83</td>\n",
       "      <td>42</td>\n",
       "      <td>2.37</td>\n",
       "    </tr>\n",
       "    <tr>\n",
       "      <th>ksb</th>\n",
       "      <td>1415</td>\n",
       "      <td>2.40</td>\n",
       "      <td>686</td>\n",
       "      <td>48.48</td>\n",
       "      <td>26</td>\n",
       "      <td>1.84</td>\n",
       "    </tr>\n",
       "    <tr>\n",
       "      <th>other - rope pump</th>\n",
       "      <td>451</td>\n",
       "      <td>0.76</td>\n",
       "      <td>141</td>\n",
       "      <td>31.26</td>\n",
       "      <td>17</td>\n",
       "      <td>3.77</td>\n",
       "    </tr>\n",
       "    <tr>\n",
       "      <th>other - swn 81</th>\n",
       "      <td>229</td>\n",
       "      <td>0.39</td>\n",
       "      <td>102</td>\n",
       "      <td>44.54</td>\n",
       "      <td>7</td>\n",
       "      <td>3.06</td>\n",
       "    </tr>\n",
       "    <tr>\n",
       "      <th>windmill</th>\n",
       "      <td>117</td>\n",
       "      <td>0.20</td>\n",
       "      <td>60</td>\n",
       "      <td>51.28</td>\n",
       "      <td>7</td>\n",
       "      <td>5.98</td>\n",
       "    </tr>\n",
       "    <tr>\n",
       "      <th>india mark iii</th>\n",
       "      <td>98</td>\n",
       "      <td>0.17</td>\n",
       "      <td>53</td>\n",
       "      <td>54.08</td>\n",
       "      <td>1</td>\n",
       "      <td>1.02</td>\n",
       "    </tr>\n",
       "    <tr>\n",
       "      <th>cemo</th>\n",
       "      <td>90</td>\n",
       "      <td>0.15</td>\n",
       "      <td>36</td>\n",
       "      <td>40.00</td>\n",
       "      <td>9</td>\n",
       "      <td>10.00</td>\n",
       "    </tr>\n",
       "    <tr>\n",
       "      <th>other - play pump</th>\n",
       "      <td>85</td>\n",
       "      <td>0.14</td>\n",
       "      <td>55</td>\n",
       "      <td>64.71</td>\n",
       "      <td>1</td>\n",
       "      <td>1.18</td>\n",
       "    </tr>\n",
       "    <tr>\n",
       "      <th>walimi</th>\n",
       "      <td>48</td>\n",
       "      <td>0.08</td>\n",
       "      <td>13</td>\n",
       "      <td>27.08</td>\n",
       "      <td>12</td>\n",
       "      <td>25.00</td>\n",
       "    </tr>\n",
       "    <tr>\n",
       "      <th>climax</th>\n",
       "      <td>32</td>\n",
       "      <td>0.05</td>\n",
       "      <td>24</td>\n",
       "      <td>75.00</td>\n",
       "      <td>0</td>\n",
       "      <td>0.00</td>\n",
       "    </tr>\n",
       "    <tr>\n",
       "      <th>other - mkulima/shinyanga</th>\n",
       "      <td>2</td>\n",
       "      <td>0.00</td>\n",
       "      <td>2</td>\n",
       "      <td>100.00</td>\n",
       "      <td>0</td>\n",
       "      <td>0.00</td>\n",
       "    </tr>\n",
       "  </tbody>\n",
       "</table>\n",
       "</div>"
      ],
      "text/plain": [
       "                           total_count  percent_of_total  non-functional  \\\n",
       "gravity                          26646             45.14            7988   \n",
       "nira/tanira                       8151             13.81            2089   \n",
       "other                             6421             10.88            5189   \n",
       "submersible                       4656              7.89            1858   \n",
       "swn 80                            3670              6.22            1368   \n",
       "mono                              2748              4.66            1594   \n",
       "india mark ii                     2400              4.07             873   \n",
       "afridev                           1770              3.00             528   \n",
       "ksb                               1415              2.40             686   \n",
       "other - rope pump                  451              0.76             141   \n",
       "other - swn 81                     229              0.39             102   \n",
       "windmill                           117              0.20              60   \n",
       "india mark iii                      98              0.17              53   \n",
       "cemo                                90              0.15              36   \n",
       "other - play pump                   85              0.14              55   \n",
       "walimi                              48              0.08              13   \n",
       "climax                              32              0.05              24   \n",
       "other - mkulima/shinyanga            2              0.00               2   \n",
       "\n",
       "                           non-functional_percent  needs_repair  \\\n",
       "gravity                                     29.98          2701   \n",
       "nira/tanira                                 25.63           641   \n",
       "other                                       80.81           205   \n",
       "submersible                                 39.91           227   \n",
       "swn 80                                      37.28           212   \n",
       "mono                                        58.01           129   \n",
       "india mark ii                               36.38            79   \n",
       "afridev                                     29.83            42   \n",
       "ksb                                         48.48            26   \n",
       "other - rope pump                           31.26            17   \n",
       "other - swn 81                              44.54             7   \n",
       "windmill                                    51.28             7   \n",
       "india mark iii                              54.08             1   \n",
       "cemo                                        40.00             9   \n",
       "other - play pump                           64.71             1   \n",
       "walimi                                      27.08            12   \n",
       "climax                                      75.00             0   \n",
       "other - mkulima/shinyanga                  100.00             0   \n",
       "\n",
       "                           needs_repair_percent  \n",
       "gravity                                   10.14  \n",
       "nira/tanira                                7.86  \n",
       "other                                      3.19  \n",
       "submersible                                4.88  \n",
       "swn 80                                     5.78  \n",
       "mono                                       4.69  \n",
       "india mark ii                              3.29  \n",
       "afridev                                    2.37  \n",
       "ksb                                        1.84  \n",
       "other - rope pump                          3.77  \n",
       "other - swn 81                             3.06  \n",
       "windmill                                   5.98  \n",
       "india mark iii                             1.02  \n",
       "cemo                                      10.00  \n",
       "other - play pump                          1.18  \n",
       "walimi                                    25.00  \n",
       "climax                                     0.00  \n",
       "other - mkulima/shinyanga                  0.00  "
      ]
     },
     "execution_count": 57,
     "metadata": {},
     "output_type": "execute_result"
    }
   ],
   "source": [
    "extraction_types = pd.DataFrame(raw_df.extraction_type.value_counts())\n",
    "extraction_types.columns = ['total_count']\n",
    "extraction_types['percent_of_total'] = round((extraction_types.total_count / len(raw_df)) * 100, 2)\n",
    "extraction_types['non-functional'] = raw_df[raw_df.status_group == 'non functional'].extraction_type.value_counts()\n",
    "extraction_types['non-functional_percent'] = round((extraction_types['non-functional'] / extraction_types.total_count) * 100, 2)\n",
    "extraction_types['needs_repair'] = raw_df[raw_df.status_group == 'functional needs repair'].extraction_type.value_counts()\n",
    "extraction_types.fillna(0.0, inplace=True)\n",
    "extraction_types['needs_repair'] = extraction_types['needs_repair'].astype('int')\n",
    "extraction_types['needs_repair_percent'] = round((extraction_types['needs_repair'] / extraction_types.total_count) * 100, 2)\n",
    "extraction_types"
   ]
  },
  {
   "cell_type": "code",
   "execution_count": null,
   "id": "e3542e2e",
   "metadata": {},
   "outputs": [],
   "source": []
  }
 ],
 "metadata": {
  "kernelspec": {
   "display_name": "Python 3 (ipykernel)",
   "language": "python",
   "name": "python3"
  },
  "language_info": {
   "codemirror_mode": {
    "name": "ipython",
    "version": 3
   },
   "file_extension": ".py",
   "mimetype": "text/x-python",
   "name": "python",
   "nbconvert_exporter": "python",
   "pygments_lexer": "ipython3",
   "version": "3.8.5"
  },
  "toc": {
   "base_numbering": 1,
   "nav_menu": {},
   "number_sections": true,
   "sideBar": true,
   "skip_h1_title": false,
   "title_cell": "Table of Contents",
   "title_sidebar": "Contents",
   "toc_cell": false,
   "toc_position": {},
   "toc_section_display": true,
   "toc_window_display": true
  }
 },
 "nbformat": 4,
 "nbformat_minor": 5
}
